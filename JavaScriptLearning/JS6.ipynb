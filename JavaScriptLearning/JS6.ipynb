{
 "cells": [
  {
   "attachments": {},
   "cell_type": "markdown",
   "metadata": {
    "dotnet_interactive": {
     "language": "csharp"
    },
    "polyglot_notebook": {
     "kernelName": "csharp"
    }
   },
   "source": [
    "# Object Basics"
   ]
  },
  {
   "attachments": {},
   "cell_type": "markdown",
   "metadata": {
    "dotnet_interactive": {
     "language": "csharp"
    },
    "polyglot_notebook": {
     "kernelName": "csharp"
    }
   },
   "source": [
    "An object is a collection of related data and/or functionality. Basically an instance of a class from Python."
   ]
  },
  {
   "cell_type": "code",
   "execution_count": null,
   "metadata": {
    "dotnet_interactive": {
     "language": "javascript"
    },
    "polyglot_notebook": {
     "kernelName": "javascript"
    },
    "vscode": {
     "languageId": "polyglot-notebook"
    }
   },
   "outputs": [],
   "source": [
    "const person = {};"
   ]
  },
  {
   "attachments": {},
   "cell_type": "markdown",
   "metadata": {
    "dotnet_interactive": {
     "language": "javascript"
    },
    "polyglot_notebook": {
     "kernelName": "javascript"
    }
   },
   "source": [
    "This is an empty object, `person`.  \n",
    "This may look very very different than in Python, but that's because the notation of this so-called \"Object in JavaScript\", is actually a \"Dictionary\" in Python.  \n",
    "Here is a more filled out object in JavaScript:"
   ]
  },
  {
   "cell_type": "code",
   "execution_count": null,
   "metadata": {
    "dotnet_interactive": {
     "language": "javascript"
    },
    "polyglot_notebook": {
     "kernelName": "javascript"
    },
    "vscode": {
     "languageId": "polyglot-notebook"
    }
   },
   "outputs": [],
   "source": [
    "const person = {\n",
    "  name: [\"Bob\", \"Smith\"],\n",
    "  age: 32,\n",
    "  bio: function () {\n",
    "    console.log(`${this.name[0]} ${this.name[1]} is ${this.age} years old.`);\n",
    "  },\n",
    "  introduceSelf: function () {\n",
    "    console.log(`Hi! I'm ${this.name[0]}.`);\n",
    "  },\n",
    "};\n",
    "\n",
    "console.log( person.name );\n",
    "\n",
    "person.introduceSelf();"
   ]
  },
  {
   "attachments": {},
   "cell_type": "markdown",
   "metadata": {
    "dotnet_interactive": {
     "language": "javascript"
    },
    "polyglot_notebook": {
     "kernelName": "javascript"
    }
   },
   "source": [
    "Notice how this is a much more visually easy way to create an \"Object\" in JavaScript, rather than making a class. But we will also do that later on."
   ]
  },
  {
   "attachments": {},
   "cell_type": "markdown",
   "metadata": {
    "dotnet_interactive": {
     "language": "javascript"
    },
    "polyglot_notebook": {
     "kernelName": "javascript"
    }
   },
   "source": [
    "The \"keys\" can be treated as attributes. You can use both:"
   ]
  },
  {
   "cell_type": "code",
   "execution_count": null,
   "metadata": {
    "dotnet_interactive": {
     "language": "javascript"
    },
    "polyglot_notebook": {
     "kernelName": "javascript"
    },
    "vscode": {
     "languageId": "polyglot-notebook"
    }
   },
   "outputs": [],
   "source": [
    "const person = {\n",
    "  name: [\"Bob\", \"Smith\"],\n",
    "  age: 32,\n",
    "  bio: function () {\n",
    "    console.log(`${this.name[0]} ${this.name[1]} is ${this.age} years old.`);\n",
    "  },\n",
    "  introduceSelf: function () {\n",
    "    console.log(`Hi! I'm ${this.name[0]}.`);\n",
    "  },\n",
    "};\n",
    "\n",
    "console.log(person[\"age\"]);\n",
    "console.log(person.age);"
   ]
  },
  {
   "attachments": {},
   "cell_type": "markdown",
   "metadata": {
    "dotnet_interactive": {
     "language": "javascript"
    },
    "polyglot_notebook": {
     "kernelName": "javascript"
    }
   },
   "source": [
    "One good use of the bracket notation is that it can be used to dynamically set member values as well as member names, while using dot notation can only set member values. Here is an example:"
   ]
  },
  {
   "cell_type": "code",
   "execution_count": null,
   "metadata": {
    "dotnet_interactive": {
     "language": "javascript"
    },
    "polyglot_notebook": {
     "kernelName": "javascript"
    },
    "vscode": {
     "languageId": "polyglot-notebook"
    }
   },
   "outputs": [],
   "source": [
    "const person = {\n",
    "  name: [\"Bob\", \"Smith\"],\n",
    "  age: 32,\n",
    "  bio: function () {\n",
    "    console.log(`${this.name[0]} ${this.name[1]} is ${this.age} years old.`);\n",
    "  },\n",
    "  introduceSelf: function () {\n",
    "    console.log(`Hi! I'm ${this.name[0]}.`);\n",
    "  },\n",
    "};\n",
    "\n",
    "person[\"value\"] = 1000;\n",
    "\n",
    "console.log(person);"
   ]
  },
  {
   "attachments": {},
   "cell_type": "markdown",
   "metadata": {
    "dotnet_interactive": {
     "language": "javascript"
    },
    "polyglot_notebook": {
     "kernelName": "javascript"
    }
   },
   "source": [
    "Notice `this`, which basically is referring to `person`, A.K.A. ... itself."
   ]
  },
  {
   "attachments": {},
   "cell_type": "markdown",
   "metadata": {
    "dotnet_interactive": {
     "language": "javascript"
    },
    "polyglot_notebook": {
     "kernelName": "javascript"
    }
   },
   "source": [
    "A huge thing to keep note of, is that because these are objects, these are all REFERENCES. Here is a weird anomaly that we also saw in Python:"
   ]
  },
  {
   "cell_type": "code",
   "execution_count": null,
   "metadata": {
    "dotnet_interactive": {
     "language": "javascript"
    },
    "polyglot_notebook": {
     "kernelName": "javascript"
    },
    "vscode": {
     "languageId": "polyglot-notebook"
    }
   },
   "outputs": [],
   "source": [
    "const person = {\n",
    "  name: [\"Bob\", \"Smith\"],\n",
    "  age: 32,\n",
    "  bio: function () {\n",
    "    console.log(`${this.name[0]} ${this.name[1]} is ${this.age} years old.`);\n",
    "  },\n",
    "  introduceSelf: function () {\n",
    "    console.log(`Hi! I'm ${this.name[0]}.`);\n",
    "  },\n",
    "};\n",
    "\n",
    "let person2 = person;\n",
    "person2.name = \"Chris\";\n",
    "console.log(person);\n",
    "console.log(person2);"
   ]
  },
  {
   "attachments": {},
   "cell_type": "markdown",
   "metadata": {
    "dotnet_interactive": {
     "language": "javascript"
    },
    "polyglot_notebook": {
     "kernelName": "javascript"
    }
   },
   "source": [
    "Even though we only changed `person2`, `person` also changed! We can fix this by doing: "
   ]
  },
  {
   "cell_type": "code",
   "execution_count": null,
   "metadata": {
    "dotnet_interactive": {
     "language": "javascript"
    },
    "polyglot_notebook": {
     "kernelName": "javascript"
    },
    "vscode": {
     "languageId": "polyglot-notebook"
    }
   },
   "outputs": [],
   "source": [
    "const person = {\n",
    "  name: [\"Bob\", \"Smith\"],\n",
    "  age: 32,\n",
    "  bio: function () {\n",
    "    console.log(`${this.name[0]} ${this.name[1]} is ${this.age} years old.`);\n",
    "  },\n",
    "  introduceSelf: function () {\n",
    "    console.log(`Hi! I'm ${this.name[0]}.`);\n",
    "  },\n",
    "};\n",
    "\n",
    "let person2 = Object.create(person);\n",
    "person2.name = \"Chris\";\n",
    "console.log(person);\n",
    "console.log(person2);"
   ]
  },
  {
   "attachments": {},
   "cell_type": "markdown",
   "metadata": {
    "dotnet_interactive": {
     "language": "javascript"
    },
    "polyglot_notebook": {
     "kernelName": "javascript"
    }
   },
   "source": [
    "## Constructors"
   ]
  },
  {
   "attachments": {},
   "cell_type": "markdown",
   "metadata": {
    "dotnet_interactive": {
     "language": "javascript"
    },
    "polyglot_notebook": {
     "kernelName": "javascript"
    }
   },
   "source": [
    "In the example above, what if we have more than one person object? We would have to update the `name` attribute by hand all the time like:"
   ]
  },
  {
   "cell_type": "code",
   "execution_count": null,
   "metadata": {
    "dotnet_interactive": {
     "language": "javascript"
    },
    "polyglot_notebook": {
     "kernelName": "javascript"
    },
    "vscode": {
     "languageId": "polyglot-notebook"
    }
   },
   "outputs": [],
   "source": [
    "const person = {\n",
    "  name: [\"Bob\", \"Smith\"],\n",
    "  age: 32,\n",
    "  bio: function () {\n",
    "    console.log(`${this.name[0]} ${this.name[1]} is ${this.age} years old.`);\n",
    "  },\n",
    "  introduceSelf: function () {\n",
    "    console.log(`Hi! I'm ${this.name[0]}.`);\n",
    "  },\n",
    "};\n",
    "\n",
    "let person2 = Object.create(person);\n",
    "let person3 = Object.create(person);\n",
    "let person4 = Object.create(person);\n",
    "person2.name = \"Chris\";\n",
    "person3.name = \"Christina\";\n",
    "person4.name = \"Christine\";\n",
    "\n",
    "console.log(person4);"
   ]
  },
  {
   "attachments": {},
   "cell_type": "markdown",
   "metadata": {
    "dotnet_interactive": {
     "language": "javascript"
    },
    "polyglot_notebook": {
     "kernelName": "javascript"
    }
   },
   "source": [
    "One method is to just use a function that will return the object:"
   ]
  },
  {
   "cell_type": "code",
   "execution_count": null,
   "metadata": {
    "dotnet_interactive": {
     "language": "javascript"
    },
    "polyglot_notebook": {
     "kernelName": "javascript"
    },
    "vscode": {
     "languageId": "polyglot-notebook"
    }
   },
   "outputs": [],
   "source": [
    "function createPerson(name){\n",
    "    const person = {\n",
    "        age: 32,\n",
    "        bio: function () {\n",
    "            console.log(`${this.name[0]} ${this.name[1]} is ${this.age} years old.`);\n",
    "        },\n",
    "        introduceSelf: function () {\n",
    "            console.log(`Hi! I'm ${this.name[0]}.`);\n",
    "        },\n",
    "    };\n",
    "    person[\"name\"] = name;\n",
    "    return person;\n",
    "}\n",
    "\n",
    "let person1 = createPerson(\"Chris\");\n",
    "let person2 = createPerson(\"Christina\");\n",
    "let person3 = createPerson(\"Christine\");\n",
    "\n",
    "console.log(person3);"
   ]
  },
  {
   "attachments": {},
   "cell_type": "markdown",
   "metadata": {
    "dotnet_interactive": {
     "language": "javascript"
    },
    "polyglot_notebook": {
     "kernelName": "javascript"
    }
   },
   "source": [
    "But to actually use a **Constructor**, we do this:"
   ]
  },
  {
   "cell_type": "code",
   "execution_count": null,
   "metadata": {
    "dotnet_interactive": {
     "language": "javascript"
    },
    "polyglot_notebook": {
     "kernelName": "javascript"
    },
    "vscode": {
     "languageId": "polyglot-notebook"
    }
   },
   "outputs": [],
   "source": [
    "function Person(name) {\n",
    "  this.name = name;\n",
    "  this.introduceSelf = function () {\n",
    "    console.log(`Hi! I'm ${this.name}.`);\n",
    "  };\n",
    "}\n",
    "\n",
    "let person1 = new Person(\"Chris\");\n",
    "let person2 = new Person(\"Christina\");\n",
    "let person3 = new Person(\"Christine\");"
   ]
  },
  {
   "attachments": {},
   "cell_type": "markdown",
   "metadata": {
    "dotnet_interactive": {
     "language": "javascript"
    },
    "polyglot_notebook": {
     "kernelName": "javascript"
    }
   },
   "source": [
    "# Object Prototypes"
   ]
  },
  {
   "attachments": {},
   "cell_type": "markdown",
   "metadata": {
    "dotnet_interactive": {
     "language": "javascript"
    },
    "polyglot_notebook": {
     "kernelName": "javascript"
    }
   },
   "source": [
    "Prototypes are basically like Parent-Child in classes, where we inherit attributes and methods from the parent."
   ]
  },
  {
   "cell_type": "code",
   "execution_count": null,
   "metadata": {
    "dotnet_interactive": {
     "language": "javascript"
    },
    "polyglot_notebook": {
     "kernelName": "javascript"
    },
    "vscode": {
     "languageId": "polyglot-notebook"
    }
   },
   "outputs": [],
   "source": [
    "const myObject = {\n",
    "  city: \"Madrid\",\n",
    "  greet() {\n",
    "    console.log(`Greetings from ${this.city}`);\n",
    "  },\n",
    "};\n",
    "\n",
    "console.log(myObject.toString());"
   ]
  },
  {
   "attachments": {},
   "cell_type": "markdown",
   "metadata": {
    "dotnet_interactive": {
     "language": "javascript"
    },
    "polyglot_notebook": {
     "kernelName": "javascript"
    }
   },
   "source": [
    "We may not know what this does, but notice how the `.toString()` method did not exist in our Object creation. Every object in JavaScript has a built-in property, called its prototype. And the prototype is an object, which has its OWN prototype. The chain keeps going until the prototype is \"null\" for its own prototype. Then these prototypes have their own methods and attributes that the Object we created will inherit."
   ]
  },
  {
   "attachments": {},
   "cell_type": "markdown",
   "metadata": {
    "dotnet_interactive": {
     "language": "javascript"
    },
    "polyglot_notebook": {
     "kernelName": "javascript"
    }
   },
   "source": [
    "We can \"Shadow\" Properties, A.K.A Overriding, like this:"
   ]
  },
  {
   "cell_type": "code",
   "execution_count": 6,
   "metadata": {
    "dotnet_interactive": {
     "language": "javascript"
    },
    "polyglot_notebook": {
     "kernelName": "javascript"
    },
    "vscode": {
     "languageId": "polyglot-notebook"
    }
   },
   "outputs": [
    {
     "data": {
      "text/plain": [
       "95"
      ]
     },
     "metadata": {},
     "output_type": "display_data"
    },
    {
     "data": {
      "text/plain": [
       "95"
      ]
     },
     "metadata": {},
     "output_type": "display_data"
    },
    {
     "data": {
      "text/plain": [
       "something else!"
      ]
     },
     "metadata": {},
     "output_type": "display_data"
    },
    {
     "data": {
      "text/plain": [
       "something else!"
      ]
     },
     "metadata": {},
     "output_type": "display_data"
    }
   ],
   "source": [
    "const myDate = new Date(1995, 11, 17);\n",
    "\n",
    "console.log(myDate.getYear()); // 95\n",
    "\n",
    "myDate.getYear = function () {\n",
    "  console.log(\"something else!\");\n",
    "};\n",
    "\n",
    "myDate.getYear(); // 'something else!'"
   ]
  },
  {
   "attachments": {},
   "cell_type": "markdown",
   "metadata": {
    "dotnet_interactive": {
     "language": "javascript"
    },
    "polyglot_notebook": {
     "kernelName": "javascript"
    }
   },
   "source": [
    "Notice how `myDate` had `.getYear` from the `Date` Object, but it got shadowed when we defined our own `.getYear`."
   ]
  },
  {
   "attachments": {},
   "cell_type": "markdown",
   "metadata": {
    "dotnet_interactive": {
     "language": "javascript"
    },
    "polyglot_notebook": {
     "kernelName": "javascript"
    }
   },
   "source": [
    "## Setting a Prototype"
   ]
  },
  {
   "cell_type": "code",
   "execution_count": 9,
   "metadata": {
    "dotnet_interactive": {
     "language": "javascript"
    },
    "polyglot_notebook": {
     "kernelName": "javascript"
    },
    "vscode": {
     "languageId": "polyglot-notebook"
    }
   },
   "outputs": [
    {
     "data": {
      "text/plain": [
       "hello!"
      ]
     },
     "metadata": {},
     "output_type": "display_data"
    },
    {
     "data": {
      "text/plain": [
       "hello!"
      ]
     },
     "metadata": {},
     "output_type": "display_data"
    }
   ],
   "source": [
    "const personPrototype = {\n",
    "  greet() {\n",
    "    console.log(\"hello!\");\n",
    "  },\n",
    "};\n",
    "\n",
    "const carl = Object.create(personPrototype);\n",
    "carl.greet();"
   ]
  },
  {
   "attachments": {},
   "cell_type": "markdown",
   "metadata": {
    "dotnet_interactive": {
     "language": "javascript"
    },
    "polyglot_notebook": {
     "kernelName": "javascript"
    }
   },
   "source": [
    "`Object.create` will create a new object, and also specifies the prototype (parent) of that object. So the object, `carl`, has a prototype of `personPrototype`."
   ]
  },
  {
   "attachments": {},
   "cell_type": "markdown",
   "metadata": {
    "dotnet_interactive": {
     "language": "javascript"
    },
    "polyglot_notebook": {
     "kernelName": "javascript"
    }
   },
   "source": [
    "# Classes"
   ]
  },
  {
   "attachments": {},
   "cell_type": "markdown",
   "metadata": {
    "dotnet_interactive": {
     "language": "javascript"
    },
    "polyglot_notebook": {
     "kernelName": "javascript"
    }
   },
   "source": [
    "Because we know what classes are, we will just look at syntax here:"
   ]
  },
  {
   "cell_type": "code",
   "execution_count": 10,
   "metadata": {
    "dotnet_interactive": {
     "language": "javascript"
    },
    "polyglot_notebook": {
     "kernelName": "javascript"
    },
    "vscode": {
     "languageId": "polyglot-notebook"
    }
   },
   "outputs": [
    {
     "data": {
      "text/plain": [
       "Hi! I'm Chris"
      ]
     },
     "metadata": {},
     "output_type": "display_data"
    },
    {
     "data": {
      "text/plain": [
       "Hi! I'm Chris"
      ]
     },
     "metadata": {},
     "output_type": "display_data"
    }
   ],
   "source": [
    "class Person {\n",
    "\n",
    "  name;\n",
    "\n",
    "  constructor(name) {\n",
    "    this.name = name;\n",
    "  }\n",
    "\n",
    "  introduceSelf() {\n",
    "    console.log(`Hi! I'm ${this.name}`);\n",
    "  }\n",
    "\n",
    "}\n",
    "\n",
    "let person1 = new Person(\"Chris\");\n",
    "person1.introduceSelf();"
   ]
  },
  {
   "attachments": {},
   "cell_type": "markdown",
   "metadata": {
    "dotnet_interactive": {
     "language": "javascript"
    },
    "polyglot_notebook": {
     "kernelName": "javascript"
    }
   },
   "source": [
    "Code below is an example of inheriting another class:"
   ]
  },
  {
   "cell_type": "code",
   "execution_count": 12,
   "metadata": {
    "dotnet_interactive": {
     "language": "javascript"
    },
    "polyglot_notebook": {
     "kernelName": "javascript"
    },
    "vscode": {
     "languageId": "polyglot-notebook"
    }
   },
   "outputs": [
    {
     "data": {
      "text/plain": [
       "Hi! I'm Chris"
      ]
     },
     "metadata": {},
     "output_type": "display_data"
    },
    {
     "data": {
      "text/plain": [
       "Hi! I'm Chris"
      ]
     },
     "metadata": {},
     "output_type": "display_data"
    },
    {
     "data": {
      "text/plain": [
       "My name is Cristian, and I will be your Computer Science professor."
      ]
     },
     "metadata": {},
     "output_type": "display_data"
    },
    {
     "data": {
      "text/plain": [
       "My name is Cristian, and I will be your Computer Science professor."
      ]
     },
     "metadata": {},
     "output_type": "display_data"
    }
   ],
   "source": [
    "class Person {\n",
    "\n",
    "  name;\n",
    "\n",
    "  constructor(name) {\n",
    "    this.name = name;\n",
    "  }\n",
    "\n",
    "  introduceSelf() {\n",
    "    console.log(`Hi! I'm ${this.name}`);\n",
    "  }\n",
    "\n",
    "}\n",
    "\n",
    "class Professor extends Person {\n",
    "\n",
    "  teaches;\n",
    "\n",
    "  constructor(name, teaches) {\n",
    "    super(name);\n",
    "    this.teaches = teaches;\n",
    "  }\n",
    "\n",
    "  introduceSelf() {\n",
    "    console.log(`My name is ${this.name}, and I will be your ${this.teaches} professor.`);\n",
    "  }\n",
    "\n",
    "  grade(paper) {\n",
    "    const grade = Math.floor(Math.random() * (5 - 1) + 1);\n",
    "    console.log(grade);\n",
    "  }\n",
    "\n",
    "}\n",
    "\n",
    "let person1 = new Person(\"Chris\");\n",
    "person1.introduceSelf();\n",
    "let person2 = new Professor(\"Cristian\", \"Computer Science\");\n",
    "person2.introduceSelf();\n"
   ]
  },
  {
   "attachments": {},
   "cell_type": "markdown",
   "metadata": {
    "dotnet_interactive": {
     "language": "javascript"
    },
    "polyglot_notebook": {
     "kernelName": "javascript"
    }
   },
   "source": [
    "Here we have a private attribute/property, which means only the instance/object itself can access the attribute:"
   ]
  },
  {
   "cell_type": "code",
   "execution_count": 13,
   "metadata": {
    "dotnet_interactive": {
     "language": "javascript"
    },
    "polyglot_notebook": {
     "kernelName": "javascript"
    },
    "vscode": {
     "languageId": "polyglot-notebook"
    }
   },
   "outputs": [
    {
     "ename": "Error",
     "evalue": "Private field '#year' must be declared in an enclosing class",
     "output_type": "error",
     "traceback": [
      "Private field '#year' must be declared in an enclosing class"
     ]
    }
   ],
   "source": [
    "class Person {\n",
    "\n",
    "  name;\n",
    "\n",
    "  constructor(name) {\n",
    "    this.name = name;\n",
    "  }\n",
    "\n",
    "  introduceSelf() {\n",
    "    console.log(`Hi! I'm ${this.name}`);\n",
    "  }\n",
    "\n",
    "}\n",
    "\n",
    "class Student extends Person {\n",
    "\n",
    "  #year;\n",
    "\n",
    "  constructor(name, year) {\n",
    "    super(name);\n",
    "    this.#year = year;\n",
    "  }\n",
    "\n",
    "\n",
    "  introduceSelf() {\n",
    "    console.log(`Hi! I'm ${this.name}, and I'm in year ${this.#year}.`);\n",
    "  }\n",
    "\n",
    "  canStudyArchery() {\n",
    "    return this.#year > 1;\n",
    "  }\n",
    "\n",
    "}\n",
    "\n",
    "let person1 = new Student(\"Carmen\", \"First\");\n",
    "person1.#year;"
   ]
  },
  {
   "attachments": {},
   "cell_type": "markdown",
   "metadata": {
    "dotnet_interactive": {
     "language": "javascript"
    },
    "polyglot_notebook": {
     "kernelName": "javascript"
    }
   },
   "source": [
    "Giving the `#` character to an attribute will cause it to be private. You can also cause methods to be private by putting the character behind the method name."
   ]
  },
  {
   "attachments": {},
   "cell_type": "markdown",
   "metadata": {
    "dotnet_interactive": {
     "language": "javascript"
    },
    "polyglot_notebook": {
     "kernelName": "javascript"
    }
   },
   "source": [
    "# Working With JSON"
   ]
  },
  {
   "attachments": {},
   "cell_type": "markdown",
   "metadata": {
    "dotnet_interactive": {
     "language": "javascript"
    },
    "polyglot_notebook": {
     "kernelName": "javascript"
    }
   },
   "source": [
    "**JavaScript Object Notation (JSON)** is a text-based format representing structured data based on JavaScript Object syntax that we learned before. It's commonly used to transmit data in web apps. (Sending data from the server to the client, or vice versa) Any programming language can use JSON as it's just a string, but it's mainly used because it's a STANDARD, so it's easy to parse information."
   ]
  },
  {
   "attachments": {},
   "cell_type": "markdown",
   "metadata": {
    "dotnet_interactive": {
     "language": "javascript"
    },
    "polyglot_notebook": {
     "kernelName": "javascript"
    }
   },
   "source": [
    "Here is an example:"
   ]
  },
  {
   "cell_type": "markdown",
   "metadata": {
    "dotnet_interactive": {
     "language": "javascript"
    },
    "polyglot_notebook": {
     "kernelName": "javascript"
    }
   },
   "source": [
    "{\n",
    "  \"squadName\": \"Super hero squad\",\n",
    "  \"homeTown\": \"Metro City\",\n",
    "  \"formed\": 2016,\n",
    "  \"secretBase\": \"Super tower\",\n",
    "  \"active\": true,\n",
    "  \"members\": [\n",
    "    {\n",
    "      \"name\": \"Molecule Man\",\n",
    "      \"age\": 29,\n",
    "      \"secretIdentity\": \"Dan Jukes\",\n",
    "      \"powers\": [\"Radiation resistance\", \"Turning tiny\", \"Radiation blast\"]\n",
    "    },\n",
    "    {\n",
    "      \"name\": \"Madame Uppercut\",\n",
    "      \"age\": 39,\n",
    "      \"secretIdentity\": \"Jane Wilson\",\n",
    "      \"powers\": [\n",
    "        \"Million tonne punch\",\n",
    "        \"Damage resistance\",\n",
    "        \"Superhuman reflexes\"\n",
    "      ]\n",
    "    },\n",
    "    {\n",
    "      \"name\": \"Eternal Flame\",\n",
    "      \"age\": 1000000,\n",
    "      \"secretIdentity\": \"Unknown\",\n",
    "      \"powers\": [\n",
    "        \"Immortality\",\n",
    "        \"Heat Immunity\",\n",
    "        \"Inferno\",\n",
    "        \"Teleportation\",\n",
    "        \"Interdimensional travel\"\n",
    "      ]\n",
    "    }\n",
    "  ]\n",
    "}"
   ]
  },
  {
   "attachments": {},
   "cell_type": "markdown",
   "metadata": {
    "dotnet_interactive": {
     "language": "html"
    },
    "polyglot_notebook": {
     "kernelName": "html"
    }
   },
   "source": [
    "But if trying to access another web browser's JSON, we would need to use the FETCH API:"
   ]
  },
  {
   "cell_type": "code",
   "execution_count": 1,
   "metadata": {
    "dotnet_interactive": {
     "language": "html"
    },
    "polyglot_notebook": {
     "kernelName": "html"
    },
    "vscode": {
     "languageId": "polyglot-notebook"
    }
   },
   "outputs": [
    {
     "data": {
      "text/html": [
       "<head>\r\n",
       "\r\n",
       "</head>\r\n",
       "\r\n",
       "<body>\r\n",
       "    <p></p>\r\n",
       "    <script>\r\n",
       "        async function populate() {\r\n",
       "\r\n",
       "            const requestURL = 'test1.json';\r\n",
       "            const request = new Request(requestURL);\r\n",
       "\r\n",
       "            const response = await fetch(request);\r\n",
       "            const test1TextForm = await response.text();\r\n",
       "\r\n",
       "            const test1ObjectForm = JSON.parse(test1TextForm);\r\n",
       "        }\r\n",
       "        const par = document.querySelector('p');\r\n",
       "        par.textArea = test1ObjectForm.toString();\r\n",
       "    </script>\r\n",
       "</body>"
      ]
     },
     "metadata": {},
     "output_type": "display_data"
    }
   ],
   "source": [
    "<!DOCTYPE html>\n",
    "<html lang=\"en-us\">\n",
    "  <head>\n",
    "    <meta charset=\"utf-8\">\n",
    "\n",
    "    <title>Our superheroes</title>\n",
    "  </head>\n",
    "\n",
    "  <body>\n",
    "\n",
    "    <script>\n",
    "\n",
    "    async function populate() {\n",
    "\n",
    "      const requestURL = 'https://mdn.github.io/learning-area/javascript/oojs/json/superheroes.json';\n",
    "      const request = new Request(requestURL);\n",
    "\n",
    "      const response = await fetch(request);\n",
    "      const superHeroesText = await response.text();\n",
    "\n",
    "      const superHeroes = JSON.parse(superHeroesText);\n",
    "      populateHeader(superHeroes);\n",
    "      populateHeroes(superHeroes);\n",
    "\n",
    "    }\n",
    "    populate();\n",
    "\n",
    "    </script>\n",
    "  </body>\n",
    "</html>"
   ]
  },
  {
   "attachments": {},
   "cell_type": "markdown",
   "metadata": {
    "dotnet_interactive": {
     "language": "html"
    },
    "polyglot_notebook": {
     "kernelName": "html"
    }
   },
   "source": [
    "We will go over this later!"
   ]
  }
 ],
 "metadata": {
  "kernelspec": {
   "display_name": ".NET (C#)",
   "language": "C#",
   "name": ".net-csharp"
  },
  "polyglot_notebook": {
   "kernelInfo": {
    "defaultKernelName": "csharp",
    "items": [
     {
      "aliases": [
       "c#",
       "C#"
      ],
      "languageName": "C#",
      "name": "csharp"
     },
     {
      "aliases": [],
      "name": ".NET"
     },
     {
      "aliases": [
       "frontend"
      ],
      "name": "vscode"
     },
     {
      "aliases": [
       "js"
      ],
      "languageName": "JavaScript",
      "name": "javascript"
     },
     {
      "aliases": [
       "f#",
       "F#"
      ],
      "languageName": "F#",
      "name": "fsharp"
     },
     {
      "aliases": [],
      "languageName": "HTML",
      "name": "html"
     },
     {
      "aliases": [],
      "languageName": "KQL",
      "name": "kql"
     },
     {
      "aliases": [],
      "languageName": "Mermaid",
      "name": "mermaid"
     },
     {
      "aliases": [
       "powershell"
      ],
      "languageName": "PowerShell",
      "name": "pwsh"
     },
     {
      "aliases": [],
      "languageName": "SQL",
      "name": "sql"
     },
     {
      "aliases": [],
      "name": "value"
     },
     {
      "aliases": [],
      "name": "webview"
     }
    ]
   }
  }
 },
 "nbformat": 4,
 "nbformat_minor": 2
}
