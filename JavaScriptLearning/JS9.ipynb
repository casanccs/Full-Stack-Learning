{
 "cells": [
  {
   "attachments": {},
   "cell_type": "markdown",
   "metadata": {
    "dotnet_interactive": {
     "language": "csharp"
    },
    "polyglot_notebook": {
     "kernelName": "csharp"
    }
   },
   "source": [
    "# Client-Side Storage"
   ]
  },
  {
   "attachments": {},
   "cell_type": "markdown",
   "metadata": {
    "dotnet_interactive": {
     "language": "csharp"
    },
    "polyglot_notebook": {
     "kernelName": "csharp"
    }
   },
   "source": [
    "Client Side storage consists of JavaScript API's that let us store data on the client (like user's machine) and then retrieve it when needed. So it can:  \n",
    "* Personalize the site preferences (dark mode, font size)\n",
    "* Previous site activity (Shopping cart, remember if user was already logged in)\n",
    "* Saving data and assets locally to load quicker\n",
    "* Saving documents"
   ]
  },
  {
   "attachments": {},
   "cell_type": "markdown",
   "metadata": {
    "dotnet_interactive": {
     "language": "csharp"
    },
    "polyglot_notebook": {
     "kernelName": "csharp"
    }
   },
   "source": [
    "But client-size AND server-side storage can be used together. So like downloading music files, and then store them in a client-side database."
   ]
  },
  {
   "attachments": {},
   "cell_type": "markdown",
   "metadata": {
    "dotnet_interactive": {
     "language": "csharp"
    },
    "polyglot_notebook": {
     "kernelName": "csharp"
    }
   },
   "source": [
    "## Old School: Cookies"
   ]
  },
  {
   "attachments": {},
   "cell_type": "markdown",
   "metadata": {
    "dotnet_interactive": {
     "language": "csharp"
    },
    "polyglot_notebook": {
     "kernelName": "csharp"
    }
   },
   "source": [
    "In the early days of the web, sites used cookies to store information. So we will not be learning how to use cookies. Look here for more info: <a href=\"https://developer.mozilla.org/en-US/docs/Web/HTTP/Cookies\">Cookies</a>"
   ]
  },
  {
   "attachments": {},
   "cell_type": "markdown",
   "metadata": {
    "dotnet_interactive": {
     "language": "csharp"
    },
    "polyglot_notebook": {
     "kernelName": "csharp"
    }
   },
   "source": [
    "## New School: Web Storage and IndexedDB"
   ]
  },
  {
   "attachments": {},
   "cell_type": "markdown",
   "metadata": {
    "dotnet_interactive": {
     "language": "csharp"
    },
    "polyglot_notebook": {
     "kernelName": "csharp"
    }
   },
   "source": [
    "1. Web Storage API allows us to store and retrieve small data items consistening of a name and a value. Useful for data like user's name, if they are logged in, color for the background of the screen, etc.\n",
    "2. IndexedDB API provides the browser with a complete database system to store complex data. Store complete set of records, audo files, video files, etc.\n",
    "3. Cache API stores HTTP responses to specific requests, and can store stuff like website assets offline to use without a network connection. We will not cover this in great detail."
   ]
  },
  {
   "attachments": {},
   "cell_type": "markdown",
   "metadata": {
    "dotnet_interactive": {
     "language": "csharp"
    },
    "polyglot_notebook": {
     "kernelName": "csharp"
    }
   },
   "source": [
    "## Storing Simple Data - Web Storage"
   ]
  },
  {
   "attachments": {},
   "cell_type": "markdown",
   "metadata": {
    "dotnet_interactive": {
     "language": "csharp"
    },
    "polyglot_notebook": {
     "kernelName": "csharp"
    }
   },
   "source": [
    "All web storage is contained within object-like structures inside the browser:\n",
    "1. `sessionStorage`, which persists data for as long as the browser is open. (Data is lost when the browser is closed)\n",
    "2. `localStorage`, persists data even if the browser is closed.  \n",
    "We will use `localStorage` as it is generally more useful."
   ]
  },
  {
   "attachments": {},
   "cell_type": "markdown",
   "metadata": {
    "dotnet_interactive": {
     "language": "csharp"
    },
    "polyglot_notebook": {
     "kernelName": "csharp"
    }
   },
   "source": [
    "`localStorage.setItem()` allows use to save a data item in storage, and it takes two parameters: the name of the item, and the value."
   ]
  },
  {
   "attachments": {},
   "cell_type": "markdown",
   "metadata": {
    "dotnet_interactive": {
     "language": "csharp"
    },
    "polyglot_notebook": {
     "kernelName": "csharp"
    }
   },
   "source": [
    "Type this in your web page's console:"
   ]
  },
  {
   "cell_type": "code",
   "execution_count": null,
   "metadata": {
    "dotnet_interactive": {
     "language": "javascript"
    },
    "polyglot_notebook": {
     "kernelName": "javascript"
    },
    "vscode": {
     "languageId": "polyglot-notebook"
    }
   },
   "outputs": [],
   "source": [
    "localStorage.setItem(\"name\", \"YourName\");"
   ]
  },
  {
   "attachments": {},
   "cell_type": "markdown",
   "metadata": {
    "dotnet_interactive": {
     "language": "javascript"
    },
    "polyglot_notebook": {
     "kernelName": "javascript"
    }
   },
   "source": [
    "Now we use `localStorage.getItem()` which only takes one parameter, the name of a data item we want to retrieve. It then returns the item's value:"
   ]
  },
  {
   "cell_type": "code",
   "execution_count": null,
   "metadata": {
    "dotnet_interactive": {
     "language": "javascript"
    },
    "polyglot_notebook": {
     "kernelName": "javascript"
    },
    "vscode": {
     "languageId": "polyglot-notebook"
    }
   },
   "outputs": [],
   "source": [
    "let myName = localStorage.getItem(\"name\");"
   ]
  },
  {
   "attachments": {},
   "cell_type": "markdown",
   "metadata": {
    "dotnet_interactive": {
     "language": "javascript"
    },
    "polyglot_notebook": {
     "kernelName": "javascript"
    }
   },
   "source": [
    "The `localStorage.removeItem()` method takes one parameter, the name of the item. This will remove the item out of the web storage:"
   ]
  },
  {
   "cell_type": "code",
   "execution_count": null,
   "metadata": {
    "dotnet_interactive": {
     "language": "javascript"
    },
    "polyglot_notebook": {
     "kernelName": "javascript"
    },
    "vscode": {
     "languageId": "polyglot-notebook"
    }
   },
   "outputs": [],
   "source": [
    "localStorage.removeItem(\"name\");\n",
    "myName = localStorage.getItem(\"name\");\n",
    "myName;"
   ]
  },
  {
   "attachments": {},
   "cell_type": "markdown",
   "metadata": {
    "dotnet_interactive": {
     "language": "javascript"
    },
    "polyglot_notebook": {
     "kernelName": "javascript"
    }
   },
   "source": [
    "What will myName return?"
   ]
  },
  {
   "attachments": {},
   "cell_type": "markdown",
   "metadata": {
    "dotnet_interactive": {
     "language": "javascript"
    },
    "polyglot_notebook": {
     "kernelName": "javascript"
    }
   },
   "source": [
    "Every domain has its OWN storage of web data items. If you try to get the item you set in another page, it won't be there, or won't be refer to the same item."
   ]
  },
  {
   "attachments": {},
   "cell_type": "markdown",
   "metadata": {
    "dotnet_interactive": {
     "language": "javascript"
    },
    "polyglot_notebook": {
     "kernelName": "javascript"
    }
   },
   "source": [
    "Let's try to make a very simple test of this:"
   ]
  },
  {
   "cell_type": "code",
   "execution_count": null,
   "metadata": {
    "dotnet_interactive": {
     "language": "html"
    },
    "polyglot_notebook": {
     "kernelName": "html"
    },
    "vscode": {
     "languageId": "polyglot-notebook"
    }
   },
   "outputs": [],
   "source": [
    "<body>\n",
    "    <h1></h1>\n",
    "    <p>Type Name Below:</p>\n",
    "    <input type=\"text\"></input>\n",
    "    <button>Submit</button>\n",
    "    <script>\n",
    "        let h = document.querySelector(\"h1\");\n",
    "        let inp = document.querySelector('input');\n",
    "        let button = document.querySelector('button');\n",
    "        let myName = localStorage.getItem(\"name\");\n",
    "        if (myName === null){\n",
    "            h.textContent = \"No one is saved\";\n",
    "        }\n",
    "        else\n",
    "        {\n",
    "            h.textContent = myName;\n",
    "        }\n",
    "    \n",
    "        button.addEventListener('click', (e) => {\n",
    "            e.preventDefault();\n",
    "            localStorage.setItem('name', inp.value);\n",
    "        });\n",
    "    \n",
    "    </script>\n",
    "</body>"
   ]
  },
  {
   "attachments": {},
   "cell_type": "markdown",
   "metadata": {
    "dotnet_interactive": {
     "language": "html"
    },
    "polyglot_notebook": {
     "kernelName": "html"
    }
   },
   "source": [
    "Try it out!"
   ]
  },
  {
   "attachments": {},
   "cell_type": "markdown",
   "metadata": {
    "dotnet_interactive": {
     "language": "html"
    },
    "polyglot_notebook": {
     "kernelName": "html"
    }
   },
   "source": [
    "## Storing Complex Data - IndexedDB"
   ]
  },
  {
   "attachments": {},
   "cell_type": "markdown",
   "metadata": {
    "dotnet_interactive": {
     "language": "html"
    },
    "polyglot_notebook": {
     "kernelName": "html"
    }
   },
   "source": [
    "This is a **Complete Database System** available in the browser to store complex related data. This API lets us create a database, and create object stores within the data base. Object stores are like tables in a **Relational Database**, and each object store can contain a number of objects."
   ]
  },
  {
   "attachments": {},
   "cell_type": "markdown",
   "metadata": {
    "dotnet_interactive": {
     "language": "html"
    },
    "polyglot_notebook": {
     "kernelName": "html"
    }
   },
   "source": [
    "We will start by creating a Note Storing website.  \n",
    "Each note will have a title and body of text to go along with it. You can also delete each individual note."
   ]
  },
  {
   "cell_type": "code",
   "execution_count": 1,
   "metadata": {
    "dotnet_interactive": {
     "language": "html"
    },
    "polyglot_notebook": {
     "kernelName": "html"
    },
    "vscode": {
     "languageId": "polyglot-notebook"
    }
   },
   "outputs": [
    {
     "data": {
      "text/html": [
       "<head>\r\n",
       "    <style>\r\n",
       "\r\n",
       "    </style>\r\n",
       "</head>\r\n",
       "\r\n",
       "<body>\r\n",
       "    <h1 id=\"HeadTitle\">Note Taking App</h1>\r\n",
       "    <script>\r\n",
       "        let db;\r\n",
       "    </script>\r\n",
       "</body>"
      ]
     },
     "metadata": {},
     "output_type": "display_data"
    }
   ],
   "source": [
    "<head>\n",
    "    <style>\n",
    "\n",
    "    </style>\n",
    "</head>\n",
    "\n",
    "<body>\n",
    "    <h1 id=\"HeadTitle\">Note Taking App</h1>\n",
    "    <script>\n",
    "        let db;\n",
    "    </script>\n",
    "</body>"
   ]
  },
  {
   "attachments": {},
   "cell_type": "markdown",
   "metadata": {
    "dotnet_interactive": {
     "language": "html"
    },
    "polyglot_notebook": {
     "kernelName": "html"
    }
   },
   "source": [
    "`let db;`  \n",
    "We are declraing a variable, `db`, which we will use to represent our database."
   ]
  },
  {
   "cell_type": "code",
   "execution_count": null,
   "metadata": {
    "dotnet_interactive": {
     "language": "html"
    },
    "polyglot_notebook": {
     "kernelName": "html"
    },
    "vscode": {
     "languageId": "polyglot-notebook"
    }
   },
   "outputs": [],
   "source": [
    "<head>\n",
    "    <style>\n",
    "\n",
    "    </style>\n",
    "</head>\n",
    "\n",
    "<body>\n",
    "    <h1 id=\"HeadTitle\">Note Taking App</h1>\n",
    "    <script>\n",
    "        let db;\n",
    "        const openRequest = window.indexedDB.open(\"notes_db\", 1);\n",
    "    </script>\n",
    "</body>"
   ]
  },
  {
   "attachments": {},
   "cell_type": "markdown",
   "metadata": {
    "dotnet_interactive": {
     "language": "html"
    },
    "polyglot_notebook": {
     "kernelName": "html"
    }
   },
   "source": [
    "This creates a request to open version `1` of a database called `notes_db`.  \n",
    "If it does not exist, it will create the database. Database operations are all asynchronous, so this returns a `request` object. We will use event handlers to run code when the request completes, fails, etc."
   ]
  },
  {
   "cell_type": "code",
   "execution_count": null,
   "metadata": {
    "dotnet_interactive": {
     "language": "html"
    },
    "polyglot_notebook": {
     "kernelName": "html"
    },
    "vscode": {
     "languageId": "polyglot-notebook"
    }
   },
   "outputs": [],
   "source": [
    "<head>\n",
    "    <style>\n",
    "\n",
    "    </style>\n",
    "</head>\n",
    "\n",
    "<body>\n",
    "    <h1 id=\"HeadTitle\">Note Taking App</h1>\n",
    "    <script>\n",
    "        let db;\n",
    "        const openRequest = window.indexedDB.open(\"notes_db\", 1);\n",
    "        openRequest.addEventListener(\"error\", () =>\n",
    "            console.error(\"Database failed to open\")\n",
    "        );\n",
    "        openRequest.addEventListener(\"success\", () => {\n",
    "            console.log(\"Database opened successfully\");\n",
    "            db = openRequest.result;\n",
    "            displayData();\n",
    "        });\n",
    "    </script>\n",
    "</body>"
   ]
  },
  {
   "attachments": {},
   "cell_type": "markdown",
   "metadata": {
    "dotnet_interactive": {
     "language": "html"
    },
    "polyglot_notebook": {
     "kernelName": "html"
    }
   },
   "source": [
    "You can guess what the first event listener does.  \n",
    "In the second event listener, an object representing the opened database becomes available in `openRequest.result`, which allows us to manipulate the database. `displayData()` will be made later on."
   ]
  },
  {
   "attachments": {},
   "cell_type": "markdown",
   "metadata": {
    "dotnet_interactive": {
     "language": "html"
    },
    "polyglot_notebook": {
     "kernelName": "html"
    }
   },
   "source": [
    "Finally, we will do this:"
   ]
  },
  {
   "cell_type": "code",
   "execution_count": null,
   "metadata": {
    "dotnet_interactive": {
     "language": "html"
    },
    "polyglot_notebook": {
     "kernelName": "html"
    },
    "vscode": {
     "languageId": "polyglot-notebook"
    }
   },
   "outputs": [],
   "source": [
    "<head>\n",
    "    <style>\n",
    "\n",
    "    </style>\n",
    "</head>\n",
    "\n",
    "<body>\n",
    "    <h1 id=\"HeadTitle\">Note Taking App</h1>\n",
    "    <script>\n",
    "        let db;\n",
    "        const openRequest = window.indexedDB.open(\"notes_db\", 1);\n",
    "        openRequest.addEventListener(\"error\", () =>\n",
    "            console.error(\"Database failed to open\")\n",
    "        );\n",
    "        openRequest.addEventListener(\"success\", () => {\n",
    "            console.log(\"Database opened successfully\");\n",
    "            db = openRequest.result;\n",
    "            displayData();\n",
    "        });\n",
    "        // Set up the database tables if this has not already been done\n",
    "        openRequest.addEventListener(\"upgradeneeded\", (e) => {\n",
    "            // Grab a reference to the opened database\n",
    "            db = e.target.result;\n",
    "            // Create an objectStore in our database to store notes and an auto-incrementing key\n",
    "            // An objectStore is similar to a 'table' in a relational database\n",
    "            const objectStore = db.createObjectStore(\"notes_os\", {\n",
    "                keyPath: \"id\",\n",
    "                autoIncrement: true,\n",
    "            });\n",
    "            // Define what data items the objectStore will contain\n",
    "            objectStore.createIndex(\"title\", \"title\", { unique: false });\n",
    "            objectStore.createIndex(\"body\", \"body\", { unique: false });\n",
    "\n",
    "            console.log(\"Database setup complete\");\n",
    "        });\n",
    "    </script>\n",
    "</body>"
   ]
  },
  {
   "attachments": {},
   "cell_type": "markdown",
   "metadata": {
    "dotnet_interactive": {
     "language": "html"
    },
    "polyglot_notebook": {
     "kernelName": "html"
    }
   },
   "source": [
    "This event listener will run if the database has not been set up, or if there is a bigger version number than the existing stored database.  \n",
    "This is where we define the schema (structure) of our database. So the set of columns it contains. So we grab the `db` using `e.target.result` which you should understand.  \n",
    "`IDBDatabse.createObjectStore()` creates a new object store (table) inside our opened database called `\"notes_os\"`, and has an `autoIncrement` key field called `id`. Which means that each new record will automatically be given an incremented `id` value, so we don't have to set each `record`'s `id` value manually. `id` will be used to uniquely identify records. We also made two other indexes: `\"title\"` and `\"body\"`."
   ]
  },
  {
   "attachments": {},
   "cell_type": "markdown",
   "metadata": {
    "dotnet_interactive": {
     "language": "html"
    },
    "polyglot_notebook": {
     "kernelName": "html"
    }
   },
   "source": [
    "If anything confuses you from the explanation above, you will see for yourself later on what this means."
   ]
  },
  {
   "attachments": {},
   "cell_type": "markdown",
   "metadata": {
    "dotnet_interactive": {
     "language": "html"
    },
    "polyglot_notebook": {
     "kernelName": "html"
    }
   },
   "source": [
    "### Adding data to the Database"
   ]
  },
  {
   "attachments": {},
   "cell_type": "markdown",
   "metadata": {
    "dotnet_interactive": {
     "language": "html"
    },
    "polyglot_notebook": {
     "kernelName": "html"
    }
   },
   "source": [
    "We will use a form on the page to add in records to the database.  \n",
    "First we will add `<form>`, `<input>`, and `<button>` elements to the page as a way to submit the form to use as an event handler to `addData()`:"
   ]
  },
  {
   "cell_type": "code",
   "execution_count": null,
   "metadata": {
    "dotnet_interactive": {
     "language": "html"
    },
    "polyglot_notebook": {
     "kernelName": "html"
    },
    "vscode": {
     "languageId": "polyglot-notebook"
    }
   },
   "outputs": [],
   "source": [
    "<head>\n",
    "    <style>\n",
    "\n",
    "    </style>\n",
    "</head>\n",
    "\n",
    "<body>\n",
    "    <h1 id=\"HeadTitle\">Note Taking App</h1>\n",
    "    <h2 id=\"newNotes\">Enter a New Note:</h2>\n",
    "    <form>\n",
    "        <p>Note Title</p>\n",
    "        <input id=\"title\" type=\"text\" required>\n",
    "        <p>Note Text</p>\n",
    "        <input id=\"body\" type=\"text\" required>\n",
    "        <button>Create new note</button>\n",
    "    </form>\n",
    "\n",
    "    <script>\n",
    "        const form = document.querySelector('form');\n",
    "\n",
    "        let db;\n",
    "        const openRequest = window.indexedDB.open(\"notes_db\", 1);\n",
    "        openRequest.addEventListener(\"error\", () =>\n",
    "            console.error(\"Database failed to open\")\n",
    "        );\n",
    "        openRequest.addEventListener(\"success\", () => {\n",
    "            console.log(\"Database opened successfully\");\n",
    "            db = openRequest.result;\n",
    "            displayData();\n",
    "        });\n",
    "        // Set up the database tables if this has not already been done\n",
    "        openRequest.addEventListener(\"upgradeneeded\", (e) => {\n",
    "            // Grab a reference to the opened database\n",
    "            db = e.target.result;\n",
    "            // Create an objectStore in our database to store notes and an auto-incrementing key\n",
    "            // An objectStore is similar to a 'table' in a relational database\n",
    "            const objectStore = db.createObjectStore(\"notes_os\", {\n",
    "                keyPath: \"id\",\n",
    "                autoIncrement: true,\n",
    "            });\n",
    "            // Define what data items the objectStore will contain\n",
    "            objectStore.createIndex(\"title\", \"title\", { unique: false });\n",
    "            objectStore.createIndex(\"body\", \"body\", { unique: false });\n",
    "\n",
    "            console.log(\"Database setup complete\");\n",
    "        });\n",
    "\n",
    "        form.addEventListener(\"submit\", addData);\n",
    "    </script>\n",
    "</body>"
   ]
  },
  {
   "attachments": {},
   "cell_type": "markdown",
   "metadata": {
    "dotnet_interactive": {
     "language": "html"
    },
    "polyglot_notebook": {
     "kernelName": "html"
    }
   },
   "source": [
    "Make sure you understand what I did with the `<form>` and how I added the `form.addEventListener(\"submit\", addData)`. `\"submit\"` occurs when the `<button>` in the form is pressed, which `\"submits\"` a form."
   ]
  },
  {
   "attachments": {},
   "cell_type": "markdown",
   "metadata": {
    "dotnet_interactive": {
     "language": "html"
    },
    "polyglot_notebook": {
     "kernelName": "html"
    }
   },
   "source": [
    "Now let's create the `addData()` function:"
   ]
  },
  {
   "cell_type": "code",
   "execution_count": null,
   "metadata": {
    "dotnet_interactive": {
     "language": "html"
    },
    "polyglot_notebook": {
     "kernelName": "html"
    },
    "vscode": {
     "languageId": "polyglot-notebook"
    }
   },
   "outputs": [],
   "source": [
    "<head>\n",
    "    <style>\n",
    "\n",
    "    </style>\n",
    "</head>\n",
    "\n",
    "<body>\n",
    "    <h1 id=\"HeadTitle\">Note Taking App</h1>\n",
    "    <h2 id=\"newNotes\">Enter a New Note:</h2>\n",
    "    <form>\n",
    "        <p>Note Title</p>\n",
    "        <input id=\"title\" type=\"text\" required>\n",
    "        <p>Note Text</p>\n",
    "        <input id=\"body\" type=\"text\" required>\n",
    "        <button>Create new note</button>\n",
    "    </form>\n",
    "\n",
    "    <script>\n",
    "        const form = document.querySelector('form');\n",
    "\n",
    "        let db;\n",
    "        const openRequest = window.indexedDB.open(\"notes_db\", 1);\n",
    "        openRequest.addEventListener(\"error\", () =>\n",
    "            console.error(\"Database failed to open\")\n",
    "        );\n",
    "        openRequest.addEventListener(\"success\", () => {\n",
    "            console.log(\"Database opened successfully\");\n",
    "            db = openRequest.result;\n",
    "            displayData();\n",
    "        });\n",
    "        \n",
    "        // Set up the database tables if this has not already been done\n",
    "        openRequest.addEventListener(\"upgradeneeded\", (e) => {\n",
    "            db = e.target.result;\n",
    "            const objectStore = db.createObjectStore(\"notes_os\", {\n",
    "                keyPath: \"id\",\n",
    "                autoIncrement: true,\n",
    "            });\n",
    "            objectStore.createIndex(\"title\", \"title\", { unique: false });\n",
    "            objectStore.createIndex(\"body\", \"body\", { unique: false });\n",
    "            console.log(\"Database setup complete\");\n",
    "        });\n",
    "\n",
    "        // Define the addData() function\n",
    "        function addData(e) {\n",
    "            e.preventDefault();\n",
    "            const newItem = { title: titleInput.value, body: bodyInput.value };\n",
    "            const transaction = db.transaction([\"notes_os\"], \"readwrite\");\n",
    "            const objectStore = transaction.objectStore(\"notes_os\");\n",
    "            const addRequest = objectStore.add(newItem);\n",
    "            addRequest.addEventListener(\"success\", () => {\n",
    "                titleInput.value = \"\";\n",
    "                bodyInput.value = \"\";\n",
    "            });\n",
    "            transaction.addEventListener(\"complete\", () => {\n",
    "                console.log(\"Transaction completed: database modification finished.\");\n",
    "                displayData();\n",
    "            });\n",
    "            transaction.addEventListener(\"error\", () =>\n",
    "                console.log(\"Transaction not opened due to error\")\n",
    "            );\n",
    "        }\n",
    "\n",
    "        form.addEventListener(\"submit\", addData);\n",
    "    </script>\n",
    "</body>"
   ]
  },
  {
   "attachments": {},
   "cell_type": "markdown",
   "metadata": {
    "dotnet_interactive": {
     "language": "html"
    },
    "polyglot_notebook": {
     "kernelName": "html"
    }
   },
   "source": [
    "Let's breakdown each step:\n",
    "1. `e.preventDefault()` to prevent conventional form submission. This would refresh the page if we forgot.  \n",
    "2. `const newItem = ...` will create a record to enter into the database. Notice the key and values, and also notice we did not use `id` because it is automatically made for us.\n",
    "3. We are opening a `readwrite` `\"transaction\"` against the `notes_os` object store using the `IDBDatabase.transaction()` method. This lets us access the object store so we can do something to it. In this case, add a new record.\n",
    "4. Now we access the object store using the `IDBTransaction.objectStore()` method, saving the result in the `objectStore` variable.\n",
    "5. Add the record to the object store by using `objectStore.add(newItem)`, which will create a request object, just like it did when we made an `openRequest` for the database itself.\n",
    "6. You can read each change event listener as it is self explanatory."
   ]
  },
  {
   "attachments": {},
   "cell_type": "markdown",
   "metadata": {
    "dotnet_interactive": {
     "language": "html"
    },
    "polyglot_notebook": {
     "kernelName": "html"
    }
   },
   "source": [
    "Now, let's actually define how we will display the data, which in itself is complex:"
   ]
  },
  {
   "attachments": {},
   "cell_type": "markdown",
   "metadata": {
    "dotnet_interactive": {
     "language": "html"
    },
    "polyglot_notebook": {
     "kernelName": "html"
    }
   },
   "source": [
    "1. When the page loads, we start off with an empty `<ul>`. This will be our `list` reference using the `querySelector`. So we use a while loop and `list.firstChild` to see if there is still an element in the `<ul>`. If there is still an element, we use `list.removeChild(list.firstChild)` to remove it.\n",
    "2. Then we get a reference to the `notes_os` object store using the same `IDBDatabse.transaction()` and `IDBTransaction.objectStore()`, except the transaction is only `read`, and we are chaining the two methods together.\n",
    "3. `IDBObjectStore.openCursor()` opens a REQUEST for a cursor. A cursor is used to iterate over the records in an object store. Because this is a request, we use this as an event listener using the \"success\" event.\n",
    "4. We get the reference to the cursor itself by doing `const cursor = e.target.result`.\n",
    "5. If the cursor has a record from the datastore, `if (cursor) {}`, we create a DOM fragment, populate it with the info from the record, and insert it into the page. Then we include a delete button which will run the `deleteItem()` function which we will define later on.\n",
    "6. At the end of the `if` block, we use `IDBCursor.continue()` to advance the cursor to the next record in the datastore.\n",
    "7. If there are no more records, the `cursor` will return `undefined`, and so the `else` block will run."
   ]
  },
  {
   "attachments": {},
   "cell_type": "markdown",
   "metadata": {
    "dotnet_interactive": {
     "language": "html"
    },
    "polyglot_notebook": {
     "kernelName": "html"
    }
   },
   "source": [
    "Here is the code:"
   ]
  },
  {
   "cell_type": "code",
   "execution_count": null,
   "metadata": {
    "dotnet_interactive": {
     "language": "html"
    },
    "polyglot_notebook": {
     "kernelName": "html"
    },
    "vscode": {
     "languageId": "polyglot-notebook"
    }
   },
   "outputs": [],
   "source": [
    "<head>\n",
    "    <style>\n",
    "\n",
    "    </style>\n",
    "</head>\n",
    "\n",
    "<body>\n",
    "    <h1 id=\"HeadTitle\">Note Taking App</h1>\n",
    "    <h2 id=\"newNotes\">Enter a New Note:</h2>\n",
    "    <ul>\n",
    "\n",
    "    </ul>\n",
    "    <form>\n",
    "        <p>Note Title</p>\n",
    "        <input id=\"title\" type=\"text\" required>\n",
    "        <p>Note Text</p>\n",
    "        <input id=\"body\" type=\"text\" required>\n",
    "        <button>Create new note</button>\n",
    "    </form>\n",
    "\n",
    "    <script>\n",
    "        const form = document.querySelector('form');\n",
    "        const list = document.querySelector('ul');\n",
    "        const titleInput = document.querySelector('#title');\n",
    "        const bodyInput = document.querySelector('#body');\n",
    "        let db;\n",
    "        const openRequest = window.indexedDB.open(\"notes_db\", 1);\n",
    "        openRequest.addEventListener(\"error\", () =>\n",
    "            console.error(\"Database failed to open\")\n",
    "        );\n",
    "        openRequest.addEventListener(\"success\", () => {\n",
    "            console.log(\"Database opened successfully\");\n",
    "            db = openRequest.result;\n",
    "            displayData();\n",
    "        });\n",
    "        \n",
    "        // Set up the database tables if this has not already been done\n",
    "        openRequest.addEventListener(\"upgradeneeded\", (e) => {\n",
    "            db = e.target.result;\n",
    "            const objectStore = db.createObjectStore(\"notes_os\", {\n",
    "                keyPath: \"id\",\n",
    "                autoIncrement: true,\n",
    "            });\n",
    "            objectStore.createIndex(\"title\", \"title\", { unique: false });\n",
    "            objectStore.createIndex(\"body\", \"body\", { unique: false });\n",
    "            console.log(\"Database setup complete\");\n",
    "        });\n",
    "\n",
    "        // Define the displayData() function\n",
    "        function displayData() {\n",
    "            while (list.firstChild) {\n",
    "                list.removeChild(list.firstChild);\n",
    "            }\n",
    "            const objectStore = db.transaction(\"notes_os\").objectStore(\"notes_os\");\n",
    "            objectStore.openCursor().addEventListener(\"success\", (e) => {\n",
    "                const cursor = e.target.result;\n",
    "                if (cursor) {\n",
    "                    const listItem = document.createElement(\"li\");\n",
    "                    const h3 = document.createElement(\"h3\");\n",
    "                    const para = document.createElement(\"p\");\n",
    "                    listItem.appendChild(h3);\n",
    "                    listItem.appendChild(para);\n",
    "                    list.appendChild(listItem);\n",
    "                    h3.textContent = cursor.value.title;\n",
    "                    para.textContent = cursor.value.body;\n",
    "                    // Store the ID of the data item inside an attribute on the listItem, so we know\n",
    "                        // which item it corresponds to. This will be useful later when we want to delete items\n",
    "                    listItem.setAttribute(\"data-note-id\", cursor.value.id);\n",
    "\n",
    "                    const deleteBtn = document.createElement(\"button\");\n",
    "                    listItem.appendChild(deleteBtn);\n",
    "                    deleteBtn.textContent = \"Delete\";\n",
    "                    //deleteBtn.addEventListener(\"click\", deleteItem);\n",
    "                    cursor.continue();\n",
    "                } else {\n",
    "                    // Again, if list item is empty, display a 'No notes stored' message\n",
    "                    if (!list.firstChild) {\n",
    "                        const listItem = document.createElement(\"li\");\n",
    "                        listItem.textContent = \"No notes stored.\";\n",
    "                        list.appendChild(listItem);\n",
    "                    }\n",
    "                    // if there are no more cursor items to iterate through, say so\n",
    "                    console.log(\"Notes all displayed\");\n",
    "                }\n",
    "            });\n",
    "        }\n",
    "\n",
    "\n",
    "        // Define the addData() function\n",
    "        function addData(e) {\n",
    "            e.preventDefault();\n",
    "            const newItem = { title: titleInput.value, body: bodyInput.value };\n",
    "            const transaction = db.transaction([\"notes_os\"], \"readwrite\");\n",
    "            const objectStore = transaction.objectStore(\"notes_os\");\n",
    "            const addRequest = objectStore.add(newItem);\n",
    "            addRequest.addEventListener(\"success\", () => {\n",
    "                titleInput.value = \"\";\n",
    "                bodyInput.value = \"\";\n",
    "            });\n",
    "            transaction.addEventListener(\"complete\", () => {\n",
    "                console.log(\"Transaction completed: database modification finished.\");\n",
    "                displayData();\n",
    "            });\n",
    "            transaction.addEventListener(\"error\", () =>\n",
    "                console.log(\"Transaction not opened due to error\")\n",
    "            );\n",
    "        }\n",
    "\n",
    "\n",
    "        form.addEventListener(\"submit\", addData);\n",
    "    </script>\n",
    "</body>"
   ]
  },
  {
   "attachments": {},
   "cell_type": "markdown",
   "metadata": {
    "dotnet_interactive": {
     "language": "html"
    },
    "polyglot_notebook": {
     "kernelName": "html"
    }
   },
   "source": [
    "Run this and make sure it works.  \n",
    "Take note of the `listItem.setAttribute()` method we called, as we will be using it later!"
   ]
  },
  {
   "attachments": {},
   "cell_type": "markdown",
   "metadata": {
    "dotnet_interactive": {
     "language": "html"
    },
    "polyglot_notebook": {
     "kernelName": "html"
    }
   },
   "source": [
    "Let's now implement the `deleteItem` function, but I will explain it first again as usual:"
   ]
  },
  {
   "attachments": {},
   "cell_type": "markdown",
   "metadata": {
    "dotnet_interactive": {
     "language": "html"
    },
    "polyglot_notebook": {
     "kernelName": "html"
    }
   },
   "source": [
    "1. Retrieve the `id` and store it in `const noteId` and change turn it into a `Number()`\n",
    "2. Reference the object store using the same pattern as before, but instead use the `IDBObjectStore.delete()` method, passing in the `id`.\n",
    "3. We then remove the child node from the parent node."
   ]
  },
  {
   "cell_type": "code",
   "execution_count": null,
   "metadata": {
    "dotnet_interactive": {
     "language": "html"
    },
    "polyglot_notebook": {
     "kernelName": "html"
    },
    "vscode": {
     "languageId": "polyglot-notebook"
    }
   },
   "outputs": [],
   "source": [
    "<head>\n",
    "    <style>\n",
    "\n",
    "    </style>\n",
    "</head>\n",
    "\n",
    "<body>\n",
    "    <h1 id=\"HeadTitle\">Note Taking App</h1>\n",
    "    <h2 id=\"newNotes\">Enter a New Note:</h2>\n",
    "    <ul>\n",
    "\n",
    "    </ul>\n",
    "    <form>\n",
    "        <p>Note Title</p>\n",
    "        <input id=\"title\" type=\"text\" required>\n",
    "        <p>Note Text</p>\n",
    "        <input id=\"body\" type=\"text\" required>\n",
    "        <button>Create new note</button>\n",
    "    </form>\n",
    "\n",
    "    <script>\n",
    "        const form = document.querySelector('form');\n",
    "        const list = document.querySelector('ul');\n",
    "        const titleInput = document.querySelector('#title');\n",
    "        const bodyInput = document.querySelector('#body');\n",
    "        let db;\n",
    "        const openRequest = window.indexedDB.open(\"notes_db\", 1);\n",
    "        openRequest.addEventListener(\"error\", () =>\n",
    "            console.error(\"Database failed to open\")\n",
    "        );\n",
    "        openRequest.addEventListener(\"success\", () => {\n",
    "            console.log(\"Database opened successfully\");\n",
    "            db = openRequest.result;\n",
    "            displayData();\n",
    "        });\n",
    "        \n",
    "        // Set up the database tables if this has not already been done\n",
    "        openRequest.addEventListener(\"upgradeneeded\", (e) => {\n",
    "            db = e.target.result;\n",
    "            const objectStore = db.createObjectStore(\"notes_os\", {\n",
    "                keyPath: \"id\",\n",
    "                autoIncrement: true,\n",
    "            });\n",
    "            objectStore.createIndex(\"title\", \"title\", { unique: false });\n",
    "            objectStore.createIndex(\"body\", \"body\", { unique: false });\n",
    "            console.log(\"Database setup complete\");\n",
    "        });\n",
    "\n",
    "        // Define the displayData() function\n",
    "        function displayData() {\n",
    "            while (list.firstChild) {\n",
    "                list.removeChild(list.firstChild);\n",
    "            }\n",
    "            const objectStore = db.transaction(\"notes_os\").objectStore(\"notes_os\");\n",
    "            objectStore.openCursor().addEventListener(\"success\", (e) => {\n",
    "                const cursor = e.target.result;\n",
    "                if (cursor) {\n",
    "                    const listItem = document.createElement(\"li\");\n",
    "                    const h3 = document.createElement(\"h3\");\n",
    "                    const para = document.createElement(\"p\");\n",
    "                    listItem.appendChild(h3);\n",
    "                    listItem.appendChild(para);\n",
    "                    list.appendChild(listItem);\n",
    "                    h3.textContent = cursor.value.title;\n",
    "                    para.textContent = cursor.value.body;\n",
    "                    // Store the ID of the data item inside an attribute on the listItem, so we know\n",
    "                        // which item it corresponds to. This will be useful later when we want to delete items\n",
    "                    listItem.setAttribute(\"data-note-id\", cursor.value.id);\n",
    "\n",
    "                    const deleteBtn = document.createElement(\"button\");\n",
    "                    listItem.appendChild(deleteBtn);\n",
    "                    deleteBtn.textContent = \"Delete\";\n",
    "                    deleteBtn.addEventListener(\"click\", deleteItem);\n",
    "                    cursor.continue();\n",
    "                } else {\n",
    "                    // Again, if list item is empty, display a 'No notes stored' message\n",
    "                    if (!list.firstChild) {\n",
    "                        const listItem = document.createElement(\"li\");\n",
    "                        listItem.textContent = \"No notes stored.\";\n",
    "                        list.appendChild(listItem);\n",
    "                    }\n",
    "                    // if there are no more cursor items to iterate through, say so\n",
    "                    console.log(\"Notes all displayed\");\n",
    "                }\n",
    "            });\n",
    "        }\n",
    "\n",
    "\n",
    "        // Define the addData() function\n",
    "        function addData(e) {\n",
    "            e.preventDefault();\n",
    "            const newItem = { title: titleInput.value, body: bodyInput.value };\n",
    "            const transaction = db.transaction([\"notes_os\"], \"readwrite\");\n",
    "            const objectStore = transaction.objectStore(\"notes_os\");\n",
    "            const addRequest = objectStore.add(newItem);\n",
    "            addRequest.addEventListener(\"success\", () => {\n",
    "                titleInput.value = \"\";\n",
    "                bodyInput.value = \"\";\n",
    "            });\n",
    "            transaction.addEventListener(\"complete\", () => {\n",
    "                console.log(\"Transaction completed: database modification finished.\");\n",
    "                displayData();\n",
    "            });\n",
    "            transaction.addEventListener(\"error\", () =>\n",
    "                console.log(\"Transaction not opened due to error\")\n",
    "            );\n",
    "        }\n",
    "\n",
    "        function deleteItem(e) {\n",
    "            const noteId = Number(e.target.parentNode.getAttribute(\"data-note-id\"));\n",
    "            const transaction = db.transaction([\"notes_os\"], \"readwrite\");\n",
    "            const objectStore = transaction.objectStore(\"notes_os\");\n",
    "            const deleteRequest = objectStore.delete(noteId);\n",
    "\n",
    "            transaction.addEventListener(\"complete\", () => {\n",
    "                e.target.parentNode.parentNode.removeChild(e.target.parentNode);\n",
    "                console.log(`Note ${noteId} deleted.`);\n",
    "                if (!list.firstChild) {\n",
    "                const listItem = document.createElement(\"li\");\n",
    "                listItem.textContent = \"No notes stored.\";\n",
    "                list.appendChild(listItem);\n",
    "                }\n",
    "            });\n",
    "        }\n",
    "\n",
    "\n",
    "        form.addEventListener(\"submit\", addData);\n",
    "    </script>\n",
    "</body>"
   ]
  },
  {
   "attachments": {},
   "cell_type": "markdown",
   "metadata": {
    "dotnet_interactive": {
     "language": "html"
    },
    "polyglot_notebook": {
     "kernelName": "html"
    }
   },
   "source": [
    "### And we are DONE!!"
   ]
  },
  {
   "attachments": {},
   "cell_type": "markdown",
   "metadata": {
    "dotnet_interactive": {
     "language": "html"
    },
    "polyglot_notebook": {
     "kernelName": "html"
    }
   },
   "source": [
    "## Video data using IndexedDB"
   ]
  },
  {
   "attachments": {},
   "cell_type": "markdown",
   "metadata": {
    "dotnet_interactive": {
     "language": "html"
    },
    "polyglot_notebook": {
     "kernelName": "html"
    }
   },
   "source": []
  }
 ],
 "metadata": {
  "kernelspec": {
   "display_name": ".NET (C#)",
   "language": "C#",
   "name": ".net-csharp"
  },
  "polyglot_notebook": {
   "kernelInfo": {
    "defaultKernelName": "csharp",
    "items": [
     {
      "aliases": [
       "c#",
       "C#"
      ],
      "languageName": "C#",
      "name": "csharp"
     },
     {
      "aliases": [
       "frontend"
      ],
      "name": "vscode"
     },
     {
      "aliases": [
       "js"
      ],
      "languageName": "JavaScript",
      "name": "javascript"
     },
     {
      "aliases": [],
      "name": ".NET"
     },
     {
      "aliases": [
       "f#",
       "F#"
      ],
      "languageName": "F#",
      "name": "fsharp"
     },
     {
      "aliases": [],
      "languageName": "HTML",
      "name": "html"
     },
     {
      "aliases": [],
      "languageName": "KQL",
      "name": "kql"
     },
     {
      "aliases": [],
      "languageName": "Mermaid",
      "name": "mermaid"
     },
     {
      "aliases": [
       "powershell"
      ],
      "languageName": "PowerShell",
      "name": "pwsh"
     },
     {
      "aliases": [],
      "languageName": "SQL",
      "name": "sql"
     },
     {
      "aliases": [],
      "name": "value"
     },
     {
      "aliases": [],
      "name": "webview"
     }
    ]
   }
  }
 },
 "nbformat": 4,
 "nbformat_minor": 2
}
