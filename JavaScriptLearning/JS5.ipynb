{
 "cells": [
  {
   "attachments": {},
   "cell_type": "markdown",
   "metadata": {
    "dotnet_interactive": {
     "language": "csharp"
    },
    "polyglot_notebook": {
     "kernelName": "csharp"
    }
   },
   "source": [
    "# Introduction to Events"
   ]
  },
  {
   "attachments": {},
   "cell_type": "markdown",
   "metadata": {
    "dotnet_interactive": {
     "language": "csharp"
    },
    "polyglot_notebook": {
     "kernelName": "csharp"
    }
   },
   "source": [
    "By the **\"MDN Web Docs\"** definition:  \n",
    "\n",
    "## Events are actions or occurrences that happen in the system you are programming, which the system tells you about so your code can react to them."
   ]
  },
  {
   "attachments": {},
   "cell_type": "markdown",
   "metadata": {
    "dotnet_interactive": {
     "language": "csharp"
    },
    "polyglot_notebook": {
     "kernelName": "csharp"
    }
   },
   "source": [
    "In this section, we will only learn what we need to know at this stage."
   ]
  },
  {
   "attachments": {},
   "cell_type": "markdown",
   "metadata": {
    "dotnet_interactive": {
     "language": "csharp"
    },
    "polyglot_notebook": {
     "kernelName": "csharp"
    }
   },
   "source": [
    "Events are \"fired\" inside the browser window, and tend to be attached to an item that resides in the browser window. It can be one element, multiple elements, the DOM itself, or the ENTIRE browser window.  \n",
    "Here are some example events:  \n",
    "* User selects, clicks, or hovers the cursor over a certain element.\n",
    "* User clicks a key on the keyboard.\n",
    "* User resizes or closes the browser window.\n",
    "* A web page finishes loading.\n",
    "* Form is submitted.\n",
    "* Video is played, paused, or ends.\n",
    "* An error occurs."
   ]
  },
  {
   "attachments": {},
   "cell_type": "markdown",
   "metadata": {
    "dotnet_interactive": {
     "language": "csharp"
    },
    "polyglot_notebook": {
     "kernelName": "csharp"
    }
   },
   "source": [
    "Here is the reference: <a href=\"https://developer.mozilla.org/en-US/docs/Web/Events\">event reference</a>. There are ***a lot*** of events that can be fired."
   ]
  },
  {
   "attachments": {},
   "cell_type": "markdown",
   "metadata": {
    "dotnet_interactive": {
     "language": "csharp"
    },
    "polyglot_notebook": {
     "kernelName": "csharp"
    }
   },
   "source": [
    "We need an **Event Handler**, whose purpose is the react to an event when fired. This is just a block of code, usually a function we created that will run when the event is fired. When we make code to respond to an event, we are: ***registering an event handler***.  \n",
    "Event handlers are sometimes called **Event Listeners**. The listener \"listens\" for the event to fire, and the handler is the code that responds when the listener tells it to run."
   ]
  },
  {
   "attachments": {},
   "cell_type": "markdown",
   "metadata": {
    "dotnet_interactive": {
     "language": "csharp"
    },
    "polyglot_notebook": {
     "kernelName": "csharp"
    }
   },
   "source": [
    "### NOTE: Web events are NOT part of core JavaScript, they are part of the API's built into the browser."
   ]
  },
  {
   "attachments": {},
   "cell_type": "markdown",
   "metadata": {
    "dotnet_interactive": {
     "language": "csharp"
    },
    "polyglot_notebook": {
     "kernelName": "csharp"
    }
   },
   "source": [
    "## Simple Example"
   ]
  },
  {
   "cell_type": "code",
   "execution_count": null,
   "metadata": {
    "dotnet_interactive": {
     "language": "html"
    },
    "polyglot_notebook": {
     "kernelName": "html"
    },
    "vscode": {
     "languageId": "polyglot-notebook"
    }
   },
   "outputs": [],
   "source": [
    "<head>\n",
    "<style>\n",
    "    p {\n",
    "        font-size: 30px;\n",
    "    }\n",
    "</style>\n",
    "</head>\n",
    "<body>\n",
    "<p>Hi there</p>\n",
    "<script>\n",
    "    const par = document.querySelector('p');\n",
    "    function changeColor(){\n",
    "        par.style.color = 'red';\n",
    "    }\n",
    "    par.addEventListener('click', changeColor);\n",
    "</script>\n",
    "</body>"
   ]
  },
  {
   "attachments": {},
   "cell_type": "markdown",
   "metadata": {
    "dotnet_interactive": {
     "language": "html"
    },
    "polyglot_notebook": {
     "kernelName": "html"
    }
   },
   "source": [
    "In this example, we:\n",
    "1. Stored a reference of the FIRST `<p>` element in the `par` constant.\n",
    "2. Made a function that manipulated the style of the `<p>` elements by using the `par.style.color` attribute.\n",
    "3. Added an event listener method outside the function."
   ]
  },
  {
   "attachments": {},
   "cell_type": "markdown",
   "metadata": {
    "dotnet_interactive": {
     "language": "html"
    },
    "polyglot_notebook": {
     "kernelName": "html"
    }
   },
   "source": [
    "Now try this:"
   ]
  },
  {
   "attachments": {},
   "cell_type": "markdown",
   "metadata": {
    "dotnet_interactive": {
     "language": "html"
    },
    "polyglot_notebook": {
     "kernelName": "html"
    }
   },
   "source": [
    "### Toggle between blue and red as the paragraph color on each click of the `<p>` elements."
   ]
  },
  {
   "attachments": {},
   "cell_type": "markdown",
   "metadata": {
    "dotnet_interactive": {
     "language": "html"
    },
    "polyglot_notebook": {
     "kernelName": "html"
    }
   },
   "source": [
    "Answer:"
   ]
  },
  {
   "cell_type": "code",
   "execution_count": null,
   "metadata": {
    "dotnet_interactive": {
     "language": "html"
    },
    "polyglot_notebook": {
     "kernelName": "html"
    },
    "vscode": {
     "languageId": "polyglot-notebook"
    }
   },
   "outputs": [],
   "source": [
    "<head>\n",
    "<style>\n",
    "    p {\n",
    "        font-size: 30px;\n",
    "    }\n",
    "</style>\n",
    "</head>\n",
    "<body>\n",
    "<p>Hi there</p>\n",
    "<script>\n",
    "    const par = document.querySelector('p');\n",
    "    function changeColor(){\n",
    "        if (par.style.color === 'red'){\n",
    "            par.style.color = 'blue';\n",
    "        }\n",
    "        else{\n",
    "            par.style.color = 'red';\n",
    "        }\n",
    "    }\n",
    "    par.addEventListener('click', changeColor);\n",
    "</script>\n",
    "</body>"
   ]
  },
  {
   "attachments": {},
   "cell_type": "markdown",
   "metadata": {
    "dotnet_interactive": {
     "language": "html"
    },
    "polyglot_notebook": {
     "kernelName": "html"
    }
   },
   "source": [
    "### Note: Most Programming Languages have some kind of Event Model, but workss differently. Even the JavaScript web page event model works differently from the JavaScript Node.js event model. So remember that events can differe between different programming environments. Just like Pygame."
   ]
  },
  {
   "attachments": {},
   "cell_type": "markdown",
   "metadata": {
    "dotnet_interactive": {
     "language": "html"
    },
    "polyglot_notebook": {
     "kernelName": "html"
    }
   },
   "source": [
    "In this case, because the function is so simple, we can condense the code by doing this instead:"
   ]
  },
  {
   "cell_type": "code",
   "execution_count": null,
   "metadata": {
    "dotnet_interactive": {
     "language": "html"
    },
    "polyglot_notebook": {
     "kernelName": "html"
    },
    "vscode": {
     "languageId": "polyglot-notebook"
    }
   },
   "outputs": [],
   "source": [
    "<head>\n",
    "<style>\n",
    "    p {\n",
    "        font-size: 30px;\n",
    "    }\n",
    "</style>\n",
    "</head>\n",
    "<body>\n",
    "<p>Hi there</p>\n",
    "<script>\n",
    "    const par = document.querySelector('p');\n",
    "    par.addEventListener('click', () => {\n",
    "        if (par.style.color === 'red'){\n",
    "            par.style.color = 'blue';\n",
    "        }\n",
    "        else{\n",
    "            par.style.color = 'red';\n",
    "        }\n",
    "    });\n",
    "</script>\n",
    "</body>"
   ]
  },
  {
   "attachments": {},
   "cell_type": "markdown",
   "metadata": {
    "dotnet_interactive": {
     "language": "html"
    },
    "polyglot_notebook": {
     "kernelName": "html"
    }
   },
   "source": [
    "Here are other events to listen for besides `'click'`:  \n",
    "* `focus` and `blur` - When the text is in focus, or unfocused. In this example, pressing the tab on the webpage will focus on the `<p>`, and pressing it again will unfocus on it. An example use is an error message when you put in an incorrect value when unfocusing.\n",
    "* `dblclick` - When you double click on text, it will highlight it. You can use this to override it.\n",
    "* `mouseover` and `mouseout` - Self explanatory."
   ]
  },
  {
   "attachments": {},
   "cell_type": "markdown",
   "metadata": {
    "dotnet_interactive": {
     "language": "html"
    },
    "polyglot_notebook": {
     "kernelName": "html"
    }
   },
   "source": [
    "### Note: Some events like `click` are available on every element. Other events aren't like the `play` element which is only for media like `<video>`."
   ]
  },
  {
   "attachments": {},
   "cell_type": "markdown",
   "metadata": {
    "dotnet_interactive": {
     "language": "html"
    },
    "polyglot_notebook": {
     "kernelName": "html"
    }
   },
   "source": [
    "You can use `removeEventListener()` in order to stop the element from reacting. For example:"
   ]
  },
  {
   "cell_type": "code",
   "execution_count": null,
   "metadata": {
    "dotnet_interactive": {
     "language": "html"
    },
    "polyglot_notebook": {
     "kernelName": "html"
    },
    "vscode": {
     "languageId": "polyglot-notebook"
    }
   },
   "outputs": [],
   "source": [
    "<head>\n",
    "<style>\n",
    "    p {\n",
    "        font-size: 30px;\n",
    "    }\n",
    "</style>\n",
    "</head>\n",
    "<body>\n",
    "<p>Hi there</p>\n",
    "<script>\n",
    "    let count = 0;\n",
    "    const par = document.querySelector('p');\n",
    "    function changeColor(){\n",
    "        if (par.style.color === 'red'){\n",
    "            par.style.color = 'blue';\n",
    "        }\n",
    "        else{\n",
    "            par.style.color = 'red';\n",
    "        }\n",
    "        count++;\n",
    "        if (count > 5){\n",
    "            par.removeEventListener('click', changeColor);\n",
    "        }\n",
    "    }\n",
    "    par.addEventListener('click', changeColor);\n",
    "</script>\n",
    "</body>"
   ]
  },
  {
   "attachments": {},
   "cell_type": "markdown",
   "metadata": {
    "dotnet_interactive": {
     "language": "html"
    },
    "polyglot_notebook": {
     "kernelName": "html"
    }
   },
   "source": [
    "The code above will stop the `par` constant from running the `changeColor` code after clicking once the `count` variable reaches beyond `5`. In the function, `count` is incremented."
   ]
  },
  {
   "attachments": {},
   "cell_type": "markdown",
   "metadata": {
    "dotnet_interactive": {
     "language": "html"
    },
    "polyglot_notebook": {
     "kernelName": "html"
    }
   },
   "source": [
    "You can even have multiple handlers for a single event:"
   ]
  },
  {
   "cell_type": "code",
   "execution_count": null,
   "metadata": {
    "dotnet_interactive": {
     "language": "html"
    },
    "polyglot_notebook": {
     "kernelName": "html"
    },
    "vscode": {
     "languageId": "polyglot-notebook"
    }
   },
   "outputs": [],
   "source": [
    "<head>\n",
    "<style>\n",
    "    p {\n",
    "        font-size: 30px;\n",
    "    }\n",
    "</style>\n",
    "</head>\n",
    "<body>\n",
    "<p>Hi there</p>\n",
    "<script>\n",
    "    let count = 0;\n",
    "    const par = document.querySelector('p');\n",
    "    function changeColor(){\n",
    "        if (par.style.color === 'red'){\n",
    "            par.style.color = 'blue';\n",
    "        }\n",
    "        else{\n",
    "            par.style.color = 'red';\n",
    "        }\n",
    "        count++;\n",
    "        if (count > 5){\n",
    "            par.removeEventListener('click', changeColor);\n",
    "        }\n",
    "    }\n",
    "    par.addEventListener('click', changeColor);\n",
    "    par.addEventListener('click', () => {\n",
    "        if (par.style.backgroundColor === 'blue'){\n",
    "                par.style.backgroundColor = 'red';\n",
    "            }\n",
    "        else{\n",
    "            par.style.backgroundColor = 'blue';\n",
    "        }\n",
    "    });\n",
    "</script>\n",
    "</body>"
   ]
  },
  {
   "attachments": {},
   "cell_type": "markdown",
   "metadata": {
    "dotnet_interactive": {
     "language": "html"
    },
    "polyglot_notebook": {
     "kernelName": "html"
    }
   },
   "source": [
    "Notice how we removed the `changeColor` handler, but NOT the other \"inline\" listener."
   ]
  },
  {
   "attachments": {},
   "cell_type": "markdown",
   "metadata": {
    "dotnet_interactive": {
     "language": "html"
    },
    "polyglot_notebook": {
     "kernelName": "html"
    }
   },
   "source": [
    "## Event Handler Properties"
   ]
  },
  {
   "attachments": {},
   "cell_type": "markdown",
   "metadata": {
    "dotnet_interactive": {
     "language": "html"
    },
    "polyglot_notebook": {
     "kernelName": "html"
    }
   },
   "source": [
    "Using `addEventListener()` is the RECOMMENDED way to register event handlers, but the event handler property is another way. Here is an example using almost the same code from before:"
   ]
  },
  {
   "attachments": {},
   "cell_type": "markdown",
   "metadata": {
    "dotnet_interactive": {
     "language": "html"
    },
    "polyglot_notebook": {
     "kernelName": "html"
    }
   },
   "source": [
    "Guess the output of this:"
   ]
  },
  {
   "cell_type": "code",
   "execution_count": null,
   "metadata": {
    "dotnet_interactive": {
     "language": "html"
    },
    "polyglot_notebook": {
     "kernelName": "html"
    },
    "vscode": {
     "languageId": "polyglot-notebook"
    }
   },
   "outputs": [],
   "source": [
    "<head>\n",
    "<style>\n",
    "    p {\n",
    "        font-size: 30px;\n",
    "    }\n",
    "</style>\n",
    "</head>\n",
    "<body>\n",
    "<p>Hi there</p>\n",
    "<script>\n",
    "    let count = 0;\n",
    "    const par = document.querySelector('p');\n",
    "    function changeColor(){\n",
    "        if (par.style.color === 'red'){\n",
    "            par.style.color = 'blue';\n",
    "        }\n",
    "        else{\n",
    "            par.style.color = 'red';\n",
    "        }\n",
    "        count++;\n",
    "        if (count > 5){\n",
    "            par.removeEventListener('click', changeColor);\n",
    "        }\n",
    "    }\n",
    "    par.onclick = changeColor;\n",
    "    par.onclick =  () => {\n",
    "        if (par.style.backgroundColor === 'blue'){\n",
    "                par.style.backgroundColor = 'red';\n",
    "            }\n",
    "        else{\n",
    "            par.style.backgroundColor = 'blue';\n",
    "        }\n",
    "    }\n",
    "</script>\n",
    "</body>"
   ]
  },
  {
   "attachments": {},
   "cell_type": "markdown",
   "metadata": {
    "dotnet_interactive": {
     "language": "html"
    },
    "polyglot_notebook": {
     "kernelName": "html"
    }
   },
   "source": [
    "Try this code out. What is the issue that you notice?"
   ]
  },
  {
   "attachments": {},
   "cell_type": "markdown",
   "metadata": {
    "dotnet_interactive": {
     "language": "html"
    },
    "polyglot_notebook": {
     "kernelName": "html"
    }
   },
   "source": [
    "When using event handler properties, you cannot add more than one handler for a single event. Because you are changing the `par.onclick` value itself."
   ]
  },
  {
   "attachments": {},
   "cell_type": "markdown",
   "metadata": {
    "dotnet_interactive": {
     "language": "html"
    },
    "polyglot_notebook": {
     "kernelName": "html"
    }
   },
   "source": [
    "## Inline Event Handlers"
   ]
  },
  {
   "attachments": {},
   "cell_type": "markdown",
   "metadata": {
    "dotnet_interactive": {
     "language": "html"
    },
    "polyglot_notebook": {
     "kernelName": "html"
    }
   },
   "source": [
    "### DON'T USE THESE, as they are the earliest method of registering event handlers"
   ]
  },
  {
   "cell_type": "code",
   "execution_count": null,
   "metadata": {
    "dotnet_interactive": {
     "language": "html"
    },
    "polyglot_notebook": {
     "kernelName": "html"
    },
    "vscode": {
     "languageId": "polyglot-notebook"
    }
   },
   "outputs": [],
   "source": [
    "<head>\n",
    "<style>\n",
    "    p {\n",
    "        font-size: 30px;\n",
    "    }\n",
    "</style>\n",
    "</head>\n",
    "<body>\n",
    "<p onclick=\"changeColor()\">Hi there</p>\n",
    "<script>\n",
    "    let count = 0;\n",
    "    const par = document.querySelector('p');\n",
    "    function changeColor(){\n",
    "        if (par.style.color === 'red'){\n",
    "            par.style.color = 'blue';\n",
    "        }\n",
    "        else{\n",
    "            par.style.color = 'red';\n",
    "        }\n",
    "        count++;\n",
    "        if (count > 5){\n",
    "            par.removeEventListener('click', changeColor);\n",
    "        }\n",
    "    }\n",
    "</script>\n",
    "</body>"
   ]
  },
  {
   "attachments": {},
   "cell_type": "markdown",
   "metadata": {
    "dotnet_interactive": {
     "language": "html"
    },
    "polyglot_notebook": {
     "kernelName": "html"
    }
   },
   "source": [
    "## Event Objects"
   ]
  },
  {
   "attachments": {},
   "cell_type": "markdown",
   "metadata": {
    "dotnet_interactive": {
     "language": "html"
    },
    "polyglot_notebook": {
     "kernelName": "html"
    }
   },
   "source": [
    "Sometimes in an event handler function, there will be a parameter with the name: `event`, `evt`, or `e`. This is the **Event Object** parameter, and is ALWAYS automatically passed to event handlers to provide extra features and info. For example:"
   ]
  },
  {
   "cell_type": "code",
   "execution_count": null,
   "metadata": {
    "dotnet_interactive": {
     "language": "html"
    },
    "polyglot_notebook": {
     "kernelName": "html"
    },
    "vscode": {
     "languageId": "polyglot-notebook"
    }
   },
   "outputs": [],
   "source": [
    "<head>\n",
    "<style>\n",
    "    p {\n",
    "        font-size: 30px;\n",
    "    }\n",
    "</style>\n",
    "</head>\n",
    "<body>\n",
    "<p>Hi there</p>\n",
    "<script>\n",
    "    let count = 0;\n",
    "    const par = document.querySelector('p');\n",
    "    function changeColor(e){\n",
    "        if (e.target.style.color === 'red'){\n",
    "            e.target.style.color = 'blue';\n",
    "        }\n",
    "        else{\n",
    "            e.target.style.color = 'red';\n",
    "        }\n",
    "        count++;\n",
    "        if (count > 5){\n",
    "            e.target.removeEventListener('click', changeColor);\n",
    "        }\n",
    "    }\n",
    "    par.addEventListener('click', changeColor);\n",
    "    par.addEventListener('click', (e) => {\n",
    "        if (e.target.style.backgroundColor === 'blue'){\n",
    "                e.style.backgroundColor = 'red';\n",
    "            }\n",
    "        else{\n",
    "            e.target.style.backgroundColor = 'blue';\n",
    "        }\n",
    "    });\n",
    "</script>\n",
    "</body>"
   ]
  },
  {
   "attachments": {},
   "cell_type": "markdown",
   "metadata": {
    "dotnet_interactive": {
     "language": "html"
    },
    "polyglot_notebook": {
     "kernelName": "html"
    }
   },
   "source": [
    "What changed in the code?  \n",
    "What changed in the output?"
   ]
  },
  {
   "attachments": {},
   "cell_type": "markdown",
   "metadata": {
    "dotnet_interactive": {
     "language": "html"
    },
    "polyglot_notebook": {
     "kernelName": "html"
    }
   },
   "source": [
    "One of the reasons this is VERY useful, is because now the event handler is reusable, and can react to whatever called upon it.  \n",
    "`e.target` is the `<p>` element itself. The `target` property of the event object is ALWAYS a reference to the element the event it came from. Here is a good use of it:"
   ]
  },
  {
   "cell_type": "code",
   "execution_count": null,
   "metadata": {
    "dotnet_interactive": {
     "language": "html"
    },
    "polyglot_notebook": {
     "kernelName": "html"
    },
    "vscode": {
     "languageId": "polyglot-notebook"
    }
   },
   "outputs": [],
   "source": [
    "<head>\n",
    "<style>\n",
    "    p {\n",
    "        font-size: 30px;\n",
    "    }\n",
    "</style>\n",
    "</head>\n",
    "<body>\n",
    "<p>Hi there</p>\n",
    "<h1>Bye there</h1>\n",
    "<script>\n",
    "    let count = 0;\n",
    "    const par = document.querySelector('p');\n",
    "    const h = document.querySelector('h1');\n",
    "    function changeColor(e){\n",
    "        if (e.target.style.color === 'red'){\n",
    "            e.target.style.color = 'blue';\n",
    "        }\n",
    "        else{\n",
    "            e.target.style.color = 'red';\n",
    "        }\n",
    "        count++;\n",
    "        if (count > 5){\n",
    "            e.target.removeEventListener('click', changeColor);\n",
    "        }\n",
    "    }\n",
    "    par.addEventListener('click', changeColor);\n",
    "    par.addEventListener('click', (e) => {\n",
    "        if (e.target.style.backgroundColor === 'blue'){\n",
    "                e.style.backgroundColor = 'red';\n",
    "            }\n",
    "        else{\n",
    "            e.target.style.backgroundColor = 'blue';\n",
    "        }\n",
    "    });\n",
    "    h.addEventListener('click', changeColor);\n",
    "    h.addEventListener('click', (e) => {\n",
    "        if (e.target.style.backgroundColor === 'blue'){\n",
    "                e.style.backgroundColor = 'red';\n",
    "            }\n",
    "        else{\n",
    "            e.target.style.backgroundColor = 'blue';\n",
    "        }\n",
    "    });\n",
    "</script>\n",
    "</body>"
   ]
  },
  {
   "attachments": {},
   "cell_type": "markdown",
   "metadata": {
    "dotnet_interactive": {
     "language": "html"
    },
    "polyglot_notebook": {
     "kernelName": "html"
    }
   },
   "source": [
    "But if we did NOT use the event object parameter:"
   ]
  },
  {
   "cell_type": "code",
   "execution_count": null,
   "metadata": {
    "dotnet_interactive": {
     "language": "html"
    },
    "polyglot_notebook": {
     "kernelName": "html"
    },
    "vscode": {
     "languageId": "polyglot-notebook"
    }
   },
   "outputs": [],
   "source": [
    "<head>\n",
    "<style>\n",
    "    p {\n",
    "        font-size: 30px;\n",
    "    }\n",
    "</style>\n",
    "</head>\n",
    "<body>\n",
    "<p>Hi there</p>\n",
    "<h1>Bye there</h1>\n",
    "<script>\n",
    "    let count = 0;\n",
    "    const par = document.querySelector('p');\n",
    "    const h = document.querySelector('h1');\n",
    "    function changeColor(){\n",
    "        if (par.style.color === 'red'){\n",
    "            par.style.color = 'blue';\n",
    "        }\n",
    "        else{\n",
    "            par.style.color = 'red';\n",
    "        }\n",
    "        count++;\n",
    "        if (count > 5){\n",
    "            par.removeEventListener('click', changeColor);\n",
    "        }\n",
    "    }\n",
    "    par.addEventListener('click', changeColor);\n",
    "    par.addEventListener('click', () => {\n",
    "        if (par.style.backgroundColor === 'blue'){\n",
    "                par.style.backgroundColor = 'red';\n",
    "            }\n",
    "        else{\n",
    "            par.style.backgroundColor = 'blue';\n",
    "        }\n",
    "    });\n",
    "    function changeColor2(){\n",
    "        if (h.style.color === 'blue'){\n",
    "            h.style.color = 'red';\n",
    "        }\n",
    "        else{\n",
    "            h.style.color = 'blue';\n",
    "        }\n",
    "        count++;\n",
    "        if (count > 5){\n",
    "            h.removeEventListener('click', changeColor);\n",
    "        }\n",
    "    }\n",
    "    h.addEventListener('click', changeColor2);\n",
    "    h.addEventListener('click', () => {\n",
    "        if (h.style.backgroundColor === 'red'){\n",
    "                h.style.backgroundColor = 'blue';\n",
    "            }\n",
    "        else{\n",
    "            h.style.backgroundColor = 'red';\n",
    "        }\n",
    "    });\n",
    "    \n",
    "</script>\n",
    "</body>"
   ]
  },
  {
   "attachments": {},
   "cell_type": "markdown",
   "metadata": {
    "dotnet_interactive": {
     "language": "html"
    },
    "polyglot_notebook": {
     "kernelName": "html"
    }
   },
   "source": [
    "PLEASE try to understand why the first method shown is much better"
   ]
  },
  {
   "attachments": {},
   "cell_type": "markdown",
   "metadata": {
    "dotnet_interactive": {
     "language": "html"
    },
    "polyglot_notebook": {
     "kernelName": "html"
    }
   },
   "source": [
    "Now there is only one small problem with both of them. What is it?"
   ]
  },
  {
   "attachments": {},
   "cell_type": "markdown",
   "metadata": {
    "dotnet_interactive": {
     "language": "html"
    },
    "polyglot_notebook": {
     "kernelName": "html"
    }
   },
   "source": [
    "Answer is that they both are sharing the `count` variable."
   ]
  },
  {
   "attachments": {},
   "cell_type": "markdown",
   "metadata": {
    "dotnet_interactive": {
     "language": "html"
    },
    "polyglot_notebook": {
     "kernelName": "html"
    }
   },
   "source": [
    "Most event objects have a standard set of properties and methods available. See: <a href=\"https://developer.mozilla.org/en-US/docs/Web/API/Event\">Event</a>  \n",
    "Some event objects have unique extra properties. Like the `keydown` event, which has an event object of `KeyboardEvent`, and has a `key` property that tells you which key was pressed. \n",
    "<br>\n",
    "<br>\n",
    "Here is an example:"
   ]
  },
  {
   "cell_type": "code",
   "execution_count": null,
   "metadata": {
    "dotnet_interactive": {
     "language": "html"
    },
    "polyglot_notebook": {
     "kernelName": "html"
    },
    "vscode": {
     "languageId": "polyglot-notebook"
    }
   },
   "outputs": [],
   "source": [
    "<body>\n",
    "<input type=\"text\"/>\n",
    "<div></div>\n",
    "<script>\n",
    "    const box = document.querySelector('input');\n",
    "    const word = document.querySelector('div');\n",
    "    box.addEventListener('keydown', (event) => {\n",
    "        if (event.key === \"e\") {\n",
    "            word.textContent = `You pressed ${event.key}.`;\n",
    "        }\n",
    "    });\n",
    "</script>\n",
    "</body>"
   ]
  },
  {
   "attachments": {},
   "cell_type": "markdown",
   "metadata": {
    "dotnet_interactive": {
     "language": "html"
    },
    "polyglot_notebook": {
     "kernelName": "html"
    }
   },
   "source": [
    "###Note: you cannot do this to every element, so like:  \n",
    "`<p>.addEventListener('keydown'...)`  \n",
    "will not work because there is no text input space."
   ]
  },
  {
   "attachments": {},
   "cell_type": "markdown",
   "metadata": {
    "dotnet_interactive": {
     "language": "html"
    },
    "polyglot_notebook": {
     "kernelName": "html"
    }
   },
   "source": [
    "Here is an example of preventing default behavior by using the `preventDefault()` function:"
   ]
  },
  {
   "cell_type": "code",
   "execution_count": null,
   "metadata": {
    "dotnet_interactive": {
     "language": "html"
    },
    "polyglot_notebook": {
     "kernelName": "html"
    },
    "vscode": {
     "languageId": "polyglot-notebook"
    }
   },
   "outputs": [],
   "source": [
    "<body>\n",
    "    <form>\n",
    "        <div>\n",
    "            <label for=\"fname\">First name: </label>\n",
    "            <input id=\"fname\" type=\"text\" />\n",
    "        </div>\n",
    "        <div>\n",
    "            <label for=\"lname\">Last name: </label>\n",
    "            <input id=\"lname\" type=\"text\" />\n",
    "        </div>\n",
    "        <div>\n",
    "            <input id=\"submit\" type=\"submit\" />\n",
    "        </div>\n",
    "    </form>\n",
    "    <p></p>\n",
    "\n",
    "    <script>\n",
    "        const form = document.querySelector('form');\n",
    "        const fname = document.getElementById('fname');\n",
    "        const lname = document.getElementById('lname');\n",
    "        const para = document.querySelector('p');\n",
    "\n",
    "        form.addEventListener('submit', (e) => {\n",
    "            if (fname.value === '' || lname.value === '') {\n",
    "                e.preventDefault();\n",
    "                para.textContent = 'You need to fill in both names!';\n",
    "            }\n",
    "        });\n",
    "    </script>\n",
    "</body>"
   ]
  },
  {
   "attachments": {},
   "cell_type": "markdown",
   "metadata": {
    "dotnet_interactive": {
     "language": "html"
    },
    "polyglot_notebook": {
     "kernelName": "html"
    }
   },
   "source": [
    "Try to run this without the `preventDefault()` and see what happens!"
   ]
  },
  {
   "attachments": {},
   "cell_type": "markdown",
   "metadata": {
    "dotnet_interactive": {
     "language": "html"
    },
    "polyglot_notebook": {
     "kernelName": "html"
    }
   },
   "source": [
    "## Event Bubbling"
   ]
  },
  {
   "cell_type": "code",
   "execution_count": null,
   "metadata": {
    "dotnet_interactive": {
     "language": "html"
    },
    "polyglot_notebook": {
     "kernelName": "html"
    },
    "vscode": {
     "languageId": "polyglot-notebook"
    }
   },
   "outputs": [],
   "source": [
    "<body>\n",
    "    <div id=\"container\">\n",
    "        <button>Click me!</button>\n",
    "    </div>\n",
    "    <pre id=\"output\"></pre>\n",
    "\n",
    "    <script>\n",
    "        const output = document.querySelector('#output');\n",
    "        function handleClick(e) {\n",
    "            output.textContent += `You clicked on a ${e.currentTarget.tagName} element\\n`;\n",
    "        }\n",
    "\n",
    "        const container = document.querySelector('#container');\n",
    "        container.addEventListener('click', handleClick);\n",
    "    </script>\n",
    "</body>"
   ]
  },
  {
   "attachments": {},
   "cell_type": "markdown",
   "metadata": {
    "dotnet_interactive": {
     "language": "html"
    },
    "polyglot_notebook": {
     "kernelName": "html"
    }
   },
   "source": [
    "Before running this make sure you take a look and notice how we add the event listener to the CONTAINER. So if we click on the button, will the code run?"
   ]
  },
  {
   "attachments": {},
   "cell_type": "markdown",
   "metadata": {
    "dotnet_interactive": {
     "language": "html"
    },
    "polyglot_notebook": {
     "kernelName": "html"
    }
   },
   "source": [
    "What happens if we add an event to the `<button>` as well?"
   ]
  },
  {
   "cell_type": "code",
   "execution_count": null,
   "metadata": {
    "dotnet_interactive": {
     "language": "html"
    },
    "polyglot_notebook": {
     "kernelName": "html"
    },
    "vscode": {
     "languageId": "polyglot-notebook"
    }
   },
   "outputs": [],
   "source": [
    "<body>\n",
    "    <div id=\"container\">\n",
    "        <button>Click me!</button>\n",
    "    </div>\n",
    "    <pre id=\"output\"></pre>\n",
    "\n",
    "    <script>\n",
    "        const output = document.querySelector('#output');\n",
    "        const but = document.querySelector('button');\n",
    "        function handleClick(e) {\n",
    "            output.textContent += `You clicked on a ${e.currentTarget.tagName} element\\n`;\n",
    "        }\n",
    "\n",
    "        const container = document.querySelector('#container');\n",
    "        container.addEventListener('click', handleClick);\n",
    "        button.addEventListener('click', handleClick);\n",
    "    </script>\n",
    "</body>"
   ]
  },
  {
   "attachments": {},
   "cell_type": "markdown",
   "metadata": {
    "dotnet_interactive": {
     "language": "html"
    },
    "polyglot_notebook": {
     "kernelName": "html"
    }
   },
   "source": [
    "Notice the output is:  \n",
    "`You clicked on a BUTTON element`  \n",
    "`You clicked on a DIV element`"
   ]
  },
  {
   "attachments": {},
   "cell_type": "markdown",
   "metadata": {
    "dotnet_interactive": {
     "language": "html"
    },
    "polyglot_notebook": {
     "kernelName": "html"
    }
   },
   "source": [
    "1. Click on the button fires first\n",
    "2. Then the click on its parent"
   ]
  },
  {
   "attachments": {},
   "cell_type": "markdown",
   "metadata": {
    "dotnet_interactive": {
     "language": "html"
    },
    "polyglot_notebook": {
     "kernelName": "html"
    }
   },
   "source": [
    "This is an example of an event that \"bubbles up\" from the innermost child."
   ]
  },
  {
   "attachments": {},
   "cell_type": "markdown",
   "metadata": {
    "dotnet_interactive": {
     "language": "html"
    },
    "polyglot_notebook": {
     "kernelName": "html"
    }
   },
   "source": [
    "Sometimes we want this, but other times we don't. We can use this function:  \n",
    "`stopPropagation()`  \n",
    "to prevent this from happening.  \n",
    "<br>\n",
    "Here is an example:"
   ]
  },
  {
   "cell_type": "code",
   "execution_count": null,
   "metadata": {
    "dotnet_interactive": {
     "language": "html"
    },
    "polyglot_notebook": {
     "kernelName": "html"
    },
    "vscode": {
     "languageId": "polyglot-notebook"
    }
   },
   "outputs": [],
   "source": [
    "<body>\n",
    "    <div id=\"container\">\n",
    "        <button>Click me!</button>\n",
    "    </div>\n",
    "    <pre id=\"output\"></pre>\n",
    "\n",
    "    <script>\n",
    "        const output = document.querySelector('#output');\n",
    "        const but = document.querySelector('button');\n",
    "        function handleClick(e) {\n",
    "            e.stopPropagation();\n",
    "            output.textContent += `You clicked on a ${e.currentTarget.tagName} element\\n`;\n",
    "        }\n",
    "\n",
    "        const container = document.querySelector('#container');\n",
    "        container.addEventListener('click', handleClick);\n",
    "        button.addEventListener('click', handleClick);\n",
    "    </script>\n",
    "</body>"
   ]
  },
  {
   "attachments": {},
   "cell_type": "markdown",
   "metadata": {
    "dotnet_interactive": {
     "language": "html"
    },
    "polyglot_notebook": {
     "kernelName": "html"
    }
   },
   "source": [
    "Notice which event actually gets fired!"
   ]
  },
  {
   "attachments": {},
   "cell_type": "markdown",
   "metadata": {
    "dotnet_interactive": {
     "language": "html"
    },
    "polyglot_notebook": {
     "kernelName": "html"
    }
   },
   "source": [
    "## Event Capture"
   ]
  },
  {
   "attachments": {},
   "cell_type": "markdown",
   "metadata": {
    "dotnet_interactive": {
     "language": "html"
    },
    "polyglot_notebook": {
     "kernelName": "html"
    }
   },
   "source": [
    "Event capture is just the reverse ordering of event bubbling. Instead of starting with the child and propagating up, it starts with the parent and propagates down."
   ]
  },
  {
   "attachments": {},
   "cell_type": "markdown",
   "metadata": {
    "dotnet_interactive": {
     "language": "html"
    },
    "polyglot_notebook": {
     "kernelName": "html"
    }
   },
   "source": [
    "Event capture is off by default, and you can enable it by passing the `capture` option in the `addEventListener()` method:"
   ]
  },
  {
   "cell_type": "code",
   "execution_count": null,
   "metadata": {
    "dotnet_interactive": {
     "language": "html"
    },
    "polyglot_notebook": {
     "kernelName": "html"
    },
    "vscode": {
     "languageId": "polyglot-notebook"
    }
   },
   "outputs": [],
   "source": [
    "<body>\n",
    "  <div id=\"container\">\n",
    "    <button>Click me!</button>\n",
    "  </div>\n",
    "  <pre id=\"output\"></pre>\n",
    "  <script>\n",
    "    const output = document.querySelector('#output');\n",
    "    function handleClick(e) {\n",
    "    output.textContent += `You clicked on a ${e.currentTarget.tagName} element\\n`;\n",
    "    }\n",
    "\n",
    "    const container = document.querySelector('#container');\n",
    "    const button = document.querySelector('button');\n",
    "\n",
    "    document.body.addEventListener('click', handleClick, { capture: true });\n",
    "    container.addEventListener('click', handleClick, { capture: true });\n",
    "    button.addEventListener('click', handleClick);\n",
    "  </script>\n",
    "</body>"
   ]
  },
  {
   "attachments": {},
   "cell_type": "markdown",
   "metadata": {
    "dotnet_interactive": {
     "language": "html"
    },
    "polyglot_notebook": {
     "kernelName": "html"
    }
   },
   "source": [
    "Notice I am using 3 event listeners, and the outtermost element is on the top."
   ]
  },
  {
   "attachments": {},
   "cell_type": "markdown",
   "metadata": {
    "dotnet_interactive": {
     "language": "html"
    },
    "polyglot_notebook": {
     "kernelName": "html"
    }
   },
   "source": [
    "### Event Delegation"
   ]
  },
  {
   "attachments": {},
   "cell_type": "markdown",
   "metadata": {
    "dotnet_interactive": {
     "language": "html"
    },
    "polyglot_notebook": {
     "kernelName": "html"
    }
   },
   "source": [
    "### NOTE: `event.target` is the element that was the TARGET of the event. `event.currentTarget` is the element that HANDLED the event."
   ]
  },
  {
   "attachments": {},
   "cell_type": "markdown",
   "metadata": {
    "dotnet_interactive": {
     "language": "html"
    },
    "polyglot_notebook": {
     "kernelName": "html"
    }
   },
   "source": [
    "We can delegate events by setting the event listener to the parent that listens to the events on its children, rather than setting one event listener to EVERY child. Here is a good example of this:"
   ]
  },
  {
   "cell_type": "code",
   "execution_count": null,
   "metadata": {
    "dotnet_interactive": {
     "language": "html"
    },
    "polyglot_notebook": {
     "kernelName": "html"
    },
    "vscode": {
     "languageId": "polyglot-notebook"
    }
   },
   "outputs": [],
   "source": [
    "<head>\n",
    "    <style>\n",
    "        .tile {\n",
    "            height: 100px;\n",
    "            width: 25%;\n",
    "            float: left;\n",
    "        }\n",
    "    </style>\n",
    "</head>\n",
    "<body>\n",
    "    <div id=\"container\">\n",
    "        <div class=\"tile\"></div>\n",
    "        <div class=\"tile\"></div>\n",
    "        <div class=\"tile\"></div>\n",
    "        <div class=\"tile\"></div>\n",
    "        <div class=\"tile\"></div>\n",
    "        <div class=\"tile\"></div>\n",
    "        <div class=\"tile\"></div>\n",
    "        <div class=\"tile\"></div>\n",
    "        <div class=\"tile\"></div>\n",
    "        <div class=\"tile\"></div>\n",
    "        <div class=\"tile\"></div>\n",
    "        <div class=\"tile\"></div>\n",
    "        <div class=\"tile\"></div>\n",
    "        <div class=\"tile\"></div>\n",
    "        <div class=\"tile\"></div>\n",
    "        <div class=\"tile\"></div>\n",
    "    </div>\n",
    "    <script>\n",
    "        function random(number) {\n",
    "            return Math.floor(Math.random()*number);\n",
    "        }\n",
    "\n",
    "        function bgChange() {\n",
    "            const rndCol = `rgb(${random(255)}, ${random(255)}, ${random(255)})`;\n",
    "            return rndCol;\n",
    "        }\n",
    "\n",
    "        const container = document.querySelector('#container');\n",
    "\n",
    "        container.addEventListener('click', (event) => event.target.style.backgroundColor = bgChange());\n",
    "    </script>\n",
    "</body>"
   ]
  },
  {
   "attachments": {},
   "cell_type": "markdown",
   "metadata": {
    "dotnet_interactive": {
     "language": "html"
    },
    "polyglot_notebook": {
     "kernelName": "html"
    }
   },
   "source": [
    "Notice how the `addEventListener` is on the container, not on any of the children. But we are still TARGETING the children because of `event.target` instead of `event.currentTarget`. When the element has no children, `target == currentTarget`."
   ]
  }
 ],
 "metadata": {
  "kernelspec": {
   "display_name": ".NET (C#)",
   "language": "C#",
   "name": ".net-csharp"
  },
  "polyglot_notebook": {
   "kernelInfo": {
    "defaultKernelName": "csharp",
    "items": [
     {
      "aliases": [
       "c#",
       "C#"
      ],
      "languageName": "C#",
      "name": "csharp"
     },
     {
      "aliases": [
       "frontend"
      ],
      "name": "vscode"
     },
     {
      "aliases": [],
      "name": ".NET"
     },
     {
      "aliases": [
       "f#",
       "F#"
      ],
      "languageName": "F#",
      "name": "fsharp"
     },
     {
      "aliases": [],
      "languageName": "HTML",
      "name": "html"
     },
     {
      "aliases": [
       "js"
      ],
      "languageName": "JavaScript",
      "name": "javascript"
     },
     {
      "aliases": [],
      "languageName": "KQL",
      "name": "kql"
     },
     {
      "aliases": [],
      "languageName": "Mermaid",
      "name": "mermaid"
     },
     {
      "aliases": [
       "powershell"
      ],
      "languageName": "PowerShell",
      "name": "pwsh"
     },
     {
      "aliases": [],
      "languageName": "SQL",
      "name": "sql"
     },
     {
      "aliases": [],
      "name": "value"
     },
     {
      "aliases": [],
      "name": "webview"
     }
    ]
   }
  }
 },
 "nbformat": 4,
 "nbformat_minor": 2
}
