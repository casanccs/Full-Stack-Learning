{
 "cells": [
  {
   "attachments": {},
   "cell_type": "markdown",
   "metadata": {
    "dotnet_interactive": {
     "language": "csharp"
    },
    "polyglot_notebook": {
     "kernelName": "csharp"
    }
   },
   "source": [
    "# Functions and DOM API"
   ]
  },
  {
   "attachments": {},
   "cell_type": "markdown",
   "metadata": {
    "dotnet_interactive": {
     "language": "csharp"
    },
    "polyglot_notebook": {
     "kernelName": "csharp"
    }
   },
   "source": [
    "Here is a basic function:"
   ]
  },
  {
   "cell_type": "code",
   "execution_count": 2,
   "metadata": {
    "dotnet_interactive": {
     "language": "javascript"
    },
    "polyglot_notebook": {
     "kernelName": "javascript"
    },
    "vscode": {
     "languageId": "polyglot-notebook"
    }
   },
   "outputs": [
    {
     "data": {
      "text/plain": [
       "6"
      ]
     },
     "metadata": {},
     "output_type": "display_data"
    },
    {
     "data": {
      "text/plain": [
       "Hello there"
      ]
     },
     "metadata": {},
     "output_type": "display_data"
    }
   ],
   "source": [
    "function adder(a,b){\n",
    "    return a + b\n",
    "}\n",
    "\n",
    "console.log(adder(1,5));\n",
    "console.log(adder(\"Hello \", \"there\"));"
   ]
  },
  {
   "attachments": {},
   "cell_type": "markdown",
   "metadata": {
    "dotnet_interactive": {
     "language": "javascript"
    },
    "polyglot_notebook": {
     "kernelName": "javascript"
    }
   },
   "source": [
    "Now let's try adding the JavaScript into our HTML:"
   ]
  },
  {
   "cell_type": "code",
   "execution_count": 4,
   "metadata": {
    "dotnet_interactive": {
     "language": "html"
    },
    "polyglot_notebook": {
     "kernelName": "html"
    },
    "vscode": {
     "languageId": "polyglot-notebook"
    }
   },
   "outputs": [
    {
     "data": {
      "text/html": [
       "<head>\r\n",
       "</head>\r\n",
       "<body>\r\n",
       "<h1>Hello Everyone!</h1>\r\n",
       "<script>\r\n",
       "function adder(a,b){\r\n",
       "    return a + b\r\n",
       "}\r\n",
       "\r\n",
       "console.log(adder(1,5));\r\n",
       "console.log(adder(\"Hello \", \"there\"));\r\n",
       "</script>\r\n",
       "</body>"
      ]
     },
     "metadata": {},
     "output_type": "display_data"
    }
   ],
   "source": [
    "<head>\n",
    "</head>\n",
    "<body>\n",
    "<h1>Hello Everyone!</h1>\n",
    "<script>\n",
    "function adder(a,b){\n",
    "    return a + b\n",
    "}\n",
    "\n",
    "console.log(adder(1,5));\n",
    "console.log(adder(\"Hello \", \"there\"));\n",
    "</script>\n",
    "</body>"
   ]
  },
  {
   "attachments": {},
   "cell_type": "markdown",
   "metadata": {
    "dotnet_interactive": {
     "language": "html"
    },
    "polyglot_notebook": {
     "kernelName": "html"
    }
   },
   "source": [
    "### Remember, to run this code in the browser, because in VSCode while using HTML, we can only look at the `DOM`, not the console output!!!!"
   ]
  },
  {
   "attachments": {},
   "cell_type": "markdown",
   "metadata": {
    "dotnet_interactive": {
     "language": "html"
    },
    "polyglot_notebook": {
     "kernelName": "html"
    }
   },
   "source": [
    "Now, add this code:"
   ]
  },
  {
   "cell_type": "code",
   "execution_count": null,
   "metadata": {
    "dotnet_interactive": {
     "language": "html"
    },
    "polyglot_notebook": {
     "kernelName": "html"
    },
    "vscode": {
     "languageId": "polyglot-notebook"
    }
   },
   "outputs": [],
   "source": [
    "<!DOCTYPE html>\n",
    "<html lang=\"en-us\">\n",
    "  <head>\n",
    "    <meta charset=\"utf-8\">\n",
    "    <meta name=\"viewport\" content=\"width=device-width\">\n",
    "    <title>Function start</title>\n",
    "    <style>\n",
    "      .msgBox {\n",
    "        position: absolute;\n",
    "        top: 50%;\n",
    "        left: 50%;\n",
    "        transform: translate(-50%,-50%);\n",
    "        width: 200px;\n",
    "        background: #eee;\n",
    "      }\n",
    "\n",
    "      .msgBox p {\n",
    "        line-height: 1.5;\n",
    "        padding: 10px 20px;\n",
    "        color: #333;\n",
    "      }\n",
    "\n",
    "      .msgBox button {\n",
    "        background: none;\n",
    "        border: none;\n",
    "        position: absolute;\n",
    "        top: 0;\n",
    "        right: 0;\n",
    "        font-size: 1.1rem;\n",
    "        color: #aaa;\n",
    "      }\n",
    "\n",
    "    </style>\n",
    "  </head>\n",
    "  <body>\n",
    "    <button>Display message box</button>\n",
    "\n",
    "    <script>\n",
    "      function displayMessage(){\n",
    "            const body = document.body;\n",
    "\n",
    "            const panel = document.createElement('div');\n",
    "            panel.setAttribute('class','msgBox');\n",
    "            body.appendChild(panel);\n",
    "\n",
    "            const msg = document.createElement('p');\n",
    "            msg.textContent = 'This is a message box';\n",
    "            panel.appendChild(msg);\n",
    "\n",
    "            const closeBtn = document.createElement('button');\n",
    "            closeBtn.textContent = 'x';\n",
    "            panel.appendChild(closeBtn);\n",
    "\n",
    "            closeBtn.addEventListener('click', () => panel.parentNode.removeChild(panel));\n",
    "        }\n",
    "    </script>\n",
    "  </body>\n",
    "</html>"
   ]
  },
  {
   "attachments": {},
   "cell_type": "markdown",
   "metadata": {
    "dotnet_interactive": {
     "language": "html"
    },
    "polyglot_notebook": {
     "kernelName": "html"
    }
   },
   "source": [
    "Let's walk through step by step what each line of the function does:  \n",
    "1. `const body = document.body;`\n",
    "    - The constant, `body`, is assigned to refer to the entire `<body>` element, by using the `body` class property of the GLOBAL `document` object from the `DOM API`. \n",
    "2. `const panel = document.createElement('div');`\n",
    "    - The `DOM API` function, `document.createElement()` in this instance, creates a `<div>` element and stores the reference in the constant, `panel`. This will be the container of the message box.\n",
    "3. `panel.setAttribute('class', 'msgBox');`\n",
    "    - The `panel` method, `Element.setAttribute()`, in this instance will assign an attribute, `class`, with value `msgBox` to it. This is so we can style it using the `.msgBox` selector, as you can see in the `<style>` tag. This equivalent to: `<div class=\"msgBox\">`\n",
    "4. `body.appendChild(panel);`\n",
    "    - Then the `body` method, `Node.appendChild()`, will nest an element into the `body` element. In this instance, we are nesting the `panel` into the `body` of our `DOM`, because we need to specify where to put the `panel` we created."
   ]
  },
  {
   "attachments": {},
   "cell_type": "markdown",
   "metadata": {
    "dotnet_interactive": {
     "language": "html"
    },
    "polyglot_notebook": {
     "kernelName": "html"
    }
   },
   "source": [
    "The next two section do almost the same thing, but for `<p>` and `<button>` elements."
   ]
  },
  {
   "attachments": {},
   "cell_type": "markdown",
   "metadata": {
    "dotnet_interactive": {
     "language": "html"
    },
    "polyglot_notebook": {
     "kernelName": "html"
    }
   },
   "source": [
    "`closeBtn.addEventListener('click', function())`  \n",
    "This line will run a function when we `click` on the `closeBtn`. We will learn more about this in the `Events` section later on. The function we use, `panel.parentNode.removeChild(panel));`, is a `Node.removeChild()` method in the `DOM API`, where we specify that we want to remove a child from the HTML element. In this case, `Node` is the parent of `panel`, and we want to remove the child, `panel` which is itself.  "
   ]
  },
  {
   "attachments": {},
   "cell_type": "markdown",
   "metadata": {
    "dotnet_interactive": {
     "language": "html"
    },
    "polyglot_notebook": {
     "kernelName": "html"
    }
   },
   "source": [
    "Basically, the ENTIRE function that we created, does this:"
   ]
  },
  {
   "cell_type": "code",
   "execution_count": null,
   "metadata": {
    "dotnet_interactive": {
     "language": "html"
    },
    "polyglot_notebook": {
     "kernelName": "html"
    },
    "vscode": {
     "languageId": "polyglot-notebook"
    }
   },
   "outputs": [],
   "source": [
    "<div class=\"msgBox\">\n",
    "  <p>This is a message box</p>\n",
    "  <button>x</button>\n",
    "</div>"
   ]
  },
  {
   "attachments": {},
   "cell_type": "markdown",
   "metadata": {
    "dotnet_interactive": {
     "language": "html"
    },
    "polyglot_notebook": {
     "kernelName": "html"
    }
   },
   "source": [
    "Now we need to call the function, which we call under the definition of the function:"
   ]
  },
  {
   "cell_type": "code",
   "execution_count": null,
   "metadata": {
    "dotnet_interactive": {
     "language": "html"
    },
    "polyglot_notebook": {
     "kernelName": "html"
    },
    "vscode": {
     "languageId": "polyglot-notebook"
    }
   },
   "outputs": [],
   "source": [
    "<!DOCTYPE html>\n",
    "<html lang=\"en-us\">\n",
    "  <head>\n",
    "    <meta charset=\"utf-8\">\n",
    "    <meta name=\"viewport\" content=\"width=device-width\">\n",
    "    <title>Function start</title>\n",
    "    <style>\n",
    "      .msgBox {\n",
    "        position: absolute;\n",
    "        top: 50%;\n",
    "        left: 50%;\n",
    "        transform: translate(-50%,-50%);\n",
    "        width: 200px;\n",
    "        background: #eee;\n",
    "      }\n",
    "\n",
    "      .msgBox p {\n",
    "        line-height: 1.5;\n",
    "        padding: 10px 20px;\n",
    "        color: #333;\n",
    "      }\n",
    "\n",
    "      .msgBox button {\n",
    "        background: none;\n",
    "        border: none;\n",
    "        position: absolute;\n",
    "        top: 0;\n",
    "        right: 0;\n",
    "        font-size: 1.1rem;\n",
    "        color: #aaa;\n",
    "      }\n",
    "\n",
    "    </style>\n",
    "  </head>\n",
    "  <body>\n",
    "    <button>Display message box</button>\n",
    "\n",
    "    <script>\n",
    "      function displayMessage(){\n",
    "            const body = document.body;\n",
    "\n",
    "            const panel = document.createElement('div');\n",
    "            panel.setAttribute('class','msgBox');\n",
    "            body.appendChild(panel);\n",
    "\n",
    "            const msg = document.createElement('p');\n",
    "            msg.textContent = 'This is a message box';\n",
    "            panel.appendChild(msg);\n",
    "\n",
    "            const closeBtn = document.createElement('button');\n",
    "            closeBtn.textContent = 'x';\n",
    "            panel.appendChild(closeBtn);\n",
    "\n",
    "            closeBtn.addEventListener('click', () => panel.parentNode.removeChild(panel));\n",
    "        }\n",
    "    displayMessage();\n",
    "    </script>\n",
    "  </body>\n",
    "</html>"
   ]
  },
  {
   "attachments": {},
   "cell_type": "markdown",
   "metadata": {
    "dotnet_interactive": {
     "language": "html"
    },
    "polyglot_notebook": {
     "kernelName": "html"
    }
   },
   "source": [
    "Now let's delete the previous line, and add these two lines:  \n",
    "`const btn = document.querySelector('button');`  \n",
    "`btn.addEventListener('click', displayMessage);`"
   ]
  },
  {
   "cell_type": "code",
   "execution_count": null,
   "metadata": {
    "dotnet_interactive": {
     "language": "html"
    },
    "polyglot_notebook": {
     "kernelName": "html"
    },
    "vscode": {
     "languageId": "polyglot-notebook"
    }
   },
   "outputs": [],
   "source": [
    "<!DOCTYPE html>\n",
    "<html lang=\"en-us\">\n",
    "  <head>\n",
    "    <meta charset=\"utf-8\">\n",
    "    <meta name=\"viewport\" content=\"width=device-width\">\n",
    "    <title>Function start</title>\n",
    "    <style>\n",
    "      .msgBox {\n",
    "        position: absolute;\n",
    "        top: 50%;\n",
    "        left: 50%;\n",
    "        transform: translate(-50%,-50%);\n",
    "        width: 200px;\n",
    "        background: #eee;\n",
    "      }\n",
    "\n",
    "      .msgBox p {\n",
    "        line-height: 1.5;\n",
    "        padding: 10px 20px;\n",
    "        color: #333;\n",
    "      }\n",
    "\n",
    "      .msgBox button {\n",
    "        background: none;\n",
    "        border: none;\n",
    "        position: absolute;\n",
    "        top: 0;\n",
    "        right: 0;\n",
    "        font-size: 1.1rem;\n",
    "        color: #aaa;\n",
    "      }\n",
    "\n",
    "    </style>\n",
    "  </head>\n",
    "  <body>\n",
    "    <button>Display message box</button>\n",
    "\n",
    "    <script>\n",
    "      function displayMessage(){\n",
    "            const body = document.body;\n",
    "\n",
    "            const panel = document.createElement('div');\n",
    "            panel.setAttribute('class','msgBox');\n",
    "            body.appendChild(panel);\n",
    "\n",
    "            const msg = document.createElement('p');\n",
    "            msg.textContent = 'This is a message box';\n",
    "            panel.appendChild(msg);\n",
    "\n",
    "            const closeBtn = document.createElement('button');\n",
    "            closeBtn.textContent = 'x';\n",
    "            panel.appendChild(closeBtn);\n",
    "\n",
    "            closeBtn.addEventListener('click', () => panel.parentNode.removeChild(panel));\n",
    "        }\n",
    "        const btn = document.querySelector('button');\n",
    "        btn.addEventListener('click', displayMessage);\n",
    "    </script>\n",
    "  </body>\n",
    "</html>"
   ]
  },
  {
   "attachments": {},
   "cell_type": "markdown",
   "metadata": {
    "dotnet_interactive": {
     "language": "html"
    },
    "polyglot_notebook": {
     "kernelName": "html"
    }
   },
   "source": [
    "Notice that in the line, `btn.addEventListener('click', displayMessage)`, we don't add `()` next to the function name. Why don't we do that? Try to put them there, and see what happens."
   ]
  },
  {
   "attachments": {},
   "cell_type": "markdown",
   "metadata": {
    "dotnet_interactive": {
     "language": "html"
    },
    "polyglot_notebook": {
     "kernelName": "html"
    }
   },
   "source": [
    "Let's make the function better:"
   ]
  },
  {
   "attachments": {},
   "cell_type": "markdown",
   "metadata": {
    "dotnet_interactive": {
     "language": "html"
    },
    "polyglot_notebook": {
     "kernelName": "html"
    }
   },
   "source": [
    "Let's change the function to take in 2 parameters: `msgText` and `msgType`:"
   ]
  },
  {
   "cell_type": "code",
   "execution_count": null,
   "metadata": {
    "dotnet_interactive": {
     "language": "javascript"
    },
    "polyglot_notebook": {
     "kernelName": "javascript"
    },
    "vscode": {
     "languageId": "polyglot-notebook"
    }
   },
   "outputs": [],
   "source": [
    "function displayMessage(msgText, msgType){\n",
    "\n",
    "}"
   ]
  },
  {
   "attachments": {},
   "cell_type": "markdown",
   "metadata": {
    "dotnet_interactive": {
     "language": "javascript"
    },
    "polyglot_notebook": {
     "kernelName": "javascript"
    }
   },
   "source": [
    "Next we will change the `msg.textContent = 'This is a message box';` to:  \n",
    "`msg.textContent = msgText;`"
   ]
  },
  {
   "attachments": {},
   "cell_type": "markdown",
   "metadata": {
    "dotnet_interactive": {
     "language": "javascript"
    },
    "polyglot_notebook": {
     "kernelName": "javascript"
    }
   },
   "source": [
    "Lastly we will change:  \n",
    "`btn.addEventListener('click', displayMessage);`  \n",
    "To:  \n",
    "`btn.addEventListener('click', () => displayMessage('Woo, this is a different message!'));`"
   ]
  },
  {
   "attachments": {},
   "cell_type": "markdown",
   "metadata": {
    "dotnet_interactive": {
     "language": "javascript"
    },
    "polyglot_notebook": {
     "kernelName": "javascript"
    }
   },
   "source": [
    "Because we need to pass in parameters but don't want to call it directly, we must use the `() => function()` to make an anonymous function in order to not call it immediately. Notice how we don't need to pass in the second parameter!"
   ]
  },
  {
   "cell_type": "code",
   "execution_count": null,
   "metadata": {
    "dotnet_interactive": {
     "language": "javascript"
    },
    "polyglot_notebook": {
     "kernelName": "javascript"
    },
    "vscode": {
     "languageId": "polyglot-notebook"
    }
   },
   "outputs": [],
   "source": [
    "<!DOCTYPE html>\n",
    "<html lang=\"en-us\">\n",
    "  <head>\n",
    "    <meta charset=\"utf-8\">\n",
    "    <meta name=\"viewport\" content=\"width=device-width\">\n",
    "    <title>Function start</title>\n",
    "    <style>\n",
    "      .msgBox {\n",
    "        position: absolute;\n",
    "        top: 50%;\n",
    "        left: 50%;\n",
    "        transform: translate(-50%,-50%);\n",
    "        width: 200px;\n",
    "        background: #eee;\n",
    "      }\n",
    "\n",
    "      .msgBox p {\n",
    "        line-height: 1.5;\n",
    "        padding: 10px 20px;\n",
    "        color: #333;\n",
    "      }\n",
    "\n",
    "      .msgBox button {\n",
    "        background: none;\n",
    "        border: none;\n",
    "        position: absolute;\n",
    "        top: 0;\n",
    "        right: 0;\n",
    "        font-size: 1.1rem;\n",
    "        color: #aaa;\n",
    "      }\n",
    "\n",
    "    </style>\n",
    "  </head>\n",
    "  <body>\n",
    "    <button>Display message box</button>\n",
    "\n",
    "    <script>\n",
    "     function displayMessage(msgText, msgType){\n",
    "            const body = document.body;\n",
    "\n",
    "            const panel = document.createElement('div');\n",
    "            panel.setAttribute('class','msgBox');\n",
    "            body.appendChild(panel);\n",
    "\n",
    "            const msg = document.createElement('p');\n",
    "            msg.textContent = msgText;\n",
    "            panel.appendChild(msg);\n",
    "\n",
    "            const closeBtn = document.createElement('button');\n",
    "            closeBtn.textContent = 'x';\n",
    "            panel.appendChild(closeBtn);\n",
    "\n",
    "            closeBtn.addEventListener('click', () => panel.parentNode.removeChild(panel));\n",
    "        }\n",
    "        const btn = document.querySelector('button');\n",
    "        btn.addEventListener('click', () => displayMessage('Woo, this is a different message!'));\n",
    "    </script>\n",
    "  </body>\n",
    "</html>"
   ]
  },
  {
   "attachments": {},
   "cell_type": "markdown",
   "metadata": {
    "dotnet_interactive": {
     "language": "javascript"
    },
    "polyglot_notebook": {
     "kernelName": "javascript"
    }
   },
   "source": [
    "## Exercise"
   ]
  },
  {
   "attachments": {},
   "cell_type": "markdown",
   "metadata": {
    "dotnet_interactive": {
     "language": "javascript"
    },
    "polyglot_notebook": {
     "kernelName": "javascript"
    }
   },
   "source": [
    "Now we are going to use the second parameter, `msgType`, and pass 2 different types: `'warning'` and `'chat'`. If the `msgType === 'warning'`, then set the background color to `'red'` by using: `panel.style.backGround = 'red';`.  \n",
    "If the `msgType === 'chat'`, then set the back ground color to `'aqua'`.  \n",
    "Else, do whatever you want."
   ]
  },
  {
   "attachments": {},
   "cell_type": "markdown",
   "metadata": {
    "dotnet_interactive": {
     "language": "javascript"
    },
    "polyglot_notebook": {
     "kernelName": "javascript"
    }
   },
   "source": [
    "# Function and return values"
   ]
  },
  {
   "attachments": {},
   "cell_type": "markdown",
   "metadata": {
    "dotnet_interactive": {
     "language": "javascript"
    },
    "polyglot_notebook": {
     "kernelName": "javascript"
    }
   },
   "source": [
    "Let's start by example:"
   ]
  },
  {
   "cell_type": "code",
   "execution_count": 5,
   "metadata": {
    "dotnet_interactive": {
     "language": "javascript"
    },
    "polyglot_notebook": {
     "kernelName": "javascript"
    },
    "vscode": {
     "languageId": "polyglot-notebook"
    }
   },
   "outputs": [
    {
     "data": {
      "text/plain": [
       "The weather is warm"
      ]
     },
     "metadata": {},
     "output_type": "display_data"
    },
    {
     "data": {
      "text/plain": [
       "The weather is cold"
      ]
     },
     "metadata": {},
     "output_type": "display_data"
    }
   ],
   "source": [
    "let myText = \"The weather is cold\";\n",
    "let newString = myText.replace(\"cold\", \"warm\");\n",
    "myText.replace(\"is\", \"are\")\n",
    "console.log(newString);\n",
    "console.log(myText);\n"
   ]
  },
  {
   "attachments": {},
   "cell_type": "markdown",
   "metadata": {
    "dotnet_interactive": {
     "language": "javascript"
    },
    "polyglot_notebook": {
     "kernelName": "javascript"
    }
   },
   "source": [
    "Why is the second line the same original string?"
   ]
  },
  {
   "attachments": {},
   "cell_type": "markdown",
   "metadata": {
    "dotnet_interactive": {
     "language": "javascript"
    },
    "polyglot_notebook": {
     "kernelName": "javascript"
    }
   },
   "source": [
    "If we don't `return` anyting, then the `return` value is `void` or `undefined`."
   ]
  },
  {
   "cell_type": "code",
   "execution_count": null,
   "metadata": {
    "dotnet_interactive": {
     "language": "javascript"
    },
    "polyglot_notebook": {
     "kernelName": "javascript"
    },
    "vscode": {
     "languageId": "polyglot-notebook"
    }
   },
   "outputs": [],
   "source": [
    "function adder(a,b){\n",
    "    return a + b\n",
    "}\n",
    "\n",
    "console.log(adder(1,5));\n",
    "console.log(adder(\"Hello \", \"there\"));"
   ]
  },
  {
   "attachments": {},
   "cell_type": "markdown",
   "metadata": {
    "dotnet_interactive": {
     "language": "javascript"
    },
    "polyglot_notebook": {
     "kernelName": "javascript"
    }
   },
   "source": [
    "Because we learned Python, we already understand the usage of `return`."
   ]
  }
 ],
 "metadata": {
  "kernelspec": {
   "display_name": ".NET (C#)",
   "language": "C#",
   "name": ".net-csharp"
  },
  "polyglot_notebook": {
   "kernelInfo": {
    "defaultKernelName": "csharp",
    "items": [
     {
      "aliases": [
       "c#",
       "C#"
      ],
      "languageName": "C#",
      "name": "csharp"
     },
     {
      "aliases": [
       "frontend"
      ],
      "name": "vscode"
     },
     {
      "aliases": [
       "js"
      ],
      "languageName": "JavaScript",
      "name": "javascript"
     },
     {
      "aliases": [],
      "name": ".NET"
     },
     {
      "aliases": [
       "f#",
       "F#"
      ],
      "languageName": "F#",
      "name": "fsharp"
     },
     {
      "aliases": [],
      "languageName": "HTML",
      "name": "html"
     },
     {
      "aliases": [],
      "languageName": "KQL",
      "name": "kql"
     },
     {
      "aliases": [],
      "languageName": "Mermaid",
      "name": "mermaid"
     },
     {
      "aliases": [
       "powershell"
      ],
      "languageName": "PowerShell",
      "name": "pwsh"
     },
     {
      "aliases": [],
      "languageName": "SQL",
      "name": "sql"
     },
     {
      "aliases": [],
      "name": "value"
     },
     {
      "aliases": [],
      "name": "webview"
     }
    ]
   }
  }
 },
 "nbformat": 4,
 "nbformat_minor": 2
}
