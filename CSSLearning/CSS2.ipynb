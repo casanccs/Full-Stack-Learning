{
 "cells": [
  {
   "attachments": {},
   "cell_type": "markdown",
   "metadata": {
    "dotnet_interactive": {
     "language": "csharp"
    },
    "polyglot_notebook": {
     "kernelName": "csharp"
    }
   },
   "source": [
    "Remember to clear the output of all cells after each run!"
   ]
  },
  {
   "attachments": {},
   "cell_type": "markdown",
   "metadata": {
    "dotnet_interactive": {
     "language": "csharp"
    },
    "polyglot_notebook": {
     "kernelName": "csharp"
    }
   },
   "source": [
    "# The Box Model"
   ]
  },
  {
   "attachments": {},
   "cell_type": "markdown",
   "metadata": {
    "dotnet_interactive": {
     "language": "csharp"
    },
    "polyglot_notebook": {
     "kernelName": "csharp"
    }
   },
   "source": [
    "Everything in CSS has a box around it, and it is used to align and space items from one another."
   ]
  },
  {
   "attachments": {},
   "cell_type": "markdown",
   "metadata": {
    "dotnet_interactive": {
     "language": "csharp"
    },
    "polyglot_notebook": {
     "kernelName": "csharp"
    }
   },
   "source": [
    "All boxes have an **inner display type** and an **outer display type**. You can set the display type by using the `display` property, which can have various values like `inline` and `block`."
   ]
  },
  {
   "attachments": {},
   "cell_type": "markdown",
   "metadata": {
    "dotnet_interactive": {
     "language": "csharp"
    },
    "polyglot_notebook": {
     "kernelName": "csharp"
    }
   },
   "source": [
    "## Block and Inline Boxes"
   ]
  },
  {
   "attachments": {},
   "cell_type": "markdown",
   "metadata": {
    "dotnet_interactive": {
     "language": "csharp"
    },
    "polyglot_notebook": {
     "kernelName": "csharp"
    }
   },
   "source": [
    "The block and inline display types are for the **OUTER** display type."
   ]
  },
  {
   "attachments": {},
   "cell_type": "markdown",
   "metadata": {
    "dotnet_interactive": {
     "language": "csharp"
    },
    "polyglot_notebook": {
     "kernelName": "csharp"
    }
   },
   "source": [
    "### Block box:"
   ]
  },
  {
   "cell_type": "code",
   "execution_count": null,
   "metadata": {
    "dotnet_interactive": {
     "language": "html"
    },
    "polyglot_notebook": {
     "kernelName": "html"
    },
    "vscode": {
     "languageId": "polyglot-notebook"
    }
   },
   "outputs": [],
   "source": [
    "<head>\n",
    "<style>\n",
    "em {\n",
    "\n",
    "}\n",
    "</style>\n",
    "</head>\n",
    "<body>\n",
    "<em>I am line 1</em>\n",
    "<em>I am line 2</em>\n",
    "</body>"
   ]
  },
  {
   "cell_type": "code",
   "execution_count": null,
   "metadata": {
    "dotnet_interactive": {
     "language": "html"
    },
    "polyglot_notebook": {
     "kernelName": "html"
    },
    "vscode": {
     "languageId": "polyglot-notebook"
    }
   },
   "outputs": [],
   "source": [
    "<head>\n",
    "<style>\n",
    "em {\n",
    "    display: block;\n",
    "}\n",
    "</style>\n",
    "</head>\n",
    "<body>\n",
    "<em>I am line 1</em>\n",
    "<em>I am line 2</em>\n",
    "</body>"
   ]
  },
  {
   "attachments": {},
   "cell_type": "markdown",
   "metadata": {
    "dotnet_interactive": {
     "language": "html"
    },
    "polyglot_notebook": {
     "kernelName": "html"
    }
   },
   "source": [
    "We start by looking at the example above to see the results. Now we explain.  "
   ]
  },
  {
   "attachments": {},
   "cell_type": "markdown",
   "metadata": {
    "dotnet_interactive": {
     "language": "html"
    },
    "polyglot_notebook": {
     "kernelName": "html"
    }
   },
   "source": [
    "First of all, remember we learned about block and inline elements in HTML? Do you remember which one `<em>` is?  "
   ]
  },
  {
   "attachments": {},
   "cell_type": "markdown",
   "metadata": {
    "dotnet_interactive": {
     "language": "html"
    },
    "polyglot_notebook": {
     "kernelName": "html"
    }
   },
   "source": [
    "Because `<em>` is inline by default, the first block of code is inline, but then we set the `display` property of the element to `block`, which makes the element's display be of block type.  \n",
    "What does it mean for the element to have a block box?\n",
    "1. The box will break onto a new line. (Meaning the element will start on a new line regardless of the previous)\n",
    "2. The `width` and `height` properties will be respected. (So the box size is fixed)\n",
    "3. Padding, margin, and border will cause other elements to be pushed away from this box. (Will explain what these are later)\n",
    "4. The box will extend to fill the EINTRE space (in the x-direction) available in its container. So most of the time, the box's width will be the same width as the container.  "
   ]
  },
  {
   "attachments": {},
   "cell_type": "markdown",
   "metadata": {
    "dotnet_interactive": {
     "language": "html"
    },
    "polyglot_notebook": {
     "kernelName": "html"
    }
   },
   "source": [
    "What are some HTML elements that will have `block` as its display type by default?"
   ]
  },
  {
   "attachments": {},
   "cell_type": "markdown",
   "metadata": {
    "dotnet_interactive": {
     "language": "html"
    },
    "polyglot_notebook": {
     "kernelName": "html"
    }
   },
   "source": [
    "### Inline box:"
   ]
  },
  {
   "cell_type": "code",
   "execution_count": null,
   "metadata": {
    "dotnet_interactive": {
     "language": "html"
    },
    "polyglot_notebook": {
     "kernelName": "html"
    },
    "vscode": {
     "languageId": "polyglot-notebook"
    }
   },
   "outputs": [],
   "source": [
    "<head>\n",
    "<style>\n",
    "p {\n",
    "\n",
    "}\n",
    "</style>\n",
    "</head>\n",
    "<body>\n",
    "<p>I am line 1</p>\n",
    "<p>I am line 2</p>\n",
    "</body>"
   ]
  },
  {
   "cell_type": "code",
   "execution_count": null,
   "metadata": {
    "dotnet_interactive": {
     "language": "html"
    },
    "polyglot_notebook": {
     "kernelName": "html"
    },
    "vscode": {
     "languageId": "polyglot-notebook"
    }
   },
   "outputs": [],
   "source": [
    "<head>\n",
    "<style>\n",
    "p {\n",
    "    display: inline;\n",
    "}\n",
    "</style>\n",
    "</head>\n",
    "<body>\n",
    "<p>I am line 1</p>\n",
    "<p>I am line 2</p>\n",
    "</body>"
   ]
  },
  {
   "attachments": {},
   "cell_type": "markdown",
   "metadata": {
    "dotnet_interactive": {
     "language": "html"
    },
    "polyglot_notebook": {
     "kernelName": "html"
    }
   },
   "source": [
    "We learned a bit about inline previously, but here is more info:\n",
    "1. The box will not break into a new line.\n",
    "2. `width` and `height` properties will not apply to this box.\n",
    "3. **VERTICAL** padding, margins, and borders will apply but not cause other inline boxes to move away from the box.\n",
    "4. **HORIZONTAL** padding, margins, and borders will apply and WILL cause other inline boxes to move away from the box."
   ]
  },
  {
   "attachments": {},
   "cell_type": "markdown",
   "metadata": {
    "dotnet_interactive": {
     "language": "html"
    },
    "polyglot_notebook": {
     "kernelName": "html"
    }
   },
   "source": [
    "The inner display type dictates how the elements inside of the box are laid out. Some examples of inner display types are: `flex` for Flexbox, and `grid`."
   ]
  },
  {
   "attachments": {},
   "cell_type": "markdown",
   "metadata": {
    "dotnet_interactive": {
     "language": "html"
    },
    "polyglot_notebook": {
     "kernelName": "html"
    }
   },
   "source": [
    "Here is an example of block and inline in play:"
   ]
  },
  {
   "cell_type": "code",
   "execution_count": null,
   "metadata": {
    "dotnet_interactive": {
     "language": "html"
    },
    "polyglot_notebook": {
     "kernelName": "html"
    },
    "vscode": {
     "languageId": "polyglot-notebook"
    }
   },
   "outputs": [],
   "source": [
    "<head>\n",
    "<style>\n",
    "p, ul {\n",
    "  border: 2px solid rebeccapurple;\n",
    "  width: 450px;\n",
    "}\n",
    "\n",
    "span,li {\n",
    "  border: 2px solid blue;\n",
    "}\n",
    "\n",
    "ul {\n",
    "  display: inline-flex;\n",
    "  list-style: none;\n",
    "  padding: 0;\n",
    "} \n",
    "\n",
    ".inline {\n",
    "  display: inline;\n",
    "}\n",
    "\n",
    "    \n",
    "</style>\n",
    "</head>\n",
    "<body>\n",
    "    <p>\n",
    "      I am a paragraph. Some of the\n",
    "      <span>words</span> have been wrapped in a\n",
    "      <span>span element</span>.\n",
    "    </p>     \n",
    "    <ul>\n",
    "      <li>Item One</li>\n",
    "      <li>Item Two</li>\n",
    "      <li>Item Three</li>\n",
    "    </ul>\n",
    "    <p class=\"inline\">I am a paragraph. A short one.</p>\n",
    "    <p class=\"inline\">I am another paragraph. Also a short one.</p>\n",
    "</body>"
   ]
  },
  {
   "attachments": {},
   "cell_type": "markdown",
   "metadata": {
    "dotnet_interactive": {
     "language": "html"
    },
    "polyglot_notebook": {
     "kernelName": "html"
    }
   },
   "source": [
    "Why are there 4 purple boxes?  \n",
    "Why are the two bottom paragraphs in one line?   \n",
    "Why is the first paragraph and the unordered list box the same width?"
   ]
  },
  {
   "attachments": {},
   "cell_type": "markdown",
   "metadata": {
    "dotnet_interactive": {
     "language": "html"
    },
    "polyglot_notebook": {
     "kernelName": "html"
    }
   },
   "source": [
    "So if you want an easy way to look at the sizes of your boxes, use borders."
   ]
  },
  {
   "attachments": {},
   "cell_type": "markdown",
   "metadata": {
    "dotnet_interactive": {
     "language": "html"
    },
    "polyglot_notebook": {
     "kernelName": "html"
    }
   },
   "source": [
    "## The CSS Box Model"
   ]
  },
  {
   "attachments": {},
   "cell_type": "markdown",
   "metadata": {
    "dotnet_interactive": {
     "language": "html"
    },
    "polyglot_notebook": {
     "kernelName": "html"
    }
   },
   "source": [
    "The box model defines how the different parts of a box work together to create a box you can see on a page. BUT...inline boxes use only ***SOME*** of the behaviors defined in the box model. There is a **standard and alternate** box model. By default, browsers use the standard box model."
   ]
  },
  {
   "attachments": {},
   "cell_type": "markdown",
   "metadata": {
    "dotnet_interactive": {
     "language": "html"
    },
    "polyglot_notebook": {
     "kernelName": "html"
    }
   },
   "source": [
    "### Parts of a box"
   ]
  },
  {
   "attachments": {},
   "cell_type": "markdown",
   "metadata": {
    "dotnet_interactive": {
     "language": "html"
    },
    "polyglot_notebook": {
     "kernelName": "html"
    }
   },
   "source": [
    "In the block box there is:\n",
    "1. **Content box**: Area where content is displayed. Size it using properties - `inline-size` and `block-size` or `width` and `height.\n",
    "2. **Padding box**: Area around the content as white space. Size it using properties - `padding` and other properties with `padding` in it.\n",
    "3. **Border box**: Area around the content and padding. Size it using properties - `border` and other properties with `border` in it.\n",
    "4. **Margin box**: Area around the border that is whitespace. It will be the area between this box and the other element's boxes. Size it using properties - `margin` and other properties with `margin` in it."
   ]
  },
  {
   "attachments": {},
   "cell_type": "markdown",
   "metadata": {
    "dotnet_interactive": {
     "language": "html"
    },
    "polyglot_notebook": {
     "kernelName": "html"
    }
   },
   "source": [
    "<img src=\"boxdim.png\" style=\"background:white\">"
   ]
  },
  {
   "attachments": {},
   "cell_type": "markdown",
   "metadata": {
    "dotnet_interactive": {
     "language": "html"
    },
    "polyglot_notebook": {
     "kernelName": "html"
    }
   },
   "source": [
    "#### Note: Margin does not count toward actual size of the box, but does count as total space taken up on the page. So the box's area stops at the border"
   ]
  },
  {
   "attachments": {},
   "cell_type": "markdown",
   "metadata": {
    "dotnet_interactive": {
     "language": "html"
    },
    "polyglot_notebook": {
     "kernelName": "html"
    }
   },
   "source": [
    "### Standard CSS Box Model"
   ]
  },
  {
   "attachments": {},
   "cell_type": "markdown",
   "metadata": {
    "dotnet_interactive": {
     "language": "html"
    },
    "polyglot_notebook": {
     "kernelName": "html"
    }
   },
   "source": [
    "In standard css box model, if you give a box `inline-size` or `block-size` attributes, then the `width` and `height` will define the size of the **CONTENT** box. So the actual size of the box is:\n",
    "1. Width of the box = `width` + 2*`padding` + 2*`border`  (referring to x padding and border)\n",
    "2. Height of the box = `height` + 2*`padding` + 2*`border` (referring to y padding and border)"
   ]
  },
  {
   "cell_type": "code",
   "execution_count": null,
   "metadata": {
    "dotnet_interactive": {
     "language": "html"
    },
    "polyglot_notebook": {
     "kernelName": "html"
    },
    "vscode": {
     "languageId": "polyglot-notebook"
    }
   },
   "outputs": [],
   "source": [
    ".box {  \n",
    "  width: 350px;  \n",
    "  height: 150px;  \n",
    "  margin: 10px;  \n",
    "  padding: 25px;  \n",
    "  border: 5px solid black;  \n",
    "}"
   ]
  },
  {
   "attachments": {},
   "cell_type": "markdown",
   "metadata": {
    "dotnet_interactive": {
     "language": "html"
    },
    "polyglot_notebook": {
     "kernelName": "html"
    }
   },
   "source": [
    "What is the width and height of the actual size of the box in the example above?"
   ]
  },
  {
   "attachments": {},
   "cell_type": "markdown",
   "metadata": {
    "dotnet_interactive": {
     "language": "html"
    },
    "polyglot_notebook": {
     "kernelName": "html"
    }
   },
   "source": [
    "### Alternative CSS Box Model"
   ]
  },
  {
   "attachments": {},
   "cell_type": "markdown",
   "metadata": {
    "dotnet_interactive": {
     "language": "html"
    },
    "polyglot_notebook": {
     "kernelName": "html"
    }
   },
   "source": [
    "In alternative css box model, the `width` and `height` will define the size of the **VISIBLE/ACTUAL** size of the box. So the content area width will be the `width` minues the width of the padding and border."
   ]
  },
  {
   "attachments": {},
   "cell_type": "markdown",
   "metadata": {
    "dotnet_interactive": {
     "language": "html"
    },
    "polyglot_notebook": {
     "kernelName": "html"
    }
   },
   "source": [
    "To set alternative css box model, use `box-sizing: border-box`:"
   ]
  },
  {
   "cell_type": "code",
   "execution_count": null,
   "metadata": {
    "dotnet_interactive": {
     "language": "html"
    },
    "polyglot_notebook": {
     "kernelName": "html"
    },
    "vscode": {
     "languageId": "polyglot-notebook"
    }
   },
   "outputs": [],
   "source": [
    ".box {\n",
    "    box-sizing: border-box;\n",
    "}"
   ]
  },
  {
   "attachments": {},
   "cell_type": "markdown",
   "metadata": {
    "dotnet_interactive": {
     "language": "html"
    },
    "polyglot_notebook": {
     "kernelName": "html"
    }
   },
   "source": [
    ".box {\n",
    "  width: 350px;\n",
    "  inline-size: 350px;\n",
    "  height: 150px;\n",
    "  block-size: 150px;\n",
    "  margin: 10px;\n",
    "  padding: 25px;\n",
    "  border: 5px solid black;\n",
    "}"
   ]
  },
  {
   "attachments": {},
   "cell_type": "markdown",
   "metadata": {
    "dotnet_interactive": {
     "language": "html"
    },
    "polyglot_notebook": {
     "kernelName": "html"
    }
   },
   "source": [
    "What is the width and height of the actual size of the box in the example above?  \n",
    "What is the width and height of the content box in the example above?"
   ]
  },
  {
   "attachments": {},
   "cell_type": "markdown",
   "metadata": {
    "dotnet_interactive": {
     "language": "html"
    },
    "polyglot_notebook": {
     "kernelName": "html"
    }
   },
   "source": [
    "#### In order to set alternative box model for all elements in the document, you can just use the `html` selector in CSS, and set its `box-sizing` property to `border-box`, and set all other elements to inherit that value."
   ]
  },
  {
   "cell_type": "code",
   "execution_count": null,
   "metadata": {
    "dotnet_interactive": {
     "language": "html"
    },
    "polyglot_notebook": {
     "kernelName": "html"
    },
    "vscode": {
     "languageId": "polyglot-notebook"
    }
   },
   "outputs": [],
   "source": [
    "html {\n",
    "  box-sizing: border-box;\n",
    "}\n",
    "*,*::before,*::after {\n",
    "  box-sizing: inherit;\n",
    "}"
   ]
  },
  {
   "attachments": {},
   "cell_type": "markdown",
   "metadata": {
    "dotnet_interactive": {
     "language": "html"
    },
    "polyglot_notebook": {
     "kernelName": "html"
    }
   },
   "source": [
    "Try to see what the `::before` and `::after` pseudo-elements do!"
   ]
  },
  {
   "cell_type": "code",
   "execution_count": null,
   "metadata": {
    "dotnet_interactive": {
     "language": "html"
    },
    "polyglot_notebook": {
     "kernelName": "html"
    },
    "vscode": {
     "languageId": "polyglot-notebook"
    }
   },
   "outputs": [],
   "source": [
    "<head>\n",
    "<style>\n",
    ".box {\n",
    "    border: 5px solid rebeccapurple;\n",
    "    background-color: lightgray;\n",
    "    padding: 40px;\n",
    "    margin: 40px;\n",
    "    width: 300px;\n",
    "    height: 150px;\n",
    "}\n",
    "\n",
    ".alternate {\n",
    "  box-sizing: border-box;\n",
    "}\n",
    "</style>\n",
    "</head>\n",
    "<body>\n",
    "    <div class=\"box\">I use the standard box model.</div>\n",
    "    <div class=\"box alternate\">I use the alternate box model.</div>\n",
    "</body>"
   ]
  },
  {
   "attachments": {},
   "cell_type": "markdown",
   "metadata": {
    "dotnet_interactive": {
     "language": "html"
    },
    "polyglot_notebook": {
     "kernelName": "html"
    }
   },
   "source": [
    "How can you make the alternate box model be the same size as the standard without changing the alternate to standard?"
   ]
  },
  {
   "attachments": {},
   "cell_type": "markdown",
   "metadata": {
    "dotnet_interactive": {
     "language": "html"
    },
    "polyglot_notebook": {
     "kernelName": "html"
    }
   },
   "source": [
    "You can also use the browser DevTools to view the box model of every single element in a document, and even change the sizes in the browser and see immediate results!"
   ]
  },
  {
   "attachments": {},
   "cell_type": "markdown",
   "metadata": {
    "dotnet_interactive": {
     "language": "html"
    },
    "polyglot_notebook": {
     "kernelName": "html"
    }
   },
   "source": [
    "## Margins, Padding, and Borders"
   ]
  },
  {
   "attachments": {},
   "cell_type": "markdown",
   "metadata": {
    "dotnet_interactive": {
     "language": "html"
    },
    "polyglot_notebook": {
     "kernelName": "html"
    }
   },
   "source": [
    "Each of these have shorthand equivalents to the longhand, which lets you set different values for the 4 different sides of the box."
   ]
  },
  {
   "attachments": {},
   "cell_type": "markdown",
   "metadata": {
    "dotnet_interactive": {
     "language": "html"
    },
    "polyglot_notebook": {
     "kernelName": "html"
    }
   },
   "source": [
    "### Margin"
   ]
  },
  {
   "attachments": {},
   "cell_type": "markdown",
   "metadata": {
    "dotnet_interactive": {
     "language": "html"
    },
    "polyglot_notebook": {
     "kernelName": "html"
    }
   },
   "source": [
    "Invisible space around the box which pushes other elements away from the box. This can have positive or negative values, with negative values allowing other elements to overlap with the box.  \n",
    "Properties controlling this are:\n",
    "* `margin`\n",
    "* `margin-top`\n",
    "* `margin-right`\n",
    "* `margin-bottom`\n",
    "* `margin-left`"
   ]
  },
  {
   "cell_type": "code",
   "execution_count": null,
   "metadata": {
    "dotnet_interactive": {
     "language": "html"
    },
    "polyglot_notebook": {
     "kernelName": "html"
    },
    "vscode": {
     "languageId": "polyglot-notebook"
    }
   },
   "outputs": [],
   "source": [
    "p {\n",
    "    margin: 1px;\n",
    "}\n",
    "p {\n",
    "    margin: 10px 5px;\n",
    "}\n",
    "p {\n",
    "    margin: 1px 3px 4px\n",
    "}\n",
    "p {\n",
    "    margin: 1px 2px 3px 4px\n",
    "}"
   ]
  },
  {
   "attachments": {},
   "cell_type": "markdown",
   "metadata": {
    "dotnet_interactive": {
     "language": "html"
    },
    "polyglot_notebook": {
     "kernelName": "html"
    }
   },
   "source": [
    "In the code above:\n",
    "1. Applies 1px margin to all sides\n",
    "2. Applies 10px margin to top and bottom, then 5px margin to left and right\n",
    "3. Applies 1px margin to top, 3px to left and right, then 4px to bottom\n",
    "4. Applies 1px top, 2px right, 3px left, 4px to bottom"
   ]
  },
  {
   "attachments": {},
   "cell_type": "markdown",
   "metadata": {
    "dotnet_interactive": {
     "language": "html"
    },
    "polyglot_notebook": {
     "kernelName": "html"
    }
   },
   "source": [
    "There is ***Margin Collapsing***, which take into account two boxes whose margins touch, and the results will be different depending on positive or negative margins:\n",
    "* Two positive margins will combine to become one margin. The size will be the largest individual margin.\n",
    "* Two negative margins will collapse and the smallest (furthest from zero) value will be used.\n",
    "* If only one margin is negative while the other is positive, the value will be subtracted from the total."
   ]
  },
  {
   "attachments": {},
   "cell_type": "markdown",
   "metadata": {
    "dotnet_interactive": {
     "language": "html"
    },
    "polyglot_notebook": {
     "kernelName": "html"
    }
   },
   "source": [
    "Just remember that margin collapsing is a thing that happens when you create space with margins and don't get the space you expect."
   ]
  },
  {
   "attachments": {},
   "cell_type": "markdown",
   "metadata": {
    "dotnet_interactive": {
     "language": "html"
    },
    "polyglot_notebook": {
     "kernelName": "html"
    }
   },
   "source": [
    "If you set the `display` property to either `float` or `absolute`, then the margins will never collapse. We will learn what it means to float and have absolute positioned boxes later."
   ]
  },
  {
   "attachments": {},
   "cell_type": "markdown",
   "metadata": {
    "dotnet_interactive": {
     "language": "html"
    },
    "polyglot_notebook": {
     "kernelName": "html"
    }
   },
   "source": [
    "You can look more into the specifics of margin collapsing here: https://developer.mozilla.org/en-US/docs/Web/CSS/CSS_Box_Model/Mastering_margin_collapsing"
   ]
  },
  {
   "attachments": {},
   "cell_type": "markdown",
   "metadata": {
    "dotnet_interactive": {
     "language": "html"
    },
    "polyglot_notebook": {
     "kernelName": "html"
    }
   },
   "source": [
    "### Borders"
   ]
  },
  {
   "attachments": {},
   "cell_type": "markdown",
   "metadata": {
    "dotnet_interactive": {
     "language": "html"
    },
    "polyglot_notebook": {
     "kernelName": "html"
    }
   },
   "source": [
    "Borders are drawn between the margin and padding of a box. They are the edge of the box, that you can choose to hide or color. There are four borders, and you can style, add width, or color each side individually."
   ]
  },
  {
   "attachments": {},
   "cell_type": "markdown",
   "metadata": {
    "dotnet_interactive": {
     "language": "html"
    },
    "polyglot_notebook": {
     "kernelName": "html"
    }
   },
   "source": [
    "For setting properties to each side individually:  \n",
    "* `border-top`\n",
    "* `border-right`\n",
    "* `border-bottom`\n",
    "* `border-left`  \n",
    "To set width, style, or color of ALL sides:\n",
    "* `border-width`\n",
    "* `border-style`\n",
    "* `border-color`  \n",
    "To set width, style, or color of an individual sides:\n",
    "* `border-top-width`\n",
    "* `border-top-style`\n",
    "* `border-top-color`  \n",
    "* ... Just change `top` to the other sides\n"
   ]
  },
  {
   "cell_type": "code",
   "execution_count": null,
   "metadata": {
    "dotnet_interactive": {
     "language": "html"
    },
    "polyglot_notebook": {
     "kernelName": "html"
    },
    "vscode": {
     "languageId": "polyglot-notebook"
    }
   },
   "outputs": [],
   "source": [
    "<head>\n",
    "<style>\n",
    ".container {\n",
    "  border-top: 5px dotted green;\n",
    "  border-right: 1px solid black;\n",
    "  border-bottom: 20px double rgb(23,45,145);\n",
    "}\n",
    "\n",
    ".box {\n",
    "  border: 1px solid #333333;\n",
    "  border-top-style: dotted;\n",
    "  border-right-width: 20px;\n",
    "  border-bottom-color: hotpink;\n",
    "}\n",
    "</style>\n",
    "</head>\n",
    "<body>\n",
    "    <div class=\"container\">\n",
    "        <div class=\"box\">Change my borders.</div>\n",
    "    </div>\n",
    "    \n",
    "</body>"
   ]
  },
  {
   "attachments": {},
   "cell_type": "markdown",
   "metadata": {
    "dotnet_interactive": {
     "language": "html"
    },
    "polyglot_notebook": {
     "kernelName": "html"
    }
   },
   "source": [
    "Make sure you understand how the borders were created."
   ]
  },
  {
   "attachments": {},
   "cell_type": "markdown",
   "metadata": {
    "dotnet_interactive": {
     "language": "html"
    },
    "polyglot_notebook": {
     "kernelName": "html"
    }
   },
   "source": [
    "### Padding"
   ]
  },
  {
   "attachments": {},
   "cell_type": "markdown",
   "metadata": {
    "dotnet_interactive": {
     "language": "html"
    },
    "polyglot_notebook": {
     "kernelName": "html"
    }
   },
   "source": [
    "Space between the border and content area. Used to push border away from the content. You cannot have negative padding. Any background applied to the element will be displayed behind the padding."
   ]
  },
  {
   "attachments": {},
   "cell_type": "markdown",
   "metadata": {
    "dotnet_interactive": {
     "language": "html"
    },
    "polyglot_notebook": {
     "kernelName": "html"
    }
   },
   "source": [
    "Use these properties to set:\n",
    "* `padding`\n",
    "* `padding-top`\n",
    "* `padding-right`\n",
    "* `padding-bottom`\n",
    "* `padding-left`"
   ]
  },
  {
   "attachments": {},
   "cell_type": "markdown",
   "metadata": {
    "dotnet_interactive": {
     "language": "html"
    },
    "polyglot_notebook": {
     "kernelName": "html"
    }
   },
   "source": [
    "The ways to implement the shorthand margin, `margin`, is the same for the shorthand padding, `padding`."
   ]
  },
  {
   "attachments": {},
   "cell_type": "markdown",
   "metadata": {
    "dotnet_interactive": {
     "language": "html"
    },
    "polyglot_notebook": {
     "kernelName": "html"
    }
   },
   "source": [
    "Try to make the output of this yourself. (Make sure they don't look if trying it out)"
   ]
  },
  {
   "cell_type": "code",
   "execution_count": null,
   "metadata": {
    "dotnet_interactive": {
     "language": "html"
    },
    "polyglot_notebook": {
     "kernelName": "html"
    },
    "vscode": {
     "languageId": "polyglot-notebook"
    }
   },
   "outputs": [],
   "source": [
    "<head>\n",
    "<style>\n",
    ".box {\n",
    "  padding-top: 0;\n",
    "  padding-right: 30px;\n",
    "  padding-bottom: 40px;\n",
    "  padding-left: 4em;\n",
    "  border: 5px solid rebeccapurple;\n",
    "  background-color: lightgray;\n",
    "}\n",
    "\n",
    ".container {\n",
    "  padding: 20px;\n",
    "  border: 5px solid blue;\n",
    "}\n",
    "    \n",
    "</style>\n",
    "</head>\n",
    "<body>\n",
    "    <div class=\"container\">\n",
    "        <div class=\"box\">Change my borders.</div>\n",
    "    </div>\n",
    "</body>"
   ]
  },
  {
   "attachments": {},
   "cell_type": "markdown",
   "metadata": {
    "dotnet_interactive": {
     "language": "html"
    },
    "polyglot_notebook": {
     "kernelName": "html"
    }
   },
   "source": [
    "## The Box Model and Inline Boxes"
   ]
  },
  {
   "attachments": {},
   "cell_type": "markdown",
   "metadata": {
    "dotnet_interactive": {
     "language": "html"
    },
    "polyglot_notebook": {
     "kernelName": "html"
    }
   },
   "source": [
    "As stated before, everything above applies for block boxes. Some of the properties can apply to inline boxes as well like the `<span>` element."
   ]
  },
  {
   "attachments": {},
   "cell_type": "markdown",
   "metadata": {
    "dotnet_interactive": {
     "language": "html"
    },
    "polyglot_notebook": {
     "kernelName": "html"
    }
   },
   "source": [
    "Try to create a paragraph a couple of lines long. Then wrap a part of the paragraph in a `<span>` tag, and give the span properties of border, padding, margin, width, and height. Try to see what changes the span, and what doesn't."
   ]
  },
  {
   "cell_type": "code",
   "execution_count": null,
   "metadata": {
    "dotnet_interactive": {
     "language": "html"
    },
    "polyglot_notebook": {
     "kernelName": "html"
    },
    "vscode": {
     "languageId": "polyglot-notebook"
    }
   },
   "outputs": [],
   "source": [
    "<head>\n",
    "<style>\n",
    "    p {\n",
    "        width: 200px;\n",
    "        border: 2px solid black;\n",
    "    }\n",
    "    span {\n",
    "        width: 100px;\n",
    "        border: 20px solid red;\n",
    "        padding: 20px;\n",
    "        margin: 20px;\n",
    "    }\n",
    "</style>\n",
    "</head>\n",
    "<body>\n",
    "    <p>\n",
    "        Hello there. Hello there.\n",
    "        Hello there. Hello there.\n",
    "        Hello there. Hello there.\n",
    "        Hello there. Hello there.\n",
    "        <span>span.</span>\n",
    "        Hello there. Hello there.\n",
    "        Hello there. Hello there.\n",
    "        Hello there. Hello there.\n",
    "        Hello there. Hello there. \n",
    "    </p>\n",
    "</body>"
   ]
  },
  {
   "attachments": {},
   "cell_type": "markdown",
   "metadata": {
    "dotnet_interactive": {
     "language": "html"
    },
    "polyglot_notebook": {
     "kernelName": "html"
    }
   },
   "source": [
    "What does changing the width do? Why?  \n",
    "Padding?  \n",
    "Margin?  Why does it do this?  \n",
    "Border?  "
   ]
  },
  {
   "attachments": {},
   "cell_type": "markdown",
   "metadata": {
    "dotnet_interactive": {
     "language": "html"
    },
    "polyglot_notebook": {
     "kernelName": "html"
    }
   },
   "source": [
    "Answers:  \n",
    "1. Because the box is inline, it ignores the `width` and `height` properties that you set.\n",
    "2. The padding will make the box appear bigger, and will make the horizontal padding bigger, causing the elements on the same line to move away from the box.  \n",
    "3. Increasing the margin size, will cause the span to create an equal distance on the left and right, and the paragraph will seperate from the box. And then as you keep increaseing the margin size, it will seperate from the left side of the screen.\n",
    "4. It will just make the border thicker, which will move only the RIGHT side paragraph, because it will make the box bigger going to the right."
   ]
  },
  {
   "attachments": {},
   "cell_type": "markdown",
   "metadata": {
    "dotnet_interactive": {
     "language": "html"
    },
    "polyglot_notebook": {
     "kernelName": "html"
    }
   },
   "source": [
    "## Using The `inline-block` display value"
   ]
  },
  {
   "attachments": {},
   "cell_type": "markdown",
   "metadata": {
    "dotnet_interactive": {
     "language": "html"
    },
    "polyglot_notebook": {
     "kernelName": "html"
    }
   },
   "source": [
    "`display: inline-block` is a middle ground of `inline` and `block`. This won't cause an item to break into a new line, and will respect the `width` and `height` and avoid the overlapping."
   ]
  },
  {
   "attachments": {},
   "cell_type": "markdown",
   "metadata": {
    "dotnet_interactive": {
     "language": "html"
    },
    "polyglot_notebook": {
     "kernelName": "html"
    }
   },
   "source": [
    "Here is the same example from before, but changing the display type:"
   ]
  },
  {
   "cell_type": "code",
   "execution_count": 43,
   "metadata": {
    "dotnet_interactive": {
     "language": "html"
    },
    "polyglot_notebook": {
     "kernelName": "html"
    },
    "vscode": {
     "languageId": "polyglot-notebook"
    }
   },
   "outputs": [
    {
     "data": {
      "text/html": [
       "<head>\r\n",
       "<style>\r\n",
       "    p {\r\n",
       "        width: 200px;\r\n",
       "        border: 2px solid black;\r\n",
       "    }\r\n",
       "    span {\r\n",
       "        display: inline-block;\r\n",
       "        width: 30px;\r\n",
       "        border: 20px solid red;\r\n",
       "        padding: 20px;\r\n",
       "        margin: 20px;\r\n",
       "    }\r\n",
       "</style>\r\n",
       "</head>\r\n",
       "<body>\r\n",
       "    <p>\r\n",
       "        Hello there. Hello there.\r\n",
       "        Hello there. Hello there.\r\n",
       "        Hello there. Hello there.\r\n",
       "        Hello there. Hello there.\r\n",
       "        <span>span.</span>\r\n",
       "        Hello there. Hello there.\r\n",
       "        Hello there. Hello there.\r\n",
       "        Hello there. Hello there.\r\n",
       "        Hello there. Hello there. \r\n",
       "    </p>\r\n",
       "</body>"
      ]
     },
     "metadata": {},
     "output_type": "display_data"
    }
   ],
   "source": [
    "<head>\n",
    "<style>\n",
    "    p {\n",
    "        width: 200px;\n",
    "        border: 2px solid black;\n",
    "    }\n",
    "    span {\n",
    "        display: inline-block;\n",
    "        width: 30px;\n",
    "        border: 20px solid red;\n",
    "        padding: 20px;\n",
    "        margin: 20px;\n",
    "    }\n",
    "</style>\n",
    "</head>\n",
    "<body>\n",
    "    <p>\n",
    "        Hello there. Hello there.\n",
    "        Hello there. Hello there.\n",
    "        Hello there. Hello there.\n",
    "        Hello there. Hello there.\n",
    "        <span>span.</span>\n",
    "        Hello there. Hello there.\n",
    "        Hello there. Hello there.\n",
    "        Hello there. Hello there.\n",
    "        Hello there. Hello there. \n",
    "    </p>\n",
    "</body>"
   ]
  },
  {
   "attachments": {},
   "cell_type": "markdown",
   "metadata": {
    "dotnet_interactive": {
     "language": "html"
    },
    "polyglot_notebook": {
     "kernelName": "html"
    }
   },
   "source": [
    "Try to make a link larger by increasing the padding, and giving it a background color to see where you can click!"
   ]
  },
  {
   "attachments": {},
   "cell_type": "markdown",
   "metadata": {
    "dotnet_interactive": {
     "language": "html"
    },
    "polyglot_notebook": {
     "kernelName": "html"
    }
   },
   "source": [
    "Try to create a navbar at the top of a page, with three links with equal spacing going to different sites."
   ]
  }
 ],
 "metadata": {
  "kernelspec": {
   "display_name": ".NET (C#)",
   "language": "C#",
   "name": ".net-csharp"
  },
  "polyglot_notebook": {
   "kernelInfo": {
    "defaultKernelName": "csharp",
    "items": [
     {
      "aliases": [
       "c#",
       "C#"
      ],
      "languageName": "C#",
      "name": "csharp"
     },
     {
      "aliases": [],
      "name": ".NET"
     },
     {
      "aliases": [
       "frontend"
      ],
      "name": "vscode"
     },
     {
      "aliases": [
       "f#",
       "F#"
      ],
      "languageName": "F#",
      "name": "fsharp"
     },
     {
      "aliases": [],
      "languageName": "HTML",
      "name": "html"
     },
     {
      "aliases": [
       "js"
      ],
      "languageName": "JavaScript",
      "name": "javascript"
     },
     {
      "aliases": [],
      "languageName": "KQL",
      "name": "kql"
     },
     {
      "aliases": [],
      "languageName": "Mermaid",
      "name": "mermaid"
     },
     {
      "aliases": [
       "powershell"
      ],
      "languageName": "PowerShell",
      "name": "pwsh"
     },
     {
      "aliases": [],
      "languageName": "SQL",
      "name": "sql"
     },
     {
      "aliases": [],
      "name": "value"
     },
     {
      "aliases": [],
      "name": "webview"
     }
    ]
   }
  }
 },
 "nbformat": 4,
 "nbformat_minor": 2
}
