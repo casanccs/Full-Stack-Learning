{
 "cells": [
  {
   "attachments": {},
   "cell_type": "markdown",
   "metadata": {},
   "source": [
    "Try to style something to look like a business card. Something like this:  \n",
    "\n",
    "<img src=\"https://developer.mozilla.org/en-US/docs/Learn/CSS/Building_blocks/Fundamental_CSS_comprehension/business-card.png\">"
   ]
  }
 ],
 "metadata": {
  "kernelspec": {
   "display_name": "Python 3",
   "language": "python",
   "name": "python3"
  },
  "language_info": {
   "name": "python",
   "version": "3.11.0 (main, Oct 24 2022, 18:26:48) [MSC v.1933 64 bit (AMD64)]"
  },
  "orig_nbformat": 4,
  "vscode": {
   "interpreter": {
    "hash": "d85a640d71ea13c7cfbab4abe19f9290bba5e27c7ab3b33e9cc3de8022ebde1d"
   }
  }
 },
 "nbformat": 4,
 "nbformat_minor": 2
}
