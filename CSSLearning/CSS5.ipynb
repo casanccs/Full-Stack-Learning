{
 "cells": [
  {
   "attachments": {},
   "cell_type": "markdown",
   "metadata": {
    "dotnet_interactive": {
     "language": "csharp"
    },
    "polyglot_notebook": {
     "kernelName": "csharp"
    }
   },
   "source": [
    "# CSS Values and Units"
   ]
  },
  {
   "attachments": {},
   "cell_type": "markdown",
   "metadata": {
    "dotnet_interactive": {
     "language": "csharp"
    },
    "polyglot_notebook": {
     "kernelName": "csharp"
    }
   },
   "source": [
    "Because every property in CSS has a value type that defines the set of values allowed for that property, you should understand and get used to looking at the documentation for valid value types. Here we will learn about the CSS property values and units."
   ]
  },
  {
   "attachments": {},
   "cell_type": "markdown",
   "metadata": {
    "dotnet_interactive": {
     "language": "csharp"
    },
    "polyglot_notebook": {
     "kernelName": "csharp"
    }
   },
   "source": [
    "A CSS value type is surrounded by angle brackets, like `<color>` or `<length>`. So if you are looking at a property on the documentaion page, and see the value type is `<color>`, that means the property can accept values that are of type `<color>`. Look at the documentation for the property `background-color` as an example, and also the <a href=\"https://developer.mozilla.org/en-US/docs/Web/CSS/color_value\">`<color>`</a> reference page."
   ]
  },
  {
   "attachments": {},
   "cell_type": "markdown",
   "metadata": {
    "dotnet_interactive": {
     "language": "csharp"
    },
    "polyglot_notebook": {
     "kernelName": "csharp"
    }
   },
   "source": [
    "Note: The `color` property and `<color>` value type are different things. But do not get confused thinking at `<color>` is a tag in HTML, as they are completely different things."
   ]
  },
  {
   "attachments": {},
   "cell_type": "markdown",
   "metadata": {
    "dotnet_interactive": {
     "language": "csharp"
    },
    "polyglot_notebook": {
     "kernelName": "csharp"
    }
   },
   "source": [
    "## Numbers, Lengths, and Percentages"
   ]
  },
  {
   "attachments": {},
   "cell_type": "markdown",
   "metadata": {
    "dotnet_interactive": {
     "language": "csharp"
    },
    "polyglot_notebook": {
     "kernelName": "csharp"
    }
   },
   "source": [
    "<table>\n",
    "    <tr><th>Data/Value Type</th><th>Description</th></tr>\n",
    "    <tr><td><code>&lt;integer&gt;</code></td><td>A whole number</td></tr>\n",
    "    <tr><td><code>&lt;number&gt;</code></td><td>A decimal number, but may or may not have a decimal point with decimal values</td></tr>\n",
    "    <tr><td><code>&lt;dimension&gt;</code></td><td>A &lt;number&gt; with a unit attached. Like <code>4px</code>. Note that it a parent for other value types like <code>&lt;length&gt;</code> and other types.</td></tr>\n",
    "    <tr><td><code>&lt;percentage&gt;</code></td><td>Represents a fraction of some other value. Like <code>50%</code>. If this was the value for the <code>width</code> property, the elements width would be half of the parent's width.</td></tr>\n",
    "</table>"
   ]
  },
  {
   "attachments": {},
   "cell_type": "markdown",
   "metadata": {
    "dotnet_interactive": {
     "language": "csharp"
    },
    "polyglot_notebook": {
     "kernelName": "csharp"
    }
   },
   "source": [
    "## `<length>`"
   ]
  },
  {
   "attachments": {},
   "cell_type": "markdown",
   "metadata": {
    "dotnet_interactive": {
     "language": "csharp"
    },
    "polyglot_notebook": {
     "kernelName": "csharp"
    }
   },
   "source": [
    "Examples of this would be like `10px` (pixels) or `30em`. There are two types of lengths used in CSS:"
   ]
  },
  {
   "attachments": {},
   "cell_type": "markdown",
   "metadata": {
    "dotnet_interactive": {
     "language": "csharp"
    },
    "polyglot_notebook": {
     "kernelName": "csharp"
    }
   },
   "source": [
    "### Absolute Length Units"
   ]
  },
  {
   "attachments": {},
   "cell_type": "markdown",
   "metadata": {
    "dotnet_interactive": {
     "language": "csharp"
    },
    "polyglot_notebook": {
     "kernelName": "csharp"
    }
   },
   "source": [
    "They are not relative to anything else, and are generally the same size. Examples of this are:"
   ]
  },
  {
   "attachments": {},
   "cell_type": "markdown",
   "metadata": {
    "dotnet_interactive": {
     "language": "csharp"
    },
    "polyglot_notebook": {
     "kernelName": "csharp"
    }
   },
   "source": [
    "<table>\n",
    "    <tr><th>Unit</th><th>Name</th><th>Equivalent To</th></tr>\n",
    "    <tr><th><code>cm</code></th><th>centimeters</th><th>1cm = 37.8px = 25.2/64in</th></tr>\n",
    "    <tr><th><code>mm</code></th><th>millimeters</th><th>1mm = 1/10th of 1cm</th></tr>\n",
    "    <tr><th><code>Q</code></th><th>quarter-millimeters</th><th>1Q = 1.40th of 1cm</th></tr>\n",
    "    <tr><th><code>in</code></th><th>inches</th><th>1in = 96px</th></tr>\n",
    "    <tr><th><code>pc</code></th><th>picas</th><th>1pc = 1/6th of 1in</th></tr>\n",
    "    <tr><th><code>pt</code></th><th>points</th><th>1pt = 1/72nd of 1in</th></tr>\n",
    "    <tr><th><code>px</code></th><th>pixels</th><th>1px = 1/96th of 1in</th></tr>\n",
    "</table>"
   ]
  },
  {
   "attachments": {},
   "cell_type": "markdown",
   "metadata": {
    "dotnet_interactive": {
     "language": "csharp"
    },
    "polyglot_notebook": {
     "kernelName": "csharp"
    }
   },
   "source": [
    "Some of these are more useful for print like `cm`. But `px` is very commonly used."
   ]
  },
  {
   "attachments": {},
   "cell_type": "markdown",
   "metadata": {
    "dotnet_interactive": {
     "language": "csharp"
    },
    "polyglot_notebook": {
     "kernelName": "csharp"
    }
   },
   "source": [
    "### Relative Unit Lengths"
   ]
  },
  {
   "attachments": {},
   "cell_type": "markdown",
   "metadata": {
    "dotnet_interactive": {
     "language": "csharp"
    },
    "polyglot_notebook": {
     "kernelName": "csharp"
    }
   },
   "source": [
    "These length units are relative to something else. Like the parent's element size, parent's element font, or size of the viewport. You can use these units to scale things relative to everything else on the page. Here are *SOME* of the most useful relative units:"
   ]
  },
  {
   "attachments": {},
   "cell_type": "markdown",
   "metadata": {
    "dotnet_interactive": {
     "language": "csharp"
    },
    "polyglot_notebook": {
     "kernelName": "csharp"
    }
   },
   "source": [
    "<table>\n",
    "    <tr><th>Unit</th><th>Relative To</th></tr>\n",
    "    <tr><td><code>em</code></td><td>Font size of the parent if you are using typographical properties like <code>font-size</code>. But it will be relative to font size of the element itself if you are using it in properties like <code>width</code>.</td></tr>\n",
    "    <tr><td><code>ex</code></td><td>x-height of the element's font.</td></tr>\n",
    "    <tr><td><code>ch</code></td><td>The width of the \"O\" character in the element's font.</td></tr>\n",
    "    <tr><td><code>rem</code></td><td>Font size of the root element.</td></tr>\n",
    "    <tr><td><code>lh</code></td><td>Line height of the element.</td></tr>\n",
    "    <tr><td><code>rlh</code></td><td>Line height of the root element. But if used on the root element, it refers to the properties' initial value.</td></tr>\n",
    "    <tr><td><code>vw</code></td><td>1% of the viewport's width.</td></tr>\n",
    "    <tr><td><code>vh</code></td><td>1% of the viewport's height.</td></tr>\n",
    "    <tr><td><code>vmin</code></td><td>1% of the viewport's smaller dimension.</td></tr>\n",
    "    <tr><td><code>vax</code></td><td>1% of the viewport's bigger dimension.</td></tr>\n",
    "    <tr><td><code>svw, svh, lvw, lvh, dvw, dvh</code></td><td>1% of the smaller, bigger, and dynamic, viewport's width and height, respectively respectively.</td></tr>\n",
    "</table>"
   ]
  },
  {
   "attachments": {},
   "cell_type": "markdown",
   "metadata": {
    "dotnet_interactive": {
     "language": "csharp"
    },
    "polyglot_notebook": {
     "kernelName": "csharp"
    }
   },
   "source": [
    "Try to create 3 separate boxes in your website, each with the same width numeric value, but change the unit. For example:"
   ]
  },
  {
   "cell_type": "code",
   "execution_count": null,
   "metadata": {
    "dotnet_interactive": {
     "language": "html"
    },
    "polyglot_notebook": {
     "kernelName": "html"
    },
    "vscode": {
     "languageId": "polyglot-notebook"
    }
   },
   "outputs": [],
   "source": [
    "<head>\n",
    "<style>\n",
    ".wrapper div{\n",
    "    border: 3px solid white;\n",
    "}\n",
    ".wrapper {\n",
    "  font-size: 1em;\n",
    "}\n",
    "\n",
    ".px {\n",
    "  width: 200px;\n",
    "}\n",
    "\n",
    ".vw {\n",
    "  width: 10vw;\n",
    "}\n",
    "\n",
    ".em {\n",
    "  width: 10em;\n",
    "}\n",
    "</style>\n",
    "</head>\n",
    "<body>\n",
    "<div class=\"wrapper\">\n",
    "  <div class=\"box px\">I am 200px wide</div>\n",
    "  <div class=\"box vw\">I am 10vw wide</div>\n",
    "  <div class=\"box em\">I am 10em wide</div>\n",
    "</div>\n",
    "    \n",
    "</body>"
   ]
  },
  {
   "attachments": {},
   "cell_type": "markdown",
   "metadata": {
    "dotnet_interactive": {
     "language": "html"
    },
    "polyglot_notebook": {
     "kernelName": "html"
    }
   },
   "source": [
    "## em's and rem's"
   ]
  },
  {
   "attachments": {},
   "cell_type": "markdown",
   "metadata": {
    "dotnet_interactive": {
     "language": "html"
    },
    "polyglot_notebook": {
     "kernelName": "html"
    }
   },
   "source": [
    "Look at this weird example:"
   ]
  },
  {
   "cell_type": "code",
   "execution_count": null,
   "metadata": {
    "dotnet_interactive": {
     "language": "html"
    },
    "polyglot_notebook": {
     "kernelName": "html"
    },
    "vscode": {
     "languageId": "polyglot-notebook"
    }
   },
   "outputs": [],
   "source": [
    "<head>\n",
    "<style>\n",
    "html {\n",
    "    font-size: 16px;\n",
    "}\n",
    "p {\n",
    "    \n",
    "    font-size: 1.3em;\n",
    "}\n",
    "</style>\n",
    "</head>\n",
    "<body>\n",
    "<p>Outer p1</p>\n",
    "<p>\n",
    "    Outer p2\n",
    "    <p>Inner p1</p>\n",
    "</p>\n",
    "</body>"
   ]
  },
  {
   "cell_type": "code",
   "execution_count": null,
   "metadata": {
    "dotnet_interactive": {
     "language": "html"
    },
    "polyglot_notebook": {
     "kernelName": "html"
    },
    "vscode": {
     "languageId": "polyglot-notebook"
    }
   },
   "outputs": [],
   "source": [
    "<head>\n",
    "<style>\n",
    "html {\n",
    "  font-size: 16px;\n",
    "}\n",
    "\n",
    ".ems li {\n",
    "  font-size: 1.3em;\n",
    "}\n",
    "\n",
    "</style>\n",
    "</head>\n",
    "<body>\n",
    "<ul class=\"ems\">\n",
    "  <li>One</li>\n",
    "  <li>Two</li>\n",
    "  <li>Three\n",
    "    <ul>\n",
    "      <li>Three A</li>\n",
    "      <li>Three B\n",
    "        <ul>\n",
    "          <li>Three B 2</li>\n",
    "        </ul>\n",
    "      </li>\n",
    "    </ul>\n",
    "  </li>\n",
    "</ul>\n",
    "</body>"
   ]
  },
  {
   "attachments": {},
   "cell_type": "markdown",
   "metadata": {
    "dotnet_interactive": {
     "language": "html"
    },
    "polyglot_notebook": {
     "kernelName": "html"
    }
   },
   "source": [
    "What is `em` supposed to do?  \n",
    "- Takes the parent element's font-size as 1 unit.  \n",
    "Why does it change the size of each `<li>` even though we set `font-size` to be one font size?  \n",
    "- Because of there being lists nested inside the lists, so it acts as the parent and multiplies the font-size as it goes into each list.  \n",
    "Why does it not happen to the first code block with the `<p>`s?  \n",
    "- Because they are not actually nested `<p>`s."
   ]
  },
  {
   "attachments": {},
   "cell_type": "markdown",
   "metadata": {
    "dotnet_interactive": {
     "language": "html"
    },
    "polyglot_notebook": {
     "kernelName": "html"
    }
   },
   "source": [
    "Try to do this same example but using `rem` instead of `em`. What happens, and why does this happen?  \n",
    "They stay the same size, which makes sense because `rem` only looks at the root element of the document, which will always stay to be 16px."
   ]
  },
  {
   "attachments": {},
   "cell_type": "markdown",
   "metadata": {
    "dotnet_interactive": {
     "language": "html"
    },
    "polyglot_notebook": {
     "kernelName": "html"
    }
   },
   "source": [
    "## Percentages"
   ]
  },
  {
   "attachments": {},
   "cell_type": "markdown",
   "metadata": {
    "dotnet_interactive": {
     "language": "html"
    },
    "polyglot_notebook": {
     "kernelName": "html"
    }
   },
   "source": [
    "Percentages will always be relative to some other value. For example, if you have an element that has: `font-size: 25%`. And then the parent of that element has `font-size: 10px`, then the element will actually have `font-size: 2.5px`, because percentage values always looks at the parent value."
   ]
  },
  {
   "attachments": {},
   "cell_type": "markdown",
   "metadata": {
    "dotnet_interactive": {
     "language": "html"
    },
    "polyglot_notebook": {
     "kernelName": "html"
    }
   },
   "source": [
    "Try to make a box take up 100% of the width of the screen. What happens if you go above 100% in this case?"
   ]
  },
  {
   "attachments": {},
   "cell_type": "markdown",
   "metadata": {
    "dotnet_interactive": {
     "language": "html"
    },
    "polyglot_notebook": {
     "kernelName": "html"
    }
   },
   "source": [
    "Before running this code below, guess the rank for these 4 boxes from thinnest to longest:"
   ]
  },
  {
   "cell_type": "code",
   "execution_count": null,
   "metadata": {
    "dotnet_interactive": {
     "language": "html"
    },
    "polyglot_notebook": {
     "kernelName": "html"
    },
    "vscode": {
     "languageId": "polyglot-notebook"
    }
   },
   "outputs": [],
   "source": [
    "<head>\n",
    "<style>\n",
    ".wrapper {\n",
    "  width: 400px;\n",
    "  border: 5px solid rebeccapurple;\n",
    "}\n",
    "\n",
    ".px {\n",
    "  width: 200px;\n",
    "}\n",
    "\n",
    ".percent {\n",
    "  width: 40%;\n",
    "}\n",
    "\n",
    ".box{\n",
    "  border: 5px solid blue;\n",
    "}\n",
    "</style>\n",
    "</head>\n",
    "<body>\n",
    "<div class=\"box px\">I am 200px wide</div>\n",
    "<div class=\"box percent\">I am 40% wide</div>\n",
    "<div class=\"wrapper\">\n",
    "  <div class=\"box px\">I am 200px wide</div>\n",
    "  <div class=\"box percent\">I am 40% wide</div>\n",
    "</div>\n",
    "</body>"
   ]
  },
  {
   "attachments": {},
   "cell_type": "markdown",
   "metadata": {
    "dotnet_interactive": {
     "language": "html"
    },
    "polyglot_notebook": {
     "kernelName": "html"
    }
   },
   "source": [
    "What do you think the output will be in this code:"
   ]
  },
  {
   "cell_type": "code",
   "execution_count": null,
   "metadata": {
    "dotnet_interactive": {
     "language": "html"
    },
    "polyglot_notebook": {
     "kernelName": "html"
    },
    "vscode": {
     "languageId": "polyglot-notebook"
    }
   },
   "outputs": [],
   "source": [
    "<head>\n",
    "<style>\n",
    "li {\n",
    "  font-size: 80%;\n",
    "}\n",
    "</style>\n",
    "</head>\n",
    "<body>\n",
    "<ul>\n",
    "  <li>One</li>\n",
    "  <li>Two</li>\n",
    "  <li>Three\n",
    "    <ul>\n",
    "      <li>Three A</li>\n",
    "      <li>Three B\n",
    "        <ul>\n",
    "          <li>Three B 2</li>\n",
    "        </ul>\n",
    "      </li>\n",
    "    </ul>\n",
    "  </li>\n",
    "</ul>  \n",
    "</body>"
   ]
  },
  {
   "attachments": {},
   "cell_type": "markdown",
   "metadata": {
    "dotnet_interactive": {
     "language": "html"
    },
    "polyglot_notebook": {
     "kernelName": "html"
    }
   },
   "source": [
    "The answer is that the nested elements will get smaller and smaller."
   ]
  },
  {
   "attachments": {},
   "cell_type": "markdown",
   "metadata": {
    "dotnet_interactive": {
     "language": "html"
    },
    "polyglot_notebook": {
     "kernelName": "html"
    }
   },
   "source": [
    "Note: There are some properties that only accept a length. While looking at a properties, if you see the allowed value includes a `<length-percentage>`, then it takes both a length or a percentage. If it only includes `<length>`, then it does not take a percentage."
   ]
  },
  {
   "attachments": {},
   "cell_type": "markdown",
   "metadata": {
    "dotnet_interactive": {
     "language": "html"
    },
    "polyglot_notebook": {
     "kernelName": "html"
    }
   },
   "source": [
    "### Numbers"
   ]
  },
  {
   "attachments": {},
   "cell_type": "markdown",
   "metadata": {
    "dotnet_interactive": {
     "language": "html"
    },
    "polyglot_notebook": {
     "kernelName": "html"
    }
   },
   "source": [
    "Some properties, like `opacity`, takes only a number without a unit. This property takes in a number between 0 (fully transparent) and 1(fully opaque), inclusive. You will need to look at each properties' reference page (or just by intuition) to find the acceptable values for the numbers. "
   ]
  },
  {
   "attachments": {},
   "cell_type": "markdown",
   "metadata": {
    "dotnet_interactive": {
     "language": "html"
    },
    "polyglot_notebook": {
     "kernelName": "html"
    }
   },
   "source": [
    "### Color"
   ]
  },
  {
   "attachments": {},
   "cell_type": "markdown",
   "metadata": {
    "dotnet_interactive": {
     "language": "html"
    },
    "polyglot_notebook": {
     "kernelName": "html"
    }
   },
   "source": [
    "There are so many ways you can specify color in CSS. Here we will look at the most common ways to put in a value for color"
   ]
  },
  {
   "attachments": {},
   "cell_type": "markdown",
   "metadata": {
    "dotnet_interactive": {
     "language": "html"
    },
    "polyglot_notebook": {
     "kernelName": "html"
    }
   },
   "source": [
    "You can use ***Color Keywords***, which is just typing in the name of the color literally, like `color: black`. But there are many many color keywords that you can find here: <a href=\"\">&lt;color&gt;</a>"
   ]
  },
  {
   "attachments": {},
   "cell_type": "markdown",
   "metadata": {
    "dotnet_interactive": {
     "language": "html"
    },
    "polyglot_notebook": {
     "kernelName": "html"
    }
   },
   "source": [
    "***Hexadecimal RGB*** values are by using the hexadecimal notation. Which looks something like: `#A15GCC`. You don't need to understand this, but if you want to, feel free to learn how to read this notation.  \n",
    "An example would be: `color: #A15GCC`."
   ]
  },
  {
   "attachments": {},
   "cell_type": "markdown",
   "metadata": {
    "dotnet_interactive": {
     "language": "html"
    },
    "polyglot_notebook": {
     "kernelName": "html"
    }
   },
   "source": [
    "***RGB and RGBA*** values is similar to the hexadecimal rgb notation, but is just easier to set values to the red, green, and blue values. You put a number from 0-255 for the three parameters in this function: `rgb(red, green, blue)`.  \n",
    "An example of this would be: `color: rgb(146, 2, 39)`.  \n",
    "When using RGBA, its the same as rgb, but add a 4th parameter for the transparency of the color, where 0 is fully transparent and 1 is fully opaque. Here is an example:  \n",
    "`color: rgba(146, 2, 39, 0.5)`"
   ]
  },
  {
   "attachments": {},
   "cell_type": "markdown",
   "metadata": {
    "dotnet_interactive": {
     "language": "html"
    },
    "polyglot_notebook": {
     "kernelName": "html"
    }
   },
   "source": [
    "There is also the ***HSL*** values, which looks like: `color: hsl(188, 97%, 28%)`  \n",
    "It stands for ***hue, saturation, lightness***, but you don't need to understand these for right now. But this method can represent as many colors as the RGB method does."
   ]
  },
  {
   "attachments": {},
   "cell_type": "markdown",
   "metadata": {
    "dotnet_interactive": {
     "language": "html"
    },
    "polyglot_notebook": {
     "kernelName": "html"
    }
   },
   "source": [
    "## Images"
   ]
  },
  {
   "attachments": {},
   "cell_type": "markdown",
   "metadata": {
    "dotnet_interactive": {
     "language": "html"
    },
    "polyglot_notebook": {
     "kernelName": "html"
    }
   },
   "source": [
    "The `<image>` value type can be an actual image file pointed to with the `url()` function, or a gradient. Here is an example:"
   ]
  },
  {
   "cell_type": "code",
   "execution_count": null,
   "metadata": {
    "dotnet_interactive": {
     "language": "html"
    },
    "polyglot_notebook": {
     "kernelName": "html"
    },
    "vscode": {
     "languageId": "polyglot-notebook"
    }
   },
   "outputs": [],
   "source": [
    ".image {\n",
    "  background-image: url(star.png);\n",
    "}"
   ]
  },
  {
   "cell_type": "markdown",
   "metadata": {
    "dotnet_interactive": {
     "language": "html"
    },
    "polyglot_notebook": {
     "kernelName": "html"
    }
   },
   "source": [
    "Which is what we used in the lesson before."
   ]
  },
  {
   "attachments": {},
   "cell_type": "markdown",
   "metadata": {
    "dotnet_interactive": {
     "language": "html"
    },
    "polyglot_notebook": {
     "kernelName": "html"
    }
   },
   "source": [
    "## Position"
   ]
  },
  {
   "attachments": {},
   "cell_type": "markdown",
   "metadata": {
    "dotnet_interactive": {
     "language": "html"
    },
    "polyglot_notebook": {
     "kernelName": "html"
    }
   },
   "source": [
    "The `<position>` type is for 2D coordinates, used to position an item like `background-position`. Just like the `<color>` value type, it has keywords such as: `top`, `bottom`, etc. This value type also has lengths, which represent the offsets from the top and left-hand edges from the box."
   ]
  },
  {
   "attachments": {},
   "cell_type": "markdown",
   "metadata": {
    "dotnet_interactive": {
     "language": "html"
    },
    "polyglot_notebook": {
     "kernelName": "html"
    }
   },
   "source": [
    "Here is an example of using a 2D coordinate:  \n",
    "`background-position: right 40px;`"
   ]
  },
  {
   "attachments": {},
   "cell_type": "markdown",
   "metadata": {
    "dotnet_interactive": {
     "language": "html"
    },
    "polyglot_notebook": {
     "kernelName": "html"
    }
   },
   "source": [
    "The `<position>` data type is specified with one or two keywords, with optional offsets."
   ]
  },
  {
   "attachments": {},
   "cell_type": "markdown",
   "metadata": {
    "dotnet_interactive": {
     "language": "html"
    },
    "polyglot_notebook": {
     "kernelName": "html"
    }
   },
   "source": [
    "<table>\n",
    "    <tr><th>Possible Keywords</th><tr>\n",
    "    <tr><td>top</td></tr>\n",
    "    <tr><td>left</td></tr>\n",
    "    <tr><td>bottom</td></tr>\n",
    "    <tr><td>right</td></tr>\n",
    "    <tr><td>center</td></tr>\n",
    "</table>"
   ]
  },
  {
   "attachments": {},
   "cell_type": "markdown",
   "metadata": {
    "dotnet_interactive": {
     "language": "html"
    },
    "polyglot_notebook": {
     "kernelName": "html"
    }
   },
   "source": [
    "`center` represents the center line between two edges, whether its in the x or y direction, depending on the context."
   ]
  },
  {
   "attachments": {},
   "cell_type": "markdown",
   "metadata": {
    "dotnet_interactive": {
     "language": "html"
    },
    "polyglot_notebook": {
     "kernelName": "html"
    }
   },
   "source": [
    "The offset can be either a relative `<percentage>` or absolute `<length>` value. Positive values are to the right, or down. Negative values are to the left, or up.  \n",
    "If only one offset value is specified, it defines the x-coordinate, with the value for the other axis defaulting to center."
   ]
  },
  {
   "cell_type": "code",
   "execution_count": null,
   "metadata": {
    "dotnet_interactive": {
     "language": "html"
    },
    "polyglot_notebook": {
     "kernelName": "html"
    },
    "vscode": {
     "languageId": "polyglot-notebook"
    }
   },
   "outputs": [],
   "source": [
    "/* DO NOT RUN THIS. ITS JUST FOR VISUAL PURPOSES */\n",
    "/* 1-value syntax */\n",
    "keyword                  /* Either the horizontal or vertical position; the other axis defaults to center */\n",
    "value                    /* The position on the x-axis; the y-axis defaults to 50% */\n",
    "\n",
    "/* 2-value syntax */\n",
    "keyword keyword          /* A keyword for each direction (the order is irrelevant) */\n",
    "keyword value            /* A keyword for horizontal position, value for vertical position */\n",
    "value keyword            /* A value for horizontal position, keyword for vertical position */\n",
    "value value              /* A value for each direction (horizontal then vertical) */\n",
    "\n",
    "/* 4-value syntax */\n",
    "keyword value keyword value /* Each value is an offset from the keyword that precedes it */"
   ]
  },
  {
   "attachments": {},
   "cell_type": "markdown",
   "metadata": {
    "dotnet_interactive": {
     "language": "html"
    },
    "polyglot_notebook": {
     "kernelName": "html"
    }
   },
   "source": [
    "`background-position` uses a 3-value syntax, but only this property uses it!!!"
   ]
  },
  {
   "attachments": {},
   "cell_type": "markdown",
   "metadata": {
    "dotnet_interactive": {
     "language": "html"
    },
    "polyglot_notebook": {
     "kernelName": "html"
    }
   },
   "source": [
    "Which are these are invalid positions, which are valid?:\n",
    "1. `center`\n",
    "2. `bottom top`\n",
    "3. `right 8.5%`\n",
    "4. `left right`\n",
    "5. `center top`\n",
    "6. `bottom 12vmin right -6px`\n",
    "7. `10px 15px 20px 15px`\n",
    "8. `left 10px right 10px`"
   ]
  },
  {
   "attachments": {},
   "cell_type": "markdown",
   "metadata": {
    "dotnet_interactive": {
     "language": "html"
    },
    "polyglot_notebook": {
     "kernelName": "html"
    }
   },
   "source": [
    "Answers:\n",
    "1. valid\n",
    "2. invalid\n",
    "3. valid\n",
    "4. invalid\n",
    "5. valid\n",
    "6. valid\n",
    "7. invalid\n",
    "8. invalid"
   ]
  },
  {
   "attachments": {},
   "cell_type": "markdown",
   "metadata": {
    "dotnet_interactive": {
     "language": "html"
    },
    "polyglot_notebook": {
     "kernelName": "html"
    }
   },
   "source": [
    "Keywords that we have been using like, `black`, `top`, etc, are called **identifiers**, which are special values that CSS understands, so you don't need to put quotations, because they are not strings.  "
   ]
  },
  {
   "attachments": {},
   "cell_type": "markdown",
   "metadata": {
    "dotnet_interactive": {
     "language": "html"
    },
    "polyglot_notebook": {
     "kernelName": "html"
    }
   },
   "source": [
    "# Sizing Items in CSS"
   ]
  },
  {
   "attachments": {},
   "cell_type": "markdown",
   "metadata": {
    "dotnet_interactive": {
     "language": "html"
    },
    "polyglot_notebook": {
     "kernelName": "html"
    }
   },
   "source": [
    "There are items in CSS that have a natural/intrinsic size. An example of this would be an image"
   ]
  },
  {
   "attachments": {},
   "cell_type": "markdown",
   "metadata": {
    "dotnet_interactive": {
     "language": "html"
    },
    "polyglot_notebook": {
     "kernelName": "html"
    }
   },
   "source": [
    "Try to add in two images into your webpage without giving them any size modifications. They are different sizes because they are naturally two different size images, which you can see when you look at the resolution of the image."
   ]
  },
  {
   "attachments": {},
   "cell_type": "markdown",
   "metadata": {
    "dotnet_interactive": {
     "language": "html"
    },
    "polyglot_notebook": {
     "kernelName": "html"
    }
   },
   "source": [
    "But then the `<div>` elements have no size of its own. Try to make a div on a page, and give it border and color to see what the intrinsic size of a div is. Why does it stretch like this?  "
   ]
  },
  {
   "attachments": {},
   "cell_type": "markdown",
   "metadata": {
    "dotnet_interactive": {
     "language": "html"
    },
    "polyglot_notebook": {
     "kernelName": "html"
    }
   },
   "source": [
    "Answer is because the `<div>` is a block level element."
   ]
  },
  {
   "attachments": {},
   "cell_type": "markdown",
   "metadata": {
    "dotnet_interactive": {
     "language": "html"
    },
    "polyglot_notebook": {
     "kernelName": "html"
    }
   },
   "source": [
    "Once you add in text or other elements to the `<div>`, the size of it comes from the size of the content. So intrinsically, the size is defined by the content within."
   ]
  },
  {
   "attachments": {},
   "cell_type": "markdown",
   "metadata": {
    "dotnet_interactive": {
     "language": "html"
    },
    "polyglot_notebook": {
     "kernelName": "html"
    }
   },
   "source": [
    "Try to give your `<div>` a `width` and `height`, and overflow it with words. Does the `width` and `height` change?"
   ]
  },
  {
   "attachments": {},
   "cell_type": "markdown",
   "metadata": {
    "dotnet_interactive": {
     "language": "html"
    },
    "polyglot_notebook": {
     "kernelName": "html"
    }
   },
   "source": [
    "It should not change, because it will be that size no matter what content is in it."
   ]
  },
  {
   "attachments": {},
   "cell_type": "markdown",
   "metadata": {
    "dotnet_interactive": {
     "language": "html"
    },
    "polyglot_notebook": {
     "kernelName": "html"
    }
   },
   "source": [
    "When using percentage values as padding and margin, take note that the value is calculated from the **INLINE SIZE** (width when working in a horizontal language) parent element's padding/margin. This will let you have equal-sized margins and padding all around the box. This is something that you really want to take advantage of."
   ]
  },
  {
   "attachments": {},
   "cell_type": "markdown",
   "metadata": {
    "dotnet_interactive": {
     "language": "html"
    },
    "polyglot_notebook": {
     "kernelName": "html"
    }
   },
   "source": [
    "## Min and Max Height"
   ]
  },
  {
   "cell_type": "code",
   "execution_count": 25,
   "metadata": {
    "dotnet_interactive": {
     "language": "html"
    },
    "polyglot_notebook": {
     "kernelName": "html"
    },
    "vscode": {
     "languageId": "polyglot-notebook"
    }
   },
   "outputs": [
    {
     "data": {
      "text/html": [
       "<head>\r\n",
       "<style>\r\n",
       ".box {\r\n",
       "  border: 5px solid darkblue;\r\n",
       "  min-height: 150px;\r\n",
       "  width: 100px;\r\n",
       "}\r\n",
       "</style>\r\n",
       "</head>\r\n",
       "<body>\r\n",
       "<div class=\"wrapper\">\r\n",
       "  <div class=\"box\"></div>\r\n",
       "  <br>\r\n",
       "  <div class=\"box\">These boxes both have a min-height set, this box has content in it which will need more space than the assigned height, and so it grows from the minimum.</div>\r\n",
       "</div>\r\n",
       "</body>"
      ]
     },
     "metadata": {},
     "output_type": "display_data"
    }
   ],
   "source": [
    "<head>\n",
    "<style>\n",
    ".box {\n",
    "  border: 5px solid darkblue;\n",
    "  min-height: 150px;\n",
    "  width: 100px;\n",
    "}\n",
    "</style>\n",
    "</head>\n",
    "<body>\n",
    "<div class=\"wrapper\">\n",
    "  <div class=\"box\"></div>\n",
    "  <br>\n",
    "  <div class=\"box\">These boxes both have a min-height set, this box has content in it which will need more space than the assigned height, and so it grows from the minimum.</div>\n",
    "</div>\n",
    "</body>"
   ]
  },
  {
   "attachments": {},
   "cell_type": "markdown",
   "metadata": {
    "dotnet_interactive": {
     "language": "html"
    },
    "polyglot_notebook": {
     "kernelName": "html"
    }
   },
   "source": [
    "As you can see here, the `min-height` attribute will set a minimum height requirement for the box. And if the text surpasses it, the height will increase."
   ]
  },
  {
   "attachments": {},
   "cell_type": "markdown",
   "metadata": {
    "dotnet_interactive": {
     "language": "html"
    },
    "polyglot_notebook": {
     "kernelName": "html"
    }
   },
   "source": [
    "`max-height`/`max-width` is for setting a maximum height/width which the text will overflow if it goes further. But if you set these properties for an image, it is useful so it sets a maximum size so that the image does not stretch and become pixelated."
   ]
  },
  {
   "attachments": {},
   "cell_type": "markdown",
   "metadata": {
    "dotnet_interactive": {
     "language": "html"
    },
    "polyglot_notebook": {
     "kernelName": "html"
    }
   },
   "source": [
    "## Viewport Units"
   ]
  },
  {
   "attachments": {},
   "cell_type": "markdown",
   "metadata": {
    "dotnet_interactive": {
     "language": "html"
    },
    "polyglot_notebook": {
     "kernelName": "html"
    }
   },
   "source": [
    "The viewport is the visible area of your page in the browser has a size. `vw` is the unit for the width of the viewport, and `vh` is for the height. Use these units so you can size something relative to the viewport of the user, and create responsive pages."
   ]
  },
  {
   "attachments": {},
   "cell_type": "markdown",
   "metadata": {
    "dotnet_interactive": {
     "language": "html"
    },
    "polyglot_notebook": {
     "kernelName": "html"
    }
   },
   "source": [
    "Try to use these units as your width and height, along font sizes. Next, try to zoom in on the page to see what happens when compared to using regular absolute units like `px`."
   ]
  },
  {
   "attachments": {},
   "cell_type": "markdown",
   "metadata": {
    "dotnet_interactive": {
     "language": "html"
    },
    "polyglot_notebook": {
     "kernelName": "html"
    }
   },
   "source": [
    "This is useful because if you want to have a full-page section at the top of your page, just set its height to `100vh` so everything else will be underneath it."
   ]
  }
 ],
 "metadata": {
  "kernelspec": {
   "display_name": ".NET (C#)",
   "language": "C#",
   "name": ".net-csharp"
  },
  "polyglot_notebook": {
   "kernelInfo": {
    "defaultKernelName": "csharp",
    "items": [
     {
      "aliases": [],
      "name": "csharp"
     }
    ]
   }
  }
 },
 "nbformat": 4,
 "nbformat_minor": 2
}
