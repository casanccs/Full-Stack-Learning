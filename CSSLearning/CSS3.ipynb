{
 "cells": [
  {
   "attachments": {},
   "cell_type": "markdown",
   "metadata": {
    "dotnet_interactive": {
     "language": "csharp"
    },
    "polyglot_notebook": {
     "kernelName": "csharp"
    }
   },
   "source": [
    "# Backgrounds and Borders"
   ]
  },
  {
   "attachments": {},
   "cell_type": "markdown",
   "metadata": {
    "dotnet_interactive": {
     "language": "csharp"
    },
    "polyglot_notebook": {
     "kernelName": "csharp"
    }
   },
   "source": [
    "Remember to clear outputs of all cells!"
   ]
  },
  {
   "attachments": {},
   "cell_type": "markdown",
   "metadata": {
    "dotnet_interactive": {
     "language": "csharp"
    },
    "polyglot_notebook": {
     "kernelName": "csharp"
    }
   },
   "source": [
    "We will add gradients, background images, round corners, and other styling stuff in CSS."
   ]
  },
  {
   "attachments": {},
   "cell_type": "markdown",
   "metadata": {
    "dotnet_interactive": {
     "language": "csharp"
    },
    "polyglot_notebook": {
     "kernelName": "csharp"
    }
   },
   "source": [
    "## Styling Backgrounds"
   ]
  },
  {
   "attachments": {},
   "cell_type": "markdown",
   "metadata": {
    "dotnet_interactive": {
     "language": "csharp"
    },
    "polyglot_notebook": {
     "kernelName": "csharp"
    }
   },
   "source": [
    "The CSS property, `background`, is shorthand for a lot of background longhand properties that you will see. Its the same thing as the `margin` property being shorthand for `margin-top`, `margin-right`, etc. If you look at other people's site and see the background property, it might seem complicated because of the amount of values that can be passed in."
   ]
  },
  {
   "attachments": {},
   "cell_type": "markdown",
   "metadata": {
    "dotnet_interactive": {
     "language": "csharp"
    },
    "polyglot_notebook": {
     "kernelName": "csharp"
    }
   },
   "source": [
    "Lets first look at the individual background properties before looking at the shorthand."
   ]
  },
  {
   "attachments": {},
   "cell_type": "markdown",
   "metadata": {
    "dotnet_interactive": {
     "language": "csharp"
    },
    "polyglot_notebook": {
     "kernelName": "csharp"
    }
   },
   "source": [
    "### Background colors"
   ]
  },
  {
   "attachments": {},
   "cell_type": "markdown",
   "metadata": {
    "dotnet_interactive": {
     "language": "csharp"
    },
    "polyglot_notebook": {
     "kernelName": "csharp"
    }
   },
   "source": [
    "The `background-color` property defines the background color on any element in CSS. The property accepts any valid `<color>`. This color goes behind the content area AND the padding.\n",
    "Try it for yourself by using a `<div>` with background color, and have a `<p>` be inside with a different color. Try moving the `<p>` around with margin and change the padding. \n",
    "Here is my example:"
   ]
  },
  {
   "cell_type": "code",
   "execution_count": 13,
   "metadata": {
    "dotnet_interactive": {
     "language": "html"
    },
    "polyglot_notebook": {
     "kernelName": "html"
    },
    "vscode": {
     "languageId": "polyglot-notebook"
    }
   },
   "outputs": [
    {
     "data": {
      "text/html": [
       "<head>\r\n",
       "<style>\r\n",
       ".box {\r\n",
       "  background-color: #567895;\r\n",
       "  height: 200px;\r\n",
       "}\r\n",
       "\r\n",
       "p {\r\n",
       "    margin: 30px;\r\n",
       "    padding: 20px;\r\n",
       "    background-color: black;\r\n",
       "    color: white;\r\n",
       "}\r\n",
       "span {\r\n",
       "  background-color: rgba(255,255,255,.5);\r\n",
       "}\r\n",
       "    \r\n",
       "</style>\r\n",
       "</head>\r\n",
       "<body>\r\n",
       "<div class=\"box\">\r\n",
       "  <p>Background Colors</p>\r\n",
       "  <p>Try changing the background <span>colors</span>.</p>\r\n",
       "</div>\r\n",
       "</body>"
      ]
     },
     "metadata": {},
     "output_type": "display_data"
    }
   ],
   "source": [
    "<head>\n",
    "<style>\n",
    ".box {\n",
    "  background-color: #567895;\n",
    "  height: 200px;\n",
    "}\n",
    "\n",
    "p {\n",
    "    margin: 30px;\n",
    "    padding: 20px;\n",
    "    background-color: black;\n",
    "    color: white;\n",
    "}\n",
    "span {\n",
    "  background-color: rgba(255,255,255,.5);\n",
    "}\n",
    "    \n",
    "</style>\n",
    "</head>\n",
    "<body>\n",
    "<div class=\"box\">\n",
    "  <p>Background Colors</p>\n",
    "  <p>Try changing the background <span>colors</span>.</p>\n",
    "</div>\n",
    "</body>"
   ]
  },
  {
   "attachments": {},
   "cell_type": "markdown",
   "metadata": {
    "dotnet_interactive": {
     "language": "html"
    },
    "polyglot_notebook": {
     "kernelName": "html"
    }
   },
   "source": [
    "### Background Images"
   ]
  },
  {
   "attachments": {},
   "cell_type": "markdown",
   "metadata": {
    "dotnet_interactive": {
     "language": "html"
    },
    "polyglot_notebook": {
     "kernelName": "html"
    }
   },
   "source": [
    "`background-image` property sets the display of an image in the background of the element.  \n",
    "You can have an image that is bigger than the box itself.  \n",
    "You can have an image that is smaller than the box itself.  \n",
    "Try to put a bigger and smaller image yourself by typing this in:"
   ]
  },
  {
   "cell_type": "code",
   "execution_count": null,
   "metadata": {
    "dotnet_interactive": {
     "language": "html"
    },
    "polyglot_notebook": {
     "kernelName": "html"
    },
    "vscode": {
     "languageId": "polyglot-notebook"
    }
   },
   "outputs": [],
   "source": [
    "<head>\n",
    "<style>\n",
    ".a {\n",
    "  background-image: url(biggerImage.jpg);\n",
    "}\n",
    ".b {\n",
    "  background-image: url(smallerImage.png);\n",
    "}\n",
    "   \n",
    "</style>\n",
    "</head>\n",
    "<body>\n",
    "<div class=\"wrapper\">\n",
    "  <div class=\"box a\"></div>\n",
    "  <div class=\"box b\"></div>\n",
    "</div>\n",
    "</body>"
   ]
  },
  {
   "attachments": {},
   "cell_type": "markdown",
   "metadata": {
    "dotnet_interactive": {
     "language": "html"
    },
    "polyglot_notebook": {
     "kernelName": "html"
    }
   },
   "source": [
    "What happens to the bigger image?  \n",
    "The smaller image?  \n",
    "Does the image care about the border and its size?"
   ]
  },
  {
   "attachments": {},
   "cell_type": "markdown",
   "metadata": {
    "dotnet_interactive": {
     "language": "html"
    },
    "polyglot_notebook": {
     "kernelName": "html"
    }
   },
   "source": [
    "If you have a background color in addition to the image, then the color will display BEHIND the image. Try to find an image that doesn't have a background and try it out."
   ]
  },
  {
   "attachments": {},
   "cell_type": "markdown",
   "metadata": {
    "dotnet_interactive": {
     "language": "html"
    },
    "polyglot_notebook": {
     "kernelName": "html"
    }
   },
   "source": [
    "As you can see for the smaller image, it repeats itself. You can toggle this and allow other properties by using the `background-repeat` property, and these values for it:\n",
    "* `no-repeat` : background doesn't repeat at all. The image only exists from the top left of the box.\n",
    "* `repeat-x` : repeats horizontally\n",
    "* `repeat-y` : repeats vertically\n",
    "* `repeat` : default value which repeats in both directions"
   ]
  },
  {
   "attachments": {},
   "cell_type": "markdown",
   "metadata": {
    "dotnet_interactive": {
     "language": "html"
    },
    "polyglot_notebook": {
     "kernelName": "html"
    }
   },
   "source": [
    "You can resize images by using the `background-size` property, which can take a regular length or percentage value. The percentage value is the easier way to \"fit\" the image in the box/background. An example would be `background-size: 100px 30px;`\n",
    "You can also use the keywords/values for this property:\n",
    "* `cover` - Make the image large enough so it covers the box, BUT it will retain the aspect ratio as a priority. Part of the image will probably be out the box.\n",
    "* `contain` - Make the image fit inside the box. You may end up with gaps if the aspect ratio of the box and image are different."
   ]
  },
  {
   "attachments": {},
   "cell_type": "markdown",
   "metadata": {
    "dotnet_interactive": {
     "language": "html"
    },
    "polyglot_notebook": {
     "kernelName": "html"
    }
   },
   "source": [
    "Try to setup a test to see how these two values differ on your bigger image and smaller image. Also try to change the `background-repeat` property."
   ]
  },
  {
   "attachments": {},
   "cell_type": "markdown",
   "metadata": {
    "dotnet_interactive": {
     "language": "html"
    },
    "polyglot_notebook": {
     "kernelName": "html"
    }
   },
   "source": [
    "Because the image starts at the top left, you can set the `background-position` property to move it. By default, its position is at `(0,0)`.  \n",
    "You can also use keywords like `top`, `right`, etc. (<a href=https://developer.mozilla.org/en-US/docs/Web/CSS/background-position>Find more keywords here</a>)   \n",
    "Here is an example:"
   ]
  },
  {
   "cell_type": "code",
   "execution_count": null,
   "metadata": {
    "dotnet_interactive": {
     "language": "html"
    },
    "polyglot_notebook": {
     "kernelName": "html"
    },
    "vscode": {
     "languageId": "polyglot-notebook"
    }
   },
   "outputs": [],
   "source": [
    ".box {\n",
    "  background-image: url(star.png);\n",
    "  background-repeat: no-repeat;\n",
    "  background-position: top center;\n",
    "}"
   ]
  },
  {
   "cell_type": "code",
   "execution_count": null,
   "metadata": {
    "dotnet_interactive": {
     "language": "html"
    },
    "polyglot_notebook": {
     "kernelName": "html"
    },
    "vscode": {
     "languageId": "polyglot-notebook"
    }
   },
   "outputs": [],
   "source": [
    ".box {\n",
    "  background-image: url(star.png);\n",
    "  background-repeat: no-repeat;\n",
    "  background-position: 20px 10%;\n",
    "}"
   ]
  },
  {
   "cell_type": "code",
   "execution_count": null,
   "metadata": {
    "dotnet_interactive": {
     "language": "html"
    },
    "polyglot_notebook": {
     "kernelName": "html"
    },
    "vscode": {
     "languageId": "polyglot-notebook"
    }
   },
   "outputs": [],
   "source": [
    ".box {\n",
    "  background-image: url(star.png);\n",
    "  background-repeat: no-repeat;\n",
    "  background-position: 20px top;\n",
    "}"
   ]
  },
  {
   "attachments": {},
   "cell_type": "markdown",
   "metadata": {
    "dotnet_interactive": {
     "language": "html"
    },
    "polyglot_notebook": {
     "kernelName": "html"
    }
   },
   "source": [
    "Increasing x makes it go down. But what direction does increasing y go?  \n",
    "Find out what these values do by applying them to your small image that doesn't repeat.\n",
    "Take note of how on the last example, whenever you mix keyword values with lengths or percentages, the first value must refer to the horizontal position."
   ]
  },
  {
   "attachments": {},
   "cell_type": "markdown",
   "metadata": {
    "dotnet_interactive": {
     "language": "html"
    },
    "polyglot_notebook": {
     "kernelName": "html"
    }
   },
   "source": [
    "There is also a 4-value syntax to indicate distance from certain edges of the box. Look at this example:"
   ]
  },
  {
   "cell_type": "code",
   "execution_count": null,
   "metadata": {
    "dotnet_interactive": {
     "language": "html"
    },
    "polyglot_notebook": {
     "kernelName": "html"
    },
    "vscode": {
     "languageId": "polyglot-notebook"
    }
   },
   "outputs": [],
   "source": [
    ".box {\n",
    "  background-image: url(star.png);\n",
    "  background-repeat: no-repeat;\n",
    "  background-position: top 20px right 10px;\n",
    "}"
   ]
  },
  {
   "attachments": {},
   "cell_type": "markdown",
   "metadata": {
    "dotnet_interactive": {
     "language": "html"
    },
    "polyglot_notebook": {
     "kernelName": "html"
    }
   },
   "source": [
    "The image will be 20 pixels from the top, and 10 pixels from the right."
   ]
  },
  {
   "attachments": {},
   "cell_type": "markdown",
   "metadata": {
    "dotnet_interactive": {
     "language": "html"
    },
    "polyglot_notebook": {
     "kernelName": "html"
    }
   },
   "source": [
    "Also note that `background-position` is shorthand for `background-position-x` and `background-position-y`."
   ]
  },
  {
   "attachments": {},
   "cell_type": "markdown",
   "metadata": {
    "dotnet_interactive": {
     "language": "html"
    },
    "polyglot_notebook": {
     "kernelName": "html"
    }
   },
   "source": [
    "### Gradient Backgrounds"
   ]
  },
  {
   "attachments": {},
   "cell_type": "markdown",
   "metadata": {
    "dotnet_interactive": {
     "language": "html"
    },
    "polyglot_notebook": {
     "kernelName": "html"
    }
   },
   "source": [
    "When gradients are used as backgrounds, they act like an image and is also set by using the `background-image` property. If you want to learn about the different gradient types and things you can do, go here: <a href=\"https://developer.mozilla.org/en-US/docs/Web/CSS/gradient\">gradient</a>. But most people go to this site: <a href=\"https://cssgradient.io/\">cssgradient. You then copy and paste the source code it generates when you create a gradient. Try it out yourself, and mess with the `background-size` and other properties we learned earlier to make some weird patterns.  \n",
    "Here is an example:"
   ]
  },
  {
   "cell_type": "code",
   "execution_count": 14,
   "metadata": {
    "dotnet_interactive": {
     "language": "html"
    },
    "polyglot_notebook": {
     "kernelName": "html"
    },
    "vscode": {
     "languageId": "polyglot-notebook"
    }
   },
   "outputs": [
    {
     "data": {
      "text/html": [
       "<head>\r\n",
       "<style>\r\n",
       ".a {\r\n",
       "  background-image: linear-gradient(105deg, rgba(0,249,255,1) 39%, rgba(51,56,57,1) 96%);\r\n",
       "}\r\n",
       "\r\n",
       ".b {\r\n",
       "  background-image: radial-gradient(circle, rgba(0,249,255,1) 39%, rgba(51,56,57,1) 96%);\r\n",
       "  background-size: 100px 50px;\r\n",
       "}\r\n",
       "</style>\r\n",
       "</head>\r\n",
       "<body>\r\n",
       "<div class=\"wrapper\">\r\n",
       "  <div class=\"box a\"></div>\r\n",
       "  <div class=\"box b\"></div>\r\n",
       "</div>\r\n",
       "</body>"
      ]
     },
     "metadata": {},
     "output_type": "display_data"
    }
   ],
   "source": [
    "<head>\n",
    "<style>\n",
    ".a {\n",
    "  background-image: linear-gradient(105deg, rgba(0,249,255,1) 39%, rgba(51,56,57,1) 96%);\n",
    "}\n",
    "\n",
    ".b {\n",
    "  background-image: radial-gradient(circle, rgba(0,249,255,1) 39%, rgba(51,56,57,1) 96%);\n",
    "  background-size: 100px 50px;\n",
    "}\n",
    "</style>\n",
    "</head>\n",
    "<body>\n",
    "<div class=\"wrapper\">\n",
    "  <div class=\"box a\"></div>\n",
    "  <div class=\"box b\"></div>\n",
    "</div>\n",
    "</body>"
   ]
  },
  {
   "attachments": {},
   "cell_type": "markdown",
   "metadata": {
    "dotnet_interactive": {
     "language": "html"
    },
    "polyglot_notebook": {
     "kernelName": "html"
    }
   },
   "source": [
    "### Multiple background images"
   ]
  },
  {
   "attachments": {},
   "cell_type": "markdown",
   "metadata": {
    "dotnet_interactive": {
     "language": "html"
    },
    "polyglot_notebook": {
     "kernelName": "html"
    }
   },
   "source": [
    "For all `background-*` properties, you can have commas to create multiple images, and set properties for each one, in-order. For example:"
   ]
  },
  {
   "cell_type": "code",
   "execution_count": null,
   "metadata": {
    "dotnet_interactive": {
     "language": "html"
    },
    "polyglot_notebook": {
     "kernelName": "html"
    },
    "vscode": {
     "languageId": "polyglot-notebook"
    }
   },
   "outputs": [],
   "source": [
    "background-image: url(image1.png), url(image2.png), url(image3.png),\n",
    "  url(image4.png);\n",
    "background-repeat: no-repeat, repeat-x, repeat;\n",
    "background-position: 10px 20px, top right;"
   ]
  },
  {
   "attachments": {},
   "cell_type": "markdown",
   "metadata": {
    "dotnet_interactive": {
     "language": "html"
    },
    "polyglot_notebook": {
     "kernelName": "html"
    }
   },
   "source": [
    "Try this out in your code by using 3 different images. Make one go to the top left, center, and bottom right. But in the example above, you can see that I have 4 images and only 2 `background-position`s, so it will cycle back to the beginning of the `background-position`, and the `image3.png` will get `background-position: 10px 20px`."
   ]
  },
  {
   "attachments": {},
   "cell_type": "markdown",
   "metadata": {
    "dotnet_interactive": {
     "language": "html"
    },
    "polyglot_notebook": {
     "kernelName": "html"
    }
   },
   "source": [
    "The `background-attachment` property will specify how it \"scrolls\" when you scroll. Here are the different values and what they mean:\n",
    "* `scroll` : scrolls when the page scrolls. So if you go down, the background will go up.\n",
    "* `fixed` : does not scrolls when the page scrolls. So it stays fixed on to your screen.\n",
    "* `local` : Fixes itself on the element its on. So if the element scrolls, it will scroll, and vice-versa."
   ]
  },
  {
   "attachments": {},
   "cell_type": "markdown",
   "metadata": {
    "dotnet_interactive": {
     "language": "html"
    },
    "polyglot_notebook": {
     "kernelName": "html"
    }
   },
   "source": [
    "Try using the `background-attachment` on your web page."
   ]
  },
  {
   "attachments": {},
   "cell_type": "markdown",
   "metadata": {
    "dotnet_interactive": {
     "language": "html"
    },
    "polyglot_notebook": {
     "kernelName": "html"
    }
   },
   "source": [
    "You can use the background shorthand property to set all of the properties that we talked about before. But if you are using multiple backgrounds, you need to specify all of the properties for the first background, then add the next background after the comma."
   ]
  },
  {
   "attachments": {},
   "cell_type": "markdown",
   "metadata": {
    "dotnet_interactive": {
     "language": "html"
    },
    "polyglot_notebook": {
     "kernelName": "html"
    }
   },
   "source": [
    "Here are some rules you need to follow when using shorthand values for the background image:\n",
    "* `background-color` must be specified after the final comma\n",
    "* `background-size`'s value must be included IMMEDIATELY AFTER `background-position`, seperated with the `'/'` character, like: `center/80%`."
   ]
  },
  {
   "attachments": {},
   "cell_type": "markdown",
   "metadata": {
    "dotnet_interactive": {
     "language": "html"
    },
    "polyglot_notebook": {
     "kernelName": "html"
    }
   },
   "source": [
    "Look at this page for all considerations: <a href=\"https://developer.mozilla.org/en-US/docs/Web/CSS/background\">background info</a>."
   ]
  },
  {
   "attachments": {},
   "cell_type": "markdown",
   "metadata": {
    "dotnet_interactive": {
     "language": "html"
    },
    "polyglot_notebook": {
     "kernelName": "html"
    }
   },
   "source": [
    "Here is an example of the shorthand use:"
   ]
  },
  {
   "cell_type": "code",
   "execution_count": null,
   "metadata": {
    "dotnet_interactive": {
     "language": "html"
    },
    "polyglot_notebook": {
     "kernelName": "html"
    },
    "vscode": {
     "languageId": "polyglot-notebook"
    }
   },
   "outputs": [],
   "source": [
    "background:   \n",
    "    linear-gradient(105deg, rgba(255,255,255,.2) 39%, rgba(51,56,57,1) 96%) center center / 400px 200px no-repeat,\n",
    "url(big-star.png) center no-repeat, \n",
    "    rebeccapurple;"
   ]
  },
  {
   "attachments": {},
   "cell_type": "markdown",
   "metadata": {
    "dotnet_interactive": {
     "language": "html"
    },
    "polyglot_notebook": {
     "kernelName": "html"
    }
   },
   "source": [
    "This is all just for one background^"
   ]
  },
  {
   "attachments": {},
   "cell_type": "markdown",
   "metadata": {
    "dotnet_interactive": {
     "language": "html"
    },
    "polyglot_notebook": {
     "kernelName": "html"
    }
   },
   "source": [
    "## Borders"
   ]
  },
  {
   "attachments": {},
   "cell_type": "markdown",
   "metadata": {
    "dotnet_interactive": {
     "language": "html"
    },
    "polyglot_notebook": {
     "kernelName": "html"
    }
   },
   "source": [
    "When we add in borders to an element, we usually use the shorthand notation for them, which is:"
   ]
  },
  {
   "cell_type": "code",
   "execution_count": null,
   "metadata": {
    "dotnet_interactive": {
     "language": "html"
    },
    "polyglot_notebook": {
     "kernelName": "html"
    },
    "vscode": {
     "languageId": "polyglot-notebook"
    }
   },
   "outputs": [],
   "source": [
    ".box {\n",
    "  border: 1px solid black;\n",
    "}\n"
   ]
  },
  {
   "attachments": {},
   "cell_type": "markdown",
   "metadata": {
    "dotnet_interactive": {
     "language": "html"
    },
    "polyglot_notebook": {
     "kernelName": "html"
    }
   },
   "source": [
    "You can also target one edge:"
   ]
  },
  {
   "cell_type": "code",
   "execution_count": null,
   "metadata": {
    "dotnet_interactive": {
     "language": "html"
    },
    "polyglot_notebook": {
     "kernelName": "html"
    },
    "vscode": {
     "languageId": "polyglot-notebook"
    }
   },
   "outputs": [],
   "source": [
    ".box {\n",
    "  border-top: 1px solid black;\n",
    "}"
   ]
  },
  {
   "attachments": {},
   "cell_type": "markdown",
   "metadata": {
    "dotnet_interactive": {
     "language": "html"
    },
    "polyglot_notebook": {
     "kernelName": "html"
    }
   },
   "source": [
    "Here are the individual properties for the shorthands:"
   ]
  },
  {
   "cell_type": "code",
   "execution_count": null,
   "metadata": {
    "dotnet_interactive": {
     "language": "html"
    },
    "polyglot_notebook": {
     "kernelName": "html"
    },
    "vscode": {
     "languageId": "polyglot-notebook"
    }
   },
   "outputs": [],
   "source": [
    ".box {\n",
    "  border-width: 1px;\n",
    "  border-style: solid;\n",
    "  border-color: black;\n",
    "}"
   ]
  },
  {
   "attachments": {},
   "cell_type": "markdown",
   "metadata": {
    "dotnet_interactive": {
     "language": "html"
    },
    "polyglot_notebook": {
     "kernelName": "html"
    }
   },
   "source": [
    "Look here for all of values available: <a href=\"https://developer.mozilla.org/en-US/docs/Web/CSS/border\">border</a>."
   ]
  },
  {
   "attachments": {},
   "cell_type": "markdown",
   "metadata": {
    "dotnet_interactive": {
     "language": "html"
    },
    "polyglot_notebook": {
     "kernelName": "html"
    }
   },
   "source": [
    "You can use the `border-radius` property to apply rounded corners. You can have the value be either one value to have equal horizontal and vertical radius, or two values to seperate the horizontal/vertical radius'. Here is an example:"
   ]
  },
  {
   "cell_type": "code",
   "execution_count": null,
   "metadata": {
    "dotnet_interactive": {
     "language": "html"
    },
    "polyglot_notebook": {
     "kernelName": "html"
    },
    "vscode": {
     "languageId": "polyglot-notebook"
    }
   },
   "outputs": [],
   "source": [
    ".box {\n",
    "  border-radius: 10px;\n",
    "}\n",
    "\n",
    ".box {\n",
    "  border-top-right-radius: 1em 10%;\n",
    "}"
   ]
  }
 ],
 "metadata": {
  "kernelspec": {
   "display_name": ".NET (C#)",
   "language": "C#",
   "name": ".net-csharp"
  },
  "polyglot_notebook": {
   "kernelInfo": {
    "defaultKernelName": "csharp",
    "items": [
     {
      "aliases": [
       "c#",
       "C#"
      ],
      "languageName": "C#",
      "name": "csharp"
     },
     {
      "aliases": [
       "frontend"
      ],
      "name": "vscode"
     },
     {
      "aliases": [],
      "name": ".NET"
     },
     {
      "aliases": [
       "f#",
       "F#"
      ],
      "languageName": "F#",
      "name": "fsharp"
     },
     {
      "aliases": [],
      "languageName": "HTML",
      "name": "html"
     },
     {
      "aliases": [
       "js"
      ],
      "languageName": "JavaScript",
      "name": "javascript"
     },
     {
      "aliases": [],
      "languageName": "KQL",
      "name": "kql"
     },
     {
      "aliases": [],
      "languageName": "Mermaid",
      "name": "mermaid"
     },
     {
      "aliases": [
       "powershell"
      ],
      "languageName": "PowerShell",
      "name": "pwsh"
     },
     {
      "aliases": [],
      "languageName": "SQL",
      "name": "sql"
     },
     {
      "aliases": [],
      "name": "value"
     },
     {
      "aliases": [],
      "name": "webview"
     }
    ]
   }
  }
 },
 "nbformat": 4,
 "nbformat_minor": 2
}
