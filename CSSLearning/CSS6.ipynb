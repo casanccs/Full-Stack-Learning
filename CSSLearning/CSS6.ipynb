{
 "cells": [
  {
   "attachments": {},
   "cell_type": "markdown",
   "metadata": {},
   "source": [
    "# Looking at Images, Media, Form"
   ]
  },
  {
   "attachments": {},
   "cell_type": "markdown",
   "metadata": {
    "dotnet_interactive": {
     "language": "csharp"
    },
    "polyglot_notebook": {
     "kernelName": "csharp"
    }
   },
   "source": [
    "## Images and Media"
   ]
  },
  {
   "attachments": {},
   "cell_type": "markdown",
   "metadata": {
    "dotnet_interactive": {
     "language": "csharp"
    },
    "polyglot_notebook": {
     "kernelName": "csharp"
    }
   },
   "source": [
    "Images and videos are ***replaced elements***, which means CSS can only affect select properties like position."
   ]
  },
  {
   "attachments": {},
   "cell_type": "markdown",
   "metadata": {
    "dotnet_interactive": {
     "language": "csharp"
    },
    "polyglot_notebook": {
     "kernelName": "csharp"
    }
   },
   "source": [
    "If you bring in an image and it doesn't fit properly, you can use the typical `width` and `height` to manipulate the size, but it may change the aspect ratio. Use the `object-fit` property to make it easier to fit into an element's box."
   ]
  },
  {
   "attachments": {},
   "cell_type": "markdown",
   "metadata": {
    "dotnet_interactive": {
     "language": "csharp"
    },
    "polyglot_notebook": {
     "kernelName": "csharp"
    }
   },
   "source": [
    "`object-fit : cover` will size the image down so it completely fits in the box and keeps the aspect ratio, but that means you will be missing part of the image if the box is not the same size as the image.  \n",
    "`object-fit : contain` will size the image down and keep the aspect ratio, but will leave some empty gaps in the box if not the same size/aspect ratio as the image.  \n",
    "`object-fit: fill` will put the entire image and fill the entire box, but will not keep the same aspect ratio."
   ]
  },
  {
   "attachments": {},
   "cell_type": "markdown",
   "metadata": {
    "dotnet_interactive": {
     "language": "csharp"
    },
    "polyglot_notebook": {
     "kernelName": "csharp"
    }
   },
   "source": [
    "One thing we need to remember for future lessons, is that replaced elements have different default behaviors to avoid being stretched strangely when in a `grid` or `flex` layout."
   ]
  },
  {
   "attachments": {},
   "cell_type": "markdown",
   "metadata": {
    "dotnet_interactive": {
     "language": "csharp"
    },
    "polyglot_notebook": {
     "kernelName": "csharp"
    }
   },
   "source": [
    "## Form Elements"
   ]
  },
  {
   "attachments": {},
   "cell_type": "markdown",
   "metadata": {
    "dotnet_interactive": {
     "language": "csharp"
    },
    "polyglot_notebook": {
     "kernelName": "csharp"
    }
   },
   "source": [
    "We will only look at the important basics here, as there are trickier aspects of form styling. Look at them here: <a href=\"https://developer.mozilla.org/en-US/docs/Learn/Forms\">Web Forms Module</a>"
   ]
  },
  {
   "attachments": {},
   "cell_type": "markdown",
   "metadata": {
    "dotnet_interactive": {
     "language": "csharp"
    },
    "polyglot_notebook": {
     "kernelName": "csharp"
    }
   },
   "source": [
    "In HTML, there are many form elements/controls, examples are: `<input>`, `<textarea>`. There are also things to label and contain parts of the forms like `<legend>`. In HTML, you can even indicate which fields are required."
   ]
  },
  {
   "attachments": {},
   "cell_type": "markdown",
   "metadata": {
    "dotnet_interactive": {
     "language": "csharp"
    },
    "polyglot_notebook": {
     "kernelName": "csharp"
    }
   },
   "source": [
    "### Text input elements"
   ]
  },
  {
   "attachments": {},
   "cell_type": "markdown",
   "metadata": {
    "dotnet_interactive": {
     "language": "csharp"
    },
    "polyglot_notebook": {
     "kernelName": "csharp"
    }
   },
   "source": [
    "We will look at text input elements first, like `<input type = \"text\">`, `<input type=\"email\">`, and `<textarea>`. These are quite easy to style because you can just treat them like any other box element."
   ]
  },
  {
   "cell_type": "code",
   "execution_count": 1,
   "metadata": {
    "dotnet_interactive": {
     "language": "html"
    },
    "polyglot_notebook": {
     "kernelName": "html"
    },
    "vscode": {
     "languageId": "polyglot-notebook"
    }
   },
   "outputs": [
    {
     "data": {
      "text/html": [
       "<head>\r\n",
       "<style>\r\n",
       "input[type=\"text\"],\r\n",
       "input[type=\"email\"] {\r\n",
       "  border: 2px solid #000;\r\n",
       "  margin: 0 0 1em 0;\r\n",
       "  padding: 10px;\r\n",
       "  width: 100%;\r\n",
       "}\r\n",
       "\r\n",
       "input[type=\"submit\"] {\r\n",
       "  border: 3px solid #333;\r\n",
       "  background-color: #999;\r\n",
       "  border-radius: 5px;\r\n",
       "  padding: 10px 2em;\r\n",
       "  font-weight: bold;\r\n",
       "  color: #fff;\r\n",
       "}\r\n",
       "\r\n",
       "input[type=\"submit\"]:hover {\r\n",
       "  background-color: #333;\r\n",
       "}\r\n",
       "</style>\r\n",
       "</head>\r\n",
       "<body>\r\n",
       "<form>\r\n",
       "  <div><label for=\"name\">Name</label>\r\n",
       "  <input type=\"text\" id=\"name\"></div>\r\n",
       "  <div><label for=\"email\">Email</label>\r\n",
       "  <input type=\"email\" id=\"email\"></div>\r\n",
       "\r\n",
       "  <div class=\"buttons\"><input type=\"submit\" value=\"Submit\"></div>\r\n",
       "</form>\r\n",
       "</body>"
      ]
     },
     "metadata": {},
     "output_type": "display_data"
    }
   ],
   "source": [
    "<head>\n",
    "<style>\n",
    "input[type=\"text\"],\n",
    "input[type=\"email\"] {\n",
    "  border: 2px solid #000;\n",
    "  margin: 0 0 1em 0;\n",
    "  padding: 10px;\n",
    "  width: 100%;\n",
    "}\n",
    "\n",
    "input[type=\"submit\"] {\n",
    "  border: 3px solid #333;\n",
    "  background-color: #999;\n",
    "  border-radius: 5px;\n",
    "  padding: 10px 2em;\n",
    "  font-weight: bold;\n",
    "  color: #fff;\n",
    "}\n",
    "\n",
    "input[type=\"submit\"]:hover {\n",
    "  background-color: #333;\n",
    "}\n",
    "</style>\n",
    "</head>\n",
    "<body>\n",
    "<form>\n",
    "  <div><label for=\"name\">Name</label>\n",
    "  <input type=\"text\" id=\"name\"></div>\n",
    "  <div><label for=\"email\">Email</label>\n",
    "  <input type=\"email\" id=\"email\"></div>\n",
    "\n",
    "  <div class=\"buttons\"><input type=\"submit\" value=\"Submit\"></div>\n",
    "</form>\n",
    "</body>"
   ]
  },
  {
   "attachments": {},
   "cell_type": "markdown",
   "metadata": {
    "dotnet_interactive": {
     "language": "html"
    },
    "polyglot_notebook": {
     "kernelName": "html"
    }
   },
   "source": [
    "Note that some form elements do not inherit font styling by default, so you should add `font-family: inherit` to ensure that they do. `font-family` is the property which describes what font the text should be in."
   ]
  },
  {
   "attachments": {},
   "cell_type": "markdown",
   "metadata": {
    "dotnet_interactive": {
     "language": "html"
    },
    "polyglot_notebook": {
     "kernelName": "html"
    }
   },
   "source": [
    "Across browsers, some use standard box sizing, while other use the alternate box sizing. So for consistency, you should make all elements have margins and paddings set to `0`, then add them in when needed."
   ]
  },
  {
   "attachments": {},
   "cell_type": "markdown",
   "metadata": {
    "dotnet_interactive": {
     "language": "html"
    },
    "polyglot_notebook": {
     "kernelName": "html"
    }
   },
   "source": [
    "You can also have `overflow: auto` on `<textarea>`. What will this do?"
   ]
  },
  {
   "attachments": {},
   "cell_type": "markdown",
   "metadata": {
    "dotnet_interactive": {
     "language": "html"
    },
    "polyglot_notebook": {
     "kernelName": "html"
    }
   },
   "source": [
    "Answer is that it will not show a scrollbar when there is no reason to."
   ]
  },
  {
   "attachments": {},
   "cell_type": "markdown",
   "metadata": {
    "dotnet_interactive": {
     "language": "html"
    },
    "polyglot_notebook": {
     "kernelName": "html"
    }
   },
   "source": [
    "# Table Styling"
   ]
  },
  {
   "attachments": {},
   "cell_type": "markdown",
   "metadata": {
    "dotnet_interactive": {
     "language": "html"
    },
    "polyglot_notebook": {
     "kernelName": "html"
    }
   },
   "source": [
    "Let's start with a regular table. Here is one from a previous lesson on HTML:"
   ]
  },
  {
   "cell_type": "code",
   "execution_count": 2,
   "metadata": {
    "dotnet_interactive": {
     "language": "html"
    },
    "polyglot_notebook": {
     "kernelName": "html"
    },
    "vscode": {
     "languageId": "polyglot-notebook"
    }
   },
   "outputs": [
    {
     "data": {
      "text/html": [
       "<table>\r\n",
       "    <caption>Items Sold August 2030</caption>\r\n",
       "    <tr>\r\n",
       "        <td colspan=\"2\" rowspan=\"2\"></td>\r\n",
       "        <th colspan=\"3\">Clothes</th>\r\n",
       "        <th colspan=\"2\">Accessories</th>\r\n",
       "    </tr>\r\n",
       "    <tr>\r\n",
       "        <th>Trousers</th>\r\n",
       "        <th>Skirts</th>\r\n",
       "        <th>Dresses</th>\r\n",
       "        <th>Bracelets</th>\r\n",
       "        <th>Rings</th>\r\n",
       "    </tr>\r\n",
       "    <tr>\r\n",
       "        <th rowspan=\"3\">Belgium</th>\r\n",
       "        <th>Antwerp</th>\r\n",
       "        <td>1</td>\r\n",
       "        <td>2</td>\r\n",
       "        <td>3</td>\r\n",
       "        <td>4</td>\r\n",
       "        <td>5</td>\r\n",
       "    </tr>\r\n",
       "    <tr>\r\n",
       "        <th>Gent</th>\r\n",
       "        <td>1</td>\r\n",
       "        <td>2</td>\r\n",
       "        <td>3</td>\r\n",
       "        <td>4</td>\r\n",
       "        <td>5</td>\r\n",
       "    </tr>\r\n",
       "    <tr>\r\n",
       "        <th>Brussels</th>\r\n",
       "        <td>1</td>\r\n",
       "        <td>2</td>\r\n",
       "        <td>3</td>\r\n",
       "        <td>4</td>\r\n",
       "        <td>5</td>\r\n",
       "    </tr>\r\n",
       "    <tr>\r\n",
       "        <th rowspan=\"2\">The Netherlands</th>\r\n",
       "        <th>Amsterdam</th>\r\n",
       "        <td>1</td>\r\n",
       "        <td>2</td>\r\n",
       "        <td>3</td>\r\n",
       "        <td>4</td>\r\n",
       "        <td>5</td>\r\n",
       "    </tr>\r\n",
       "    <tr>\r\n",
       "        <th>Utrecht</th>\r\n",
       "        <td>1</td>\r\n",
       "        <td>2</td>\r\n",
       "        <td>3</td>\r\n",
       "        <td>4</td>\r\n",
       "        <td>5</td>\r\n",
       "    </tr>\r\n",
       "</table>"
      ]
     },
     "metadata": {},
     "output_type": "display_data"
    }
   ],
   "source": [
    "<table>\n",
    "    <caption>Items Sold August 2030</caption>\n",
    "    <tr>\n",
    "        <td colspan=\"2\" rowspan=\"2\"></td>\n",
    "        <th colspan=\"3\">Clothes</th>\n",
    "        <th colspan=\"2\">Accessories</th>\n",
    "    </tr>\n",
    "    <tr>\n",
    "        <th>Trousers</th>\n",
    "        <th>Skirts</th>\n",
    "        <th>Dresses</th>\n",
    "        <th>Bracelets</th>\n",
    "        <th>Rings</th>\n",
    "    </tr>\n",
    "    <tr>\n",
    "        <th rowspan=\"3\">Belgium</th>\n",
    "        <th>Antwerp</th>\n",
    "        <td>1</td>\n",
    "        <td>2</td>\n",
    "        <td>3</td>\n",
    "        <td>4</td>\n",
    "        <td>5</td>\n",
    "    </tr>\n",
    "    <tr>\n",
    "        <th>Gent</th>\n",
    "        <td>1</td>\n",
    "        <td>2</td>\n",
    "        <td>3</td>\n",
    "        <td>4</td>\n",
    "        <td>5</td>\n",
    "    </tr>\n",
    "    <tr>\n",
    "        <th>Brussels</th>\n",
    "        <td>1</td>\n",
    "        <td>2</td>\n",
    "        <td>3</td>\n",
    "        <td>4</td>\n",
    "        <td>5</td>\n",
    "    </tr>\n",
    "    <tr>\n",
    "        <th rowspan=\"2\">The Netherlands</th>\n",
    "        <th>Amsterdam</th>\n",
    "        <td>1</td>\n",
    "        <td>2</td>\n",
    "        <td>3</td>\n",
    "        <td>4</td>\n",
    "        <td>5</td>\n",
    "    </tr>\n",
    "    <tr>\n",
    "        <th>Utrecht</th>\n",
    "        <td>1</td>\n",
    "        <td>2</td>\n",
    "        <td>3</td>\n",
    "        <td>4</td>\n",
    "        <td>5</td>\n",
    "    </tr>\n",
    "</table>"
   ]
  },
  {
   "attachments": {},
   "cell_type": "markdown",
   "metadata": {
    "dotnet_interactive": {
     "language": "html"
    },
    "polyglot_notebook": {
     "kernelName": "html"
    }
   },
   "source": [
    "Notice how tables look much different on my screen than on yours. That is because our \"browser\" handles table styling much different. We will tackle some things we can change."
   ]
  },
  {
   "attachments": {},
   "cell_type": "markdown",
   "metadata": {
    "dotnet_interactive": {
     "language": "html"
    },
    "polyglot_notebook": {
     "kernelName": "html"
    }
   },
   "source": [
    "Look at some of the attributes for the `table` element:"
   ]
  },
  {
   "cell_type": "code",
   "execution_count": null,
   "metadata": {
    "dotnet_interactive": {
     "language": "html"
    },
    "polyglot_notebook": {
     "kernelName": "html"
    },
    "vscode": {
     "languageId": "polyglot-notebook"
    }
   },
   "outputs": [],
   "source": [
    "table {\n",
    "  table-layout: fixed;\n",
    "  width: 100%;\n",
    "  border-collapse: collapse;\n",
    "  border: 3px solid purple;\n",
    "}"
   ]
  },
  {
   "attachments": {},
   "cell_type": "markdown",
   "metadata": {
    "dotnet_interactive": {
     "language": "html"
    },
    "polyglot_notebook": {
     "kernelName": "html"
    }
   },
   "source": [
    "* `table-layout: fixed` is a good idea to set on the table because normally, table columns are sized according to the content. If you have `fixed`, the width of each column will depend on the width of the heading, and THEN deal with the content.\n",
    "* `border-collapse: collapse` is also standard best practice. This will make all of the borders \"collapse\" with a line together.\n",
    "* Where will `border: 3px solid purple` go around?"
   ]
  },
  {
   "cell_type": "code",
   "execution_count": null,
   "metadata": {
    "dotnet_interactive": {
     "language": "html"
    },
    "polyglot_notebook": {
     "kernelName": "html"
    },
    "vscode": {
     "languageId": "polyglot-notebook"
    }
   },
   "outputs": [],
   "source": [
    "th,\n",
    "td {\n",
    "  padding: 20px;\n",
    "}"
   ]
  },
  {
   "attachments": {},
   "cell_type": "markdown",
   "metadata": {
    "dotnet_interactive": {
     "language": "html"
    },
    "polyglot_notebook": {
     "kernelName": "html"
    }
   },
   "source": [
    "Add the CSS above to your code to see what happens."
   ]
  },
  {
   "attachments": {},
   "cell_type": "markdown",
   "metadata": {
    "dotnet_interactive": {
     "language": "html"
    },
    "polyglot_notebook": {
     "kernelName": "html"
    }
   },
   "source": [
    "There are multiple ways to add custom fonts. One way is by having a link to the font from google fonts, and then put the link in the `<head>` of the document:"
   ]
  },
  {
   "cell_type": "code",
   "execution_count": null,
   "metadata": {
    "dotnet_interactive": {
     "language": "html"
    },
    "polyglot_notebook": {
     "kernelName": "html"
    },
    "vscode": {
     "languageId": "polyglot-notebook"
    }
   },
   "outputs": [],
   "source": [
    "<head>\n",
    "<link href=\"https://fonts.googleapis.com/css?family=Rock+Salt\" rel=\"stylesheet\" type=\"text/css\" />\n",
    "</head>"
   ]
  },
  {
   "attachments": {},
   "cell_type": "markdown",
   "metadata": {
    "dotnet_interactive": {
     "language": "html"
    },
    "polyglot_notebook": {
     "kernelName": "html"
    }
   },
   "source": [
    "Then in the CSS, change the `font-family` property of whatever class/element you want to change:"
   ]
  },
  {
   "cell_type": "code",
   "execution_count": null,
   "metadata": {
    "dotnet_interactive": {
     "language": "html"
    },
    "polyglot_notebook": {
     "kernelName": "html"
    },
    "vscode": {
     "languageId": "polyglot-notebook"
    }
   },
   "outputs": [],
   "source": [
    "th {\n",
    "    font-family: \"Rock Salt\"\n",
    "}"
   ]
  },
  {
   "attachments": {},
   "cell_type": "markdown",
   "metadata": {
    "dotnet_interactive": {
     "language": "html"
    },
    "polyglot_notebook": {
     "kernelName": "html"
    }
   },
   "source": [
    "Next we will look at how to implement zebra stripes, which means alternating color of rows. You can use this CSS:"
   ]
  },
  {
   "cell_type": "code",
   "execution_count": null,
   "metadata": {
    "dotnet_interactive": {
     "language": "html"
    },
    "polyglot_notebook": {
     "kernelName": "html"
    },
    "vscode": {
     "languageId": "polyglot-notebook"
    }
   },
   "outputs": [],
   "source": [
    "tr:nth-child(odd) {\n",
    "  background-color: #ff33cc;\n",
    "}\n",
    "\n",
    "tr:nth-child(even) {\n",
    "  background-color: #e495e4;\n",
    "}"
   ]
  }
 ],
 "metadata": {
  "kernelspec": {
   "display_name": ".NET (C#)",
   "language": "C#",
   "name": ".net-csharp"
  },
  "polyglot_notebook": {
   "kernelInfo": {
    "defaultKernelName": "csharp",
    "items": [
     {
      "aliases": [
       "c#",
       "C#"
      ],
      "languageName": "C#",
      "name": "csharp"
     },
     {
      "aliases": [
       "frontend"
      ],
      "languageName": null,
      "name": "vscode"
     }
    ]
   }
  }
 },
 "nbformat": 4,
 "nbformat_minor": 2
}
