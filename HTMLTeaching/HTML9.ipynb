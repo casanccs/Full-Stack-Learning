{
 "cells": [
  {
   "attachments": {},
   "cell_type": "markdown",
   "metadata": {
    "dotnet_interactive": {
     "language": "csharp"
    },
    "polyglot_notebook": {
     "kernelName": "csharp"
    }
   },
   "source": [
    "# Multimedia and embedding"
   ]
  },
  {
   "attachments": {},
   "cell_type": "markdown",
   "metadata": {
    "dotnet_interactive": {
     "language": "csharp"
    },
    "polyglot_notebook": {
     "kernelName": "csharp"
    }
   },
   "source": [
    "## Images in HTML"
   ]
  },
  {
   "cell_type": "code",
   "execution_count": 1,
   "metadata": {
    "dotnet_interactive": {
     "language": "html"
    },
    "polyglot_notebook": {
     "kernelName": "html"
    },
    "vscode": {
     "languageId": "polyglot-notebook"
    }
   },
   "outputs": [
    {
     "data": {
      "text/html": [
       "<img src=\"somePhoto.png\" alt=\"Hi there :)\">"
      ]
     },
     "metadata": {},
     "output_type": "display_data"
    }
   ],
   "source": [
    "<img src=\"somePhoto.png\" alt=\"Hi there :)\">"
   ]
  },
  {
   "attachments": {},
   "cell_type": "markdown",
   "metadata": {
    "dotnet_interactive": {
     "language": "html"
    },
    "polyglot_notebook": {
     "kernelName": "html"
    }
   },
   "source": [
    "What do the `src` and `alt` attributes do?"
   ]
  },
  {
   "attachments": {},
   "cell_type": "markdown",
   "metadata": {
    "dotnet_interactive": {
     "language": "html"
    },
    "polyglot_notebook": {
     "kernelName": "html"
    }
   },
   "source": [
    "#### NOTE: Do not point the `src` attribute to someone else's website without permission. This is called \"hotlinking\"."
   ]
  },
  {
   "attachments": {},
   "cell_type": "markdown",
   "metadata": {
    "dotnet_interactive": {
     "language": "html"
    },
    "polyglot_notebook": {
     "kernelName": "html"
    }
   },
   "source": [
    "Try to put in an image into your site, and have it link to a website."
   ]
  },
  {
   "cell_type": "code",
   "execution_count": 2,
   "metadata": {
    "dotnet_interactive": {
     "language": "html"
    },
    "polyglot_notebook": {
     "kernelName": "html"
    },
    "vscode": {
     "languageId": "polyglot-notebook"
    }
   },
   "outputs": [
    {
     "data": {
      "text/html": [
       "<img src=\"favicon.ico\" alt=\"SOmething weird\" width=\"400\" height=\"341\">"
      ]
     },
     "metadata": {},
     "output_type": "display_data"
    }
   ],
   "source": [
    "<img src=\"favicon.ico\" alt=\"SOmething weird\" width=\"400\" height=\"341\">"
   ]
  },
  {
   "attachments": {},
   "cell_type": "markdown",
   "metadata": {
    "dotnet_interactive": {
     "language": "html"
    },
    "polyglot_notebook": {
     "kernelName": "html"
    }
   },
   "source": [
    "The `width` and `height` attributes are in terms of PIXELS."
   ]
  },
  {
   "attachments": {},
   "cell_type": "markdown",
   "metadata": {
    "dotnet_interactive": {
     "language": "html"
    },
    "polyglot_notebook": {
     "kernelName": "html"
    }
   },
   "source": [
    "We can also add tooltips by using the `title=` attribute:"
   ]
  },
  {
   "cell_type": "code",
   "execution_count": 3,
   "metadata": {
    "dotnet_interactive": {
     "language": "html"
    },
    "polyglot_notebook": {
     "kernelName": "html"
    },
    "vscode": {
     "languageId": "polyglot-notebook"
    }
   },
   "outputs": [
    {
     "data": {
      "text/html": [
       "<img src=\"favicon.ico\" alt=\"SOmething weird\" width=\"400\" height=\"341\" title=\"A player I made\">"
      ]
     },
     "metadata": {},
     "output_type": "display_data"
    }
   ],
   "source": [
    "<img src=\"favicon.ico\" alt=\"SOmething weird\" width=\"400\" height=\"341\" title=\"A player I made\">"
   ]
  },
  {
   "attachments": {},
   "cell_type": "markdown",
   "metadata": {
    "dotnet_interactive": {
     "language": "html"
    },
    "polyglot_notebook": {
     "kernelName": "html"
    }
   },
   "source": [
    "## Video and Audio Content"
   ]
  },
  {
   "cell_type": "code",
   "execution_count": 4,
   "metadata": {
    "dotnet_interactive": {
     "language": "html"
    },
    "polyglot_notebook": {
     "kernelName": "html"
    },
    "vscode": {
     "languageId": "polyglot-notebook"
    }
   },
   "outputs": [
    {
     "data": {
      "text/html": [
       "<video src=\"pathToVideo.mp4\" controls>\n",
       "    <p>Your browser doesn't support HTML video.</p>\n",
       "</video>"
      ]
     },
     "metadata": {},
     "output_type": "display_data"
    }
   ],
   "source": [
    "<video src=\"pathToVideo.mp4\" controls>\n",
    "    <p>Your browser doesn't support HTML video.</p>\n",
    "</video>"
   ]
  },
  {
   "attachments": {},
   "cell_type": "markdown",
   "metadata": {
    "dotnet_interactive": {
     "language": "html"
    },
    "polyglot_notebook": {
     "kernelName": "html"
    }
   },
   "source": [
    "What does the `controls` attribute do?\n",
    "<br>\n",
    "When will the `<p>` element show?"
   ]
  },
  {
   "attachments": {},
   "cell_type": "markdown",
   "metadata": {
    "dotnet_interactive": {
     "language": "html"
    },
    "polyglot_notebook": {
     "kernelName": "html"
    }
   },
   "source": [
    "How can you ensure that your website can support different video formats?"
   ]
  },
  {
   "cell_type": "code",
   "execution_count": 5,
   "metadata": {
    "dotnet_interactive": {
     "language": "html"
    },
    "polyglot_notebook": {
     "kernelName": "html"
    },
    "vscode": {
     "languageId": "polyglot-notebook"
    }
   },
   "outputs": [
    {
     "data": {
      "text/html": [
       "<video controls>\n",
       "  <source src=\"testSource.mp4\" type=\"video/mp4\" />\n",
       "  <source src=\"testSource.webm\" type=\"video/webm\" />\n",
       "  <p>\n",
       "    Your browser doesn't support this video. Here is a\n",
       "    <a href=\"testSource.mp4\">link to the video</a> instead.\n",
       "  </p>\n",
       "</video>"
      ]
     },
     "metadata": {},
     "output_type": "display_data"
    }
   ],
   "source": [
    "<video controls>\n",
    "  <source src=\"testSource.mp4\" type=\"video/mp4\" />\n",
    "  <source src=\"testSource.webm\" type=\"video/webm\" />\n",
    "  <p>\n",
    "    Your browser doesn't support this video. Here is a\n",
    "    <a href=\"testSource.mp4\">link to the video</a> instead.\n",
    "  </p>\n",
    "</video>"
   ]
  },
  {
   "attachments": {},
   "cell_type": "markdown",
   "metadata": {
    "dotnet_interactive": {
     "language": "html"
    },
    "polyglot_notebook": {
     "kernelName": "html"
    }
   },
   "source": [
    "How does the `<source>` tag work?"
   ]
  },
  {
   "attachments": {},
   "cell_type": "markdown",
   "metadata": {
    "dotnet_interactive": {
     "language": "html"
    },
    "polyglot_notebook": {
     "kernelName": "html"
    }
   },
   "source": [
    "Other `<video>` attributes include:"
   ]
  },
  {
   "attachments": {},
   "cell_type": "markdown",
   "metadata": {
    "dotnet_interactive": {
     "language": "html"
    },
    "polyglot_notebook": {
     "kernelName": "html"
    }
   },
   "source": [
    "<table>\n",
    "    <tr>\n",
    "        <th><code>width</code></th>\n",
    "        <th>String with the number of pixels.</th>\n",
    "    </tr>\n",
    "    <tr>\n",
    "        <th><code>height</code></th>\n",
    "        <th>String with the number of pixels.</th>\n",
    "    </tr>\n",
    "    <tr>\n",
    "        <th><code>autoplay</code></th>\n",
    "        <th>Boolean attribute that you use so that the video plays immediately upon opening the video.</th>\n",
    "    </tr>\n",
    "    <tr>\n",
    "        <th><code>loop</code></th>\n",
    "        <th>Boolean attribute that loops the video when the video is done loading.</th>\n",
    "    </tr>\n",
    "    <tr>\n",
    "        <th><code>muted</code></th>\n",
    "        <th>Boolean attribute that causes the media's sound to be off by default.</th>\n",
    "    </tr>\n",
    "    <tr>\n",
    "        <th><code>poster</code></th>\n",
    "        <th>URL of an image which will be displayed before the video is played. Like a thumbnail.</th>\n",
    "    </tr>\n",
    "</table>"
   ]
  },
  {
   "cell_type": "code",
   "execution_count": 6,
   "metadata": {
    "dotnet_interactive": {
     "language": "html"
    },
    "polyglot_notebook": {
     "kernelName": "html"
    },
    "vscode": {
     "languageId": "polyglot-notebook"
    }
   },
   "outputs": [
    {
     "data": {
      "text/html": [
       "<audio controls>\n",
       "    <source src=\"viper.mp3\" type=\"audio/mp3\" />\n",
       "    <source src=\"viper.ogg\" type=\"audio/ogg\" />\n",
       "    <p>\n",
       "        Your browser doesn't support this audio file.\n",
       "     </p>\n",
       "</audio>"
      ]
     },
     "metadata": {},
     "output_type": "display_data"
    }
   ],
   "source": [
    "<audio controls>\n",
    "    <source src=\"viper.mp3\" type=\"audio/mp3\" />\n",
    "    <source src=\"viper.ogg\" type=\"audio/ogg\" />\n",
    "    <p>\n",
    "        Your browser doesn't support this audio file.\n",
    "     </p>\n",
    "</audio>"
   ]
  },
  {
   "attachments": {},
   "cell_type": "markdown",
   "metadata": {
    "dotnet_interactive": {
     "language": "html"
    },
    "polyglot_notebook": {
     "kernelName": "html"
    }
   },
   "source": [
    "The `<audio>` tag has almost the same attributes as `<video>`, besides the `poster`, `width`, and `height` attribute."
   ]
  },
  {
   "attachments": {},
   "cell_type": "markdown",
   "metadata": {
    "dotnet_interactive": {
     "language": "html"
    },
    "polyglot_notebook": {
     "kernelName": "html"
    }
   },
   "source": [
    "## Adding closed captions to your videos"
   ]
  },
  {
   "attachments": {},
   "cell_type": "markdown",
   "metadata": {
    "dotnet_interactive": {
     "language": "html"
    },
    "polyglot_notebook": {
     "kernelName": "html"
    }
   },
   "source": [
    "WebVTT and ***cues***:\n",
    "\n",
    "<dl>\n",
    "    <dt>subtitles</dt>\n",
    "    <dt>captions</dt>\n",
    "    <dt>timed descriptions</dt>\n",
    "</dl>"
   ]
  },
  {
   "attachments": {},
   "cell_type": "markdown",
   "metadata": {
    "dotnet_interactive": {
     "language": "html"
    },
    "polyglot_notebook": {
     "kernelName": "html"
    }
   },
   "source": [
    "A typical WebVTT text file looks like:"
   ]
  },
  {
   "attachments": {},
   "cell_type": "markdown",
   "metadata": {
    "dotnet_interactive": {
     "language": "html"
    },
    "polyglot_notebook": {
     "kernelName": "html"
    }
   },
   "source": [
    "<code>\n",
    "WEBVTT\n",
    "<br><br>\n",
    "1  <br>\n",
    "00:00:22.230 --> 00:00:24.606\n",
    "This is the first subtitle that is displayed during these times.\n",
    "\n",
    "2  \n",
    "00:00:30.739 --> 00:00:34.074\n",
    "This is the second subtitle.\n",
    "</code>"
   ]
  },
  {
   "attachments": {},
   "cell_type": "markdown",
   "metadata": {
    "dotnet_interactive": {
     "language": "html"
    },
    "polyglot_notebook": {
     "kernelName": "html"
    }
   },
   "source": [
    "1. Save this file as a `.vtt` file somewhere you can path to.\n",
    "2. Link to this file by using the `<track>` tag. Then use the `kind` attribute to specify if the cues are `\"subtitles`, `\"captions`, or `descriptions`. Then use `srclang=\"en\"` to tell the browser you are writing them in english. The `label=\"English` will pop up to tell the user what language it the subtitles are in."
   ]
  },
  {
   "attachments": {},
   "cell_type": "markdown",
   "metadata": {
    "dotnet_interactive": {
     "language": "html"
    },
    "polyglot_notebook": {
     "kernelName": "html"
    }
   },
   "source": [
    "Try this out on a video you embedded. "
   ]
  },
  {
   "attachments": {},
   "cell_type": "markdown",
   "metadata": {
    "dotnet_interactive": {
     "language": "html"
    },
    "polyglot_notebook": {
     "kernelName": "html"
    }
   },
   "source": [
    "## `<iframe>`"
   ]
  },
  {
   "attachments": {},
   "cell_type": "markdown",
   "metadata": {
    "dotnet_interactive": {
     "language": "html"
    },
    "polyglot_notebook": {
     "kernelName": "html"
    }
   },
   "source": [
    "What does the `<iframe>` tag do?  \n",
    "Let's try embedding a YouTube video.  \n",
    "Here are the steps:  \n",
    "1. Go to a Youtube video\n",
    "2. Click on the share button\n",
    "3. Select the Embed button, and copy the `<iframe>` code.\n",
    "4. Assign it to the `src` attribute for the tag.  \n",
    "\n",
    "Note: This tag is not a void tag, and the inside part of the element is going to be the fallback content if the iframe cannot load."
   ]
  },
  {
   "attachments": {},
   "cell_type": "markdown",
   "metadata": {
    "dotnet_interactive": {
     "language": "html"
    },
    "polyglot_notebook": {
     "kernelName": "html"
    }
   },
   "source": [
    "Try this out on your own."
   ]
  },
  {
   "attachments": {},
   "cell_type": "markdown",
   "metadata": {
    "dotnet_interactive": {
     "language": "html"
    },
    "polyglot_notebook": {
     "kernelName": "html"
    }
   },
   "source": [
    "Let's try to embed a Google Map in your website:  \n",
    "1. Go to Google Map and find a map you want to embed.\n",
    "2. Click on the \"Menu\" button with the three horizontal lines.\n",
    "3. Click on the share or embed option.\n",
    "4. Copy the `<iframe>` code.\n",
    "5. Paste in the correct spot.  \n",
    "\n",
    "Try this as well."
   ]
  },
  {
   "attachments": {},
   "cell_type": "markdown",
   "metadata": {
    "dotnet_interactive": {
     "language": "html"
    },
    "polyglot_notebook": {
     "kernelName": "html"
    }
   },
   "source": [
    "Other examples are stuff like commenting systems from **Disqus**, advertising banners, maps from other providers, etc."
   ]
  },
  {
   "attachments": {},
   "cell_type": "markdown",
   "metadata": {
    "dotnet_interactive": {
     "language": "html"
    },
    "polyglot_notebook": {
     "kernelName": "html"
    }
   },
   "source": [
    "### Security Issues with iframe"
   ]
  },
  {
   "attachments": {},
   "cell_type": "markdown",
   "metadata": {
    "dotnet_interactive": {
     "language": "html"
    },
    "polyglot_notebook": {
     "kernelName": "html"
    }
   },
   "source": [
    "iframe's are susceptible to \"Clickjacking\" where hackers embed an invisible iframe into the document and use it to capture users' interactions."
   ]
  },
  {
   "attachments": {},
   "cell_type": "markdown",
   "metadata": {
    "dotnet_interactive": {
     "language": "html"
    },
    "polyglot_notebook": {
     "kernelName": "html"
    }
   },
   "source": [
    "You also need to be aware of intellectual property issues. Make sure the content is not copyrighted, offline and online. So make sure that when you use iframes, be cautious and only use it when you really need to."
   ]
  },
  {
   "attachments": {},
   "cell_type": "markdown",
   "metadata": {
    "dotnet_interactive": {
     "language": "html"
    },
    "polyglot_notebook": {
     "kernelName": "html"
    }
   },
   "source": [
    "### HTTPS"
   ]
  },
  {
   "attachments": {},
   "cell_type": "markdown",
   "metadata": {
    "dotnet_interactive": {
     "language": "html"
    },
    "polyglot_notebook": {
     "kernelName": "html"
    }
   },
   "source": [
    "HTTPS is just the encrypted version of HTTP. HTTPS reduces the chance that remote content will be tampered with, and revents embedded content from accessing content in your parent document, and vice versa.  \n",
    "<br>\n",
    "HTTPS-enabling your site requires a good couple of steps, so you should look into that on your own."
   ]
  },
  {
   "attachments": {},
   "cell_type": "markdown",
   "metadata": {
    "dotnet_interactive": {
     "language": "html"
    },
    "polyglot_notebook": {
     "kernelName": "html"
    }
   },
   "source": [
    "## Vector Graphics"
   ]
  },
  {
   "attachments": {},
   "cell_type": "markdown",
   "metadata": {
    "dotnet_interactive": {
     "language": "html"
    },
    "polyglot_notebook": {
     "kernelName": "html"
    }
   },
   "source": [
    "**Raster Images** : Bitmap(`.bmp`), PNG(`.png`), JPEG(`.jpg`), and GIF(`.gif`)."
   ]
  },
  {
   "attachments": {},
   "cell_type": "markdown",
   "metadata": {
    "dotnet_interactive": {
     "language": "html"
    },
    "polyglot_notebook": {
     "kernelName": "html"
    }
   },
   "source": [
    "**Vector Images** : The SVG format is what we use to create vector graphics on the web."
   ]
  },
  {
   "attachments": {},
   "cell_type": "markdown",
   "metadata": {
    "dotnet_interactive": {
     "language": "html"
    },
    "polyglot_notebook": {
     "kernelName": "html"
    }
   },
   "source": [
    "Here is an example of a raster image on the left, and vector image on the right:  \n",
    "<img src=\"raster.png\"> <br>\n",
    "<img src=\"raster-zoomed.png\">"
   ]
  },
  {
   "attachments": {},
   "cell_type": "markdown",
   "metadata": {
    "dotnet_interactive": {
     "language": "html"
    },
    "polyglot_notebook": {
     "kernelName": "html"
    }
   },
   "source": [
    "What are the differences, and why do they happen?"
   ]
  },
  {
   "attachments": {},
   "cell_type": "markdown",
   "metadata": {
    "dotnet_interactive": {
     "language": "html"
    },
    "polyglot_notebook": {
     "kernelName": "html"
    }
   },
   "source": [
    "## SVG"
   ]
  },
  {
   "attachments": {},
   "cell_type": "markdown",
   "metadata": {
    "dotnet_interactive": {
     "language": "html"
    },
    "polyglot_notebook": {
     "kernelName": "html"
    }
   },
   "source": [
    "What is SVG?  \n",
    "Here is a simple example:"
   ]
  },
  {
   "cell_type": "code",
   "execution_count": 7,
   "metadata": {
    "dotnet_interactive": {
     "language": "html"
    },
    "polyglot_notebook": {
     "kernelName": "html"
    },
    "vscode": {
     "languageId": "polyglot-notebook"
    }
   },
   "outputs": [
    {
     "data": {
      "text/html": [
       "<svg\n",
       "  version=\"1.1\"\n",
       "  baseProfile=\"full\"\n",
       "  width=\"300\"\n",
       "  height=\"200\"\n",
       "  xmlns=\"http://www.w3.org/2000/svg\">\n",
       "  <rect width=\"100%\" height=\"100%\" fill=\"black\" />\n",
       "  <circle cx=\"150\" cy=\"100\" r=\"90\" fill=\"blue\" />\n",
       "</svg>"
      ]
     },
     "metadata": {},
     "output_type": "display_data"
    }
   ],
   "source": [
    "<svg\n",
    "  version=\"1.1\"\n",
    "  baseProfile=\"full\"\n",
    "  width=\"300\"\n",
    "  height=\"200\"\n",
    "  xmlns=\"http://www.w3.org/2000/svg\">\n",
    "  <rect width=\"100%\" height=\"100%\" fill=\"black\" />\n",
    "  <circle cx=\"150\" cy=\"100\" r=\"90\" fill=\"blue\" />\n",
    "</svg>"
   ]
  },
  {
   "attachments": {},
   "cell_type": "markdown",
   "metadata": {
    "dotnet_interactive": {
     "language": "html"
    },
    "polyglot_notebook": {
     "kernelName": "html"
    }
   },
   "source": [
    "What are other ways to make a SVG/vector image?"
   ]
  },
  {
   "attachments": {},
   "cell_type": "markdown",
   "metadata": {
    "dotnet_interactive": {
     "language": "html"
    },
    "polyglot_notebook": {
     "kernelName": "html"
    }
   },
   "source": [
    "So then what are the disadvantages of using SVG?"
   ]
  },
  {
   "attachments": {},
   "cell_type": "markdown",
   "metadata": {
    "dotnet_interactive": {
     "language": "html"
    },
    "polyglot_notebook": {
     "kernelName": "html"
    }
   },
   "source": [
    "So when should we use raster images?"
   ]
  },
  {
   "attachments": {},
   "cell_type": "markdown",
   "metadata": {
    "dotnet_interactive": {
     "language": "html"
    },
    "polyglot_notebook": {
     "kernelName": "html"
    }
   },
   "source": [
    "Another way to get an `SVG` image:"
   ]
  },
  {
   "cell_type": "code",
   "execution_count": 8,
   "metadata": {
    "dotnet_interactive": {
     "language": "html"
    },
    "polyglot_notebook": {
     "kernelName": "html"
    },
    "vscode": {
     "languageId": "polyglot-notebook"
    }
   },
   "outputs": [
    {
     "data": {
      "text/html": [
       "<img src=\"example.svg\" />"
      ]
     },
     "metadata": {},
     "output_type": "display_data"
    }
   ],
   "source": [
    "<img src=\"example.svg\" />"
   ]
  },
  {
   "attachments": {},
   "cell_type": "markdown",
   "metadata": {
    "dotnet_interactive": {
     "language": "html"
    },
    "polyglot_notebook": {
     "kernelName": "html"
    }
   },
   "source": [
    "But there is a big problem doing it this way: ***You cannot style the image through external CSS stylesheets.***"
   ]
  },
  {
   "attachments": {},
   "cell_type": "markdown",
   "metadata": {
    "dotnet_interactive": {
     "language": "html"
    },
    "polyglot_notebook": {
     "kernelName": "html"
    }
   },
   "source": [
    "So you actually will want to do it another way:"
   ]
  },
  {
   "cell_type": "code",
   "execution_count": 9,
   "metadata": {
    "dotnet_interactive": {
     "language": "html"
    },
    "polyglot_notebook": {
     "kernelName": "html"
    },
    "vscode": {
     "languageId": "polyglot-notebook"
    }
   },
   "outputs": [
    {
     "data": {
      "text/html": [
       "<svg width=\"300\" height=\"200\">\n",
       "  <!--Copy the svg code and paste it here-->\n",
       "</svg>"
      ]
     },
     "metadata": {},
     "output_type": "display_data"
    }
   ],
   "source": [
    "<svg width=\"300\" height=\"200\">\n",
    "  <!--Copy the svg code and paste it here-->\n",
    "</svg>"
   ]
  },
  {
   "attachments": {},
   "cell_type": "markdown",
   "metadata": {
    "dotnet_interactive": {
     "language": "html"
    },
    "polyglot_notebook": {
     "kernelName": "html"
    }
   },
   "source": [
    "The method above is called **SVG Inline**.  "
   ]
  },
  {
   "attachments": {},
   "cell_type": "markdown",
   "metadata": {
    "dotnet_interactive": {
     "language": "html"
    },
    "polyglot_notebook": {
     "kernelName": "html"
    }
   },
   "source": [
    "What are the pros and cons of doing it this way?\n"
   ]
  },
  {
   "attachments": {},
   "cell_type": "markdown",
   "metadata": {
    "dotnet_interactive": {
     "language": "html"
    },
    "polyglot_notebook": {
     "kernelName": "html"
    }
   },
   "source": [
    "Here is a cool example of SVG:"
   ]
  },
  {
   "cell_type": "code",
   "execution_count": 10,
   "metadata": {
    "dotnet_interactive": {
     "language": "html"
    },
    "polyglot_notebook": {
     "kernelName": "html"
    },
    "vscode": {
     "languageId": "polyglot-notebook"
    }
   },
   "outputs": [
    {
     "data": {
      "text/html": [
       "  <svg width=\"100%\" height=\"100%\">\n",
       "    <rect width=\"100%\" height=\"100%\" fill=\"red\" />\n",
       "    <circle cx=\"100%\" cy=\"100%\" r=\"150\" fill=\"blue\" stroke=\"black\" />\n",
       "    <polygon points=\"120,0 240,225 0,225\" fill=\"green\"/>\n",
       "    <text x=\"50\" y=\"100\" font-family=\"Verdana\" font-size=\"55\"\n",
       "          fill=\"white\" stroke=\"black\" stroke-width=\"2\">\n",
       "            Hello!\n",
       "    </text>\n",
       "  </svg>"
      ]
     },
     "metadata": {},
     "output_type": "display_data"
    }
   ],
   "source": [
    "  <svg width=\"100%\" height=\"100%\">\n",
    "    <rect width=\"100%\" height=\"100%\" fill=\"red\" />\n",
    "    <circle cx=\"100%\" cy=\"100%\" r=\"150\" fill=\"blue\" stroke=\"black\" />\n",
    "    <polygon points=\"120,0 240,225 0,225\" fill=\"green\"/>\n",
    "    <text x=\"50\" y=\"100\" font-family=\"Verdana\" font-size=\"55\"\n",
    "          fill=\"white\" stroke=\"black\" stroke-width=\"2\">\n",
    "            Hello!\n",
    "    </text>\n",
    "  </svg>"
   ]
  },
  {
   "attachments": {},
   "cell_type": "markdown",
   "metadata": {
    "dotnet_interactive": {
     "language": "html"
    },
    "polyglot_notebook": {
     "kernelName": "html"
    }
   },
   "source": [
    "Go ahead and try to make a stickman using `svg`"
   ]
  },
  {
   "attachments": {},
   "cell_type": "markdown",
   "metadata": {
    "dotnet_interactive": {
     "language": "html"
    },
    "polyglot_notebook": {
     "kernelName": "html"
    }
   },
   "source": [
    "## Responsive Images"
   ]
  },
  {
   "attachments": {},
   "cell_type": "markdown",
   "metadata": {
    "dotnet_interactive": {
     "language": "html"
    },
    "polyglot_notebook": {
     "kernelName": "html"
    }
   },
   "source": [
    "When do we want to use responsive images?"
   ]
  },
  {
   "cell_type": "code",
   "execution_count": null,
   "metadata": {
    "dotnet_interactive": {
     "language": "html"
    },
    "polyglot_notebook": {
     "kernelName": "html"
    },
    "vscode": {
     "languageId": "polyglot-notebook"
    }
   },
   "outputs": [],
   "source": [
    "<img\n",
    "  srcset=\"exampleImage-480w.jpg 480w, exampleImage-800w.jpg 800w\"\n",
    "  sizes=\"(max-width: 600px) 480px,\n",
    "         800px\"\n",
    "  src=\"exampleImage-800w.jpg\"\n",
    "  alt=\"Example image\" />"
   ]
  },
  {
   "attachments": {},
   "cell_type": "markdown",
   "metadata": {
    "dotnet_interactive": {
     "language": "html"
    },
    "polyglot_notebook": {
     "kernelName": "html"
    }
   },
   "source": [
    "How does this code work?"
   ]
  },
  {
   "attachments": {},
   "cell_type": "markdown",
   "metadata": {
    "dotnet_interactive": {
     "language": "html"
    },
    "polyglot_notebook": {
     "kernelName": "html"
    }
   },
   "source": [
    "To look at the viewport, just open up the DOM in your browser and change the width."
   ]
  },
  {
   "attachments": {},
   "cell_type": "markdown",
   "metadata": {
    "dotnet_interactive": {
     "language": "html"
    },
    "polyglot_notebook": {
     "kernelName": "html"
    }
   },
   "source": [
    "We can also use the `<picture>` tag:"
   ]
  },
  {
   "cell_type": "code",
   "execution_count": null,
   "metadata": {
    "dotnet_interactive": {
     "language": "html"
    },
    "polyglot_notebook": {
     "kernelName": "html"
    },
    "vscode": {
     "languageId": "polyglot-notebook"
    }
   },
   "outputs": [],
   "source": [
    "<picture>\n",
    "    <source media=\"(max-width: 799px)\" srcset=\"example-480w-close-portrait.jpg\" />\n",
    "    <source media=\"(min-width: 800px)\" srcset=\"example-800w.jpg\" />\n",
    "    <img src=\"example-800w.jpg\" alt=\"An Example\" />\n",
    "</picture>"
   ]
  },
  {
   "attachments": {},
   "cell_type": "markdown",
   "metadata": {
    "dotnet_interactive": {
     "language": "html"
    },
    "polyglot_notebook": {
     "kernelName": "html"
    }
   },
   "source": [
    "This tag works like the `<video>` tag, where it chooses the source that it matches with first."
   ]
  },
  {
   "attachments": {},
   "cell_type": "markdown",
   "metadata": {
    "dotnet_interactive": {
     "language": "html"
    },
    "polyglot_notebook": {
     "kernelName": "html"
    }
   },
   "source": [
    "Try this out with 2 different images"
   ]
  }
 ],
 "metadata": {
  "kernelspec": {
   "display_name": ".NET (C#)",
   "language": "C#",
   "name": ".net-csharp"
  },
  "polyglot_notebook": {
   "kernelInfo": {
    "defaultKernelName": "csharp",
    "items": [
     {
      "aliases": [
       "c#",
       "C#"
      ],
      "languageName": "C#",
      "name": "csharp"
     },
     {
      "aliases": [],
      "name": ".NET"
     },
     {
      "aliases": [
       "frontend"
      ],
      "name": "vscode"
     },
     {
      "aliases": [
       "js"
      ],
      "languageName": "JavaScript",
      "name": "javascript"
     },
     {
      "aliases": [],
      "name": "webview"
     },
     {
      "aliases": [
       "f#",
       "F#"
      ],
      "languageName": "F#",
      "name": "fsharp"
     },
     {
      "aliases": [],
      "languageName": "HTML",
      "name": "html"
     },
     {
      "aliases": [],
      "languageName": "KQL",
      "name": "kql"
     },
     {
      "aliases": [],
      "languageName": "Mermaid",
      "name": "mermaid"
     },
     {
      "aliases": [
       "powershell"
      ],
      "languageName": "PowerShell",
      "name": "pwsh"
     },
     {
      "aliases": [],
      "languageName": "SQL",
      "name": "sql"
     },
     {
      "aliases": [],
      "name": "value"
     }
    ]
   }
  }
 },
 "nbformat": 4,
 "nbformat_minor": 2
}
