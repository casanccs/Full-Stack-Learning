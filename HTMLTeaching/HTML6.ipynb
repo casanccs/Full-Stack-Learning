{
 "cells": [
  {
   "attachments": {},
   "cell_type": "markdown",
   "metadata": {
    "dotnet_interactive": {
     "language": "csharp"
    },
    "polyglot_notebook": {
     "kernelName": "csharp"
    }
   },
   "source": [
    "# Document and Website Structure"
   ]
  },
  {
   "attachments": {},
   "cell_type": "markdown",
   "metadata": {
    "dotnet_interactive": {
     "language": "csharp"
    },
    "polyglot_notebook": {
     "kernelName": "csharp"
    }
   },
   "source": [
    "Websites look different from each other, but have some standard components to them:"
   ]
  },
  {
   "attachments": {},
   "cell_type": "markdown",
   "metadata": {
    "dotnet_interactive": {
     "language": "csharp"
    },
    "polyglot_notebook": {
     "kernelName": "csharp"
    }
   },
   "source": [
    "<dl>\n",
    "    <dt>Header </dt>\n",
    "    <dt>Navigation Bar </dt>\n",
    "    <dt>Main Content </dt>\n",
    "    <dt>Footer </dt>\n",
    "</dl>"
   ]
  },
  {
   "attachments": {},
   "cell_type": "markdown",
   "metadata": {
    "dotnet_interactive": {
     "language": "csharp"
    },
    "polyglot_notebook": {
     "kernelName": "csharp"
    }
   },
   "source": [
    "What are they? And where should you put them?"
   ]
  },
  {
   "cell_type": "code",
   "execution_count": 1,
   "metadata": {
    "dotnet_interactive": {
     "language": "html"
    },
    "polyglot_notebook": {
     "kernelName": "html"
    },
    "vscode": {
     "languageId": "polyglot-notebook"
    }
   },
   "outputs": [
    {
     "data": {
      "text/html": [
       "<body>\n",
       "    <header>\n",
       "        <h1> Welcome to the website! </h1>\n",
       "    </header>\n",
       "    <nav>\n",
       "        <ul>\n",
       "            <li>Pretend I am a link.</li>\n",
       "            <li>Pretend I am another link.</li>\n",
       "        </ul>\n",
       "    </nav>\n",
       "    <main>\n",
       "        I have a bunch of info here. Just pretend like I do.\n",
       "    </main>\n",
       "    <footer>\n",
       "        @Copyright 1521 by Google. All rights reserved.\n",
       "    </footer>\n",
       "</body>"
      ]
     },
     "metadata": {},
     "output_type": "display_data"
    }
   ],
   "source": [
    "<body>\n",
    "    <header>\n",
    "        <h1> Welcome to the website! </h1>\n",
    "    </header>\n",
    "    <nav>\n",
    "        <ul>\n",
    "            <li>Pretend I am a link.</li>\n",
    "            <li>Pretend I am another link.</li>\n",
    "        </ul>\n",
    "    </nav>\n",
    "    <main>\n",
    "        I have a bunch of info here. Just pretend like I do.\n",
    "    </main>\n",
    "    <footer>\n",
    "        @Copyright 1521 by Google. All rights reserved.\n",
    "    </footer>\n",
    "</body>"
   ]
  },
  {
   "attachments": {},
   "cell_type": "markdown",
   "metadata": {
    "dotnet_interactive": {
     "language": "html"
    },
    "polyglot_notebook": {
     "kernelName": "html"
    }
   },
   "source": [
    "## Non-semantic wrappers"
   ]
  },
  {
   "attachments": {},
   "cell_type": "markdown",
   "metadata": {
    "dotnet_interactive": {
     "language": "html"
    },
    "polyglot_notebook": {
     "kernelName": "html"
    }
   },
   "source": [
    "These two are the main ones you will be using and seeing across your Full-Stack Journey:"
   ]
  },
  {
   "attachments": {},
   "cell_type": "markdown",
   "metadata": {
    "dotnet_interactive": {
     "language": "html"
    },
    "polyglot_notebook": {
     "kernelName": "html"
    }
   },
   "source": [
    "### `<div>`"
   ]
  },
  {
   "cell_type": "code",
   "execution_count": 3,
   "metadata": {
    "dotnet_interactive": {
     "language": "html"
    },
    "polyglot_notebook": {
     "kernelName": "html"
    },
    "vscode": {
     "languageId": "polyglot-notebook"
    }
   },
   "outputs": [
    {
     "data": {
      "text/html": [
       "<div class=\"shopping-cart\">\r\n",
       "  <h2>Shopping cart</h2>\r\n",
       "  <ul>\r\n",
       "    <li>\r\n",
       "      <p>\r\n",
       "        <a href=\"\"><strong>Some product</strong></a>:\r\n",
       "        $99.95.\r\n",
       "      </p>\r\n",
       "      <img src=\"favicon.ico\" alt=\"Silver earrings\" />\r\n",
       "    </li>\r\n",
       "    <li>…</li>\r\n",
       "  </ul>\r\n",
       "  <p>Total cost: $237.89</p>\r\n",
       "</div>"
      ]
     },
     "metadata": {},
     "output_type": "display_data"
    }
   ],
   "source": [
    "<div class=\"shopping-cart\">\n",
    "  <h2>Shopping cart</h2>\n",
    "  <ul>\n",
    "    <li>\n",
    "      <p>\n",
    "        <a href=\"\"><strong>Some product</strong></a>:\n",
    "        $99.95.\n",
    "      </p>\n",
    "      <img src=\"favicon.ico\" alt=\"Silver earrings\" />\n",
    "    </li>\n",
    "    <li>…</li>\n",
    "  </ul>\n",
    "  <p>Total cost: $237.89</p>\n",
    "</div>"
   ]
  },
  {
   "attachments": {},
   "cell_type": "markdown",
   "metadata": {
    "dotnet_interactive": {
     "language": "html"
    },
    "polyglot_notebook": {
     "kernelName": "html"
    }
   },
   "source": [
    "### `<span>`"
   ]
  },
  {
   "attachments": {},
   "cell_type": "markdown",
   "metadata": {
    "dotnet_interactive": {
     "language": "html"
    },
    "polyglot_notebook": {
     "kernelName": "html"
    }
   },
   "source": [
    "#### Note that you will almost ***ALWAYS*** want to include the `class` attribute to `<div>`'s and `<span>`'s because you want to change and access their properties together in CSS and JavaScript."
   ]
  },
  {
   "attachments": {},
   "cell_type": "markdown",
   "metadata": {
    "dotnet_interactive": {
     "language": "html"
    },
    "polyglot_notebook": {
     "kernelName": "html"
    }
   },
   "source": [
    "## Breaks"
   ]
  },
  {
   "cell_type": "code",
   "execution_count": 4,
   "metadata": {
    "dotnet_interactive": {
     "language": "html"
    },
    "polyglot_notebook": {
     "kernelName": "html"
    },
    "vscode": {
     "languageId": "polyglot-notebook"
    }
   },
   "outputs": [
    {
     "data": {
      "text/html": [
       "<p>\r\n",
       "  There once was a man named O'Dell<br>\r\n",
       "  Who loved to write HTML<br/>\r\n",
       "  But his structure was bad, his semantics were sad<br>\r\n",
       "  and his markup didn't read very well.\r\n",
       "</p>"
      ]
     },
     "metadata": {},
     "output_type": "display_data"
    }
   ],
   "source": [
    "<p>\n",
    "  There once was a man named O'Dell<br>\n",
    "  Who loved to write HTML<br/>\n",
    "  But his structure was bad, his semantics were sad<br>\n",
    "  and his markup didn't read very well.\n",
    "</p>"
   ]
  },
  {
   "attachments": {},
   "cell_type": "markdown",
   "metadata": {
    "dotnet_interactive": {
     "language": "html"
    },
    "polyglot_notebook": {
     "kernelName": "html"
    }
   },
   "source": [
    "`<br/>` vs `<br>`"
   ]
  },
  {
   "cell_type": "code",
   "execution_count": 5,
   "metadata": {
    "dotnet_interactive": {
     "language": "html"
    },
    "polyglot_notebook": {
     "kernelName": "html"
    },
    "vscode": {
     "languageId": "polyglot-notebook"
    }
   },
   "outputs": [
    {
     "data": {
      "text/html": [
       "<p>Wassup there</p>\r\n",
       "<hr>\r\n",
       "<p>By there</p>\r\n",
       "<hr/>"
      ]
     },
     "metadata": {},
     "output_type": "display_data"
    }
   ],
   "source": [
    "<p>Wassup there</p>\n",
    "<hr>\n",
    "<p>By there</p>\n",
    "<hr/>"
   ]
  }
 ],
 "metadata": {
  "kernelspec": {
   "display_name": ".NET (C#)",
   "language": "C#",
   "name": ".net-csharp"
  },
  "polyglot_notebook": {
   "kernelInfo": {
    "defaultKernelName": "csharp",
    "items": [
     {
      "aliases": [
       "c#",
       "C#"
      ],
      "languageName": "C#",
      "name": "csharp"
     },
     {
      "aliases": [],
      "name": ".NET"
     },
     {
      "aliases": [
       "frontend"
      ],
      "name": "vscode"
     },
     {
      "aliases": [
       "f#",
       "F#"
      ],
      "languageName": "F#",
      "name": "fsharp"
     },
     {
      "aliases": [],
      "languageName": "HTML",
      "name": "html"
     },
     {
      "aliases": [
       "js"
      ],
      "languageName": "JavaScript",
      "name": "javascript"
     },
     {
      "aliases": [],
      "languageName": "KQL",
      "name": "kql"
     },
     {
      "aliases": [],
      "languageName": "Mermaid",
      "name": "mermaid"
     },
     {
      "aliases": [
       "powershell"
      ],
      "languageName": "PowerShell",
      "name": "pwsh"
     },
     {
      "aliases": [],
      "languageName": "SQL",
      "name": "sql"
     },
     {
      "aliases": [],
      "name": "value"
     },
     {
      "aliases": [],
      "name": "webview"
     }
    ]
   }
  }
 },
 "nbformat": 4,
 "nbformat_minor": 2
}
