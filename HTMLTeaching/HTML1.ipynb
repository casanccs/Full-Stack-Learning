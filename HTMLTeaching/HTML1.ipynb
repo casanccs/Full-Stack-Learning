{
 "cells": [
  {
   "attachments": {},
   "cell_type": "markdown",
   "metadata": {
    "dotnet_interactive": {
     "language": "csharp"
    },
    "polyglot_notebook": {
     "kernelName": "csharp"
    }
   },
   "source": [
    "# Intro to HTML\n"
   ]
  },
  {
   "attachments": {},
   "cell_type": "markdown",
   "metadata": {
    "dotnet_interactive": {
     "language": "csharp"
    },
    "polyglot_notebook": {
     "kernelName": "csharp"
    }
   },
   "source": [
    "> **HTML** - (**H**)yper(**T**)ext (**M**)arkup (**L**)anguage\n",
    ">\n",
    ">> **What is HyperText?**\n",
    ">>\n",
    ">> **What is markup?**\n",
    "\n"
   ]
  },
  {
   "attachments": {},
   "cell_type": "markdown",
   "metadata": {
    "dotnet_interactive": {
     "language": "csharp"
    },
    "polyglot_notebook": {
     "kernelName": "csharp"
    }
   },
   "source": [
    "### What are HTML Tags?\n",
    "#### Examples are:\n",
    ">       <head>\n",
    ">       <title>\n",
    ">       <body>\n",
    ">       <title>\n",
    ">       <p>\n",
    "> ... and alot more!\n",
    "\n",
    "Tags are case insensitive. Try it out!"
   ]
  },
  {
   "attachments": {},
   "cell_type": "markdown",
   "metadata": {
    "dotnet_interactive": {
     "language": "csharp"
    },
    "polyglot_notebook": {
     "kernelName": "csharp"
    }
   },
   "source": [
    "In this example:\n",
    "\n",
    "> # `<p>` Hello World! `</p>`\n",
    "\n",
    "Which one is the opening tag?  \n",
    "Which is the closing tag?"
   ]
  },
  {
   "cell_type": "code",
   "execution_count": 3,
   "metadata": {
    "dotnet_interactive": {
     "language": "html"
    },
    "polyglot_notebook": {
     "kernelName": "html"
    },
    "vscode": {
     "languageId": "polyglot-notebook"
    }
   },
   "outputs": [
    {
     "data": {
      "text/html": [
       "<p> Hello World! </p>"
      ]
     },
     "metadata": {},
     "output_type": "display_data"
    }
   ],
   "source": [
    "<p> Hello World! </p>"
   ]
  },
  {
   "attachments": {},
   "cell_type": "markdown",
   "metadata": {
    "dotnet_interactive": {
     "language": "html"
    },
    "polyglot_notebook": {
     "kernelName": "html"
    }
   },
   "source": [
    "### What is a void element?"
   ]
  },
  {
   "cell_type": "code",
   "execution_count": 2,
   "metadata": {
    "dotnet_interactive": {
     "language": "html"
    },
    "polyglot_notebook": {
     "kernelName": "html"
    },
    "vscode": {
     "languageId": "polyglot-notebook"
    }
   },
   "outputs": [
    {
     "data": {
      "text/html": [
       "<img src=\"raster.png\">\r\n",
       "<img src=\"raster.png\"/>"
      ]
     },
     "metadata": {},
     "output_type": "display_data"
    }
   ],
   "source": [
    "<img src=\"raster.png\">\n",
    "<img src=\"raster.png\"/>"
   ]
  },
  {
   "attachments": {},
   "cell_type": "markdown",
   "metadata": {
    "dotnet_interactive": {
     "language": "html"
    },
    "polyglot_notebook": {
     "kernelName": "html"
    }
   },
   "source": [
    "## How to setup an HTML document and run it\n",
    "\n",
    "1. Open up VSCode and create a file with the *.html* file extension.\n",
    "2. Type in the below code\n",
    "3. Right click on the file with it open in the file explorer, and choose to open it with google chrome, or any other web browser."
   ]
  },
  {
   "cell_type": "code",
   "execution_count": 4,
   "metadata": {
    "dotnet_interactive": {
     "language": "html"
    },
    "polyglot_notebook": {
     "kernelName": "html"
    },
    "vscode": {
     "languageId": "polyglot-notebook"
    }
   },
   "outputs": [
    {
     "data": {
      "text/html": [
       "<!DOCTYPE html>\r\n",
       "<html lang=\"en-US\">\r\n",
       "  <head>\r\n",
       "    <meta charset=\"utf-8\" />\r\n",
       "    <title>My test page</title>\r\n",
       "  </head>\r\n",
       "  <body>\r\n",
       "    <p>This is my page</p>\r\n",
       "  </body>\r\n",
       "</html>"
      ]
     },
     "metadata": {},
     "output_type": "display_data"
    }
   ],
   "source": [
    "<!DOCTYPE html>\n",
    "<html lang=\"en-US\">\n",
    "  <head>\n",
    "    <meta charset=\"utf-8\" />\n",
    "    <title>My test page</title>\n",
    "  </head>\n",
    "  <body>\n",
    "    <p>This is my page</p>\n",
    "  </body>\n",
    "</html>"
   ]
  },
  {
   "attachments": {},
   "cell_type": "markdown",
   "metadata": {
    "dotnet_interactive": {
     "language": "html"
    },
    "polyglot_notebook": {
     "kernelName": "html"
    }
   },
   "source": [
    "What do all of these tags mean?"
   ]
  },
  {
   "attachments": {},
   "cell_type": "markdown",
   "metadata": {
    "dotnet_interactive": {
     "language": "html"
    },
    "polyglot_notebook": {
     "kernelName": "html"
    }
   },
   "source": [
    "### You can directly type: `html: 5` ,in VSCode in an empty file, to create the skeleton above"
   ]
  },
  {
   "attachments": {},
   "cell_type": "markdown",
   "metadata": {
    "dotnet_interactive": {
     "language": "html"
    },
    "polyglot_notebook": {
     "kernelName": "html"
    }
   },
   "source": [
    "## HTML Text Tags"
   ]
  },
  {
   "cell_type": "code",
   "execution_count": 5,
   "metadata": {
    "dotnet_interactive": {
     "language": "html"
    },
    "polyglot_notebook": {
     "kernelName": "html"
    },
    "vscode": {
     "languageId": "polyglot-notebook"
    }
   },
   "outputs": [
    {
     "data": {
      "text/html": [
       "<p>Find the difference</p>\r\n",
       "Find the difference"
      ]
     },
     "metadata": {},
     "output_type": "display_data"
    }
   ],
   "source": [
    "<p>Find the difference</p>\n",
    "Find the difference"
   ]
  },
  {
   "attachments": {},
   "cell_type": "markdown",
   "metadata": {
    "dotnet_interactive": {
     "language": "html"
    },
    "polyglot_notebook": {
     "kernelName": "html"
    }
   },
   "source": [
    "What is the visual difference? Why should you use the `<p>` tags rather than no tags?"
   ]
  },
  {
   "attachments": {},
   "cell_type": "markdown",
   "metadata": {
    "dotnet_interactive": {
     "language": "html"
    },
    "polyglot_notebook": {
     "kernelName": "html"
    }
   },
   "source": [
    "#### Text Tags"
   ]
  },
  {
   "cell_type": "code",
   "execution_count": 15,
   "metadata": {
    "dotnet_interactive": {
     "language": "html"
    },
    "polyglot_notebook": {
     "kernelName": "html"
    },
    "vscode": {
     "languageId": "polyglot-notebook"
    }
   },
   "outputs": [
    {
     "data": {
      "text/html": [
       "<h1> Heading 1 </h1>\r\n",
       "<h2> Heading 2 </h2>\r\n",
       "<h3> Heading 3 </h3>\r\n",
       "<h4> Heading 4 </h4>\r\n",
       "<h5> Heading 5 </h5>\r\n",
       "<h6> Heading 6 </h6>\r\n",
       "\r\n",
       "<p> This is a paragraph text </p>\r\n",
       "<p> This is another paragraph text. \r\n",
       "Notice they are on the same line, but in code, they are in different lines. </p>"
      ]
     },
     "metadata": {},
     "output_type": "display_data"
    }
   ],
   "source": [
    "<h1> Heading 1 </h1>\n",
    "<h2> Heading 2 </h2>\n",
    "<h3> Heading 3 </h3>\n",
    "<h4> Heading 4 </h4>\n",
    "<h5> Heading 5 </h5>\n",
    "<h6> Heading 6 </h6>\n",
    "\n",
    "<p> This is a paragraph text </p>\n",
    "<p> This is another paragraph text. \n",
    "Notice they are on the same line, but in code, they are in different lines. </p>"
   ]
  },
  {
   "attachments": {},
   "cell_type": "markdown",
   "metadata": {
    "dotnet_interactive": {
     "language": "html"
    },
    "polyglot_notebook": {
     "kernelName": "html"
    }
   },
   "source": [
    "#### Style Text Tags"
   ]
  },
  {
   "cell_type": "code",
   "execution_count": 1,
   "metadata": {
    "dotnet_interactive": {
     "language": "html"
    },
    "polyglot_notebook": {
     "kernelName": "html"
    },
    "vscode": {
     "languageId": "polyglot-notebook"
    }
   },
   "outputs": [
    {
     "data": {
      "text/html": [
       "<strong> Bold text. </strong>\n",
       "<br>\n",
       "<b> Bold text. </b>\n",
       "<br>\n",
       "<em> Italicized text. </em>\n",
       "<br>\n",
       "<i> Italicized text. </i>\n",
       "<br>\n",
       "<code> Text that looks like code. </code>\n",
       "<br>\n",
       "Testing <sub> Subscripted text. </sub>\n",
       "<br>\n",
       "Testing <sup> Superscripted text. </sup>\n",
       "<br>\n",
       "<mark> Marked text. </mark>\n",
       "<br>\n",
       "<small> Smaller text. </small>\n",
       "<br>\n",
       "<del> Deleted text. </del>\n",
       "<br>\n",
       "<ins> Inserted text. </ins>\n",
       "<br>\n",
       "<u> Underlined text. </u>"
      ]
     },
     "metadata": {},
     "output_type": "display_data"
    }
   ],
   "source": [
    "<strong> Bold text. </strong>\n",
    "<br>\n",
    "<b> Bold text. </b>\n",
    "<br>\n",
    "<em> Italicized text. </em>\n",
    "<br>\n",
    "<i> Italicized text. </i>\n",
    "<br>\n",
    "<code> Text that looks like code. </code>\n",
    "<br>\n",
    "Testing <sub> Subscripted text. </sub>\n",
    "<br>\n",
    "Testing <sup> Superscripted text. </sup>\n",
    "<br>\n",
    "<mark> Marked text. </mark>\n",
    "<br>\n",
    "<small> Smaller text. </small>\n",
    "<br>\n",
    "<del> Deleted text. </del>\n",
    "<br>\n",
    "<ins> Inserted text. </ins>\n",
    "<br>\n",
    "<u> Underlined text. </u>"
   ]
  },
  {
   "attachments": {},
   "cell_type": "markdown",
   "metadata": {
    "dotnet_interactive": {
     "language": "html"
    },
    "polyglot_notebook": {
     "kernelName": "html"
    }
   },
   "source": [
    "Question: Try to make a heading 1 that is underlined, italicized, and bolded. That has a subscripted text that is \"deleted\" by it."
   ]
  },
  {
   "attachments": {},
   "cell_type": "markdown",
   "metadata": {
    "dotnet_interactive": {
     "language": "html"
    },
    "polyglot_notebook": {
     "kernelName": "html"
    }
   },
   "source": [
    "## Block versus Inline elements"
   ]
  },
  {
   "attachments": {},
   "cell_type": "markdown",
   "metadata": {
    "dotnet_interactive": {
     "language": "html"
    },
    "polyglot_notebook": {
     "kernelName": "html"
    }
   },
   "source": [
    "What is a ***Block-level*** element?"
   ]
  },
  {
   "attachments": {},
   "cell_type": "markdown",
   "metadata": {
    "dotnet_interactive": {
     "language": "html"
    },
    "polyglot_notebook": {
     "kernelName": "html"
    }
   },
   "source": [
    "What is an ***Inline-level*** element?"
   ]
  },
  {
   "cell_type": "code",
   "execution_count": 17,
   "metadata": {
    "dotnet_interactive": {
     "language": "html"
    },
    "polyglot_notebook": {
     "kernelName": "html"
    },
    "vscode": {
     "languageId": "polyglot-notebook"
    }
   },
   "outputs": [
    {
     "data": {
      "text/html": [
       "<em>first</em><em>second</em><em>third</em>\r\n",
       "\r\n",
       "<p>fourth</p>\r\n",
       "<p>fifth</p>\r\n",
       "<p>sixth</p>"
      ]
     },
     "metadata": {},
     "output_type": "display_data"
    }
   ],
   "source": [
    "<em>first</em><em>second</em><em>third</em>\n",
    "\n",
    "<p>fourth</p>\n",
    "<p>fifth</p>\n",
    "<p>sixth</p>"
   ]
  },
  {
   "attachments": {},
   "cell_type": "markdown",
   "metadata": {
    "dotnet_interactive": {
     "language": "html"
    },
    "polyglot_notebook": {
     "kernelName": "html"
    }
   },
   "source": [
    "Questions:   \n",
    "Why are there 4 lines?  \n",
    "Is the `<img>` tag block or inline element? (Look at the example from above)"
   ]
  },
  {
   "attachments": {},
   "cell_type": "markdown",
   "metadata": {
    "dotnet_interactive": {
     "language": "html"
    },
    "polyglot_notebook": {
     "kernelName": "html"
    }
   },
   "source": [
    "Note: HTML5 redefined the element categories from block and inline elements, but they are more complicated. You should also not be confused with **block** and **inline** with the CSS's **block** and **inline**, as they are different."
   ]
  },
  {
   "attachments": {},
   "cell_type": "markdown",
   "metadata": {
    "dotnet_interactive": {
     "language": "html"
    },
    "polyglot_notebook": {
     "kernelName": "html"
    }
   },
   "source": [
    "## Tag Attributes"
   ]
  },
  {
   "cell_type": "code",
   "execution_count": 18,
   "metadata": {
    "dotnet_interactive": {
     "language": "html"
    },
    "polyglot_notebook": {
     "kernelName": "html"
    },
    "vscode": {
     "languageId": "polyglot-notebook"
    }
   },
   "outputs": [
    {
     "data": {
      "text/html": [
       "<p class=\"someParagraph\"> Hello again </p>"
      ]
     },
     "metadata": {},
     "output_type": "display_data"
    }
   ],
   "source": [
    "<p class=\"someParagraph\"> Hello again </p>"
   ]
  },
  {
   "attachments": {},
   "cell_type": "markdown",
   "metadata": {
    "dotnet_interactive": {
     "language": "html"
    },
    "polyglot_notebook": {
     "kernelName": "html"
    }
   },
   "source": [
    "What are **Attributes** in HTML?   \n",
    "What does the attribute in the example above do?  \n",
    "What are the rules you need to follow to write a valid attribute?"
   ]
  },
  {
   "attachments": {},
   "cell_type": "markdown",
   "metadata": {
    "dotnet_interactive": {
     "language": "html"
    },
    "polyglot_notebook": {
     "kernelName": "html"
    }
   },
   "source": [
    "The **anchor** tag, `<a>` : Describe what it and the 3 attributes here do:\n",
    "1. `href` \n",
    "2. `title`\n",
    "3. `target`"
   ]
  },
  {
   "attachments": {},
   "cell_type": "markdown",
   "metadata": {
    "dotnet_interactive": {
     "language": "html"
    },
    "polyglot_notebook": {
     "kernelName": "html"
    }
   },
   "source": [
    "Try to create a link that will open a new tab when you click on a piece of text."
   ]
  },
  {
   "attachments": {},
   "cell_type": "markdown",
   "metadata": {
    "dotnet_interactive": {
     "language": "html"
    },
    "polyglot_notebook": {
     "kernelName": "html"
    }
   },
   "source": [
    "### Boolean Attributes"
   ]
  },
  {
   "attachments": {},
   "cell_type": "markdown",
   "metadata": {
    "dotnet_interactive": {
     "language": "html"
    },
    "polyglot_notebook": {
     "kernelName": "html"
    }
   },
   "source": [
    "What is a boolean attribute?"
   ]
  },
  {
   "cell_type": "code",
   "execution_count": 19,
   "metadata": {
    "dotnet_interactive": {
     "language": "html"
    },
    "polyglot_notebook": {
     "kernelName": "html"
    },
    "vscode": {
     "languageId": "polyglot-notebook"
    }
   },
   "outputs": [
    {
     "data": {
      "text/html": [
       "<input type=\"text\">"
      ]
     },
     "metadata": {},
     "output_type": "display_data"
    }
   ],
   "source": [
    "<input type=\"text\">"
   ]
  },
  {
   "attachments": {},
   "cell_type": "markdown",
   "metadata": {
    "dotnet_interactive": {
     "language": "html"
    },
    "polyglot_notebook": {
     "kernelName": "html"
    }
   },
   "source": [
    "The `disabled` attibute is part of the `<input>` tag. Activating this will not allow the user to type, and will grey out the text box."
   ]
  },
  {
   "attachments": {},
   "cell_type": "markdown",
   "metadata": {
    "dotnet_interactive": {
     "language": "html"
    },
    "polyglot_notebook": {
     "kernelName": "html"
    }
   },
   "source": [
    "Try to find out how to use this attribute."
   ]
  },
  {
   "attachments": {},
   "cell_type": "markdown",
   "metadata": {
    "dotnet_interactive": {
     "language": "html"
    },
    "polyglot_notebook": {
     "kernelName": "html"
    }
   },
   "source": [
    "In an `<a>` tag, try to use double quotes in the title and make it work"
   ]
  },
  {
   "attachments": {},
   "cell_type": "markdown",
   "metadata": {
    "dotnet_interactive": {
     "language": "html"
    },
    "polyglot_notebook": {
     "kernelName": "html"
    }
   },
   "source": [
    "## Whitespace and Entities in HTML"
   ]
  },
  {
   "cell_type": "code",
   "execution_count": 20,
   "metadata": {
    "dotnet_interactive": {
     "language": "html"
    },
    "polyglot_notebook": {
     "kernelName": "html"
    },
    "vscode": {
     "languageId": "polyglot-notebook"
    }
   },
   "outputs": [
    {
     "data": {
      "text/html": [
       "<p> Hello there. </p>\r\n",
       "<p> Hello       there\r\n",
       "\r\n",
       "   again. </p>"
      ]
     },
     "metadata": {},
     "output_type": "display_data"
    }
   ],
   "source": [
    "<p> Hello there. </p>\n",
    "<p> Hello       there\n",
    "\n",
    "   again. </p>"
   ]
  },
  {
   "attachments": {},
   "cell_type": "markdown",
   "metadata": {
    "dotnet_interactive": {
     "language": "html"
    },
    "polyglot_notebook": {
     "kernelName": "html"
    }
   },
   "source": [
    "Does whitespace matter in HTML?"
   ]
  },
  {
   "attachments": {},
   "cell_type": "markdown",
   "metadata": {
    "dotnet_interactive": {
     "language": "html"
    },
    "polyglot_notebook": {
     "kernelName": "html"
    }
   },
   "source": [
    "What are the special characters in HTML that are \"reserved\"?"
   ]
  },
  {
   "attachments": {},
   "cell_type": "markdown",
   "metadata": {
    "dotnet_interactive": {
     "language": "html"
    },
    "polyglot_notebook": {
     "kernelName": "html"
    }
   },
   "source": [
    "<table>\n",
    "    <tr>\n",
    "        <th>Literal Character</th>\n",
    "        <th>Entity Name</th>\n",
    "        <th>Entity Number</th>\n",
    "    </tr>\n",
    "    <tr>\n",
    "        <th>&amp;</th>\n",
    "        <th>&amp;amp;</th>\n",
    "        <th>&amp;#38;</th>\n",
    "    </tr>\n",
    "    <tr>\n",
    "        <th>&lt;</th>\n",
    "        <th>&amp;lt;</th>\n",
    "        <th>&amp;#60;</th>\n",
    "    </tr>\n",
    "    <tr>\n",
    "        <th>&gt;</th>\n",
    "        <th>&amp;gt;</th>\n",
    "        <th>&amp;#62;</th>\n",
    "    </tr>\n",
    "    <tr>\n",
    "        <th>&sum;</th>\n",
    "        <th>&amp;sum;</th>\n",
    "        <th>&amp;#8721;</th>\n",
    "    </tr>\n",
    "    <tr>\n",
    "        <th>&gt;</th>\n",
    "        <th>&amp;gt;</th>\n",
    "        <th>&amp;#62;</th>\n",
    "    </tr>\n",
    "    <tr>\n",
    "        <th>&#61;</th>\n",
    "        <th></th>\n",
    "        <th>&amp;#61;</th>\n",
    "    </tr>\n",
    "    <tr>\n",
    "        <th>&#31;</th>\n",
    "        <th></th>\n",
    "        <th>&amp;#31;</th>\n",
    "    </tr>\n",
    "    <tr>\n",
    "        <th>&#39;</th>\n",
    "        <th></th>\n",
    "        <th>&amp;#39;</th>\n",
    "    </tr>\n",
    "    \n",
    "</table>"
   ]
  },
  {
   "attachments": {},
   "cell_type": "markdown",
   "metadata": {
    "dotnet_interactive": {
     "language": "html"
    },
    "polyglot_notebook": {
     "kernelName": "html"
    }
   },
   "source": [
    "Note, not every character will have an entity name, so if not, they will have an entity number. You can also just paste in the actual symbols just fine, as long as the character coding of the document is set to UTF-8."
   ]
  },
  {
   "attachments": {},
   "cell_type": "markdown",
   "metadata": {
    "dotnet_interactive": {
     "language": "html"
    },
    "polyglot_notebook": {
     "kernelName": "html"
    }
   },
   "source": [
    "#### HTML Comments"
   ]
  },
  {
   "cell_type": "code",
   "execution_count": 21,
   "metadata": {
    "dotnet_interactive": {
     "language": "html"
    },
    "polyglot_notebook": {
     "kernelName": "html"
    },
    "vscode": {
     "languageId": "polyglot-notebook"
    }
   },
   "outputs": [
    {
     "data": {
      "text/html": [
       "<!--\r\n",
       "\r\n",
       "<p> I will not be outputted! </p>\r\n",
       "\r\n",
       "-->\r\n",
       "\r\n",
       "<p> I will be outputted! </p>"
      ]
     },
     "metadata": {},
     "output_type": "display_data"
    }
   ],
   "source": [
    "<!--\n",
    "\n",
    "<p> I will not be outputted! </p>\n",
    "\n",
    "-->\n",
    "\n",
    "<p> I will be outputted! </p>"
   ]
  }
 ],
 "metadata": {
  "kernelspec": {
   "display_name": ".NET (C#)",
   "language": "C#",
   "name": ".net-csharp"
  },
  "polyglot_notebook": {
   "kernelInfo": {
    "defaultKernelName": "csharp",
    "items": [
     {
      "aliases": [
       "c#",
       "C#"
      ],
      "languageName": "C#",
      "name": "csharp"
     },
     {
      "aliases": [
       "frontend"
      ],
      "name": "vscode"
     },
     {
      "aliases": [],
      "name": ".NET"
     },
     {
      "aliases": [
       "f#",
       "F#"
      ],
      "languageName": "F#",
      "name": "fsharp"
     },
     {
      "aliases": [],
      "languageName": "HTML",
      "name": "html"
     },
     {
      "aliases": [
       "js"
      ],
      "languageName": "JavaScript",
      "name": "javascript"
     },
     {
      "aliases": [],
      "languageName": "KQL",
      "name": "kql"
     },
     {
      "aliases": [],
      "languageName": "Mermaid",
      "name": "mermaid"
     },
     {
      "aliases": [
       "powershell"
      ],
      "languageName": "PowerShell",
      "name": "pwsh"
     },
     {
      "aliases": [],
      "languageName": "SQL",
      "name": "sql"
     },
     {
      "aliases": [],
      "name": "value"
     },
     {
      "aliases": [],
      "name": "webview"
     }
    ]
   }
  }
 },
 "nbformat": 4,
 "nbformat_minor": 2
}
