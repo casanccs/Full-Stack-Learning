{
 "cells": [
  {
   "attachments": {},
   "cell_type": "markdown",
   "metadata": {
    "dotnet_interactive": {
     "language": "csharp"
    },
    "polyglot_notebook": {
     "kernelName": "csharp"
    }
   },
   "source": [
    "# Multimedia and embedding"
   ]
  },
  {
   "attachments": {},
   "cell_type": "markdown",
   "metadata": {
    "dotnet_interactive": {
     "language": "csharp"
    },
    "polyglot_notebook": {
     "kernelName": "csharp"
    }
   },
   "source": [
    "## Images in HTML"
   ]
  },
  {
   "cell_type": "code",
   "execution_count": 1,
   "metadata": {
    "dotnet_interactive": {
     "language": "html"
    },
    "polyglot_notebook": {
     "kernelName": "html"
    },
    "vscode": {
     "languageId": "polyglot-notebook"
    }
   },
   "outputs": [
    {
     "data": {
      "text/html": [
       "<img src=\"somePhoto.png\" alt=\"Hi there :)\">"
      ]
     },
     "metadata": {},
     "output_type": "display_data"
    }
   ],
   "source": [
    "<img src=\"somePhoto.png\" alt=\"Hi there :)\">"
   ]
  },
  {
   "attachments": {},
   "cell_type": "markdown",
   "metadata": {
    "dotnet_interactive": {
     "language": "html"
    },
    "polyglot_notebook": {
     "kernelName": "html"
    }
   },
   "source": [
    "The `<img>` tag will put an image on the web page.  \n",
    "`src` : Contains the URL pointing to the image you want to show.  \n",
    "`alt` : The alternate item that will show if the computer cannot find the `src` image, OR when it takes a while to render the image."
   ]
  },
  {
   "attachments": {},
   "cell_type": "markdown",
   "metadata": {
    "dotnet_interactive": {
     "language": "html"
    },
    "polyglot_notebook": {
     "kernelName": "html"
    }
   },
   "source": [
    "#### NOTE: Do not point the `src` attribute to someone else's website without permission. This is called \"hotlinking\"."
   ]
  },
  {
   "attachments": {},
   "cell_type": "markdown",
   "metadata": {
    "dotnet_interactive": {
     "language": "html"
    },
    "polyglot_notebook": {
     "kernelName": "html"
    }
   },
   "source": [
    "Try to put in an image into your site, and have it link to a website."
   ]
  },
  {
   "cell_type": "code",
   "execution_count": 2,
   "metadata": {
    "dotnet_interactive": {
     "language": "html"
    },
    "polyglot_notebook": {
     "kernelName": "html"
    },
    "vscode": {
     "languageId": "polyglot-notebook"
    }
   },
   "outputs": [
    {
     "data": {
      "text/html": [
       "<img src=\"favicon.ico\" alt=\"SOmething weird\" width=\"400\" height=\"341\">"
      ]
     },
     "metadata": {},
     "output_type": "display_data"
    }
   ],
   "source": [
    "<img src=\"favicon.ico\" alt=\"SOmething weird\" width=\"400\" height=\"341\">"
   ]
  },
  {
   "attachments": {},
   "cell_type": "markdown",
   "metadata": {
    "dotnet_interactive": {
     "language": "html"
    },
    "polyglot_notebook": {
     "kernelName": "html"
    }
   },
   "source": [
    "The `width` and `height` attributes are in terms of PIXELS."
   ]
  },
  {
   "attachments": {},
   "cell_type": "markdown",
   "metadata": {
    "dotnet_interactive": {
     "language": "html"
    },
    "polyglot_notebook": {
     "kernelName": "html"
    }
   },
   "source": [
    "We can also add tooltips by using the `title=` attribute:"
   ]
  },
  {
   "cell_type": "code",
   "execution_count": 3,
   "metadata": {
    "dotnet_interactive": {
     "language": "html"
    },
    "polyglot_notebook": {
     "kernelName": "html"
    },
    "vscode": {
     "languageId": "polyglot-notebook"
    }
   },
   "outputs": [
    {
     "data": {
      "text/html": [
       "<img src=\"favicon.ico\" alt=\"SOmething weird\" width=\"400\" height=\"341\" title=\"A player I made\">"
      ]
     },
     "metadata": {},
     "output_type": "display_data"
    }
   ],
   "source": [
    "<img src=\"favicon.ico\" alt=\"SOmething weird\" width=\"400\" height=\"341\" title=\"A player I made\">"
   ]
  },
  {
   "attachments": {},
   "cell_type": "markdown",
   "metadata": {
    "dotnet_interactive": {
     "language": "html"
    },
    "polyglot_notebook": {
     "kernelName": "html"
    }
   },
   "source": [
    "## Video and Audio Content"
   ]
  },
  {
   "attachments": {},
   "cell_type": "markdown",
   "metadata": {
    "dotnet_interactive": {
     "language": "html"
    },
    "polyglot_notebook": {
     "kernelName": "html"
    }
   },
   "source": [
    "Back in the day, videos and audio were made possible by technologies like ***Flash***. But it had security and accessibility issues, so its obsolete and now in favor of the native HTML solutions: `<video>` and `<audio>`, with JavaScript APIs being able to control them."
   ]
  },
  {
   "cell_type": "code",
   "execution_count": 4,
   "metadata": {
    "dotnet_interactive": {
     "language": "html"
    },
    "polyglot_notebook": {
     "kernelName": "html"
    },
    "vscode": {
     "languageId": "polyglot-notebook"
    }
   },
   "outputs": [
    {
     "data": {
      "text/html": [
       "<video src=\"pathToVideo.mp4\" controls>\n",
       "    <p>Your browser doesn't support HTML video.</p>\n",
       "</video>"
      ]
     },
     "metadata": {},
     "output_type": "display_data"
    }
   ],
   "source": [
    "<video src=\"pathToVideo.mp4\" controls>\n",
    "    <p>Your browser doesn't support HTML video.</p>\n",
    "</video>"
   ]
  },
  {
   "attachments": {},
   "cell_type": "markdown",
   "metadata": {
    "dotnet_interactive": {
     "language": "html"
    },
    "polyglot_notebook": {
     "kernelName": "html"
    }
   },
   "source": [
    "`<video>` : The tag that allows you to embed a video into your document.  \n",
    "`src` : The path to the video you want to show.  \n",
    "`controls` : This allows the user to control the video and audio playback.  \n",
    "<br>\n",
    "Notice that there is a paragraph inside of the video element. This is the fallback content that will display if the video element is not supported."
   ]
  },
  {
   "attachments": {},
   "cell_type": "markdown",
   "metadata": {
    "dotnet_interactive": {
     "language": "html"
    },
    "polyglot_notebook": {
     "kernelName": "html"
    }
   },
   "source": [
    "Sometimes, videos may not play, because different browsers support differernt video and audio formats.  Formats like .mp3, .mp4, and .webm are called container formats. They store a bunch of different information that we don't really need to know.  \n",
    "<br>\n",
    "The best solution to this problem, is to provide each media file you use in multiple formats.  \n",
    "Here is an example on how it is done:"
   ]
  },
  {
   "cell_type": "code",
   "execution_count": 5,
   "metadata": {
    "dotnet_interactive": {
     "language": "html"
    },
    "polyglot_notebook": {
     "kernelName": "html"
    },
    "vscode": {
     "languageId": "polyglot-notebook"
    }
   },
   "outputs": [
    {
     "data": {
      "text/html": [
       "<video controls>\n",
       "  <source src=\"testSource.mp4\" type=\"video/mp4\" />\n",
       "  <source src=\"testSource.webm\" type=\"video/webm\" />\n",
       "  <p>\n",
       "    Your browser doesn't support this video. Here is a\n",
       "    <a href=\"testSource.mp4\">link to the video</a> instead.\n",
       "  </p>\n",
       "</video>"
      ]
     },
     "metadata": {},
     "output_type": "display_data"
    }
   ],
   "source": [
    "<video controls>\n",
    "  <source src=\"testSource.mp4\" type=\"video/mp4\" />\n",
    "  <source src=\"testSource.webm\" type=\"video/webm\" />\n",
    "  <p>\n",
    "    Your browser doesn't support this video. Here is a\n",
    "    <a href=\"testSource.mp4\">link to the video</a> instead.\n",
    "  </p>\n",
    "</video>"
   ]
  },
  {
   "attachments": {},
   "cell_type": "markdown",
   "metadata": {
    "dotnet_interactive": {
     "language": "html"
    },
    "polyglot_notebook": {
     "kernelName": "html"
    }
   },
   "source": [
    "Notice how we took out the `src` attribute for `<video>` and instead used a `<source>` tag. The browser will keep going through the list of: `<source>`, `<source>`, and `<p>`, and will stop at the first one that is valid. The `type` attribute is optional, but is recommended to inlcude it so that the computer knows which source to go to instead of trying to test one by one."
   ]
  },
  {
   "attachments": {},
   "cell_type": "markdown",
   "metadata": {
    "dotnet_interactive": {
     "language": "html"
    },
    "polyglot_notebook": {
     "kernelName": "html"
    }
   },
   "source": [
    "Other `<video>` attributes include:"
   ]
  },
  {
   "attachments": {},
   "cell_type": "markdown",
   "metadata": {
    "dotnet_interactive": {
     "language": "html"
    },
    "polyglot_notebook": {
     "kernelName": "html"
    }
   },
   "source": [
    "<table>\n",
    "    <tr>\n",
    "        <th><code>width</code></th>\n",
    "        <th>String with the number of pixels.</th>\n",
    "    </tr>\n",
    "    <tr>\n",
    "        <th><code>height</code></th>\n",
    "        <th>String with the number of pixels.</th>\n",
    "    </tr>\n",
    "    <tr>\n",
    "        <th><code>autoplay</code></th>\n",
    "        <th>Boolean attribute that you use so that the video plays immediately upon opening the video.</th>\n",
    "    </tr>\n",
    "    <tr>\n",
    "        <th><code>loop</code></th>\n",
    "        <th>Boolean attribute that loops the video when the video is done loading.</th>\n",
    "    </tr>\n",
    "    <tr>\n",
    "        <th><code>muted</code></th>\n",
    "        <th>Boolean attribute that causes the media's sound to be off by default.</th>\n",
    "    </tr>\n",
    "    <tr>\n",
    "        <th><code>poster</code></th>\n",
    "        <th>URL of an image which will be displayed before the video is played. Like a thumbnail.</th>\n",
    "    </tr>\n",
    "</table>"
   ]
  },
  {
   "cell_type": "code",
   "execution_count": 6,
   "metadata": {
    "dotnet_interactive": {
     "language": "html"
    },
    "polyglot_notebook": {
     "kernelName": "html"
    },
    "vscode": {
     "languageId": "polyglot-notebook"
    }
   },
   "outputs": [
    {
     "data": {
      "text/html": [
       "<audio controls>\n",
       "    <source src=\"viper.mp3\" type=\"audio/mp3\" />\n",
       "    <source src=\"viper.ogg\" type=\"audio/ogg\" />\n",
       "    <p>\n",
       "        Your browser doesn't support this audio file.\n",
       "     </p>\n",
       "</audio>"
      ]
     },
     "metadata": {},
     "output_type": "display_data"
    }
   ],
   "source": [
    "<audio controls>\n",
    "    <source src=\"viper.mp3\" type=\"audio/mp3\" />\n",
    "    <source src=\"viper.ogg\" type=\"audio/ogg\" />\n",
    "    <p>\n",
    "        Your browser doesn't support this audio file.\n",
    "     </p>\n",
    "</audio>"
   ]
  },
  {
   "attachments": {},
   "cell_type": "markdown",
   "metadata": {
    "dotnet_interactive": {
     "language": "html"
    },
    "polyglot_notebook": {
     "kernelName": "html"
    }
   },
   "source": [
    "The `<audio>` tag has almost the same attributes as `<video>`, besides the `poster`, `width`, and `height` attribute."
   ]
  },
  {
   "attachments": {},
   "cell_type": "markdown",
   "metadata": {
    "dotnet_interactive": {
     "language": "html"
    },
    "polyglot_notebook": {
     "kernelName": "html"
    }
   },
   "source": [
    "## Adding closed captions to your videos"
   ]
  },
  {
   "attachments": {},
   "cell_type": "markdown",
   "metadata": {
    "dotnet_interactive": {
     "language": "html"
    },
    "polyglot_notebook": {
     "kernelName": "html"
    }
   },
   "source": [
    "We will have to use the WebVTT format to save text files that contains multiple strings of text with metadata, called ***cues***.   \n",
    "The most common cues are:  \n",
    "\n",
    "<dl>\n",
    "    <dt>subtitles</dt>\n",
    "    <dd>\n",
    "        This is to translate languages.\n",
    "    </dd>\n",
    "    <dt>captions</dt>\n",
    "    <dd>\n",
    "        Text that displays what the character is saying, alongside which character is saying it.\n",
    "    </dd>\n",
    "    <dt>timed descriptions</dt>\n",
    "    <dd>\n",
    "        Text which describes what is going on.\n",
    "    </dd>\n",
    "</dl>"
   ]
  },
  {
   "attachments": {},
   "cell_type": "markdown",
   "metadata": {
    "dotnet_interactive": {
     "language": "html"
    },
    "polyglot_notebook": {
     "kernelName": "html"
    }
   },
   "source": [
    "A typical WebVTT text file looks like:"
   ]
  },
  {
   "attachments": {},
   "cell_type": "markdown",
   "metadata": {
    "dotnet_interactive": {
     "language": "html"
    },
    "polyglot_notebook": {
     "kernelName": "html"
    }
   },
   "source": [
    "<code>\n",
    "WEBVTT\n",
    "<br><br>\n",
    "1  <br>\n",
    "00:00:22.230 --> 00:00:24.606\n",
    "This is the first subtitle that is displayed during these times.\n",
    "\n",
    "2  \n",
    "00:00:30.739 --> 00:00:34.074\n",
    "This is the second subtitle.\n",
    "</code>"
   ]
  },
  {
   "attachments": {},
   "cell_type": "markdown",
   "metadata": {
    "dotnet_interactive": {
     "language": "html"
    },
    "polyglot_notebook": {
     "kernelName": "html"
    }
   },
   "source": [
    "1. Save this file as a `.vtt` file somewhere you can path to.\n",
    "2. Link to this file by using the `<track>` tag. Then use the `kind` attribute to specify if the cues are `\"subtitles`, `\"captions`, or `descriptions`. Then use `srclang=\"en\"` to tell the browser you are writing them in english. The `label=\"English` will pop up to tell the user what language it the subtitles are in."
   ]
  },
  {
   "attachments": {},
   "cell_type": "markdown",
   "metadata": {
    "dotnet_interactive": {
     "language": "html"
    },
    "polyglot_notebook": {
     "kernelName": "html"
    }
   },
   "source": [
    "Try this out on a video you embedded. "
   ]
  },
  {
   "attachments": {},
   "cell_type": "markdown",
   "metadata": {
    "dotnet_interactive": {
     "language": "html"
    },
    "polyglot_notebook": {
     "kernelName": "html"
    }
   },
   "source": [
    "## `<iframe>`"
   ]
  },
  {
   "attachments": {},
   "cell_type": "markdown",
   "metadata": {
    "dotnet_interactive": {
     "language": "html"
    },
    "polyglot_notebook": {
     "kernelName": "html"
    }
   },
   "source": [
    "This tag allows you to embed an entire web document inside another one. We will start by using `<iframe>` as a Youtube video into your website.  \n",
    "Here are the steps:  \n",
    "1. Go to a Youtube video\n",
    "2. Click on the share button\n",
    "3. Select the Embed button, and copy the `<iframe>` code.\n",
    "4. Assign it to the `src` attribute for the tag.  \n",
    "\n",
    "Note: This tag is not a void tag, and the inside part of the element is going to be the fallback content if the iframe cannot load."
   ]
  },
  {
   "attachments": {},
   "cell_type": "markdown",
   "metadata": {
    "dotnet_interactive": {
     "language": "html"
    },
    "polyglot_notebook": {
     "kernelName": "html"
    }
   },
   "source": [
    "Try this out on your own."
   ]
  },
  {
   "attachments": {},
   "cell_type": "markdown",
   "metadata": {
    "dotnet_interactive": {
     "language": "html"
    },
    "polyglot_notebook": {
     "kernelName": "html"
    }
   },
   "source": [
    "Let's try to embed a Google Map in your website:  \n",
    "1. Go to Google Map and find a map you want to embed.\n",
    "2. Click on the \"Menu\" button with the three horizontal lines.\n",
    "3. Click on the share or embed option.\n",
    "4. Copy the `<iframe>` code.\n",
    "5. Paste in the correct spot.  \n",
    "\n",
    "Try this as well."
   ]
  },
  {
   "attachments": {},
   "cell_type": "markdown",
   "metadata": {
    "dotnet_interactive": {
     "language": "html"
    },
    "polyglot_notebook": {
     "kernelName": "html"
    }
   },
   "source": [
    "Other examples are stuff like commenting systems from **Disqus**, advertising banners, maps from other providers, etc."
   ]
  },
  {
   "attachments": {},
   "cell_type": "markdown",
   "metadata": {
    "dotnet_interactive": {
     "language": "html"
    },
    "polyglot_notebook": {
     "kernelName": "html"
    }
   },
   "source": [
    "### Security Issues with iframe"
   ]
  },
  {
   "attachments": {},
   "cell_type": "markdown",
   "metadata": {
    "dotnet_interactive": {
     "language": "html"
    },
    "polyglot_notebook": {
     "kernelName": "html"
    }
   },
   "source": [
    "iframe's are susceptible to \"Clickjacking\" where hackers embed an invisible iframe into the document and use it to capture users' interactions."
   ]
  },
  {
   "attachments": {},
   "cell_type": "markdown",
   "metadata": {
    "dotnet_interactive": {
     "language": "html"
    },
    "polyglot_notebook": {
     "kernelName": "html"
    }
   },
   "source": [
    "You also need to be aware of intellectual property issues. Make sure the content is not copyrighted, offline and online. So make sure that when you use iframes, be cautious and only use it when you really need to."
   ]
  },
  {
   "attachments": {},
   "cell_type": "markdown",
   "metadata": {
    "dotnet_interactive": {
     "language": "html"
    },
    "polyglot_notebook": {
     "kernelName": "html"
    }
   },
   "source": [
    "### HTTPS"
   ]
  },
  {
   "attachments": {},
   "cell_type": "markdown",
   "metadata": {
    "dotnet_interactive": {
     "language": "html"
    },
    "polyglot_notebook": {
     "kernelName": "html"
    }
   },
   "source": [
    "HTTPS is just the encrypted version of HTTP. HTTPS reduces the chance that remote content will be tampered with, and revents embedded content from accessing content in your parent document, and vice versa.  \n",
    "<br>\n",
    "HTTPS-enabling your site requires a good couple of steps, so you should look into that on your own."
   ]
  },
  {
   "attachments": {},
   "cell_type": "markdown",
   "metadata": {
    "dotnet_interactive": {
     "language": "html"
    },
    "polyglot_notebook": {
     "kernelName": "html"
    }
   },
   "source": [
    "## Vector Graphics"
   ]
  },
  {
   "attachments": {},
   "cell_type": "markdown",
   "metadata": {
    "dotnet_interactive": {
     "language": "html"
    },
    "polyglot_notebook": {
     "kernelName": "html"
    }
   },
   "source": [
    "On the web, there are two types of images:"
   ]
  },
  {
   "attachments": {},
   "cell_type": "markdown",
   "metadata": {
    "dotnet_interactive": {
     "language": "html"
    },
    "polyglot_notebook": {
     "kernelName": "html"
    }
   },
   "source": [
    "**Raster Images** : defined using a grid of pixels. A raster image file has info saying where and what color the pixel is. Raster formats include - Bitmap(`.bmp`), PNG(`.png`), JPEG(`.jpg`), and GIF(`.gif`)."
   ]
  },
  {
   "attachments": {},
   "cell_type": "markdown",
   "metadata": {
    "dotnet_interactive": {
     "language": "html"
    },
    "polyglot_notebook": {
     "kernelName": "html"
    }
   },
   "source": [
    "**Vector Images** : defined using algorithms. A vector image file has info on the shape and path that the computer will use to determine what the image will look like when rendered. The SVG format is what we use to create vector graphics on the web."
   ]
  },
  {
   "attachments": {},
   "cell_type": "markdown",
   "metadata": {
    "dotnet_interactive": {
     "language": "html"
    },
    "polyglot_notebook": {
     "kernelName": "html"
    }
   },
   "source": [
    "Here is an example of a raster image on the left, and vector image on the right:  \n",
    "<img src=\"raster.png\"> <br>\n",
    "<img src=\"raster-zoomed.png\">"
   ]
  },
  {
   "attachments": {},
   "cell_type": "markdown",
   "metadata": {
    "dotnet_interactive": {
     "language": "html"
    },
    "polyglot_notebook": {
     "kernelName": "html"
    }
   },
   "source": [
    "Notice the blur on the left image when enlarged. Vector images also have less info, because they only need algorithms rather than info on every single pixel in the image."
   ]
  },
  {
   "attachments": {},
   "cell_type": "markdown",
   "metadata": {
    "dotnet_interactive": {
     "language": "html"
    },
    "polyglot_notebook": {
     "kernelName": "html"
    }
   },
   "source": [
    "## SVG"
   ]
  },
  {
   "attachments": {},
   "cell_type": "markdown",
   "metadata": {
    "dotnet_interactive": {
     "language": "html"
    },
    "polyglot_notebook": {
     "kernelName": "html"
    }
   },
   "source": [
    "SVG is an XML-based language (like HTML) to describe vector images. Its like HTML, except it has different tags/elements to create the shapes and effects you want.  \n",
    "Here is a simple example:"
   ]
  },
  {
   "cell_type": "code",
   "execution_count": 7,
   "metadata": {
    "dotnet_interactive": {
     "language": "html"
    },
    "polyglot_notebook": {
     "kernelName": "html"
    },
    "vscode": {
     "languageId": "polyglot-notebook"
    }
   },
   "outputs": [
    {
     "data": {
      "text/html": [
       "<svg\n",
       "  version=\"1.1\"\n",
       "  baseProfile=\"full\"\n",
       "  width=\"300\"\n",
       "  height=\"200\"\n",
       "  xmlns=\"http://www.w3.org/2000/svg\">\n",
       "  <rect width=\"100%\" height=\"100%\" fill=\"black\" />\n",
       "  <circle cx=\"150\" cy=\"100\" r=\"90\" fill=\"blue\" />\n",
       "</svg>"
      ]
     },
     "metadata": {},
     "output_type": "display_data"
    }
   ],
   "source": [
    "<svg\n",
    "  version=\"1.1\"\n",
    "  baseProfile=\"full\"\n",
    "  width=\"300\"\n",
    "  height=\"200\"\n",
    "  xmlns=\"http://www.w3.org/2000/svg\">\n",
    "  <rect width=\"100%\" height=\"100%\" fill=\"black\" />\n",
    "  <circle cx=\"150\" cy=\"100\" r=\"90\" fill=\"blue\" />\n",
    "</svg>"
   ]
  },
  {
   "attachments": {},
   "cell_type": "markdown",
   "metadata": {
    "dotnet_interactive": {
     "language": "html"
    },
    "polyglot_notebook": {
     "kernelName": "html"
    }
   },
   "source": [
    "You can handcode images like above, but you most of the time will use a vector graphics editor like Inkscape or Illustrator. You can also just put a rasterized image into a Vector Imaged converter."
   ]
  },
  {
   "attachments": {},
   "cell_type": "markdown",
   "metadata": {
    "dotnet_interactive": {
     "language": "html"
    },
    "polyglot_notebook": {
     "kernelName": "html"
    }
   },
   "source": [
    "So then what are the disadvantages?  \n",
    "1. SVG file sizes can grow as the images get more and more complicated.  \n",
    "2. SVG files can also take longer to load if they are complex.  \n",
    "3. SVG can also be harder to create."
   ]
  },
  {
   "attachments": {},
   "cell_type": "markdown",
   "metadata": {
    "dotnet_interactive": {
     "language": "html"
    },
    "polyglot_notebook": {
     "kernelName": "html"
    }
   },
   "source": [
    "So you will want to use Raster Graphics for complex precision images."
   ]
  },
  {
   "attachments": {},
   "cell_type": "markdown",
   "metadata": {
    "dotnet_interactive": {
     "language": "html"
    },
    "polyglot_notebook": {
     "kernelName": "html"
    }
   },
   "source": [
    "If you have an `.svg` file, you can just use the `<img>` tag and pass it in the `src` attribute"
   ]
  },
  {
   "cell_type": "code",
   "execution_count": 8,
   "metadata": {
    "dotnet_interactive": {
     "language": "html"
    },
    "polyglot_notebook": {
     "kernelName": "html"
    },
    "vscode": {
     "languageId": "polyglot-notebook"
    }
   },
   "outputs": [
    {
     "data": {
      "text/html": [
       "<img src=\"example.svg\" />"
      ]
     },
     "metadata": {},
     "output_type": "display_data"
    }
   ],
   "source": [
    "<img src=\"example.svg\" />"
   ]
  },
  {
   "attachments": {},
   "cell_type": "markdown",
   "metadata": {
    "dotnet_interactive": {
     "language": "html"
    },
    "polyglot_notebook": {
     "kernelName": "html"
    }
   },
   "source": [
    "But there is a big problem doing it this way: ***You cannot style the image through external CSS stylesheets.***"
   ]
  },
  {
   "attachments": {},
   "cell_type": "markdown",
   "metadata": {
    "dotnet_interactive": {
     "language": "html"
    },
    "polyglot_notebook": {
     "kernelName": "html"
    }
   },
   "source": [
    "So you actually will want to do it another way:"
   ]
  },
  {
   "cell_type": "code",
   "execution_count": 9,
   "metadata": {
    "dotnet_interactive": {
     "language": "html"
    },
    "polyglot_notebook": {
     "kernelName": "html"
    },
    "vscode": {
     "languageId": "polyglot-notebook"
    }
   },
   "outputs": [
    {
     "data": {
      "text/html": [
       "<svg width=\"300\" height=\"200\">\n",
       "  <!--Copy the svg code and paste it here-->\n",
       "</svg>"
      ]
     },
     "metadata": {},
     "output_type": "display_data"
    }
   ],
   "source": [
    "<svg width=\"300\" height=\"200\">\n",
    "  <!--Copy the svg code and paste it here-->\n",
    "</svg>"
   ]
  },
  {
   "attachments": {},
   "cell_type": "markdown",
   "metadata": {
    "dotnet_interactive": {
     "language": "html"
    },
    "polyglot_notebook": {
     "kernelName": "html"
    }
   },
   "source": [
    "The method above is called **SVG Inline**.  "
   ]
  },
  {
   "attachments": {},
   "cell_type": "markdown",
   "metadata": {
    "dotnet_interactive": {
     "language": "html"
    },
    "polyglot_notebook": {
     "kernelName": "html"
    }
   },
   "source": [
    "The advantage of doing it this way are:\n",
    "1. Less loading time.  \n",
    "2. Assign `class`es and `id`s to SVG elements and style them with CSS.  \n",
    "\n",
    "The main cons are:\n",
    "1. Duplication is resource-intensive.\n",
    "2. Extra HTML file size.\n"
   ]
  },
  {
   "attachments": {},
   "cell_type": "markdown",
   "metadata": {
    "dotnet_interactive": {
     "language": "html"
    },
    "polyglot_notebook": {
     "kernelName": "html"
    }
   },
   "source": [
    "Here is a cool example of SVG:"
   ]
  },
  {
   "cell_type": "code",
   "execution_count": 10,
   "metadata": {
    "dotnet_interactive": {
     "language": "html"
    },
    "polyglot_notebook": {
     "kernelName": "html"
    },
    "vscode": {
     "languageId": "polyglot-notebook"
    }
   },
   "outputs": [
    {
     "data": {
      "text/html": [
       "  <svg width=\"100%\" height=\"100%\">\n",
       "    <rect width=\"100%\" height=\"100%\" fill=\"red\" />\n",
       "    <circle cx=\"100%\" cy=\"100%\" r=\"150\" fill=\"blue\" stroke=\"black\" />\n",
       "    <polygon points=\"120,0 240,225 0,225\" fill=\"green\"/>\n",
       "    <text x=\"50\" y=\"100\" font-family=\"Verdana\" font-size=\"55\"\n",
       "          fill=\"white\" stroke=\"black\" stroke-width=\"2\">\n",
       "            Hello!\n",
       "    </text>\n",
       "  </svg>"
      ]
     },
     "metadata": {},
     "output_type": "display_data"
    }
   ],
   "source": [
    "  <svg width=\"100%\" height=\"100%\">\n",
    "    <rect width=\"100%\" height=\"100%\" fill=\"red\" />\n",
    "    <circle cx=\"100%\" cy=\"100%\" r=\"150\" fill=\"blue\" stroke=\"black\" />\n",
    "    <polygon points=\"120,0 240,225 0,225\" fill=\"green\"/>\n",
    "    <text x=\"50\" y=\"100\" font-family=\"Verdana\" font-size=\"55\"\n",
    "          fill=\"white\" stroke=\"black\" stroke-width=\"2\">\n",
    "            Hello!\n",
    "    </text>\n",
    "  </svg>"
   ]
  },
  {
   "attachments": {},
   "cell_type": "markdown",
   "metadata": {
    "dotnet_interactive": {
     "language": "html"
    },
    "polyglot_notebook": {
     "kernelName": "html"
    }
   },
   "source": [
    "## Responsive Images"
   ]
  },
  {
   "attachments": {},
   "cell_type": "markdown",
   "metadata": {
    "dotnet_interactive": {
     "language": "html"
    },
    "polyglot_notebook": {
     "kernelName": "html"
    }
   },
   "source": [
    "The amount of pixels on screen for a desktop is different than the amount on a mobile device. Responsive images will change depending on this fact."
   ]
  },
  {
   "attachments": {},
   "cell_type": "markdown",
   "metadata": {
    "dotnet_interactive": {
     "language": "html"
    },
    "polyglot_notebook": {
     "kernelName": "html"
    }
   },
   "source": [
    "We can use the `srcset` and `sizes` attributes in the `<img>` tag to provide additional source images along with hints to help the browser pick the right one."
   ]
  },
  {
   "cell_type": "code",
   "execution_count": null,
   "metadata": {
    "dotnet_interactive": {
     "language": "html"
    },
    "polyglot_notebook": {
     "kernelName": "html"
    },
    "vscode": {
     "languageId": "polyglot-notebook"
    }
   },
   "outputs": [],
   "source": [
    "<img\n",
    "  srcset=\"exampleImage-480w.jpg 480w, exampleImage-800w.jpg 800w\"\n",
    "  sizes=\"(max-width: 600px) 480px,\n",
    "         800px\"\n",
    "  src=\"exampleImage-800w.jpg\"\n",
    "  alt=\"Example image\" />"
   ]
  },
  {
   "attachments": {},
   "cell_type": "markdown",
   "metadata": {
    "dotnet_interactive": {
     "language": "html"
    },
    "polyglot_notebook": {
     "kernelName": "html"
    }
   },
   "source": [
    "`srcset` : Set of images we will allow the browser to choose between and the size each image is. You will have a list with commas between each entry. Each entry will have the image filename, a space, and then the image's width in pixels, but using the end of `w` not `px` as expected.  \n",
    "`sizes` : Is where the media conditions resize, and tells the document what image size is best to choose. In this code above, we have a **media condition** = `(max-width:600px)`, which is basically saying \"when the viewport width is 600 pixels or less... You then see we typed `480px`, which indicates the size we are choosing when the viewport width is 600 pixels or less. If it is NOT 600 pixels or less, we choose the 800px sized image."
   ]
  },
  {
   "attachments": {},
   "cell_type": "markdown",
   "metadata": {
    "dotnet_interactive": {
     "language": "html"
    },
    "polyglot_notebook": {
     "kernelName": "html"
    }
   },
   "source": [
    "To look at the viewport, just open up the DOM in your browser and change the width."
   ]
  },
  {
   "attachments": {},
   "cell_type": "markdown",
   "metadata": {
    "dotnet_interactive": {
     "language": "html"
    },
    "polyglot_notebook": {
     "kernelName": "html"
    }
   },
   "source": [
    "We can also use the `<picture>` tag in order to change images based on a media condition.  \n",
    "For example:  "
   ]
  },
  {
   "cell_type": "code",
   "execution_count": null,
   "metadata": {
    "dotnet_interactive": {
     "language": "html"
    },
    "polyglot_notebook": {
     "kernelName": "html"
    },
    "vscode": {
     "languageId": "polyglot-notebook"
    }
   },
   "outputs": [],
   "source": [
    "<picture>\n",
    "    <source media=\"(max-width: 799px)\" srcset=\"example-480w-close-portrait.jpg\" />\n",
    "    <source media=\"(min-width: 800px)\" srcset=\"example-800w.jpg\" />\n",
    "    <img src=\"example-800w.jpg\" alt=\"An Example\" />\n",
    "</picture>"
   ]
  },
  {
   "attachments": {},
   "cell_type": "markdown",
   "metadata": {
    "dotnet_interactive": {
     "language": "html"
    },
    "polyglot_notebook": {
     "kernelName": "html"
    }
   },
   "source": [
    "This tag works like the `<video>` tag, where it chooses the source that it matches with first."
   ]
  },
  {
   "attachments": {},
   "cell_type": "markdown",
   "metadata": {
    "dotnet_interactive": {
     "language": "html"
    },
    "polyglot_notebook": {
     "kernelName": "html"
    }
   },
   "source": [
    "Try this out with 2 different images"
   ]
  }
 ],
 "metadata": {
  "kernelspec": {
   "display_name": ".NET (C#)",
   "language": "C#",
   "name": ".net-csharp"
  },
  "polyglot_notebook": {
   "kernelInfo": {
    "defaultKernelName": "csharp",
    "items": [
     {
      "aliases": [
       "c#",
       "C#"
      ],
      "languageName": "C#",
      "name": "csharp"
     },
     {
      "aliases": [],
      "name": ".NET"
     },
     {
      "aliases": [
       "frontend"
      ],
      "languageName": null,
      "name": "vscode"
     },
     {
      "aliases": [
       "js"
      ],
      "languageName": "JavaScript",
      "name": "javascript"
     },
     {
      "aliases": [],
      "name": "webview"
     },
     {
      "aliases": [
       "f#",
       "F#"
      ],
      "languageName": "F#",
      "name": "fsharp"
     },
     {
      "aliases": [],
      "languageName": "HTML",
      "name": "html"
     },
     {
      "aliases": [],
      "languageName": "KQL",
      "name": "kql"
     },
     {
      "aliases": [],
      "languageName": "Mermaid",
      "name": "mermaid"
     },
     {
      "aliases": [
       "powershell"
      ],
      "languageName": "PowerShell",
      "name": "pwsh"
     },
     {
      "aliases": [],
      "languageName": "SQL",
      "name": "sql"
     },
     {
      "aliases": [],
      "name": "value"
     }
    ]
   }
  }
 },
 "nbformat": 4,
 "nbformat_minor": 2
}
