{
 "cells": [
  {
   "attachments": {},
   "cell_type": "markdown",
   "metadata": {
    "dotnet_interactive": {
     "language": "csharp"
    },
    "polyglot_notebook": {
     "kernelName": "csharp"
    }
   },
   "source": [
    "# HTML Tables"
   ]
  },
  {
   "attachments": {},
   "cell_type": "markdown",
   "metadata": {
    "dotnet_interactive": {
     "language": "csharp"
    },
    "polyglot_notebook": {
     "kernelName": "csharp"
    }
   },
   "source": [
    "Here is an example of a table:  \n",
    "\n",
    "<table>\n",
    "    <tr>\n",
    "        <th>Hello</th>\n",
    "        <th>Hello</th>\n",
    "        <th>Bye</th>\n",
    "    </tr>\n",
    "    <tr>\n",
    "        <th>Bye again</th>\n",
    "        <th>Hello again</th>\n",
    "    </tr>\n",
    "</table>"
   ]
  },
  {
   "attachments": {},
   "cell_type": "markdown",
   "metadata": {
    "dotnet_interactive": {
     "language": "csharp"
    },
    "polyglot_notebook": {
     "kernelName": "csharp"
    }
   },
   "source": [
    "A table is just a set of data made up of rows and columns."
   ]
  },
  {
   "attachments": {},
   "cell_type": "markdown",
   "metadata": {
    "dotnet_interactive": {
     "language": "csharp"
    },
    "polyglot_notebook": {
     "kernelName": "csharp"
    }
   },
   "source": [
    "Let's start by making a table cell by typing:"
   ]
  },
  {
   "cell_type": "code",
   "execution_count": 1,
   "metadata": {
    "dotnet_interactive": {
     "language": "html"
    },
    "polyglot_notebook": {
     "kernelName": "html"
    },
    "vscode": {
     "languageId": "polyglot-notebook"
    }
   },
   "outputs": [
    {
     "data": {
      "text/html": [
       "<table>\n",
       "    <td>Hello there</td>\n",
       "</table>"
      ]
     },
     "metadata": {},
     "output_type": "display_data"
    }
   ],
   "source": [
    "<table>\n",
    "    <td>Hello there</td>\n",
    "</table>"
   ]
  },
  {
   "attachments": {},
   "cell_type": "markdown",
   "metadata": {
    "dotnet_interactive": {
     "language": "html"
    },
    "polyglot_notebook": {
     "kernelName": "html"
    }
   },
   "source": [
    "Now let's make a row of four cells:"
   ]
  },
  {
   "cell_type": "code",
   "execution_count": 2,
   "metadata": {
    "dotnet_interactive": {
     "language": "html"
    },
    "polyglot_notebook": {
     "kernelName": "html"
    },
    "vscode": {
     "languageId": "polyglot-notebook"
    }
   },
   "outputs": [
    {
     "data": {
      "text/html": [
       "<table>\n",
       "    <td>Hello there</td>\n",
       "    <td>Hello there</td>\n",
       "    <td>Hello there</td>\n",
       "    <td>Hello there</td>\n",
       "</table>"
      ]
     },
     "metadata": {},
     "output_type": "display_data"
    }
   ],
   "source": [
    "<table>\n",
    "    <td>Hello there</td>\n",
    "    <td>Hello there</td>\n",
    "    <td>Hello there</td>\n",
    "    <td>Hello there</td>\n",
    "</table>"
   ]
  },
  {
   "attachments": {},
   "cell_type": "markdown",
   "metadata": {
    "dotnet_interactive": {
     "language": "html"
    },
    "polyglot_notebook": {
     "kernelName": "html"
    }
   },
   "source": [
    "Each cell is automatically aligned with each other on the same row. Let's make a new row:"
   ]
  },
  {
   "cell_type": "code",
   "execution_count": 3,
   "metadata": {
    "dotnet_interactive": {
     "language": "html"
    },
    "polyglot_notebook": {
     "kernelName": "html"
    },
    "vscode": {
     "languageId": "polyglot-notebook"
    }
   },
   "outputs": [
    {
     "data": {
      "text/html": [
       "<table>\n",
       "    <td>Hello there</td>\n",
       "    <td>Hello there</td>\n",
       "    <tr>\n",
       "        <td>Hello there</td>\n",
       "        <td>Hello there</td>\n",
       "    </tr>\n",
       "</table>"
      ]
     },
     "metadata": {},
     "output_type": "display_data"
    }
   ],
   "source": [
    "<table>\n",
    "    <td>Hello there</td>\n",
    "    <td>Hello there</td>\n",
    "    <tr>\n",
    "        <td>Hello there</td>\n",
    "        <td>Hello there</td>\n",
    "    </tr>\n",
    "</table>"
   ]
  },
  {
   "attachments": {},
   "cell_type": "markdown",
   "metadata": {
    "dotnet_interactive": {
     "language": "html"
    },
    "polyglot_notebook": {
     "kernelName": "html"
    }
   },
   "source": [
    "vs."
   ]
  },
  {
   "cell_type": "code",
   "execution_count": 8,
   "metadata": {
    "dotnet_interactive": {
     "language": "html"
    },
    "polyglot_notebook": {
     "kernelName": "html"
    },
    "vscode": {
     "languageId": "polyglot-notebook"
    }
   },
   "outputs": [
    {
     "data": {
      "text/html": [
       "<table>\r\n",
       "    <tr>\r\n",
       "        <td>Hello there</td>\r\n",
       "        <td>Hello there</td>\r\n",
       "    </tr>\r\n",
       "    <tr>\r\n",
       "        <td>Hello there</td>\r\n",
       "        <td>Hello there</td>\r\n",
       "    </tr>\r\n",
       "</table>"
      ]
     },
     "metadata": {},
     "output_type": "display_data"
    }
   ],
   "source": [
    "<table>\n",
    "    <tr>\n",
    "        <td>Hello there</td>\n",
    "        <td>Hello there</td>\n",
    "    </tr>\n",
    "    <tr>\n",
    "        <td>Hello there</td>\n",
    "        <td>Hello there</td>\n",
    "    </tr>\n",
    "</table>"
   ]
  },
  {
   "attachments": {},
   "cell_type": "markdown",
   "metadata": {
    "dotnet_interactive": {
     "language": "html"
    },
    "polyglot_notebook": {
     "kernelName": "html"
    }
   },
   "source": [
    "Notice how the `<tr>` tag is there just to create a new row"
   ]
  },
  {
   "attachments": {},
   "cell_type": "markdown",
   "metadata": {
    "dotnet_interactive": {
     "language": "html"
    },
    "polyglot_notebook": {
     "kernelName": "html"
    }
   },
   "source": [
    "## Table Headers"
   ]
  },
  {
   "attachments": {},
   "cell_type": "markdown",
   "metadata": {
    "dotnet_interactive": {
     "language": "html"
    },
    "polyglot_notebook": {
     "kernelName": "html"
    }
   },
   "source": [
    "Let's look at this example of a table:"
   ]
  },
  {
   "cell_type": "code",
   "execution_count": 9,
   "metadata": {
    "dotnet_interactive": {
     "language": "html"
    },
    "polyglot_notebook": {
     "kernelName": "html"
    },
    "vscode": {
     "languageId": "polyglot-notebook"
    }
   },
   "outputs": [
    {
     "data": {
      "text/html": [
       "<table>\r\n",
       "  <tr>\r\n",
       "    <td>&nbsp;</td>\r\n",
       "    <td>Knocky</td>\r\n",
       "    <td>Flor</td>\r\n",
       "    <td>Ella</td>\r\n",
       "    <td>Juan</td>\r\n",
       "  </tr>\r\n",
       "  <tr>\r\n",
       "    <td>Breed</td>\r\n",
       "    <td>Jack Russell</td>\r\n",
       "    <td>Poodle</td>\r\n",
       "    <td>Streetdog</td>\r\n",
       "    <td>Cocker Spaniel</td>\r\n",
       "  </tr>\r\n",
       "  <tr>\r\n",
       "    <td>Age</td>\r\n",
       "    <td>16</td>\r\n",
       "    <td>9</td>\r\n",
       "    <td>10</td>\r\n",
       "    <td>5</td>\r\n",
       "  </tr>\r\n",
       "  <tr>\r\n",
       "    <td>Owner</td>\r\n",
       "    <td>Mother-in-law</td>\r\n",
       "    <td>Me</td>\r\n",
       "    <td>Me</td>\r\n",
       "    <td>Sister-in-law</td>\r\n",
       "  </tr>\r\n",
       "  <tr>\r\n",
       "    <td>Eating Habits</td>\r\n",
       "    <td>Eats everyone's leftovers</td>\r\n",
       "    <td>Nibbles at food</td>\r\n",
       "    <td>Hearty eater</td>\r\n",
       "    <td>Will eat till he explodes</td>\r\n",
       "  </tr>\r\n",
       "</table>"
      ]
     },
     "metadata": {},
     "output_type": "display_data"
    }
   ],
   "source": [
    "<table>\n",
    "  <tr>\n",
    "    <td>&nbsp;</td>\n",
    "    <td>Knocky</td>\n",
    "    <td>Flor</td>\n",
    "    <td>Ella</td>\n",
    "    <td>Juan</td>\n",
    "  </tr>\n",
    "  <tr>\n",
    "    <td>Breed</td>\n",
    "    <td>Jack Russell</td>\n",
    "    <td>Poodle</td>\n",
    "    <td>Streetdog</td>\n",
    "    <td>Cocker Spaniel</td>\n",
    "  </tr>\n",
    "  <tr>\n",
    "    <td>Age</td>\n",
    "    <td>16</td>\n",
    "    <td>9</td>\n",
    "    <td>10</td>\n",
    "    <td>5</td>\n",
    "  </tr>\n",
    "  <tr>\n",
    "    <td>Owner</td>\n",
    "    <td>Mother-in-law</td>\n",
    "    <td>Me</td>\n",
    "    <td>Me</td>\n",
    "    <td>Sister-in-law</td>\n",
    "  </tr>\n",
    "  <tr>\n",
    "    <td>Eating Habits</td>\n",
    "    <td>Eats everyone's leftovers</td>\n",
    "    <td>Nibbles at food</td>\n",
    "    <td>Hearty eater</td>\n",
    "    <td>Will eat till he explodes</td>\n",
    "  </tr>\n",
    "</table>"
   ]
  },
  {
   "attachments": {},
   "cell_type": "markdown",
   "metadata": {
    "dotnet_interactive": {
     "language": "html"
    },
    "polyglot_notebook": {
     "kernelName": "html"
    }
   },
   "source": [
    "While you can see the cross-referencing, its hard to visualize. That's where the table headings come into play.  \n",
    "With table headings, we can have unique headings for the column and rows of the table to allow them to stand our more.  \n",
    "To do this, just add `<th>Heading</th>` tags around the element in order to indicate that it is a heading.  \n",
    "<br>\n",
    "Try to test this out by making a small table with two columns and two rows.\n",
    "\n",
    "<hr>"
   ]
  },
  {
   "attachments": {},
   "cell_type": "markdown",
   "metadata": {
    "dotnet_interactive": {
     "language": "html"
    },
    "polyglot_notebook": {
     "kernelName": "html"
    }
   },
   "source": [
    "Here is an issue we can run into:"
   ]
  },
  {
   "cell_type": "code",
   "execution_count": 11,
   "metadata": {
    "dotnet_interactive": {
     "language": "html"
    },
    "polyglot_notebook": {
     "kernelName": "html"
    },
    "vscode": {
     "languageId": "polyglot-notebook"
    }
   },
   "outputs": [
    {
     "data": {
      "text/html": [
       "<table>\r\n",
       "  <tr>\r\n",
       "    <th>Animals</th>\r\n",
       "  </tr>\r\n",
       "  <tr>\r\n",
       "    <th>Hippopotamus</th>\r\n",
       "  </tr>\r\n",
       "  <tr>\r\n",
       "    <th>Horse</th>\r\n",
       "    <td>Mare</td>\r\n",
       "  </tr>\r\n",
       "  <tr>\r\n",
       "    <td>Stallion</td>\r\n",
       "  </tr>\r\n",
       "  <tr>\r\n",
       "    <th>Crocodile</th>\r\n",
       "  </tr>\r\n",
       "  <tr>\r\n",
       "    <th>Chicken</th>\r\n",
       "    <td>Hen</td>\r\n",
       "  </tr>\r\n",
       "  <tr>\r\n",
       "    <td>Rooster</td>\r\n",
       "  </tr>\r\n",
       "</table>"
      ]
     },
     "metadata": {},
     "output_type": "display_data"
    }
   ],
   "source": [
    "<table>\n",
    "  <tr>\n",
    "    <th>Animals</th>\n",
    "  </tr>\n",
    "  <tr>\n",
    "    <th>Hippopotamus</th>\n",
    "  </tr>\n",
    "  <tr>\n",
    "    <th>Horse</th>\n",
    "    <td>Mare</td>\n",
    "  </tr>\n",
    "  <tr>\n",
    "    <td>Stallion</td>\n",
    "  </tr>\n",
    "  <tr>\n",
    "    <th>Crocodile</th>\n",
    "  </tr>\n",
    "  <tr>\n",
    "    <th>Chicken</th>\n",
    "    <td>Hen</td>\n",
    "  </tr>\n",
    "  <tr>\n",
    "    <td>Rooster</td>\n",
    "  </tr>\n",
    "</table>"
   ]
  },
  {
   "attachments": {},
   "cell_type": "markdown",
   "metadata": {
    "dotnet_interactive": {
     "language": "html"
    },
    "polyglot_notebook": {
     "kernelName": "html"
    }
   },
   "source": [
    "We actually want the `Animals`, `Hippopotamus`, and `Crocodile` to span two columns, with `Horse`, and `Chicken` to span two rows. Table headers and cells have the attributes: `colspan` and `rowspan`."
   ]
  },
  {
   "cell_type": "code",
   "execution_count": 12,
   "metadata": {
    "dotnet_interactive": {
     "language": "html"
    },
    "polyglot_notebook": {
     "kernelName": "html"
    },
    "vscode": {
     "languageId": "polyglot-notebook"
    }
   },
   "outputs": [
    {
     "data": {
      "text/html": [
       "<table>\r\n",
       "  <tr>\r\n",
       "    <th colspan=\"2\">Animals</th>\r\n",
       "  </tr>\r\n",
       "  <tr>\r\n",
       "    <th colspan=\"2\">Hippopotamus</th>\r\n",
       "  </tr>\r\n",
       "  <tr>\r\n",
       "    <th rowspan=\"2\">Horse</th>\r\n",
       "    <td>Mare</td>\r\n",
       "  </tr>\r\n",
       "  <tr>\r\n",
       "    <td>Stallion</td>\r\n",
       "  </tr>\r\n",
       "  <tr>\r\n",
       "    <th colspan=\"2\">Crocodile</th>\r\n",
       "  </tr>\r\n",
       "  <tr>\r\n",
       "    <th rowspan=\"2\">Chicken</th>\r\n",
       "    <td>Hen</td>\r\n",
       "  </tr>\r\n",
       "  <tr>\r\n",
       "    <td>Rooster</td>\r\n",
       "  </tr>\r\n",
       "</table>"
      ]
     },
     "metadata": {},
     "output_type": "display_data"
    }
   ],
   "source": [
    "<table>\n",
    "  <tr>\n",
    "    <th colspan=\"2\">Animals</th>\n",
    "  </tr>\n",
    "  <tr>\n",
    "    <th colspan=\"2\">Hippopotamus</th>\n",
    "  </tr>\n",
    "  <tr>\n",
    "    <th rowspan=\"2\">Horse</th>\n",
    "    <td>Mare</td>\n",
    "  </tr>\n",
    "  <tr>\n",
    "    <td>Stallion</td>\n",
    "  </tr>\n",
    "  <tr>\n",
    "    <th colspan=\"2\">Crocodile</th>\n",
    "  </tr>\n",
    "  <tr>\n",
    "    <th rowspan=\"2\">Chicken</th>\n",
    "    <td>Hen</td>\n",
    "  </tr>\n",
    "  <tr>\n",
    "    <td>Rooster</td>\n",
    "  </tr>\n",
    "</table>"
   ]
  },
  {
   "attachments": {},
   "cell_type": "markdown",
   "metadata": {
    "dotnet_interactive": {
     "language": "html"
    },
    "polyglot_notebook": {
     "kernelName": "html"
    }
   },
   "source": [
    "It looks weird on this VSCode, but try it with your own in HTML."
   ]
  },
  {
   "attachments": {},
   "cell_type": "markdown",
   "metadata": {
    "dotnet_interactive": {
     "language": "html"
    },
    "polyglot_notebook": {
     "kernelName": "html"
    }
   },
   "source": [
    "Lets create a 2x3 table with anything in it:"
   ]
  },
  {
   "cell_type": "code",
   "execution_count": 13,
   "metadata": {
    "dotnet_interactive": {
     "language": "html"
    },
    "polyglot_notebook": {
     "kernelName": "html"
    },
    "vscode": {
     "languageId": "polyglot-notebook"
    }
   },
   "outputs": [
    {
     "data": {
      "text/html": [
       "<table>\r\n",
       "    <tr>\r\n",
       "        <th>Data 1</th>\r\n",
       "        <th>Data 2</th>\r\n",
       "    </tr>\r\n",
       "    <tr>\r\n",
       "        <th>Blah</th>\r\n",
       "        <th>Blah</th>\r\n",
       "    </tr>\r\n",
       "    <tr>\r\n",
       "        <th>Blah</th>\r\n",
       "        <th>Blah</th>\r\n",
       "    </tr>\r\n",
       "</table>"
      ]
     },
     "metadata": {},
     "output_type": "display_data"
    }
   ],
   "source": [
    "<table>\n",
    "    <tr>\n",
    "        <th>Data 1</th>\n",
    "        <th>Data 2</th>\n",
    "    </tr>\n",
    "    <tr>\n",
    "        <th>Blah</th>\n",
    "        <th>Blah</th>\n",
    "    </tr>\n",
    "    <tr>\n",
    "        <th>Blah</th>\n",
    "        <th>Blah</th>\n",
    "    </tr>\n",
    "</table>"
   ]
  },
  {
   "attachments": {},
   "cell_type": "markdown",
   "metadata": {
    "dotnet_interactive": {
     "language": "html"
    },
    "polyglot_notebook": {
     "kernelName": "html"
    }
   },
   "source": [
    "In order to color an entire column, we would have to do it individually. But with the `<col>` tag, we can color an entire column:"
   ]
  },
  {
   "cell_type": "code",
   "execution_count": 15,
   "metadata": {
    "dotnet_interactive": {
     "language": "html"
    },
    "polyglot_notebook": {
     "kernelName": "html"
    },
    "vscode": {
     "languageId": "polyglot-notebook"
    }
   },
   "outputs": [
    {
     "data": {
      "text/html": [
       "<table>\r\n",
       "    <colgroup>\r\n",
       "        <col />\r\n",
       "        <col style=\"background-color: red\" />\r\n",
       "    </colgroup>\r\n",
       "    <tr>\r\n",
       "        <th>Data 1</th>\r\n",
       "        <th>Data 2</th>\r\n",
       "    </tr>\r\n",
       "    <tr>\r\n",
       "        <th>Blah</th>\r\n",
       "        <th>Blah</th>\r\n",
       "    </tr>\r\n",
       "    <tr>\r\n",
       "        <th>Blah</th>\r\n",
       "        <th>Blah</th>\r\n",
       "    </tr>\r\n",
       "</table>"
      ]
     },
     "metadata": {},
     "output_type": "display_data"
    }
   ],
   "source": [
    "<table>\n",
    "    <colgroup>\n",
    "        <col />\n",
    "        <col style=\"background-color: red\" />\n",
    "    </colgroup>\n",
    "    <tr>\n",
    "        <th>Data 1</th>\n",
    "        <th>Data 2</th>\n",
    "    </tr>\n",
    "    <tr>\n",
    "        <th>Blah</th>\n",
    "        <th>Blah</th>\n",
    "    </tr>\n",
    "    <tr>\n",
    "        <th>Blah</th>\n",
    "        <th>Blah</th>\n",
    "    </tr>\n",
    "</table>"
   ]
  },
  {
   "attachments": {},
   "cell_type": "markdown",
   "metadata": {
    "dotnet_interactive": {
     "language": "html"
    },
    "polyglot_notebook": {
     "kernelName": "html"
    }
   },
   "source": [
    "`<col>` elements are specified inside a `<colgroup>` container below the opening `<table>` tag.  \n",
    "The first `<col />` is the first column. We didn't do anything to it.\n",
    "The second `<col>` is the second column, which we changed to be red."
   ]
  },
  {
   "cell_type": "code",
   "execution_count": 19,
   "metadata": {
    "dotnet_interactive": {
     "language": "html"
    },
    "polyglot_notebook": {
     "kernelName": "html"
    },
    "vscode": {
     "languageId": "polyglot-notebook"
    }
   },
   "outputs": [
    {
     "data": {
      "text/html": [
       "<table>\r\n",
       "    <colgroup>\r\n",
       "        <col style=\"background-color: red\" span=\"2\"/>\r\n",
       "    </colgroup>\r\n",
       "    <tr>\r\n",
       "        <th>Data 1</th>\r\n",
       "        <th>Data 2</th>\r\n",
       "    </tr>\r\n",
       "    <tr>\r\n",
       "        <td>Blah</td>\r\n",
       "        <td>Blah</td>\r\n",
       "    </tr>\r\n",
       "    <tr>\r\n",
       "        <td>Blah</td>\r\n",
       "        <td>Blah</td>\r\n",
       "    </tr>\r\n",
       "</table>"
      ]
     },
     "metadata": {},
     "output_type": "display_data"
    }
   ],
   "source": [
    "<table>\n",
    "    <colgroup>\n",
    "        <col style=\"background-color: red\" span=\"2\"/>\n",
    "    </colgroup>\n",
    "    <tr>\n",
    "        <th>Data 1</th>\n",
    "        <th>Data 2</th>\n",
    "    </tr>\n",
    "    <tr>\n",
    "        <td>Blah</td>\n",
    "        <td>Blah</td>\n",
    "    </tr>\n",
    "    <tr>\n",
    "        <td>Blah</td>\n",
    "        <td>Blah</td>\n",
    "    </tr>\n",
    "</table>"
   ]
  },
  {
   "attachments": {},
   "cell_type": "markdown",
   "metadata": {
    "dotnet_interactive": {
     "language": "html"
    },
    "polyglot_notebook": {
     "kernelName": "html"
    }
   },
   "source": [
    "Using the `span` attribute, we can make this column and the next column have the `style` that we passed in."
   ]
  },
  {
   "attachments": {},
   "cell_type": "markdown",
   "metadata": {
    "dotnet_interactive": {
     "language": "html"
    },
    "polyglot_notebook": {
     "kernelName": "html"
    }
   },
   "source": [
    "We can do the same thing, but with `<row>` and `<rowgroup>`."
   ]
  },
  {
   "attachments": {},
   "cell_type": "markdown",
   "metadata": {
    "dotnet_interactive": {
     "language": "html"
    },
    "polyglot_notebook": {
     "kernelName": "html"
    }
   },
   "source": [
    "# Advanced HTML Table Features"
   ]
  },
  {
   "attachments": {},
   "cell_type": "markdown",
   "metadata": {
    "dotnet_interactive": {
     "language": "html"
    },
    "polyglot_notebook": {
     "kernelName": "html"
    }
   },
   "source": [
    "## `<caption>` tag"
   ]
  },
  {
   "attachments": {},
   "cell_type": "markdown",
   "metadata": {
    "dotnet_interactive": {
     "language": "html"
    },
    "polyglot_notebook": {
     "kernelName": "html"
    }
   },
   "source": [
    "You can give your table a caption by using the tag above, by putting it inside the `<table>` element, just below the opening tag."
   ]
  },
  {
   "cell_type": "code",
   "execution_count": 17,
   "metadata": {
    "dotnet_interactive": {
     "language": "html"
    },
    "polyglot_notebook": {
     "kernelName": "html"
    },
    "vscode": {
     "languageId": "polyglot-notebook"
    }
   },
   "outputs": [
    {
     "data": {
      "text/html": [
       "<table>\r\n",
       "    <caption>\r\n",
       "        Some random data\r\n",
       "    </caption>\r\n",
       "    <tr>\r\n",
       "        <th>Data 1</th>\r\n",
       "        <th>Data 2</th>\r\n",
       "    </tr>\r\n",
       "    <tr>\r\n",
       "        <th>Blah</th>\r\n",
       "        <th>Blah</th>\r\n",
       "    </tr>\r\n",
       "    <tr>\r\n",
       "        <th>Blah</th>\r\n",
       "        <th>Blah</th>\r\n",
       "    </tr>\r\n",
       "</table>"
      ]
     },
     "metadata": {},
     "output_type": "display_data"
    }
   ],
   "source": [
    "<table>\n",
    "    <caption>\n",
    "        Some random data\n",
    "    </caption>\n",
    "    <tr>\n",
    "        <th>Data 1</th>\n",
    "        <th>Data 2</th>\n",
    "    </tr>\n",
    "    <tr>\n",
    "        <th>Blah</th>\n",
    "        <th>Blah</th>\n",
    "    </tr>\n",
    "    <tr>\n",
    "        <th>Blah</th>\n",
    "        <th>Blah</th>\n",
    "    </tr>\n",
    "</table>"
   ]
  },
  {
   "attachments": {},
   "cell_type": "markdown",
   "metadata": {
    "dotnet_interactive": {
     "language": "html"
    },
    "polyglot_notebook": {
     "kernelName": "html"
    }
   },
   "source": [
    "You can use these special tags to add some structure to your tables:\n",
    "1. `<thead>` : For the header of the table\n",
    "2. `<tfoot>` : Footer of the table\n",
    "3. `<tbody>` : Main body of the table  \n",
    "<br>\n",
    "Visually, it does nothing. It's just good to use as a hook for your CSS later on.\n",
    "<hr>"
   ]
  },
  {
   "attachments": {},
   "cell_type": "markdown",
   "metadata": {
    "dotnet_interactive": {
     "language": "html"
    },
    "polyglot_notebook": {
     "kernelName": "html"
    }
   },
   "source": [
    "## Nested Tables"
   ]
  },
  {
   "attachments": {},
   "cell_type": "markdown",
   "metadata": {
    "dotnet_interactive": {
     "language": "html"
    },
    "polyglot_notebook": {
     "kernelName": "html"
    }
   },
   "source": [
    "It is not generally advised to do so, but it is possible to:"
   ]
  },
  {
   "cell_type": "code",
   "execution_count": 18,
   "metadata": {
    "dotnet_interactive": {
     "language": "html"
    },
    "polyglot_notebook": {
     "kernelName": "html"
    },
    "vscode": {
     "languageId": "polyglot-notebook"
    }
   },
   "outputs": [
    {
     "data": {
      "text/html": [
       "<table id=\"table1\">\r\n",
       "  <tr>\r\n",
       "    <th>title1</th>\r\n",
       "    <th>title2</th>\r\n",
       "    <th>title3</th>\r\n",
       "  </tr>\r\n",
       "  <tr>\r\n",
       "    <td id=\"nested\">\r\n",
       "      <table id=\"table2\">\r\n",
       "        <tr>\r\n",
       "          <td>cell1</td>\r\n",
       "          <td>cell2</td>\r\n",
       "          <td>cell3</td>\r\n",
       "        </tr>\r\n",
       "      </table>\r\n",
       "    </td>\r\n",
       "    <td>cell2</td>\r\n",
       "    <td>cell3</td>\r\n",
       "  </tr>\r\n",
       "  <tr>\r\n",
       "    <td>cell4</td>\r\n",
       "    <td>cell5</td>\r\n",
       "    <td>cell6</td>\r\n",
       "  </tr>\r\n",
       "</table>"
      ]
     },
     "metadata": {},
     "output_type": "display_data"
    }
   ],
   "source": [
    "<table id=\"table1\">\n",
    "  <tr>\n",
    "    <th>title1</th>\n",
    "    <th>title2</th>\n",
    "    <th>title3</th>\n",
    "  </tr>\n",
    "  <tr>\n",
    "    <td id=\"nested\">\n",
    "      <table id=\"table2\">\n",
    "        <tr>\n",
    "          <td>cell1</td>\n",
    "          <td>cell2</td>\n",
    "          <td>cell3</td>\n",
    "        </tr>\n",
    "      </table>\n",
    "    </td>\n",
    "    <td>cell2</td>\n",
    "    <td>cell3</td>\n",
    "  </tr>\n",
    "  <tr>\n",
    "    <td>cell4</td>\n",
    "    <td>cell5</td>\n",
    "    <td>cell6</td>\n",
    "  </tr>\n",
    "</table>"
   ]
  },
  {
   "attachments": {},
   "cell_type": "markdown",
   "metadata": {
    "dotnet_interactive": {
     "language": "html"
    },
    "polyglot_notebook": {
     "kernelName": "html"
    }
   },
   "source": [
    "Try to make this table:\n",
    "\n",
    "<table>\n",
    "    <caption>Items Sold August 2030</caption>\n",
    "    <tr>\n",
    "        <td colspan=\"2\" rowspan=\"2\"></td>\n",
    "        <th colspan=\"3\">Clothes</th>\n",
    "        <th colspan=\"2\">Accessories</th>\n",
    "    </tr>\n",
    "    <tr>\n",
    "        <th>Trousers</th>\n",
    "        <th>Skirts</th>\n",
    "        <th>Dresses</th>\n",
    "        <th>Bracelets</th>\n",
    "        <th>Rings</th>\n",
    "    </tr>\n",
    "    <tr>\n",
    "        <th rowspan=\"3\">Belgium</th>\n",
    "        <th>Antwerp</th>\n",
    "        <td>1</td>\n",
    "        <td>2</td>\n",
    "        <td>3</td>\n",
    "        <td>4</td>\n",
    "        <td>5</td>\n",
    "    </tr>\n",
    "    <tr>\n",
    "        <th>Gent</th>\n",
    "        <td>1</td>\n",
    "        <td>2</td>\n",
    "        <td>3</td>\n",
    "        <td>4</td>\n",
    "        <td>5</td>\n",
    "    </tr>\n",
    "    <tr>\n",
    "        <th>Brussels</th>\n",
    "        <td>1</td>\n",
    "        <td>2</td>\n",
    "        <td>3</td>\n",
    "        <td>4</td>\n",
    "        <td>5</td>\n",
    "    </tr>\n",
    "    <tr>\n",
    "        <th rowspan=\"2\">The Netherlands</th>\n",
    "        <th>Amsterdam</th>\n",
    "        <td>1</td>\n",
    "        <td>2</td>\n",
    "        <td>3</td>\n",
    "        <td>4</td>\n",
    "        <td>5</td>\n",
    "    </tr>\n",
    "    <tr>\n",
    "        <th>Utrecht</th>\n",
    "        <td>1</td>\n",
    "        <td>2</td>\n",
    "        <td>3</td>\n",
    "        <td>4</td>\n",
    "        <td>5</td>\n",
    "    </tr>\n",
    "</table>"
   ]
  }
 ],
 "metadata": {
  "kernelspec": {
   "display_name": ".NET (C#)",
   "language": "C#",
   "name": ".net-csharp"
  },
  "polyglot_notebook": {
   "kernelInfo": {
    "defaultKernelName": "csharp",
    "items": [
     {
      "aliases": [
       "c#",
       "C#"
      ],
      "languageName": "C#",
      "name": "csharp"
     },
     {
      "aliases": [],
      "name": ".NET"
     },
     {
      "aliases": [
       "frontend"
      ],
      "name": "vscode"
     },
     {
      "aliases": [
       "f#",
       "F#"
      ],
      "languageName": "F#",
      "name": "fsharp"
     },
     {
      "aliases": [],
      "languageName": "HTML",
      "name": "html"
     },
     {
      "aliases": [],
      "languageName": "KQL",
      "name": "kql"
     },
     {
      "aliases": [],
      "languageName": "Mermaid",
      "name": "mermaid"
     },
     {
      "aliases": [
       "powershell"
      ],
      "languageName": "PowerShell",
      "name": "pwsh"
     },
     {
      "aliases": [],
      "languageName": "SQL",
      "name": "sql"
     },
     {
      "aliases": [],
      "name": "value"
     },
     {
      "aliases": [
       "js"
      ],
      "languageName": "JavaScript",
      "name": "javascript"
     },
     {
      "aliases": [],
      "name": "webview"
     }
    ]
   }
  }
 },
 "nbformat": 4,
 "nbformat_minor": 2
}
