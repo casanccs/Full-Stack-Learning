{
 "cells": [
  {
   "attachments": {},
   "cell_type": "markdown",
   "metadata": {
    "dotnet_interactive": {
     "language": "csharp"
    },
    "polyglot_notebook": {
     "kernelName": "csharp"
    }
   },
   "source": [
    "# Advanced Text Formatting"
   ]
  },
  {
   "attachments": {},
   "cell_type": "markdown",
   "metadata": {
    "dotnet_interactive": {
     "language": "csharp"
    },
    "polyglot_notebook": {
     "kernelName": "csharp"
    }
   },
   "source": [
    "## Description Lists"
   ]
  },
  {
   "cell_type": "code",
   "execution_count": 3,
   "metadata": {
    "dotnet_interactive": {
     "language": "html"
    },
    "polyglot_notebook": {
     "kernelName": "html"
    },
    "vscode": {
     "languageId": "polyglot-notebook"
    }
   },
   "outputs": [
    {
     "data": {
      "text/html": [
       "<dl>\r\n",
       "  <dt>soliloquy</dt>\r\n",
       "  <dd>\r\n",
       "    In drama, where a character speaks to themselves, representing their inner\r\n",
       "    thoughts or feelings and in the process relaying them to the audience (but\r\n",
       "    not to other characters.)\r\n",
       "  </dd>\r\n",
       "  <dt>monologue</dt>\r\n",
       "  <dd>\r\n",
       "    In drama, where a character speaks their thoughts out loud to share them\r\n",
       "    with the audience and any other characters present.\r\n",
       "  </dd>\r\n",
       "  <dt>aside</dt>\r\n",
       "  <dd>\r\n",
       "    In drama, where a character shares a comment only with the audience for\r\n",
       "    humorous or dramatic effect. This is usually a feeling, thought, or piece of\r\n",
       "    additional background information.\r\n",
       "  </dd>\r\n",
       "  <dd>\r\n",
       "    In writing, a section of content that is related to the current topic, but\r\n",
       "    doesn't fit directly into the main flow of content so is presented nearby\r\n",
       "    (often in a box off to the side.)\r\n",
       "  </dd>\r\n",
       "</dl>"
      ]
     },
     "metadata": {},
     "output_type": "display_data"
    }
   ],
   "source": [
    "<dl>\n",
    "  <dt>soliloquy</dt>\n",
    "  <dd>\n",
    "    In drama, where a character speaks to themselves, representing their inner\n",
    "    thoughts or feelings and in the process relaying them to the audience (but\n",
    "    not to other characters.)\n",
    "  </dd>\n",
    "  <dt>monologue</dt>\n",
    "  <dd>\n",
    "    In drama, where a character speaks their thoughts out loud to share them\n",
    "    with the audience and any other characters present.\n",
    "  </dd>\n",
    "  <dt>aside</dt>\n",
    "  <dd>\n",
    "    In drama, where a character shares a comment only with the audience for\n",
    "    humorous or dramatic effect. This is usually a feeling, thought, or piece of\n",
    "    additional background information.\n",
    "  </dd>\n",
    "  <dd>\n",
    "    In writing, a section of content that is related to the current topic, but\n",
    "    doesn't fit directly into the main flow of content so is presented nearby\n",
    "    (often in a box off to the side.)\n",
    "  </dd>\n",
    "</dl>"
   ]
  },
  {
   "attachments": {},
   "cell_type": "markdown",
   "metadata": {
    "dotnet_interactive": {
     "language": "html"
    },
    "polyglot_notebook": {
     "kernelName": "html"
    }
   },
   "source": [
    "Notice how having multiple `<dd>` will just create a new line.  \n",
    "But you will not be using this at all most of the time.\n",
    "\n"
   ]
  },
  {
   "attachments": {},
   "cell_type": "markdown",
   "metadata": {
    "dotnet_interactive": {
     "language": "html"
    },
    "polyglot_notebook": {
     "kernelName": "html"
    }
   },
   "source": [
    "## Miscellaneous Text Stuff"
   ]
  },
  {
   "cell_type": "code",
   "execution_count": 4,
   "metadata": {
    "dotnet_interactive": {
     "language": "html"
    },
    "polyglot_notebook": {
     "kernelName": "html"
    },
    "vscode": {
     "languageId": "polyglot-notebook"
    }
   },
   "outputs": [
    {
     "data": {
      "text/html": [
       "<p>Here is a blockquote:</p>\r\n",
       "<blockquote\r\n",
       "  cite=\"https://developer.mozilla.org/en-US/docs/Web/HTML/Element/blockquote\">\r\n",
       "  <p>\r\n",
       "    The <strong>HTML <code>&lt;blockquote&gt;</code> Element</strong> (or\r\n",
       "    <em>HTML Block Quotation Element</em>) indicates that the enclosed text is\r\n",
       "    an extended quotation.\r\n",
       "  </p>\r\n",
       "</blockquote>"
      ]
     },
     "metadata": {},
     "output_type": "display_data"
    }
   ],
   "source": [
    "<p>Here is a blockquote:</p>\n",
    "<blockquote\n",
    "  cite=\"https://developer.mozilla.org/en-US/docs/Web/HTML/Element/blockquote\">\n",
    "  <p>\n",
    "    The <strong>HTML <code>&lt;blockquote&gt;</code> Element</strong> (or\n",
    "    <em>HTML Block Quotation Element</em>) indicates that the enclosed text is\n",
    "    an extended quotation.\n",
    "  </p>\n",
    "</blockquote>"
   ]
  },
  {
   "cell_type": "code",
   "execution_count": 5,
   "metadata": {
    "dotnet_interactive": {
     "language": "html"
    },
    "polyglot_notebook": {
     "kernelName": "html"
    },
    "vscode": {
     "languageId": "polyglot-notebook"
    }
   },
   "outputs": [
    {
     "data": {
      "text/html": [
       "<address>\r\n",
       "  Page written by <a href=\"../authors/chris-mills/\">Chris Mills</a>.\r\n",
       "</address>"
      ]
     },
     "metadata": {},
     "output_type": "display_data"
    }
   ],
   "source": [
    "<address>\n",
    "  Page written by <a href=\"../authors/chris-mills/\">Chris Mills</a>.\n",
    "</address>"
   ]
  },
  {
   "cell_type": "code",
   "execution_count": 6,
   "metadata": {
    "dotnet_interactive": {
     "language": "html"
    },
    "polyglot_notebook": {
     "kernelName": "html"
    },
    "vscode": {
     "languageId": "polyglot-notebook"
    }
   },
   "outputs": [
    {
     "data": {
      "text/html": [
       "<p>The quote element — <code>&lt;q&gt;</code> — is <q cite=\"https://developer.mozilla.org/en-US/docs/Web/HTML/Element/q\">intended\r\n",
       "for short quotations that don't require paragraph breaks.</q></p>"
      ]
     },
     "metadata": {},
     "output_type": "display_data"
    }
   ],
   "source": [
    "<p>The quote element — <code>&lt;q&gt;</code> — is <q cite=\"https://developer.mozilla.org/en-US/docs/Web/HTML/Element/q\">intended\n",
    "for short quotations that don't require paragraph breaks.</q></p>"
   ]
  },
  {
   "cell_type": "code",
   "execution_count": 7,
   "metadata": {
    "dotnet_interactive": {
     "language": "html"
    },
    "polyglot_notebook": {
     "kernelName": "html"
    },
    "vscode": {
     "languageId": "polyglot-notebook"
    }
   },
   "outputs": [
    {
     "data": {
      "text/html": [
       "<p>\r\n",
       "  According to the\r\n",
       "  <a href=\"/en-US/docs/Web/HTML/Element/blockquote\">\r\n",
       "    <cite>MDN blockquote page</cite></a>:\r\n",
       "</p>"
      ]
     },
     "metadata": {},
     "output_type": "display_data"
    }
   ],
   "source": [
    "<p>\n",
    "  According to the\n",
    "  <a href=\"/en-US/docs/Web/HTML/Element/blockquote\">\n",
    "    <cite>MDN blockquote page</cite></a>:\n",
    "</p>"
   ]
  },
  {
   "attachments": {},
   "cell_type": "markdown",
   "metadata": {
    "dotnet_interactive": {
     "language": "html"
    },
    "polyglot_notebook": {
     "kernelName": "html"
    }
   },
   "source": [
    "## Representing Computer Code"
   ]
  },
  {
   "attachments": {},
   "cell_type": "markdown",
   "metadata": {
    "dotnet_interactive": {
     "language": "html"
    },
    "polyglot_notebook": {
     "kernelName": "html"
    }
   },
   "source": [
    "`<code>` : Will make the text that is enclosed by this, \"look\" like code.  \n",
    "`<pre>` : Will retain the whitespace that you put inside of the tags.  \n",
    "`<var>` : Will mark up variable names.  \n",
    "`<kbd>` : Makes text look like keyboard input entered.  \n",
    "`<samp>` : Makes text look like output of a computer program."
   ]
  },
  {
   "attachments": {},
   "cell_type": "markdown",
   "metadata": {
    "dotnet_interactive": {
     "language": "html"
    },
    "polyglot_notebook": {
     "kernelName": "html"
    }
   },
   "source": [
    "Try all of these out on some random text."
   ]
  },
  {
   "attachments": {},
   "cell_type": "markdown",
   "metadata": {
    "dotnet_interactive": {
     "language": "html"
    },
    "polyglot_notebook": {
     "kernelName": "html"
    }
   },
   "source": [
    "## Times and Dates"
   ]
  },
  {
   "attachments": {},
   "cell_type": "markdown",
   "metadata": {
    "dotnet_interactive": {
     "language": "html"
    },
    "polyglot_notebook": {
     "kernelName": "html"
    }
   },
   "source": [
    "You can use the `<time>` tag to make different styles of time and dates. For example:"
   ]
  },
  {
   "cell_type": "code",
   "execution_count": 10,
   "metadata": {
    "dotnet_interactive": {
     "language": "html"
    },
    "polyglot_notebook": {
     "kernelName": "html"
    },
    "vscode": {
     "languageId": "polyglot-notebook"
    }
   },
   "outputs": [
    {
     "data": {
      "text/html": [
       "<time datetime=\"2016-01-20\"></time>"
      ]
     },
     "metadata": {},
     "output_type": "display_data"
    }
   ],
   "source": [
    "<time datetime=\"2016-01-20\">20 January 2016</time>"
   ]
  },
  {
   "attachments": {},
   "cell_type": "markdown",
   "metadata": {
    "dotnet_interactive": {
     "language": "html"
    },
    "polyglot_notebook": {
     "kernelName": "html"
    }
   },
   "source": [
    "Why do you need to do this? Its so that the computer can grab the actual datetime info by using the attribute that is passed.  \n",
    "Here are some other datetime formats:"
   ]
  },
  {
   "cell_type": "code",
   "execution_count": 11,
   "metadata": {
    "dotnet_interactive": {
     "language": "html"
    },
    "polyglot_notebook": {
     "kernelName": "html"
    },
    "vscode": {
     "languageId": "polyglot-notebook"
    }
   },
   "outputs": [
    {
     "data": {
      "text/html": [
       "<!-- Standard simple date -->\r\n",
       "<time datetime=\"2016-01-20\">20 January 2016</time>\r\n",
       "<!-- Just year and month -->\r\n",
       "<time datetime=\"2016-01\">January 2016</time>\r\n",
       "<!-- Just month and day -->\r\n",
       "<time datetime=\"01-20\">20 January</time>\r\n",
       "<!-- Just time, hours and minutes -->\r\n",
       "<time datetime=\"19:30\">19:30</time>\r\n",
       "<!-- You can do seconds and milliseconds too! -->\r\n",
       "<time datetime=\"19:30:01.856\">19:30:01.856</time>\r\n",
       "<!-- Date and time -->\r\n",
       "<time datetime=\"2016-01-20T19:30\">7.30pm, 20 January 2016</time>\r\n",
       "<!-- Date and time with timezone offset -->\r\n",
       "<time datetime=\"2016-01-20T19:30+01:00\">\r\n",
       "  7.30pm, 20 January 2016 is 8.30pm in France\r\n",
       "</time>\r\n",
       "<!-- Calling out a specific week number -->\r\n",
       "<time datetime=\"2016-W04\">The fourth week of 2016</time>"
      ]
     },
     "metadata": {},
     "output_type": "display_data"
    }
   ],
   "source": [
    "<!-- Standard simple date -->\n",
    "<time datetime=\"2016-01-20\">20 January 2016</time>\n",
    "<!-- Just year and month -->\n",
    "<time datetime=\"2016-01\">January 2016</time>\n",
    "<!-- Just month and day -->\n",
    "<time datetime=\"01-20\">20 January</time>\n",
    "<!-- Just time, hours and minutes -->\n",
    "<time datetime=\"19:30\">19:30</time>\n",
    "<!-- You can do seconds and milliseconds too! -->\n",
    "<time datetime=\"19:30:01.856\">19:30:01.856</time>\n",
    "<!-- Date and time -->\n",
    "<time datetime=\"2016-01-20T19:30\">7.30pm, 20 January 2016</time>\n",
    "<!-- Date and time with timezone offset -->\n",
    "<time datetime=\"2016-01-20T19:30+01:00\">\n",
    "  7.30pm, 20 January 2016 is 8.30pm in France\n",
    "</time>\n",
    "<!-- Calling out a specific week number -->\n",
    "<time datetime=\"2016-W04\">The fourth week of 2016</time>"
   ]
  }
 ],
 "metadata": {
  "kernelspec": {
   "display_name": ".NET (C#)",
   "language": "C#",
   "name": ".net-csharp"
  },
  "polyglot_notebook": {
   "kernelInfo": {
    "defaultKernelName": "csharp",
    "items": [
     {
      "aliases": [
       "c#",
       "C#"
      ],
      "languageName": "C#",
      "name": "csharp"
     },
     {
      "aliases": [
       "frontend"
      ],
      "languageName": null,
      "name": "vscode"
     },
     {
      "aliases": [],
      "name": ".NET"
     },
     {
      "aliases": [
       "f#",
       "F#"
      ],
      "languageName": "F#",
      "name": "fsharp"
     },
     {
      "aliases": [],
      "languageName": "HTML",
      "name": "html"
     },
     {
      "aliases": [
       "js"
      ],
      "languageName": "JavaScript",
      "name": "javascript"
     },
     {
      "aliases": [],
      "languageName": "KQL",
      "name": "kql"
     },
     {
      "aliases": [],
      "languageName": "Mermaid",
      "name": "mermaid"
     },
     {
      "aliases": [
       "powershell"
      ],
      "languageName": "PowerShell",
      "name": "pwsh"
     },
     {
      "aliases": [],
      "languageName": "SQL",
      "name": "sql"
     },
     {
      "aliases": [],
      "name": "value"
     },
     {
      "aliases": [],
      "name": "webview"
     }
    ]
   }
  }
 },
 "nbformat": 4,
 "nbformat_minor": 2
}
