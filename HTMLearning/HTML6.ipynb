{
 "cells": [
  {
   "attachments": {},
   "cell_type": "markdown",
   "metadata": {
    "dotnet_interactive": {
     "language": "csharp"
    },
    "polyglot_notebook": {
     "kernelName": "csharp"
    }
   },
   "source": [
    "# Document and Website Structure"
   ]
  },
  {
   "attachments": {},
   "cell_type": "markdown",
   "metadata": {
    "dotnet_interactive": {
     "language": "csharp"
    },
    "polyglot_notebook": {
     "kernelName": "csharp"
    }
   },
   "source": [
    "Websites look different from each other, but have some standard components to them:"
   ]
  },
  {
   "attachments": {},
   "cell_type": "markdown",
   "metadata": {
    "dotnet_interactive": {
     "language": "csharp"
    },
    "polyglot_notebook": {
     "kernelName": "csharp"
    }
   },
   "source": [
    "<dl>\n",
    "    <dt>Header </dt>\n",
    "    <dd>The big strip across the top of the screen. Has the typical stuff like the logo, search bar, etc. Sometimes this is fixed onto the top of the screen even as you scroll, and could stay even when switching pages on the same website. You will only have one header per web page!.</dd>\n",
    "    <dt>Navigation Bar </dt>\n",
    "    <dd>This bar usually has the main links to send you to the big pages on the website. This can be part of the header, or on the side.</dd>\n",
    "    <dt>Main Content </dt>\n",
    "    <dd>The big area that contains all of the page's information. This part varies from page to page, while the header and nav bar usually stays the same. Use only one main page tag.</dd>\n",
    "    <dt>Footer </dt>\n",
    "    <dd>The strip at the bottom of the page. Contains contact info, copyright, etc. You only want one footer per page.</dd>\n",
    "</dl>"
   ]
  },
  {
   "attachments": {},
   "cell_type": "markdown",
   "metadata": {
    "dotnet_interactive": {
     "language": "csharp"
    },
    "polyglot_notebook": {
     "kernelName": "csharp"
    }
   },
   "source": [
    "Here are some \"semantic\" tags that can be used to make your code look more readable, but they don't do anything:"
   ]
  },
  {
   "cell_type": "code",
   "execution_count": 1,
   "metadata": {
    "dotnet_interactive": {
     "language": "html"
    },
    "polyglot_notebook": {
     "kernelName": "html"
    },
    "vscode": {
     "languageId": "polyglot-notebook"
    }
   },
   "outputs": [
    {
     "data": {
      "text/html": [
       "<body>\r\n",
       "    <header>\r\n",
       "        <h1> Welcome to the website! </h1>\r\n",
       "    </header>\r\n",
       "    <nav>\r\n",
       "        <ul>\r\n",
       "            <li>Pretend I am a link.</li>\r\n",
       "            <li>Pretend I am another link.</li>\r\n",
       "        </ul>\r\n",
       "    </nav>\r\n",
       "    <main>\r\n",
       "        I have a bunch of info here. Just pretend like I do.\r\n",
       "    </main>\r\n",
       "    <footer>\r\n",
       "        @Copyright 1521 by Google. All rights reserved.\r\n",
       "    </footer>\r\n",
       "</body>"
      ]
     },
     "metadata": {},
     "output_type": "display_data"
    }
   ],
   "source": [
    "<body>\n",
    "    <header>\n",
    "        <h1> Welcome to the website! </h1>\n",
    "    </header>\n",
    "    <nav>\n",
    "        <ul>\n",
    "            <li>Pretend I am a link.</li>\n",
    "            <li>Pretend I am another link.</li>\n",
    "        </ul>\n",
    "    </nav>\n",
    "    <main>\n",
    "        I have a bunch of info here. Just pretend like I do.\n",
    "    </main>\n",
    "    <footer>\n",
    "        @Copyright 1521 by Google. All rights reserved.\n",
    "    </footer>\n",
    "</body>"
   ]
  },
  {
   "attachments": {},
   "cell_type": "markdown",
   "metadata": {
    "dotnet_interactive": {
     "language": "html"
    },
    "polyglot_notebook": {
     "kernelName": "html"
    }
   },
   "source": [
    "## Non-semantic wrappers"
   ]
  },
  {
   "attachments": {},
   "cell_type": "markdown",
   "metadata": {
    "dotnet_interactive": {
     "language": "html"
    },
    "polyglot_notebook": {
     "kernelName": "html"
    }
   },
   "source": [
    "These two are the main ones you will be using and seeing across your Full-Stack Journey:"
   ]
  },
  {
   "attachments": {},
   "cell_type": "markdown",
   "metadata": {
    "dotnet_interactive": {
     "language": "html"
    },
    "polyglot_notebook": {
     "kernelName": "html"
    }
   },
   "source": [
    "### `<div>` : A block level non-semantic element. To group a certain section of your document together. An example would be a list of shopping cart items. For example:"
   ]
  },
  {
   "cell_type": "code",
   "execution_count": 3,
   "metadata": {
    "dotnet_interactive": {
     "language": "html"
    },
    "polyglot_notebook": {
     "kernelName": "html"
    },
    "vscode": {
     "languageId": "polyglot-notebook"
    }
   },
   "outputs": [
    {
     "data": {
      "text/html": [
       "<div class=\"shopping-cart\">\r\n",
       "  <h2>Shopping cart</h2>\r\n",
       "  <ul>\r\n",
       "    <li>\r\n",
       "      <p>\r\n",
       "        <a href=\"\"><strong>Some product</strong></a>:\r\n",
       "        $99.95.\r\n",
       "      </p>\r\n",
       "      <img src=\"favicon.ico\" alt=\"Silver earrings\" />\r\n",
       "    </li>\r\n",
       "    <li>…</li>\r\n",
       "  </ul>\r\n",
       "  <p>Total cost: $237.89</p>\r\n",
       "</div>"
      ]
     },
     "metadata": {},
     "output_type": "display_data"
    }
   ],
   "source": [
    "<div class=\"shopping-cart\">\n",
    "  <h2>Shopping cart</h2>\n",
    "  <ul>\n",
    "    <li>\n",
    "      <p>\n",
    "        <a href=\"\"><strong>Some product</strong></a>:\n",
    "        $99.95.\n",
    "      </p>\n",
    "      <img src=\"favicon.ico\" alt=\"Silver earrings\" />\n",
    "    </li>\n",
    "    <li>…</li>\n",
    "  </ul>\n",
    "  <p>Total cost: $237.89</p>\n",
    "</div>"
   ]
  },
  {
   "attachments": {},
   "cell_type": "markdown",
   "metadata": {
    "dotnet_interactive": {
     "language": "html"
    },
    "polyglot_notebook": {
     "kernelName": "html"
    }
   },
   "source": [
    "### `<span>` : An inline level non-semantic element. To group a certain section of your document together."
   ]
  },
  {
   "attachments": {},
   "cell_type": "markdown",
   "metadata": {
    "dotnet_interactive": {
     "language": "html"
    },
    "polyglot_notebook": {
     "kernelName": "html"
    }
   },
   "source": [
    "#### Note that you will almost ***ALWAYS*** want to include the `class` attribute to `<div>`'s and `<span>`'s because you want to change and access their properties together in CSS and JavaScript."
   ]
  },
  {
   "attachments": {},
   "cell_type": "markdown",
   "metadata": {
    "dotnet_interactive": {
     "language": "html"
    },
    "polyglot_notebook": {
     "kernelName": "html"
    }
   },
   "source": [
    "## Breaks"
   ]
  },
  {
   "attachments": {},
   "cell_type": "markdown",
   "metadata": {
    "dotnet_interactive": {
     "language": "html"
    },
    "polyglot_notebook": {
     "kernelName": "html"
    }
   },
   "source": [
    "In order to make a new line or empty line in a paragraph, or to create space not using CSS, you can use the line break, `<br>`, tag. For example:"
   ]
  },
  {
   "cell_type": "code",
   "execution_count": 4,
   "metadata": {
    "dotnet_interactive": {
     "language": "html"
    },
    "polyglot_notebook": {
     "kernelName": "html"
    },
    "vscode": {
     "languageId": "polyglot-notebook"
    }
   },
   "outputs": [
    {
     "data": {
      "text/html": [
       "<p>\r\n",
       "  There once was a man named O'Dell<br>\r\n",
       "  Who loved to write HTML<br/>\r\n",
       "  But his structure was bad, his semantics were sad<br>\r\n",
       "  and his markup didn't read very well.\r\n",
       "</p>"
      ]
     },
     "metadata": {},
     "output_type": "display_data"
    }
   ],
   "source": [
    "<p>\n",
    "  There once was a man named O'Dell<br>\n",
    "  Who loved to write HTML<br/>\n",
    "  But his structure was bad, his semantics were sad<br>\n",
    "  and his markup didn't read very well.\n",
    "</p>"
   ]
  },
  {
   "attachments": {},
   "cell_type": "markdown",
   "metadata": {
    "dotnet_interactive": {
     "language": "html"
    },
    "polyglot_notebook": {
     "kernelName": "html"
    }
   },
   "source": [
    "Notice how I use it as a void element, and as normal while still working: `<br/>` vs `<br>`"
   ]
  },
  {
   "attachments": {},
   "cell_type": "markdown",
   "metadata": {
    "dotnet_interactive": {
     "language": "html"
    },
    "polyglot_notebook": {
     "kernelName": "html"
    }
   },
   "source": [
    "You can make a simple horizontal rule, which will create a line across the screen by using the thematic break tag, `<hr>`. For example:"
   ]
  },
  {
   "cell_type": "code",
   "execution_count": 5,
   "metadata": {
    "dotnet_interactive": {
     "language": "html"
    },
    "polyglot_notebook": {
     "kernelName": "html"
    },
    "vscode": {
     "languageId": "polyglot-notebook"
    }
   },
   "outputs": [
    {
     "data": {
      "text/html": [
       "<p>Wassup there</p>\r\n",
       "<hr>\r\n",
       "<p>By there</p>\r\n",
       "<hr/>"
      ]
     },
     "metadata": {},
     "output_type": "display_data"
    }
   ],
   "source": [
    "<p>Wassup there</p>\n",
    "<hr>\n",
    "<p>By there</p>\n",
    "<hr/>"
   ]
  }
 ],
 "metadata": {
  "kernelspec": {
   "display_name": ".NET (C#)",
   "language": "C#",
   "name": ".net-csharp"
  },
  "polyglot_notebook": {
   "kernelInfo": {
    "defaultKernelName": "csharp",
    "items": [
     {
      "aliases": [
       "c#",
       "C#"
      ],
      "languageName": "C#",
      "name": "csharp"
     },
     {
      "aliases": [],
      "name": ".NET"
     },
     {
      "aliases": [
       "frontend"
      ],
      "name": "vscode"
     },
     {
      "aliases": [
       "f#",
       "F#"
      ],
      "languageName": "F#",
      "name": "fsharp"
     },
     {
      "aliases": [],
      "languageName": "HTML",
      "name": "html"
     },
     {
      "aliases": [
       "js"
      ],
      "languageName": "JavaScript",
      "name": "javascript"
     },
     {
      "aliases": [],
      "languageName": "KQL",
      "name": "kql"
     },
     {
      "aliases": [],
      "languageName": "Mermaid",
      "name": "mermaid"
     },
     {
      "aliases": [
       "powershell"
      ],
      "languageName": "PowerShell",
      "name": "pwsh"
     },
     {
      "aliases": [],
      "languageName": "SQL",
      "name": "sql"
     },
     {
      "aliases": [],
      "name": "value"
     },
     {
      "aliases": [],
      "name": "webview"
     }
    ]
   }
  }
 },
 "nbformat": 4,
 "nbformat_minor": 2
}
