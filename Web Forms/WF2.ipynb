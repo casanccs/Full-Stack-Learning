{
 "cells": [
  {
   "attachments": {},
   "cell_type": "markdown",
   "metadata": {},
   "source": [
    "# Basic Native Form Controls"
   ]
  },
  {
   "attachments": {},
   "cell_type": "markdown",
   "metadata": {
    "dotnet_interactive": {
     "language": "csharp"
    },
    "polyglot_notebook": {
     "kernelName": "csharp"
    }
   },
   "source": [
    "## Text Input Fields"
   ]
  },
  {
   "attachments": {},
   "cell_type": "markdown",
   "metadata": {
    "dotnet_interactive": {
     "language": "csharp"
    },
    "polyglot_notebook": {
     "kernelName": "csharp"
    }
   },
   "source": [
    "Let's look at the `<input>` element/field."
   ]
  },
  {
   "attachments": {},
   "cell_type": "markdown",
   "metadata": {
    "dotnet_interactive": {
     "language": "csharp"
    },
    "polyglot_notebook": {
     "kernelName": "csharp"
    }
   },
   "source": [
    "All basic text controls share some common behaviors:\n",
    "* Marked as `readonly`, where user cannot modify the input value but still sent with rest of form data. Or `disabled`, where input value can't be modified and never sent with rest of form data.\n",
    "* Marked as `placeholder`, as the text that appears inside the input box to describe the purpose of the box.\n",
    "* `size` mark describes the physical size of the box, and `maxlength` describes the maximum number of characters that can be entered into the box.\n",
    "* `spellcheck` will enable the spell checking use, if the browser supports it."
   ]
  },
  {
   "attachments": {},
   "cell_type": "markdown",
   "metadata": {
    "dotnet_interactive": {
     "language": "csharp"
    },
    "polyglot_notebook": {
     "kernelName": "csharp"
    }
   },
   "source": [
    "Note: HTML form text fields are simple plain text input controls, meaning you cannot perform rich text editing like bold, italic, etc."
   ]
  },
  {
   "attachments": {},
   "cell_type": "markdown",
   "metadata": {
    "dotnet_interactive": {
     "language": "csharp"
    },
    "polyglot_notebook": {
     "kernelName": "csharp"
    }
   },
   "source": [
    "All rich text editors are custom widgets created with HTML, CSS, and JavaScript."
   ]
  },
  {
   "attachments": {},
   "cell_type": "markdown",
   "metadata": {
    "dotnet_interactive": {
     "language": "csharp"
    },
    "polyglot_notebook": {
     "kernelName": "csharp"
    }
   },
   "source": [
    "### `<input type=\"text\">` : Single Line Text Fields"
   ]
  },
  {
   "attachments": {},
   "cell_type": "markdown",
   "metadata": {
    "dotnet_interactive": {
     "language": "csharp"
    },
    "polyglot_notebook": {
     "kernelName": "csharp"
    }
   },
   "source": [
    "You can create single line text field by using the `type=\"text\"` attribute/value, or by omitting the `type` attribute altogether, because by default the `type` is automatically `\"text\"`, or if you don't use a supported type, like `type=\"color\"`."
   ]
  },
  {
   "attachments": {},
   "cell_type": "markdown",
   "metadata": {
    "dotnet_interactive": {
     "language": "csharp"
    },
    "polyglot_notebook": {
     "kernelName": "csharp"
    }
   },
   "source": [
    "If you type text with line breaks, the browser will remove the line breaks before sending the data to the server."
   ]
  },
  {
   "cell_type": "code",
   "execution_count": 1,
   "metadata": {
    "dotnet_interactive": {
     "language": "html"
    },
    "polyglot_notebook": {
     "kernelName": "html"
    },
    "vscode": {
     "languageId": "polyglot-notebook"
    }
   },
   "outputs": [
    {
     "data": {
      "text/html": [
       "<input type='text' name='comment' value='Default Value'>"
      ]
     },
     "metadata": {},
     "output_type": "display_data"
    }
   ],
   "source": [
    "<input type='text' name='comment' value='Default Value'>"
   ]
  },
  {
   "attachments": {},
   "cell_type": "markdown",
   "metadata": {
    "dotnet_interactive": {
     "language": "html"
    },
    "polyglot_notebook": {
     "kernelName": "html"
    }
   },
   "source": [
    "### `<input type=\"password\">` : Password Field"
   ]
  },
  {
   "attachments": {},
   "cell_type": "markdown",
   "metadata": {
    "dotnet_interactive": {
     "language": "html"
    },
    "polyglot_notebook": {
     "kernelName": "html"
    }
   },
   "source": [
    "Doesn't add special constraints to the entered text, but it obscures the value entered into the field, so it can't be easily read by others.  \n",
    "Note that it gets sent in plain text, which is bad for security. Best way to protect users is host a page involving forms over a secure connection (`https://address`), so the data is encrypted before it is sent."
   ]
  },
  {
   "cell_type": "code",
   "execution_count": 2,
   "metadata": {
    "dotnet_interactive": {
     "language": "html"
    },
    "polyglot_notebook": {
     "kernelName": "html"
    },
    "vscode": {
     "languageId": "polyglot-notebook"
    }
   },
   "outputs": [
    {
     "data": {
      "text/html": [
       "<input type='password'>"
      ]
     },
     "metadata": {},
     "output_type": "display_data"
    }
   ],
   "source": [
    "<input type='password'>"
   ]
  },
  {
   "attachments": {},
   "cell_type": "markdown",
   "metadata": {
    "dotnet_interactive": {
     "language": "html"
    },
    "polyglot_notebook": {
     "kernelName": "html"
    }
   },
   "source": [
    "### `<input type='hidden'>` : Hidden Content"
   ]
  },
  {
   "attachments": {},
   "cell_type": "markdown",
   "metadata": {
    "dotnet_interactive": {
     "language": "html"
    },
    "polyglot_notebook": {
     "kernelName": "html"
    }
   },
   "source": [
    "Used to create a form invisible to the user, but is still sent with the rest of the form data once submitted. For example, you may want to submit a timestamp to the server indicating when the data is sent."
   ]
  },
  {
   "cell_type": "code",
   "execution_count": null,
   "metadata": {
    "dotnet_interactive": {
     "language": "html"
    },
    "polyglot_notebook": {
     "kernelName": "html"
    },
    "vscode": {
     "languageId": "polyglot-notebook"
    }
   },
   "outputs": [],
   "source": [
    "<input type='hidden' value='12345'>"
   ]
  },
  {
   "attachments": {},
   "cell_type": "markdown",
   "metadata": {
    "dotnet_interactive": {
     "language": "html"
    },
    "polyglot_notebook": {
     "kernelName": "html"
    }
   },
   "source": [
    "## Checkable Items"
   ]
  },
  {
   "attachments": {},
   "cell_type": "markdown",
   "metadata": {
    "dotnet_interactive": {
     "language": "html"
    },
    "polyglot_notebook": {
     "kernelName": "html"
    }
   },
   "source": [
    "These two types use the `checked` attribute to indicate whether the widget is checked by default or not. Note that these two types are unique in that if no value has been checked, the values are not sent. If they are checked but with no value, the name is sent with a value of `on`."
   ]
  },
  {
   "attachments": {},
   "cell_type": "markdown",
   "metadata": {
    "dotnet_interactive": {
     "language": "html"
    },
    "polyglot_notebook": {
     "kernelName": "html"
    }
   },
   "source": [
    "### `<input type='checkbox'>` : Checkbox"
   ]
  },
  {
   "attachments": {},
   "cell_type": "markdown",
   "metadata": {
    "dotnet_interactive": {
     "language": "html"
    },
    "polyglot_notebook": {
     "kernelName": "html"
    }
   },
   "source": [
    "Use `type=\"checkbox\"`:"
   ]
  },
  {
   "cell_type": "code",
   "execution_count": 6,
   "metadata": {
    "dotnet_interactive": {
     "language": "html"
    },
    "polyglot_notebook": {
     "kernelName": "html"
    },
    "vscode": {
     "languageId": "polyglot-notebook"
    }
   },
   "outputs": [
    {
     "data": {
      "text/html": [
       "<input type='checkbox' value='yes' name=\"someName\" checked> Yes"
      ]
     },
     "metadata": {},
     "output_type": "display_data"
    }
   ],
   "source": [
    "<input type='checkbox' value='yes' name=\"someName\" checked> Yes"
   ]
  },
  {
   "attachments": {},
   "cell_type": "markdown",
   "metadata": {
    "dotnet_interactive": {
     "language": "html"
    },
    "polyglot_notebook": {
     "kernelName": "html"
    }
   },
   "source": [
    "All of the other related checkbox items related to this one should use the same `name` attribute value, so that the browser knows that the other checkboxes are together. For example:"
   ]
  },
  {
   "cell_type": "code",
   "execution_count": 7,
   "metadata": {
    "dotnet_interactive": {
     "language": "html"
    },
    "polyglot_notebook": {
     "kernelName": "html"
    },
    "vscode": {
     "languageId": "polyglot-notebook"
    }
   },
   "outputs": [
    {
     "data": {
      "text/html": [
       "<input type='checkbox' value='yes' name=\"someName\" checked> Yes\r\n",
       "<input type='checkbox' value='no' name=\"someName\" checked> No\r\n",
       "<input type='checkbox' value='maybe' name=\"someName\" checked> Maybe\r\n",
       "<input type='checkbox' value='so' name=\"someName\" checked> So"
      ]
     },
     "metadata": {},
     "output_type": "display_data"
    }
   ],
   "source": [
    "<input type='checkbox' value='yes' name=\"someName\" checked> Yes\n",
    "<input type='checkbox' value='no' name=\"someName\" checked> No\n",
    "<input type='checkbox' value='maybe' name=\"someName\" checked> Maybe\n",
    "<input type='checkbox' value='so' name=\"someName\" checked> So"
   ]
  },
  {
   "attachments": {},
   "cell_type": "markdown",
   "metadata": {
    "dotnet_interactive": {
     "language": "html"
    },
    "polyglot_notebook": {
     "kernelName": "html"
    }
   },
   "source": [
    "Note that they are all checked by default because of the boolean `checked` attribute. And also note how they are all \"inline\" together."
   ]
  },
  {
   "cell_type": "code",
   "execution_count": 9,
   "metadata": {
    "dotnet_interactive": {
     "language": "html"
    },
    "polyglot_notebook": {
     "kernelName": "html"
    },
    "vscode": {
     "languageId": "polyglot-notebook"
    }
   },
   "outputs": [
    {
     "data": {
      "text/html": [
       "<ul>\r\n",
       "    <li><input type='checkbox' value='yes' name=\"someName\" checked> Yes</li>\r\n",
       "    <li><input type='checkbox' value='no' name=\"someName\"> No</li>\r\n",
       "    <li><input type='checkbox' value='maybe' name=\"someName\" checked> Maybe</li>\r\n",
       "    <li><input type='checkbox' value='so' name=\"someName\"> So</li>\r\n",
       "</ul>"
      ]
     },
     "metadata": {},
     "output_type": "display_data"
    }
   ],
   "source": [
    "<ul>\n",
    "    <li><input type='checkbox' value='yes' name=\"someName\" checked> Yes</li>\n",
    "    <li><input type='checkbox' value='no' name=\"someName\"> No</li>\n",
    "    <li><input type='checkbox' value='maybe' name=\"someName\" checked> Maybe</li>\n",
    "    <li><input type='checkbox' value='so' name=\"someName\"> So</li>\n",
    "</ul>"
   ]
  },
  {
   "attachments": {},
   "cell_type": "markdown",
   "metadata": {
    "dotnet_interactive": {
     "language": "html"
    },
    "polyglot_notebook": {
     "kernelName": "html"
    }
   },
   "source": [
    "### `<input type=\"radio\">` : Radio Button"
   ]
  },
  {
   "attachments": {},
   "cell_type": "markdown",
   "metadata": {
    "dotnet_interactive": {
     "language": "html"
    },
    "polyglot_notebook": {
     "kernelName": "html"
    }
   },
   "source": [
    "You should tie multiple radio buttons together by using the same value for their `name` attribute. Only one button in the radio group will be checked at a time. For example:"
   ]
  },
  {
   "cell_type": "code",
   "execution_count": 12,
   "metadata": {
    "dotnet_interactive": {
     "language": "html"
    },
    "polyglot_notebook": {
     "kernelName": "html"
    },
    "vscode": {
     "languageId": "polyglot-notebook"
    }
   },
   "outputs": [
    {
     "data": {
      "text/html": [
       "<ul>\r\n",
       "    <li><input type='radio' name='type1'>Type1 a</li>\r\n",
       "    <li><input type='radio' name='type2'>Type2 a</li>\r\n",
       "    <li><input type='radio' name='type1'>Type1 b</li>\r\n",
       "    <li><input type='radio' name='type2'>Type2 b</li>\r\n",
       "</ul>"
      ]
     },
     "metadata": {},
     "output_type": "display_data"
    }
   ],
   "source": [
    "<ul>\n",
    "    <li><input type='radio' name='type1'>Type1 a</li>\n",
    "    <li><input type='radio' name='type2'>Type2 a</li>\n",
    "    <li><input type='radio' name='type1'>Type1 b</li>\n",
    "    <li><input type='radio' name='type2'>Type2 b</li>\n",
    "</ul>"
   ]
  },
  {
   "attachments": {},
   "cell_type": "markdown",
   "metadata": {
    "dotnet_interactive": {
     "language": "html"
    },
    "polyglot_notebook": {
     "kernelName": "html"
    }
   },
   "source": [
    "## Actual Buttons"
   ]
  },
  {
   "attachments": {},
   "cell_type": "markdown",
   "metadata": {
    "dotnet_interactive": {
     "language": "html"
    },
    "polyglot_notebook": {
     "kernelName": "html"
    }
   },
   "source": [
    "The `submit` type just sends the form data to the server. So if you have other form elements/widgets, it sends it all to the server:"
   ]
  },
  {
   "cell_type": "code",
   "execution_count": 13,
   "metadata": {
    "dotnet_interactive": {
     "language": "html"
    },
    "polyglot_notebook": {
     "kernelName": "html"
    },
    "vscode": {
     "languageId": "polyglot-notebook"
    }
   },
   "outputs": [
    {
     "data": {
      "text/html": [
       "<input type='submit' value='Sending this data'>"
      ]
     },
     "metadata": {},
     "output_type": "display_data"
    }
   ],
   "source": [
    "<input type='submit' value='Sending this data'>"
   ]
  },
  {
   "attachments": {},
   "cell_type": "markdown",
   "metadata": {
    "dotnet_interactive": {
     "language": "html"
    },
    "polyglot_notebook": {
     "kernelName": "html"
    }
   },
   "source": [
    "The `reset` type resets all widgets to their default values:"
   ]
  },
  {
   "cell_type": "code",
   "execution_count": 14,
   "metadata": {
    "dotnet_interactive": {
     "language": "html"
    },
    "polyglot_notebook": {
     "kernelName": "html"
    },
    "vscode": {
     "languageId": "polyglot-notebook"
    }
   },
   "outputs": [
    {
     "data": {
      "text/html": [
       "<form>\r\n",
       "    <ul>\r\n",
       "        <li><input type='radio' name='type1'>Type1 a</li>\r\n",
       "        <li><input type='radio' name='type2'>Type2 a</li>\r\n",
       "        <li><input type='radio' name='type1'>Type1 b</li>\r\n",
       "        <li><input type='radio' name='type2'>Type2 b</li>\r\n",
       "    </ul>\r\n",
       "    <input type='reset' value=\"Reset them\">\r\n",
       "</form>"
      ]
     },
     "metadata": {},
     "output_type": "display_data"
    }
   ],
   "source": [
    "<form>\n",
    "    <ul>\n",
    "        <li><input type='radio' name='type1'>Type1 a</li>\n",
    "        <li><input type='radio' name='type2'>Type2 a</li>\n",
    "        <li><input type='radio' name='type1'>Type1 b</li>\n",
    "        <li><input type='radio' name='type2'>Type2 b</li>\n",
    "    </ul>\n",
    "    <input type='reset' value=\"Reset them\">\n",
    "</form>"
   ]
  },
  {
   "attachments": {},
   "cell_type": "markdown",
   "metadata": {
    "dotnet_interactive": {
     "language": "html"
    },
    "polyglot_notebook": {
     "kernelName": "html"
    }
   },
   "source": [
    "Then we have the `button` type, which does not do anything, but can be customized using JavaScript:"
   ]
  },
  {
   "cell_type": "code",
   "execution_count": 15,
   "metadata": {
    "dotnet_interactive": {
     "language": "html"
    },
    "polyglot_notebook": {
     "kernelName": "html"
    },
    "vscode": {
     "languageId": "polyglot-notebook"
    }
   },
   "outputs": [
    {
     "data": {
      "text/html": [
       "<input type='button' value='Do nothing'>"
      ]
     },
     "metadata": {},
     "output_type": "display_data"
    }
   ],
   "source": [
    "<input type='button' value='Do nothing'>"
   ]
  },
  {
   "attachments": {},
   "cell_type": "markdown",
   "metadata": {
    "dotnet_interactive": {
     "language": "html"
    },
    "polyglot_notebook": {
     "kernelName": "html"
    }
   },
   "source": [
    "But the `<button>` tag also uses these 3 `type` attribute values:"
   ]
  },
  {
   "cell_type": "code",
   "execution_count": 16,
   "metadata": {
    "dotnet_interactive": {
     "language": "html"
    },
    "polyglot_notebook": {
     "kernelName": "html"
    },
    "vscode": {
     "languageId": "polyglot-notebook"
    }
   },
   "outputs": [
    {
     "data": {
      "text/html": [
       "<button type=\"submit\">Submit this form</button>\r\n",
       "<button type=\"reset\">Reset this form</button>\r\n",
       "<button type=\"button\">Do Nothing without JavaScript</button>"
      ]
     },
     "metadata": {},
     "output_type": "display_data"
    }
   ],
   "source": [
    "<button type=\"submit\">Submit this form</button>\n",
    "<button type=\"reset\">Reset this form</button>\n",
    "<button type=\"button\">Do Nothing without JavaScript</button>"
   ]
  },
  {
   "attachments": {},
   "cell_type": "markdown",
   "metadata": {
    "dotnet_interactive": {
     "language": "html"
    },
    "polyglot_notebook": {
     "kernelName": "html"
    }
   },
   "source": [
    "The difference between `<input>` and `<button>` is that it is easier to style, and `<button>` uses opening and closing tags allowing you to put info inside, while `<input>` is a void element."
   ]
  },
  {
   "attachments": {},
   "cell_type": "markdown",
   "metadata": {
    "dotnet_interactive": {
     "language": "html"
    },
    "polyglot_notebook": {
     "kernelName": "html"
    }
   },
   "source": [
    "### `<input type=\"image\">` : Image Button"
   ]
  },
  {
   "attachments": {},
   "cell_type": "markdown",
   "metadata": {
    "dotnet_interactive": {
     "language": "html"
    },
    "polyglot_notebook": {
     "kernelName": "html"
    }
   },
   "source": [
    "This renders like an `<img>` element, but when clicked, will behave like a submit button. Try it out on your own:"
   ]
  },
  {
   "cell_type": "code",
   "execution_count": 17,
   "metadata": {
    "dotnet_interactive": {
     "language": "html"
    },
    "polyglot_notebook": {
     "kernelName": "html"
    },
    "vscode": {
     "languageId": "polyglot-notebook"
    }
   },
   "outputs": [
    {
     "data": {
      "text/html": [
       "<input type='image' alt='click me!' src='myImg.png'>"
      ]
     },
     "metadata": {},
     "output_type": "display_data"
    }
   ],
   "source": [
    "<input type='image' alt='click me!' src='myImg.png'>"
   ]
  },
  {
   "attachments": {},
   "cell_type": "markdown",
   "metadata": {
    "dotnet_interactive": {
     "language": "html"
    },
    "polyglot_notebook": {
     "kernelName": "html"
    }
   },
   "source": [
    "### `<input type='file'>` : Filer Picker"
   ]
  },
  {
   "attachments": {},
   "cell_type": "markdown",
   "metadata": {
    "dotnet_interactive": {
     "language": "html"
    },
    "polyglot_notebook": {
     "kernelName": "html"
    }
   },
   "source": [
    "Forms can send files to a server usinger a file picker widget. Use the `accept` attribute to limit the file types that can be sent. You can also use the `multiple` attribute to allow the user to pick more than one file:"
   ]
  },
  {
   "cell_type": "code",
   "execution_count": 19,
   "metadata": {
    "dotnet_interactive": {
     "language": "html"
    },
    "polyglot_notebook": {
     "kernelName": "html"
    },
    "vscode": {
     "languageId": "polyglot-notebook"
    }
   },
   "outputs": [
    {
     "data": {
      "text/html": [
       "<input type=\"file\" name=\"file\" id=\"file\" accept=\"image/*\" multiple />"
      ]
     },
     "metadata": {},
     "output_type": "display_data"
    }
   ],
   "source": [
    "<input type=\"file\" name=\"file\" id=\"file\" accept=\"image/*\" multiple />"
   ]
  },
  {
   "attachments": {},
   "cell_type": "markdown",
   "metadata": {
    "dotnet_interactive": {
     "language": "html"
    },
    "polyglot_notebook": {
     "kernelName": "html"
    }
   },
   "source": [
    "You can allow the file picker to access photos, videos, and audo captured on mobile devices and other things by using the `accept` attribute:"
   ]
  },
  {
   "cell_type": "code",
   "execution_count": 20,
   "metadata": {
    "dotnet_interactive": {
     "language": "html"
    },
    "polyglot_notebook": {
     "kernelName": "html"
    },
    "vscode": {
     "languageId": "polyglot-notebook"
    }
   },
   "outputs": [
    {
     "data": {
      "text/html": [
       "<input type=\"file\" accept=\"image/*;capture=camera\" />\r\n",
       "<input type=\"file\" accept=\"video/*;capture=camcorder\" />\r\n",
       "<input type=\"file\" accept=\"audio/*;capture=microphone\" />"
      ]
     },
     "metadata": {},
     "output_type": "display_data"
    }
   ],
   "source": [
    "<input type=\"file\" accept=\"image/*;capture=camera\" />\n",
    "<input type=\"file\" accept=\"video/*;capture=camcorder\" />\n",
    "<input type=\"file\" accept=\"audio/*;capture=microphone\" />"
   ]
  },
  {
   "attachments": {},
   "cell_type": "markdown",
   "metadata": {
    "dotnet_interactive": {
     "language": "html"
    },
    "polyglot_notebook": {
     "kernelName": "html"
    }
   },
   "source": [
    "## Common Attributes"
   ]
  },
  {
   "attachments": {},
   "cell_type": "markdown",
   "metadata": {
    "dotnet_interactive": {
     "language": "html"
    },
    "polyglot_notebook": {
     "kernelName": "html"
    }
   },
   "source": [
    "<table>\n",
    "    <tr><th>Attribute Name</th><th>Default Value</th><th>Description</h></tr>\n",
    "    <tr><td><code>autofocus</code></td><td>false</td><td>Boolean attribute indicating if the input focus should be on it when the page loads, only one form-associateed element can have this specified.</td></tr>\n",
    "    <tr><td><code>disabled</code></td><td>false</td><td>Boolean attribute indicating if the user can interact or not with the element. If not specified, it will inherit from the containing element.</td></tr>\n",
    "    <tr><td><code>form</code></td><td> </td><td>The form element that its associated with if it is not within THAT form. Should match the form's <code>id</code> element in the same document.</td></tr>\n",
    "    <tr><td><code>name</code></td><td> </td><td>Name of the element, sent with form data.</td></tr>\n",
    "    <tr><td><code>value</code></td><td> </td><td>Element's initial value.</td></tr>\n",
    "</table>"
   ]
  }
 ],
 "metadata": {
  "kernelspec": {
   "display_name": ".NET (C#)",
   "language": "C#",
   "name": ".net-csharp"
  },
  "polyglot_notebook": {
   "kernelInfo": {
    "defaultKernelName": "csharp",
    "items": [
     {
      "aliases": [],
      "name": "csharp"
     },
     {
      "aliases": [],
      "languageName": null,
      "name": ".NET"
     },
     {
      "aliases": [
       "frontend"
      ],
      "languageName": null,
      "name": "vscode"
     }
    ]
   }
  }
 },
 "nbformat": 4,
 "nbformat_minor": 2
}
