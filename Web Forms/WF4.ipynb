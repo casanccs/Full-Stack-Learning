{
 "cells": [
  {
   "attachments": {},
   "cell_type": "markdown",
   "metadata": {},
   "source": [
    "# Other Form Controls"
   ]
  },
  {
   "attachments": {},
   "cell_type": "markdown",
   "metadata": {
    "dotnet_interactive": {
     "language": "csharp"
    },
    "polyglot_notebook": {
     "kernelName": "csharp"
    }
   },
   "source": [
    "We will now look at **NON-`<input>`** form elements"
   ]
  },
  {
   "attachments": {},
   "cell_type": "markdown",
   "metadata": {
    "dotnet_interactive": {
     "language": "csharp"
    },
    "polyglot_notebook": {
     "kernelName": "csharp"
    }
   },
   "source": [
    "## Multi-Line Text Fields"
   ]
  },
  {
   "cell_type": "code",
   "execution_count": 2,
   "metadata": {
    "dotnet_interactive": {
     "language": "html"
    },
    "polyglot_notebook": {
     "kernelName": "html"
    },
    "vscode": {
     "languageId": "polyglot-notebook"
    }
   },
   "outputs": [
    {
     "data": {
      "text/html": [
       "<textarea>\r\n",
       "Default is me\r\n",
       "</textarea>"
      ]
     },
     "metadata": {},
     "output_type": "display_data"
    }
   ],
   "source": [
    "<textarea>\n",
    "Default is me\n",
    "</textarea>"
   ]
  },
  {
   "attachments": {},
   "cell_type": "markdown",
   "metadata": {
    "dotnet_interactive": {
     "language": "html"
    },
    "polyglot_notebook": {
     "kernelName": "html"
    }
   },
   "source": [
    "Difference between `<textarea>` and regular single-line text fields, are that users can include hard-line breaks and it will be included when the data is submitted. Note, anything in between the `<textarea>` tags will be just rendered as plain text, even other HTML elements."
   ]
  },
  {
   "attachments": {},
   "cell_type": "markdown",
   "metadata": {
    "dotnet_interactive": {
     "language": "html"
    },
    "polyglot_notebook": {
     "kernelName": "html"
    }
   },
   "source": [
    "The form control is resizable by default, or you can customize it using these three attributes:"
   ]
  },
  {
   "attachments": {},
   "cell_type": "markdown",
   "metadata": {
    "dotnet_interactive": {
     "language": "html"
    },
    "polyglot_notebook": {
     "kernelName": "html"
    }
   },
   "source": [
    "* `cols` : Visible width of the text control, measured in character widths. Default is 20, and can be overridden by CSS.\n",
    "* `rows` : This is the starting height, default is 2. Can be overridden by CSS.\n",
    "* `wrap` : Controls how text is wrapped. `soft` as the value (default value) means text submitted is not wrapped, but the rendering on screen is wrapped. `hard` as the value (`cols` must be specified) means both submitted and rendered is wrapped. `off` means no wrapping."
   ]
  },
  {
   "attachments": {},
   "cell_type": "markdown",
   "metadata": {
    "dotnet_interactive": {
     "language": "html"
    },
    "polyglot_notebook": {
     "kernelName": "html"
    }
   },
   "source": [
    "If you are using CSS, use the `resize` property and these values:"
   ]
  },
  {
   "attachments": {},
   "cell_type": "markdown",
   "metadata": {
    "dotnet_interactive": {
     "language": "html"
    },
    "polyglot_notebook": {
     "kernelName": "html"
    }
   },
   "source": [
    "* `both` : allows horizontal and vertical resizing\n",
    "* `horziontal` : horziontal resizing only\n",
    "* `vertical` : vertical resizing only\n",
    "* `none` : No resizing\n",
    "* `block` and `inline` : allows resizing in the `block` or `inline` direction. (remember word/text direction)"
   ]
  },
  {
   "attachments": {},
   "cell_type": "markdown",
   "metadata": {
    "dotnet_interactive": {
     "language": "html"
    },
    "polyglot_notebook": {
     "kernelName": "html"
    }
   },
   "source": [
    "## Drop-down Controls"
   ]
  },
  {
   "attachments": {},
   "cell_type": "markdown",
   "metadata": {
    "dotnet_interactive": {
     "language": "html"
    },
    "polyglot_notebook": {
     "kernelName": "html"
    }
   },
   "source": [
    "HTML has two types of drop-down controls:"
   ]
  },
  {
   "attachments": {},
   "cell_type": "markdown",
   "metadata": {
    "dotnet_interactive": {
     "language": "html"
    },
    "polyglot_notebook": {
     "kernelName": "html"
    }
   },
   "source": [
    "### Select Box"
   ]
  },
  {
   "cell_type": "code",
   "execution_count": 3,
   "metadata": {
    "dotnet_interactive": {
     "language": "html"
    },
    "polyglot_notebook": {
     "kernelName": "html"
    },
    "vscode": {
     "languageId": "polyglot-notebook"
    }
   },
   "outputs": [
    {
     "data": {
      "text/html": [
       "<select name='simple'>\r\n",
       "    <option>Banana</option>\r\n",
       "    <option selected>Cherry</option>\r\n",
       "    <option>Lemon</option>\r\n",
       "</select>"
      ]
     },
     "metadata": {},
     "output_type": "display_data"
    }
   ],
   "source": [
    "<select name='simple'>\n",
    "    <option>Banana</option>\n",
    "    <option selected>Cherry</option>\n",
    "    <option>Lemon</option>\n",
    "</select>"
   ]
  },
  {
   "attachments": {},
   "cell_type": "markdown",
   "metadata": {
    "dotnet_interactive": {
     "language": "html"
    },
    "polyglot_notebook": {
     "kernelName": "html"
    }
   },
   "source": [
    "Note the boolean attribute `selected` can only be on one `<option>` per `<select>`, and will be automatically selected when the page loads."
   ]
  },
  {
   "attachments": {},
   "cell_type": "markdown",
   "metadata": {
    "dotnet_interactive": {
     "language": "html"
    },
    "polyglot_notebook": {
     "kernelName": "html"
    }
   },
   "source": [
    "<select id=\"groups\" name=\"groups\">\n",
    "  <optgroup label=\"fruits\">\n",
    "    <option>Banana</option>\n",
    "    <option selected>Cherry</option>\n",
    "    <option>Lemon</option>\n",
    "  </optgroup>\n",
    "  <optgroup label=\"vegetables\">\n",
    "    <option>Carrot</option>\n",
    "    <option>Eggplant</option>\n",
    "    <option>Potato</option>\n",
    "  </optgroup>\n",
    "</select>"
   ]
  },
  {
   "attachments": {},
   "cell_type": "markdown",
   "metadata": {
    "dotnet_interactive": {
     "language": "html"
    },
    "polyglot_notebook": {
     "kernelName": "html"
    }
   },
   "source": [
    "Notice how we can subgroup options by using `<optgroup label='label'>`."
   ]
  },
  {
   "attachments": {},
   "cell_type": "markdown",
   "metadata": {
    "dotnet_interactive": {
     "language": "html"
    },
    "polyglot_notebook": {
     "kernelName": "html"
    }
   },
   "source": [
    "Notice though, that we did not specify a `value`, which we need, so that when sending the form, the server will know what value to use:"
   ]
  },
  {
   "cell_type": "code",
   "execution_count": null,
   "metadata": {
    "dotnet_interactive": {
     "language": "html"
    },
    "polyglot_notebook": {
     "kernelName": "html"
    },
    "vscode": {
     "languageId": "polyglot-notebook"
    }
   },
   "outputs": [],
   "source": [
    "<select name='simple'>\n",
    "    <option value='banana'>Banana</option>\n",
    "    <option value='cherry' selected>Cherry</option>\n",
    "    <option value='lemon'>Lemon</option>\n",
    "</select>"
   ]
  },
  {
   "attachments": {},
   "cell_type": "markdown",
   "metadata": {
    "dotnet_interactive": {
     "language": "html"
    },
    "polyglot_notebook": {
     "kernelName": "html"
    }
   },
   "source": [
    "No visual difference, but now it is actually useful.  \n",
    "There is also a `size` attribute to control how many options are visible when the select doesn't have focus."
   ]
  },
  {
   "attachments": {},
   "cell_type": "markdown",
   "metadata": {
    "dotnet_interactive": {
     "language": "html"
    },
    "polyglot_notebook": {
     "kernelName": "html"
    }
   },
   "source": [
    "By default, the select box only allows one value to be chosen. Use the `multiple` attribute for the `<select>` element to allow the user to select several. For windows, holding down the control key will allow this:"
   ]
  },
  {
   "cell_type": "code",
   "execution_count": 4,
   "metadata": {
    "dotnet_interactive": {
     "language": "html"
    },
    "polyglot_notebook": {
     "kernelName": "html"
    },
    "vscode": {
     "languageId": "polyglot-notebook"
    }
   },
   "outputs": [
    {
     "data": {
      "text/html": [
       "<select id=\"multi\" name=\"multi\" multiple size=\"2\">\r\n",
       "  <optgroup label=\"fruits\">\r\n",
       "    <option>Banana</option>\r\n",
       "    <option selected>Cherry</option>\r\n",
       "    <option>Lemon</option>\r\n",
       "  </optgroup>\r\n",
       "  <optgroup label=\"vegetables\">\r\n",
       "    <option>Carrot</option>\r\n",
       "    <option>Eggplant</option>\r\n",
       "    <option>Potato</option>\r\n",
       "  </optgroup>\r\n",
       "</select>"
      ]
     },
     "metadata": {},
     "output_type": "display_data"
    }
   ],
   "source": [
    "<select id=\"multi\" name=\"multi\" multiple size=\"2\">\n",
    "  <optgroup label=\"fruits\">\n",
    "    <option>Banana</option>\n",
    "    <option selected>Cherry</option>\n",
    "    <option>Lemon</option>\n",
    "  </optgroup>\n",
    "  <optgroup label=\"vegetables\">\n",
    "    <option>Carrot</option>\n",
    "    <option>Eggplant</option>\n",
    "    <option>Potato</option>\n",
    "  </optgroup>\n",
    "</select>"
   ]
  },
  {
   "attachments": {},
   "cell_type": "markdown",
   "metadata": {
    "dotnet_interactive": {
     "language": "html"
    },
    "polyglot_notebook": {
     "kernelName": "html"
    }
   },
   "source": [
    "Note that when using `multiple`, there is no drop-down content. So we use the `size` attribute to determine the height of the widget. Also note that not all browsers support the `multiple` attribute."
   ]
  },
  {
   "attachments": {},
   "cell_type": "markdown",
   "metadata": {
    "dotnet_interactive": {
     "language": "html"
    },
    "polyglot_notebook": {
     "kernelName": "html"
    }
   },
   "source": [
    "### Autocomplete Box"
   ]
  },
  {
   "cell_type": "code",
   "execution_count": 5,
   "metadata": {
    "dotnet_interactive": {
     "language": "html"
    },
    "polyglot_notebook": {
     "kernelName": "html"
    },
    "vscode": {
     "languageId": "polyglot-notebook"
    }
   },
   "outputs": [
    {
     "data": {
      "text/html": [
       "<label for=\"myFruit\">What's your favorite fruit?</label>\r\n",
       "<input type=\"text\" name=\"myFruit\" id=\"myFruit\" list=\"mySuggestion\" />\r\n",
       "<datalist id=\"mySuggestion\">\r\n",
       "  <option>Apple</option>\r\n",
       "  <option>Banana</option>\r\n",
       "  <option>Blackberry</option>\r\n",
       "  <option>Blueberry</option>\r\n",
       "  <option>Lemon</option>\r\n",
       "  <option>Lychee</option>\r\n",
       "  <option>Peach</option>\r\n",
       "  <option>Pear</option>\r\n",
       "</datalist>"
      ]
     },
     "metadata": {},
     "output_type": "display_data"
    }
   ],
   "source": [
    "<label for=\"myFruit\">What's your favorite fruit?</label>\n",
    "<input type=\"text\" name=\"myFruit\" id=\"myFruit\" list=\"mySuggestion\" />\n",
    "<datalist id=\"mySuggestion\">\n",
    "  <option>Apple</option>\n",
    "  <option>Banana</option>\n",
    "  <option>Blackberry</option>\n",
    "  <option>Blueberry</option>\n",
    "  <option>Lemon</option>\n",
    "  <option>Lychee</option>\n",
    "  <option>Peach</option>\n",
    "  <option>Pear</option>\n",
    "</datalist>"
   ]
  },
  {
   "attachments": {},
   "cell_type": "markdown",
   "metadata": {
    "dotnet_interactive": {
     "language": "html"
    },
    "polyglot_notebook": {
     "kernelName": "html"
    }
   },
   "source": [
    "Notice that you need `<input>`, `<datalist>`, and `<option>` elements to make this work."
   ]
  },
  {
   "attachments": {},
   "cell_type": "markdown",
   "metadata": {
    "dotnet_interactive": {
     "language": "html"
    },
    "polyglot_notebook": {
     "kernelName": "html"
    }
   },
   "source": [
    "## Other Form Features"
   ]
  },
  {
   "cell_type": "code",
   "execution_count": 6,
   "metadata": {
    "dotnet_interactive": {
     "language": "html"
    },
    "polyglot_notebook": {
     "kernelName": "html"
    },
    "vscode": {
     "languageId": "polyglot-notebook"
    }
   },
   "outputs": [
    {
     "data": {
      "text/html": [
       "<progress max=\"100\" value=\"75\">75/100</progress>"
      ]
     },
     "metadata": {},
     "output_type": "display_data"
    }
   ],
   "source": [
    "<progress max=\"100\" value=\"75\">75/100</progress>"
   ]
  },
  {
   "attachments": {},
   "cell_type": "markdown",
   "metadata": {
    "dotnet_interactive": {
     "language": "html"
    },
    "polyglot_notebook": {
     "kernelName": "html"
    }
   },
   "source": [
    "Content inside the progress tags are for fallback"
   ]
  },
  {
   "cell_type": "code",
   "execution_count": 7,
   "metadata": {
    "dotnet_interactive": {
     "language": "html"
    },
    "polyglot_notebook": {
     "kernelName": "html"
    },
    "vscode": {
     "languageId": "polyglot-notebook"
    }
   },
   "outputs": [
    {
     "data": {
      "text/html": [
       "<meter min=\"0\" max=\"100\" value=\"75\" low=\"33\" high=\"66\" optimum=\"50\">75</meter>"
      ]
     },
     "metadata": {},
     "output_type": "display_data"
    }
   ],
   "source": [
    "<meter min=\"0\" max=\"100\" value=\"75\" low=\"33\" high=\"66\" optimum=\"50\">75</meter>"
   ]
  }
 ],
 "metadata": {
  "kernelspec": {
   "display_name": ".NET (C#)",
   "language": "C#",
   "name": ".net-csharp"
  },
  "polyglot_notebook": {
   "kernelInfo": {
    "defaultKernelName": "csharp",
    "items": [
     {
      "aliases": [
       "c#",
       "C#"
      ],
      "languageName": "C#",
      "name": "csharp"
     },
     {
      "aliases": [
       "frontend"
      ],
      "languageName": null,
      "name": "vscode"
     }
    ]
   }
  }
 },
 "nbformat": 4,
 "nbformat_minor": 2
}
