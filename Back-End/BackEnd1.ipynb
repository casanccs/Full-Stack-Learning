{
 "cells": [
  {
   "attachments": {},
   "cell_type": "markdown",
   "metadata": {
    "dotnet_interactive": {
     "language": "csharp"
    },
    "polyglot_notebook": {
     "kernelName": "csharp"
    }
   },
   "source": [
    "# Client-Server Overview"
   ]
  },
  {
   "attachments": {},
   "cell_type": "markdown",
   "metadata": {
    "dotnet_interactive": {
     "language": "csharp"
    },
    "polyglot_notebook": {
     "kernelName": "csharp"
    }
   },
   "source": [
    "## Web Servers and HTTP"
   ]
  },
  {
   "attachments": {},
   "cell_type": "markdown",
   "metadata": {
    "dotnet_interactive": {
     "language": "csharp"
    },
    "polyglot_notebook": {
     "kernelName": "csharp"
    }
   },
   "source": [
    "When you click on a link on a web page, submit forms, or run a search, the browser sends an HTTP Request to the server."
   ]
  },
  {
   "attachments": {},
   "cell_type": "markdown",
   "metadata": {
    "dotnet_interactive": {
     "language": "csharp"
    },
    "polyglot_notebook": {
     "kernelName": "csharp"
    }
   },
   "source": [
    "The HTTP request will include:"
   ]
  },
  {
   "attachments": {},
   "cell_type": "markdown",
   "metadata": {
    "dotnet_interactive": {
     "language": "csharp"
    },
    "polyglot_notebook": {
     "kernelName": "csharp"
    }
   },
   "source": [
    "* URL itself\n",
    "* A method that DEFINES the required action (like get a file, save or update some data). Here are the methods associated with their actions:\n",
    "    * `GET`: Gets resource (like a file, or list)\n",
    "    * `POST`: Creates resource (creates new data on database, new article to wiki)\n",
    "    * `HEAD`: Get metadata info of a resource without getting the body like `GET`.\n",
    "    * `PUT`: Update resource (or create if it doesn't exist)\n",
    "    * `DELETE`: Delete the resource.\n",
    "    * `TRACE`, `OPTIONS`, `CONNECT`, `PATCH`: Won't go over.\n",
    "* URL Parameters: `http://www.amazon.com/something?name=hi&age=15` Where the `?` separates the URL from the URL Parameters. And the `&` separates each parameter. They are \"insecure\", so `GET` requests and URL Parameters are not used for requests that update data on the server.\n",
    "* Client-Side cookies."
   ]
  },
  {
   "attachments": {},
   "cell_type": "markdown",
   "metadata": {
    "dotnet_interactive": {
     "language": "csharp"
    },
    "polyglot_notebook": {
     "kernelName": "csharp"
    }
   },
   "source": [
    "Afterwards, the Web Server will process the request, and will reply with an HTTP Response. It contains:\n",
    "* AN HTTP Response Status Code (Like \"200 OK\" or \"404 Not Found\")"
   ]
  },
  {
   "attachments": {},
   "cell_type": "markdown",
   "metadata": {
    "dotnet_interactive": {
     "language": "csharp"
    },
    "polyglot_notebook": {
     "kernelName": "csharp"
    }
   },
   "source": [
    "### GET Request/Response Example"
   ]
  },
  {
   "attachments": {},
   "cell_type": "markdown",
   "metadata": {
    "dotnet_interactive": {
     "language": "csharp"
    },
    "polyglot_notebook": {
     "kernelName": "csharp"
    }
   },
   "source": [
    "`GET` requests are made by clicking a link, or searching ON a site."
   ]
  },
  {
   "attachments": {},
   "cell_type": "markdown",
   "metadata": {
    "dotnet_interactive": {
     "language": "csharp"
    },
    "polyglot_notebook": {
     "kernelName": "csharp"
    }
   },
   "source": [
    "Here is an example of a `GET` from searching \"client-server overview\" on the docs:"
   ]
  },
  {
   "cell_type": "raw",
   "metadata": {
    "dotnet_interactive": {
     "language": "html"
    },
    "polyglot_notebook": {
     "kernelName": "html"
    }
   },
   "source": [
    "GET /en-US/search?q=client+server+overview&topic=apps&topic=html&topic=css&topic=js&topic=api&topic=webdev HTTP/1.1\n",
    "Host: developer.mozilla.org\n",
    "Connection: keep-alive\n",
    "Pragma: no-cache\n",
    "Cache-Control: no-cache\n",
    "Upgrade-Insecure-Requests: 1\n",
    "User-Agent: Mozilla/5.0 (Windows NT 10.0; WOW64) AppleWebKit/537.36 (KHTML, like Gecko) Chrome/52.0.2743.116 Safari/537.36\n",
    "Accept: text/html,application/xhtml+xml,application/xml;q=0.9,image/webp,*/*;q=0.8\n",
    "Referer: https://developer.mozilla.org/en-US/\n",
    "Accept-Encoding: gzip, deflate, sdch, br\n",
    "Accept-Charset: ISO-8859-1,UTF-8;q=0.7,*;q=0.7\n",
    "Accept-Language: en-US,en;q=0.8,es;q=0.6\n",
    "Cookie: sessionid=6ynxs23n521lu21b1t136rhbv7ezngie; csrftoken=zIPUJsAZv6pcgCBJSCj1zU6pQZbfMUAT; dwf_section_edit=False; dwf_sg_task_completion=False; _gat=1; _ga=GA1.2.1688886003.1471911953; ffo=true\n"
   ]
  },
  {
   "attachments": {},
   "cell_type": "markdown",
   "metadata": {
    "dotnet_interactive": {
     "language": "html"
    },
    "polyglot_notebook": {
     "kernelName": "html"
    }
   },
   "source": [
    "The top part is the header (part before `Host: ...`), and contains info about the request. "
   ]
  },
  {
   "attachments": {},
   "cell_type": "markdown",
   "metadata": {
    "dotnet_interactive": {
     "language": "html"
    },
    "polyglot_notebook": {
     "kernelName": "html"
    }
   },
   "source": [
    "* The type of request: `GET`\n",
    "* The URL: `/en-US/search`\n",
    "* The URL Parameters: `?q=client+server+overview&topic=apps&topic=html&topic=css&topic=js&topic=api&topic=webdev`\n",
    "* Target/host website: `developer.mozilla.org`\n",
    "* Identifying the specific protocol version: `HTTP/1.1`"
   ]
  },
  {
   "attachments": {},
   "cell_type": "markdown",
   "metadata": {
    "dotnet_interactive": {
     "language": "html"
    },
    "polyglot_notebook": {
     "kernelName": "html"
    }
   },
   "source": [
    "Here is an example of the response:"
   ]
  },
  {
   "cell_type": "code",
   "execution_count": null,
   "metadata": {
    "dotnet_interactive": {
     "language": "html"
    },
    "polyglot_notebook": {
     "kernelName": "html"
    },
    "vscode": {
     "languageId": "html"
    }
   },
   "outputs": [],
   "source": [
    "HTTP/1.1 200 OK\n",
    "Server: Apache\n",
    "X-Backend-Server: developer1.webapp.scl3.mozilla.com\n",
    "Vary: Accept, Cookie, Accept-Encoding\n",
    "Content-Type: text/html; charset=utf-8\n",
    "Date: Wed, 07 Sep 2016 00:11:31 GMT\n",
    "Keep-Alive: timeout=5, max=999\n",
    "Connection: Keep-Alive\n",
    "X-Frame-Options: DENY\n",
    "Allow: GET\n",
    "X-Cache-Info: caching\n",
    "Content-Length: 41823\n",
    "\n",
    "<!DOCTYPE html>\n",
    "<html lang=\"en-US\" dir=\"ltr\" class=\"redesign no-js\"  data-ffo-opensanslight=false data-ffo-opensans=false >\n",
    "<head prefix=\"og: http://ogp.me/ns#\">\n",
    "  <meta charset=\"utf-8\">\n",
    "  <meta http-equiv=\"X-UA-Compatible\" content=\"IE=Edge\">\n",
    "  <script>(function(d) { d.className = d.className.replace(/\\bno-js/, ''); })(document.documentElement);</script>\n",
    "  …\n"
   ]
  },
  {
   "attachments": {},
   "cell_type": "markdown",
   "metadata": {
    "dotnet_interactive": {
     "language": "html"
    },
    "polyglot_notebook": {
     "kernelName": "html"
    }
   },
   "source": [
    "* First line includes response code\n",
    "* Response is text formatted through: `Content-type`\n",
    "* Tells us how big the content is: `Content-Length`"
   ]
  },
  {
   "attachments": {},
   "cell_type": "markdown",
   "metadata": {
    "dotnet_interactive": {
     "language": "html"
    },
    "polyglot_notebook": {
     "kernelName": "html"
    }
   },
   "source": [
    "### POST request/response example"
   ]
  },
  {
   "attachments": {},
   "cell_type": "markdown",
   "metadata": {
    "dotnet_interactive": {
     "language": "html"
    },
    "polyglot_notebook": {
     "kernelName": "html"
    }
   },
   "source": [
    "Made when you submit a form containing information saved onto the server."
   ]
  },
  {
   "attachments": {},
   "cell_type": "markdown",
   "metadata": {
    "dotnet_interactive": {
     "language": "html"
    },
    "polyglot_notebook": {
     "kernelName": "html"
    }
   },
   "source": [
    "Here is a request example when a user submits new profile details:"
   ]
  },
  {
   "cell_type": "code",
   "execution_count": null,
   "metadata": {
    "dotnet_interactive": {
     "language": "html"
    },
    "polyglot_notebook": {
     "kernelName": "html"
    },
    "vscode": {
     "languageId": "html"
    }
   },
   "outputs": [],
   "source": [
    "POST /en-US/profiles/hamishwillee/edit HTTP/1.1\n",
    "Host: developer.mozilla.org\n",
    "Connection: keep-alive\n",
    "Content-Length: 432\n",
    "Pragma: no-cache\n",
    "Cache-Control: no-cache\n",
    "Origin: https://developer.mozilla.org\n",
    "Upgrade-Insecure-Requests: 1\n",
    "User-Agent: Mozilla/5.0 (Windows NT 10.0; WOW64) AppleWebKit/537.36 (KHTML, like Gecko) Chrome/52.0.2743.116 Safari/537.36\n",
    "Content-Type: application/x-www-form-urlencoded\n",
    "Accept: text/html,application/xhtml+xml,application/xml;q=0.9,image/webp,*/*;q=0.8\n",
    "Referer: https://developer.mozilla.org/en-US/profiles/hamishwillee/edit\n",
    "Accept-Encoding: gzip, deflate, br\n",
    "Accept-Language: en-US,en;q=0.8,es;q=0.6\n",
    "Cookie: sessionid=6ynxs23n521lu21b1t136rhbv7ezngie; _gat=1; csrftoken=zIPUJsAZv6pcgCBJSCj1zU6pQZbfMUAT; dwf_section_edit=False; dwf_sg_task_completion=False; _ga=GA1.2.1688886003.1471911953; ffo=true\n",
    "\n",
    "csrfmiddlewaretoken=zIPUJsAZv6pcgCBJSCj1zU6pQZbfMUAT&user-username=hamishwillee&user-fullname=Hamish+Willee&user-title=&user-organization=&user-location=Australia&user-locale=en-US&user-timezone=Australia%2FMelbourne&user-irc_nickname=&user-interests=&user-expertise=&user-twitter_url=&user-stackoverflow_url=&user-linkedin_url=&user-mozillians_url=&user-facebook_url=\n"
   ]
  },
  {
   "attachments": {},
   "cell_type": "markdown",
   "metadata": {
    "dotnet_interactive": {
     "language": "html"
    },
    "polyglot_notebook": {
     "kernelName": "html"
    }
   },
   "source": [
    "Notice how the main difference of this and `GET` is that the URL doesn't have any parameters. The info is encoded in the body of the request."
   ]
  },
  {
   "attachments": {},
   "cell_type": "markdown",
   "metadata": {
    "dotnet_interactive": {
     "language": "html"
    },
    "polyglot_notebook": {
     "kernelName": "html"
    }
   },
   "source": [
    "Here is its response:"
   ]
  },
  {
   "cell_type": "code",
   "execution_count": null,
   "metadata": {
    "dotnet_interactive": {
     "language": "html"
    },
    "polyglot_notebook": {
     "kernelName": "html"
    },
    "vscode": {
     "languageId": "html"
    }
   },
   "outputs": [],
   "source": [
    "HTTP/1.1 302 FOUND\n",
    "Server: Apache\n",
    "X-Backend-Server: developer3.webapp.scl3.mozilla.com\n",
    "Vary: Cookie\n",
    "Vary: Accept-Encoding\n",
    "Content-Type: text/html; charset=utf-8\n",
    "Date: Wed, 07 Sep 2016 00:38:13 GMT\n",
    "Location: https://developer.mozilla.org/en-US/profiles/hamishwillee\n",
    "Keep-Alive: timeout=5, max=1000\n",
    "Connection: Keep-Alive\n",
    "X-Frame-Options: DENY\n",
    "X-Cache-Info: not cacheable; request wasn't a GET or HEAD\n",
    "Content-Length: 0"
   ]
  },
  {
   "attachments": {},
   "cell_type": "markdown",
   "metadata": {
    "dotnet_interactive": {
     "language": "html"
    },
    "polyglot_notebook": {
     "kernelName": "html"
    }
   },
   "source": [
    "Let's re-look at the:"
   ]
  },
  {
   "attachments": {},
   "cell_type": "markdown",
   "metadata": {
    "dotnet_interactive": {
     "language": "html"
    },
    "polyglot_notebook": {
     "kernelName": "html"
    }
   },
   "source": [
    "### Anatomy of a Dynamic Request"
   ]
  },
  {
   "attachments": {},
   "cell_type": "markdown",
   "metadata": {
    "dotnet_interactive": {
     "language": "html"
    },
    "polyglot_notebook": {
     "kernelName": "html"
    }
   },
   "source": [
    "<img src=\"web_application_with_html_and_steps.png\">"
   ]
  },
  {
   "attachments": {},
   "cell_type": "markdown",
   "metadata": {
    "dotnet_interactive": {
     "language": "html"
    },
    "polyglot_notebook": {
     "kernelName": "html"
    }
   },
   "source": [
    "The parts that make the site dynamic are the \"Web Application\", which is the server-side code that processes the HTTP requests and returns HTTP responses), and the \"Database\", which contains all of the data. The Web Application also contains the HTML Templates."
   ]
  },
  {
   "attachments": {},
   "cell_type": "markdown",
   "metadata": {
    "dotnet_interactive": {
     "language": "html"
    },
    "polyglot_notebook": {
     "kernelName": "html"
    }
   },
   "source": [
    "When the user wants to look at a page, here is the sequence that happens:"
   ]
  },
  {
   "attachments": {},
   "cell_type": "markdown",
   "metadata": {
    "dotnet_interactive": {
     "language": "html"
    },
    "polyglot_notebook": {
     "kernelName": "html"
    }
   },
   "source": [
    "1. The Web Browser creates an HTTP `GET` request using the base URL resource and other URL parameters/patterns.\n",
    "2. The Web Server detects that the request is DYNAMIC, and sends it to the Web Application to process.\n",
    "3. The Web Application gets the specified data from the database that was requested.\n",
    "4. The Web Application dynamically creates an HTML page by putting the data into placeholders inside an HTML template.\n",
    "5. The WEB Application returns the generated HTML to the Web Browser along with the HTTP status code.\n",
    "6. The Web Browser starts the process the returned HTML, and then loads the static files from the file system and returns it to the browser.\n"
   ]
  },
  {
   "attachments": {},
   "cell_type": "markdown",
   "metadata": {
    "dotnet_interactive": {
     "language": "html"
    },
    "polyglot_notebook": {
     "kernelName": "html"
    }
   },
   "source": [
    "But it does not HAVE to return HTML files. It can also dynamically create and return other files or data."
   ]
  },
  {
   "attachments": {},
   "cell_type": "markdown",
   "metadata": {
    "dotnet_interactive": {
     "language": "html"
    },
    "polyglot_notebook": {
     "kernelName": "html"
    }
   },
   "source": [
    "# Server-Side Web Frameworks"
   ]
  },
  {
   "attachments": {},
   "cell_type": "markdown",
   "metadata": {
    "dotnet_interactive": {
     "language": "html"
    },
    "polyglot_notebook": {
     "kernelName": "html"
    }
   },
   "source": [
    "These frameworks are also called \"Web Application Frameworks\" sometimes. They allow us to make it easier to write, maintain, and scale web apps. They provide tools to simply tasks like routing URLs to handlers, interacting with databases, supporting sessions and user authorization, formatting output, and improving security against web attacks."
   ]
  },
  {
   "attachments": {},
   "cell_type": "markdown",
   "metadata": {
    "dotnet_interactive": {
     "language": "html"
    },
    "polyglot_notebook": {
     "kernelName": "html"
    }
   },
   "source": [
    "Here are some of these examples in action:"
   ]
  },
  {
   "attachments": {},
   "cell_type": "markdown",
   "metadata": {
    "dotnet_interactive": {
     "language": "html"
    },
    "polyglot_notebook": {
     "kernelName": "html"
    }
   },
   "source": [
    "### Work with HTTP requests and responses"
   ]
  },
  {
   "attachments": {},
   "cell_type": "markdown",
   "metadata": {
    "dotnet_interactive": {
     "language": "html"
    },
    "polyglot_notebook": {
     "kernelName": "html"
    }
   },
   "source": [
    "These frameworks allow us to directly work with the HTTP requests and responses. Here is an example in Django:"
   ]
  },
  {
   "cell_type": "code",
   "execution_count": null,
   "metadata": {
    "dotnet_interactive": {
     "language": "html"
    },
    "polyglot_notebook": {
     "kernelName": "html"
    }
   },
   "outputs": [],
   "source": [
    "from django.http import HttpResponse\n",
    "\n",
    "def index(request):\n",
    "    # Here, you would perform opertaions using the information from request, and then return it:\n",
    "    return HttpResponse(\"Output string\")"
   ]
  },
  {
   "attachments": {},
   "cell_type": "markdown",
   "metadata": {},
   "source": [
    "### Route Requests to the appropriate handler"
   ]
  },
  {
   "attachments": {},
   "cell_type": "markdown",
   "metadata": {},
   "source": [
    "Websites will provide alot of resources, through distinct URLs. Web frameworks provide tools to map URL patterns to specific handler functions."
   ]
  },
  {
   "attachments": {},
   "cell_type": "markdown",
   "metadata": {},
   "source": [
    "### Abstract and Simplify Database Access"
   ]
  },
  {
   "attachments": {},
   "cell_type": "markdown",
   "metadata": {},
   "source": [
    "Web frameworks have a database layer where we can use database read, write, query, and delete operations. This layer is referred to as **Object-Relational Mapper**."
   ]
  },
  {
   "attachments": {},
   "cell_type": "markdown",
   "metadata": {},
   "source": [
    "For example, in Django, we use *model* to refer to the object that defines the structure of a record. It specifies the field types, maximum size, default values, list options, etc. But it doesn't state any info about the database."
   ]
  },
  {
   "attachments": {},
   "cell_type": "markdown",
   "metadata": {},
   "source": [
    "Here is an example:"
   ]
  },
  {
   "cell_type": "code",
   "execution_count": null,
   "metadata": {},
   "outputs": [],
   "source": [
    "#best/models.py\n",
    "\n",
    "from django.db import models\n",
    "\n",
    "class Team(models.Model):\n",
    "    team_name = models.CharField(max_length=40)\n",
    "\n",
    "    TEAM_LEVELS = (\n",
    "        ('U09', 'Under 09s'),\n",
    "        ('U10', 'Under 10s'),\n",
    "        ('U11', 'Under 11s'),\n",
    "        # List our other teams\n",
    "    )\n",
    "    team_level = models.CharField(max_length=3,choices=TEAM_LEVELS,default='U11')\n"
   ]
  },
  {
   "attachments": {},
   "cell_type": "markdown",
   "metadata": {},
   "source": [
    "We have two field types: `team_name` and `team_level`, both of which are `CharField`, with their own specified `max_length`. But `team_level` only has 3 choices, which are specified in `TEAM_LEVELS`."
   ]
  },
  {
   "attachments": {},
   "cell_type": "markdown",
   "metadata": {},
   "source": [
    "In the code below, it is a view function which acts as the resource handler to display the teams we made."
   ]
  },
  {
   "cell_type": "code",
   "execution_count": null,
   "metadata": {},
   "outputs": [],
   "source": [
    "#best/views.py\n",
    "\n",
    "from django.shortcuts import render\n",
    "from .models import Team\n",
    "\n",
    "def youngest(request):\n",
    "    list_teams = Team.objects.filter(team_level__exact=\"U09\")\n",
    "    context = {'youngest_teams': list_teams}\n",
    "    return render(request, 'best/index.html', context)\n"
   ]
  },
  {
   "attachments": {},
   "cell_type": "markdown",
   "metadata": {},
   "source": [
    "We will learn more about this later on."
   ]
  },
  {
   "attachments": {},
   "cell_type": "markdown",
   "metadata": {},
   "source": [
    "## Rendering Data"
   ]
  },
  {
   "attachments": {},
   "cell_type": "markdown",
   "metadata": {},
   "source": [
    "Web frameworks provide templating systems. It allows us to structure the output document, using placeholders for data that will be added when a page is generated."
   ]
  },
  {
   "attachments": {},
   "cell_type": "markdown",
   "metadata": {},
   "source": [
    "Here is an example in Django, which uses \"double handlebards\" syntax: `{{ variable_name }}`, which will be replaced by values passed in from the view function we made above when the page is rendered. We can also use expressions with: `{% expression %}`, which lets us perform operations like iterating list values."
   ]
  },
  {
   "cell_type": "code",
   "execution_count": null,
   "metadata": {
    "vscode": {
     "languageId": "html"
    }
   },
   "outputs": [],
   "source": [
    "#best/templates/best/index.html\n",
    "\n",
    "<!DOCTYPE html>\n",
    "<html lang=\"en\">\n",
    "<body>\n",
    "\n",
    " {% if youngest_teams %}\n",
    "    <ul>\n",
    "    {% for team in youngest_teams %}\n",
    "        <li>{{ team.team_name }}</li>\n",
    "    {% endfor %}\n",
    "    </ul>\n",
    "{% else %}\n",
    "    <p>No teams are available.</p>\n",
    "{% endif %}\n",
    "\n",
    "</body>\n",
    "</html>\n"
   ]
  },
  {
   "attachments": {},
   "cell_type": "markdown",
   "metadata": {},
   "source": [
    "This will check if the `youngest_teams` variable exists, and if it does, it will create the unordered list, and iterate through the `youngest_teams` Python list, while adding it to the unordered list"
   ]
  }
 ],
 "metadata": {
  "kernelspec": {
   "display_name": "Python 3",
   "language": "python",
   "name": "python3"
  },
  "language_info": {
   "name": "python",
   "version": "3.11.0 (main, Oct 24 2022, 18:26:48) [MSC v.1933 64 bit (AMD64)]"
  },
  "polyglot_notebook": {
   "kernelInfo": {
    "defaultKernelName": "csharp",
    "items": [
     {
      "aliases": [
       "c#",
       "C#"
      ],
      "languageName": "C#",
      "name": "csharp"
     },
     {
      "aliases": [
       "frontend"
      ],
      "languageName": null,
      "name": "vscode"
     }
    ]
   }
  },
  "vscode": {
   "interpreter": {
    "hash": "d85a640d71ea13c7cfbab4abe19f9290bba5e27c7ab3b33e9cc3de8022ebde1d"
   }
  }
 },
 "nbformat": 4,
 "nbformat_minor": 2
}
