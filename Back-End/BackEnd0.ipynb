{
 "cells": [
  {
   "attachments": {},
   "cell_type": "markdown",
   "metadata": {},
   "source": [
    "# What is the Back-End?"
   ]
  },
  {
   "attachments": {},
   "cell_type": "markdown",
   "metadata": {},
   "source": [
    "Backend dev focuses on the server-side of the website. For example:\n",
    "* Databases\n",
    "* Scripting\n",
    "* Website architecture"
   ]
  },
  {
   "attachments": {},
   "cell_type": "markdown",
   "metadata": {},
   "source": [
    "Backend devs write programs that communicate the database info to the browser."
   ]
  },
  {
   "attachments": {},
   "cell_type": "markdown",
   "metadata": {},
   "source": [
    "As we learned in React, we manage data on the client through state and user interactions. But we need to GET data that comes from a database. The backend is responsible for getting and updating the data behind the scenes. Here are some use cases:"
   ]
  },
  {
   "attachments": {},
   "cell_type": "markdown",
   "metadata": {},
   "source": [
    "* Server-side rendering\n",
    "* When app requires open socket communication to support real-time events."
   ]
  },
  {
   "attachments": {},
   "cell_type": "markdown",
   "metadata": {},
   "source": [
    "## What is a Web Server?"
   ]
  },
  {
   "attachments": {},
   "cell_type": "markdown",
   "metadata": {},
   "source": [
    "The term can refer to two different things:\n",
    "1. On the hardware side, a Web Server is a computer that stores Web Server Software and a website's component files. (HTML, CSS, React, JS, etc.) A web server connects to the internet and supports physical data interchange with other devices connected to the web.\n",
    "2. On the software side, a web server includes several parts that control how web users access hosted files. At a minimum, this is an HTTP server. An HTTP server is software that understands URLs (web addresses) and HTTP (the protocol your browser uses to view webpages). An HTTP server can be accessed through the domain names of the websites it stores, and it delivers the content of these hosted websites to the end user's device."
   ]
  },
  {
   "attachments": {},
   "cell_type": "markdown",
   "metadata": {},
   "source": [
    "As an example, if a browser needs a file on a web server, the browser REQUESTS the file via HTTP. When the request reaches the HARDWARE web server, the SOFTWARE HTTP server accepts the request, and sends the requested file to the browser through HTTP. (Returns 404 if server doesn't find the requested document)"
   ]
  },
  {
   "attachments": {},
   "cell_type": "markdown",
   "metadata": {},
   "source": [
    "#### To PUBLISH a website, you need either:"
   ]
  },
  {
   "attachments": {},
   "cell_type": "markdown",
   "metadata": {},
   "source": [
    "1. **Static Web Server** (or stack): Consists of a computer (hardware) with an HTTP server (software). It is static because it sends the files AS-IS to the browser.\n",
    "2. **Dynamic Web Server**: Consists of a static web server plus extra software, most commonly with an ***Application Server*** and a ***Database***. It is dynamic because the application server updates the hosted files before sending content to your browser via the HTTP server."
   ]
  },
  {
   "attachments": {},
   "cell_type": "markdown",
   "metadata": {},
   "source": [
    "Let's look at the steps of fetching a webpage a little more in depth:"
   ]
  },
  {
   "attachments": {},
   "cell_type": "markdown",
   "metadata": {},
   "source": [
    "### 1. Hosting Files"
   ]
  },
  {
   "attachments": {},
   "cell_type": "markdown",
   "metadata": {},
   "source": [
    "A web server needs to store the website's files. You could host all files on your own computer, but you should use a dedicated web server because:\n",
    "* A dedicated web server is more available\n",
    "* Always connected to the internet (excluding downtime and bugs)\n",
    "* Have the same IP address all the time. This is a dedicated IP address.\n",
    "* Maintained by a third party typically."
   ]
  },
  {
   "attachments": {},
   "cell_type": "markdown",
   "metadata": {},
   "source": [
    "This is why you want to find a good hosting provider. Once you find a web hosting service, you will want to upload the files to your web server."
   ]
  },
  {
   "attachments": {},
   "cell_type": "markdown",
   "metadata": {},
   "source": [
    "### 2. Communicating Through HTTP"
   ]
  },
  {
   "attachments": {},
   "cell_type": "markdown",
   "metadata": {},
   "source": [
    "Web Server's provde HTTP (Hypertext Transfer Protocol). It specifies how to transfer hypertext (linked web documents) between two computers."
   ]
  },
  {
   "attachments": {},
   "cell_type": "markdown",
   "metadata": {},
   "source": [
    "A Protocol is a set of rules for communication between two computers. HTTP is:\n",
    "1. Textual: All commands are text and human-readable.\n",
    "2. Stateless: Neither server or client remembers previous communications. So on HTTP alone, a server can't rememeber a password you typed. You will need an application server for this."
   ]
  },
  {
   "attachments": {},
   "cell_type": "markdown",
   "metadata": {},
   "source": [
    "Be aware of these things:"
   ]
  },
  {
   "attachments": {},
   "cell_type": "markdown",
   "metadata": {},
   "source": [
    "* Usually CLIENTS make HTTP Requests, and only to SERVERS. Servers RESPOND to client's HTTP requests.\n",
    "* Clients must provide the file's URL when requesting a file via HTTP.\n",
    "* Web server must answer EVERY HTTP request."
   ]
  },
  {
   "attachments": {},
   "cell_type": "markdown",
   "metadata": {},
   "source": [
    "### 3. HTTP Server"
   ]
  },
  {
   "attachments": {},
   "cell_type": "markdown",
   "metadata": {},
   "source": [
    "The HTTP Server is responsible for processing and answering incoming requests."
   ]
  },
  {
   "attachments": {},
   "cell_type": "markdown",
   "metadata": {},
   "source": [
    "1. When the HTTP server gets a request, it checks to see if the URL matches an exisiting file.\n",
    "2. If it does, the web server sends it to the browser. If not, it will see if it should make a file dynamically for the request.\n",
    "3. If neither is possible, returns a `404` error message."
   ]
  },
  {
   "attachments": {},
   "cell_type": "markdown",
   "metadata": {},
   "source": [
    "## What is Server-Side Website Programming?"
   ]
  },
  {
   "attachments": {},
   "cell_type": "markdown",
   "metadata": {},
   "source": [
    "We know web browsers communicate with web servers using HTTP. When you click on a page, an HTTP request is sent from your browser to the server. The server will send an HTTP response message, usually 200 if it is successful."
   ]
  },
  {
   "attachments": {},
   "cell_type": "markdown",
   "metadata": {},
   "source": [
    "When creating **Static Sites**, here is a general view of the process:"
   ]
  },
  {
   "attachments": {},
   "cell_type": "markdown",
   "metadata": {},
   "source": [
    "<img src='basic_static_app_server.png'>"
   ]
  },
  {
   "attachments": {},
   "cell_type": "markdown",
   "metadata": {},
   "source": [
    "A **Dynamic Website** is where some of the response content is generated DYNAMICALLY, only when needed. Usually it takes data from a database into placeholders in HTML templates. And it can return different data for a URL based on info provided."
   ]
  },
  {
   "attachments": {},
   "cell_type": "markdown",
   "metadata": {},
   "source": [
    "### When you are creating Dynamic Sites, most of the code to support a dynamic website must run on the server. Creating this code is \"server-side programming\". (or \"back-end scripting\")"
   ]
  },
  {
   "attachments": {},
   "cell_type": "markdown",
   "metadata": {},
   "source": [
    "<img src=\"web_application_with_html_and_steps.png\">"
   ]
  },
  {
   "attachments": {},
   "cell_type": "markdown",
   "metadata": {},
   "source": [
    "So Client-Side is code running in the browser. This is written in HTML, CSS, and JavaScript."
   ]
  },
  {
   "attachments": {},
   "cell_type": "markdown",
   "metadata": {},
   "source": [
    "Server-Side code is written in any number of programming languages, like PHP, Python, Ruby, and JavaScript (NodeJS)."
   ]
  },
  {
   "attachments": {},
   "cell_type": "markdown",
   "metadata": {},
   "source": [
    "Both sides also use web frameworks, like React is a client-side web framework."
   ]
  },
  {
   "attachments": {},
   "cell_type": "markdown",
   "metadata": {},
   "source": [
    "## In the next section, we will go more in depth on the steps of communication between the Client-Server using HTTP."
   ]
  }
 ],
 "metadata": {
  "kernelspec": {
   "display_name": "Python 3",
   "language": "python",
   "name": "python3"
  },
  "language_info": {
   "name": "python",
   "version": "3.11.0 (main, Oct 24 2022, 18:26:48) [MSC v.1933 64 bit (AMD64)]"
  },
  "orig_nbformat": 4,
  "vscode": {
   "interpreter": {
    "hash": "d85a640d71ea13c7cfbab4abe19f9290bba5e27c7ab3b33e9cc3de8022ebde1d"
   }
  }
 },
 "nbformat": 4,
 "nbformat_minor": 2
}
