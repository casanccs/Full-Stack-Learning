{
 "cells": [
  {
   "attachments": {},
   "cell_type": "markdown",
   "metadata": {},
   "source": [
    "# Local Library"
   ]
  },
  {
   "attachments": {},
   "cell_type": "markdown",
   "metadata": {},
   "source": [
    "For this huge section, we will be creating a local library database."
   ]
  },
  {
   "attachments": {},
   "cell_type": "markdown",
   "metadata": {},
   "source": [
    "Once you got everything up and running, we end up with this folder/file structure:"
   ]
  },
  {
   "cell_type": "code",
   "execution_count": null,
   "metadata": {
    "vscode": {
     "languageId": "html"
    }
   },
   "outputs": [],
   "source": [
    "locallibrary/\n",
    "    manage.py\n",
    "    locallibrary/\n",
    "        __init__.py\n",
    "        settings.py\n",
    "        urls.py\n",
    "        wsgi.py\n",
    "        asgi.py"
   ]
  },
  {
   "attachments": {},
   "cell_type": "markdown",
   "metadata": {},
   "source": [
    "* Outer `locallibrary` is the root directory for the project. We can rename it to anything\n",
    "    * `manage.py`: creates applications, work with databases, and start the development web server\n",
    "    * Inner `locallibrary` is used for the entry point for the website:\n",
    "        * `__init__.py`: Empty file that instructs Python to treat this directory as a Python package.\n",
    "        * `settings.py`: Contains website settings, like registering any applications we create, location of static files, database configuration details, etc.\n",
    "        * `urls.py`: Defines the site URL-to-View mappings. This COULD contain ALL URL mapping code, but we will delegate some mappings to particular applications.\n",
    "        * `wsgi.py`: Helps Django application communicate with web server. Treat as boiler plate.\n",
    "        * `asgi.py`: Standard for asynchronous web apps and servers to communciate with each other."
   ]
  },
  {
   "attachments": {},
   "cell_type": "markdown",
   "metadata": {},
   "source": [
    "### Create a \"catalog\" application"
   ]
  },
  {
   "attachments": {},
   "cell_type": "markdown",
   "metadata": {},
   "source": [
    "Let's run this command to create a catalog app that will be inside our locallibrary project:"
   ]
  },
  {
   "cell_type": "code",
   "execution_count": null,
   "metadata": {
    "vscode": {
     "languageId": "html"
    }
   },
   "outputs": [],
   "source": [
    "python manage.py startapp catalog"
   ]
  },
  {
   "attachments": {},
   "cell_type": "markdown",
   "metadata": {},
   "source": [
    "It creates a new folder named \"catalog\" with files for the different parts of the app. And contain some minimal boilerplate code for working with the associated objects."
   ]
  },
  {
   "cell_type": "code",
   "execution_count": null,
   "metadata": {
    "vscode": {
     "languageId": "html"
    }
   },
   "outputs": [],
   "source": [
    "locallibrary/\n",
    "    manage.py\n",
    "    locallibrary/\n",
    "    catalog/\n",
    "        admin.py\n",
    "        apps.py\n",
    "        models.py\n",
    "        tests.py\n",
    "        views.py\n",
    "        __init__.py\n",
    "        migrations/"
   ]
  },
  {
   "attachments": {},
   "cell_type": "markdown",
   "metadata": {},
   "source": [
    "* The `migrations` folder is used to store \"migrations\": Files that let us automatically update the database as we modify the models.\n",
    "* `__init__.py`: Another empty file used to recognize this folder as a package."
   ]
  },
  {
   "attachments": {},
   "cell_type": "markdown",
   "metadata": {},
   "source": [
    "Notice how we have our `views.py` and `models.py`, but not anything for the URL Mapping and HTML templates and also static files. We will do this later by hand."
   ]
  },
  {
   "attachments": {},
   "cell_type": "markdown",
   "metadata": {},
   "source": [
    "### Registering the Catalog Application"
   ]
  },
  {
   "attachments": {},
   "cell_type": "markdown",
   "metadata": {},
   "source": [
    "Now we need to register the application with the project so it will be included when toools are run (like adding models to the database). We add them to the `INSTALLED_APPS` list in the project settings."
   ]
  },
  {
   "attachments": {},
   "cell_type": "markdown",
   "metadata": {},
   "source": [
    "Go to the `locallibrary/locallibrary/settings.py` file, then find and add this:"
   ]
  },
  {
   "cell_type": "code",
   "execution_count": null,
   "metadata": {},
   "outputs": [],
   "source": [
    "INSTALLED_APPS = [\n",
    "    'django.contrib.admin',\n",
    "    'django.contrib.auth',\n",
    "    'django.contrib.contenttypes',\n",
    "    'django.contrib.sessions',\n",
    "    'django.contrib.messages',\n",
    "    'django.contrib.staticfiles',\n",
    "    # Add our new application\n",
    "    'catalog.apps.CatalogConfig', #This object was created for us in /catalog/apps.py\n",
    "]"
   ]
  },
  {
   "attachments": {},
   "cell_type": "markdown",
   "metadata": {},
   "source": [
    "We added `catalog.apps.CatalogConfig`.  \n",
    "`catalog` is the folder name.  \n",
    "`catalog.apps` is the `apps.py` file in `catalog`.  \n",
    "`catalog.apps.CatalogConfig` is the name of the class that was generated for us when creating `catalog` in the `apps.py` file."
   ]
  },
  {
   "attachments": {},
   "cell_type": "markdown",
   "metadata": {},
   "source": [
    "The other things in `INSTALLED_APPS` and `MIDDLEWARE` allow for the Django Administration Site support and the functionality it uses."
   ]
  },
  {
   "attachments": {},
   "cell_type": "markdown",
   "metadata": {},
   "source": [
    "### Specifying the Database"
   ]
  },
  {
   "attachments": {},
   "cell_type": "markdown",
   "metadata": {},
   "source": [
    "We normally would specify the database to be used with the project. Usually we would use the same database for development and production. But we will just use SQLite because we won't expect a lot of concurrent access on this database. And requires no additional work to set it up. Here is the database configuration in the `settings.py`:"
   ]
  },
  {
   "cell_type": "code",
   "execution_count": null,
   "metadata": {},
   "outputs": [],
   "source": [
    "DATABASES = {\n",
    "    'default': {\n",
    "        'ENGINE': 'django.db.backends.sqlite3',\n",
    "        'NAME': BASE_DIR / 'db.sqlite3',\n",
    "    }\n",
    "}\n"
   ]
  },
  {
   "attachments": {},
   "cell_type": "markdown",
   "metadata": {},
   "source": [
    "Go <a href=\"https://docs.djangoproject.com/en/4.0/ref/settings/#databases\">Here</a> to learn more about using other databases."
   ]
  },
  {
   "attachments": {},
   "cell_type": "markdown",
   "metadata": {},
   "source": [
    "Other project settings you want to be aware of are:"
   ]
  },
  {
   "attachments": {},
   "cell_type": "markdown",
   "metadata": {},
   "source": [
    "* `TIME_ZONE`\n",
    "* `SECRET_KEY`: Used in part of Django's website security strategy. Protect this code in development. Or use a different code when in production.\n",
    "* `DEBUG`: Enables debugging logs to be displayed on error. **SET THIS TO `False` IN PRODUCTION**"
   ]
  },
  {
   "attachments": {},
   "cell_type": "markdown",
   "metadata": {},
   "source": [
    "### Hooking up the URL Mapper"
   ]
  },
  {
   "attachments": {},
   "cell_type": "markdown",
   "metadata": {},
   "source": [
    "The website that we see is made with the URL mapper file (`urls.py`) in the project folder `locallibrary`. "
   ]
  },
  {
   "cell_type": "code",
   "execution_count": null,
   "metadata": {},
   "outputs": [],
   "source": [
    "\"\"\"locallibrary URL Configuration\n",
    "\n",
    "The `urlpatterns` list routes URLs to views. For more information please see:\n",
    "    https://docs.djangoproject.com/en/4.0/topics/http/urls/\n",
    "Examples:\n",
    "Function views\n",
    "    1. Add an import:  from my_app import views\n",
    "    2. Add a URL to urlpatterns:  path('', views.home, name='home')\n",
    "Class-based views\n",
    "    1. Add an import:  from other_app.views import Home\n",
    "    2. Add a URL to urlpatterns:  path('', Home.as_view(), name='home')\n",
    "Including another URLconf\n",
    "    1. Import the include() function: from django.urls import include, path\n",
    "    2. Add a URL to urlpatterns:  path('blog/', include('blog.urls'))\n",
    "\"\"\"\n",
    "from django.contrib import admin\n",
    "from django.urls import path\n",
    "\n",
    "urlpatterns = [\n",
    "    path('admin/', admin.site.urls),\n",
    "]\n"
   ]
  },
  {
   "attachments": {},
   "cell_type": "markdown",
   "metadata": {},
   "source": [
    "As we learned before, `urlpatterns` is what manages the URL Mappings, which is a list of `path()` functions.  \n",
    "Each `path()` function does either:\n",
    "1. Associate a URL pattern to a SPECIFIC view, which will be displayed when the pattern is matched.\n",
    "2. Associate a URL pattern to ANOTHER list of URL pattern testing code. The pattern becomes the \"base URL\" for patterns defined in the target module.  \n"
   ]
  },
  {
   "attachments": {},
   "cell_type": "markdown",
   "metadata": {},
   "source": [
    "The `urlpatterns` INITIALLY defines a single function that maps all URLS with the pattern `admin/` to the module `admin.site.urls`, which contains the Administration application's own URL mapping definitions."
   ]
  },
  {
   "attachments": {},
   "cell_type": "markdown",
   "metadata": {},
   "source": [
    "The URL pattern, `'catalog/<id>/'`, will match with URLs like `'catalog/any_chars'`, where `any_chars` will get passed to the `catalog` view as a string as the parameter named `id`. We will look at this later."
   ]
  },
  {
   "attachments": {},
   "cell_type": "markdown",
   "metadata": {},
   "source": [
    "Lets add to the `urlpatterns` list:"
   ]
  },
  {
   "cell_type": "code",
   "execution_count": null,
   "metadata": {},
   "outputs": [],
   "source": [
    "# Use include() to add paths from the catalog application\n",
    "from django.urls import include\n",
    "\n",
    "urlpatterns += [\n",
    "    path('catalog/', include('catalog.urls')),\n",
    "]\n"
   ]
  },
  {
   "attachments": {},
   "cell_type": "markdown",
   "metadata": {},
   "source": [
    "Add the import to the top of the file, but make sure the rest goes to the bottom to append the path."
   ]
  },
  {
   "attachments": {},
   "cell_type": "markdown",
   "metadata": {},
   "source": [
    "From the code above, once we get an HTTP request with the pattern `'catalog/'`, it will forward the HTTP request to the `catalog.urls` module."
   ]
  },
  {
   "attachments": {},
   "cell_type": "markdown",
   "metadata": {},
   "source": [
    "Now we need to redirect the root URL of the site to the URL: `127.0.0.1:8000/catalog/`. This will be the only app we use for this project. We will use a special view function, `RedirectView`, which takes the new relative URL to redirect to (`/catalog/`) as its first argument when the URL pattern specified in the `path()` function is matched."
   ]
  },
  {
   "attachments": {},
   "cell_type": "markdown",
   "metadata": {},
   "source": [
    "We will add these lines to the bottom of the same file as well:"
   ]
  },
  {
   "cell_type": "code",
   "execution_count": null,
   "metadata": {},
   "outputs": [],
   "source": [
    "#Add URL maps to redirect the base URL to our application\n",
    "from django.views.generic import RedirectView\n",
    "urlpatterns += [\n",
    "    path('', RedirectView.as_view(url='catalog/', permanent=True)),\n",
    "]"
   ]
  },
  {
   "attachments": {},
   "cell_type": "markdown",
   "metadata": {},
   "source": [
    "As you can see, the first parameter of the path being `''`, is the same as `'/'`. You will get an error otherwise. Django DOES NOT serve static files like CSS, JavaScript, and images by default, so let's enable the serving of static files during development by using:"
   ]
  },
  {
   "cell_type": "code",
   "execution_count": null,
   "metadata": {},
   "outputs": [],
   "source": [
    "# Use static() to add URL mapping to serve static files during development (only)\n",
    "from django.conf import settings\n",
    "from django.conf.urls.static import static\n",
    "\n",
    "urlpatterns += static(settings.STATIC_URL, document_root=settings.STATIC_ROOT)"
   ]
  },
  {
   "attachments": {},
   "cell_type": "markdown",
   "metadata": {},
   "source": [
    "Now we can add `static()` paths to serve as well as `path()`. Note that we use a different way to append to `urlpatterns`, but it is the same in the end."
   ]
  },
  {
   "attachments": {},
   "cell_type": "markdown",
   "metadata": {},
   "source": [
    "Finally, we will create a file in the catalog folder called `urls.py`, and create an empty `urlpatterns` variable:"
   ]
  },
  {
   "cell_type": "code",
   "execution_count": null,
   "metadata": {},
   "outputs": [],
   "source": [
    "from django.urls import path\n",
    "from . import views\n",
    "\n",
    "urlpatterns = [\n",
    "\n",
    "]"
   ]
  },
  {
   "attachments": {},
   "cell_type": "markdown",
   "metadata": {},
   "source": [
    "### Testing the Website Framework"
   ]
  },
  {
   "attachments": {},
   "cell_type": "markdown",
   "metadata": {},
   "source": [
    "The website doesn't do anything yet, but let's make sure nothing is broken."
   ]
  },
  {
   "attachments": {},
   "cell_type": "markdown",
   "metadata": {},
   "source": [
    "We will need to run a **database migration**. This updates our database (to include any models installed in the app) and removes some build warnings."
   ]
  },
  {
   "attachments": {},
   "cell_type": "markdown",
   "metadata": {},
   "source": [
    "Django uses **Object-Relational-Mapper (ORM)** to map model definitions in the Django code to the data structure used by the underlying database. As we update the model definitions in Django, Django also makes database migration scripts in `catalog/migrations/` to automatically update the database's data structure to match Django's updated model."
   ]
  },
  {
   "attachments": {},
   "cell_type": "markdown",
   "metadata": {},
   "source": [
    "Django adds some models when first creating the website for the admin. We will use these commands in the command line to define tables (tables as in SQL) for the models in the database:"
   ]
  },
  {
   "cell_type": "code",
   "execution_count": null,
   "metadata": {
    "vscode": {
     "languageId": "shellscript"
    }
   },
   "outputs": [],
   "source": [
    "python manage.py makemigrations\n",
    "python manage.py migrate"
   ]
  },
  {
   "attachments": {},
   "cell_type": "markdown",
   "metadata": {},
   "source": [
    "`makemigrations` creates (doesn't apply) migrations for all apps in the project. Specify the app name to run a migration for that app.  \n",
    "`migrate` APPLIES the migrations to the database."
   ]
  },
  {
   "attachments": {},
   "cell_type": "markdown",
   "metadata": {},
   "source": [
    "Now run:  \n",
    "`python manage.py runserver`"
   ]
  },
  {
   "attachments": {},
   "cell_type": "markdown",
   "metadata": {},
   "source": [
    "You should get an error."
   ]
  },
  {
   "attachments": {},
   "cell_type": "markdown",
   "metadata": {},
   "source": [
    "The reason this happens is because there are no pages/urls in the `catalog.urls` module. Remember that when we get a URL to the root of the site, it goes here."
   ]
  },
  {
   "attachments": {},
   "cell_type": "markdown",
   "metadata": {},
   "source": [
    "Summary of what is going on:\n",
    "1. The URL: `127.0.0.1:8000/` is the root directory. Also known as just `''`.\n",
    "2. `urlpatterns` -> `[path('', RedirectView.as_view(url='catalog/', permanent=True))]` means that whenever we try going to the root directory in our browser, it will take us to the `'catalog/'` URL instead.\n",
    "3.` urlpatterns` -> `[path('catalog/', include('catalog.urls'))]` gets \"called\" because now we are redirected to `'catalog/'`. This line will forward the HTTP request into the `catalog.urls` module because of the `include()` function.\n",
    "4. The `urls.py` in the `catalog` now has the HTTP request.\n",
    "5. It errors because unlike: `path('admin/', admin.site.urls)`, which means that when the url is `admin/` use `admin.site.urls`, we have NOTHING."
   ]
  },
  {
   "attachments": {},
   "cell_type": "markdown",
   "metadata": {},
   "source": [
    "Question!!!  \n",
    "Try to go to the admin site when we get redirected from the `catalog.urls`."
   ]
  },
  {
   "attachments": {},
   "cell_type": "markdown",
   "metadata": {},
   "source": [
    "Answer!!!\n",
    "In the `catalog.urls` and in the `urlpatterns` list, we insert: `path('', admin.site.urls)`  \n",
    "The reason it is `''` instead of `'catalog/'`, is because we are already assuming we are in `'catalog'`."
   ]
  },
  {
   "attachments": {},
   "cell_type": "markdown",
   "metadata": {},
   "source": [
    "# Using Models"
   ]
  },
  {
   "attachments": {},
   "cell_type": "markdown",
   "metadata": {},
   "source": [
    "Django apps use data through Python objects called **models**. Models define the structure of stored data. Django handles the work of communicating with the database."
   ]
  },
  {
   "attachments": {},
   "cell_type": "markdown",
   "metadata": {},
   "source": [
    "We need to think about what data we need to store and the relationship between the different objects."
   ]
  },
  {
   "attachments": {},
   "cell_type": "markdown",
   "metadata": {},
   "source": [
    "We need to store info about books (like title, author, etc.), and might have multiple copies available. Might need more info about an author than just their name. We want to sort info based on book title, author, language, and category."
   ]
  },
  {
   "attachments": {},
   "cell_type": "markdown",
   "metadata": {},
   "source": [
    "When desiging models, try to have separate models for every \"object\" (a group of related info). So objects are books, book instances, and authors."
   ]
  },
  {
   "attachments": {},
   "cell_type": "markdown",
   "metadata": {},
   "source": [
    "You should also consider selection-list options. Like in this case, Action, Ficiton, Poetry, etc. If not, they can type anything."
   ]
  },
  {
   "attachments": {},
   "cell_type": "markdown",
   "metadata": {},
   "source": [
    "Once we decide the models and field, we should think about the relationships. Django allows for one to one, one to many, and many to many, relationship types."
   ]
  },
  {
   "attachments": {},
   "cell_type": "markdown",
   "metadata": {},
   "source": [
    "Here the UML association diagram below for the models we will define in this case:"
   ]
  },
  {
   "attachments": {},
   "cell_type": "markdown",
   "metadata": {},
   "source": [
    "<img src=\"local_library_model_uml.svg\" style=\"background-color: white\">"
   ]
  },
  {
   "attachments": {},
   "cell_type": "markdown",
   "metadata": {},
   "source": [
    "We have models for:\n",
    "* book: The generic details of the book\n",
    "* book instance: status of specific physical copies of the book available in the system\n",
    "* author: Details of an author\n",
    "* genre: so that values can be created/selected through the admin interface\n",
    "* language: same as above  "
   ]
  },
  {
   "attachments": {},
   "cell_type": "markdown",
   "metadata": {},
   "source": [
    "In each box, you can see the model's field names, types, and the methods with return types."
   ]
  },
  {
   "attachments": {},
   "cell_type": "markdown",
   "metadata": {},
   "source": [
    "The diagram also shows relationships between models and their *municipalities*. **Municipalities** include maximum and minimum number of each model that may be present in a relationship. For example, look at the `Book <-> Author` relationship. The `1` next to the `Author` means that for every book, there is only `1` author. The `1..*` means that there is a minimum of `1` `Book` per `Author`, and no maximum limit for the amount of `Book`s per `Author`."
   ]
  },
  {
   "attachments": {},
   "cell_type": "markdown",
   "metadata": {},
   "source": [
    "Let's define a model here:"
   ]
  },
  {
   "cell_type": "code",
   "execution_count": null,
   "metadata": {},
   "outputs": [],
   "source": [
    "from django.db import models\n",
    "from django.urls import reverse\n",
    "\n",
    "class MyModelName(models.Model):\n",
    "    \"\"\"A typical class defining a model, derived from the Model class.\"\"\"\n",
    "\n",
    "    # Fields\n",
    "    my_field_name = models.CharField(max_length=20, help_text='Enter field documentation')\n",
    "    # …\n",
    "\n",
    "    # Metadata\n",
    "    class Meta:\n",
    "        ordering = ['-my_field_name']\n",
    "\n",
    "    # Methods\n",
    "    def get_absolute_url(self):\n",
    "        \"\"\"Returns the URL to access a particular instance of MyModelName.\"\"\"\n",
    "        return reverse('model-detail-view', args=[str(self.id)])\n",
    "\n",
    "    def __str__(self):\n",
    "        \"\"\"String for representing the MyModelName object (in Admin site etc.).\"\"\"\n",
    "        return self.my_field_name\n"
   ]
  },
  {
   "attachments": {},
   "cell_type": "markdown",
   "metadata": {},
   "source": [
    "We define models in an app's `models.py` file. They are subclasses of `django.db.models.Model`. They include fields, methods, and metadata. The model above is a \"typical\" model, named `MyModelName`."
   ]
  },
  {
   "attachments": {},
   "cell_type": "markdown",
   "metadata": {},
   "source": [
    "### Fields"
   ]
  },
  {
   "attachments": {},
   "cell_type": "markdown",
   "metadata": {},
   "source": [
    "A model can have multiple fields of any type. Each one represents a column of data we want to store in our database table. Each database record will have one of each field value:"
   ]
  },
  {
   "cell_type": "code",
   "execution_count": null,
   "metadata": {},
   "outputs": [],
   "source": [
    "my_field_name = models.CharField(max_length=20, help_text='Enter field documentation')"
   ]
  },
  {
   "attachments": {},
   "cell_type": "markdown",
   "metadata": {},
   "source": [
    "Code above is a single field named `my_field_name`, of type `models.CharField`, means the field contains strings. Field types come from the `models` class like `models.CharField`. It also helps with validation when values are received from an HTML form. They also take arguments that specify how the field is stored or can be used."
   ]
  },
  {
   "attachments": {},
   "cell_type": "markdown",
   "metadata": {},
   "source": [
    "The order fields are declared affects the default order if a model is rendered in a form. Can be overridden."
   ]
  },
  {
   "attachments": {},
   "cell_type": "markdown",
   "metadata": {},
   "source": [
    "Common Field Arguments:\n",
    "* `help_text`: text label for HTML forms\n",
    "* `verbose_name`: name for the field used in field labels\n",
    "* `default`: default value for the field. Value or a callable object, called every time a new record is created.\n",
    "* `null`: If `True`, Django will store blank values as `NULL`. Default is `False`\n",
    "* `blank`: If `True`, field is allowed to be blank. Default is `False`, so Django's form validation will force you to enter a value.\n",
    "* `choices`: A group of choices for the field.\n",
    "* `primary_key`: If `True`, it is a special database column used to uniquely identify this record. If no field is primary, Django will automatically add a field for this purpose."
   ]
  },
  {
   "attachments": {},
   "cell_type": "markdown",
   "metadata": {},
   "source": [
    "<a href=\"https://docs.djangoproject.com/en/4.0/ref/models/fields/#field-options\">Here is a full list of field argument options.</a>"
   ]
  },
  {
   "attachments": {},
   "cell_type": "markdown",
   "metadata": {},
   "source": [
    "Common Field Types:\n",
    "* `CharField`: Short-to-mid sized fixed-length strings. MUST specify `max_length`.\n",
    "* `TextField`: Used for large arbitrary-length strings. May specify `max_length`, but only used when the field is displayed in forms. (Not enforced in Database level)\n",
    "* `IntegerField`: Stores integers.\n",
    "* `DateField`: Stores date info (Python `datetime.date`), and can use `auto_now=True` to set it to current time. `auto_now_add` to set when model is first created.\n",
    "* `DateTimeField`: Stores time info (Python `datetime.datetime`), same as above.\n",
    "* `EmailField`: Stores and validate emails\n",
    "* `FileField`: Upload files. Have parameters to define how and where the files are stored.\n",
    "* `ImageField`: Upload images. Same as above.\n",
    "* `AutoField`: Type of `IntegerField` that auto increments. A primary key of this type is automatically added for the model if no primary key is specified.\n",
    "* `ForeignKey`: Specify a 'one-to-many' relationship to another database model. The \"One\" is the model that has the \"key\".\n",
    "* `ManyToManyField`: Specify a 'many-to-many' relationship. Like a book can have several genres, and each genre can contain several books. These have an extra parameter `on_delete` to say what happens when the record is deleted."
   ]
  },
  {
   "attachments": {},
   "cell_type": "markdown",
   "metadata": {},
   "source": [
    "<a href=\"https://docs.djangoproject.com/en/4.0/ref/models/fields/#field-types\">Here is a full list of field type options.</a>"
   ]
  },
  {
   "attachments": {},
   "cell_type": "markdown",
   "metadata": {},
   "source": [
    "### Metadata"
   ]
  },
  {
   "cell_type": "code",
   "execution_count": null,
   "metadata": {},
   "outputs": [],
   "source": [
    "class Meta:\n",
    "    ordering = ['-my_field_name']"
   ]
  },
  {
   "attachments": {},
   "cell_type": "markdown",
   "metadata": {},
   "source": [
    "One good feature of this metadata is to control DEFAULT ordering of records returned on query. Here is another example:"
   ]
  },
  {
   "cell_type": "code",
   "execution_count": null,
   "metadata": {},
   "outputs": [],
   "source": [
    "ordering = ['title', '-pubdate']"
   ]
  },
  {
   "attachments": {},
   "cell_type": "markdown",
   "metadata": {},
   "source": [
    "Sorts the books by title from A-Z, and THEN by publication date inside each title, from newest to oldest."
   ]
  },
  {
   "attachments": {},
   "cell_type": "markdown",
   "metadata": {},
   "source": [
    "The \"-\" is there for reverse ordering"
   ]
  },
  {
   "attachments": {},
   "cell_type": "markdown",
   "metadata": {},
   "source": [
    "<a href=\"https://docs.djangoproject.com/en/4.0/ref/models/options/\">Here are the Model Metadata Options.</a>"
   ]
  },
  {
   "attachments": {},
   "cell_type": "markdown",
   "metadata": {},
   "source": [
    "### Methods"
   ]
  },
  {
   "attachments": {},
   "cell_type": "markdown",
   "metadata": {},
   "source": [
    "A model can have methods as well."
   ]
  },
  {
   "attachments": {},
   "cell_type": "markdown",
   "metadata": {},
   "source": [
    "All models need __str__() to return a string for each object. Used to see each record in the admin site, and other areas to refer to a model instance. Usually returns a title or name field from the model:"
   ]
  },
  {
   "cell_type": "code",
   "execution_count": null,
   "metadata": {},
   "outputs": [],
   "source": [
    "def __str__(self):\n",
    "    return self.my_field_name"
   ]
  },
  {
   "attachments": {},
   "cell_type": "markdown",
   "metadata": {},
   "source": [
    "Another common method is:"
   ]
  },
  {
   "cell_type": "code",
   "execution_count": null,
   "metadata": {},
   "outputs": [],
   "source": [
    "def get_absolute_url(self):\n",
    "    \"\"\"Returns the URL to access a particular instance of the model.\"\"\"\n",
    "    return reverse('model-detail-view', args=[str(self.id)])"
   ]
  },
  {
   "attachments": {},
   "cell_type": "markdown",
   "metadata": {},
   "source": [
    "This returns a URL to see each model record on the website. Django adds \"View on Site\" button on the Admin Site."
   ]
  },
  {
   "attachments": {},
   "cell_type": "markdown",
   "metadata": {},
   "source": [
    "We can define any method we want, to call them from code or templates (If they don't take any parameters)."
   ]
  },
  {
   "attachments": {},
   "cell_type": "markdown",
   "metadata": {},
   "source": [
    "### Model Management"
   ]
  },
  {
   "attachments": {},
   "cell_type": "markdown",
   "metadata": {},
   "source": [
    "After defining the model classes, we can create, update, or delete records and run queries. We will do this when defining our views, but here is a quick summary:"
   ]
  },
  {
   "attachments": {},
   "cell_type": "markdown",
   "metadata": {},
   "source": [
    "#### Create and modifying records"
   ]
  },
  {
   "cell_type": "code",
   "execution_count": null,
   "metadata": {},
   "outputs": [],
   "source": [
    "# Create a new record using the model's constructor.\n",
    "record = MyModelName(my_field_name=\"Instance #1\")\n",
    "\n",
    "# Save the object into the database.\n",
    "record.save()"
   ]
  },
  {
   "attachments": {},
   "cell_type": "markdown",
   "metadata": {},
   "source": [
    "Assuming we didn't self assign a primary key, the field name `id` will be automatically made and assigned as such. Assuming this is the first one, it will have a value of 1."
   ]
  },
  {
   "cell_type": "code",
   "execution_count": null,
   "metadata": {},
   "outputs": [],
   "source": [
    "# Access model field values using Python attributes.\n",
    "print(record.id) # should return 1 for the first record.\n",
    "print(record.my_field_name) # should print 'Instance #1'\n",
    "\n",
    "# Change record by modifying the fields, then calling save().\n",
    "record.my_field_name = \"New Instance Name\"\n",
    "record.save()"
   ]
  },
  {
   "attachments": {},
   "cell_type": "markdown",
   "metadata": {},
   "source": [
    "Code above should be self explanatory"
   ]
  },
  {
   "attachments": {},
   "cell_type": "markdown",
   "metadata": {},
   "source": [
    "#### Searching for records"
   ]
  },
  {
   "attachments": {},
   "cell_type": "markdown",
   "metadata": {},
   "source": [
    "Use the model's `objects` attribute, and using the `objects`' `all()` method to get a `QuerySet` to get all records. This `QuerySet` is iterable:"
   ]
  },
  {
   "cell_type": "code",
   "execution_count": null,
   "metadata": {},
   "outputs": [],
   "source": [
    "all_books = Book.objects.all()"
   ]
  },
  {
   "attachments": {},
   "cell_type": "markdown",
   "metadata": {},
   "source": [
    "Django's `filter()` method filters the returned `QuerySet` to match a particular criteria for the specified field:"
   ]
  },
  {
   "cell_type": "code",
   "execution_count": null,
   "metadata": {},
   "outputs": [],
   "source": [
    "wild_books = Book.objects.filter(title__contains='wild')\n",
    "number_wild_books = wild_books.count()"
   ]
  },
  {
   "attachments": {},
   "cell_type": "markdown",
   "metadata": {},
   "source": [
    "Note the format here:  \n",
    "`field_name__match_type`  \n",
    "In this case, `title` is `field_name` separated by `__` and `contains` is `match_type`."
   ]
  },
  {
   "attachments": {},
   "cell_type": "markdown",
   "metadata": {},
   "source": [
    "Most useful match types are: `icontains` (case insenstive), `iexact` (case insensitive exact match), `exact` (exact match), `in`, `gt` (greater than), `startswith`, etc.  \n",
    "<a href=\"https://docs.djangoproject.com/en/4.0/ref/models/querysets/#field-lookups\">Full list is here</a>"
   ]
  },
  {
   "attachments": {},
   "cell_type": "markdown",
   "metadata": {},
   "source": [
    "You can also filter a field that has a one-to-many relationship to another model. An example, is to filter for books with a specific genre pattern, where we need to index `name` through the `genre` field:"
   ]
  },
  {
   "cell_type": "code",
   "execution_count": null,
   "metadata": {},
   "outputs": [],
   "source": [
    "# Will match on: Fiction, Science fiction, non-fiction etc.\n",
    "books_containing_genre = Book.objects.filter(genre__name__icontains='fiction')"
   ]
  },
  {
   "attachments": {},
   "cell_type": "markdown",
   "metadata": {},
   "source": [
    "We can use double underscores to go through as many levels of relationship like many-to-many fields as we like. For example, a `Book` that has many different types, and using a \"cover\" relationship can use:"
   ]
  },
  {
   "cell_type": "code",
   "execution_count": null,
   "metadata": {},
   "outputs": [],
   "source": [
    "\n",
    "Book.objects.filter(type__cover__name__exact='hard')"
   ]
  },
  {
   "attachments": {},
   "cell_type": "markdown",
   "metadata": {},
   "source": [
    "<a href=\"https://docs.djangoproject.com/en/4.0/topics/db/queries/\">See here for more info on how to make queries</a>"
   ]
  },
  {
   "attachments": {},
   "cell_type": "markdown",
   "metadata": {},
   "source": [
    "## Defining the LocalLibrary Models"
   ]
  },
  {
   "attachments": {},
   "cell_type": "markdown",
   "metadata": {},
   "source": [
    "In our project, `catalog/models.py` we will create our models."
   ]
  },
  {
   "cell_type": "code",
   "execution_count": null,
   "metadata": {},
   "outputs": [],
   "source": [
    "class Genre(models.Model):\n",
    "    \"\"\"Model representing a book genre.\"\"\"\n",
    "    name = models.CharField(max_length=200, help_text='Enter a book genre (e.g. Science Fiction)')\n",
    "\n",
    "    def __str__(self):\n",
    "        \"\"\"String for representing the Model object.\"\"\"\n",
    "        return self.name"
   ]
  },
  {
   "cell_type": "code",
   "execution_count": null,
   "metadata": {},
   "outputs": [],
   "source": [
    "from django.urls import reverse # Used to generate URLs by reversing the URL patterns\n",
    "\n",
    "class Book(models.Model):\n",
    "    \"\"\"Model representing a book (but not a specific copy of a book).\"\"\"\n",
    "    title = models.CharField(max_length=200)\n",
    "\n",
    "    # Foreign Key used because book can only have one author, but authors can have multiple books\n",
    "    # Author is a string rather than an object because it hasn't been declared yet in the file\n",
    "    author = models.ForeignKey('Author', on_delete=models.SET_NULL, null=True)\n",
    "\n",
    "    summary = models.TextField(max_length=1000, help_text='Enter a brief description of the book')\n",
    "    isbn = models.CharField('ISBN', max_length=13, unique=True,\n",
    "                             help_text='13 Character <a href=\"https://www.isbn-international.org/content/what-isbn\">ISBN number</a>')\n",
    "\n",
    "    # ManyToManyField used because genre can contain many books. Books can cover many genres.\n",
    "    # Genre class has already been defined so we can specify the object above.\n",
    "    genre = models.ManyToManyField(Genre, help_text='Select a genre for this book')\n",
    "\n",
    "    def __str__(self):\n",
    "        \"\"\"String for representing the Model object.\"\"\"\n",
    "        return self.title\n",
    "\n",
    "    def get_absolute_url(self):\n",
    "        \"\"\"Returns the URL to access a detail record for this book.\"\"\"\n",
    "        return reverse('book-detail', args=[str(self.id)])"
   ]
  },
  {
   "attachments": {},
   "cell_type": "markdown",
   "metadata": {},
   "source": [
    "Note above, we set `isbn` field name to have a label of `ISBN`, and it has `unique=True` so every Book will be unique. `genre` is set to `ManyToManyField` because a book can have many genres, and a genre can have many books. The author is `ForeignKey` because each book will only have ONE author, but an author can have many books (In this implementation at least). Notice for both the genre and author field types, the first parameter can either be a string containing the name, or the actual model class."
   ]
  },
  {
   "attachments": {},
   "cell_type": "markdown",
   "metadata": {},
   "source": [
    "By default, `on_delete=models.CASCADE`, so if the author was deleted, this book would be deleted too!"
   ]
  },
  {
   "attachments": {},
   "cell_type": "markdown",
   "metadata": {},
   "source": [
    "`get_absolute_url()` returns a URL to access a record for this model. We will get this to work later."
   ]
  },
  {
   "cell_type": "code",
   "execution_count": null,
   "metadata": {},
   "outputs": [],
   "source": [
    "import uuid # Required for unique book instances\n",
    "\n",
    "class BookInstance(models.Model):\n",
    "    \"\"\"Model representing a specific copy of a book (i.e. that can be borrowed from the library).\"\"\"\n",
    "    id = models.UUIDField(primary_key=True, default=uuid.uuid4, help_text='Unique ID for this particular book across whole library')\n",
    "    book = models.ForeignKey('Book', on_delete=models.RESTRICT, null=True)\n",
    "    imprint = models.CharField(max_length=200)\n",
    "    due_back = models.DateField(null=True, blank=True)\n",
    "\n",
    "    LOAN_STATUS = (\n",
    "        ('m', 'Maintenance'),\n",
    "        ('o', 'On loan'),\n",
    "        ('a', 'Available'),\n",
    "        ('r', 'Reserved'),\n",
    "    )\n",
    "\n",
    "    status = models.CharField(\n",
    "        max_length=1,\n",
    "        choices=LOAN_STATUS,\n",
    "        blank=True,\n",
    "        default='m',\n",
    "        help_text='Book availability',\n",
    "    )\n",
    "\n",
    "    class Meta:\n",
    "        ordering = ['due_back']\n",
    "\n",
    "    def __str__(self):\n",
    "        \"\"\"String for representing the Model object.\"\"\"\n",
    "        return f'{self.id} ({self.book.title})'\n"
   ]
  },
  {
   "attachments": {},
   "cell_type": "markdown",
   "metadata": {},
   "source": [
    "Note the `book = ForeignKey`, because each book can have many copies, but a copy can only have one `Book`. `on_delete=models.RESTRICT` ensures `Book` cannot be deleted while referenced by a `BookInstance`. `UUIDField` is used to set `id` as `primary_key` for this model. `due_back` will have a date that can be null or blank if the book is available. `status` uses a selection list. Default is the `m` for the status, so books are initially created to be unavailable before they are stocked on the shelves. Note the `Meta` class for ordering."
   ]
  },
  {
   "cell_type": "code",
   "execution_count": null,
   "metadata": {},
   "outputs": [],
   "source": [
    "class Author(models.Model):\n",
    "    \"\"\"Model representing an author.\"\"\"\n",
    "    first_name = models.CharField(max_length=100)\n",
    "    last_name = models.CharField(max_length=100)\n",
    "    date_of_birth = models.DateField(null=True, blank=True)\n",
    "    date_of_death = models.DateField('Died', null=True, blank=True)\n",
    "\n",
    "    class Meta:\n",
    "        ordering = ['last_name', 'first_name']\n",
    "\n",
    "    def get_absolute_url(self):\n",
    "        \"\"\"Returns the URL to access a particular author instance.\"\"\"\n",
    "        return reverse('author-detail', args=[str(self.id)])\n",
    "\n",
    "    def __str__(self):\n",
    "        \"\"\"String for representing the Model object.\"\"\"\n",
    "        return f'{self.last_name}, {self.first_name}'\n"
   ]
  },
  {
   "attachments": {},
   "cell_type": "markdown",
   "metadata": {},
   "source": [
    "Now try this challenge:"
   ]
  },
  {
   "attachments": {},
   "cell_type": "markdown",
   "metadata": {},
   "source": [
    "Make a Language model, and how to represent them in the library website. We also then need to add them to the models.  \n",
    "Should \"language\" be associated with a `Book` or `BookInstance`, or something else?  \n",
    "Should different languages be represented using model, a text field, or hard-coded selection list?"
   ]
  },
  {
   "attachments": {},
   "cell_type": "markdown",
   "metadata": {},
   "source": [
    "Here is what I chose:  \n",
    "1. I want each `BookInstance` to have its own language.\n",
    "2. I will also keep it simple and use it as a text field."
   ]
  },
  {
   "attachments": {},
   "cell_type": "markdown",
   "metadata": {},
   "source": [
    "Now run the migrations"
   ]
  },
  {
   "attachments": {},
   "cell_type": "markdown",
   "metadata": {},
   "source": [
    "# Django Admin Site"
   ]
  },
  {
   "attachments": {},
   "cell_type": "markdown",
   "metadata": {},
   "source": [
    "Let's use the admin site to add some data."
   ]
  },
  {
   "attachments": {},
   "cell_type": "markdown",
   "metadata": {},
   "source": [
    "The Django admin app uses our models to automatically create, view, update, and delete records using the site area. It is also usefule to manage data in production, depending on website type. Django recommends for this to only be usable by admins, not ALL users."
   ]
  },
  {
   "attachments": {},
   "cell_type": "markdown",
   "metadata": {},
   "source": [
    "We just need to register the models to the admin application. We also need to create a \"superuser\", login, and create some data."
   ]
  },
  {
   "attachments": {},
   "cell_type": "markdown",
   "metadata": {},
   "source": [
    "## Registering Models"
   ]
  },
  {
   "attachments": {},
   "cell_type": "markdown",
   "metadata": {},
   "source": [
    "Open `/catalog/admin.py`, and add:"
   ]
  },
  {
   "cell_type": "code",
   "execution_count": null,
   "metadata": {},
   "outputs": [],
   "source": [
    "from django.contrib import admin\n",
    "from .models import Author, Genre, Book, BookInstance\n",
    "\n",
    "admin.site.register(Book)\n",
    "admin.site.register(Author)\n",
    "admin.site.register(Genre)\n",
    "admin.site.register(BookInstance)"
   ]
  },
  {
   "attachments": {},
   "cell_type": "markdown",
   "metadata": {},
   "source": [
    "## Creating a Superuser"
   ]
  },
  {
   "attachments": {},
   "cell_type": "markdown",
   "metadata": {},
   "source": [
    "We need a user with ***Staff*** status enabled to log in. This person also needs permissions to manage the objects. The superuser will have full access to the site by using `manage.py`. Call this command in the terminal:"
   ]
  },
  {
   "cell_type": "raw",
   "metadata": {},
   "source": [
    "python manage.py createsuperuser"
   ]
  },
  {
   "attachments": {},
   "cell_type": "markdown",
   "metadata": {},
   "source": [
    "You will be asked to make a username, email address, and password."
   ]
  },
  {
   "attachments": {},
   "cell_type": "markdown",
   "metadata": {},
   "source": [
    "Then restart the server to test the login."
   ]
  },
  {
   "attachments": {},
   "cell_type": "markdown",
   "metadata": {},
   "source": [
    "## Logging in and using the Site"
   ]
  },
  {
   "attachments": {},
   "cell_type": "markdown",
   "metadata": {},
   "source": [
    "Go to `http://127.0.0.1:8000/admin`, and enter the info you put in. (We get redirected to the login page first, then the `/admin`)"
   ]
  },
  {
   "attachments": {},
   "cell_type": "markdown",
   "metadata": {},
   "source": [
    "Once in, we see our models. We can see each model's records, and can edit each record through here. We can also click on `Add` to create a record through here instead of through code. Try to make a new `Book`, `Author`, and `Genre`."
   ]
  },
  {
   "attachments": {},
   "cell_type": "markdown",
   "metadata": {},
   "source": [
    "Now just add a bunch of data yourself here."
   ]
  },
  {
   "attachments": {},
   "cell_type": "markdown",
   "metadata": {},
   "source": [
    "Question, where do the names of each record come? (In the code)"
   ]
  },
  {
   "attachments": {},
   "cell_type": "markdown",
   "metadata": {},
   "source": [
    "Answer: It comes from the `__str__` method."
   ]
  },
  {
   "attachments": {},
   "cell_type": "markdown",
   "metadata": {},
   "source": [
    "The forms for editing/adding records are laid out in the declaration order you made."
   ]
  },
  {
   "attachments": {},
   "cell_type": "markdown",
   "metadata": {},
   "source": [
    "Here are some things to use to customize the admin interface:\n",
    "* List Views:\n",
    "    * Add more info/fields for each record.\n",
    "    * Add filters to select listed records, based on a selection value (like loan status)\n",
    "    * Add more options to actions menu in list views, and choose where the menu is displayed on the form.\n",
    "* Detail Views:\n",
    "    * Choose fields to display, with order, grouping, whether it can be edited, orientation, etc.\n",
    "    * Add fields to a record to allow inline editing. (Ability to add and edit book records when creating their author record)"
   ]
  },
  {
   "attachments": {},
   "cell_type": "markdown",
   "metadata": {},
   "source": [
    "\"List View\" is the screen when you see ALL of the records for that model.  \n",
    "\"Detail View\" is the screen when you look at an individual fields for a particular record."
   ]
  },
  {
   "attachments": {},
   "cell_type": "markdown",
   "metadata": {},
   "source": [
    "### ModelAdmin class"
   ]
  },
  {
   "attachments": {},
   "cell_type": "markdown",
   "metadata": {},
   "source": [
    "Change how a model is displayed in the admin interface by using this class, and register it with the model."
   ]
  },
  {
   "attachments": {},
   "cell_type": "markdown",
   "metadata": {},
   "source": [
    "We will start by adding `ModelAdmin` to `Author`."
   ]
  },
  {
   "attachments": {},
   "cell_type": "markdown",
   "metadata": {},
   "source": [
    "First we must comment out the original registration in `admin.py`:"
   ]
  },
  {
   "cell_type": "code",
   "execution_count": null,
   "metadata": {},
   "outputs": [],
   "source": [
    "# admin.site.register(Author)"
   ]
  },
  {
   "attachments": {},
   "cell_type": "markdown",
   "metadata": {},
   "source": [
    "Now add this to the same file instead:"
   ]
  },
  {
   "cell_type": "code",
   "execution_count": null,
   "metadata": {},
   "outputs": [],
   "source": [
    "# Define the admin class\n",
    "class AuthorAdmin(admin.ModelAdmin):\n",
    "    pass\n",
    "\n",
    "# Register the admin class with the associated model\n",
    "admin.site.register(Author, AuthorAdmin)\n"
   ]
  },
  {
   "attachments": {},
   "cell_type": "markdown",
   "metadata": {},
   "source": [
    "Do the same thing for `Book` and `BookInstance` models."
   ]
  },
  {
   "attachments": {},
   "cell_type": "markdown",
   "metadata": {},
   "source": [
    "But because our `ModelAdmin` classes only contain `pass`, they don't do anything yet!"
   ]
  },
  {
   "attachments": {},
   "cell_type": "markdown",
   "metadata": {},
   "source": [
    "### List View Configuration"
   ]
  },
  {
   "attachments": {},
   "cell_type": "markdown",
   "metadata": {},
   "source": [
    "We can use `list_display` for `ModelAdmin` to add additional fields to the view:"
   ]
  },
  {
   "cell_type": "code",
   "execution_count": null,
   "metadata": {},
   "outputs": [],
   "source": [
    "class AuthorAdmin(admin.ModelAdmin):\n",
    "    list_display = ('last_name', 'first_name', 'date_of_birth', 'date_of_death')"
   ]
  },
  {
   "attachments": {},
   "cell_type": "markdown",
   "metadata": {},
   "source": [
    "Instead of passing, use the code above for `AuthorAdmin`. Take a look at the author list in the site."
   ]
  },
  {
   "attachments": {},
   "cell_type": "markdown",
   "metadata": {},
   "source": [
    "Notice how we can view more of the fields in the list view now."
   ]
  },
  {
   "attachments": {},
   "cell_type": "markdown",
   "metadata": {},
   "source": [
    "Let's change the `Book` now:"
   ]
  },
  {
   "cell_type": "code",
   "execution_count": null,
   "metadata": {},
   "outputs": [],
   "source": [
    "class BookAdmin(admin.ModelAdmin):\n",
    "    list_display = ('title', 'author', 'display_genre')"
   ]
  },
  {
   "attachments": {},
   "cell_type": "markdown",
   "metadata": {},
   "source": [
    "Each `Book` has one `title` and `author`, but `genre` is a `ManyToManyField`, so we must define a `display_genre` function to get the information as a string. Here is the definition:"
   ]
  },
  {
   "cell_type": "code",
   "execution_count": null,
   "metadata": {},
   "outputs": [],
   "source": [
    "def display_genre(self):\n",
    "    \"\"\"Create a string for the Genre. This is required to display genre in Admin.\"\"\"\n",
    "    return ', '.join(genre.name for genre in self.genre.all()[:3])\n",
    "\n",
    "display_genre.short_description = 'Genre'"
   ]
  },
  {
   "attachments": {},
   "cell_type": "markdown",
   "metadata": {},
   "source": [
    "We will add the code above for the `Book` model as a method. What this does, is that it will return a string for the first three or less `genre` values for the book. It also makes a `short_description` that is used in the site for this method."
   ]
  },
  {
   "attachments": {},
   "cell_type": "markdown",
   "metadata": {},
   "source": [
    "Try to look at the records for each `Book`. And make sure you have a `Book` that has multiple `genre`s to test it out."
   ]
  },
  {
   "attachments": {},
   "cell_type": "markdown",
   "metadata": {},
   "source": [
    "Now lets add a filter attribute to the `ModelAdmin`:"
   ]
  },
  {
   "cell_type": "code",
   "execution_count": null,
   "metadata": {},
   "outputs": [],
   "source": [
    "class BookInstanceAdmin(admin.ModelAdmin):\n",
    "    list_filter = ('status', 'due_back')"
   ]
  },
  {
   "attachments": {},
   "cell_type": "markdown",
   "metadata": {},
   "source": [
    "Now the list view will have a filter box next to it, so we can choose dates and status to filter the values."
   ]
  },
  {
   "attachments": {},
   "cell_type": "markdown",
   "metadata": {},
   "source": [
    "### Detail View Configuration"
   ]
  },
  {
   "attachments": {},
   "cell_type": "markdown",
   "metadata": {},
   "source": [
    "Specify the fields that are displayed and how they are laid out:"
   ]
  },
  {
   "cell_type": "code",
   "execution_count": null,
   "metadata": {},
   "outputs": [],
   "source": [
    "class AuthorAdmin(admin.ModelAdmin):\n",
    "    list_display = ('last_name', 'first_name', 'date_of_birth', 'date_of_death')\n",
    "\n",
    "    fields = ['first_name', 'last_name', ('date_of_birth', 'date_of_death')]"
   ]
  },
  {
   "attachments": {},
   "cell_type": "markdown",
   "metadata": {},
   "source": [
    "`fields` attribute lists fields that will be displayed on the form, and in the order specified. Fields are vertically displayed by default, but use tuples in order to group them to display horizontaly."
   ]
  },
  {
   "attachments": {},
   "cell_type": "markdown",
   "metadata": {},
   "source": [
    "We can \"section\" the field's in the form, using the `fieldsets` attribute:"
   ]
  },
  {
   "cell_type": "code",
   "execution_count": null,
   "metadata": {},
   "outputs": [],
   "source": [
    "class BookInstanceAdmin(admin.ModelAdmin):\n",
    "    list_filter = ('status', 'due_back')\n",
    "\n",
    "    fieldsets = (\n",
    "        (None, {\n",
    "            'fields': ('book', 'imprint', 'id')\n",
    "        }),\n",
    "        ('Availability', {\n",
    "            'fields': ('status', 'due_back')\n",
    "        }),\n",
    "    )"
   ]
  },
  {
   "attachments": {},
   "cell_type": "markdown",
   "metadata": {},
   "source": [
    "Notice how each section has its own title. The first section has no title, while the next section's title is `Availability`."
   ]
  },
  {
   "attachments": {},
   "cell_type": "markdown",
   "metadata": {},
   "source": [
    "Sometimes you want to add associated records at the same time. Like have book info and info about copies on hand on the SAME detail view/page. To do this, use \"<a href=\"https://docs.djangoproject.com/en/4.0/ref/contrib/admin/#django.contrib.admin.ModelAdmin.inlines\">inlines</a>\": type either <a href=\"https://docs.djangoproject.com/en/4.0/ref/contrib/admin/#django.contrib.admin.TabularInline\">TabularInline</a> (horizontal layout), or <a href=\"https://docs.djangoproject.com/en/4.0/ref/contrib/admin/#django.contrib.admin.StackedInline\">StackedInline</a> (vertical layout)."
   ]
  },
  {
   "cell_type": "code",
   "execution_count": null,
   "metadata": {},
   "outputs": [],
   "source": [
    "class BooksInstanceInline(admin.TabularInline):\n",
    "    model = BookInstance\n",
    "\n",
    "class BookAdmin(admin.ModelAdmin):\n",
    "    list_display = ('title', 'author', 'display_genre')\n",
    "\n",
    "    inlines = [BooksInstanceInline]"
   ]
  },
  {
   "attachments": {},
   "cell_type": "markdown",
   "metadata": {},
   "source": [
    "Here, we are adding `BookInstance` info inline to the `Book` detail.  \n",
    "So when looking at a `Book`, we can also see its `BookInstance`'s associated with it."
   ]
  },
  {
   "attachments": {},
   "cell_type": "markdown",
   "metadata": {},
   "source": [
    "Question Time:"
   ]
  },
  {
   "attachments": {},
   "cell_type": "markdown",
   "metadata": {},
   "source": [
    "1. For the BookInstance list view, add code to display the book, status, due back date, and id (rather than the default `__str__()` text).\n",
    "2. Add an inline listing of Book items to the Author detail view using the same approach as we did for Book/BookInstance."
   ]
  },
  {
   "attachments": {},
   "cell_type": "markdown",
   "metadata": {},
   "source": [
    "# Creating the Home Page"
   ]
  },
  {
   "attachments": {},
   "cell_type": "markdown",
   "metadata": {},
   "source": [
    "The home page will show # of records for each model type, and provide sidebar navigation links to other pages."
   ]
  },
  {
   "attachments": {},
   "cell_type": "markdown",
   "metadata": {},
   "source": [
    "<img src=\"basic-django.png\">"
   ]
  },
  {
   "attachments": {},
   "cell_type": "markdown",
   "metadata": {},
   "source": [
    "We already finished the `Model` section, we will tackle these components next:\n",
    "* URL mappers to forward the supported URLs to the right view functions.\n",
    "* View functions to get the requested data from the models, create HTML page to display data, and return the pages to the user for the browser.\n",
    "* Templates to use."
   ]
  },
  {
   "attachments": {},
   "cell_type": "markdown",
   "metadata": {},
   "source": [
    "In this section, we will create the home page."
   ]
  },
  {
   "attachments": {},
   "cell_type": "markdown",
   "metadata": {},
   "source": [
    "## The Resource URLs"
   ]
  },
  {
   "attachments": {},
   "cell_type": "markdown",
   "metadata": {},
   "source": [
    "This `LocalLibrary` is \"read-only\" for end users. We will just have a home page, and pages to display list and detail views for books and authors. Here are the URLs we will need for the whole website:"
   ]
  },
  {
   "attachments": {},
   "cell_type": "markdown",
   "metadata": {},
   "source": [
    "* `catalog/`: The home page.\n",
    "* `catalog/books/`: List of all books.\n",
    "* `catalog/authors/`: List of all authors.\n",
    "* `catalog/book/<id>`: Detail view for a book, primary key of `<id>`.\n",
    "* `catalog/author/<id>`: Detail view for an author."
   ]
  },
  {
   "attachments": {},
   "cell_type": "markdown",
   "metadata": {},
   "source": [
    "First 3 URLs will ALWAYS query the same data: all of the data. The last two URLs will query only SPECIFIC data."
   ]
  },
  {
   "attachments": {},
   "cell_type": "markdown",
   "metadata": {},
   "source": [
    "## Creating the Home Page"
   ]
  },
  {
   "attachments": {},
   "cell_type": "markdown",
   "metadata": {},
   "source": [
    "This will contain some static HTML, and with \"counts\" of different records in the database."
   ]
  },
  {
   "attachments": {},
   "cell_type": "markdown",
   "metadata": {},
   "source": [
    "### URL Mapping"
   ]
  },
  {
   "attachments": {},
   "cell_type": "markdown",
   "metadata": {},
   "source": [
    "Try to remember what happens here in the `locallibrary/urls.py` file:"
   ]
  },
  {
   "cell_type": "code",
   "execution_count": null,
   "metadata": {},
   "outputs": [],
   "source": [
    "urlpatterns += [\n",
    "    path('catalog/', include('catalog.urls')),\n",
    "]"
   ]
  },
  {
   "attachments": {},
   "cell_type": "markdown",
   "metadata": {},
   "source": [
    "Basically, whenever there is a URL that starts/includes `'catalog/...'`, it will instead, route the REST of the URL after the `catalog/` to the `catalog.urls` file. This is where:"
   ]
  },
  {
   "cell_type": "code",
   "execution_count": null,
   "metadata": {},
   "outputs": [],
   "source": [
    "urlpatterns = [\n",
    "    path('', views.index, name='index'),\n",
    "]"
   ]
  },
  {
   "attachments": {},
   "cell_type": "markdown",
   "metadata": {},
   "source": [
    "In the code above, when the REST of the URL AFTER `catalog/` gets matched with this path, which is just `''`, it will call the `views.index()` view function that we defined in the `views.py`.   \n",
    "`name` is a unique identifier for this particular URL mapping.  \n",
    "Use the `name` to \"reverse\" the mapper: dynamically create a URL that points to the resource that the mapper is designed to handle. As an example:\n"
   ]
  },
  {
   "cell_type": "code",
   "execution_count": null,
   "metadata": {
    "vscode": {
     "languageId": "html"
    }
   },
   "outputs": [],
   "source": [
    "<a href=\"{% url 'index' %}\">Home</a>."
   ]
  },
  {
   "attachments": {},
   "cell_type": "markdown",
   "metadata": {},
   "source": [
    "When putting this in ANY page, we link it to our home page because `index` points to the \"home\" path."
   ]
  },
  {
   "attachments": {},
   "cell_type": "markdown",
   "metadata": {},
   "source": [
    "We can hard code it like: `<a href=\"/catalog/\">Home</a>`, but if we change the pattern for home page like `/catalog/index`, the template will not link correctly. So use reverse mapping."
   ]
  },
  {
   "attachments": {},
   "cell_type": "markdown",
   "metadata": {},
   "source": [
    "### View (function-based)"
   ]
  },
  {
   "attachments": {},
   "cell_type": "markdown",
   "metadata": {},
   "source": [
    "A view processes an HTTP request, gets the data from the database, and renders the data in an HTML page, and returns the HTML in an HTTP response. The **Index View** follows this: Fetches info about the NUMBER of `Book`, `BookInstance`, `Author`, and available `BookInstance`s records in the database, then passes it to an HTML template."
   ]
  },
  {
   "attachments": {},
   "cell_type": "markdown",
   "metadata": {},
   "source": [
    "Paste this in the `views.py`:"
   ]
  },
  {
   "cell_type": "code",
   "execution_count": null,
   "metadata": {},
   "outputs": [],
   "source": [
    "from .models import Book, Author, BookInstance, Genre\n",
    "\n",
    "def index(request):\n",
    "    \"\"\"View function for home page of site.\"\"\"\n",
    "\n",
    "    # Generate counts of some of the main objects\n",
    "    num_books = Book.objects.all().count()\n",
    "    num_instances = BookInstance.objects.all().count()\n",
    "\n",
    "    # Available books (status = 'a')\n",
    "    num_instances_available = BookInstance.objects.filter(status__exact='a').count()\n",
    "\n",
    "    # The 'all()' is implied by default.\n",
    "    num_authors = Author.objects.count()\n",
    "\n",
    "    context = {\n",
    "        'num_books': num_books,\n",
    "        'num_instances': num_instances,\n",
    "        'num_instances_available': num_instances_available,\n",
    "        'num_authors': num_authors,\n",
    "    }\n",
    "\n",
    "    # Render the HTML template index.html with the data in the context variable\n",
    "    return render(request, 'index.html', context=context)"
   ]
  },
  {
   "attachments": {},
   "cell_type": "markdown",
   "metadata": {},
   "source": [
    "First line will get the models we defined in `models.py`.  \n",
    "* `num_books = Book.objects.all().count()` will get the number of `Book` records.\n",
    "* `num_instances = BookInstance.objects.all().count()` will get number of `BookInstance` records.\n",
    "* `num_authors = Author.objects.count()` gets number of `Author` records.\n",
    "* `num_instances_available = BookInstance.objects.filter(status__exact='a').count()` gets number of AVAILABLE `BookInstance` records."
   ]
  },
  {
   "attachments": {},
   "cell_type": "markdown",
   "metadata": {},
   "source": [
    "We call `return render(...)` to make an HTML page as a response. `render()` accepts these parameters:\n",
    "* original `request` parameter\n",
    "* HTML template with placeholders for the data, which is `index.html`\n",
    "* `context` variable, containing the data to insert into the placeholders."
   ]
  },
  {
   "attachments": {},
   "cell_type": "markdown",
   "metadata": {},
   "source": [
    "### Template"
   ]
  },
  {
   "attachments": {},
   "cell_type": "markdown",
   "metadata": {},
   "source": [
    "A template is a text file defining the structure of a file like an HTML page, which uses placeholders to represent content."
   ]
  },
  {
   "attachments": {},
   "cell_type": "markdown",
   "metadata": {},
   "source": [
    "When making a Django application with the `startapp` command, it will look for templates in a folder named `'templates'`. So in the `render` method for the `index()` view function, it has the parameter `'index.html'`, and Django will look for it like: `locallibrary/catalog/templates/index.html`"
   ]
  },
  {
   "attachments": {},
   "cell_type": "markdown",
   "metadata": {},
   "source": [
    "Since each page will be very similar to each other, we can use a **Base template** that the pages use, and then extend them with their own code. Here is an example of a base teemplate:"
   ]
  },
  {
   "cell_type": "code",
   "execution_count": null,
   "metadata": {
    "vscode": {
     "languageId": "html"
    }
   },
   "outputs": [],
   "source": [
    "<!DOCTYPE html>\n",
    "<html lang=\"en\">\n",
    "<head>\n",
    "  {% block title %}<title>Local Library</title>{% endblock %}\n",
    "</head>\n",
    "<body>\n",
    "  {% block sidebar %}<!-- insert default navigation text for every page -->{% endblock %}\n",
    "  {% block content %}<!-- default content text (typically empty) -->{% endblock %}\n",
    "</body>\n",
    "</html>"
   ]
  },
  {
   "attachments": {},
   "cell_type": "markdown",
   "metadata": {},
   "source": [
    "In the example above, we have each section, title, sidebar, content, marked with the named `block` and `endblock` template tags. We can leave the blocks empty, or include default content to use. We will go over this later."
   ]
  },
  {
   "attachments": {},
   "cell_type": "markdown",
   "metadata": {},
   "source": [
    "Template tags are functions to use in a template to loop through lists, perform conditional operations, etc. We can also reference variables and use template filters to format the variables."
   ]
  },
  {
   "attachments": {},
   "cell_type": "markdown",
   "metadata": {},
   "source": [
    "When making a template for a certain view, we specify the BASE template using the `extends` template tag:"
   ]
  },
  {
   "cell_type": "code",
   "execution_count": null,
   "metadata": {
    "vscode": {
     "languageId": "html"
    }
   },
   "outputs": [],
   "source": [
    "{% extends \"base_generic.html\" %}"
   ]
  },
  {
   "attachments": {},
   "cell_type": "markdown",
   "metadata": {},
   "source": [
    "Then we declare what sections from the BASE template that we want to REPLACE, by using `block/endblock` sections like in the BASE template. In the example below, we override the `content` block:"
   ]
  },
  {
   "cell_type": "code",
   "execution_count": null,
   "metadata": {
    "vscode": {
     "languageId": "html"
    }
   },
   "outputs": [],
   "source": [
    "{% extends \"base_generic.html\" %}\n",
    "\n",
    "{% block content %}\n",
    "  <h1>Local Library Home</h1>\n",
    "  <p>Welcome to LocalLibrary, a website developed by <em>Mozilla Developer Network</em>!</p>\n",
    "{% endblock %}\n"
   ]
  },
  {
   "attachments": {},
   "cell_type": "markdown",
   "metadata": {},
   "source": [
    "The HTML will include the code and structure from the base template with the default content, but will use the `content` we made above instead."
   ]
  },
  {
   "attachments": {},
   "cell_type": "markdown",
   "metadata": {},
   "source": [
    "We will now use the code below as a base template. Make sure you save it as `base_generic.html` in `locallibrary/catalog/templates/`:"
   ]
  },
  {
   "cell_type": "code",
   "execution_count": null,
   "metadata": {
    "vscode": {
     "languageId": "html"
    }
   },
   "outputs": [],
   "source": [
    "<!DOCTYPE html>\n",
    "<html lang=\"en\">\n",
    "<head>\n",
    "  {% block title %}<title>Local Library</title>{% endblock %}\n",
    "  <meta charset=\"utf-8\">\n",
    "  <meta name=\"viewport\" content=\"width=device-width, initial-scale=1\">\n",
    "  <link href=\"https://cdn.jsdelivr.net/npm/bootstrap@5.1.3/dist/css/bootstrap.min.css\" rel=\"stylesheet\" integrity=\"sha384-1BmE4kWBq78iYhFldvKuhfTAU6auU8tT94WrHftjDbrCEXSU1oBoqyl2QvZ6jIW3\" crossorigin=\"anonymous\">\n",
    "  <!-- Add additional CSS in static file -->\n",
    "  {% load static %}\n",
    "  <link rel=\"stylesheet\" href=\"{% static 'css/styles.css' %}\">\n",
    "</head>\n",
    "<body>\n",
    "  <div class=\"container-fluid\">\n",
    "    <div class=\"row\">\n",
    "      <div class=\"col-sm-2\">\n",
    "      {% block sidebar %}\n",
    "        <ul class=\"sidebar-nav\">\n",
    "          <li><a href=\"{% url 'index' %}\">Home</a></li>\n",
    "          <li><a href=\"\">All books</a></li>\n",
    "          <li><a href=\"\">All authors</a></li>\n",
    "        </ul>\n",
    "     {% endblock %}\n",
    "      </div>\n",
    "      <div class=\"col-sm-10 \">{% block content %}{% endblock %}</div>\n",
    "    </div>\n",
    "  </div>\n",
    "</body>\n",
    "</html>"
   ]
  },
  {
   "attachments": {},
   "cell_type": "markdown",
   "metadata": {},
   "source": [
    "Note that the code above uses bootstrap! We also introduce two template tags: `url` and `load static`, which will be explained later."
   ]
  },
  {
   "attachments": {},
   "cell_type": "markdown",
   "metadata": {},
   "source": [
    "Also note the stylesheet that is being used. Make a `styles.css` file in `locallibrary/catalog/static/css/` and paste this in:"
   ]
  },
  {
   "cell_type": "code",
   "execution_count": null,
   "metadata": {
    "vscode": {
     "languageId": "html"
    }
   },
   "outputs": [],
   "source": [
    ".sidebar-nav {\n",
    "    margin-top: 20px;\n",
    "    padding: 0;\n",
    "    list-style: none;\n",
    "}  "
   ]
  },
  {
   "attachments": {},
   "cell_type": "markdown",
   "metadata": {},
   "source": [
    "Now we create the `index.html` file in `locallibrary/catalog/templates/` and paste this:"
   ]
  },
  {
   "cell_type": "code",
   "execution_count": null,
   "metadata": {
    "vscode": {
     "languageId": "html"
    }
   },
   "outputs": [],
   "source": [
    "{% extends \"base_generic.html\" %}\n",
    "\n",
    "{% block content %}\n",
    "  <h1>Local Library Home</h1>\n",
    "  <p>Welcome to LocalLibrary, a website developed by <em>Mozilla Developer Network</em>!</p>\n",
    "  <h2>Dynamic content</h2>\n",
    "  <p>The library has the following record counts:</p>\n",
    "  <ul>\n",
    "    <li><strong>Books:</strong> {{ num_books }}</li>\n",
    "    <li><strong>Copies:</strong> {{ num_instances }}</li>\n",
    "    <li><strong>Copies available:</strong> {{ num_instances_available }}</li>\n",
    "    <li><strong>Authors:</strong> {{ num_authors }}</li>\n",
    "  </ul>\n",
    "{% endblock %}"
   ]
  },
  {
   "attachments": {},
   "cell_type": "markdown",
   "metadata": {},
   "source": [
    "This replaces the `content` block from the base template we made above."
   ]
  },
  {
   "attachments": {},
   "cell_type": "markdown",
   "metadata": {},
   "source": [
    "Note the template variables use double braces: {{ num_books }}  \n",
    "Template tags use brace with percentage signs: {% extends ... %}"
   ]
  },
  {
   "attachments": {},
   "cell_type": "markdown",
   "metadata": {},
   "source": [
    "Template variable names are the KEYS that we pass into the `context` dictionary in the `render()` function of the `index` view function:"
   ]
  },
  {
   "cell_type": "code",
   "execution_count": null,
   "metadata": {},
   "outputs": [],
   "source": [
    "context = {\n",
    "    'num_books': num_books,\n",
    "    'num_instances': num_instances,\n",
    "    'num_instances_available': num_instances_available,\n",
    "    'num_authors': num_authors,\n",
    "}\n",
    "\n",
    "return render(request, 'index.html', context=context)"
   ]
  },
  {
   "attachments": {},
   "cell_type": "markdown",
   "metadata": {},
   "source": [
    "Note how they match."
   ]
  },
  {
   "attachments": {},
   "cell_type": "markdown",
   "metadata": {},
   "source": [
    "Because the location of static files might not be known or might change, Django lets us specify the location of the templates relative to the `STATIC_URL` global setting. By default, it sets the value of `STATIC_URL` to `'/static/'`, but we can host these elsewhere."
   ]
  },
  {
   "attachments": {},
   "cell_type": "markdown",
   "metadata": {},
   "source": [
    "In the base template, we call the `load` template tag, and specify `\"static\"` to add the template library:"
   ]
  },
  {
   "cell_type": "code",
   "execution_count": null,
   "metadata": {
    "vscode": {
     "languageId": "html"
    }
   },
   "outputs": [],
   "source": [
    "<!-- Add additional CSS in static file -->\n",
    "{% load static %}"
   ]
  },
  {
   "attachments": {},
   "cell_type": "markdown",
   "metadata": {},
   "source": [
    "Then use the `static` template tag and specify the relative URL to the required file:"
   ]
  },
  {
   "cell_type": "code",
   "execution_count": null,
   "metadata": {
    "vscode": {
     "languageId": "html"
    }
   },
   "outputs": [],
   "source": [
    "<link rel=\"stylesheet\" href=\"{% static 'css/styles.css' %}\" />"
   ]
  },
  {
   "attachments": {},
   "cell_type": "markdown",
   "metadata": {},
   "source": [
    "Here is a way to add an image into the page in a similar way:"
   ]
  },
  {
   "cell_type": "code",
   "execution_count": null,
   "metadata": {
    "vscode": {
     "languageId": "html"
    }
   },
   "outputs": [],
   "source": [
    "{% load static %}\n",
    "<img src=\"{% static 'catalog/images/local_library_model_uml.png' %}\" alt=\"UML diagram\" style=\"width:555px;height:540px;\" />"
   ]
  },
  {
   "attachments": {},
   "cell_type": "markdown",
   "metadata": {},
   "source": [
    "Look <a href=\"https://docs.djangoproject.com/en/4.0/howto/static-files/\">here</a> for more info on working with static files."
   ]
  },
  {
   "attachments": {},
   "cell_type": "markdown",
   "metadata": {},
   "source": [
    "Let's look at this line from the base template:"
   ]
  },
  {
   "cell_type": "code",
   "execution_count": null,
   "metadata": {
    "vscode": {
     "languageId": "html"
    }
   },
   "outputs": [],
   "source": [
    "<li><a href=\"{% url 'index' %}\">Home</a></li>"
   ]
  },
  {
   "attachments": {},
   "cell_type": "markdown",
   "metadata": {},
   "source": [
    "This `url` template tag accepts the NAME of a `path()` view function called in the `catalog/urls.py` and accepts the values for any arguments that the associated view function will receive, and returns a URL we can link to the resource."
   ]
  },
  {
   "attachments": {},
   "cell_type": "markdown",
   "metadata": {},
   "source": [
    "So the name `index` is used from:"
   ]
  },
  {
   "cell_type": "code",
   "execution_count": null,
   "metadata": {},
   "outputs": [],
   "source": [
    "path('', views.index, name='index')"
   ]
  },
  {
   "attachments": {},
   "cell_type": "markdown",
   "metadata": {},
   "source": [
    "Go <a href=\"https://docs.djangoproject.com/en/4.0/topics/templates/\">here</a> for more template info."
   ]
  },
  {
   "attachments": {},
   "cell_type": "markdown",
   "metadata": {},
   "source": [
    "Now RUN THE SERVER and open it in the \"home\" url, NOT the admin."
   ]
  },
  {
   "attachments": {},
   "cell_type": "markdown",
   "metadata": {},
   "source": [
    "Question Time:\n",
    "1. The LocalLibrary base template includes a title block. Override this block in the index template and create a new title for the page.\n",
    "2. Modify the view to generate counts for genres and books that contain a particular word (case insensitive), and pass the results to the context. You accomplish this in a similar way to creating and using num_books and num_instances_available. Then update the index template to include these variables."
   ]
  },
  {
   "attachments": {},
   "cell_type": "markdown",
   "metadata": {},
   "source": [
    "Answer:\n",
    "1. Just add `{% block title %}<title>Testing</title>{% endblock %}` to the top of the `index.html` but below the extends portion.\n",
    "2. Add `num_books_with_res = Book.objects.filter(title__icontains='res').count()` to the view, and add the right context using the variable."
   ]
  },
  {
   "attachments": {},
   "cell_type": "markdown",
   "metadata": {},
   "source": [
    "# Generic: List and Detail, Views"
   ]
  },
  {
   "attachments": {},
   "cell_type": "markdown",
   "metadata": {},
   "source": [
    "We will add list and detail pages for books and authors. The process is similar to creating the index page, where we use URL maps, views, and templates. But for the detail pages, we need to get the URL info, `<id>`, and pass it to the view. We will be using a COMPLETELY different type of view here: **Generic Class-Based List and Detail Views**. These will SIGNIFICANTLY reduce amount of view code needed."
   ]
  },
  {
   "attachments": {},
   "cell_type": "markdown",
   "metadata": {},
   "source": [
    "## Book List Page"
   ]
  },
  {
   "attachments": {},
   "cell_type": "markdown",
   "metadata": {},
   "source": [
    "In `catalog/urls.py`, we will add this new path:"
   ]
  },
  {
   "cell_type": "code",
   "execution_count": null,
   "metadata": {},
   "outputs": [],
   "source": [
    "urlpatterns = [\n",
    "    path('', views.index, name='index'),\n",
    "    path('books/', views.BookListView.as_view(), name='books'),\n",
    "]"
   ]
  },
  {
   "attachments": {},
   "cell_type": "markdown",
   "metadata": {},
   "source": [
    "This will run the `BookListView.as_view()`, view function when going to `catalog/books/`. The reason we have to do `.as_view()` is because we are implementing it as a class, which creates an instance of the class."
   ]
  },
  {
   "attachments": {},
   "cell_type": "markdown",
   "metadata": {},
   "source": [
    "We will be using a class-based generic list view, `ListView`, which is a class that inherits from an EXISITNG view. Since we are trying to \"LIST\" out records, we are using a `ListView`. This already implements the functionality we need."
   ]
  },
  {
   "attachments": {},
   "cell_type": "markdown",
   "metadata": {},
   "source": [
    "Put this code in the `views.py` file:"
   ]
  },
  {
   "cell_type": "code",
   "execution_count": null,
   "metadata": {},
   "outputs": [],
   "source": [
    "from django.views import generic\n",
    "\n",
    "class BookListView(generic.ListView):\n",
    "    model = Book\n"
   ]
  },
  {
   "attachments": {},
   "cell_type": "markdown",
   "metadata": {},
   "source": [
    "That's it. It will get all records from the `Book` model, and render the template: `/locallibrary/catalog/templates/catalog/book_list.html` which we will create below. We can access the LIST of books in the template variable, `object_list`, OR `book_list`. For other models, it is generically named:   \n",
    "`\"<the model name>_list\"`."
   ]
  },
  {
   "attachments": {},
   "cell_type": "markdown",
   "metadata": {},
   "source": [
    "### NOTE: the weird: `catalog/templates/catalog` is NOT wrong. By default, generic views look for templates in `/application_name/the_model_name_list.html` which is inside of `application_name/templates/`"
   ]
  },
  {
   "attachments": {},
   "cell_type": "markdown",
   "metadata": {},
   "source": [
    "You can add attributes to change the default behavior, like:"
   ]
  },
  {
   "cell_type": "code",
   "execution_count": null,
   "metadata": {},
   "outputs": [],
   "source": [
    "class BookListView(generic.ListView):\n",
    "    model = Book\n",
    "    context_object_name = 'book_list'   # your own name for the list as a template variable\n",
    "    queryset = Book.objects.filter(title__icontains='war')[:5] # Get 5 books containing the title war\n",
    "    template_name = 'books/my_arbitrary_template_name_list.html'  # Specify your own template name/location"
   ]
  },
  {
   "attachments": {},
   "cell_type": "markdown",
   "metadata": {},
   "source": [
    "In `queryset`, instead of getting ALL books, we get 5 books with the title, \"war\""
   ]
  },
  {
   "attachments": {},
   "cell_type": "markdown",
   "metadata": {},
   "source": [
    "We can also override the class methods, like:"
   ]
  },
  {
   "cell_type": "code",
   "execution_count": null,
   "metadata": {},
   "outputs": [],
   "source": [
    "class BookListView(generic.ListView):\n",
    "    model = Book\n",
    "\n",
    "    def get_queryset(self):\n",
    "        return Book.objects.filter(title__icontains='war')[:5] # Get 5 books containing the title war"
   ]
  },
  {
   "attachments": {},
   "cell_type": "markdown",
   "metadata": {},
   "source": [
    "Or"
   ]
  },
  {
   "cell_type": "code",
   "execution_count": null,
   "metadata": {},
   "outputs": [],
   "source": [
    "class BookListView(generic.ListView):\n",
    "    model = Book\n",
    "\n",
    "    def get_context_data(self, **kwargs):\n",
    "        # Call the base implementation first to get the context\n",
    "        context = super(BookListView, self).get_context_data(**kwargs)\n",
    "        # Create any data and add it to the context\n",
    "        context['some_data'] = 'This is just some data'\n",
    "        return context"
   ]
  },
  {
   "attachments": {},
   "cell_type": "markdown",
   "metadata": {},
   "source": [
    "When doing the pattern above, we must:\n",
    "* First get existing context from superclass\n",
    "* Then add new context info\n",
    "* Return the new context"
   ]
  },
  {
   "attachments": {},
   "cell_type": "markdown",
   "metadata": {},
   "source": [
    "### Go <a href=\"https://docs.djangoproject.com/en/4.0/topics/class-based-views/generic-display/\">here</a> for more examples of what we can do with generic views."
   ]
  },
  {
   "attachments": {},
   "cell_type": "markdown",
   "metadata": {},
   "source": [
    "Create a file, `catalog/templates/catalog/book_list.html `, and put in the text below:"
   ]
  },
  {
   "cell_type": "code",
   "execution_count": null,
   "metadata": {
    "vscode": {
     "languageId": "html"
    }
   },
   "outputs": [],
   "source": [
    "{% extends \"base_generic.html\" %}\n",
    "\n",
    "{% block content %}\n",
    "  <h1>Book List</h1>\n",
    "  {% if book_list %}\n",
    "  <ul>\n",
    "    {% for book in book_list %}\n",
    "      <li>\n",
    "        <a href=\"{{ book.get_absolute_url }}\">{{ book.title }}</a> ({{book.author}})\n",
    "      </li>\n",
    "    {% endfor %}\n",
    "  </ul>\n",
    "  {% else %}\n",
    "    <p>There are no books in the library.</p>\n",
    "  {% endif %}\n",
    "{% endblock %}"
   ]
  },
  {
   "attachments": {},
   "cell_type": "markdown",
   "metadata": {},
   "source": [
    "Most of the stuff here is self explanatory. Take note that the generic list view will pass the `context` by DEFAULT as `object_list` and `book_list`."
   ]
  },
  {
   "attachments": {},
   "cell_type": "markdown",
   "metadata": {},
   "source": [
    "But notice the `<a>` tag around the book title, and the attribute: `{{ book.get_absolute_url }}`. The `.get_absolute_url` is a function that gets the URL we can use to show the associated detail record. However this can only work if we don't have arguments because we CANNOT pass arguments!"
   ]
  },
  {
   "attachments": {},
   "cell_type": "markdown",
   "metadata": {},
   "source": [
    "Now we have to update the base template, and insert:"
   ]
  },
  {
   "cell_type": "code",
   "execution_count": null,
   "metadata": {
    "vscode": {
     "languageId": "html"
    }
   },
   "outputs": [],
   "source": [
    "<li><a href=\"{% url 'index' %}\">Home</a></li>\n",
    "<li><a href=\"{% url 'books' %}\">All books</a></li>\n",
    "<li><a href=\"\">All authors</a></li>"
   ]
  },
  {
   "attachments": {},
   "cell_type": "markdown",
   "metadata": {},
   "source": [
    "Why doesn't this work yet though?"
   ]
  },
  {
   "attachments": {},
   "cell_type": "markdown",
   "metadata": {},
   "source": [
    "How can you get it to work?"
   ]
  },
  {
   "attachments": {},
   "cell_type": "markdown",
   "metadata": {},
   "source": [
    "## Book Detail Page"
   ]
  },
  {
   "attachments": {},
   "cell_type": "markdown",
   "metadata": {},
   "source": [
    "We will go to a specific URL when looking for a specific book:  \n",
    "`catalog/book/<id>` (where `id` is the primary key for the book)  \n",
    "The page will show book fields, and also the available `BookInstance` copies."
   ]
  },
  {
   "attachments": {},
   "cell_type": "markdown",
   "metadata": {},
   "source": [
    "Add the line below in `catalog/urls.py`:"
   ]
  },
  {
   "cell_type": "code",
   "execution_count": null,
   "metadata": {},
   "outputs": [],
   "source": [
    "urlpatterns = [\n",
    "    path('', views.index, name='index'),\n",
    "    path('books/', views.BookListView.as_view(), name='books'),\n",
    "    path('book/<int:pk>', views.BookDetailView.as_view(), name='book-detail'),\n",
    "]"
   ]
  },
  {
   "attachments": {},
   "cell_type": "markdown",
   "metadata": {},
   "source": [
    "The `id` in the URL will be passed to the view as `\"id\"`. You can also precede the variable name with a <a href=\"https://docs.djangoproject.com/en/4.0/topics/http/urls/#path-converters\">converter</a> to specify the data type."
   ]
  },
  {
   "attachments": {},
   "cell_type": "markdown",
   "metadata": {},
   "source": [
    "`<int:pk>` gets the book id from the primary key, and formatted to fit `int`."
   ]
  },
  {
   "attachments": {},
   "cell_type": "markdown",
   "metadata": {},
   "source": [
    "**Generic class-based Detail Views** ***EXPECTS*** to be passed a parameter named `pk`. If we write a function view, we can use whatever parameter name we want."
   ]
  },
  {
   "attachments": {},
   "cell_type": "markdown",
   "metadata": {},
   "source": [
    "### Here, we will skip the \"Advanced Path Matching/Regular Expression\" section"
   ]
  },
  {
   "attachments": {},
   "cell_type": "markdown",
   "metadata": {},
   "source": [
    "We can also pass a dictionary with added options to the view, as a third un-named argument to `path()`. Here is an example:"
   ]
  },
  {
   "cell_type": "code",
   "execution_count": null,
   "metadata": {},
   "outputs": [],
   "source": [
    "path('myurl/<int:fish>', views.my_view, {'my_template_name': 'some_path'}, name='aurl'),"
   ]
  },
  {
   "attachments": {},
   "cell_type": "markdown",
   "metadata": {},
   "source": [
    "Now let's make a view:"
   ]
  },
  {
   "cell_type": "code",
   "execution_count": null,
   "metadata": {},
   "outputs": [],
   "source": [
    "class BookDetailView(generic.DetailView):\n",
    "    model = Book"
   ]
  },
  {
   "attachments": {},
   "cell_type": "markdown",
   "metadata": {},
   "source": [
    "Put the code above in the `views.py` file. Now we need to create a template called:  \n",
    "`locallibrary/catalog/templates/catalog/book_detail.html`, and the view will pass it the database info for the `Book` from the URL mapper. In the template, you can use the template variable named `object` OR `book`. It will generically be called `\"the_model_name\"`."
   ]
  },
  {
   "attachments": {},
   "cell_type": "markdown",
   "metadata": {},
   "source": [
    "Id the record does not exist, the the Detail View will raise `Http404` error. When using function based views, you will have to do it yourself."
   ]
  },
  {
   "attachments": {},
   "cell_type": "markdown",
   "metadata": {},
   "source": [
    "Now paste the code below in the `book_detail.html` we made:"
   ]
  },
  {
   "cell_type": "code",
   "execution_count": null,
   "metadata": {
    "vscode": {
     "languageId": "html"
    }
   },
   "outputs": [],
   "source": [
    "{% extends \"base_generic.html\" %}\n",
    "\n",
    "{% block content %}\n",
    "  <h1>Title: {{ book.title }}</h1>\n",
    "\n",
    "  <p><strong>Author:</strong> <a href=\"\">{{ book.author }}</a></p> <!-- author detail link not yet defined -->\n",
    "  <p><strong>Summary:</strong> {{ book.summary }}</p>\n",
    "  <p><strong>ISBN:</strong> {{ book.isbn }}</p>\n",
    "  <p><strong>Language:</strong> {{ book.language }}</p>\n",
    "  <p><strong>Genre:</strong> {{ book.genre.all|join:\", \" }}</p>\n",
    "\n",
    "  <div style=\"margin-left:20px;margin-top:20px\">\n",
    "    <h4>Copies</h4>\n",
    "\n",
    "    {% for copy in book.bookinstance_set.all %}\n",
    "      <hr>\n",
    "      <p class=\"{% if copy.status == 'a' %}text-success{% elif copy.status == 'm' %}text-danger{% else %}text-warning{% endif %}\">\n",
    "        {{ copy.get_status_display }}\n",
    "      </p>\n",
    "      {% if copy.status != 'a' %}\n",
    "        <p><strong>Due to be returned:</strong> {{ copy.due_back }}</p>\n",
    "      {% endif %}\n",
    "      <p><strong>Imprint:</strong> {{ copy.imprint }}</p>\n",
    "      <p class=\"text-muted\"><strong>Id:</strong> {{ copy.id }}</p>\n",
    "    {% endfor %}\n",
    "  </div>\n",
    "{% endblock %}\n"
   ]
  },
  {
   "attachments": {},
   "cell_type": "markdown",
   "metadata": {},
   "source": [
    "Note the author link in the code above is empty. We haven't made an author detail page to link to. Once it exists, we can get the URL with either:  \n",
    "* `<a href=\"{% url 'author-detail' book.author.pk %}\">{{ book.author }}</a>`\n",
    "* `<a href=\"{{ book.author.get_absolute_url }}\">{{ book.author }}</a>`"
   ]
  },
  {
   "attachments": {},
   "cell_type": "markdown",
   "metadata": {},
   "source": [
    "But using `get_absolute_url` is preferred."
   ]
  },
  {
   "attachments": {},
   "cell_type": "markdown",
   "metadata": {},
   "source": [
    "But look at `book.bookinstance_set.all`. What is this? It \"AUTOMAGICALLY\" returns the set of `BookInstance` records associated with the current `book`. We MUST use this method because we declared a `ForeignKey` (one-to-many) field ONLY in the \"many\" side, which is the `BookInstance`. We did NOT declare anything in the \"one\" side, `Book` side, it has NO WAY (no fields with `BookInstance`) to get the set of associated records. We use the \"reverse lookup\" function Django provides. The name of the function in this instance is `.bookinstance_set`, in general is the model name declared with `ForeignKey`, followed by `_set`."
   ]
  },
  {
   "attachments": {},
   "cell_type": "markdown",
   "metadata": {},
   "source": [
    "Note how we used the `.all` method to get all `BookInstance` records. We could use `filter()`, but we won't be able to do it directly in templates because we CANNOT pass arguments. We must also define an order in the class-based view or model, or we will get an error. So we must do one of these:\n",
    "1. Add an `ordering` inside a `class Meta` declaration on the model.\n",
    "2. Add a `queryset` attribute to the class-based view, with an `order_by()`.\n",
    "3. Add a `get_queryset` method to the class-based view, with an `order_by()`."
   ]
  },
  {
   "attachments": {},
   "cell_type": "markdown",
   "metadata": {},
   "source": [
    "Here is an example of the first option:"
   ]
  },
  {
   "cell_type": "code",
   "execution_count": null,
   "metadata": {},
   "outputs": [],
   "source": [
    "class Author(models.Model):\n",
    "    first_name = models.CharField(max_length=100)\n",
    "    last_name = models.CharField(max_length=100)\n",
    "    date_of_birth = models.DateField(null=True, blank=True)\n",
    "    date_of_death = models.DateField('Died', null=True, blank=True)\n",
    "\n",
    "    def get_absolute_url(self):\n",
    "        return reverse('author-detail', args=[str(self.id)])\n",
    "\n",
    "    def __str__(self):\n",
    "        return f'{self.last_name}, {self.first_name}'\n",
    "\n",
    "    class Meta:\n",
    "        ordering = ['last_name']"
   ]
  },
  {
   "attachments": {},
   "cell_type": "markdown",
   "metadata": {},
   "source": [
    "Also note in the template: `copy.get_status_display`, which is a function to get the current value of the field, because `status` is a choices field. If there was another choice field named, `x`, we would use: `copy.get_x_display`."
   ]
  },
  {
   "attachments": {},
   "cell_type": "markdown",
   "metadata": {},
   "source": [
    "## Pagination"
   ]
  },
  {
   "attachments": {},
   "cell_type": "markdown",
   "metadata": {},
   "source": [
    "You know how there are \"Show 25 products\" \"Show 50 products\", and then the different pages like page 1, 2, 3... That is pagination. We need to add pagination to our list views to reduce the number of items displayed on each page. (If you have alot). Django has this built into the generic class-list based List Views."
   ]
  },
  {
   "attachments": {},
   "cell_type": "markdown",
   "metadata": {},
   "source": [
    "In `views.py`, add this:"
   ]
  },
  {
   "cell_type": "code",
   "execution_count": null,
   "metadata": {},
   "outputs": [],
   "source": [
    "class BookListView(generic.ListView):\n",
    "    model = Book\n",
    "    paginate_by = 10"
   ]
  },
  {
   "attachments": {},
   "cell_type": "markdown",
   "metadata": {},
   "source": [
    "As soon as we have MORE than 10 records, it will start to paginate the data it sends to the template. Different pages are accessed with the `GET` parameters. To access page 2, it would be `catalog/books/?page=2`."
   ]
  },
  {
   "attachments": {},
   "cell_type": "markdown",
   "metadata": {},
   "source": [
    "Now we need to add support to the template to scroll through the results set. Since we want to paginate ALL List views, we add it to the base template. Add this in the `base_generic.html`, and right AFTER the `{% block content %}{% endblock %}`:"
   ]
  },
  {
   "cell_type": "code",
   "execution_count": null,
   "metadata": {
    "vscode": {
     "languageId": "html"
    }
   },
   "outputs": [],
   "source": [
    "{% block pagination %}\n",
    "    {% if is_paginated %}\n",
    "        <div class=\"pagination\">\n",
    "            <span class=\"page-links\">\n",
    "                {% if page_obj.has_previous %}\n",
    "                    <a href=\"{{ request.path }}?page={{ page_obj.previous_page_number }}\">previous</a>\n",
    "                {% endif %}\n",
    "                <span class=\"page-current\">\n",
    "                    Page {{ page_obj.number }} of {{ page_obj.paginator.num_pages }}.\n",
    "                </span>\n",
    "                {% if page_obj.has_next %}\n",
    "                    <a href=\"{{ request.path }}?page={{ page_obj.next_page_number }}\">next</a>\n",
    "                {% endif %}\n",
    "            </span>\n",
    "        </div>\n",
    "    {% endif %}\n",
    "  {% endblock %}"
   ]
  },
  {
   "attachments": {},
   "cell_type": "markdown",
   "metadata": {},
   "source": [
    "This FIRST checks if pagination is enabled on a current page. It then ADDS the *next* and *previous* links with the current page number."
   ]
  },
  {
   "attachments": {},
   "cell_type": "markdown",
   "metadata": {},
   "source": [
    "`page_obj` is a <a href=\"https://docs.djangoproject.com/en/4.0/topics/pagination/#paginator-objects\">Paginator</a> object that exists IF pagination is being used. It lets use get the current page, previous pages, how many pages there are, etc. We use `{{ request.path}}` to get the current page URL to make the pagination links."
   ]
  },
  {
   "attachments": {},
   "cell_type": "markdown",
   "metadata": {},
   "source": [
    "Test this out with different `paginate_by` numbers."
   ]
  },
  {
   "attachments": {},
   "cell_type": "markdown",
   "metadata": {},
   "source": [
    "Question Time:\n",
    "Create the author detail and list views. Use these URLs:\n",
    "1. `catalog/authors/` for the list views\n",
    "2. `catalog/author/<id>` for the specific author with a primary key field named `<id>`, also display all of the books that they wrote."
   ]
  },
  {
   "attachments": {},
   "cell_type": "markdown",
   "metadata": {},
   "source": [
    "# Sessions Framework"
   ]
  },
  {
   "attachments": {},
   "cell_type": "markdown",
   "metadata": {},
   "source": [
    "Communication between web browsers and servers is via `HTTP`, which is stateless. If we want to have a site to keep track of ongoing relationships with a client, we must implement it ourselves."
   ]
  },
  {
   "attachments": {},
   "cell_type": "markdown",
   "metadata": {},
   "source": [
    "Sessions is what Django and most of the internet uses to keep track of \"state\" between the site and a browser. Sessions let us store data per browser, and have it available to the site when the browser connects. Data items with the session is referenced by a \"key\", used to store and retrieve data. Django uses a cookie to identify each browser and the session with the site. Session data is stored in the site database by default. This location is a good and safe option."
   ]
  },
  {
   "attachments": {},
   "cell_type": "markdown",
   "metadata": {},
   "source": [
    "Sessions were set up for us here in the `settings.py` file:"
   ]
  },
  {
   "cell_type": "code",
   "execution_count": null,
   "metadata": {},
   "outputs": [],
   "source": [
    "INSTALLED_APPS = [\n",
    "    # …\n",
    "    'django.contrib.sessions',\n",
    "    # …\n",
    "\n",
    "MIDDLEWARE = [\n",
    "    # …\n",
    "    'django.contrib.sessions.middleware.SessionMiddleware',\n",
    "    # …"
   ]
  },
  {
   "attachments": {},
   "cell_type": "markdown",
   "metadata": {},
   "source": [
    "We access the `session` attribute in a view from the `request` parameter. `session` represents the connection to the browser identified by the session id in the browser's cookie. `session` is a \"dictionary-like\" object we can read and write as many times as we want in our view. We use the standard Python \"dictionary\" API to get and set values. Like this:"
   ]
  },
  {
   "cell_type": "code",
   "execution_count": null,
   "metadata": {},
   "outputs": [],
   "source": [
    "# Get a session value by its key (e.g. 'my_car'), raising a KeyError if the key is not present\n",
    "my_car = request.session['my_car']\n",
    "\n",
    "# Get a session value, setting a default if it is not present ('mini')\n",
    "my_car = request.session.get('my_car', 'mini')\n",
    "\n",
    "# Set a session value\n",
    "request.session['my_car'] = 'mini'\n",
    "\n",
    "# Delete a session value\n",
    "del request.session['my_car']"
   ]
  },
  {
   "attachments": {},
   "cell_type": "markdown",
   "metadata": {},
   "source": [
    "The API also gives us other methods to manage the session cookie. Look <a href=\"https://docs.djangoproject.com/en/4.0/topics/http/sessions/\">here</a> for more info."
   ]
  },
  {
   "attachments": {},
   "cell_type": "markdown",
   "metadata": {},
   "source": [
    "# This is detected as an update to the session, so session data is saved.\n",
    "request.session['my_car'] = 'mini'"
   ]
  },
  {
   "attachments": {},
   "cell_type": "markdown",
   "metadata": {},
   "source": [
    "Compare the example above to the one below:"
   ]
  },
  {
   "cell_type": "code",
   "execution_count": null,
   "metadata": {},
   "outputs": [],
   "source": [
    "# Session object not directly modified, only data within the session. Session changes not saved!\n",
    "request.session['my_car']['wheels'] = 'alloy'\n",
    "\n",
    "# Set session as modified to force data updates/cookie to be saved.\n",
    "request.session.modified = True"
   ]
  },
  {
   "attachments": {},
   "cell_type": "markdown",
   "metadata": {},
   "source": [
    "Here is an example to get visit counts. Put this in `views.py`, and add the lines with `num_visits` into `index()`:"
   ]
  },
  {
   "cell_type": "code",
   "execution_count": null,
   "metadata": {},
   "outputs": [],
   "source": [
    "def index(request):\n",
    "    # …\n",
    "\n",
    "    num_authors = Author.objects.count()  # The 'all()' is implied by default.\n",
    "\n",
    "    # Number of visits to this view, as counted in the session variable.\n",
    "    num_visits = request.session.get('num_visits', 0)\n",
    "    request.session['num_visits'] = num_visits + 1\n",
    "\n",
    "    context = {\n",
    "        'num_books': num_books,\n",
    "        'num_instances': num_instances,\n",
    "        'num_instances_available': num_instances_available,\n",
    "        'num_authors': num_authors,\n",
    "        'num_visits': num_visits,\n",
    "    }\n",
    "\n",
    "    # Render the HTML template index.html with the data in the context variable.\n",
    "    return render(request, 'index.html', context=context)\n"
   ]
  },
  {
   "attachments": {},
   "cell_type": "markdown",
   "metadata": {},
   "source": [
    "Then add this line to the bottom of the `index.html` home page:"
   ]
  },
  {
   "cell_type": "code",
   "execution_count": null,
   "metadata": {
    "vscode": {
     "languageId": "html"
    }
   },
   "outputs": [],
   "source": [
    "<p>You have visited this page {{ num_visits }} time{{ num_visits|pluralize }}.</p>"
   ]
  },
  {
   "attachments": {},
   "cell_type": "markdown",
   "metadata": {},
   "source": [
    "The `pluarlize` template tag will add an \"s\" when `num_visits` is more than 1."
   ]
  },
  {
   "attachments": {},
   "cell_type": "markdown",
   "metadata": {},
   "source": [
    "# User Authentication and Permissions"
   ]
  },
  {
   "attachments": {},
   "cell_type": "markdown",
   "metadata": {},
   "source": [
    "The session framwork includes built-in models for `Users` and `Groups`, permissions/flags to say what a user can do, foorms and views for logging in users, and view tools for restricting content."
   ]
  },
  {
   "attachments": {},
   "cell_type": "markdown",
   "metadata": {},
   "source": [
    "You can use third-party packages for more complex features."
   ]
  },
  {
   "attachments": {},
   "cell_type": "markdown",
   "metadata": {},
   "source": [
    "Authentication is automatically made when creating the skeleton website, shown in `locallibrary/localllibrary/settings.py`:"
   ]
  },
  {
   "cell_type": "code",
   "execution_count": null,
   "metadata": {},
   "outputs": [],
   "source": [
    "INSTALLED_APPS = [\n",
    "    # …\n",
    "    'django.contrib.auth',  # Core authentication framework and its default models.\n",
    "    'django.contrib.contenttypes',  # Django content type system (allows permissions to be associated with models).\n",
    "    # …\n",
    "\n",
    "MIDDLEWARE = [\n",
    "    # …\n",
    "    'django.contrib.sessions.middleware.SessionMiddleware',  # Manages sessions across requests\n",
    "    # …\n",
    "    'django.contrib.auth.middleware.AuthenticationMiddleware',  # Associates users with requests using sessions.\n",
    "    # …\n"
   ]
  },
  {
   "attachments": {},
   "cell_type": "markdown",
   "metadata": {},
   "source": [
    "We created a user using the console command: `python manage.py createsuperuser`. We will use the admin site to create the groups and website logins."
   ]
  },
  {
   "attachments": {},
   "cell_type": "markdown",
   "metadata": {},
   "source": [
    "Here is how to create users programmatically:"
   ]
  },
  {
   "cell_type": "code",
   "execution_count": null,
   "metadata": {},
   "outputs": [],
   "source": [
    "from django.contrib.auth.models import User\n",
    "\n",
    "# Create user and save to the database\n",
    "user = User.objects.create_user('myusername', 'myemail@crazymail.com', 'mypassword')\n",
    "\n",
    "# Update fields and then save again\n",
    "user.first_name = 'Tyrone'\n",
    "user.last_name = 'Citizen'\n",
    "user.save()"
   ]
  },
  {
   "attachments": {},
   "cell_type": "markdown",
   "metadata": {},
   "source": [
    "You would do this in order to allow ordinary users to create their own logins. You should set up a custom user MODEL for this. Go <a href=\"https://docs.djangoproject.com/en/4.0/topics/auth/customizing/#using-a-custom-user-model-when-starting-a-project\">here</a> for more info."
   ]
  },
  {
   "attachments": {},
   "cell_type": "markdown",
   "metadata": {},
   "source": [
    "Go to the admin site, and create a \"Library Members\" Group. We won't need any permissions, so press SAVE."
   ]
  },
  {
   "attachments": {},
   "cell_type": "markdown",
   "metadata": {},
   "source": [
    "Now let's add a user, and enter a username and password for the test user. Click save then you will be able to change the first name, last name, email, and the status/permissions (Active is set). You can also see the dates related to the user."
   ]
  },
  {
   "attachments": {},
   "cell_type": "markdown",
   "metadata": {},
   "source": [
    "In the groups section of THIS user, go to the \"Library Members\" group, to move it to the \"Chosen groups\" box. Then click SAVE and go to the list of users."
   ]
  },
  {
   "attachments": {},
   "cell_type": "markdown",
   "metadata": {},
   "source": [
    "## Authentication Views"
   ]
  },
  {
   "attachments": {},
   "cell_type": "markdown",
   "metadata": {},
   "source": [
    "Django provides login, logout, and password management \"out the box\" for authentication pages. It has a URL mapper, views and forms, but NOT templates, so we will make out own."
   ]
  },
  {
   "attachments": {},
   "cell_type": "markdown",
   "metadata": {},
   "source": [
    "Add this at the bottom of `locallibrary/urls.py`:"
   ]
  },
  {
   "cell_type": "code",
   "execution_count": null,
   "metadata": {},
   "outputs": [],
   "source": [
    "# Add Django site authentication urls (for login, logout, password management)\n",
    "\n",
    "urlpatterns += [\n",
    "    path('accounts/', include('django.contrib.auth.urls')),\n",
    "]"
   ]
  },
  {
   "attachments": {},
   "cell_type": "markdown",
   "metadata": {},
   "source": [
    "What the above code does, adds the following URLs with names in square brackets to reverse the URL mappings, AND also adds these views:"
   ]
  },
  {
   "cell_type": "code",
   "execution_count": null,
   "metadata": {},
   "outputs": [],
   "source": [
    "accounts/ login/ [name='login']\n",
    "accounts/ logout/ [name='logout']\n",
    "accounts/ password_change/ [name='password_change']\n",
    "accounts/ password_change/done/ [name='password_change_done']\n",
    "accounts/ password_reset/ [name='password_reset']\n",
    "accounts/ password_reset/done/ [name='password_reset_done']\n",
    "accounts/ reset/<uidb64>/<token>/ [name='password_reset_confirm']\n",
    "accounts/ reset/done/ [name='password_reset_complete']"
   ]
  },
  {
   "attachments": {},
   "cell_type": "markdown",
   "metadata": {},
   "source": [
    "If you go to the url: `http://127.0.0.1:8000/accounts/`, you will get an error. Now try to go to this url: `http://127.0.0.1:8000/accounts/login/`. It will still fail, but only because we are missing a template, `registration/login.html` on the search path. We will now add it."
   ]
  },
  {
   "attachments": {},
   "cell_type": "markdown",
   "metadata": {},
   "source": [
    "Make the `/registration/` folder like:"
   ]
  },
  {
   "cell_type": "raw",
   "metadata": {},
   "source": [
    "locallibrary/   # Django project folder\n",
    "  catalog/\n",
    "  locallibrary/\n",
    "  templates/\n",
    "    registration/"
   ]
  },
  {
   "attachments": {},
   "cell_type": "markdown",
   "metadata": {},
   "source": [
    "Because we are adding it to the base `templates` folder, we need a way for it to be visible to the template loader, unlike the other templates we made. Open, `locallibrary/locallibrary/settings.py` and add this at the top:"
   ]
  },
  {
   "cell_type": "code",
   "execution_count": null,
   "metadata": {},
   "outputs": [],
   "source": [
    "import os # needed by code below"
   ]
  },
  {
   "attachments": {},
   "cell_type": "markdown",
   "metadata": {},
   "source": [
    "Then update:"
   ]
  },
  {
   "cell_type": "code",
   "execution_count": null,
   "metadata": {},
   "outputs": [],
   "source": [
    "    # …\n",
    "    TEMPLATES = [\n",
    "      {\n",
    "       # …\n",
    "       'DIRS': [os.path.join(BASE_DIR, 'templates')],\n",
    "       'APP_DIRS': True,\n",
    "       # …\n"
   ]
  },
  {
   "attachments": {},
   "cell_type": "markdown",
   "metadata": {},
   "source": [
    "Then create a new HTML file, `/locallibrary/templates/registration/login.html` and put:"
   ]
  },
  {
   "cell_type": "code",
   "execution_count": null,
   "metadata": {
    "vscode": {
     "languageId": "html"
    }
   },
   "outputs": [],
   "source": [
    "{% extends \"base_generic.html\" %}\n",
    "\n",
    "{% block content %}\n",
    "\n",
    "  {% if form.errors %}\n",
    "    <p>Your username and password didn't match. Please try again.</p>\n",
    "  {% endif %}\n",
    "\n",
    "  {% if next %}\n",
    "    {% if user.is_authenticated %}\n",
    "      <p>Your account doesn't have access to this page. To proceed,\n",
    "      please login with an account that has access.</p>\n",
    "    {% else %}\n",
    "      <p>Please login to see this page.</p>\n",
    "    {% endif %}\n",
    "  {% endif %}\n",
    "\n",
    "  <form method=\"post\" action=\"{% url 'login' %}\">\n",
    "    {% csrf_token %}\n",
    "    <table>\n",
    "      <tr>\n",
    "        <td>{{ form.username.label_tag }}</td>\n",
    "        <td>{{ form.username }}</td>\n",
    "      </tr>\n",
    "      <tr>\n",
    "        <td>{{ form.password.label_tag }}</td>\n",
    "        <td>{{ form.password }}</td>\n",
    "      </tr>\n",
    "    </table>\n",
    "    <input type=\"submit\" value=\"login\">\n",
    "    <input type=\"hidden\" name=\"next\" value=\"{{ next }}\">\n",
    "  </form>\n",
    "\n",
    "  {# Assumes you setup the password_reset view in your URLconf #}\n",
    "  <p><a href=\"{% url 'password_reset' %}\">Lost password?</a></p>\n",
    "\n",
    "{% endblock %}"
   ]
  },
  {
   "attachments": {},
   "cell_type": "markdown",
   "metadata": {},
   "source": [
    "There is some standard `form` handling code, which we will look at later. This displays a form where we can enter a username and password, and if it errors, we will have to enter correct values when the page refreshes. Now we go back to: `http://127.0.0.1:8000/accounts/login/` and make sure it works, by logging in and getting sent to: `http://127.0.0.1:8000/accounts/profile/`. Django by default expects us to go to a profile page after logging in, and right now, we haven't define this page!"
   ]
  },
  {
   "attachments": {},
   "cell_type": "markdown",
   "metadata": {},
   "source": [
    "In `/locallibrary/locallibrary/settings.py`, add this at the bottom:"
   ]
  },
  {
   "cell_type": "code",
   "execution_count": null,
   "metadata": {},
   "outputs": [],
   "source": [
    "# Redirect to home URL after login (Default redirects to /accounts/profile/)\n",
    "LOGIN_REDIRECT_URL = '/'"
   ]
  },
  {
   "attachments": {},
   "cell_type": "markdown",
   "metadata": {},
   "source": [
    "Try navigating to `http://127.0.0.1:8000/accounts/logout/` and see what happens. You get logged out, but get taken back to the `Admin` logout page. We will instead create a template."
   ]
  },
  {
   "attachments": {},
   "cell_type": "markdown",
   "metadata": {},
   "source": [
    "Create and open: `/locallibrary/templates/registration/logged_out.html`, and copy in:"
   ]
  },
  {
   "cell_type": "code",
   "execution_count": null,
   "metadata": {
    "vscode": {
     "languageId": "html"
    }
   },
   "outputs": [],
   "source": [
    "{% extends \"base_generic.html\" %}\n",
    "\n",
    "{% block content %}\n",
    "  <p>Logged out!</p>\n",
    "  <a href=\"{% url 'login'%}\">Click here to login again.</a>\n",
    "{% endblock %}"
   ]
  },
  {
   "attachments": {},
   "cell_type": "markdown",
   "metadata": {},
   "source": [
    "We also need to do this:"
   ]
  },
  {
   "cell_type": "code",
   "execution_count": null,
   "metadata": {},
   "outputs": [],
   "source": [
    "INSTALLED_APPS = [\n",
    "    'catalog',\n",
    "    ...\n",
    "    'django.contrib.admin',\n",
    "    ...\n",
    "    #get rid of catalog.apps.....\n",
    "]"
   ]
  },
  {
   "attachments": {},
   "cell_type": "markdown",
   "metadata": {},
   "source": [
    "This is because `django.contrib.admin` has its own `logged_out.html`, which we need to \"override\"."
   ]
  },
  {
   "attachments": {},
   "cell_type": "markdown",
   "metadata": {},
   "source": [
    "Now if you go back to the logout URL, you will see the new page. Try it out."
   ]
  },
  {
   "attachments": {},
   "cell_type": "markdown",
   "metadata": {},
   "source": [
    "### Passsword Reset"
   ]
  },
  {
   "attachments": {},
   "cell_type": "markdown",
   "metadata": {},
   "source": [
    "By default, the password reset system sends an email of the user a reset link. We have to create forms to get the user's email address, send the email, allow them to enter a new password, nad note when its done."
   ]
  },
  {
   "attachments": {},
   "cell_type": "markdown",
   "metadata": {},
   "source": [
    "Here is the form to get the user's email in : `/locallibrary/templates/registration/password_reset_form.html`"
   ]
  },
  {
   "cell_type": "code",
   "execution_count": null,
   "metadata": {
    "vscode": {
     "languageId": "html"
    }
   },
   "outputs": [],
   "source": [
    "{% extends \"base_generic.html\" %}\n",
    "\n",
    "{% block content %}\n",
    "  <form action=\"\" method=\"post\">\n",
    "  {% csrf_token %}\n",
    "  {% if form.email.errors %}\n",
    "    {{ form.email.errors }}\n",
    "  {% endif %}\n",
    "      <p>{{ form.email }}</p>\n",
    "    <input type=\"submit\" class=\"btn btn-default btn-lg\" value=\"Reset password\">\n",
    "  </form>\n",
    "{% endblock %}"
   ]
  },
  {
   "attachments": {},
   "cell_type": "markdown",
   "metadata": {},
   "source": [
    "Here is the form displayed when the email has been collected in: `/locallibrary/templates/registration/password_reset_done.html`"
   ]
  },
  {
   "cell_type": "code",
   "execution_count": null,
   "metadata": {
    "vscode": {
     "languageId": "html"
    }
   },
   "outputs": [],
   "source": [
    "{% extends \"base_generic.html\" %}\n",
    "\n",
    "{% block content %}\n",
    "  <p>We've emailed you instructions for setting your password. If they haven't arrived in a few minutes, check your spam folder.</p>\n",
    "{% endblock %}"
   ]
  },
  {
   "attachments": {},
   "cell_type": "markdown",
   "metadata": {},
   "source": [
    "This contains the HTML email containing the reset link we send to the user's **EMAIL** in: `/locallibrary/templates/registration/password_reset_email.html`"
   ]
  },
  {
   "cell_type": "code",
   "execution_count": null,
   "metadata": {
    "vscode": {
     "languageId": "html"
    }
   },
   "outputs": [],
   "source": [
    "Someone asked for password reset for email {{ email }}. Follow the link below:\n",
    "{{ protocol }}://{{ domain }}{% url 'password_reset_confirm' uidb64=uid token=token %}"
   ]
  },
  {
   "attachments": {},
   "cell_type": "markdown",
   "metadata": {},
   "source": [
    "This page is where you enter your new password AFTER clinking the link in the reset email in: `/locallibrary/templates/registration/password_reset_confirm.html`"
   ]
  },
  {
   "cell_type": "code",
   "execution_count": null,
   "metadata": {
    "vscode": {
     "languageId": "html"
    }
   },
   "outputs": [],
   "source": [
    "{% extends \"base_generic.html\" %}\n",
    "\n",
    "{% block content %}\n",
    "    {% if validlink %}\n",
    "        <p>Please enter (and confirm) your new password.</p>\n",
    "        <form action=\"\" method=\"post\">\n",
    "        {% csrf_token %}\n",
    "            <table>\n",
    "                <tr>\n",
    "                    <td>{{ form.new_password1.errors }}\n",
    "                        <label for=\"id_new_password1\">New password:</label></td>\n",
    "                    <td>{{ form.new_password1 }}</td>\n",
    "                </tr>\n",
    "                <tr>\n",
    "                    <td>{{ form.new_password2.errors }}\n",
    "                        <label for=\"id_new_password2\">Confirm password:</label></td>\n",
    "                    <td>{{ form.new_password2 }}</td>\n",
    "                </tr>\n",
    "                <tr>\n",
    "                    <td></td>\n",
    "                    <td><input type=\"submit\" value=\"Change my password\"></td>\n",
    "                </tr>\n",
    "            </table>\n",
    "        </form>\n",
    "    {% else %}\n",
    "        <h1>Password reset failed</h1>\n",
    "        <p>The password reset link was invalid, possibly because it has already been used. Please request a new password reset.</p>\n",
    "    {% endif %}\n",
    "{% endblock %}"
   ]
  },
  {
   "attachments": {},
   "cell_type": "markdown",
   "metadata": {},
   "source": [
    "This template is used to notify the user when the password reset has worked in: `/locallibrary/templates/registration/password_reset_complete.html`"
   ]
  },
  {
   "cell_type": "code",
   "execution_count": null,
   "metadata": {
    "vscode": {
     "languageId": "html"
    }
   },
   "outputs": [],
   "source": [
    "{% extends \"base_generic.html\" %}\n",
    "\n",
    "{% block content %}\n",
    "  <h1>The password has been changed!</h1>\n",
    "  <p><a href=\"{% url 'login' %}\">log in again?</a></p>\n",
    "{% endblock %}"
   ]
  },
  {
   "attachments": {},
   "cell_type": "markdown",
   "metadata": {},
   "source": [
    "The **authentication pages** should now work! Test it by attempting to log in and log out! (After reading below)"
   ]
  },
  {
   "attachments": {},
   "cell_type": "markdown",
   "metadata": {},
   "source": [
    "The password reset system needs the website to support email. So it won't work yet. Put the following line at the end of the `settings.py` file. For more info, go here: <a href=\"https://docs.djangoproject.com/en/4.0/topics/email/\">Sending Email</a>."
   ]
  },
  {
   "cell_type": "code",
   "execution_count": null,
   "metadata": {},
   "outputs": [],
   "source": [
    "EMAIL_BACKEND = 'django.core.mail.backends.console.EmailBackend'"
   ]
  },
  {
   "attachments": {},
   "cell_type": "markdown",
   "metadata": {},
   "source": [
    "## Testing Against Authenticated Users"
   ]
  },
  {
   "attachments": {},
   "cell_type": "markdown",
   "metadata": {},
   "source": [
    "Here we look at selectively controlling content the user sees based on whether they are logged in or not."
   ]
  },
  {
   "attachments": {},
   "cell_type": "markdown",
   "metadata": {},
   "source": [
    "We will look at **Testing in Templates** first."
   ]
  },
  {
   "attachments": {},
   "cell_type": "markdown",
   "metadata": {},
   "source": [
    "To get the currently looked in user in templates, use the `{{ user }}` template variable. (Added to the template context by default when setting up project like in the skeleton). First test against `{{ user.is_authenticated }}`. Here is an example in: `/locallibrary/catalog/templates/base_generic.html`, and copy it INTO the `sidebar` block, right BEFORE the `endblock` template tag:"
   ]
  },
  {
   "cell_type": "code",
   "execution_count": null,
   "metadata": {
    "vscode": {
     "languageId": "html"
    }
   },
   "outputs": [],
   "source": [
    "<ul class=\"sidebar-nav\">\n",
    "\n",
    "    …\n",
    "\n",
    "   {% if user.is_authenticated %}\n",
    "     <li>User: {{ user.get_username }}</li>\n",
    "     <li><a href=\"{% url 'logout' %}?next={{ request.path }}\">Logout</a></li>\n",
    "   {% else %}\n",
    "     <li><a href=\"{% url 'login' %}?next={{ request.path }}\">Login</a></li>\n",
    "   {% endif %}\n",
    "  </ul>"
   ]
  },
  {
   "attachments": {},
   "cell_type": "markdown",
   "metadata": {},
   "source": [
    "Note the `?next={{ request.path }}`, which adds a URL parameter, `next=` containing the adress (URL) of the CURRENT page, to the end of the linked URL. The views will use this \"next\" value to redirect the user back to the page where they first clicked the login/logout link AFTER they succesfully logged in/out. So you should be back at the same page after you click login/logout and successfully login/logout."
   ]
  },
  {
   "attachments": {},
   "cell_type": "markdown",
   "metadata": {},
   "source": [
    "But note, if you are on the logout page and you try logging in from there, see what happens!!!!"
   ]
  },
  {
   "attachments": {},
   "cell_type": "markdown",
   "metadata": {},
   "source": [
    "Now we will look at **Testing in Views**."
   ]
  },
  {
   "attachments": {},
   "cell_type": "markdown",
   "metadata": {},
   "source": [
    "Using function-based views, we have to apply the `login_required` decorator to the view function:"
   ]
  },
  {
   "cell_type": "code",
   "execution_count": null,
   "metadata": {},
   "outputs": [],
   "source": [
    "from django.contrib.auth.decorators import login_required\n",
    "\n",
    "@login_required\n",
    "def my_view(request):\n",
    "    # …\n"
   ]
  },
  {
   "attachments": {},
   "cell_type": "markdown",
   "metadata": {},
   "source": [
    "If the user is loggin in, then the view code will execute as normal. If not, it will redirect to the login URL defined in the project settings: `settings.LOGIN_URL`, while passing the current absolute path as the `next` URL parameter. If the user logs in, they will be returns back to this page, but will be authenticated."
   ]
  },
  {
   "attachments": {},
   "cell_type": "markdown",
   "metadata": {},
   "source": [
    "Using class-based views, we derive `LoginRequiredMixin`:"
   ]
  },
  {
   "cell_type": "code",
   "execution_count": null,
   "metadata": {},
   "outputs": [],
   "source": [
    "from django.contrib.auth.mixins import LoginRequiredMixin\n",
    "\n",
    "class MyView(LoginRequiredMixin, View):\n",
    "    # …"
   ]
  },
  {
   "attachments": {},
   "cell_type": "markdown",
   "metadata": {},
   "source": [
    "Same redirect behavior as `login_required` decorator. We can also specify an alternative location to redirect, and a URL parameter name instead of `\"name\"`, like:"
   ]
  },
  {
   "cell_type": "code",
   "execution_count": null,
   "metadata": {},
   "outputs": [],
   "source": [
    "class MyView(LoginRequiredMixin, View):\n",
    "    login_url = '/login/'\n",
    "    redirect_field_name = 'redirect_to'"
   ]
  },
  {
   "attachments": {},
   "cell_type": "markdown",
   "metadata": {},
   "source": [
    "Here is an example: <a href=\"https://docs.djangoproject.com/en/4.0/topics/auth/default/#limiting-access-to-logged-in-users\">example</a>."
   ]
  },
  {
   "attachments": {},
   "cell_type": "markdown",
   "metadata": {},
   "source": [
    "## Example - Listing the current user's books"
   ]
  },
  {
   "attachments": {},
   "cell_type": "markdown",
   "metadata": {},
   "source": [
    "Let's create a view of the books the user borrowed. But we don't have a way to borrow books! We need the `BookInstance` model to support borrowing, and use the Django Admin application to loan a number of books to the user."
   ]
  },
  {
   "attachments": {},
   "cell_type": "markdown",
   "metadata": {},
   "source": [
    "### Models"
   ]
  },
  {
   "attachments": {},
   "cell_type": "markdown",
   "metadata": {},
   "source": [
    "In the `models.py` file, add:"
   ]
  },
  {
   "cell_type": "code",
   "execution_count": null,
   "metadata": {},
   "outputs": [],
   "source": [
    "from django.contrib.auth.models import User"
   ]
  },
  {
   "attachments": {},
   "cell_type": "markdown",
   "metadata": {},
   "source": [
    "Then add this to the `BookInstance` model:"
   ]
  },
  {
   "cell_type": "code",
   "execution_count": null,
   "metadata": {},
   "outputs": [],
   "source": [
    "borrower = models.ForeignKey(User, on_delete=models.SET_NULL, null=True, blank=True)"
   ]
  },
  {
   "attachments": {},
   "cell_type": "markdown",
   "metadata": {},
   "source": [
    "We can also add a property to call from the template to tell if a book instance is overdue. We could do this in the template itself, but using a <a href=\"https://docs.python.org/3/library/functions.html#property\">property</a> will be much more efficient."
   ]
  },
  {
   "attachments": {},
   "cell_type": "markdown",
   "metadata": {},
   "source": [
    "Add this at the top of the same file:"
   ]
  },
  {
   "cell_type": "code",
   "execution_count": null,
   "metadata": {},
   "outputs": [],
   "source": [
    "from datetime import date"
   ]
  },
  {
   "attachments": {},
   "cell_type": "markdown",
   "metadata": {},
   "source": [
    "Then the property definition to the `BookInstance` class:"
   ]
  },
  {
   "cell_type": "code",
   "execution_count": null,
   "metadata": {},
   "outputs": [],
   "source": [
    "@property\n",
    "def is_overdue(self):\n",
    "    \"\"\"Determines if the book is overdue based on due date and current date.\"\"\"\n",
    "    return bool(self.due_back and date.today() > self.due_back)\n"
   ]
  },
  {
   "attachments": {},
   "cell_type": "markdown",
   "metadata": {},
   "source": [
    "Now we run migrations because we added/updated to the model."
   ]
  },
  {
   "attachments": {},
   "cell_type": "markdown",
   "metadata": {},
   "source": [
    "### Admin"
   ]
  },
  {
   "attachments": {},
   "cell_type": "markdown",
   "metadata": {},
   "source": [
    "In `admin.py`, add the code below:"
   ]
  },
  {
   "cell_type": "code",
   "execution_count": null,
   "metadata": {},
   "outputs": [],
   "source": [
    "@admin.register(BookInstance)\n",
    "class BookInstanceAdmin(admin.ModelAdmin):\n",
    "    list_display = ('book', 'status', 'borrower', 'due_back', 'id')\n",
    "    list_filter = ('status', 'due_back')\n",
    "\n",
    "    fieldsets = (\n",
    "        (None, {\n",
    "            'fields': ('book', 'imprint', 'id')\n",
    "        }),\n",
    "        ('Availability', {\n",
    "            'fields': ('status', 'due_back', 'borrower')\n",
    "        }),\n",
    "    )"
   ]
  },
  {
   "attachments": {},
   "cell_type": "markdown",
   "metadata": {},
   "source": [
    "This code above will make the field visible in the Admin section, allowing us to assign a `User` to a `BookInstance` when needed."
   ]
  },
  {
   "attachments": {},
   "cell_type": "markdown",
   "metadata": {},
   "source": [
    "NOW we can loan some books to a specific user. We will need to set the `BookInstance`'s `borrowed` field to the test user, the `status` field to \"On loan\", and set due dates."
   ]
  },
  {
   "attachments": {},
   "cell_type": "markdown",
   "metadata": {},
   "source": [
    "Now we must have a loan view to get the list of books loaned to the user. We will use the generic class-based `ListView`, but also derive from `LoginRequiredMixin`, so only logged in users can call this view, and we change `template_name`, since we may end up with a few different lists of BookInstance records, with different views and templates."
   ]
  },
  {
   "attachments": {},
   "cell_type": "markdown",
   "metadata": {},
   "source": [
    "Add to `catalog/views.py`:"
   ]
  },
  {
   "cell_type": "code",
   "execution_count": null,
   "metadata": {},
   "outputs": [],
   "source": [
    "from django.contrib.auth.mixins import LoginRequiredMixin\n",
    "\n",
    "class LoanedBooksByUserListView(LoginRequiredMixin,generic.ListView):\n",
    "    \"\"\"Generic class-based view listing books on loan to current user.\"\"\"\n",
    "    model = BookInstance\n",
    "    template_name = 'catalog/bookinstance_list_borrowed_user.html'\n",
    "    paginate_by = 10\n",
    "\n",
    "    def get_queryset(self):\n",
    "        return BookInstance.objects.filter(borrower=self.request.user).filter(status__exact='o').order_by('due_back')"
   ]
  },
  {
   "attachments": {},
   "cell_type": "markdown",
   "metadata": {},
   "source": [
    "Note that we query on `BookInstance` owned by the current user by using the `get_queryset()` method."
   ]
  },
  {
   "attachments": {},
   "cell_type": "markdown",
   "metadata": {},
   "source": [
    "In `/catalog/urls.py`, and add:"
   ]
  },
  {
   "cell_type": "code",
   "execution_count": null,
   "metadata": {},
   "outputs": [],
   "source": [
    "urlpatterns += [\n",
    "    path('mybooks/', views.LoanedBooksByUserListView.as_view(), name='my-borrowed'),\n",
    "]"
   ]
  },
  {
   "attachments": {},
   "cell_type": "markdown",
   "metadata": {},
   "source": [
    "Here is the template you use with `/catalog/templates/catalog/bookinstance_list_borrowed_user.html`:"
   ]
  },
  {
   "cell_type": "code",
   "execution_count": null,
   "metadata": {
    "vscode": {
     "languageId": "html"
    }
   },
   "outputs": [],
   "source": [
    "{% extends \"base_generic.html\" %}\n",
    "\n",
    "{% block content %}\n",
    "    <h1>Borrowed books</h1>\n",
    "\n",
    "    {% if bookinstance_list %}\n",
    "    <ul>\n",
    "\n",
    "      {% for bookinst in bookinstance_list %}\n",
    "      <li class=\"{% if bookinst.is_overdue %}text-danger{% endif %}\">\n",
    "        <a href=\"{% url 'book-detail' bookinst.book.pk %}\">{{ bookinst.book.title }}</a> ({{ bookinst.due_back }})\n",
    "      </li>\n",
    "      {% endfor %}\n",
    "    </ul>\n",
    "\n",
    "    {% else %}\n",
    "      <p>There are no books borrowed.</p>\n",
    "    {% endif %}\n",
    "{% endblock %}"
   ]
  },
  {
   "attachments": {},
   "cell_type": "markdown",
   "metadata": {},
   "source": [
    "The only \"new\" thing is we check the method we added in the model, `bookinst.is_overdue` to color overdue items. Now go to: `http://127.0.0.1:8000/catalog/mybooks/`, both logged in and logged out to make sure it works."
   ]
  },
  {
   "attachments": {},
   "cell_type": "markdown",
   "metadata": {},
   "source": [
    "Now we need to add this to the sidebar as a link."
   ]
  },
  {
   "attachments": {},
   "cell_type": "markdown",
   "metadata": {},
   "source": [
    "Open the base template and add it to the sidebar in this position:"
   ]
  },
  {
   "cell_type": "code",
   "execution_count": null,
   "metadata": {
    "vscode": {
     "languageId": "html"
    }
   },
   "outputs": [],
   "source": [
    "<ul class=\"sidebar-nav\">\n",
    "    {% if user.is_authenticated %}\n",
    "    <li>User: {{ user.get_username }}</li>\n",
    " \n",
    "    <li><a href=\"{% url 'my-borrowed' %}\">My Borrowed</a></li>\n",
    " \n",
    "    <li><a href=\"{% url 'logout' %}?next={{ request.path }}\">Logout</a></li>\n",
    "    {% else %}\n",
    "    <li><a href=\"{% url 'login' %}?next={{ request.path }}\">Login</a></li>\n",
    "    {% endif %}\n",
    "</ul> "
   ]
  },
  {
   "attachments": {},
   "cell_type": "markdown",
   "metadata": {},
   "source": [
    "Now check to make sure it is added to the page!"
   ]
  },
  {
   "attachments": {},
   "cell_type": "markdown",
   "metadata": {},
   "source": [
    "## Permissions"
   ]
  },
  {
   "attachments": {},
   "cell_type": "markdown",
   "metadata": {},
   "source": [
    "Permissions are associated with models and define operations on the model instance that a user can perform who has the permission. By default Django automatically gives *add*, *change*, and *delete* permissions to ALL models via the admin site. So testing permissions in views and templates is very similar to testing on the authentication status."
   ]
  },
  {
   "attachments": {},
   "cell_type": "markdown",
   "metadata": {},
   "source": [
    "### Models"
   ]
  },
  {
   "attachments": {},
   "cell_type": "markdown",
   "metadata": {},
   "source": [
    "Permissions for a model is done using the `\"class Meta\"` section, and with the `permissions` field. Here is an example:"
   ]
  },
  {
   "cell_type": "code",
   "execution_count": null,
   "metadata": {},
   "outputs": [],
   "source": [
    "class BookInstance(models.Model):\n",
    "    # …\n",
    "    class Meta:\n",
    "        # …\n",
    "        permissions = ((\"can_mark_returned\", \"Set book as returned\"),)\n"
   ]
  },
  {
   "attachments": {},
   "cell_type": "markdown",
   "metadata": {},
   "source": [
    "In the code above, we have ONE permission in a tuple, (each tuple has the permission name and permission display value), with the permission being `can_mark_returned`, and the display value being `Set book as returned`."
   ]
  },
  {
   "attachments": {},
   "cell_type": "markdown",
   "metadata": {},
   "source": [
    "This permission can be assigned to a \"Librarian\" group in the Admin site. Add the code above in `catalog/models.py`. Then re-run the migrations. This allows \"Librarians\" to be able to set the book as being returned."
   ]
  },
  {
   "attachments": {},
   "cell_type": "markdown",
   "metadata": {},
   "source": [
    "### Templates"
   ]
  },
  {
   "attachments": {},
   "cell_type": "markdown",
   "metadata": {},
   "source": [
    "The current user's permissions are stored in template variable, `{{ perms }}`. We check if the user has a permission by using the variable name in the Django \"app\" - `{{ perms.catalog.can_mark_returned }}`, which will be `True` if the user has this permission, and `False` otherwise. We test like this:"
   ]
  },
  {
   "cell_type": "code",
   "execution_count": null,
   "metadata": {
    "vscode": {
     "languageId": "html"
    }
   },
   "outputs": [],
   "source": [
    "{% if perms.catalog.can_mark_returned %}\n",
    "    <!-- We can mark a BookInstance as returned. -->\n",
    "    <!-- Perhaps add code to link to a \"book return\" view here. -->\n",
    "{% endif %}"
   ]
  },
  {
   "attachments": {},
   "cell_type": "markdown",
   "metadata": {},
   "source": [
    "### Views"
   ]
  },
  {
   "attachments": {},
   "cell_type": "markdown",
   "metadata": {},
   "source": [
    "We can use the `permission_required` decorator in a function view, or `PermissionRequiredMixin` in a class-based view. The pattern is the same as for login authentication, but we may need to add multiple permissions. Here are the example for both approaches:"
   ]
  },
  {
   "attachments": {},
   "cell_type": "markdown",
   "metadata": {},
   "source": [
    "Function View Decorator:"
   ]
  },
  {
   "cell_type": "code",
   "execution_count": null,
   "metadata": {},
   "outputs": [],
   "source": [
    "from django.contrib.auth.decorators import permission_required\n",
    "\n",
    "@permission_required('catalog.can_mark_returned')\n",
    "@permission_required('catalog.can_edit')\n",
    "def my_view(request):\n",
    "    # …"
   ]
  },
  {
   "attachments": {},
   "cell_type": "markdown",
   "metadata": {},
   "source": [
    "Class-based View:"
   ]
  },
  {
   "cell_type": "code",
   "execution_count": null,
   "metadata": {},
   "outputs": [],
   "source": [
    "from django.contrib.auth.mixins import PermissionRequiredMixin\n",
    "\n",
    "class MyView(PermissionRequiredMixin, View):\n",
    "    permission_required = 'catalog.can_mark_returned'\n",
    "    # Or multiple permissions\n",
    "    permission_required = ('catalog.can_mark_returned', 'catalog.can_edit')\n",
    "    # Note that 'catalog.can_edit' is just an example\n",
    "    # the catalog application doesn't have such permission!"
   ]
  },
  {
   "attachments": {},
   "cell_type": "markdown",
   "metadata": {},
   "source": [
    "Question time:  \n",
    "For librarians, let them see ALL books that have been borrowed, and includes the name of each borrower. We can do this based on whether the user is a staff member (function decorator: `staff_member_required`, template variable: `user.is_staff`) but its recommended to use the `can_mark_returned` permission and `PermissionRequiredMixin`, as described. Also add a link to see all the books ONLY IF you are a librarian."
   ]
  },
  {
   "attachments": {},
   "cell_type": "markdown",
   "metadata": {},
   "source": [
    "HINT!!! The order of the `MixIn` base classes matter! Make sure the `PermissionsRequiredMixin` goes BEFORE the `LoginRequiredMixin`!!!"
   ]
  },
  {
   "attachments": {},
   "cell_type": "markdown",
   "metadata": {},
   "source": [
    "In `base.html`:"
   ]
  },
  {
   "cell_type": "code",
   "execution_count": null,
   "metadata": {
    "vscode": {
     "languageId": "html"
    }
   },
   "outputs": [],
   "source": [
    "{% if perms.catalog.can_mark_returned %}\n",
    "        <ul>\n",
    "          <li>Staff</li>\n",
    "          <li><a href=\"{% url 'all-borrowed' %}\">All Borrowed</a></li>\n",
    "        </ul>\n",
    "{% endif %}"
   ]
  },
  {
   "attachments": {},
   "cell_type": "markdown",
   "metadata": {},
   "source": [
    "Create a `bookinstance_list_borrowed_all.html`:"
   ]
  },
  {
   "cell_type": "code",
   "execution_count": null,
   "metadata": {
    "vscode": {
     "languageId": "html"
    }
   },
   "outputs": [],
   "source": [
    "{% extends \"base_generic.html\" %}\n",
    "\n",
    "{% block content %}\n",
    "    <h1>Borrowed books</h1>\n",
    "\n",
    "    {% if bookinstance_list %}\n",
    "    <ul>\n",
    "\n",
    "      {% for bookinst in bookinstance_list %}\n",
    "      <li class=\"{% if bookinst.is_overdue %}text-danger{% endif %}\">\n",
    "        <a href=\"{% url 'book-detail' bookinst.book.pk %}\">{{ bookinst.book.title }}</a> ({{ bookinst.due_back }}) - {{ bookinst.borrower }}\n",
    "      </li>\n",
    "      {% endfor %}\n",
    "    </ul>\n",
    "\n",
    "    {% else %}\n",
    "      <p>There are no books borrowed.</p>\n",
    "    {% endif %}\n",
    "{% endblock %}"
   ]
  },
  {
   "attachments": {},
   "cell_type": "markdown",
   "metadata": {},
   "source": [
    "To `catalog/urls.py`:"
   ]
  },
  {
   "cell_type": "code",
   "execution_count": null,
   "metadata": {},
   "outputs": [],
   "source": [
    "path('allbooks/', views.LoanedBooksByAll.as_view(), name='all-borrowed')"
   ]
  },
  {
   "attachments": {},
   "cell_type": "markdown",
   "metadata": {},
   "source": [
    "To `views.py`:"
   ]
  },
  {
   "cell_type": "code",
   "execution_count": null,
   "metadata": {},
   "outputs": [],
   "source": [
    "from django.contrib.auth.mixins import PermissionRequiredMixin\n",
    "\n",
    "class LoanedBooksByAll(PermissionRequiredMixin, LoginRequiredMixin, generic.ListView):\n",
    "    permission_required = 'catalog.can_mark_returned'\n",
    "    model = BookInstance\n",
    "    template_name = 'catalog/bookinstance_list_borrowed_all.html'\n",
    "    paginate_by = 10\n",
    "\n",
    "    def get_queryset(self):\n",
    "        return BookInstance.objects.filter(status__exact='o')"
   ]
  },
  {
   "attachments": {},
   "cell_type": "markdown",
   "metadata": {},
   "source": [
    "To `models.py` in `BookInstance` model:"
   ]
  },
  {
   "cell_type": "code",
   "execution_count": null,
   "metadata": {},
   "outputs": [],
   "source": [
    "class Meta:\n",
    "        ordering = ['due_back']\n",
    "        permissions = ((\"can_mark_returned\", \"Set book as returned\"),)"
   ]
  },
  {
   "attachments": {},
   "cell_type": "markdown",
   "metadata": {},
   "source": [
    "Also migrate because we changed the model file!"
   ]
  },
  {
   "attachments": {},
   "cell_type": "markdown",
   "metadata": {},
   "source": [
    "# Working with Forms"
   ]
  },
  {
   "attachments": {},
   "cell_type": "markdown",
   "metadata": {},
   "source": [
    "Here, we will look at working with HTML Forms in Django, and see how to write forms to create, update, and delete model instasnces. We will extend the website to renew books, create, update, and delete authors, etc through forms RATHER than through the admin application."
   ]
  },
  {
   "attachments": {},
   "cell_type": "markdown",
   "metadata": {},
   "source": [
    "A **HTML Form**  is a group of one or more fields/widgets on a web page, used to collect info from USERS for submission to a SERVER. Forms are also a secure way of sharing data with the server, allowing us to send data in `POST` requests with cross-site prequest forgery protection."
   ]
  },
  {
   "attachments": {},
   "cell_type": "markdown",
   "metadata": {},
   "source": [
    "We haven't created forms, but have already worked on them in the Django Admin Site, like updating/creating a book. Forms can be complicated as we need to write HTML, validate the data on the server/browser, repost the form with error messages, handle the data when submitted, and respond to the user upon success. Django Forms provides a framework to define forms and their fields programmatically, and then use these to generate the form HTML code and handle the validation and user interaction."
   ]
  },
  {
   "attachments": {},
   "cell_type": "markdown",
   "metadata": {},
   "source": [
    "## HTML Forms"
   ]
  },
  {
   "cell_type": "code",
   "execution_count": 2,
   "metadata": {
    "vscode": {
     "languageId": "html"
    }
   },
   "outputs": [
    {
     "ename": "SyntaxError",
     "evalue": "invalid syntax (167641159.py, line 1)",
     "output_type": "error",
     "traceback": [
      "\u001b[1;36m  Cell \u001b[1;32mIn[2], line 1\u001b[1;36m\u001b[0m\n\u001b[1;33m    <form action=\"/team_name_url/\" method=\"post\">\u001b[0m\n\u001b[1;37m    ^\u001b[0m\n\u001b[1;31mSyntaxError\u001b[0m\u001b[1;31m:\u001b[0m invalid syntax\n"
     ]
    }
   ],
   "source": [
    "<form action=\"/team_name_url/\" method=\"post\">\n",
    "  <label for=\"team_name\">Enter name: </label>\n",
    "  <input\n",
    "    id=\"team_name\"\n",
    "    type=\"text\"\n",
    "    name=\"name_field\"\n",
    "    value=\"Default name for team.\" />\n",
    "  <input type=\"submit\" value=\"OK\" />\n",
    "</form>"
   ]
  },
  {
   "attachments": {},
   "cell_type": "markdown",
   "metadata": {},
   "source": [
    "For the `<input>` tag:\n",
    "* `id` and `name` attributes are used to identify the field in JavaScript/CSS/HTML\n",
    "* `type` defines what sort of widget will be displayed\n",
    "* `value` defines the initial value for the field when it is first displayed\n",
    "* Pay attention how the `id` value matches the `<label>`'s `for` attribute value as well. This is to associate the `<label>` with the `<input>`"
   ]
  },
  {
   "attachments": {},
   "cell_type": "markdown",
   "metadata": {},
   "source": [
    "For the `<form>` tag:\n",
    "* `action` value is the URL where the data is sent to for processing when the form is submitted. If not set, it will be submitted back to the current page URL.\n",
    "* `method` is the HTTP method used to send the data: *`\"post\"`* or *`\"get\"`*\n",
    "    * `POST` should be used when the data changes the server's database.\n",
    "    * `GET` should be used that don't change user data. (Like a search form) It is recommended for bookmore/sharing a URL."
   ]
  },
  {
   "attachments": {},
   "cell_type": "markdown",
   "metadata": {},
   "source": [
    "The server first renders the form state, then when the user presses the submit button, the server will receive the data with values from the web browser and must validate the info. So on and so forth."
   ]
  },
  {
   "attachments": {},
   "cell_type": "markdown",
   "metadata": {},
   "source": [
    "## Django Form Handling Process"
   ]
  },
  {
   "attachments": {},
   "cell_type": "markdown",
   "metadata": {},
   "source": [
    "<img src=\"form_handling_-_standard.png\">"
   ]
  },
  {
   "attachments": {},
   "cell_type": "markdown",
   "metadata": {},
   "source": [
    "The main things DJango's form handling does are:\n",
    "1. Display the default form the first time it is requested by the user.\n",
    "    * The form is \"unbound\" because it isn't associated with any user-entered data (but may have initial values)\n",
    "2. Receive data from a submit request and bind it to the form.\n",
    "    * Binding data to the form means that the user-entered data and any errors are available when we need to redisplay the form.\n",
    "3. Clean and validate data\n",
    "    * Sanitizes input fields, and converts them into consistent Python types.\n",
    "    * Validation checks that are appropriate for the field\n",
    "4. If data is invalid, re-display the form with user populated values and error messages for the problem fields (non-problem fields will only have user populated values)\n",
    "5. If ALL data is valid, perform required actions like save the data, send email, return result of a search, upload file, etc.\n",
    "6. Once done, redirect the user to another page."
   ]
  },
  {
   "attachments": {},
   "cell_type": "markdown",
   "metadata": {},
   "source": [
    "Django provides the `Form` class which simplifies both generation of form HTML and data cleaning/validation."
   ]
  },
  {
   "attachments": {},
   "cell_type": "markdown",
   "metadata": {},
   "source": [
    "# Renew-book form using a Form and function view"
   ]
  },
  {
   "attachments": {},
   "cell_type": "markdown",
   "metadata": {},
   "source": [
    "Lets make a page to allow Librarians to renew borrowed books. We will create a form that allows users to enter a date value. We will \"seed\" the field with initial value 3 weeks from the current date, and add some validation to ensure the librarian can't enter a date in the past or too far into the future. When entered, the current record's `BookInstance.due_back` field will be updated."
   ]
  },
  {
   "attachments": {},
   "cell_type": "markdown",
   "metadata": {},
   "source": [
    "We will use a function-based view and a `Form` class."
   ]
  },
  {
   "attachments": {},
   "cell_type": "markdown",
   "metadata": {},
   "source": [
    "The **`Form`** class is the heart of Django's form handling system. It specifies the fields in the form, the layout, displays widgets, labels, intial values, valid values, and the error messages associated with invalid fields. It also provides methods for rendering itself in templates using predefined formates or for getting the value of any element for manual rendering."
   ]
  },
  {
   "attachments": {},
   "cell_type": "markdown",
   "metadata": {},
   "source": [
    "Create a file in `locallibrary/catalog/forms.py`. Then paste this in:"
   ]
  },
  {
   "cell_type": "code",
   "execution_count": null,
   "metadata": {},
   "outputs": [],
   "source": [
    "from django import forms\n",
    "\n",
    "class RenewBookForm(forms.Form):\n",
    "    renewal_date = forms.DateField(help_text=\"Enter a date between now and 4 weeks (default 3).\")"
   ]
  },
  {
   "attachments": {},
   "cell_type": "markdown",
   "metadata": {},
   "source": [
    "In this case above, we only have a single `DateField` form field. It is for entering the renewal date that will render in HTML with a blank value, with the default label being \"Renewal date:\", and some help text. This will accept date using the input_formats: YYYY-MM-DD, MM/DD/YYYY, MM/DD/YY, and will be rendered using the default `widget`: `DateInput`."
   ]
  },
  {
   "attachments": {},
   "cell_type": "markdown",
   "metadata": {},
   "source": [
    "There are other fields you can look up for Django's form class."
   ]
  },
  {
   "attachments": {},
   "cell_type": "markdown",
   "metadata": {},
   "source": [
    "The arguments most common to most fields are below:\n",
    "* `required`: If `True`, field CANNOT be blank or `None`. Fields are required by default.\n",
    "* `label`: Label to use when rendering the field in HTML. If not specified, `label` is made automatically from the field name: `renewal_date` -> `Renewal date`.\n",
    "* `initial`: intial value\n",
    "* `widget`: display widget to use\n",
    "* `help_text`: displayed in forms to explain how to use the field.\n",
    "* `error_messages`: list of error messages for the field. Override these with your own if needed.\n",
    "* `validators`: list of functions called on the field when it is validated.\n",
    "* `disabled`: field is displayed but its value cannot be edited if this is `True`. Default is `False`."
   ]
  },
  {
   "attachments": {},
   "cell_type": "markdown",
   "metadata": {},
   "source": [
    "Easiest way to validate is to override the method: `clean_<fieldname>()`. For example in `forms.py`:"
   ]
  },
  {
   "cell_type": "code",
   "execution_count": null,
   "metadata": {},
   "outputs": [],
   "source": [
    "import datetime\n",
    "\n",
    "from django import forms\n",
    "\n",
    "from django.core.exceptions import ValidationError\n",
    "from django.utils.translation import gettext_lazy as _\n",
    "\n",
    "class RenewBookForm(forms.Form):\n",
    "    renewal_date = forms.DateField(help_text=\"Enter a date between now and 4 weeks (default 3).\")\n",
    "\n",
    "    def clean_renewal_date(self):\n",
    "        data = self.cleaned_data['renewal_date']\n",
    "\n",
    "        # Check if a date is not in the past.\n",
    "        if data < datetime.date.today():\n",
    "            raise ValidationError(_('Invalid date - renewal in past'))\n",
    "\n",
    "        # Check if a date is in the allowed range (+4 weeks from today).\n",
    "        if data > datetime.date.today() + datetime.timedelta(weeks=4):\n",
    "            raise ValidationError(_('Invalid date - renewal more than 4 weeks ahead'))\n",
    "\n",
    "        # Remember to always return the cleaned data.\n",
    "        return data\n"
   ]
  },
  {
   "attachments": {},
   "cell_type": "markdown",
   "metadata": {},
   "source": [
    "We get our data with `self.cleaned_data['renewal_date']` and we return it whether or not we change it at the end of the function."
   ]
  },
  {
   "attachments": {},
   "cell_type": "markdown",
   "metadata": {},
   "source": [
    "Now add this in `locallibrary/catalog/urls.py`:"
   ]
  },
  {
   "cell_type": "code",
   "execution_count": null,
   "metadata": {},
   "outputs": [],
   "source": [
    "urlpatterns += [\n",
    "    path('book/<uuid:pk>/renew/', views.renew_book_librarian, name='renew-book-librarian'),\n",
    "]"
   ]
  },
  {
   "attachments": {},
   "cell_type": "markdown",
   "metadata": {},
   "source": [
    "Here is the view you add in `views.py`:"
   ]
  },
  {
   "cell_type": "code",
   "execution_count": null,
   "metadata": {},
   "outputs": [],
   "source": [
    "import datetime\n",
    "\n",
    "from django.shortcuts import render, get_object_or_404\n",
    "from django.http import HttpResponseRedirect\n",
    "from django.urls import reverse\n",
    "\n",
    "from catalog.forms import RenewBookForm\n",
    "\n",
    "def renew_book_librarian(request, pk):\n",
    "    book_instance = get_object_or_404(BookInstance, pk=pk)\n",
    "\n",
    "    # If this is a POST request then process the Form data\n",
    "    if request.method == 'POST':\n",
    "\n",
    "        # Create a form instance and populate it with data from the request (binding):\n",
    "        form = RenewBookForm(request.POST)\n",
    "\n",
    "        # Check if the form is valid:\n",
    "        if form.is_valid():\n",
    "            # process the data in form.cleaned_data as required (here we just write it to the model due_back field)\n",
    "            book_instance.due_back = form.cleaned_data['renewal_date']\n",
    "            book_instance.save()\n",
    "\n",
    "            # redirect to a new URL:\n",
    "            return HttpResponseRedirect(reverse('all-borrowed'))\n",
    "\n",
    "    # If this is a GET (or any other method) create the default form.\n",
    "    else:\n",
    "        proposed_renewal_date = datetime.date.today() + datetime.timedelta(weeks=3)\n",
    "        form = RenewBookForm(initial={'renewal_date': proposed_renewal_date})\n",
    "\n",
    "    context = {\n",
    "        'form': form,\n",
    "        'book_instance': book_instance,\n",
    "    }\n",
    "\n",
    "    return render(request, 'catalog/book_renew_librarian.html', context)\n"
   ]
  },
  {
   "attachments": {},
   "cell_type": "markdown",
   "metadata": {},
   "source": [
    "First, we import the form `RenewBookForm`, and a number of other useful objects/methods used in the body of the view function:\n",
    "* `get_object_or_404()`: returns a SPECIFIED object from a model based on the primary key value. Raises `Http404` if the record doesn't exist.\n",
    "* `HttpResponseRedirect`: creates a redirect to a specified URL.\n",
    "* `reverse()`: generates a URL from a URL confi name and a set of arguments. Equivalent to the `url` tag in templates.\n",
    "* `datetime`: A Python library for manipulating dates and times."
   ]
  },
  {
   "attachments": {},
   "cell_type": "markdown",
   "metadata": {},
   "source": [
    "We use the `pk` argument in `get_object_or_404` to get the CURRENT `BookInstance`. If this is NOT a `POST` request, then we create the default from passing in an `initial` value for the `renewal_date` field, which is 3 weeks from the current date."
   ]
  },
  {
   "attachments": {},
   "cell_type": "markdown",
   "metadata": {},
   "source": [
    "After creating the default form, we call `render` to create the HTML page, while specifying the template and context that contains the form."
   ]
  },
  {
   "attachments": {},
   "cell_type": "markdown",
   "metadata": {},
   "source": [
    "But if this is a `POST` request, then we create the `form` object and populate it with data from the request. This \"binds\" allows us to validate the form. Then we check if the form is valid. If the form is NOT valid, we call `render()` again, but will include error messages in the form value. If the form is valid, we can use the data, and access it through `form.cleaned_data`. In the code above, we just save it back into the `due_back` value of the associated `BookInstance` object."
   ]
  },
  {
   "attachments": {},
   "cell_type": "markdown",
   "metadata": {},
   "source": [
    "NOTE: We can access the form data directly through the request like: `request.POST['renewal_date']` or `request.GET['renewal_date']`. But its NOTE recommended."
   ]
  },
  {
   "attachments": {},
   "cell_type": "markdown",
   "metadata": {},
   "source": [
    "The last step is to redirect to another page, but here we use `HttpResponseRedirect` and `reverse()` to redirect to the view named `all-borrowed`, which we made in the challenge."
   ]
  },
  {
   "attachments": {},
   "cell_type": "markdown",
   "metadata": {},
   "source": [
    "Last we need to restrict access to only `Librarians` going to this page, so we will use the `@permission_required` and `@permission_required('catalog.can_mark_returned', raise_exception=True)` that we put right before the function view creation."
   ]
  },
  {
   "attachments": {},
   "cell_type": "markdown",
   "metadata": {},
   "source": [
    "Now place this template in `/catalog/templates/catalog/book_renew_librarian.html`:"
   ]
  },
  {
   "cell_type": "code",
   "execution_count": null,
   "metadata": {
    "vscode": {
     "languageId": "html"
    }
   },
   "outputs": [],
   "source": [
    "{% extends \"base_generic.html\" %}\n",
    "\n",
    "{% block content %}\n",
    "  <h1>Renew: {{ book_instance.book.title }}</h1>\n",
    "  <p>Borrower: {{ book_instance.borrower }}</p>\n",
    "  <p{% if book_instance.is_overdue %} class=\"text-danger\"{% endif %}>Due date: {{ book_instance.due_back }}</p>\n",
    "\n",
    "  <form action=\"\" method=\"post\">\n",
    "    {% csrf_token %}\n",
    "    <table>\n",
    "    {{ form.as_table }}\n",
    "    </table>\n",
    "    <input type=\"submit\" value=\"Submit\">\n",
    "  </form>\n",
    "{% endblock %}"
   ]
  },
  {
   "attachments": {},
   "cell_type": "markdown",
   "metadata": {},
   "source": [
    "Notice for the form, we still have the `<form>` tags, with the `action` and `method` attribute for submitting the data. Notice we have an `<input>` tag with the \"submit\" type. `{% csrf_token %}` is Django's cross-site forgery protection. Use this on templlates that uses `POST` to submit data."
   ]
  },
  {
   "cell_type": "code",
   "execution_count": null,
   "metadata": {
    "vscode": {
     "languageId": "html"
    }
   },
   "outputs": [],
   "source": [
    "{{ form. as_table }}"
   ]
  },
  {
   "attachments": {},
   "cell_type": "markdown",
   "metadata": {},
   "source": [
    "Will render as:"
   ]
  },
  {
   "cell_type": "code",
   "execution_count": null,
   "metadata": {
    "vscode": {
     "languageId": "html"
    }
   },
   "outputs": [],
   "source": [
    "<tr>\n",
    "    <th><label for=\"id_renewal_date\">Renewal date:</label></th>\n",
    "    <td>\n",
    "      <input\n",
    "        id=\"id_renewal_date\"\n",
    "        name=\"renewal_date\"\n",
    "        type=\"text\"\n",
    "        value=\"2016-11-08\"\n",
    "        required />\n",
    "      <br />\n",
    "      <span class=\"helptext\">Enter date between now and 4 weeks (default 3 weeks).</span>\n",
    "    </td>\n",
    "  </tr>  "
   ]
  },
  {
   "attachments": {},
   "cell_type": "markdown",
   "metadata": {},
   "source": [
    "If you entered an invalid date, it would render as:"
   ]
  },
  {
   "cell_type": "code",
   "execution_count": null,
   "metadata": {
    "vscode": {
     "languageId": "html"
    }
   },
   "outputs": [],
   "source": [
    "<tr>\n",
    "    <th><label for=\"id_renewal_date\">Renewal date:</label></th>\n",
    "    <td>\n",
    "      <ul class=\"errorlist\">\n",
    "        <li>Invalid date - renewal in past</li>\n",
    "      </ul>\n",
    "      <input\n",
    "        id=\"id_renewal_date\"\n",
    "        name=\"renewal_date\"\n",
    "        type=\"text\"\n",
    "        value=\"2015-11-08\"\n",
    "        required />\n",
    "      <br />\n",
    "      <span class=\"helptext\">Enter date between now and 4 weeks (default 3 weeks).</span>\n",
    "    </td>\n",
    "  </tr>  "
   ]
  },
  {
   "attachments": {},
   "cell_type": "markdown",
   "metadata": {},
   "source": [
    "You can also render each field as a list item, `{{ form.as_ul }}`, or as a paragraph `{{ form.as_p }}`. You can also have complete control over the rendering of each part of the form, by indexing its properties using dot notations. As an example:"
   ]
  },
  {
   "attachments": {},
   "cell_type": "markdown",
   "metadata": {},
   "source": [
    "* `{{ form.renewal_date }}`: Whole field\n",
    "* `{{ form.renewal_date.errors }}`: List of errors\n",
    "* `{{ form.renewal_date.id_for_label }}`: id of the label\n",
    "* `{{ form.renewal_date.help_text }}`: field help text"
   ]
  },
  {
   "attachments": {},
   "cell_type": "markdown",
   "metadata": {},
   "source": [
    "Look her to manually render forms in templates and dynamically loop over template fields: <a href=\"https://docs.djangoproject.com/en/4.0/topics/forms/#rendering-fields-manually\">Here</a>."
   ]
  },
  {
   "attachments": {},
   "cell_type": "markdown",
   "metadata": {},
   "source": [
    "To test, in the `all-borrowed` page, we add this code to add a link for each item to go to our \"renew page\":"
   ]
  },
  {
   "cell_type": "code",
   "execution_count": null,
   "metadata": {
    "vscode": {
     "languageId": "html"
    }
   },
   "outputs": [],
   "source": [
    "{% if perms.catalog.can_mark_returned %}- <a href=\"{% url 'renew-book-librarian' bookinst.id %}\">Renew</a>  {% endif %}"
   ]
  },
  {
   "attachments": {},
   "cell_type": "markdown",
   "metadata": {},
   "source": [
    "Now go ahead and make sure the renewal page works!"
   ]
  },
  {
   "attachments": {},
   "cell_type": "markdown",
   "metadata": {},
   "source": [
    "## ModelForms"
   ]
  },
  {
   "attachments": {},
   "cell_type": "markdown",
   "metadata": {},
   "source": [
    "If we need a form to map the fields of a SINGLE model, it is easier to use the <a href=\"https://docs.djangoproject.com/en/4.0/topics/forms/modelforms/\">`ModelForm`</a> helper class to create the form from a model. This can then be used in your views just like an ordinary `Form`."
   ]
  },
  {
   "attachments": {},
   "cell_type": "markdown",
   "metadata": {},
   "source": [
    "Here is an example using the same form from before:"
   ]
  },
  {
   "cell_type": "code",
   "execution_count": null,
   "metadata": {},
   "outputs": [],
   "source": [
    "from django.forms import ModelForm\n",
    "\n",
    "from catalog.models import BookInstance\n",
    "\n",
    "class RenewBookModelForm(ModelForm):\n",
    "    class Meta:\n",
    "        model = BookInstance\n",
    "        fields = ['due_back']"
   ]
  },
  {
   "attachments": {},
   "cell_type": "markdown",
   "metadata": {},
   "source": [
    "You can include all fields using `fields = '__all__'`, or use `exclude` instead of `fields` to specify which fields NOT to include from the model."
   ]
  },
  {
   "attachments": {},
   "cell_type": "markdown",
   "metadata": {},
   "source": [
    "Here is how to change the info of the model field:"
   ]
  },
  {
   "cell_type": "code",
   "execution_count": null,
   "metadata": {},
   "outputs": [],
   "source": [
    "class Meta:\n",
    "    model = BookInstance\n",
    "    fields = ['due_back']\n",
    "    labels = {'due_back': _('New renewal date')}\n",
    "    help_texts = {'due_back': _('Enter a date between now and 4 weeks (default 3).')}"
   ]
  },
  {
   "attachments": {},
   "cell_type": "markdown",
   "metadata": {},
   "source": [
    "And to check for validation, you can also do this:"
   ]
  },
  {
   "cell_type": "code",
   "execution_count": null,
   "metadata": {},
   "outputs": [],
   "source": [
    "from django.forms import ModelForm\n",
    "\n",
    "from catalog.models import BookInstance\n",
    "\n",
    "class RenewBookModelForm(ModelForm):\n",
    "    def clean_due_back(self):\n",
    "       data = self.cleaned_data['due_back']\n",
    "\n",
    "       # Check if a date is not in the past.\n",
    "       if data < datetime.date.today():\n",
    "           raise ValidationError(_('Invalid date - renewal in past'))\n",
    "\n",
    "       # Check if a date is in the allowed range (+4 weeks from today).\n",
    "       if data > datetime.date.today() + datetime.timedelta(weeks=4):\n",
    "           raise ValidationError(_('Invalid date - renewal more than 4 weeks ahead'))\n",
    "\n",
    "       # Remember to always return the cleaned data.\n",
    "       return data\n",
    "\n",
    "    class Meta:\n",
    "        model = BookInstance\n",
    "        fields = ['due_back']\n",
    "        labels = {'due_back': _('Renewal date')}\n",
    "        help_texts = {'due_back': _('Enter a date between now and 4 weeks (default 3).')}"
   ]
  },
  {
   "attachments": {},
   "cell_type": "markdown",
   "metadata": {},
   "source": [
    "The difference from the `Form` class and this one, is the name of the validation function instead being `clean_due_back` rather than `clean_renewal_date`."
   ]
  },
  {
   "attachments": {},
   "cell_type": "markdown",
   "metadata": {},
   "source": [
    "## Generic Editing Views"
   ]
  },
  {
   "attachments": {},
   "cell_type": "markdown",
   "metadata": {},
   "source": [
    "We used the function based view to use our forms. But we can use **<a href=\"https://docs.djangoproject.com/en/4.0/ref/class-based-views/generic-editing/\">Generic Editing Views</a>** to take care of this \"boilerplate\" for us. They not only handle the \"view\" behavior, but also automatically create the form class, `ModelForm`, for us FROM the model."
   ]
  },
  {
   "attachments": {},
   "cell_type": "markdown",
   "metadata": {},
   "source": [
    "There is also a <a href=\"https://docs.djangoproject.com/en/4.0/ref/class-based-views/generic-editing/#formview\">`FormView`</a> class, which lies inbetween the function view and generic views in terms of \"flexibility\" vs \"coding effort\". `FormView` will still need you to make the `Form`, but you don't have to implement all of the standard form-handling patterns."
   ]
  },
  {
   "attachments": {},
   "cell_type": "markdown",
   "metadata": {},
   "source": [
    "We will use this generic editing view to create, edit, and delete `Author` records from our library. So basically, reimplementing parts of the Admin site."
   ]
  },
  {
   "attachments": {},
   "cell_type": "markdown",
   "metadata": {},
   "source": [
    "Open the `views.py` and add:"
   ]
  },
  {
   "cell_type": "code",
   "execution_count": null,
   "metadata": {},
   "outputs": [],
   "source": [
    "from django.views.generic.edit import CreateView, UpdateView, DeleteView\n",
    "from django.urls import reverse_lazy\n",
    "\n",
    "from catalog.models import Author\n",
    "\n",
    "class AuthorCreate(CreateView):\n",
    "    model = Author\n",
    "    fields = ['first_name', 'last_name', 'date_of_birth', 'date_of_death']\n",
    "    initial = {'date_of_death': '11/06/2020'}\n",
    "\n",
    "class AuthorUpdate(UpdateView):\n",
    "    model = Author\n",
    "    fields = '__all__' # Not recommended (potential security issue if more fields added)\n",
    "\n",
    "class AuthorDelete(DeleteView):\n",
    "    model = Author\n",
    "    success_url = reverse_lazy('authors')\n"
   ]
  },
  {
   "attachments": {},
   "cell_type": "markdown",
   "metadata": {},
   "source": [
    "For \"create\" and \"update\", we need to specify the fields to display in the form. We show how to list them individually and the syntax to list \"all\" fields. By DEFAULT, the views will redirect on success to a page displaying the NEWLY CREATED/EDITED model item, which in this case is the author detail view we created before. We can specify and alternative redirect location by explicitly using `success_url`."
   ]
  },
  {
   "attachments": {},
   "cell_type": "markdown",
   "metadata": {},
   "source": [
    "The `AuthorDelete` class doesn't need to display any of the fields, so nothing is specified. We use `reverse_lazy` instead of `reverse` because we're providing a URL to a class-based view attribute."
   ]
  },
  {
   "attachments": {},
   "cell_type": "markdown",
   "metadata": {},
   "source": [
    "The \"create\" and \"update\" views use the same template by default, which is named after the model: `model_name_form.html` (Change the suffix to something else using the `template_name_suffix` field in the view)."
   ]
  },
  {
   "attachments": {},
   "cell_type": "markdown",
   "metadata": {},
   "source": [
    "Create the template file, `locallibrary/catalog/templates/catalog/author_form.html` and copy this in:"
   ]
  },
  {
   "cell_type": "code",
   "execution_count": null,
   "metadata": {
    "vscode": {
     "languageId": "html"
    }
   },
   "outputs": [],
   "source": [
    "{% extends \"base_generic.html\" %}\n",
    "\n",
    "{% block content %}\n",
    "  <form action=\"\" method=\"post\">\n",
    "    {% csrf_token %}\n",
    "    <table>\n",
    "    {{ form.as_table }}\n",
    "    </table>\n",
    "    <input type=\"submit\" value=\"Submit\" />\n",
    "  </form>\n",
    "{% endblock %}"
   ]
  },
  {
   "attachments": {},
   "cell_type": "markdown",
   "metadata": {},
   "source": [
    "The \"delete\" view expects to find a template named like: `model_name_confirm_delete.html`."
   ]
  },
  {
   "attachments": {},
   "cell_type": "markdown",
   "metadata": {},
   "source": [
    "In a new file, `locallibrary/catalog/templates/catalog/author_confirm_delete.html`, put:"
   ]
  },
  {
   "cell_type": "code",
   "execution_count": null,
   "metadata": {
    "vscode": {
     "languageId": "html"
    }
   },
   "outputs": [],
   "source": [
    "{% extends \"base_generic.html\" %}\n",
    "\n",
    "{% block content %}\n",
    "\n",
    "<h1>Delete Author</h1>\n",
    "\n",
    "<p>Are you sure you want to delete the author: {{ author }}?</p>\n",
    "\n",
    "<form action=\"\" method=\"POST\">\n",
    "  {% csrf_token %}\n",
    "  <input type=\"submit\" value=\"Yes, delete.\" />\n",
    "</form>\n",
    "\n",
    "{% endblock %}"
   ]
  },
  {
   "attachments": {},
   "cell_type": "markdown",
   "metadata": {},
   "source": [
    "Then at the end of the `catalog/urls.py`, add in:"
   ]
  },
  {
   "cell_type": "code",
   "execution_count": null,
   "metadata": {},
   "outputs": [],
   "source": [
    "urlpatterns += [\n",
    "    path('author/create/', views.AuthorCreate.as_view(), name='author-create'),\n",
    "    path('author/<int:pk>/update/', views.AuthorUpdate.as_view(), name='author-update'),\n",
    "    path('author/<int:pk>/delete/', views.AuthorDelete.as_view(), name='author-delete'),\n",
    "]"
   ]
  },
  {
   "attachments": {},
   "cell_type": "markdown",
   "metadata": {},
   "source": [
    "Notice we haven't done anything to prevent unauthorized users from accessing the pages! We leave this as an exercise"
   ]
  },
  {
   "attachments": {},
   "cell_type": "markdown",
   "metadata": {},
   "source": [
    "Now go to `http://127.0.0.1:8000/catalog/author/create/` to create a new author"
   ]
  },
  {
   "attachments": {},
   "cell_type": "markdown",
   "metadata": {},
   "source": [
    "`http://127.0.0.1:8000/catalog/author/10/update/` is to update the \"10th\" author, try to go here, but looks the same as the \"create\" one."
   ]
  },
  {
   "attachments": {},
   "cell_type": "markdown",
   "metadata": {},
   "source": [
    "`http://127.0.0.1:8000/catalog/author/10/delete/` is to go to the page where you are deleting the \"10th\" author. Press it to make sure it works"
   ]
  },
  {
   "attachments": {},
   "cell_type": "markdown",
   "metadata": {},
   "source": [
    "Question TIME!!\n",
    "Now just do the exact same thing we did for `Book` records. Should be easy."
   ]
  },
  {
   "attachments": {},
   "cell_type": "markdown",
   "metadata": {},
   "source": [
    "But now try to access the `catalog/book/<id>/update/` and others where they should be.\n",
    "1. The `book/create` should be at the top of the book list IF YOU ARE A LIBRARIAN.\n",
    "2. The `book/<id>/update/` should be at the top of the PARTICULAR BOOKDETAILVIEW!! Also if you are a librarian.\n",
    "3. The `book/<id>/delete/` should be right below the update one."
   ]
  },
  {
   "attachments": {},
   "cell_type": "markdown",
   "metadata": {},
   "source": [
    "You may need this: `<a href=\"{{ book.get_absolute_url}}/update\">`, for #2 and #3."
   ]
  },
  {
   "attachments": {},
   "cell_type": "markdown",
   "metadata": {},
   "source": [
    "# Testing a Django Web Application"
   ]
  },
  {
   "attachments": {},
   "cell_type": "markdown",
   "metadata": {},
   "source": [
    "Here, we will show how to automate unit testing of your website using Django's test framework."
   ]
  },
  {
   "attachments": {},
   "cell_type": "markdown",
   "metadata": {},
   "source": [
    "Here are the various types of testing:"
   ]
  },
  {
   "attachments": {},
   "cell_type": "markdown",
   "metadata": {},
   "source": [
    "* Unit Tests: Verify behavior of individual components.\n",
    "* Regression Tests: Tests to reproduce historical bugs. Each test is re-run after changing code to make sure the bug is not re-introduced.\n",
    "* Integration Tests: Verify how groupings of components work when used together. These tests are aware of required interactions between components.\n",
    "* Other tests include: black box, white box, automated, canary, smoke, conformance, acceptance, functional, system, performance, load, and stress tests. Look them up for more info."
   ]
  },
  {
   "attachments": {},
   "cell_type": "markdown",
   "metadata": {},
   "source": [
    "Django provides a test framework built from Python's standard `unittest` library. This is suitable for both unit and integration tests. Django framework provides `LiveServerTestCase` and tools to use different testing frameworks as well."
   ]
  },
  {
   "attachments": {},
   "cell_type": "markdown",
   "metadata": {},
   "source": [
    "To write a test, derive from any Django test base classes: `SimpleTestCase`, `TransactionTestCase`, `TestCase`, `LiveServerTestCase`. Then write separate methods to check if the functionality works as expected."
   ]
  },
  {
   "cell_type": "code",
   "execution_count": null,
   "metadata": {},
   "outputs": [],
   "source": [
    "class YourTestClass(TestCase):\n",
    "    def setUp(self):\n",
    "        # Setup run before every test method.\n",
    "        pass\n",
    "\n",
    "    def tearDown(self):\n",
    "        # Clean up run after every test method.\n",
    "        pass\n",
    "\n",
    "    def test_something_that_will_pass(self):\n",
    "        self.assertFalse(False)\n",
    "\n",
    "    def test_something_that_will_fail(self):\n",
    "        self.assertTrue(False)\n"
   ]
  },
  {
   "attachments": {},
   "cell_type": "markdown",
   "metadata": {},
   "source": [
    "The `TestCase` class creates a clean database before its tests are fun, and runs every test function in its own transaction. It also has a test `Client` to simulate user interaction at the view level."
   ]
  },
  {
   "attachments": {},
   "cell_type": "markdown",
   "metadata": {},
   "source": [
    "What to test?\n",
    "* Don't test libraries or functionality provided by Python or Django, like `date_of_birth` being validated.\n",
    "* Test the text used for the labels, and the size of the field allocated for the text."
   ]
  },
  {
   "attachments": {},
   "cell_type": "markdown",
   "metadata": {},
   "source": [
    "Try to create a module for the test code, with separate files for models, views, forms, and other types of code to test. It will discover tests in the current working directory with any file named with pattern: `test*.py`."
   ]
  },
  {
   "cell_type": "raw",
   "metadata": {},
   "source": [
    "catalog/\n",
    "  /tests/\n",
    "    __init__.py\n",
    "    test_models.py\n",
    "    test_forms.py\n",
    "    test_views.py"
   ]
  },
  {
   "attachments": {},
   "cell_type": "markdown",
   "metadata": {},
   "source": [
    "Create this file structure above in the main *LocalLibrary* project. `__init__.py ` should be empty. The other three files' content will be the same as the `/catalog/tests.py`."
   ]
  },
  {
   "attachments": {},
   "cell_type": "markdown",
   "metadata": {},
   "source": [
    "Afterwards, you can delete the `tests.py` file."
   ]
  },
  {
   "attachments": {},
   "cell_type": "markdown",
   "metadata": {},
   "source": [
    "Let's first look at `test_models.py` first. Add this code:"
   ]
  },
  {
   "cell_type": "code",
   "execution_count": null,
   "metadata": {},
   "outputs": [],
   "source": [
    "class YourTestClass(TestCase):\n",
    "    @classmethod\n",
    "    def setUpTestData(cls):\n",
    "        print(\"setUpTestData: Run once to set up non-modified data for all class methods.\")\n",
    "        pass\n",
    "\n",
    "    def setUp(self):\n",
    "        print(\"setUp: Run once for every test method to setup clean data.\")\n",
    "        pass\n",
    "\n",
    "    def test_false_is_false(self):\n",
    "        print(\"Method: test_false_is_false.\")\n",
    "        self.assertFalse(False)\n",
    "\n",
    "    def test_false_is_true(self):\n",
    "        print(\"Method: test_false_is_true.\")\n",
    "        self.assertTrue(False)\n",
    "\n",
    "    def test_one_plus_one_equals_two(self):\n",
    "        print(\"Method: test_one_plus_one_equals_two.\")\n",
    "        self.assertEqual(1 + 1, 2)"
   ]
  },
  {
   "attachments": {},
   "cell_type": "markdown",
   "metadata": {},
   "source": [
    "We have two methods used for pre-test config:\n",
    "* `setUpTestData()` called at beginning of test run for class-level setup. Used to create objects that aren't going to be modified or changed in ANY of the test methods.\n",
    "* `setUp()` called before every test function to set up any objects that may be modified by the test."
   ]
  },
  {
   "attachments": {},
   "cell_type": "markdown",
   "metadata": {},
   "source": [
    "Then we have test methods below them, which use `Assert` to test whether conditions are true, false or equal (`AssertTrue`...)."
   ]
  },
  {
   "attachments": {},
   "cell_type": "markdown",
   "metadata": {},
   "source": [
    "To run all of the tests, use this command in the command prompt:"
   ]
  },
  {
   "cell_type": "raw",
   "metadata": {},
   "source": [
    "python3 manage.py test"
   ]
  },
  {
   "attachments": {},
   "cell_type": "markdown",
   "metadata": {},
   "source": [
    "This gets all files with `test*.py` pattern and run all tests. It will report only test failures, then a summary."
   ]
  },
  {
   "attachments": {},
   "cell_type": "markdown",
   "metadata": {},
   "source": [
    "If you get an error: `ValueError: Missing staticfiles ...`, then run this before: `python3 manage.py collectstatic`."
   ]
  },
  {
   "attachments": {},
   "cell_type": "markdown",
   "metadata": {},
   "source": [
    "Note the print order, and what failed."
   ]
  },
  {
   "attachments": {},
   "cell_type": "markdown",
   "metadata": {},
   "source": [
    "Use:  \n",
    "`python3 manage.py test --verbosity 2`  \n",
    "to list test successes as well as failures. Default verbosity level is 1, and valid values are 0, 1, 2, and 3."
   ]
  },
  {
   "attachments": {},
   "cell_type": "markdown",
   "metadata": {},
   "source": [
    "If tests are independent, you can speed them up by using:  \n",
    "`python3 manage.py test --parallel auto`  "
   ]
  },
  {
   "attachments": {},
   "cell_type": "markdown",
   "metadata": {},
   "source": [
    "Here is running specific tests:"
   ]
  },
  {
   "cell_type": "raw",
   "metadata": {},
   "source": [
    "# Run the specified module\n",
    "python3 manage.py test catalog.tests\n",
    "\n",
    "# Run the specified module\n",
    "python3 manage.py test catalog.tests.test_models\n",
    "\n",
    "# Run the specified class\n",
    "python3 manage.py test catalog.tests.test_models.YourTestClass\n",
    "\n",
    "# Run the specified method\n",
    "python3 manage.py test catalog.tests.test_models.YourTestClass.test_one_plus_one_equals_two\n"
   ]
  },
  {
   "attachments": {},
   "cell_type": "markdown",
   "metadata": {},
   "source": [
    "You can use `--shuffle` to shuffle tests, or run them in debug mode using `--debug-mode`."
   ]
  },
  {
   "attachments": {},
   "cell_type": "markdown",
   "metadata": {},
   "source": [
    "## Models"
   ]
  },
  {
   "attachments": {},
   "cell_type": "markdown",
   "metadata": {},
   "source": [
    "We should test anything we wrote or anything part of our design. For `Author`, we should test the labels for all the fields, since we have a design that says what the values SHOULD be."
   ]
  },
  {
   "attachments": {},
   "cell_type": "markdown",
   "metadata": {},
   "source": [
    "Open the `test_models.py` file, and replace the existing test code with this:"
   ]
  },
  {
   "cell_type": "code",
   "execution_count": null,
   "metadata": {},
   "outputs": [],
   "source": [
    "from django.test import TestCase\n",
    "\n",
    "from catalog.models import Author\n",
    "\n",
    "class AuthorModelTest(TestCase):\n",
    "    @classmethod\n",
    "    def setUpTestData(cls):\n",
    "        # Set up non-modified objects used by all test methods\n",
    "        Author.objects.create(first_name='Big', last_name='Bob')\n",
    "\n",
    "    def test_first_name_label(self):\n",
    "        author = Author.objects.get(id=1)\n",
    "        field_label = author._meta.get_field('first_name').verbose_name\n",
    "        self.assertEqual(field_label, 'first name')\n",
    "\n",
    "    def test_date_of_death_label(self):\n",
    "        author = Author.objects.get(id=1)\n",
    "        field_label = author._meta.get_field('date_of_death').verbose_name\n",
    "        self.assertEqual(field_label, 'died')\n",
    "\n",
    "    def test_first_name_max_length(self):\n",
    "        author = Author.objects.get(id=1)\n",
    "        max_length = author._meta.get_field('first_name').max_length\n",
    "        self.assertEqual(max_length, 100)\n",
    "\n",
    "    def test_object_name_is_last_name_comma_first_name(self):\n",
    "        author = Author.objects.get(id=1)\n",
    "        expected_object_name = f'{author.last_name}, {author.first_name}'\n",
    "        self.assertEqual(str(author), expected_object_name)\n",
    "\n",
    "    def test_get_absolute_url(self):\n",
    "        author = Author.objects.get(id=1)\n",
    "        # This will also fail if the urlconf is not defined.\n",
    "        self.assertEqual(author.get_absolute_url(), '/catalog/author/1')\n"
   ]
  },
  {
   "attachments": {},
   "cell_type": "markdown",
   "metadata": {},
   "source": [
    "Note how we create an author object we will use but not modify in the tests."
   ]
  },
  {
   "attachments": {},
   "cell_type": "markdown",
   "metadata": {},
   "source": [
    "The tests check if the labels, `verbose_name`, and size of the character fields are as expected. Note we cannot use `author.first_name.verbose_name` because `.first_name` is a string. So we use the author's `_meta` attribute."
   ]
  },
  {
   "attachments": {},
   "cell_type": "markdown",
   "metadata": {},
   "source": [
    "The last two makes sure the object name uses \"Last Name\", \"First Name\" format, and that the URL we get is as we would expect."
   ]
  },
  {
   "attachments": {},
   "cell_type": "markdown",
   "metadata": {},
   "source": [
    "Try to fix the error we get."
   ]
  },
  {
   "attachments": {},
   "cell_type": "markdown",
   "metadata": {},
   "source": [
    "## Forms"
   ]
  },
  {
   "attachments": {},
   "cell_type": "markdown",
   "metadata": {},
   "source": [
    "Here is an example to put in `test_forms.py`:"
   ]
  },
  {
   "cell_type": "code",
   "execution_count": null,
   "metadata": {},
   "outputs": [],
   "source": [
    "import datetime\n",
    "\n",
    "from django.test import TestCase\n",
    "from django.utils import timezone\n",
    "\n",
    "from catalog.forms import RenewBookForm\n",
    "\n",
    "class RenewBookFormTest(TestCase):\n",
    "    def test_renew_form_date_field_label(self):\n",
    "        form = RenewBookForm()\n",
    "        self.assertTrue(form.fields['renewal_date'].label is None or form.fields['renewal_date'].label == 'renewal date')\n",
    "\n",
    "    def test_renew_form_date_field_help_text(self):\n",
    "        form = RenewBookForm()\n",
    "        self.assertEqual(form.fields['renewal_date'].help_text, 'Enter a date between now and 4 weeks (default 3).')\n",
    "\n",
    "    def test_renew_form_date_in_past(self):\n",
    "        date = datetime.date.today() - datetime.timedelta(days=1)\n",
    "        form = RenewBookForm(data={'renewal_date': date})\n",
    "        self.assertFalse(form.is_valid())\n",
    "\n",
    "    def test_renew_form_date_too_far_in_future(self):\n",
    "        date = datetime.date.today() + datetime.timedelta(weeks=4) + datetime.timedelta(days=1)\n",
    "        form = RenewBookForm(data={'renewal_date': date})\n",
    "        self.assertFalse(form.is_valid())\n",
    "\n",
    "    def test_renew_form_date_today(self):\n",
    "        date = datetime.date.today()\n",
    "        form = RenewBookForm(data={'renewal_date': date})\n",
    "        self.assertTrue(form.is_valid())\n",
    "\n",
    "    def test_renew_form_date_max(self):\n",
    "        date = timezone.localtime() + datetime.timedelta(weeks=4)\n",
    "        form = RenewBookForm(data={'renewal_date': date})\n",
    "        self.assertTrue(form.is_valid())\n"
   ]
  },
  {
   "attachments": {},
   "cell_type": "markdown",
   "metadata": {},
   "source": [
    "First two functions test if `label` and `help_text` are as expected. The rest tests if the form is valid for the renewal dates."
   ]
  },
  {
   "attachments": {},
   "cell_type": "markdown",
   "metadata": {},
   "source": [
    "## Views"
   ]
  },
  {
   "attachments": {},
   "cell_type": "markdown",
   "metadata": {},
   "source": [
    "We use the Django test: `Client`, to test this. This tests so we can simulate `GET` and `POST` requests on a URL. We can see everything about the response."
   ]
  },
  {
   "attachments": {},
   "cell_type": "markdown",
   "metadata": {},
   "source": [
    "The `AuthorListView` is made from Django, so the only thing to test is that the view is accessible at the correct URL. Open `test_views.py` and paste:"
   ]
  },
  {
   "cell_type": "code",
   "execution_count": null,
   "metadata": {},
   "outputs": [],
   "source": [
    "from django.test import TestCase\n",
    "from django.urls import reverse\n",
    "\n",
    "from catalog.models import Author\n",
    "\n",
    "class AuthorListViewTest(TestCase):\n",
    "    @classmethod\n",
    "    def setUpTestData(cls):\n",
    "        # Create 13 authors for pagination tests\n",
    "        number_of_authors = 13\n",
    "\n",
    "        for author_id in range(number_of_authors):\n",
    "            Author.objects.create(\n",
    "                first_name=f'Dominique {author_id}',\n",
    "                last_name=f'Surname {author_id}',\n",
    "            )\n",
    "\n",
    "    def test_view_url_exists_at_desired_location(self):\n",
    "        response = self.client.get('/catalog/authors/')\n",
    "        self.assertEqual(response.status_code, 200)\n",
    "\n",
    "    def test_view_url_accessible_by_name(self):\n",
    "        response = self.client.get(reverse('authors'))\n",
    "        self.assertEqual(response.status_code, 200)\n",
    "\n",
    "    def test_view_uses_correct_template(self):\n",
    "        response = self.client.get(reverse('authors'))\n",
    "        self.assertEqual(response.status_code, 200)\n",
    "        self.assertTemplateUsed(response, 'catalog/author_list.html')\n",
    "\n",
    "    def test_pagination_is_ten(self):\n",
    "        response = self.client.get(reverse('authors'))\n",
    "        self.assertEqual(response.status_code, 200)\n",
    "        self.assertTrue('is_paginated' in response.context)\n",
    "        self.assertTrue(response.context['is_paginated'] == True)\n",
    "        self.assertEqual(len(response.context['author_list']), 10)\n",
    "\n",
    "    def test_lists_all_authors(self):\n",
    "        # Get second page and confirm it has (exactly) remaining 3 items\n",
    "        response = self.client.get(reverse('authors')+'?page=2')\n",
    "        self.assertEqual(response.status_code, 200)\n",
    "        self.assertTrue('is_paginated' in response.context)\n",
    "        self.assertTrue(response.context['is_paginated'] == True)\n",
    "        self.assertEqual(len(response.context['author_list']), 3)\n"
   ]
  },
  {
   "attachments": {},
   "cell_type": "markdown",
   "metadata": {},
   "source": [
    "These:  \n",
    "`response = self.client.get('/catalog/authors/')`  \n",
    "`response = self.client.get(reverse('authors'))`  \n",
    "Simulate a `GET` request and get a response. The first version checks a specific URL, while the second generates the URL from its name in the URL config. It then tests for its status code, the template used, if the response is paginated, number of items returned , and the total number of items. \n"
   ]
  },
  {
   "attachments": {},
   "cell_type": "markdown",
   "metadata": {},
   "source": [
    "We can check to see if a view is restricted, like:"
   ]
  },
  {
   "cell_type": "code",
   "execution_count": null,
   "metadata": {},
   "outputs": [],
   "source": [
    "from django.contrib.auth.mixins import LoginRequiredMixin\n",
    "\n",
    "class LoanedBooksByUserListView(LoginRequiredMixin, generic.ListView):\n",
    "    \"\"\"Generic class-based view listing books on loan to current user.\"\"\"\n",
    "    model = BookInstance\n",
    "    template_name ='catalog/bookinstance_list_borrowed_user.html'\n",
    "    paginate_by = 10\n",
    "\n",
    "    def get_queryset(self):\n",
    "        return BookInstance.objects.filter(borrower=self.request.user).filter(status__exact='o').order_by('due_back')"
   ]
  },
  {
   "attachments": {},
   "cell_type": "markdown",
   "metadata": {},
   "source": [
    "You would use this in `test_views.py`:"
   ]
  },
  {
   "cell_type": "code",
   "execution_count": null,
   "metadata": {},
   "outputs": [],
   "source": [
    "import datetime\n",
    "\n",
    "from django.utils import timezone\n",
    "from django.contrib.auth.models import User # Required to assign User as a borrower\n",
    "\n",
    "from catalog.models import BookInstance, Book, Genre, Language\n",
    "\n",
    "class LoanedBookInstancesByUserListViewTest(TestCase):\n",
    "    def setUp(self):\n",
    "        # Create two users\n",
    "        test_user1 = User.objects.create_user(username='testuser1', password='1X<ISRUkw+tuK')\n",
    "        test_user2 = User.objects.create_user(username='testuser2', password='2HJ1vRV0Z&3iD')\n",
    "\n",
    "        test_user1.save()\n",
    "        test_user2.save()\n",
    "\n",
    "        # Create a book\n",
    "        test_author = Author.objects.create(first_name='John', last_name='Smith')\n",
    "        test_genre = Genre.objects.create(name='Fantasy')\n",
    "        test_language = Language.objects.create(name='English')\n",
    "        test_book = Book.objects.create(\n",
    "            title='Book Title',\n",
    "            summary='My book summary',\n",
    "            isbn='ABCDEFG',\n",
    "            author=test_author,\n",
    "            language=test_language,\n",
    "        )\n",
    "\n",
    "        # Create genre as a post-step\n",
    "        genre_objects_for_book = Genre.objects.all()\n",
    "        test_book.genre.set(genre_objects_for_book) # Direct assignment of many-to-many types not allowed.\n",
    "        test_book.save()\n",
    "\n",
    "        # Create 30 BookInstance objects\n",
    "        number_of_book_copies = 30\n",
    "        for book_copy in range(number_of_book_copies):\n",
    "            return_date = timezone.localtime() + datetime.timedelta(days=book_copy%5)\n",
    "            the_borrower = test_user1 if book_copy % 2 else test_user2\n",
    "            status = 'm'\n",
    "            BookInstance.objects.create(\n",
    "                book=test_book,\n",
    "                imprint='Unlikely Imprint, 2016',\n",
    "                due_back=return_date,\n",
    "                borrower=the_borrower,\n",
    "                status=status,\n",
    "            )\n",
    "\n",
    "    def test_redirect_if_not_logged_in(self):\n",
    "        response = self.client.get(reverse('my-borrowed'))\n",
    "        self.assertRedirects(response, '/accounts/login/?next=/catalog/mybooks/')\n",
    "\n",
    "    def test_logged_in_uses_correct_template(self):\n",
    "        login = self.client.login(username='testuser1', password='1X<ISRUkw+tuK')\n",
    "        response = self.client.get(reverse('my-borrowed'))\n",
    "\n",
    "        # Check our user is logged in\n",
    "        self.assertEqual(str(response.context['user']), 'testuser1')\n",
    "        # Check that we got a response \"success\"\n",
    "        self.assertEqual(response.status_code, 200)\n",
    "\n",
    "        # Check we used correct template\n",
    "        self.assertTemplateUsed(response, 'catalog/bookinstance_list_borrowed_user.html')\n"
   ]
  },
  {
   "attachments": {},
   "cell_type": "markdown",
   "metadata": {},
   "source": [
    "We use `setUp()` to create user login accounts and `BookInstance` objects with their associated records that we use in the tests. Half the books are borrowed by each test user, but at first they are \"maintenance\". We use `setUp()` because we will MODIFY the objects."
   ]
  },
  {
   "attachments": {},
   "cell_type": "markdown",
   "metadata": {},
   "source": [
    "### NOTE! THE SETUP CODE USES `Language`, WHICH YOUR CODE MAY NOT HAVE!!"
   ]
  },
  {
   "attachments": {},
   "cell_type": "markdown",
   "metadata": {},
   "source": [
    "Note in `test_redirect_if_not_logged_in()`, we use `assertRedirects()` to check when the user is not logged in, they are redirected to a login page (They are not logged in at first). Then in `test_logged_in_uses_correct_template()`, we login the user, and do some checks."
   ]
  },
  {
   "attachments": {},
   "cell_type": "markdown",
   "metadata": {},
   "source": [
    "Plug in the below code inside of the same `ViewTest()`:"
   ]
  },
  {
   "cell_type": "code",
   "execution_count": null,
   "metadata": {},
   "outputs": [],
   "source": [
    "    def test_only_borrowed_books_in_list(self):\n",
    "        login = self.client.login(username='testuser1', password='1X<ISRUkw+tuK')\n",
    "        response = self.client.get(reverse('my-borrowed'))\n",
    "\n",
    "        # Check our user is logged in\n",
    "        self.assertEqual(str(response.context['user']), 'testuser1')\n",
    "        # Check that we got a response \"success\"\n",
    "        self.assertEqual(response.status_code, 200)\n",
    "\n",
    "        # Check that initially we don't have any books in list (none on loan)\n",
    "        self.assertTrue('bookinstance_list' in response.context)\n",
    "        self.assertEqual(len(response.context['bookinstance_list']), 0)\n",
    "\n",
    "        # Now change all books to be on loan\n",
    "        books = BookInstance.objects.all()[:10]\n",
    "\n",
    "        for book in books:\n",
    "            book.status = 'o'\n",
    "            book.save()\n",
    "\n",
    "        # Check that now we have borrowed books in the list\n",
    "        response = self.client.get(reverse('my-borrowed'))\n",
    "        # Check our user is logged in\n",
    "        self.assertEqual(str(response.context['user']), 'testuser1')\n",
    "        # Check that we got a response \"success\"\n",
    "        self.assertEqual(response.status_code, 200)\n",
    "\n",
    "        self.assertTrue('bookinstance_list' in response.context)\n",
    "\n",
    "        # Confirm all books belong to testuser1 and are on loan\n",
    "        for bookitem in response.context['bookinstance_list']:\n",
    "            self.assertEqual(response.context['user'], bookitem.borrower)\n",
    "            self.assertEqual(bookitem.status, 'o')\n",
    "\n",
    "    def test_pages_ordered_by_due_date(self):\n",
    "        # Change all books to be on loan\n",
    "        for book in BookInstance.objects.all():\n",
    "            book.status='o'\n",
    "            book.save()\n",
    "\n",
    "        login = self.client.login(username='testuser1', password='1X<ISRUkw+tuK')\n",
    "        response = self.client.get(reverse('my-borrowed'))\n",
    "\n",
    "        # Check our user is logged in\n",
    "        self.assertEqual(str(response.context['user']), 'testuser1')\n",
    "        # Check that we got a response \"success\"\n",
    "        self.assertEqual(response.status_code, 200)\n",
    "\n",
    "        # Confirm that of the items, only 10 are displayed due to pagination.\n",
    "        self.assertEqual(len(response.context['bookinstance_list']), 10)\n",
    "\n",
    "        last_date = 0\n",
    "        for book in response.context['bookinstance_list']:\n",
    "            if last_date == 0:\n",
    "                last_date = book.due_back\n",
    "            else:\n",
    "                self.assertTrue(last_date <= book.due_back)\n",
    "                last_date = book.due_back\n"
   ]
  },
  {
   "attachments": {},
   "cell_type": "markdown",
   "metadata": {},
   "source": [
    "The tests above verify the view returns books that are on loan."
   ]
  },
  {
   "attachments": {},
   "cell_type": "markdown",
   "metadata": {},
   "source": [
    "Here we will test views with forms, which is more complicated because we need to test more paths, like the initial display, display AFTER data validation has failed, display AFTER data validation has succeeded. We will look at the `renew_book_librarian()` view form:"
   ]
  },
  {
   "cell_type": "code",
   "execution_count": null,
   "metadata": {},
   "outputs": [],
   "source": [
    "from catalog.forms import RenewBookForm\n",
    "\n",
    "@permission_required('catalog.can_mark_returned')\n",
    "def renew_book_librarian(request, pk):\n",
    "    \"\"\"View function for renewing a specific BookInstance by librarian.\"\"\"\n",
    "    book_instance = get_object_or_404(BookInstance, pk=pk)\n",
    "\n",
    "    # If this is a POST request then process the Form data\n",
    "    if request.method == 'POST':\n",
    "\n",
    "        # Create a form instance and populate it with data from the request (binding):\n",
    "        book_renewal_form = RenewBookForm(request.POST)\n",
    "\n",
    "        # Check if the form is valid:\n",
    "        if form.is_valid():\n",
    "            # process the data in form.cleaned_data as required (here we just write it to the model due_back field)\n",
    "            book_instance.due_back = form.cleaned_data['renewal_date']\n",
    "            book_instance.save()\n",
    "\n",
    "            # redirect to a new URL:\n",
    "            return HttpResponseRedirect(reverse('all-borrowed'))\n",
    "\n",
    "    # If this is a GET (or any other method) create the default form\n",
    "    else:\n",
    "        proposed_renewal_date = datetime.date.today() + datetime.timedelta(weeks=3)\n",
    "        book_renewal_form = RenewBookForm(initial={'renewal_date': proposed_renewal_date})\n",
    "\n",
    "    context = {\n",
    "        'book_renewal_form': book_renewal_form,\n",
    "        'book_instance': book_instance,\n",
    "    }\n",
    "\n",
    "    return render(request, 'catalog/book_renew_librarian.html', context)\n"
   ]
  },
  {
   "attachments": {},
   "cell_type": "markdown",
   "metadata": {},
   "source": [
    "Put this in the `test_views.py`:"
   ]
  },
  {
   "cell_type": "code",
   "execution_count": null,
   "metadata": {},
   "outputs": [],
   "source": [
    "import uuid\n",
    "\n",
    "from django.contrib.auth.models import Permission # Required to grant the permission needed to set a book as returned.\n",
    "\n",
    "class RenewBookInstancesViewTest(TestCase):\n",
    "    def setUp(self):\n",
    "        # Create a user\n",
    "        test_user1 = User.objects.create_user(username='testuser1', password='1X<ISRUkw+tuK')\n",
    "        test_user2 = User.objects.create_user(username='testuser2', password='2HJ1vRV0Z&3iD')\n",
    "\n",
    "        test_user1.save()\n",
    "        test_user2.save()\n",
    "\n",
    "        # Give test_user2 permission to renew books.\n",
    "        permission = Permission.objects.get(name='Set book as returned')\n",
    "        test_user2.user_permissions.add(permission)\n",
    "        test_user2.save()\n",
    "\n",
    "        # Create a book\n",
    "        test_author = Author.objects.create(first_name='John', last_name='Smith')\n",
    "        test_genre = Genre.objects.create(name='Fantasy')\n",
    "        test_language = Language.objects.create(name='English')\n",
    "        test_book = Book.objects.create(\n",
    "            title='Book Title',\n",
    "            summary='My book summary',\n",
    "            isbn='ABCDEFG',\n",
    "            author=test_author,\n",
    "            language=test_language,\n",
    "        )\n",
    "\n",
    "        # Create genre as a post-step\n",
    "        genre_objects_for_book = Genre.objects.all()\n",
    "        test_book.genre.set(genre_objects_for_book) # Direct assignment of many-to-many types not allowed.\n",
    "        test_book.save()\n",
    "\n",
    "        # Create a BookInstance object for test_user1\n",
    "        return_date = datetime.date.today() + datetime.timedelta(days=5)\n",
    "        self.test_bookinstance1 = BookInstance.objects.create(\n",
    "            book=test_book,\n",
    "            imprint='Unlikely Imprint, 2016',\n",
    "            due_back=return_date,\n",
    "            borrower=test_user1,\n",
    "            status='o',\n",
    "        )\n",
    "\n",
    "        # Create a BookInstance object for test_user2\n",
    "        return_date = datetime.date.today() + datetime.timedelta(days=5)\n",
    "        self.test_bookinstance2 = BookInstance.objects.create(\n",
    "            book=test_book,\n",
    "            imprint='Unlikely Imprint, 2016',\n",
    "            due_back=return_date,\n",
    "            borrower=test_user2,\n",
    "            status='o',\n",
    "        )"
   ]
  },
  {
   "attachments": {},
   "cell_type": "markdown",
   "metadata": {},
   "source": [
    "Notice we test the view is only available to users with `can_mark_return` permission. The rest is self explanatory."
   ]
  },
  {
   "attachments": {},
   "cell_type": "markdown",
   "metadata": {},
   "source": [
    "Next add this method/test to the test class:"
   ]
  },
  {
   "cell_type": "code",
   "execution_count": null,
   "metadata": {},
   "outputs": [],
   "source": [
    "   def test_redirect_if_not_logged_in(self):\n",
    "        response = self.client.get(reverse('renew-book-librarian', kwargs={'pk': self.test_bookinstance1.pk}))\n",
    "        # Manually check redirect (Can't use assertRedirect, because the redirect URL is unpredictable)\n",
    "        self.assertEqual(response.status_code, 302)\n",
    "        self.assertTrue(response.url.startswith('/accounts/login/'))\n",
    "\n",
    "    def test_forbidden_if_logged_in_but_not_correct_permission(self):\n",
    "        login = self.client.login(username='testuser1', password='1X<ISRUkw+tuK')\n",
    "        response = self.client.get(reverse('renew-book-librarian', kwargs={'pk': self.test_bookinstance1.pk}))\n",
    "        self.assertEqual(response.status_code, 403)\n",
    "\n",
    "    def test_logged_in_with_permission_borrowed_book(self):\n",
    "        login = self.client.login(username='testuser2', password='2HJ1vRV0Z&3iD')\n",
    "        response = self.client.get(reverse('renew-book-librarian', kwargs={'pk': self.test_bookinstance2.pk}))\n",
    "\n",
    "        # Check that it lets us login - this is our book and we have the right permissions.\n",
    "        self.assertEqual(response.status_code, 200)\n",
    "\n",
    "    def test_logged_in_with_permission_another_users_borrowed_book(self):\n",
    "        login = self.client.login(username='testuser2', password='2HJ1vRV0Z&3iD')\n",
    "        response = self.client.get(reverse('renew-book-librarian', kwargs={'pk': self.test_bookinstance1.pk}))\n",
    "\n",
    "        # Check that it lets us login. We're a librarian, so we can view any users book\n",
    "        self.assertEqual(response.status_code, 200)\n",
    "\n",
    "    def test_HTTP404_for_invalid_book_if_logged_in(self):\n",
    "        # unlikely UID to match our bookinstance!\n",
    "        test_uid = uuid.uuid4()\n",
    "        login = self.client.login(username='testuser2', password='2HJ1vRV0Z&3iD')\n",
    "        response = self.client.get(reverse('renew-book-librarian', kwargs={'pk':test_uid}))\n",
    "        self.assertEqual(response.status_code, 404)\n",
    "\n",
    "    def test_uses_correct_template(self):\n",
    "        login = self.client.login(username='testuser2', password='2HJ1vRV0Z&3iD')\n",
    "        response = self.client.get(reverse('renew-book-librarian', kwargs={'pk': self.test_bookinstance1.pk}))\n",
    "        self.assertEqual(response.status_code, 200)\n",
    "\n",
    "        # Check we used correct template\n",
    "        self.assertTemplateUsed(response, 'catalog/book_renew_librarian.html')\n"
   ]
  },
  {
   "attachments": {},
   "cell_type": "markdown",
   "metadata": {},
   "source": [
    "These are the tests to check correect permissions: when the user is not logged in, user is logged in with incorrect permission, user has permission but not the borrower, and accessing a `BookInstance` that doesn't exist. And we check the correct template is used."
   ]
  },
  {
   "attachments": {},
   "cell_type": "markdown",
   "metadata": {},
   "source": [
    "Add this to the bottom as well:"
   ]
  },
  {
   "cell_type": "code",
   "execution_count": null,
   "metadata": {},
   "outputs": [],
   "source": [
    "    def test_form_renewal_date_initially_has_date_three_weeks_in_future(self):\n",
    "        login = self.client.login(username='testuser2', password='2HJ1vRV0Z&3iD')\n",
    "        response = self.client.get(reverse('renew-book-librarian', kwargs={'pk': self.test_bookinstance1.pk}))\n",
    "        self.assertEqual(response.status_code, 200)\n",
    "\n",
    "        date_3_weeks_in_future = datetime.date.today() + datetime.timedelta(weeks=3)\n",
    "        self.assertEqual(response.context['form'].initial['renewal_date'], date_3_weeks_in_future)\n"
   ]
  },
  {
   "attachments": {},
   "cell_type": "markdown",
   "metadata": {},
   "source": [
    "This code above checks the initial date for form is 3 weeks into the future."
   ]
  },
  {
   "attachments": {},
   "cell_type": "markdown",
   "metadata": {},
   "source": [
    "Also add:"
   ]
  },
  {
   "cell_type": "code",
   "execution_count": null,
   "metadata": {},
   "outputs": [],
   "source": [
    "    def test_redirects_to_all_borrowed_book_list_on_success(self):\n",
    "        login = self.client.login(username='testuser2', password='2HJ1vRV0Z&3iD')\n",
    "        valid_date_in_future = datetime.date.today() + datetime.timedelta(weeks=2)\n",
    "        response = self.client.post(reverse('renew-book-librarian', kwargs={'pk':self.test_bookinstance1.pk,}), {'renewal_date':valid_date_in_future})\n",
    "        self.assertRedirects(response, reverse('all-borrowed'))"
   ]
  },
  {
   "attachments": {},
   "cell_type": "markdown",
   "metadata": {},
   "source": [
    "This checks if the view redirects to a list of all borrowed books."
   ]
  },
  {
   "attachments": {},
   "cell_type": "markdown",
   "metadata": {},
   "source": [
    "Note that the code above may not work whether or not you did the \"all-borrowed\" challenge."
   ]
  },
  {
   "attachments": {},
   "cell_type": "markdown",
   "metadata": {},
   "source": [
    "Now copy the last two functions into the class:"
   ]
  },
  {
   "cell_type": "code",
   "execution_count": null,
   "metadata": {},
   "outputs": [],
   "source": [
    "    def test_form_invalid_renewal_date_past(self):\n",
    "        login = self.client.login(username='testuser2', password='2HJ1vRV0Z&3iD')\n",
    "        date_in_past = datetime.date.today() - datetime.timedelta(weeks=1)\n",
    "        response = self.client.post(reverse('renew-book-librarian', kwargs={'pk': self.test_bookinstance1.pk}), {'renewal_date': date_in_past})\n",
    "        self.assertEqual(response.status_code, 200)\n",
    "        self.assertFormError(response, 'form', 'renewal_date', 'Invalid date - renewal in past')\n",
    "\n",
    "    def test_form_invalid_renewal_date_future(self):\n",
    "        login = self.client.login(username='testuser2', password='2HJ1vRV0Z&3iD')\n",
    "        invalid_date_in_future = datetime.date.today() + datetime.timedelta(weeks=5)\n",
    "        response = self.client.post(reverse('renew-book-librarian', kwargs={'pk': self.test_bookinstance1.pk}), {'renewal_date': invalid_date_in_future})\n",
    "        self.assertEqual(response.status_code, 200)\n",
    "        self.assertFormError(response, 'form', 'renewal_date', 'Invalid date - renewal more than 4 weeks ahead')"
   ]
  },
  {
   "attachments": {},
   "cell_type": "markdown",
   "metadata": {},
   "source": [
    "These test `POST` requests, with invalid renewal dates."
   ]
  },
  {
   "attachments": {},
   "cell_type": "markdown",
   "metadata": {},
   "source": [
    "WE ARE DONE!"
   ]
  },
  {
   "attachments": {},
   "cell_type": "markdown",
   "metadata": {},
   "source": [
    "We can also use thid party libraries or other test tools to use, like <a href=\"https://coverage.readthedocs.io/en/latest/\">Coverage</a> or <a href=\"https://developer.mozilla.org/en-US/docs/Learn/Tools_and_testing/Cross_browser_testing/Your_own_automation_environment\">Selenium</a>."
   ]
  },
  {
   "attachments": {},
   "cell_type": "markdown",
   "metadata": {},
   "source": [
    "# Deploying Django to Production"
   ]
  },
  {
   "attachments": {},
   "cell_type": "markdown",
   "metadata": {},
   "source": [
    "Now we want to install it on a public web server to be accessed over the internet. We have been using the Django web server to shar it to the local browser/network. Before we host a website externally, we want to:"
   ]
  },
  {
   "attachments": {},
   "cell_type": "markdown",
   "metadata": {},
   "source": [
    "* Change some project settings\n",
    "* Choose an environment to host the app\n",
    "* Choose an environment to host static files\n",
    "* Set up a production-level infrastructure to serve the website"
   ]
  },
  {
   "attachments": {},
   "cell_type": "markdown",
   "metadata": {},
   "source": [
    "## What is a Production Environment?"
   ]
  },
  {
   "attachments": {},
   "cell_type": "markdown",
   "metadata": {},
   "source": [
    "It is the environment provided by the server computer where you will run the website for external consumption. It includes:\n",
    "* Computer hardware the website runs on\n",
    "* Operating System\n",
    "* Programming language runtime/framework libraries thats on top of the website\n",
    "* Web server to serve pages and other content (e.g. Apache)\n",
    "* Application server to pass \"dynamic\" requests from the Django website and web server\n",
    "* Databases that the website depends on\n",
    "* There are also other things to have, like reverse proxy, load balancer, etc."
   ]
  },
  {
   "attachments": {},
   "cell_type": "markdown",
   "metadata": {},
   "source": [
    "You COULD have the server computer be on your premises and connected to the internet using a \"Fast Link\", but most of the time, it is hosted \"in the cloud\".  \n",
    "This means the code is ran on a remote or virtual computer in the ***hosting company's*** data center.  \n",
    "This usually gives guaranteed level of computing resources like CPU, RAM, and internet connectivity for a certain price.  \n",
    "This is referred to: ***Infrastructure as a Service (IaaS)***.  \n",
    "In this method, you install components separately. Some vendors have \"fully-featured\" environments."
   ]
  },
  {
   "attachments": {},
   "cell_type": "markdown",
   "metadata": {},
   "source": [
    "There is also ***Platform as a Service (PaaS)***. In this, you don't need to worry about most of the production environment (web server, application server, load balancers) because it takes care of them for you."
   ]
  },
  {
   "attachments": {},
   "cell_type": "markdown",
   "metadata": {},
   "source": [
    "Because setting up your website on a PaaS system is easier, we will do use this."
   ]
  },
  {
   "attachments": {},
   "cell_type": "markdown",
   "metadata": {},
   "source": [
    "## Choosing a Hosting Provider"
   ]
  },
  {
   "attachments": {},
   "cell_type": "markdown",
   "metadata": {},
   "source": [
    "There are tons of vendors that support Django, all providing different types of environmnets like IaaS or PaaS, each with different levels of computing and network resources at different prices."
   ]
  },
  {
   "attachments": {},
   "cell_type": "markdown",
   "metadata": {},
   "source": [
    "Here is what to consider when choosing a host:"
   ]
  },
  {
   "attachments": {},
   "cell_type": "markdown",
   "metadata": {},
   "source": [
    "* How busy the site will be, and cost of data and computing resources required to meet that demand.\n",
    "* Level of support for scaling \"horizontally\" (more machines) and \"vertically\" (make machines more powerful) and cost of doing so.\n",
    "* Where supplier has data centres, affecting the speed.\n",
    "* Host's uptime and downtime performance.\n",
    "* Tools for managing the site, and if they are easy to use and secure (SFTP vs FTP).\n",
    "* Inbuilt frameworks to monitor the server.\n",
    "* Limitations, like blocking certain services like email. Some offer certain number of hours of \"live time\", or offer small amount of storage.\n",
    "* Benefits like free domain names and support for SSL certificates you would usually pay for."
   ]
  },
  {
   "attachments": {},
   "cell_type": "markdown",
   "metadata": {},
   "source": [
    "There are some site that provide \"free\" computing environments intended to evalute and test the site. But they are resource constrained. Popular choices are:\n",
    "* Railway\n",
    "* Python Anywhere\n",
    "* Amazon Web Services\n",
    "* Microsoft Azure"
   ]
  },
  {
   "attachments": {},
   "cell_type": "markdown",
   "metadata": {},
   "source": [
    "## Getting Your Website Ready to Publish"
   ]
  },
  {
   "attachments": {},
   "cell_type": "markdown",
   "metadata": {},
   "source": [
    "The critical settings to check are:\n",
    "* `DEBUG` set to `False`\n",
    "* `SECRET_KEY`. Used as a large random value for CSRF protection. We must make sure it is not in source control or accessible OUTSIDE the production server. Django suggests it to be loaded from an environment variable or read from a server-only file:"
   ]
  },
  {
   "cell_type": "code",
   "execution_count": null,
   "metadata": {},
   "outputs": [],
   "source": [
    "# Read SECRET_KEY from an environment variable\n",
    "import os\n",
    "SECRET_KEY = os.environ['SECRET_KEY']\n",
    "\n",
    "# OR\n",
    "\n",
    "# Read secret key from a file\n",
    "with open('/etc/secret_key.txt') as f:\n",
    "    SECRET_KEY = f.read().strip()\n"
   ]
  },
  {
   "attachments": {},
   "cell_type": "markdown",
   "metadata": {},
   "source": [
    "In `settings.py`, disable the original `SECRET_KEY` config, and add these lines:"
   ]
  },
  {
   "cell_type": "code",
   "execution_count": null,
   "metadata": {},
   "outputs": [],
   "source": [
    "# SECURITY WARNING: keep the secret key used in production secret!\n",
    "# SECRET_KEY = \"cg#p$g+j9tax!#a3cup@1$8obt2_+&k3q+pmu)5%asj6yjpkag\"\n",
    "import os\n",
    "SECRET_KEY = os.environ.get('DJANGO_SECRET_KEY', 'cg#p$g+j9tax!#a3cup@1$8obt2_+&k3q+pmu)5%asj6yjpkag')"
   ]
  },
  {
   "attachments": {},
   "cell_type": "markdown",
   "metadata": {},
   "source": [
    "In the same file, find `DEBUG = True`, and replace it with:"
   ]
  },
  {
   "cell_type": "code",
   "execution_count": null,
   "metadata": {},
   "outputs": [],
   "source": [
    "# SECURITY WARNING: don't run with debug turned on in production!\n",
    "# DEBUG = True\n",
    "DEBUG = os.environ.get('DJANGO_DEBUG', '') != 'False'"
   ]
  },
  {
   "attachments": {},
   "cell_type": "markdown",
   "metadata": {},
   "source": [
    "In the above code, `DEBUG` will be `True` by default, and only `False` if `DJANGO_DEBUG` an environment variable, is set to `False`. Environment variables are strings not Python types. Do this by running this in the command prompt of Linux:"
   ]
  },
  {
   "cell_type": "raw",
   "metadata": {},
   "source": [
    "export DJANGO_DEBUG=False"
   ]
  },
  {
   "attachments": {},
   "cell_type": "markdown",
   "metadata": {},
   "source": [
    "To see a full checklist, go <a href=\"https://docs.djangoproject.com/en/4.0/howto/deployment/checklist/\">Here</a>."
   ]
  },
  {
   "attachments": {},
   "cell_type": "markdown",
   "metadata": {},
   "source": [
    "Or you can see a number of the checklist by typing these in the command prompt:"
   ]
  },
  {
   "cell_type": "raw",
   "metadata": {},
   "source": [
    "python3 manage.py check --deploy"
   ]
  },
  {
   "attachments": {},
   "cell_type": "markdown",
   "metadata": {},
   "source": [
    "## Installing LocalLibrary on Railway"
   ]
  },
  {
   "attachments": {},
   "cell_type": "markdown",
   "metadata": {},
   "source": [
    "Why Railway?"
   ]
  },
  {
   "attachments": {},
   "cell_type": "markdown",
   "metadata": {},
   "source": [
    "* Railway has a starter plan that is free, with some limitations\n",
    "* Takes care of most of the infrastructure, so we aren't worrying about servers, load balancers, etc.\n",
    "* Focus on developer experience for development and deployment\n",
    "* Skills and concepts while learning Railway are transferrable\n",
    "* The limitations don't impact us much:\n",
    "    * Start plan offers 500 hours of deployment time each month. At the end of each month, the projects must be redeployed.\n",
    "    * Only has 512 MB of RAM and 1 GB of storage memory\n",
    "    * Only one supported region, US\n",
    "    * Other limitations you can look up\n",
    "* Service is reliable, and scaling is very easy"
   ]
  },
  {
   "attachments": {},
   "cell_type": "markdown",
   "metadata": {},
   "source": [
    "How does Railway Work?"
   ]
  },
  {
   "attachments": {},
   "cell_type": "markdown",
   "metadata": {},
   "source": [
    "To execute the app, Railway needs to set up the environment and dependencies, and understand how it's launched. For Django apps, we provide info using text files:\n",
    "* `runtime.txt`: states programming language and version to use\n",
    "* `requirements.txt`: lists Python dependencies for the site, including Django\n",
    "* `Procfile`: list of processes to exectue to start the web app. For Django, it's usually the Gunicorn we app server (`.wsgi` script)\n",
    "* `wsgi.py`: WSGI config Railway uses to call Django app."
   ]
  },
  {
   "attachments": {},
   "cell_type": "markdown",
   "metadata": {},
   "source": [
    "When the app is running, it configures itself using environment variables. An example is an app using a database can get the address using variable: `DATABASE_URL`. The database service can be hosted by Railway or someone else."
   ]
  },
  {
   "attachments": {},
   "cell_type": "markdown",
   "metadata": {},
   "source": [
    "Devs interact with Railway using the Railway site, and with the Command Line Interface (CLI) tool. It uses a local GitHub Repo. It allows you to upload the repo to the live site, get logs of running processes, set and get confi variables, and much more. To get our app on Railway, we need to put our Web App in a git repo, add the files above, integrate with a database, and make change to properly handle static files. Then we set up a Railway account, get the Railway client, and install our website."
   ]
  },
  {
   "attachments": {},
   "cell_type": "markdown",
   "metadata": {},
   "source": [
    "### Creating an Application Repository on GitHub"
   ]
  },
  {
   "attachments": {},
   "cell_type": "markdown",
   "metadata": {},
   "source": [
    "1. Make a github account\n",
    "2. Create a New Repo\n",
    "3. Click on Clone or download button on the repo page\n",
    "4. Copy the URL value from the text field"
   ]
  },
  {
   "attachments": {},
   "cell_type": "markdown",
   "metadata": {},
   "source": [
    "Then, we will clone it on our local computer:\n",
    "1. Install git on your computer\n",
    "2. Open a command prompt and clone the repo using the URL you copied above:  \n",
    "    `git clone https://github.com/<your_git_user_id>/django_local_library.git`  \n",
    "    This will create a new repo in a new folder in the current working directory.\n",
    "3. Navigate to the new repo:  \n",
    "    `cd django_local_library` (if your repo is called django_local_library)\n",
    "4. Copy the Django app into this folder (all files at same level as `manage.py` and below it, NOT the parent `locallibrary` folder)\n",
    "5. Open the `.gitignore` file, copy the following lines at the bottom, then save. (Used to identify files that should NOT be uploaded to git by default):"
   ]
  },
  {
   "cell_type": "raw",
   "metadata": {},
   "source": [
    "# Text backup files\n",
    "*.bak\n",
    "\n",
    "# Database\n",
    "*.sqlite3"
   ]
  },
  {
   "attachments": {},
   "cell_type": "markdown",
   "metadata": {},
   "source": [
    "6. Open a command prompt and use the `add` command to add all files to git. This adds all files that aren't ignored by `.gitignore` to the \"staging area\":"
   ]
  },
  {
   "cell_type": "raw",
   "metadata": {},
   "source": [
    "git add -A"
   ]
  },
  {
   "attachments": {},
   "cell_type": "markdown",
   "metadata": {},
   "source": [
    "7. Use `status` command to check all files you are about to `commit` (include source files, not binary, temp files): `git status`\n",
    "8. When satisfied, `commit` the files to your local repo. This is the same as signing off the changes and making them an official part of the local repo. `git commit -m \"Some Message\"`\n",
    "9. But the remote repo is not changed. We must synchronize, using `push`, our local repo to the remote GitHub repo using:  \n",
    "    `git push origin main`"
   ]
  },
  {
   "attachments": {},
   "cell_type": "markdown",
   "metadata": {},
   "source": [
    "When done, go back to the GitHub page, and see how whole app is uploaded."
   ]
  },
  {
   "attachments": {},
   "cell_type": "markdown",
   "metadata": {},
   "source": [
    "## Update the App for Railway"
   ]
  },
  {
   "attachments": {},
   "cell_type": "markdown",
   "metadata": {},
   "source": [
    "Here we look at the changes needed to make the app work on Railway."
   ]
  },
  {
   "attachments": {},
   "cell_type": "markdown",
   "metadata": {},
   "source": [
    "A Procfile is the web apps \"entry point\". It lists commands to be executed by Railway to start the site."
   ]
  },
  {
   "attachments": {},
   "cell_type": "markdown",
   "metadata": {},
   "source": [
    "Create the file `Procfile` (no extension) in the root of the github rep and paste:"
   ]
  },
  {
   "cell_type": "raw",
   "metadata": {},
   "source": [
    "web: python manage.py makemigrations && python manage.py migrate && python manage.py collectstatic && gunicorn locallibrary.wsgi"
   ]
  },
  {
   "attachments": {},
   "cell_type": "markdown",
   "metadata": {},
   "source": [
    "`web:` prefix tells Railway this is a web process and can be sent HTTP traffic. Then we call `python manage.py migrate` to set up the database tables. `collectstatic` gets the static files into the folder defined by the `STATIC_ROOT` project setting. (We will go over it later) Then we start the gunicorn process, a popular web app server, passing it conf info in the module `locallibrary.wsgi` that was created with `wsgi.py`"
   ]
  },
  {
   "attachments": {},
   "cell_type": "markdown",
   "metadata": {},
   "source": [
    "## NOTE!!! MAKRE SURE `locallibrary.wsgi` IS THE NAME OF THE PROJECT"
   ]
  },
  {
   "attachments": {},
   "cell_type": "markdown",
   "metadata": {},
   "source": [
    "We can use Procfile to start worker processes or run non-interactive tasks before the release is deployed."
   ]
  },
  {
   "attachments": {},
   "cell_type": "markdown",
   "metadata": {},
   "source": [
    "Gunicorn is a pure-python HTTP server used for serving Django WSGI apps on Railway. We didn't need to use it during development, but we will install it locally so it becomes part of our requirements for Railway to set up on the remote server. Use `pip install gunicorn` at the repo"
   ]
  },
  {
   "attachments": {},
   "cell_type": "markdown",
   "metadata": {},
   "source": [
    "### Database Configuration"
   ]
  },
  {
   "attachments": {},
   "cell_type": "markdown",
   "metadata": {},
   "source": [
    "We have been using SQLite, the default Django database for development, which is good for small to medium websites. We can't use SQLite on some hosting services because the services don't provide persistent data storage in the application environment, which is needed for SQLite. Railway is not affected by this, but we will show another way to work on other services."
   ]
  },
  {
   "attachments": {},
   "cell_type": "markdown",
   "metadata": {},
   "source": [
    "We will use a database that runs on its own process on the internet, which the Django library application accesses using an address passed as an environment variable. We will be using the `Postgres` database that is hosted on Railway, but we could use any service. The `DATABASE_URL` environment variable is what to use, and instead of hard-coding this info into Django, we will use the `dj-database-url` package to parse the `DATABASE_URL` environment variable and automatically convert it to Django's desired config format. We also neet to install `psycopg2`, because Django needs this to interact with Postres databases."
   ]
  },
  {
   "attachments": {},
   "cell_type": "markdown",
   "metadata": {},
   "source": [
    "Let's install `dj-database-url` locally:"
   ]
  },
  {
   "cell_type": "raw",
   "metadata": {},
   "source": [
    "pip install dj-database-url"
   ]
  },
  {
   "attachments": {},
   "cell_type": "markdown",
   "metadata": {},
   "source": [
    "Then in `settings.py`, paste this configuration at the bottom:"
   ]
  },
  {
   "cell_type": "code",
   "execution_count": null,
   "metadata": {},
   "outputs": [],
   "source": [
    "# Update database configuration from $DATABASE_URL.\n",
    "import dj_database_url\n",
    "db_from_env = dj_database_url.config(conn_max_age=500)\n",
    "DATABASES['default'].update(db_from_env)"
   ]
  },
  {
   "attachments": {},
   "cell_type": "markdown",
   "metadata": {},
   "source": [
    "Let's install `psycopg2` locally:"
   ]
  },
  {
   "cell_type": "raw",
   "metadata": {},
   "source": [
    "pip install psycopg2-binary"
   ]
  },
  {
   "attachments": {},
   "cell_type": "markdown",
   "metadata": {},
   "source": [
    "Django will use SQLite by default during development, unless `DATABASE_URL` is set. To switch to Postgres completely and use it for development and production, set the same environment variable in your development environment (Railway makes it easy). Or you can also install use a self-hosted Postres database on your local computer."
   ]
  },
  {
   "attachments": {},
   "cell_type": "markdown",
   "metadata": {},
   "source": [
    "### Serving Static Files in Production"
   ]
  },
  {
   "attachments": {},
   "cell_type": "markdown",
   "metadata": {},
   "source": [
    "During development, we use Django and Django development web server to serve both HTML and static files (CSS, JavaScript). This is inefficient for static files, because the requests have to pass through Django even though Django doesn't do anything with them. This doesn't matter during development, but it does in production because of performance. In production, we separate static files from the Django web app, which makes it easier to serve them directly from the web server, or from a content delivery network (CDN)."
   ]
  },
  {
   "attachments": {},
   "cell_type": "markdown",
   "metadata": {},
   "source": [
    "The important setting variables are:\n",
    "* `STATIC_URL`: Base url location where static files are served, like on a CDN\n",
    "* `STATIC_ROOT`: Absolute path to a directory where Django's collectstatic tool to gather any static files referenced in our templates. These can be uploaded as a groupto where the files are hosted.\n",
    "* `STATICFILES_DIRS`: Lists additional directories that Django's collectstatic tool should search for static files."
   ]
  },
  {
   "attachments": {},
   "cell_type": "markdown",
   "metadata": {},
   "source": [
    "Django templates refer to static file location relative to a `static` tag. This tag was used in the base template we created. It then maps to the `STATIC_URL` setting. So static files can be uplodaded to any host and you can update your app to find them using this setting."
   ]
  },
  {
   "attachments": {},
   "cell_type": "markdown",
   "metadata": {},
   "source": [
    "The collectstatic tool collects static files into the folder defined by `STATIC_ROOT` project setting. Then is called with: `python manage.py collectstatic`"
   ]
  },
  {
   "attachments": {},
   "cell_type": "markdown",
   "metadata": {},
   "source": [
    "collectstatic is run by Railway BEFORE the app is uploaded, copying all the static files in the app to the location specified in `STATIC_ROOT`. Then, `Whitenoise` (which we look at below) finds the files from the location defined by `STATIC_ROOT` and serves them at the base URL defined by `STATIC_URL`."
   ]
  },
  {
   "attachments": {},
   "cell_type": "markdown",
   "metadata": {},
   "source": [
    "In `settings.py` and copy the following config into the bottom:"
   ]
  },
  {
   "cell_type": "code",
   "execution_count": null,
   "metadata": {},
   "outputs": [],
   "source": [
    "# Static files (CSS, JavaScript, Images)\n",
    "# https://docs.djangoproject.com/en/4.0/howto/static-files/\n",
    "\n",
    "# The absolute path to the directory where collectstatic will collect static files for deployment.\n",
    "STATIC_ROOT = BASE_DIR / 'staticfiles'\n",
    "\n",
    "# The URL to use when referring to static files (where they will be served from)\n",
    "STATIC_URL = '/static/'"
   ]
  },
  {
   "attachments": {},
   "cell_type": "markdown",
   "metadata": {},
   "source": [
    "### WhiteNoise"
   ]
  },
  {
   "attachments": {},
   "cell_type": "markdown",
   "metadata": {},
   "source": [
    "Whitenoise provides one of the easiest methods for serving static assets directly from Gunicorn in production. Railway CALLS collectstatic to prepare static files for use by Whitenoise after it uploads your application."
   ]
  },
  {
   "attachments": {},
   "cell_type": "markdown",
   "metadata": {},
   "source": [
    "Use this command to install whitenoise: `pip install whitenoise`"
   ]
  },
  {
   "attachments": {},
   "cell_type": "markdown",
   "metadata": {},
   "source": [
    "To install whitenoise into a Django app, open `settings.py`, and find `MIDDLEWARE` setting and add the `WhiteNoiseMiddleware` near the top of the list, just below the `SecurityMiddleware`:"
   ]
  },
  {
   "cell_type": "code",
   "execution_count": null,
   "metadata": {},
   "outputs": [],
   "source": [
    "MIDDLEWARE = [\n",
    "    'django.middleware.security.SecurityMiddleware',\n",
    "    'whitenoise.middleware.WhiteNoiseMiddleware',\n",
    "    'django.contrib.sessions.middleware.SessionMiddleware',\n",
    "    'django.middleware.common.CommonMiddleware',\n",
    "    'django.middleware.csrf.CsrfViewMiddleware',\n",
    "    'django.contrib.auth.middleware.AuthenticationMiddleware',\n",
    "    'django.contrib.messages.middleware.MessageMiddleware',\n",
    "    'django.middleware.clickjacking.XFrameOptionsMiddleware',\n",
    "]"
   ]
  },
  {
   "attachments": {},
   "cell_type": "markdown",
   "metadata": {},
   "source": [
    "### Requirements"
   ]
  },
  {
   "attachments": {},
   "cell_type": "markdown",
   "metadata": {},
   "source": [
    "The Python requirements of your web app is stored in `requirements.txt` in the root of your repo. Railway will then install these automatically when it rebuilds your environment. You can create this file using pip on the command line in the repo root:"
   ]
  },
  {
   "cell_type": "raw",
   "metadata": {},
   "source": [
    "pip3 freeze > requirements.txt"
   ]
  },
  {
   "attachments": {},
   "cell_type": "markdown",
   "metadata": {},
   "source": [
    "Then the file should have at LEAST these itmes:"
   ]
  },
  {
   "cell_type": "raw",
   "metadata": {},
   "source": [
    "dj-database-url==0.5.0\n",
    "Django==4.0.2\n",
    "gunicorn==20.1.0\n",
    "psycopg2-binary==2.9.3\n",
    "wheel==0.37.1\n",
    "whitenoise==6.0.0"
   ]
  },
  {
   "attachments": {},
   "cell_type": "markdown",
   "metadata": {},
   "source": [
    "### Runtime"
   ]
  },
  {
   "attachments": {},
   "cell_type": "markdown",
   "metadata": {},
   "source": [
    "The `runtime.txt` if defined, tells Railway which version of Python to use. Create the file in the root of the repo and add:"
   ]
  },
  {
   "cell_type": "raw",
   "metadata": {},
   "source": [
    "python-3.10.2"
   ]
  },
  {
   "attachments": {},
   "cell_type": "markdown",
   "metadata": {},
   "source": [
    "Then, test the site again locally and make sure it wasn't broken by any of the changes above:"
   ]
  },
  {
   "cell_type": "raw",
   "metadata": {},
   "source": [
    "python3 manage.py runserver"
   ]
  },
  {
   "attachments": {},
   "cell_type": "markdown",
   "metadata": {},
   "source": [
    "Then push the changes to GitHub using:"
   ]
  },
  {
   "cell_type": "raw",
   "metadata": {},
   "source": [
    "git add -A\n",
    "git commit -m \"Added files and changes required for deployment\"\n",
    "git push origin main"
   ]
  },
  {
   "attachments": {},
   "cell_type": "markdown",
   "metadata": {},
   "source": [
    "Now we can start deploying LocalLibrary on Railway!"
   ]
  },
  {
   "attachments": {},
   "cell_type": "markdown",
   "metadata": {},
   "source": [
    "### Deploy on Railway from GitHub"
   ]
  },
  {
   "attachments": {},
   "cell_type": "markdown",
   "metadata": {},
   "source": [
    "1. Create a Railway account, OR use your GitHub\n",
    "2. In the dashboard, click \"New Project\"\n",
    "3. \"Deploy from GitHub repo\"\n",
    "4. Verify if you need to\n",
    "5. \"Configure GitHub App\"\n",
    "6. Login and save to share the Local Library repo\n",
    "7. Click on the Local Library repo on Railway\n",
    "8. \"Deploy Now\"\n",
    "9. Wait, as at first, you will see \"no deployments\", then will take some time to \"build\".\n",
    "10. Click the site URL."
   ]
  },
  {
   "attachments": {},
   "cell_type": "markdown",
   "metadata": {},
   "source": [
    "If it is Failing, make sure your \"requirements.txt\" is minimal. And make sure you add/commit/push every time you change."
   ]
  },
  {
   "attachments": {},
   "cell_type": "markdown",
   "metadata": {},
   "source": [
    "When running, we will get a security error. This is useful at first, but we will disable it later."
   ]
  },
  {
   "attachments": {},
   "cell_type": "markdown",
   "metadata": {},
   "source": [
    "In `settings.py`, change:"
   ]
  },
  {
   "cell_type": "code",
   "execution_count": null,
   "metadata": {},
   "outputs": [],
   "source": [
    "## For example, for a site URL at 'web-production-3640.up.railway.app'\n",
    "## (replace the string below with your own site URL):\n",
    "ALLOWED_HOSTS = ['web-production-3640.up.railway.app', '127.0.0.1']\n",
    "\n",
    "# During development, you can instead set just the base URL\n",
    "# (you might decide to change the site a few times).\n",
    "# ALLOWED_HOSTS = ['.railway.com','127.0.0.1']"
   ]
  },
  {
   "attachments": {},
   "cell_type": "markdown",
   "metadata": {},
   "source": [
    "NOTE!!! CHANGE THE SITE URL FOR BOTH THE CODE ABOVE AND BELOW!!!"
   ]
  },
  {
   "attachments": {},
   "cell_type": "markdown",
   "metadata": {},
   "source": [
    "Because we used CSRF protection, we also need to add this below it:"
   ]
  },
  {
   "cell_type": "code",
   "execution_count": null,
   "metadata": {},
   "outputs": [],
   "source": [
    "## For example, for a site URL is at 'web-production-3640.up.railway.app'\n",
    "## (replace the string below with your own site URL):\n",
    "CSRF_TRUSTED_ORIGINS = ['https://web-production-3640.up.railway.app']\n",
    "\n",
    "# During development/for this tutorial you can instead set just the base URL\n",
    "# CSRF_TRUSTED_ORIGINS = ['https://*.railway.app']\n"
   ]
  },
  {
   "attachments": {},
   "cell_type": "markdown",
   "metadata": {},
   "source": [
    "Then save your settings and push!"
   ]
  },
  {
   "attachments": {},
   "cell_type": "markdown",
   "metadata": {},
   "source": [
    "### Connect a Postres SQL database"
   ]
  },
  {
   "attachments": {},
   "cell_type": "markdown",
   "metadata": {},
   "source": [
    "The site will still error because the database cannot be accessed. We will create the database as part of the app project."
   ]
  },
  {
   "attachments": {},
   "cell_type": "markdown",
   "metadata": {},
   "source": [
    "1. On the dashboard option from the site top menu, select \"New\". (Or click on the \"X\" on top right and click new)\n",
    "2. Select \"Database\"\n",
    "3. \"Add PostgreSQL\". This will make Railway provision a service containing an empty database in the same propject. You can then see the application AND database services in the project view.\n",
    "4. Click on the PostgreSQL service.\n",
    "5. Open \"Connect\" tab and copy the \"Postgres Connection URL\". This is the address we set up to read as an environment variable\n",
    "6. Open the application service. Then select the \"Variables\" tab.\n",
    "7. Enter the variable name `DATABASE_URL` and paste the connection URL you copied for the database.\n",
    "8. Click \"Add\"."
   ]
  },
  {
   "attachments": {},
   "cell_type": "markdown",
   "metadata": {},
   "source": [
    "But, you CANNOT populate the library with data yet, because we need to create a superuser account. We will do that using the CLI tool on our local computer."
   ]
  },
  {
   "attachments": {},
   "cell_type": "markdown",
   "metadata": {},
   "source": [
    "We must first download and install the Railway client by following instructions:"
   ]
  },
  {
   "attachments": {},
   "cell_type": "raw",
   "metadata": {},
   "source": [
    "npm i -g @railway/cli"
   ]
  },
  {
   "attachments": {},
   "cell_type": "markdown",
   "metadata": {},
   "source": [
    "Now we can run railway commands. To get the list, run: `railway help`"
   ]
  },
  {
   "attachments": {},
   "cell_type": "markdown",
   "metadata": {},
   "source": [
    "We need to call the Django `createsuperuser` command against the production database. We must call this command locally on our Django project when it is connected to the PRODUCTION database. Railway makes it easy. First we must login:"
   ]
  },
  {
   "cell_type": "raw",
   "metadata": {},
   "source": [
    "railway login"
   ]
  },
  {
   "attachments": {},
   "cell_type": "markdown",
   "metadata": {},
   "source": [
    "Once logged in, we link the locallibrary directory to the Railway project using:"
   ]
  },
  {
   "cell_type": "raw",
   "metadata": {},
   "source": [
    "railway link"
   ]
  },
  {
   "attachments": {},
   "cell_type": "markdown",
   "metadata": {},
   "source": [
    "Now the project and local directory are LINKED. We can run the local Django projectr with settings from the production environment. Call this command:"
   ]
  },
  {
   "cell_type": "raw",
   "metadata": {},
   "source": [
    "railway run python manage.py createsuperuser"
   ]
  },
  {
   "attachments": {},
   "cell_type": "markdown",
   "metadata": {},
   "source": [
    "Now we can open the website admin area: `https://[your-url].railway.app/admin/)`, and populate the database!!"
   ]
  },
  {
   "attachments": {},
   "cell_type": "markdown",
   "metadata": {},
   "source": [
    "Last we need to maek the site secure by disabling debug logging and set a secret CSRF key.\n",
    "1. Open the info screen for the app and select the \"Variables\" tab.\n",
    "2. Create a new variable named `\"DJANGO_SECRET_KEY\"` with the secret value.   \n",
    "(Run `python -c \"import secrets; print(secrets.token_urlsafe())\"` to get the secret value)\n",
    "3. Then enter the key `DJANGO_DEBUG` and set to `False`."
   ]
  },
  {
   "attachments": {},
   "cell_type": "markdown",
   "metadata": {},
   "source": [
    "Now look here for <a href=\"https://developer.mozilla.org/en-US/docs/Learn/Server-side/Django/web_application_security\">Web Application Security</a>."
   ]
  }
 ],
 "metadata": {
  "kernelspec": {
   "display_name": "Python 3",
   "language": "python",
   "name": "python3"
  },
  "language_info": {
   "codemirror_mode": {
    "name": "ipython",
    "version": 3
   },
   "file_extension": ".py",
   "mimetype": "text/x-python",
   "name": "python",
   "nbconvert_exporter": "python",
   "pygments_lexer": "ipython3",
   "version": "3.11.0 (main, Oct 24 2022, 18:26:48) [MSC v.1933 64 bit (AMD64)]"
  },
  "orig_nbformat": 4,
  "vscode": {
   "interpreter": {
    "hash": "d85a640d71ea13c7cfbab4abe19f9290bba5e27c7ab3b33e9cc3de8022ebde1d"
   }
  }
 },
 "nbformat": 4,
 "nbformat_minor": 2
}
