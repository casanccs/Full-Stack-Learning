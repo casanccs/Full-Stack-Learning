{
 "cells": [
  {
   "attachments": {},
   "cell_type": "markdown",
   "metadata": {},
   "source": [
    "1. django-admin startproject mysite\n",
    "2. cd mysite\n",
    "3. python manage.py startapp myapp\n",
    "4. python manage.py migrate\n",
    "5. python manage.py runserver\n",
    "6. (ctrl + c)"
   ]
  },
  {
   "cell_type": "code",
   "execution_count": null,
   "metadata": {},
   "outputs": [],
   "source": [
    "#In mysite/urls.py\n",
    "from django.urls import path, include #for url stuff\n",
    "from django.conf import settings #for image media\n",
    "from django.conf.urls.static import static #for image media"
   ]
  },
  {
   "cell_type": "code",
   "execution_count": null,
   "metadata": {},
   "outputs": [],
   "source": [
    "#In INSTALLED_APPS:\n",
    "'appname.apps.appnameConfig', #Look in your apps.py file to find what the config is called\n",
    "\n",
    "\n",
    "#In mysite/settings.py (For image media stuff)\n",
    "MEDIA_URL = '/uploads/' \n",
    "MEDIA_ROOT = os.path.join(BASE_DIR, 'store/static/store/uploads')"
   ]
  },
  {
   "cell_type": "code",
   "execution_count": null,
   "metadata": {},
   "outputs": [],
   "source": [
    "#In admin.py:\n",
    "admin.site.register(myModel)"
   ]
  },
  {
   "cell_type": "code",
   "execution_count": null,
   "metadata": {},
   "outputs": [],
   "source": [
    "#In models.py:\n",
    "from django.contrib.auth.models import User"
   ]
  },
  {
   "cell_type": "code",
   "execution_count": null,
   "metadata": {},
   "outputs": [],
   "source": [
    "#In views.py:\n",
    "from django.urls import reverse\n",
    "from django.http import HttpResponseRedirect\n",
    "from django.contrib.auth import authenticate, login, logout\n",
    "from django.contrib.auth.models import User\n",
    "from django.core.files.storage import FileSystemStorage\n",
    "\n",
    "user = authenticate(username=input, password=input)\n",
    "login(request, user)\n",
    "logout(user)\n",
    "reverse('productView', kwargs={'product_id': product_id})\n",
    "\n",
    "fs = FileSystemStorage()\n",
    "photoFile = request.FILES['picture']\n",
    "fs.save(photoFile.name, photoFile)"
   ]
  },
  {
   "cell_type": "code",
   "execution_count": null,
   "metadata": {},
   "outputs": [],
   "source": [
    "#In mysite/urls.py:\n",
    "from django.contrib import admin\n",
    "from django.urls import path, include\n",
    "\n",
    "urlpatterns = [\n",
    "    path('admin/', admin.site.urls),\n",
    "    path(\"myapp/\", include(\"myapp.urls\")),\n",
    "]"
   ]
  },
  {
   "cell_type": "code",
   "execution_count": null,
   "metadata": {},
   "outputs": [],
   "source": [
    "#In myapp/urls.py:\n",
    "from django.urls import path\n",
    "from .views import *\n",
    "\n",
    "\n",
    "urlpatterns = [\n",
    "    path(\"\", index, name=\"index\"),\n",
    "]"
   ]
  },
  {
   "attachments": {},
   "cell_type": "markdown",
   "metadata": {},
   "source": [
    "Then create a new folder in `myapp` named `templates` then either:\n",
    "1. create ANOTHER folder IN `templates` named `myapp`\n",
    "2. don't do the first"
   ]
  },
  {
   "attachments": {},
   "cell_type": "markdown",
   "metadata": {},
   "source": [
    "Then create the `index.html`"
   ]
  },
  {
   "attachments": {},
   "cell_type": "markdown",
   "metadata": {},
   "source": [
    "Then in `views.py`, create a view and render it"
   ]
  },
  {
   "cell_type": "code",
   "execution_count": null,
   "metadata": {},
   "outputs": [],
   "source": [
    "python manage.py createsuperuser"
   ]
  }
 ],
 "metadata": {
  "kernelspec": {
   "display_name": "Python 3",
   "language": "python",
   "name": "python3"
  },
  "language_info": {
   "name": "python",
   "version": "3.9.6"
  },
  "orig_nbformat": 4,
  "vscode": {
   "interpreter": {
    "hash": "dfc60ad038cb77c16700b0ebf0d2a1f16a460d15c9af49b680937eeb06bbf806"
   }
  }
 },
 "nbformat": 4,
 "nbformat_minor": 2
}
