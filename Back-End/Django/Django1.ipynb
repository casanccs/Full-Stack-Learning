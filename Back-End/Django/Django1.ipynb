{
 "cells": [
  {
   "attachments": {},
   "cell_type": "markdown",
   "metadata": {},
   "source": [
    "# Django Intro"
   ]
  },
  {
   "attachments": {},
   "cell_type": "markdown",
   "metadata": {},
   "source": [
    "Django is a high-level Python Web Framework that allows for maintainable websites."
   ]
  },
  {
   "attachments": {},
   "cell_type": "markdown",
   "metadata": {},
   "source": [
    "From the previous lessons, we know that a Wep Application waits for HTTP requests from the Web Browser. The App gets the URl, and other data. It may need to read or write info from a database, or do other tasks to satisfy the request. The app will return a response to the Browser, and can dynamically create an HTML page for the Browser."
   ]
  },
  {
   "attachments": {},
   "cell_type": "markdown",
   "metadata": {},
   "source": [
    "Django Web Apps groups the code to handle each of these steps into separate files:"
   ]
  },
  {
   "attachments": {},
   "cell_type": "markdown",
   "metadata": {},
   "source": [
    "<img src=\"basic-django.png\">"
   ]
  },
  {
   "attachments": {},
   "cell_type": "markdown",
   "metadata": {},
   "source": [
    "The process starts by the Django Web App getting the HTTP request. It then goes into:\n",
    "1. `URL (urls.py)`: It's possible to process every single URL request from a single function, but we instead write a separate view function to handle each resource. We use a URL mapper to redirect HTTP requests to the right view based on the request URL. The URL mapper can also pass the URL parameters/patterns to the view function as data.\n",
    "2. `View (views.py)`: A view is a request handler function. It gets HTTP requests and returns HTTP responses. Views get the data to satisfy requests using **models**, and delegate formatting of the response to the templates.\n",
    "3. `Model (models.py)`: A model defines the application's data structure, and lets us manage, add, modify, and query records in the database.\n",
    "4. `Template (<filename>.html)`: Text file defining the structure or layout of a file, with placeholders. It's the view that creates an HTML page using the HTML template, and populates it with data from a model. Note, that it doesn't have to be HTML."
   ]
  },
  {
   "attachments": {},
   "cell_type": "markdown",
   "metadata": {},
   "source": [
    "Django uses this organization as the \"Model View Template (MVT)\" architecture. Similar to the MVC architecture."
   ]
  },
  {
   "attachments": {},
   "cell_type": "markdown",
   "metadata": {},
   "source": [
    "We will now take a quick look at what these 4 main parts look like, but we will go into more detail later on."
   ]
  },
  {
   "attachments": {},
   "cell_type": "markdown",
   "metadata": {},
   "source": [
    "## 1. Sending the request to the right view (`urls.py`)"
   ]
  },
  {
   "attachments": {},
   "cell_type": "markdown",
   "metadata": {},
   "source": [
    "In `urls.py`, we will store the URL mapper. Here is the mapper:"
   ]
  },
  {
   "cell_type": "code",
   "execution_count": null,
   "metadata": {},
   "outputs": [],
   "source": [
    "urlpatterns = [\n",
    "    path('admin/', admin.site.urls),\n",
    "    path('book/<int:id>/', views.book_detail, name='book_detail'),\n",
    "    path('catalog/', include('catalog.urls')),\n",
    "    re_path(r'^([0-9]+)/$', views.best),\n",
    "]"
   ]
  },
  {
   "attachments": {},
   "cell_type": "markdown",
   "metadata": {},
   "source": [
    "Ignore the errors for now.  \n",
    "`urlpatterns` IS the mapper, and it defines a list of mappings between ROUTES and their corresponding view function. Routes are URL patterns. If an HTTP request is recieved and has a URL matching a specified pattern, then the associated view function will be called and passed with the request."
   ]
  },
  {
   "attachments": {},
   "cell_type": "markdown",
   "metadata": {},
   "source": [
    "`urlpatterns`'s elements are `path` and/or `re_path` functions.  \n",
    "The first argument in both of the functions is a route/URL pattern that will be matched. The angle brackets, `<>`, in a URL will be passed to the view function as arguments. The `re_path` function uses a regular expression, which we will learn later.  \n",
    "The second argument is another function that will be called when the pattern is matched."
   ]
  },
  {
   "attachments": {},
   "cell_type": "markdown",
   "metadata": {},
   "source": [
    "## 2. Handling the request (`views.py`)"
   ]
  },
  {
   "attachments": {},
   "cell_type": "markdown",
   "metadata": {},
   "source": [
    "Views are the HEART of the Web App. It gets HTTP requests and sends HTTP responses. In between the request/response, it accesses a database, render templates, etc."
   ]
  },
  {
   "attachments": {},
   "cell_type": "markdown",
   "metadata": {},
   "source": [
    "Let's look at a view:"
   ]
  },
  {
   "cell_type": "code",
   "execution_count": null,
   "metadata": {},
   "outputs": [],
   "source": [
    "# filename: views.py (Django view functions)\n",
    "\n",
    "from django.http import HttpResponse\n",
    "\n",
    "def index(request):\n",
    "    # Get an HttpRequest - the request parameter\n",
    "    # perform operations using information from the request.\n",
    "    # Return HttpResponse\n",
    "    return HttpResponse('Hello from Django!')\n"
   ]
  },
  {
   "attachments": {},
   "cell_type": "markdown",
   "metadata": {},
   "source": [
    "`index()` is a view function, which the URL mapper before in `urls.py` could have called. It receives the HTTP request as a parameter, and returns an HTTP response. In this case, nothing happens with the request, and we return a hard coded string. Later, we will mess with the request."
   ]
  },
  {
   "attachments": {},
   "cell_type": "markdown",
   "metadata": {},
   "source": [
    "## 3. Defining data models (`models.py`)"
   ]
  },
  {
   "attachments": {},
   "cell_type": "markdown",
   "metadata": {},
   "source": [
    "We use models to manage and query data through Python. Models define the structure of the data, using field types and their maximum size, default values, selection list options, help text, label text for forms, etc. Once we choose a database we want to use, we don't need to talk to it directly at all. We just write the model structure and other code, and Django handles the dirty work of communicating with the database for us."
   ]
  },
  {
   "attachments": {},
   "cell_type": "markdown",
   "metadata": {},
   "source": [
    "Here is an example:"
   ]
  },
  {
   "cell_type": "code",
   "execution_count": null,
   "metadata": {},
   "outputs": [],
   "source": [
    "# filename: models.py\n",
    "\n",
    "from django.db import models\n",
    "\n",
    "class Team(models.Model):\n",
    "    team_name = models.CharField(max_length=40)\n",
    "\n",
    "    TEAM_LEVELS = (\n",
    "        ('U09', 'Under 09s'),\n",
    "        ('U10', 'Under 10s'),\n",
    "        ('U11', 'Under 11s'),\n",
    "        # …\n",
    "        # list other team levels\n",
    "    )\n",
    "    team_level = models.CharField(max_length=3, choices=TEAM_LEVELS, default='U11')"
   ]
  },
  {
   "attachments": {},
   "cell_type": "markdown",
   "metadata": {},
   "source": [
    "This `Team` class is a `Model`. It defines `team_name` and `team_level` as character fields for us. It also sets characteristics for each one. We also specify `team_level` as a choice field by using the `choices` parameter. "
   ]
  },
  {
   "attachments": {},
   "cell_type": "markdown",
   "metadata": {},
   "source": [
    "## 3.5. Querying Data (`views.py`)"
   ]
  },
  {
   "attachments": {},
   "cell_type": "markdown",
   "metadata": {},
   "source": [
    "We can also search the associated database using Django's model and view. Here is an example of querying:"
   ]
  },
  {
   "cell_type": "code",
   "execution_count": null,
   "metadata": {},
   "outputs": [],
   "source": [
    "## filename: views.py\n",
    "\n",
    "from django.shortcuts import render\n",
    "from .models import Team\n",
    "\n",
    "def index(request):\n",
    "    list_teams = Team.objects.filter(team_level__exact=\"U09\")\n",
    "    context = {'youngest_teams': list_teams}\n",
    "    return render(request, '/best/index.html', context)\n"
   ]
  },
  {
   "attachments": {},
   "cell_type": "markdown",
   "metadata": {},
   "source": [
    "So instead of having an empty view like before, now we take the `Team` object that we created, and get all records where `team_level` is EXACTLY `\"U09\"`."
   ]
  },
  {
   "attachments": {},
   "cell_type": "markdown",
   "metadata": {},
   "source": [
    "It also uses the `render` function to create the HttpResponse that is sent back to the browser. This function is a SHORTCUT, as it creates an HTML file by combining a specified HTML template, and some data to insert into the template (data being `context`)."
   ]
  },
  {
   "attachments": {},
   "cell_type": "markdown",
   "metadata": {},
   "source": [
    "## 4. Rendering data (HTML Templates)"
   ]
  },
  {
   "attachments": {},
   "cell_type": "markdown",
   "metadata": {},
   "source": [
    "Template systems allows us to structure an output document, while using placeholders for data that will be filled in when the page is generated. Django can support multiple template systems."
   ]
  },
  {
   "attachments": {},
   "cell_type": "markdown",
   "metadata": {},
   "source": [
    "Here is an example:"
   ]
  },
  {
   "cell_type": "code",
   "execution_count": null,
   "metadata": {
    "vscode": {
     "languageId": "html"
    }
   },
   "outputs": [],
   "source": [
    "## filename: best/templates/best/index.html\n",
    "\n",
    "<!DOCTYPE html>\n",
    "<html lang=\"en\">\n",
    "<head>\n",
    "  <meta charset=\"utf-8\">\n",
    "  <title>Home page</title>\n",
    "</head>\n",
    "<body>\n",
    "  {% if youngest_teams %}\n",
    "    <ul>\n",
    "      {% for team in youngest_teams %}\n",
    "        <li>{{ team.team_name }}</li>\n",
    "      {% endfor %}\n",
    "    </ul>\n",
    "  {% else %}\n",
    "    <p>No teams are available.</p>\n",
    "  {% endif %}\n",
    "</body>\n",
    "</html>"
   ]
  },
  {
   "attachments": {},
   "cell_type": "markdown",
   "metadata": {},
   "source": [
    "The double handle bars are placeholders. We also use `{% expression %}` notation to allow for expressions like conditional rendering, and loop rendering. "
   ]
  },
  {
   "attachments": {},
   "cell_type": "markdown",
   "metadata": {},
   "source": [
    "# Other Django capabilities"
   ]
  },
  {
   "attachments": {},
   "cell_type": "markdown",
   "metadata": {},
   "source": [
    "In almost every single web application, we will need to use the URL mapping, views, models, and templates. But there are other things provided by Django:"
   ]
  },
  {
   "attachments": {},
   "cell_type": "markdown",
   "metadata": {},
   "source": [
    "* **Forms**: HTML forms allow use to collect user data. Django simplifies form creation, validation, and processing.\n",
    "* **User Authentication and Permissions**: Django includes these things with security in mind.\n",
    "* **Caching**: Django provides flexible caching to store a part or all of a rendered page so it doesn't get re-rendered except when necessary.\n",
    "* **Administration Site**: This is included by default when creating an app using the basic skeleton. Its here to easily create, edit, and view and data models in the site.\n",
    "* **Serializing Data**: Django makes it easy to serve data as XML or JSON. This is useful when creating a web service, or when creating a website in which the client-side code handles all the rendering of data."
   ]
  },
  {
   "attachments": {},
   "cell_type": "markdown",
   "metadata": {},
   "source": [
    "# Setting Up a Dev Environment"
   ]
  },
  {
   "attachments": {},
   "cell_type": "markdown",
   "metadata": {},
   "source": [
    "In this tutorial, we will use `SQLite`, which stores its data in a file. It is lightweight, and is good for primarily \"read-only\" applications."
   ]
  },
  {
   "attachments": {},
   "cell_type": "markdown",
   "metadata": {},
   "source": [
    "We can either install system-wide or in a Python virtual environment. The reason it matters is because if we install Django in a global environment, we will only be able to target one version of Django on the computer. This is a problem when creating new websites using the newest version of Django, while still maintaining websites that rely on older versions. Django dev team recommends we use Python virtual environments."
   ]
  },
  {
   "attachments": {},
   "cell_type": "markdown",
   "metadata": {},
   "source": [
    "For windows, we will need to install `virtualenvwrapper-win` by using:"
   ]
  },
  {
   "cell_type": "code",
   "execution_count": null,
   "metadata": {
    "vscode": {
     "languageId": "html"
    }
   },
   "outputs": [],
   "source": [
    "pip install virtualenvwrapper-win"
   ]
  },
  {
   "attachments": {},
   "cell_type": "markdown",
   "metadata": {},
   "source": [
    "For macos, we will need to install `virtualenvwrapper` by doing:"
   ]
  },
  {
   "cell_type": "code",
   "execution_count": null,
   "metadata": {
    "vscode": {
     "languageId": "html"
    }
   },
   "outputs": [],
   "source": [
    "sudo pip3 install virtualenvwrapper"
   ]
  },
  {
   "attachments": {},
   "cell_type": "markdown",
   "metadata": {},
   "source": [
    "### Note, only macos will need to do the steps below"
   ]
  },
  {
   "attachments": {},
   "cell_type": "markdown",
   "metadata": {},
   "source": [
    "Then we need to add the following lines to the end of the shell startup file:"
   ]
  },
  {
   "cell_type": "code",
   "execution_count": null,
   "metadata": {
    "vscode": {
     "languageId": "html"
    }
   },
   "outputs": [],
   "source": [
    "export WORKON_HOME=$HOME/.virtualenvs\n",
    "export VIRTUALENVWRAPPER_PYTHON=/usr/bin/python3\n",
    "export PROJECT_HOME=$HOME/Devel\n",
    "source /usr/local/bin/virtualenvwrapper.sh"
   ]
  },
  {
   "attachments": {},
   "cell_type": "markdown",
   "metadata": {},
   "source": [
    "Look at the `VIRTUALENVWRAPPER_PYTHON=/usr/...python3`, you must change this if Python and the script are not in the expected location. You can use the commands `which virtualenvwrapper.sh` and `which python3` to find the locations for your system."
   ]
  },
  {
   "attachments": {},
   "cell_type": "markdown",
   "metadata": {},
   "source": [
    "Reload the startup file by doing:"
   ]
  },
  {
   "cell_type": "code",
   "execution_count": 1,
   "metadata": {
    "vscode": {
     "languageId": "html"
    }
   },
   "outputs": [
    {
     "ename": "SyntaxError",
     "evalue": "invalid syntax (2246048675.py, line 1)",
     "output_type": "error",
     "traceback": [
      "\u001b[1;36m  Cell \u001b[1;32mIn[1], line 1\u001b[1;36m\u001b[0m\n\u001b[1;33m    source ~/.bash_profile\u001b[0m\n\u001b[1;37m           ^\u001b[0m\n\u001b[1;31mSyntaxError\u001b[0m\u001b[1;31m:\u001b[0m invalid syntax\n"
     ]
    }
   ],
   "source": [
    "source ~/.bash_profile"
   ]
  },
  {
   "attachments": {},
   "cell_type": "markdown",
   "metadata": {},
   "source": [
    "### We should be able to create a new virtual environment with the `mkvirtualenv name_of_virtualenv` command. (On all systems)"
   ]
  },
  {
   "attachments": {},
   "cell_type": "markdown",
   "metadata": {},
   "source": [
    "After running this command, some text will pop up"
   ]
  },
  {
   "attachments": {},
   "cell_type": "markdown",
   "metadata": {},
   "source": [
    "Once in, we will be using these commands mainly:"
   ]
  },
  {
   "attachments": {},
   "cell_type": "markdown",
   "metadata": {},
   "source": [
    "* `deactivate` - Exit out of current Python virtual env\n",
    "* `workon` - List available virtual env\n",
    "* `workon name_of_environment` - Activate the specified Python virtual env\n",
    "* `rmvirtualevn name_of_environment` - Remove the specified evn"
   ]
  },
  {
   "attachments": {},
   "cell_type": "markdown",
   "metadata": {},
   "source": [
    "We should call the `workon name_of_environment` command to enter the virtual env, so we can use pip"
   ]
  },
  {
   "attachments": {},
   "cell_type": "markdown",
   "metadata": {},
   "source": [
    "Now we install Django using:"
   ]
  },
  {
   "cell_type": "code",
   "execution_count": null,
   "metadata": {
    "vscode": {
     "languageId": "html"
    }
   },
   "outputs": [],
   "source": [
    "pip3 install django~=4.0"
   ]
  },
  {
   "attachments": {},
   "cell_type": "markdown",
   "metadata": {},
   "source": [
    "Now we test it:"
   ]
  },
  {
   "cell_type": "code",
   "execution_count": 2,
   "metadata": {
    "vscode": {
     "languageId": "html"
    }
   },
   "outputs": [
    {
     "ename": "SyntaxError",
     "evalue": "invalid syntax (1613713844.py, line 2)",
     "output_type": "error",
     "traceback": [
      "\u001b[1;36m  Cell \u001b[1;32mIn[2], line 2\u001b[1;36m\u001b[0m\n\u001b[1;33m    python3 -m django --version\u001b[0m\n\u001b[1;37m               ^\u001b[0m\n\u001b[1;31mSyntaxError\u001b[0m\u001b[1;31m:\u001b[0m invalid syntax\n"
     ]
    }
   ],
   "source": [
    "# Linux/macOS\n",
    "python3 -m django --version\n",
    " 4.0.2\n",
    "\n",
    "# Windows\n",
    "py -3 -m django --version\n",
    " 4.0.2\n",
    "\n",
    "# or on Windows\n",
    "py -m django --version"
   ]
  },
  {
   "attachments": {},
   "cell_type": "markdown",
   "metadata": {},
   "source": [
    "Now let's call:"
   ]
  },
  {
   "cell_type": "code",
   "execution_count": null,
   "metadata": {
    "vscode": {
     "languageId": "html"
    }
   },
   "outputs": [],
   "source": [
    "mkdir django_test\n",
    "cd django_test"
   ]
  },
  {
   "attachments": {},
   "cell_type": "markdown",
   "metadata": {},
   "source": [
    "Then:"
   ]
  },
  {
   "cell_type": "code",
   "execution_count": null,
   "metadata": {
    "vscode": {
     "languageId": "html"
    }
   },
   "outputs": [],
   "source": [
    "django-admin startproject mytestsite\n",
    "cd mytestsite"
   ]
  },
  {
   "attachments": {},
   "cell_type": "markdown",
   "metadata": {},
   "source": [
    "And finally, we will run the development web server from within this folder using `manage.py` and the `runserver` command:"
   ]
  },
  {
   "cell_type": "code",
   "execution_count": null,
   "metadata": {
    "vscode": {
     "languageId": "html"
    }
   },
   "outputs": [],
   "source": [
    "python manage.py runserver"
   ]
  },
  {
   "attachments": {},
   "cell_type": "markdown",
   "metadata": {},
   "source": [
    "We will get errors, but that is fine"
   ]
  },
  {
   "attachments": {},
   "cell_type": "markdown",
   "metadata": {},
   "source": [
    "Go to the url it tells us to go to. and it should work!"
   ]
  }
 ],
 "metadata": {
  "kernelspec": {
   "display_name": "Python 3",
   "language": "python",
   "name": "python3"
  },
  "language_info": {
   "codemirror_mode": {
    "name": "ipython",
    "version": 3
   },
   "file_extension": ".py",
   "mimetype": "text/x-python",
   "name": "python",
   "nbconvert_exporter": "python",
   "pygments_lexer": "ipython3",
   "version": "3.11.0"
  },
  "orig_nbformat": 4,
  "vscode": {
   "interpreter": {
    "hash": "d85a640d71ea13c7cfbab4abe19f9290bba5e27c7ab3b33e9cc3de8022ebde1d"
   }
  }
 },
 "nbformat": 4,
 "nbformat_minor": 2
}
