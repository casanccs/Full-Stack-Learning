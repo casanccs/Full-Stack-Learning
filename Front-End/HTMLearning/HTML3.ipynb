{
 "cells": [
  {
   "attachments": {},
   "cell_type": "markdown",
   "metadata": {
    "dotnet_interactive": {
     "language": "csharp"
    },
    "polyglot_notebook": {
     "kernelName": "csharp"
    }
   },
   "source": [
    "# HTML Structure"
   ]
  },
  {
   "cell_type": "code",
   "execution_count": 2,
   "metadata": {
    "dotnet_interactive": {
     "language": "html"
    },
    "polyglot_notebook": {
     "kernelName": "html"
    },
    "vscode": {
     "languageId": "polyglot-notebook"
    }
   },
   "outputs": [
    {
     "data": {
      "text/html": [
       "<h1>The Crushing Bore</h1>\r\n",
       "\r\n",
       "<p>By Chris Mills</p>\r\n",
       "\r\n",
       "<h2>Chapter 1: The dark night</h2>\r\n",
       "\r\n",
       "<p>\r\n",
       "  It was a dark night. Somewhere, an owl hooted. The rain lashed down on the…\r\n",
       "</p>\r\n",
       "\r\n",
       "<h2>Chapter 2: The eternal silence</h2>\r\n",
       "\r\n",
       "<p>Our protagonist could not so much as a whisper out of the shadowy figure…</p>\r\n",
       "\r\n",
       "<h3>The specter speaks</h3>\r\n",
       "\r\n",
       "<p>\r\n",
       "  Several more hours had passed, when all of a sudden the specter sat bolt\r\n",
       "  upright and exclaimed, \"Please have mercy on my soul!\"\r\n",
       "</p>"
      ]
     },
     "metadata": {},
     "output_type": "display_data"
    }
   ],
   "source": [
    "<h1>The Crushing Bore</h1>\n",
    "\n",
    "<p>By Chris Mills</p>\n",
    "\n",
    "<h2>Chapter 1: The dark night</h2>\n",
    "\n",
    "<p>\n",
    "  It was a dark night. Somewhere, an owl hooted. The rain lashed down on the…\n",
    "</p>\n",
    "\n",
    "<h2>Chapter 2: The eternal silence</h2>\n",
    "\n",
    "<p>Our protagonist could not so much as a whisper out of the shadowy figure…</p>\n",
    "\n",
    "<h3>The specter speaks</h3>\n",
    "\n",
    "<p>\n",
    "  Several more hours had passed, when all of a sudden the specter sat bolt\n",
    "  upright and exclaimed, \"Please have mercy on my soul!\"\n",
    "</p>"
   ]
  },
  {
   "attachments": {},
   "cell_type": "markdown",
   "metadata": {
    "dotnet_interactive": {
     "language": "html"
    },
    "polyglot_notebook": {
     "kernelName": "html"
    }
   },
   "source": [
    "There are no hardcore rules that you MUST follow, but in order to have a nice neat document, you will want to follow some conventions:  \n",
    "1. Use a single `<h1>` per page.\n",
    "2. Use the headings in the correct order of hierarchy. So don't put a `<h2>` in an `<h3>`\n",
    "3. ...and more"
   ]
  },
  {
   "attachments": {},
   "cell_type": "markdown",
   "metadata": {
    "dotnet_interactive": {
     "language": "html"
    },
    "polyglot_notebook": {
     "kernelName": "html"
    }
   },
   "source": [
    "Why would you want to follow some of the conventions?  \n",
    "1. Search engines consider the contents of the headings as important keywords\n",
    "2. To style the content with CSS, your life will be easier if you can effectively target the headings and have everything match."
   ]
  },
  {
   "attachments": {},
   "cell_type": "markdown",
   "metadata": {
    "dotnet_interactive": {
     "language": "html"
    },
    "polyglot_notebook": {
     "kernelName": "html"
    }
   },
   "source": [
    "## Lists"
   ]
  },
  {
   "attachments": {},
   "cell_type": "markdown",
   "metadata": {
    "dotnet_interactive": {
     "language": "html"
    },
    "polyglot_notebook": {
     "kernelName": "html"
    }
   },
   "source": [
    "### Unordered Lists"
   ]
  },
  {
   "attachments": {},
   "cell_type": "markdown",
   "metadata": {
    "dotnet_interactive": {
     "language": "html"
    },
    "polyglot_notebook": {
     "kernelName": "html"
    }
   },
   "source": [
    "Used for items which the order of the items does not matter, like a shopping list:"
   ]
  },
  {
   "cell_type": "code",
   "execution_count": 1,
   "metadata": {
    "dotnet_interactive": {
     "language": "html"
    },
    "polyglot_notebook": {
     "kernelName": "html"
    },
    "vscode": {
     "languageId": "polyglot-notebook"
    }
   },
   "outputs": [
    {
     "data": {
      "text/html": [
       "<ul>\r\n",
       "    <li>milk</li>\r\n",
       "    <li>eggs</li>\r\n",
       "    <li>bread</li>\r\n",
       "    <li>hummus</li>\r\n",
       "    <ul>\r\n",
       "    <li>milk</li>\r\n",
       "    <li>eggs</li>\r\n",
       "    <li>bread</li>\r\n",
       "    <li>hummus</li>\r\n",
       "</ul>\r\n",
       "</ul>"
      ]
     },
     "metadata": {},
     "output_type": "display_data"
    }
   ],
   "source": [
    "<ul>\n",
    "    <li>milk</li>\n",
    "    <li>eggs</li>\n",
    "    <li>bread</li>\n",
    "    <li>hummus</li>\n",
    "    <ul>\n",
    "        <li>milk</li>\n",
    "        <li>eggs</li>\n",
    "        <li>bread</li>\n",
    "        <li>hummus</li>\n",
    "    </ul>\n",
    "</ul>"
   ]
  },
  {
   "attachments": {},
   "cell_type": "markdown",
   "metadata": {
    "dotnet_interactive": {
     "language": "html"
    },
    "polyglot_notebook": {
     "kernelName": "html"
    }
   },
   "source": [
    "In order to change the bullet to something else, you are going to need to use some CSS. You only need to change one thing for this."
   ]
  },
  {
   "cell_type": "code",
   "execution_count": 1,
   "metadata": {
    "dotnet_interactive": {
     "language": "html"
    },
    "polyglot_notebook": {
     "kernelName": "html"
    },
    "vscode": {
     "languageId": "polyglot-notebook"
    }
   },
   "outputs": [
    {
     "data": {
      "text/html": [
       "<ul style=\"list-style-type:none\">\r\n",
       "    <li>milk</li>\r\n",
       "    <li>eggs</li>\r\n",
       "    <li>bread</li>\r\n",
       "    <li>hummus</li>\r\n",
       "</ul>"
      ]
     },
     "metadata": {},
     "output_type": "display_data"
    }
   ],
   "source": [
    "<ul style=\"list-style-type:none\">\n",
    "    <li>milk</li>\n",
    "    <li>eggs</li>\n",
    "    <li>bread</li>\n",
    "    <li>hummus</li>\n",
    "</ul>"
   ]
  },
  {
   "attachments": {},
   "cell_type": "markdown",
   "metadata": {
    "dotnet_interactive": {
     "language": "html"
    },
    "polyglot_notebook": {
     "kernelName": "html"
    }
   },
   "source": [
    "We gave the `<ul>` the attribute `style`, which means that we are adding CSS style to this element.  \n",
    "The list of values for this are:\n",
    "\n",
    "<table>\n",
    "    <tr>\n",
    "        <th>Value</th>\n",
    "        <th>Description</th>\n",
    "    </tr>\n",
    "    <tr>\n",
    "        <th>\"disc\"</th>\n",
    "        <th>Default bullet</th>\n",
    "    </tr>\n",
    "    <tr>\n",
    "        <th>\"circle\"</th>\n",
    "        <th>Hollow circle</th>\n",
    "    </tr>\n",
    "    <tr>\n",
    "        <th>\"square\"</th>\n",
    "        <th>Filled in square</th>\n",
    "    </tr>\n",
    "    <tr>\n",
    "        <th>\"none\"</th>\n",
    "        <th>Items will not be marked</th>\n",
    "    </tr>\n",
    "</table>\n",
    "\n",
    "We can put in any UTF-8 character as the bullet as well, by doing:"
   ]
  },
  {
   "cell_type": "code",
   "execution_count": 10,
   "metadata": {
    "dotnet_interactive": {
     "language": "html"
    },
    "polyglot_notebook": {
     "kernelName": "html"
    },
    "vscode": {
     "languageId": "polyglot-notebook"
    }
   },
   "outputs": [
    {
     "data": {
      "text/html": [
       "<ul style=\"list-style-type:'😂' \">\r\n",
       "    <li>milk</li>\r\n",
       "    <li>eggs</li>\r\n",
       "    <li>bread</li>\r\n",
       "    <li>hummus</li>\r\n",
       "</ul>"
      ]
     },
     "metadata": {},
     "output_type": "display_data"
    }
   ],
   "source": [
    "<ul style=\"list-style-type:'😂' \">\n",
    "    <li>milk</li>\n",
    "    <li>eggs</li>\n",
    "    <li>bread</li>\n",
    "    <li>hummus</li>\n",
    "</ul>"
   ]
  },
  {
   "attachments": {},
   "cell_type": "markdown",
   "metadata": {
    "dotnet_interactive": {
     "language": "html"
    },
    "polyglot_notebook": {
     "kernelName": "html"
    }
   },
   "source": [
    "In order to change the properties of the markers, we will need to learn how to use CSS and the `::marker` pseudo-element. We will learn this when we learn CSS."
   ]
  },
  {
   "attachments": {},
   "cell_type": "markdown",
   "metadata": {
    "dotnet_interactive": {
     "language": "html"
    },
    "polyglot_notebook": {
     "kernelName": "html"
    }
   },
   "source": [
    "### Ordered Lists"
   ]
  },
  {
   "attachments": {},
   "cell_type": "markdown",
   "metadata": {
    "dotnet_interactive": {
     "language": "html"
    },
    "polyglot_notebook": {
     "kernelName": "html"
    }
   },
   "source": [
    "Use this type when the order of the items **does** matter. Like a set of directions:"
   ]
  },
  {
   "cell_type": "code",
   "execution_count": 11,
   "metadata": {
    "dotnet_interactive": {
     "language": "html"
    },
    "polyglot_notebook": {
     "kernelName": "html"
    },
    "vscode": {
     "languageId": "polyglot-notebook"
    }
   },
   "outputs": [
    {
     "data": {
      "text/html": [
       "<ol>\r\n",
       "  <li>Drive to the end of the road</li>\r\n",
       "  <li>Turn right</li>\r\n",
       "  <li>Go straight across the first two roundabouts</li>\r\n",
       "  <li>Turn left at the third roundabout</li>\r\n",
       "  <li>The school is on your right, 300 meters up the road</li>\r\n",
       "</ol>"
      ]
     },
     "metadata": {},
     "output_type": "display_data"
    }
   ],
   "source": [
    "<ol>\n",
    "  <li>Drive to the end of the road</li>\n",
    "  <li>Turn right</li>\n",
    "  <li>Go straight across the first two roundabouts</li>\n",
    "  <li>Turn left at the third roundabout</li>\n",
    "  <li>The school is on your right, 300 meters up the road</li>\n",
    "</ol>"
   ]
  },
  {
   "attachments": {},
   "cell_type": "markdown",
   "metadata": {
    "dotnet_interactive": {
     "language": "html"
    },
    "polyglot_notebook": {
     "kernelName": "html"
    }
   },
   "source": [
    "Use the `type` attribute of the `<ol>` tag to change the marker"
   ]
  },
  {
   "attachments": {},
   "cell_type": "markdown",
   "metadata": {
    "dotnet_interactive": {
     "language": "html"
    },
    "polyglot_notebook": {
     "kernelName": "html"
    }
   },
   "source": [
    "<table>\n",
    "    <tr>\n",
    "        <th>Value</th>\n",
    "        <th>Description</th>\n",
    "    </tr>\n",
    "    <tr>\n",
    "        <th>\"1\"</th>\n",
    "        <th>Default with numbers</th>\n",
    "    </tr>\n",
    "    <tr>\n",
    "        <th>\"A\"</th>\n",
    "        <th>Numbered with uppercase letters</th>\n",
    "    </tr>\n",
    "    <tr>\n",
    "        <th>\"a\"</th>\n",
    "        <th>Numbered with lowercase letters</th>\n",
    "    </tr>\n",
    "    <tr>\n",
    "        <th>\"I\"</th>\n",
    "        <th>Numbered with uppercase roman numbers</th>\n",
    "    </tr>\n",
    "    <tr>\n",
    "        <th>\"i\"</th>\n",
    "        <th>Numbered with lowercase roman numbers</th>\n",
    "    </tr>\n",
    "</table>"
   ]
  },
  {
   "cell_type": "code",
   "execution_count": 3,
   "metadata": {
    "dotnet_interactive": {
     "language": "html"
    },
    "polyglot_notebook": {
     "kernelName": "html"
    },
    "vscode": {
     "languageId": "polyglot-notebook"
    }
   },
   "outputs": [
    {
     "data": {
      "text/html": [
       "<ol type=\"a\">\r\n",
       "  <li>Drive to the end of the road</li>\r\n",
       "  <li>Turn right</li>\r\n",
       "  <li>Go straight across the first two roundabouts</li>\r\n",
       "  <li>Turn left at the third roundabout</li>\r\n",
       "  <li>The school is on your right, 300 meters up the road</li>\r\n",
       "</ol>"
      ]
     },
     "metadata": {},
     "output_type": "display_data"
    }
   ],
   "source": [
    "<ol type=\"a\">\n",
    "  <li>Drive to the end of the road</li>\n",
    "  <li>Turn right</li>\n",
    "  <li>Go straight across the first two roundabouts</li>\n",
    "  <li>Turn left at the third roundabout</li>\n",
    "  <li>The school is on your right, 300 meters up the road</li>\n",
    "</ol>"
   ]
  },
  {
   "attachments": {},
   "cell_type": "markdown",
   "metadata": {
    "dotnet_interactive": {
     "language": "html"
    },
    "polyglot_notebook": {
     "kernelName": "html"
    }
   },
   "source": [
    "As you can guess, its much more complicated to create custom numbered markers. So even more CSS is needed."
   ]
  },
  {
   "attachments": {},
   "cell_type": "markdown",
   "metadata": {
    "dotnet_interactive": {
     "language": "html"
    },
    "polyglot_notebook": {
     "kernelName": "html"
    }
   },
   "source": [
    "Try to nest lists and see what happens"
   ]
  }
 ],
 "metadata": {
  "kernelspec": {
   "display_name": ".NET (C#)",
   "language": "C#",
   "name": ".net-csharp"
  },
  "polyglot_notebook": {
   "kernelInfo": {
    "defaultKernelName": "csharp",
    "items": [
     {
      "aliases": [
       "c#",
       "C#"
      ],
      "languageName": "C#",
      "name": "csharp"
     },
     {
      "aliases": [
       "frontend"
      ],
      "name": "vscode"
     },
     {
      "aliases": [],
      "name": ".NET"
     },
     {
      "aliases": [
       "f#",
       "F#"
      ],
      "languageName": "F#",
      "name": "fsharp"
     },
     {
      "aliases": [],
      "languageName": "HTML",
      "name": "html"
     },
     {
      "aliases": [
       "js"
      ],
      "languageName": "JavaScript",
      "name": "javascript"
     },
     {
      "aliases": [],
      "languageName": "KQL",
      "name": "kql"
     },
     {
      "aliases": [],
      "languageName": "Mermaid",
      "name": "mermaid"
     },
     {
      "aliases": [
       "powershell"
      ],
      "languageName": "PowerShell",
      "name": "pwsh"
     },
     {
      "aliases": [],
      "languageName": "SQL",
      "name": "sql"
     },
     {
      "aliases": [],
      "name": "value"
     },
     {
      "aliases": [],
      "name": "webview"
     }
    ]
   }
  }
 },
 "nbformat": 4,
 "nbformat_minor": 2
}
