{
 "cells": [
  {
   "attachments": {},
   "cell_type": "markdown",
   "metadata": {
    "dotnet_interactive": {
     "language": "csharp"
    },
    "polyglot_notebook": {
     "kernelName": "csharp"
    }
   },
   "source": [
    "# Intro to HTML\n"
   ]
  },
  {
   "attachments": {},
   "cell_type": "markdown",
   "metadata": {
    "dotnet_interactive": {
     "language": "csharp"
    },
    "polyglot_notebook": {
     "kernelName": "csharp"
    }
   },
   "source": [
    "> **HTML** - (**H**)yper(**T**)ext (**M**)arkup (**L**)anguage\n",
    ">\n",
    ">> **HyperText** - *links that connect web pages together, either from the same website, or between others*.\n",
    ">>\n",
    ">> **Markup** - *are elements that create text, images, and other content to display in a web browser*.\n",
    "\n"
   ]
  },
  {
   "attachments": {},
   "cell_type": "markdown",
   "metadata": {
    "dotnet_interactive": {
     "language": "csharp"
    },
    "polyglot_notebook": {
     "kernelName": "csharp"
    }
   },
   "source": [
    "### Markup elements include things with \"tags\", which all include the \"<\" and \">\" keys.\n",
    "#### Examples are:\n",
    ">       <head>\n",
    ">       <title>\n",
    ">       <body>\n",
    ">       <title>\n",
    ">       <p>\n",
    "> ... and alot more!\n",
    "\n",
    "Tags are case insensitive, so `<head>` is the same thing as `<HEAD>`, `<Head>`, and `<hEaD>`. As convention, keep everything lowercase.<br>\n",
    "HTML is used for STRUCTURE of the content and web page."
   ]
  },
  {
   "attachments": {},
   "cell_type": "markdown",
   "metadata": {
    "dotnet_interactive": {
     "language": "csharp"
    },
    "polyglot_notebook": {
     "kernelName": "csharp"
    }
   },
   "source": [
    "In this example:\n",
    "\n",
    "> # `<p>` Hello World! `</p>`\n",
    "\n",
    "`<p>` is the opening tag.<br>\n",
    "`</p>` is the closing tag.<br>\n",
    "Everything inside of the tag is the content, and the entire thing is the element.<br>"
   ]
  },
  {
   "cell_type": "code",
   "execution_count": 3,
   "metadata": {
    "dotnet_interactive": {
     "language": "html"
    },
    "polyglot_notebook": {
     "kernelName": "html"
    },
    "vscode": {
     "languageId": "polyglot-notebook"
    }
   },
   "outputs": [
    {
     "data": {
      "text/html": [
       "<p> Hello World! </p>"
      ]
     },
     "metadata": {},
     "output_type": "display_data"
    }
   ],
   "source": [
    "<p> Hello World! </p>"
   ]
  },
  {
   "attachments": {},
   "cell_type": "markdown",
   "metadata": {
    "dotnet_interactive": {
     "language": "html"
    },
    "polyglot_notebook": {
     "kernelName": "html"
    }
   },
   "source": [
    "### Void Element"
   ]
  },
  {
   "attachments": {},
   "cell_type": "markdown",
   "metadata": {
    "dotnet_interactive": {
     "language": "html"
    },
    "polyglot_notebook": {
     "kernelName": "html"
    }
   },
   "source": [
    "A void element uses a tag that has no content in it. For Example:"
   ]
  },
  {
   "cell_type": "code",
   "execution_count": 1,
   "metadata": {
    "dotnet_interactive": {
     "language": "html"
    },
    "polyglot_notebook": {
     "kernelName": "html"
    },
    "vscode": {
     "languageId": "polyglot-notebook"
    }
   },
   "outputs": [
    {
     "data": {
      "text/html": [
       "<img src=\"raster.png\">"
      ]
     },
     "metadata": {},
     "output_type": "display_data"
    }
   ],
   "source": [
    "<img src=\"raster.png\">"
   ]
  },
  {
   "attachments": {},
   "cell_type": "markdown",
   "metadata": {
    "dotnet_interactive": {
     "language": "html"
    },
    "polyglot_notebook": {
     "kernelName": "html"
    }
   },
   "source": [
    "Notice how this only has the opening tag. You can also do this:"
   ]
  },
  {
   "cell_type": "code",
   "execution_count": 2,
   "metadata": {
    "dotnet_interactive": {
     "language": "html"
    },
    "polyglot_notebook": {
     "kernelName": "html"
    },
    "vscode": {
     "languageId": "polyglot-notebook"
    }
   },
   "outputs": [
    {
     "data": {
      "text/html": [
       "<img src=\"raster.png\"/>"
      ]
     },
     "metadata": {},
     "output_type": "display_data"
    }
   ],
   "source": [
    "<img src=\"raster.png\"/>"
   ]
  },
  {
   "attachments": {},
   "cell_type": "markdown",
   "metadata": {
    "dotnet_interactive": {
     "language": "html"
    },
    "polyglot_notebook": {
     "kernelName": "html"
    }
   },
   "source": [
    "## How to setup an HTML document and run it\n",
    "\n",
    "1. Open up VSCode and create a file with the *.html* file extension.\n",
    "2. Type in the below code\n",
    "3. Right click on the file with it open in the file explorer, and choose to open it with google chrome, or any other web browser."
   ]
  },
  {
   "cell_type": "code",
   "execution_count": 4,
   "metadata": {
    "dotnet_interactive": {
     "language": "html"
    },
    "polyglot_notebook": {
     "kernelName": "html"
    },
    "vscode": {
     "languageId": "polyglot-notebook"
    }
   },
   "outputs": [
    {
     "data": {
      "text/html": [
       "<!DOCTYPE html>\r\n",
       "<html lang=\"en-US\">\r\n",
       "  <head>\r\n",
       "    <meta charset=\"utf-8\" />\r\n",
       "    <title>My test page</title>\r\n",
       "  </head>\r\n",
       "  <body>\r\n",
       "    <p>This is my page</p>\r\n",
       "  </body>\r\n",
       "</html>"
      ]
     },
     "metadata": {},
     "output_type": "display_data"
    }
   ],
   "source": [
    "<!DOCTYPE html>\n",
    "<html lang=\"en-US\">\n",
    "  <head>\n",
    "    <meta charset=\"utf-8\" />\n",
    "    <title>My test page</title>\n",
    "  </head>\n",
    "  <body>\n",
    "    <p>This is my page</p>\n",
    "  </body>\n",
    "</html>"
   ]
  },
  {
   "attachments": {},
   "cell_type": "markdown",
   "metadata": {
    "dotnet_interactive": {
     "language": "html"
    },
    "polyglot_notebook": {
     "kernelName": "html"
    }
   },
   "source": [
    "`<!DOCTYPE html>` : When HTML was barely made, doctypes were meant to have web links to rules that the HTML page had to follow to be considered \"good\" HTML. But now its only a requirement to just get everything to work right. That is all you ever need to know about this thing.\n",
    "\n",
    "`<html></html>` : This element is supposed to wrap ALL of the content in the page. It is the root element.\n",
    "\n",
    "`<head></head>` : This section will act as a container for everything included in the HTML page, that will NOT be shown to the user. Examples are: keywords and page description that will appear in search results, CSS files, character sets, and more. Will learn more about later.\n",
    "\n",
    "`<meta charset=\"utf-8\">` :  Represents metadata that cannot be represented by other HTML meta-related elements. In this case, our character set for the ENTIRE document is in UTF-8, which you don't really need to understand. This just allows most characters from the majority of human written languages, like Chinese characters, Arabic characters, etc.\n",
    "\n",
    "`<title></title>` : Sets the title of the page, which you will see on the tab in the web browser.\n",
    "\n",
    "`<body></body>` : This contains ALL of the content that you will see and hear."
   ]
  },
  {
   "attachments": {},
   "cell_type": "markdown",
   "metadata": {
    "dotnet_interactive": {
     "language": "html"
    },
    "polyglot_notebook": {
     "kernelName": "html"
    }
   },
   "source": [
    "### You can directly type: `html: 5` ,in VSCode in an empty file, to create the skeleton above"
   ]
  },
  {
   "attachments": {},
   "cell_type": "markdown",
   "metadata": {
    "dotnet_interactive": {
     "language": "html"
    },
    "polyglot_notebook": {
     "kernelName": "html"
    }
   },
   "source": [
    "## HTML Text Tags"
   ]
  },
  {
   "cell_type": "code",
   "execution_count": 5,
   "metadata": {
    "dotnet_interactive": {
     "language": "html"
    },
    "polyglot_notebook": {
     "kernelName": "html"
    },
    "vscode": {
     "languageId": "polyglot-notebook"
    }
   },
   "outputs": [
    {
     "data": {
      "text/html": [
       "<p>Find the difference</p>\r\n",
       "Find the difference"
      ]
     },
     "metadata": {},
     "output_type": "display_data"
    }
   ],
   "source": [
    "<p>Find the difference</p>\n",
    "Find the difference"
   ]
  },
  {
   "attachments": {},
   "cell_type": "markdown",
   "metadata": {
    "dotnet_interactive": {
     "language": "html"
    },
    "polyglot_notebook": {
     "kernelName": "html"
    }
   },
   "source": [
    "There is no difference at first glance. But in practice, you should at least use `<p>` to style the text later on."
   ]
  },
  {
   "attachments": {},
   "cell_type": "markdown",
   "metadata": {
    "dotnet_interactive": {
     "language": "html"
    },
    "polyglot_notebook": {
     "kernelName": "html"
    }
   },
   "source": [
    "#### Text Tags"
   ]
  },
  {
   "cell_type": "code",
   "execution_count": 15,
   "metadata": {
    "dotnet_interactive": {
     "language": "html"
    },
    "polyglot_notebook": {
     "kernelName": "html"
    },
    "vscode": {
     "languageId": "polyglot-notebook"
    }
   },
   "outputs": [
    {
     "data": {
      "text/html": [
       "<h1> Heading 1 </h1>\r\n",
       "<h2> Heading 2 </h2>\r\n",
       "<h3> Heading 3 </h3>\r\n",
       "<h4> Heading 4 </h4>\r\n",
       "<h5> Heading 5 </h5>\r\n",
       "<h6> Heading 6 </h6>\r\n",
       "\r\n",
       "<p> This is a paragraph text </p>\r\n",
       "<p> This is another paragraph text. \r\n",
       "Notice they are on the same line, but in code, they are in different lines. </p>"
      ]
     },
     "metadata": {},
     "output_type": "display_data"
    }
   ],
   "source": [
    "<h1> Heading 1 </h1>\n",
    "<h2> Heading 2 </h2>\n",
    "<h3> Heading 3 </h3>\n",
    "<h4> Heading 4 </h4>\n",
    "<h5> Heading 5 </h5>\n",
    "<h6> Heading 6 </h6>\n",
    "\n",
    "<p> This is a paragraph text </p>\n",
    "<p> This is another paragraph text. \n",
    "Notice they are on the same line, but in code, they are in different lines. </p>"
   ]
  },
  {
   "attachments": {},
   "cell_type": "markdown",
   "metadata": {
    "dotnet_interactive": {
     "language": "html"
    },
    "polyglot_notebook": {
     "kernelName": "html"
    }
   },
   "source": [
    "#### Style Text Tags"
   ]
  },
  {
   "cell_type": "code",
   "execution_count": 2,
   "metadata": {
    "dotnet_interactive": {
     "language": "html"
    },
    "polyglot_notebook": {
     "kernelName": "html"
    },
    "vscode": {
     "languageId": "polyglot-notebook"
    }
   },
   "outputs": [
    {
     "data": {
      "text/html": [
       "<strong> Bold text. </strong>\r\n",
       "<br>\r\n",
       "<b> Bold text. </b>\r\n",
       "<br>\r\n",
       "<em> Italicized text. </em>\r\n",
       "<br>\r\n",
       "<i> Italicized text. </i>\r\n",
       "<br>\r\n",
       "<code> Text that looks like code. </code>\r\n",
       "<br>\r\n",
       "Testing <sub> Subscripted text. </sub>\r\n",
       "<br>\r\n",
       "Testing <sup> Superscripted text. </sup>\r\n",
       "<br>\r\n",
       "<mark> Marked text. </mark>\r\n",
       "<br>\r\n",
       "<small> Smaller text. </small>\r\n",
       "<br>\r\n",
       "<del> Deleted text. </del>\r\n",
       "<br>\r\n",
       "<ins> Inserted text. </ins>\r\n",
       "<br>\r\n",
       "<u> Underlined text. </u>"
      ]
     },
     "metadata": {},
     "output_type": "display_data"
    }
   ],
   "source": [
    "<strong> Bold text. </strong>\n",
    "<br>\n",
    "<b> Bold text. </b>\n",
    "<br>\n",
    "<em> Italicized text. </em>\n",
    "<br>\n",
    "<i> Italicized text. </i>\n",
    "<br>\n",
    "<code> Text that looks like code. </code>\n",
    "<br>\n",
    "Testing <sub> Subscripted text. </sub>\n",
    "<br>\n",
    "Testing <sup> Superscripted text. </sup>\n",
    "<br>\n",
    "<mark> Marked text. </mark>\n",
    "<br>\n",
    "<small> Smaller text. </small>\n",
    "<br>\n",
    "<del> Deleted text. </del>\n",
    "<br>\n",
    "<ins> Inserted text. </ins>\n",
    "<br>\n",
    "<u> Underlined text. </u>"
   ]
  },
  {
   "attachments": {},
   "cell_type": "markdown",
   "metadata": {
    "dotnet_interactive": {
     "language": "html"
    },
    "polyglot_notebook": {
     "kernelName": "html"
    }
   },
   "source": [
    "Question: Try to make a heading 1 that is underlined, italicized, and bolded. That has a subscripted text that is \"deleted\" by it."
   ]
  },
  {
   "attachments": {},
   "cell_type": "markdown",
   "metadata": {
    "dotnet_interactive": {
     "language": "html"
    },
    "polyglot_notebook": {
     "kernelName": "html"
    }
   },
   "source": [
    "## Block versus Inline elements"
   ]
  },
  {
   "attachments": {},
   "cell_type": "markdown",
   "metadata": {
    "dotnet_interactive": {
     "language": "html"
    },
    "polyglot_notebook": {
     "kernelName": "html"
    }
   },
   "source": [
    "***Block-level*** :  These elements for a visible block on a page (visible when looking at the code through the inspector). The block-level element appears on a new line after the element that precedes it. They usually will take up the entire line. An example would be the paragraph and header tags. Notice how as soon as I make a new header element, it gets on another line. But with the text-styling tags like `<small>`, I need to create a new line by hand by using `<br>`. Block-level elements aren't nested in an inline element, but might be nested in ANOTHER block-level element."
   ]
  },
  {
   "attachments": {},
   "cell_type": "markdown",
   "metadata": {
    "dotnet_interactive": {
     "language": "html"
    },
    "polyglot_notebook": {
     "kernelName": "html"
    }
   },
   "source": [
    "***Inline-level*** : They are contained **IN** block-level elements. They will not cause a newline to appear. Examples are the text styling in the code above."
   ]
  },
  {
   "cell_type": "code",
   "execution_count": 3,
   "metadata": {
    "dotnet_interactive": {
     "language": "html"
    },
    "polyglot_notebook": {
     "kernelName": "html"
    },
    "vscode": {
     "languageId": "polyglot-notebook"
    }
   },
   "outputs": [
    {
     "data": {
      "text/html": [
       "<em>first</em>\r\n",
       "<em>second</em>\r\n",
       "<em>third</em>\r\n",
       "\r\n",
       "<p>fourth</p>\r\n",
       "<p>fifth</p>\r\n",
       "<p>sixth</p>"
      ]
     },
     "metadata": {},
     "output_type": "display_data"
    }
   ],
   "source": [
    "<em>first</em>\n",
    "<em>second</em>\n",
    "<em>third</em>\n",
    "\n",
    "<p>fourth</p>\n",
    "<p>fifth</p>\n",
    "<p>sixth</p>"
   ]
  },
  {
   "attachments": {},
   "cell_type": "markdown",
   "metadata": {
    "dotnet_interactive": {
     "language": "html"
    },
    "polyglot_notebook": {
     "kernelName": "html"
    }
   },
   "source": [
    "Question: Why are there 4 lines?"
   ]
  },
  {
   "attachments": {},
   "cell_type": "markdown",
   "metadata": {
    "dotnet_interactive": {
     "language": "html"
    },
    "polyglot_notebook": {
     "kernelName": "html"
    }
   },
   "source": [
    "Note: HTML5 redefined the element categories from block and inline elements, but they are more complicated. You should also not be confused with **block** and **inline** with the CSS's **block** and **inline**, as they are different."
   ]
  },
  {
   "attachments": {},
   "cell_type": "markdown",
   "metadata": {
    "dotnet_interactive": {
     "language": "html"
    },
    "polyglot_notebook": {
     "kernelName": "html"
    }
   },
   "source": [
    "## Tag Attributes"
   ]
  },
  {
   "cell_type": "code",
   "execution_count": 18,
   "metadata": {
    "dotnet_interactive": {
     "language": "html"
    },
    "polyglot_notebook": {
     "kernelName": "html"
    },
    "vscode": {
     "languageId": "polyglot-notebook"
    }
   },
   "outputs": [
    {
     "data": {
      "text/html": [
       "<p class=\"someParagraph\"> Hello again </p>"
      ]
     },
     "metadata": {},
     "output_type": "display_data"
    }
   ],
   "source": [
    "<p class=\"someParagraph\"> Hello again </p>"
   ]
  },
  {
   "attachments": {},
   "cell_type": "markdown",
   "metadata": {
    "dotnet_interactive": {
     "language": "html"
    },
    "polyglot_notebook": {
     "kernelName": "html"
    }
   },
   "source": [
    "Attributes are like passing parameters to functions. You can add extra information about the particular element. In this case, the `class` attribute will give the element a unique name to target it with style info.  \n",
    "There are certain rules that need to be followed:  \n",
    "1. A space in between the attribute and element names. The attributes have to be seperated by spaces too.\n",
    "2. The name of the attribute, and an equal sign.\n",
    "3. The attribute value, wrapped with opening and closing quote marks."
   ]
  },
  {
   "attachments": {},
   "cell_type": "markdown",
   "metadata": {
    "dotnet_interactive": {
     "language": "html"
    },
    "polyglot_notebook": {
     "kernelName": "html"
    }
   },
   "source": [
    "The `<a>` tag is an **anchor**, which turns the text into a hyperlink, which sends you to another website. Anchors have many attributes, but here are 3:\n",
    "1. `href` : The web address for the link\n",
    "2. `title` : Provides more info about the link, which appears as a tooltip when the cursor hovers over the element.\n",
    "3. `target` : Specifies the browsing context to display the link. For example, `target=\"_blank\"` will display the link in a new tab. Omitting this attribute will just use the current tab."
   ]
  },
  {
   "attachments": {},
   "cell_type": "markdown",
   "metadata": {
    "dotnet_interactive": {
     "language": "html"
    },
    "polyglot_notebook": {
     "kernelName": "html"
    }
   },
   "source": [
    "Try to create a link that will open a new tab when you click on a piece of text."
   ]
  },
  {
   "attachments": {},
   "cell_type": "markdown",
   "metadata": {
    "dotnet_interactive": {
     "language": "html"
    },
    "polyglot_notebook": {
     "kernelName": "html"
    }
   },
   "source": [
    "### Boolean Attributes"
   ]
  },
  {
   "attachments": {},
   "cell_type": "markdown",
   "metadata": {
    "dotnet_interactive": {
     "language": "html"
    },
    "polyglot_notebook": {
     "kernelName": "html"
    }
   },
   "source": [
    "Sometimes you will see attributes with no value. That is because that said attribute will only have one value, which is the SAME as the name of that attribute. For a shortcut, just writing the name of the attribute alone will \"activate\" it. We will use the `<input>` tag as the example. The input tag allows users to type in text into an input box to submit as a form. More on this later."
   ]
  },
  {
   "cell_type": "code",
   "execution_count": 19,
   "metadata": {
    "dotnet_interactive": {
     "language": "html"
    },
    "polyglot_notebook": {
     "kernelName": "html"
    },
    "vscode": {
     "languageId": "polyglot-notebook"
    }
   },
   "outputs": [
    {
     "data": {
      "text/html": [
       "<input type=\"text\">"
      ]
     },
     "metadata": {},
     "output_type": "display_data"
    }
   ],
   "source": [
    "<input type=\"text\">"
   ]
  },
  {
   "attachments": {},
   "cell_type": "markdown",
   "metadata": {
    "dotnet_interactive": {
     "language": "html"
    },
    "polyglot_notebook": {
     "kernelName": "html"
    }
   },
   "source": [
    "The `disabled` attibute is part of the `<input>` tag. Activating this will not allow the user to type, and will grey out the text box."
   ]
  },
  {
   "attachments": {},
   "cell_type": "markdown",
   "metadata": {
    "dotnet_interactive": {
     "language": "html"
    },
    "polyglot_notebook": {
     "kernelName": "html"
    }
   },
   "source": [
    "Try to find out how to use this attribute."
   ]
  },
  {
   "attachments": {},
   "cell_type": "markdown",
   "metadata": {
    "dotnet_interactive": {
     "language": "html"
    },
    "polyglot_notebook": {
     "kernelName": "html"
    }
   },
   "source": [
    "In an `<a>` tag, try to use double quotes in the title and make it work"
   ]
  },
  {
   "attachments": {},
   "cell_type": "markdown",
   "metadata": {
    "dotnet_interactive": {
     "language": "html"
    },
    "polyglot_notebook": {
     "kernelName": "html"
    }
   },
   "source": [
    "## Whitespace and Entities in HTML"
   ]
  },
  {
   "cell_type": "code",
   "execution_count": 20,
   "metadata": {
    "dotnet_interactive": {
     "language": "html"
    },
    "polyglot_notebook": {
     "kernelName": "html"
    },
    "vscode": {
     "languageId": "polyglot-notebook"
    }
   },
   "outputs": [
    {
     "data": {
      "text/html": [
       "<p> Hello there. </p>\r\n",
       "<p> Hello       there\r\n",
       "\r\n",
       "   again. </p>"
      ]
     },
     "metadata": {},
     "output_type": "display_data"
    }
   ],
   "source": [
    "<p> Hello there. </p>\n",
    "<p> Hello       there\n",
    "\n",
    "   again. </p>"
   ]
  },
  {
   "attachments": {},
   "cell_type": "markdown",
   "metadata": {
    "dotnet_interactive": {
     "language": "html"
    },
    "polyglot_notebook": {
     "kernelName": "html"
    }
   },
   "source": [
    "No matter how much whitespace you include in the element. The HTML parser reduces each sequence of whitespace to a single space when rendering."
   ]
  },
  {
   "attachments": {},
   "cell_type": "markdown",
   "metadata": {
    "dotnet_interactive": {
     "language": "html"
    },
    "polyglot_notebook": {
     "kernelName": "html"
    }
   },
   "source": [
    "`<`, `>`, `\"`, `'`, and `&`, are special characters/entities in HTML. They are all part of the HTML syntax. So in order to use these characters in the text and not have it interpreted as code, you must use character references/entities. All of which have an ampersand (&) before it, and must end with semicolons. We can use either Entity Names or Entity Numbers. If using Entity Numbers, you will need to use "
   ]
  },
  {
   "attachments": {},
   "cell_type": "markdown",
   "metadata": {
    "dotnet_interactive": {
     "language": "html"
    },
    "polyglot_notebook": {
     "kernelName": "html"
    }
   },
   "source": [
    "<table>\n",
    "    <tr>\n",
    "        <th>Literal Character</th>\n",
    "        <th>Entity Name</th>\n",
    "        <th>Entity Number</th>\n",
    "    </tr>\n",
    "    <tr>\n",
    "        <th>&amp;</th>\n",
    "        <th>&amp;amp;</th>\n",
    "        <th>&amp;#38;</th>\n",
    "    </tr>\n",
    "    <tr>\n",
    "        <th>&lt;</th>\n",
    "        <th>&amp;lt;</th>\n",
    "        <th>&amp;#60;</th>\n",
    "    </tr>\n",
    "    <tr>\n",
    "        <th>&gt;</th>\n",
    "        <th>&amp;gt;</th>\n",
    "        <th>&amp;#62;</th>\n",
    "    </tr>\n",
    "    <tr>\n",
    "        <th>&sum;</th>\n",
    "        <th>&amp;sum;</th>\n",
    "        <th>&amp;#8721;</th>\n",
    "    </tr>\n",
    "    <tr>\n",
    "        <th>&gt;</th>\n",
    "        <th>&amp;gt;</th>\n",
    "        <th>&amp;#62;</th>\n",
    "    </tr>\n",
    "    <tr>\n",
    "        <th>&#61;</th>\n",
    "        <th></th>\n",
    "        <th>&amp;#61;</th>\n",
    "    </tr>\n",
    "    <tr>\n",
    "        <th>&#31;</th>\n",
    "        <th></th>\n",
    "        <th>&amp;#31;</th>\n",
    "    </tr>\n",
    "    <tr>\n",
    "        <th>&#39;</th>\n",
    "        <th></th>\n",
    "        <th>&amp;#39;</th>\n",
    "    </tr>\n",
    "    \n",
    "</table>"
   ]
  },
  {
   "attachments": {},
   "cell_type": "markdown",
   "metadata": {
    "dotnet_interactive": {
     "language": "html"
    },
    "polyglot_notebook": {
     "kernelName": "html"
    }
   },
   "source": [
    "Note, not every character will have an entity name, so if not, they will have an entity number. You can also just paste in the actual symbols just fine, as long as the character coding of the document is set to UTF-8."
   ]
  },
  {
   "attachments": {},
   "cell_type": "markdown",
   "metadata": {
    "dotnet_interactive": {
     "language": "html"
    },
    "polyglot_notebook": {
     "kernelName": "html"
    }
   },
   "source": [
    "#### HTML Comments"
   ]
  },
  {
   "cell_type": "code",
   "execution_count": 21,
   "metadata": {
    "dotnet_interactive": {
     "language": "html"
    },
    "polyglot_notebook": {
     "kernelName": "html"
    },
    "vscode": {
     "languageId": "polyglot-notebook"
    }
   },
   "outputs": [
    {
     "data": {
      "text/html": [
       "<!--\r\n",
       "\r\n",
       "<p> I will not be outputted! </p>\r\n",
       "\r\n",
       "-->\r\n",
       "\r\n",
       "<p> I will be outputted! </p>"
      ]
     },
     "metadata": {},
     "output_type": "display_data"
    }
   ],
   "source": [
    "<!--\n",
    "\n",
    "<p> I will not be outputted! </p>\n",
    "\n",
    "-->\n",
    "\n",
    "<p> I will be outputted! </p>"
   ]
  }
 ],
 "metadata": {
  "kernelspec": {
   "display_name": ".NET (C#)",
   "language": "C#",
   "name": ".net-csharp"
  },
  "polyglot_notebook": {
   "kernelInfo": {
    "defaultKernelName": "csharp",
    "items": [
     {
      "aliases": [
       "c#",
       "C#"
      ],
      "languageName": "C#",
      "name": "csharp"
     },
     {
      "aliases": [
       "frontend"
      ],
      "name": "vscode"
     },
     {
      "aliases": [],
      "name": ".NET"
     },
     {
      "aliases": [
       "f#",
       "F#"
      ],
      "languageName": "F#",
      "name": "fsharp"
     },
     {
      "aliases": [],
      "languageName": "HTML",
      "name": "html"
     },
     {
      "aliases": [
       "js"
      ],
      "languageName": "JavaScript",
      "name": "javascript"
     },
     {
      "aliases": [],
      "languageName": "KQL",
      "name": "kql"
     },
     {
      "aliases": [],
      "languageName": "Mermaid",
      "name": "mermaid"
     },
     {
      "aliases": [
       "powershell"
      ],
      "languageName": "PowerShell",
      "name": "pwsh"
     },
     {
      "aliases": [],
      "languageName": "SQL",
      "name": "sql"
     },
     {
      "aliases": [],
      "name": "value"
     },
     {
      "aliases": [],
      "name": "webview"
     }
    ]
   }
  }
 },
 "nbformat": 4,
 "nbformat_minor": 2
}
