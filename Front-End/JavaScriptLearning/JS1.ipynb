{
 "cells": [
  {
   "attachments": {},
   "cell_type": "markdown",
   "metadata": {
    "dotnet_interactive": {
     "language": "csharp"
    },
    "polyglot_notebook": {
     "kernelName": "csharp"
    }
   },
   "source": [
    "# First Splash Into JavaScript"
   ]
  },
  {
   "attachments": {},
   "cell_type": "markdown",
   "metadata": {
    "dotnet_interactive": {
     "language": "csharp"
    },
    "polyglot_notebook": {
     "kernelName": "csharp"
    }
   },
   "source": [
    "We will start our JavaScript Journey by making a guess the number game within the browser"
   ]
  },
  {
   "cell_type": "code",
   "execution_count": null,
   "metadata": {
    "dotnet_interactive": {
     "language": "html"
    },
    "polyglot_notebook": {
     "kernelName": "html"
    },
    "vscode": {
     "languageId": "polyglot-notebook"
    }
   },
   "outputs": [],
   "source": [
    "<head>\n",
    "    <style>\n",
    "      html {\n",
    "        font-family: sans-serif;\n",
    "      }\n",
    "      \n",
    "      .form input[type=\"number\"] {\n",
    "        width: 200px;\n",
    "      }\n",
    "\n",
    "      .lastResult {\n",
    "        color: white;\n",
    "        padding: 3px;\n",
    "      }\n",
    "    </style>\n",
    "  </head>\n",
    "  <body>\n",
    "    <h1>Number guessing game</h1>\n",
    "\n",
    "    <p>We have selected a random number between 1 and 100. See if you can guess it in 10 turns or fewer. We'll tell you if your guess was too high or too low.</p>\n",
    "\n",
    "    <div class=\"form\">\n",
    "      <label for=\"guessField\">Enter a guess: </label>\n",
    "      <input type=\"number\" min=\"1\" max=\"100\" required id=\"guessField\" class=\"guessField\">\n",
    "      <input type=\"submit\" value=\"Submit guess\" class=\"guessSubmit\">\n",
    "    </div>\n",
    "\n",
    "    <div class=\"resultParas\">\n",
    "      <p class=\"guesses\"></p>\n",
    "      <p class=\"lastResult\"></p>\n",
    "      <p class=\"lowOrHi\"></p>\n",
    "    </div>\n",
    "\n",
    "    <script>\n",
    "\n",
    "      // Your JavaScript goes here\n",
    "\n",
    "    </script>\n",
    "  </body>"
   ]
  },
  {
   "attachments": {},
   "cell_type": "markdown",
   "metadata": {
    "dotnet_interactive": {
     "language": "csharp"
    },
    "polyglot_notebook": {
     "kernelName": "csharp"
    }
   },
   "source": [
    "Let's say we are given this task:  \n",
    "I want you to create a simple guess the number type game. It should choose a random number between 1 and 100, then challenge the player to guess the number in 10 turns. After each turn, the player should be told if they are right or wrong, and if they are wrong, whether the guess was too low or too high. It should also tell the player what numbers they previously guessed. The game will end once the player guesses correctly, or once they run out of turns. When the game ends, the player should be given an option to start playing again.  \n",
    "<br>\n",
    "We will then need to break down the problem into smaller tasks. Which are:  \n",
    "1. Generate a random number between 1 and 100.\n",
    "2. Record the turn number the player is on. Start it on 1.\n",
    "3. Provide the player with a way to guess what the number is.\n",
    "4. Once a guess has been submitted first record it somewhere so the user can see their previous guesses.\n",
    "5. Next, check whether it is the correct number.\n",
    "6. If it is correct:\n",
    "    - Display congratulations message.\n",
    "    - Stop the player from being able to enter more guesses (this would mess the game up).\n",
    "    - Display control allowing the player to restart the game.\n",
    "7. If it is wrong and the player has turns left:\n",
    "    - Tell the player they are wrong and whether their guess was too high or too low.\n",
    "    - Allow them to enter another guess.\n",
    "    - Increment the turn number by 1.\n",
    "8. If it is wrong and the player has no turns left:\n",
    "    - Tell the player it is game over.\n",
    "    - Stop the player from being able to enter more guesses (this would mess the game up).\n",
    "    - Display control allowing the player to restart the game.\n",
    "9. Once the game restarts, make sure the game logic and UI are completely reset, then go back to step 1.\n"
   ]
  },
  {
   "attachments": {},
   "cell_type": "markdown",
   "metadata": {
    "dotnet_interactive": {
     "language": "csharp"
    },
    "polyglot_notebook": {
     "kernelName": "csharp"
    }
   },
   "source": [
    "### NOTE!! Because the code will be too long, we are going to only be looking at the `<script>` section, but imagine everything else is in the code cells!!!"
   ]
  },
  {
   "cell_type": "code",
   "execution_count": null,
   "metadata": {
    "dotnet_interactive": {
     "language": "html"
    },
    "polyglot_notebook": {
     "kernelName": "html"
    },
    "vscode": {
     "languageId": "polyglot-notebook"
    }
   },
   "outputs": [],
   "source": [
    "<head>\n",
    "</head>\n",
    "<body>\n",
    "\n",
    "<script>\n",
    "    let randomNumber = Math.floor(Math.random() * 100) + 1;\n",
    "\n",
    "    const guesses = document.querySelector('.guesses');\n",
    "    const lastResult = document.querySelector('.lastResult');\n",
    "    const lowOrHi = document.querySelector('.lowOrHi');\n",
    "\n",
    "    const guessSubmit = document.querySelector('.guessSubmit');\n",
    "    const guessField = document.querySelector('.guessField');\n",
    "\n",
    "    let guessCount = 1;\n",
    "    let resetButton;\n",
    "</script>\n",
    "</body>"
   ]
  },
  {
   "attachments": {},
   "cell_type": "markdown",
   "metadata": {
    "dotnet_interactive": {
     "language": "html"
    },
    "polyglot_notebook": {
     "kernelName": "html"
    }
   },
   "source": [
    "`let` is just telling the computer we are making a variable.  \n",
    "`const` is just a named value that will not change, unlike a variable.  \n",
    "In this case, constants are used to REFER to parts of the UI.  \n",
    "The text inside some of these elements might change, but the REFERENCES will stay the same.  "
   ]
  },
  {
   "cell_type": "code",
   "execution_count": null,
   "metadata": {
    "dotnet_interactive": {
     "language": "html"
    },
    "polyglot_notebook": {
     "kernelName": "html"
    },
    "vscode": {
     "languageId": "polyglot-notebook"
    }
   },
   "outputs": [],
   "source": [
    "<head>\n",
    "</head>\n",
    "<body>\n",
    "    \n",
    "<script>\n",
    "    let randomNumber = Math.floor(Math.random() * 100) + 1;\n",
    "\n",
    "    const guesses = document.querySelector('.guesses');\n",
    "    const lastResult = document.querySelector('.lastResult');\n",
    "    const lowOrHi = document.querySelector('.lowOrHi');\n",
    "\n",
    "    const guessSubmit = document.querySelector('.guessSubmit');\n",
    "    const guessField = document.querySelector('.guessField');\n",
    "\n",
    "    let guessCount = 1;\n",
    "    let resetButton;\n",
    "\n",
    "    function checkGuess() {\n",
    "        alert('I am a placeholder');\n",
    "    }\n",
    "</script>\n",
    "</body>"
   ]
  },
  {
   "attachments": {},
   "cell_type": "markdown",
   "metadata": {
    "dotnet_interactive": {
     "language": "html"
    },
    "polyglot_notebook": {
     "kernelName": "html"
    }
   },
   "source": [
    "You can concatenate strings using the `+` operator.  \n",
    "There is also the `+=` from Python.  "
   ]
  },
  {
   "attachments": {},
   "cell_type": "markdown",
   "metadata": {
    "dotnet_interactive": {
     "language": "html"
    },
    "polyglot_notebook": {
     "kernelName": "html"
    }
   },
   "source": [
    "The `===` is for strict equality, to make sure if they are \"EXACTLY\" the same. Here is an example:"
   ]
  },
  {
   "cell_type": "code",
   "execution_count": null,
   "metadata": {
    "dotnet_interactive": {
     "language": "javascript"
    },
    "polyglot_notebook": {
     "kernelName": "javascript"
    },
    "vscode": {
     "languageId": "polyglot-notebook"
    }
   },
   "outputs": [],
   "source": [
    "console.log(5 == \"5\");\n",
    "console.log(5 == 5.0);\n",
    "console.log(5 == 5);\n",
    "console.log(5 === \"5\");\n",
    "console.log(5 === 5.0);\n",
    "console.log(5 === 5);"
   ]
  },
  {
   "attachments": {},
   "cell_type": "markdown",
   "metadata": {
    "dotnet_interactive": {
     "language": "javascript"
    },
    "polyglot_notebook": {
     "kernelName": "javascript"
    }
   },
   "source": [
    "There is also `!==` for non-equality, which is the same as `!=`"
   ]
  },
  {
   "attachments": {},
   "cell_type": "markdown",
   "metadata": {
    "dotnet_interactive": {
     "language": "javascript"
    },
    "polyglot_notebook": {
     "kernelName": "javascript"
    }
   },
   "source": [
    "Next we are going to put some stuff in the function:"
   ]
  },
  {
   "cell_type": "code",
   "execution_count": null,
   "metadata": {
    "dotnet_interactive": {
     "language": "html"
    },
    "polyglot_notebook": {
     "kernelName": "html"
    },
    "vscode": {
     "languageId": "polyglot-notebook"
    }
   },
   "outputs": [],
   "source": [
    "<head>\n",
    "</head>\n",
    "<body>\n",
    "    \n",
    "<script>\n",
    "    let randomNumber = Math.floor(Math.random() * 100) + 1;\n",
    "\n",
    "    const guesses = document.querySelector('.guesses');\n",
    "    const lastResult = document.querySelector('.lastResult');\n",
    "    const lowOrHi = document.querySelector('.lowOrHi');\n",
    "\n",
    "    const guessSubmit = document.querySelector('.guessSubmit');\n",
    "    const guessField = document.querySelector('.guessField');\n",
    "\n",
    "    let guessCount = 1;\n",
    "    let resetButton;\n",
    "\n",
    "    function checkGuess() {\n",
    "        const userGuess = Number(guessField.value);\n",
    "        if (guessCount === 1) {\n",
    "            guesses.textContent = 'Previous guesses: ';\n",
    "        }\n",
    "        guesses.textContent += `${userGuess} `;\n",
    "\n",
    "        if (userGuess === randomNumber) {\n",
    "            lastResult.textContent = 'Congratulations! You got it right!';\n",
    "            lastResult.style.backgroundColor = 'green';\n",
    "            lowOrHi.textContent = '';\n",
    "            setGameOver();\n",
    "        } else if (guessCount === 10) {\n",
    "            lastResult.textContent = '!!!GAME OVER!!!';\n",
    "            lowOrHi.textContent = '';\n",
    "            setGameOver();\n",
    "        } else {\n",
    "            lastResult.textContent = 'Wrong!';\n",
    "            lastResult.style.backgroundColor = 'red';\n",
    "            if (userGuess < randomNumber) {\n",
    "            lowOrHi.textContent = 'Last guess was too low!';\n",
    "            } else if (userGuess > randomNumber) {\n",
    "            lowOrHi.textContent = 'Last guess was too high!';\n",
    "            }\n",
    "        }\n",
    "\n",
    "        guessCount++;\n",
    "        guessField.value = '';\n",
    "        guessField.focus();\n",
    "    }\n",
    "</script>\n",
    "</body>"
   ]
  },
  {
   "attachments": {},
   "cell_type": "markdown",
   "metadata": {
    "dotnet_interactive": {
     "language": "html"
    },
    "polyglot_notebook": {
     "kernelName": "html"
    }
   },
   "source": [
    "`userGuess` is the value that the user entered in the text field. We also used the `Number()` constructor, which turns the text into a number. This is similar to Python from: `int(input(\"Enter text here:\"))`  \n"
   ]
  },
  {
   "attachments": {},
   "cell_type": "markdown",
   "metadata": {
    "dotnet_interactive": {
     "language": "html"
    },
    "polyglot_notebook": {
     "kernelName": "html"
    }
   },
   "source": [
    "Next, we say if they made a guess before, the `textContent` will become `Previous guesses: `  \n",
    "Afterwards, we add the user's CURRENT guess to the `textContent`. So like `Previous guesses: 1`, then `Previous guesses: 1 3`...  "
   ]
  },
  {
   "attachments": {},
   "cell_type": "markdown",
   "metadata": {
    "dotnet_interactive": {
     "language": "html"
    },
    "polyglot_notebook": {
     "kernelName": "html"
    }
   },
   "source": [
    "Then if the user's guess is the answer, we set some things, and they win."
   ]
  },
  {
   "attachments": {},
   "cell_type": "markdown",
   "metadata": {
    "dotnet_interactive": {
     "language": "html"
    },
    "polyglot_notebook": {
     "kernelName": "html"
    }
   },
   "source": [
    "If they don't make the guess, then we check if they guessed 10 times. If they did, they lose."
   ]
  },
  {
   "attachments": {},
   "cell_type": "markdown",
   "metadata": {
    "dotnet_interactive": {
     "language": "html"
    },
    "polyglot_notebook": {
     "kernelName": "html"
    }
   },
   "source": [
    "Otherwise, they just simply got it wrong, and we tell the user if they guessed too high or too low, and we continue again."
   ]
  },
  {
   "attachments": {},
   "cell_type": "markdown",
   "metadata": {
    "dotnet_interactive": {
     "language": "html"
    },
    "polyglot_notebook": {
     "kernelName": "html"
    }
   },
   "source": [
    "## Events"
   ]
  },
  {
   "attachments": {},
   "cell_type": "markdown",
   "metadata": {
    "dotnet_interactive": {
     "language": "html"
    },
    "polyglot_notebook": {
     "kernelName": "html"
    }
   },
   "source": [
    "Now we want to CALL the function when the \"Submit Guess\" button is pressed, and we need to use an **Event**. Events are things that happen in the browser, and we respond with running some blocks of code.  \n",
    "**Event Listeners** OBSERVE specific events, and call the **Event Handlers**, which are blocks of code that run in response to an event firing.  \n",
    "We will add a line of code under the function:"
   ]
  },
  {
   "cell_type": "code",
   "execution_count": null,
   "metadata": {
    "dotnet_interactive": {
     "language": "html"
    },
    "polyglot_notebook": {
     "kernelName": "html"
    },
    "vscode": {
     "languageId": "polyglot-notebook"
    }
   },
   "outputs": [],
   "source": [
    "<head>\n",
    "</head>\n",
    "<body>\n",
    "    \n",
    "<script>\n",
    "    let randomNumber = Math.floor(Math.random() * 100) + 1;\n",
    "\n",
    "    const guesses = document.querySelector('.guesses');\n",
    "    const lastResult = document.querySelector('.lastResult');\n",
    "    const lowOrHi = document.querySelector('.lowOrHi');\n",
    "\n",
    "    const guessSubmit = document.querySelector('.guessSubmit');\n",
    "    const guessField = document.querySelector('.guessField');\n",
    "\n",
    "    let guessCount = 1;\n",
    "    let resetButton;\n",
    "\n",
    "    function checkGuess() {\n",
    "        const userGuess = Number(guessField.value);\n",
    "        if (guessCount === 1) {\n",
    "            guesses.textContent = 'Previous guesses: ';\n",
    "        }\n",
    "        guesses.textContent += `${userGuess} `;\n",
    "\n",
    "        if (userGuess === randomNumber) {\n",
    "            lastResult.textContent = 'Congratulations! You got it right!';\n",
    "            lastResult.style.backgroundColor = 'green';\n",
    "            lowOrHi.textContent = '';\n",
    "            setGameOver();\n",
    "        } else if (guessCount === 10) {\n",
    "            lastResult.textContent = '!!!GAME OVER!!!';\n",
    "            lowOrHi.textContent = '';\n",
    "            setGameOver();\n",
    "        } else {\n",
    "            lastResult.textContent = 'Wrong!';\n",
    "            lastResult.style.backgroundColor = 'red';\n",
    "            if (userGuess < randomNumber) {\n",
    "            lowOrHi.textContent = 'Last guess was too low!';\n",
    "            } else if (userGuess > randomNumber) {\n",
    "            lowOrHi.textContent = 'Last guess was too high!';\n",
    "            }\n",
    "        }\n",
    "\n",
    "        guessCount++;\n",
    "        guessField.value = '';\n",
    "        guessField.focus();\n",
    "    }\n",
    "\n",
    "    guessSubmit.addEventListener(`click`, checkguess);\n",
    "</script>\n",
    "</body>"
   ]
  },
  {
   "attachments": {},
   "cell_type": "markdown",
   "metadata": {
    "dotnet_interactive": {
     "language": "html"
    },
    "polyglot_notebook": {
     "kernelName": "html"
    }
   },
   "source": [
    "Remember that the `guessSubmit` is an object/instance that points to the submit button on the screen. Then we are using the object's method: `addEventListener()`, thich takes 2 arguments:\n",
    "1. The type of event we are listening for as a string (`click`).\n",
    "2. The code block/function we want to run when the event occurs (`checkGuess()`). We don't HAVE to specify the parameters/arguments, but we could."
   ]
  },
  {
   "attachments": {},
   "cell_type": "markdown",
   "metadata": {
    "dotnet_interactive": {
     "language": "html"
    },
    "polyglot_notebook": {
     "kernelName": "html"
    }
   },
   "source": [
    "Will the code fully work now?  \n",
    "Answer is no, because we didn't define the `setGameOver()` function."
   ]
  },
  {
   "cell_type": "code",
   "execution_count": null,
   "metadata": {
    "dotnet_interactive": {
     "language": "html"
    },
    "polyglot_notebook": {
     "kernelName": "html"
    },
    "vscode": {
     "languageId": "polyglot-notebook"
    }
   },
   "outputs": [],
   "source": [
    "<head>\n",
    "</head>\n",
    "<body>\n",
    "    \n",
    "<script>\n",
    "    let randomNumber = Math.floor(Math.random() * 100) + 1;\n",
    "\n",
    "    const guesses = document.querySelector('.guesses');\n",
    "    const lastResult = document.querySelector('.lastResult');\n",
    "    const lowOrHi = document.querySelector('.lowOrHi');\n",
    "\n",
    "    const guessSubmit = document.querySelector('.guessSubmit');\n",
    "    const guessField = document.querySelector('.guessField');\n",
    "\n",
    "    let guessCount = 1;\n",
    "    let resetButton;\n",
    "\n",
    "    function checkGuess() {\n",
    "        const userGuess = Number(guessField.value);\n",
    "        if (guessCount === 1) {\n",
    "            guesses.textContent = 'Previous guesses: ';\n",
    "        }\n",
    "        guesses.textContent += `${userGuess} `;\n",
    "\n",
    "        if (userGuess === randomNumber) {\n",
    "            lastResult.textContent = 'Congratulations! You got it right!';\n",
    "            lastResult.style.backgroundColor = 'green';\n",
    "            lowOrHi.textContent = '';\n",
    "            setGameOver();\n",
    "        } else if (guessCount === 10) {\n",
    "            lastResult.textContent = '!!!GAME OVER!!!';\n",
    "            lowOrHi.textContent = '';\n",
    "            setGameOver();\n",
    "        } else {\n",
    "            lastResult.textContent = 'Wrong!';\n",
    "            lastResult.style.backgroundColor = 'red';\n",
    "            if (userGuess < randomNumber) {\n",
    "            lowOrHi.textContent = 'Last guess was too low!';\n",
    "            } else if (userGuess > randomNumber) {\n",
    "            lowOrHi.textContent = 'Last guess was too high!';\n",
    "            }\n",
    "        }\n",
    "\n",
    "        guessCount++;\n",
    "        guessField.value = '';\n",
    "        guessField.focus();\n",
    "    }\n",
    "    function setGameOver() {\n",
    "        guessField.disabled = true;\n",
    "        guessSubmit.disabled = true;\n",
    "        resetButton = document.createElement('button');\n",
    "        resetButton.textContent = 'Start new game';\n",
    "        document.body.append(resetButton);\n",
    "        resetButton.addEventListener('click', resetGame);\n",
    "    }\n",
    "    guessSubmit.addEventListener(`click`, checkguess);\n",
    "</script>\n",
    "</body>"
   ]
  },
  {
   "attachments": {},
   "cell_type": "markdown",
   "metadata": {
    "dotnet_interactive": {
     "language": "html"
    },
    "polyglot_notebook": {
     "kernelName": "html"
    }
   },
   "source": [
    "What does the `.disabled` do?  "
   ]
  },
  {
   "attachments": {},
   "cell_type": "markdown",
   "metadata": {
    "dotnet_interactive": {
     "language": "html"
    },
    "polyglot_notebook": {
     "kernelName": "html"
    }
   },
   "source": [
    "Once the game is over, we will make a new button by using the `document.createElement('button')` static method.  \n",
    "We then fix the text inside of the new button, and add it to the BOTTOM of the `<body>`.  \n",
    "Then just like we did for the `guessSubmit` button, we need to add a listener for the `resetButton`.  \n",
    "Next we need to create the `resetGame()` function."
   ]
  },
  {
   "cell_type": "code",
   "execution_count": null,
   "metadata": {
    "dotnet_interactive": {
     "language": "html"
    },
    "polyglot_notebook": {
     "kernelName": "html"
    },
    "vscode": {
     "languageId": "polyglot-notebook"
    }
   },
   "outputs": [],
   "source": [
    "<head>\n",
    "</head>\n",
    "<body>\n",
    "    \n",
    "<script>\n",
    "    let randomNumber = Math.floor(Math.random() * 100) + 1;\n",
    "\n",
    "    const guesses = document.querySelector('.guesses');\n",
    "    const lastResult = document.querySelector('.lastResult');\n",
    "    const lowOrHi = document.querySelector('.lowOrHi');\n",
    "\n",
    "    const guessSubmit = document.querySelector('.guessSubmit');\n",
    "    const guessField = document.querySelector('.guessField');\n",
    "\n",
    "    let guessCount = 1;\n",
    "    let resetButton;\n",
    "\n",
    "    function checkGuess() {\n",
    "        const userGuess = Number(guessField.value);\n",
    "        if (guessCount === 1) {\n",
    "            guesses.textContent = 'Previous guesses: ';\n",
    "        }\n",
    "        guesses.textContent += `${userGuess} `;\n",
    "\n",
    "        if (userGuess === randomNumber) {\n",
    "            lastResult.textContent = 'Congratulations! You got it right!';\n",
    "            lastResult.style.backgroundColor = 'green';\n",
    "            lowOrHi.textContent = '';\n",
    "            setGameOver();\n",
    "        } else if (guessCount === 10) {\n",
    "            lastResult.textContent = '!!!GAME OVER!!!';\n",
    "            lowOrHi.textContent = '';\n",
    "            setGameOver();\n",
    "        } else {\n",
    "            lastResult.textContent = 'Wrong!';\n",
    "            lastResult.style.backgroundColor = 'red';\n",
    "            if (userGuess < randomNumber) {\n",
    "            lowOrHi.textContent = 'Last guess was too low!';\n",
    "            } else if (userGuess > randomNumber) {\n",
    "            lowOrHi.textContent = 'Last guess was too high!';\n",
    "            }\n",
    "        }\n",
    "\n",
    "        guessCount++;\n",
    "        guessField.value = '';\n",
    "        guessField.focus();\n",
    "    }\n",
    "    function setGameOver() {\n",
    "        guessField.disabled = true;\n",
    "        guessSubmit.disabled = true;\n",
    "        resetButton = document.createElement('button');\n",
    "        resetButton.textContent = 'Start new game';\n",
    "        document.body.append(resetButton);\n",
    "        resetButton.addEventListener('click', resetGame);\n",
    "    }\n",
    "    function resetGame() {\n",
    "        guessCount = 1;\n",
    "\n",
    "        const resetParas = document.querySelectorAll('.resultParas p');\n",
    "        for (const resetPara of resetParas) {\n",
    "            resetPara.textContent = '';\n",
    "        }\n",
    "\n",
    "        resetButton.parentNode.removeChild(resetButton);\n",
    "\n",
    "        guessField.disabled = false;\n",
    "        guessSubmit.disabled = false;\n",
    "        guessField.value = '';\n",
    "        guessField.focus();\n",
    "\n",
    "        lastResult.style.backgroundColor = 'white';\n",
    "\n",
    "        randomNumber = Math.floor(Math.random() * 100) + 1;\n",
    "    }\n",
    "    guessSubmit.addEventListener(`click`, checkguess);\n",
    "</script>\n",
    "</body>"
   ]
  },
  {
   "attachments": {},
   "cell_type": "markdown",
   "metadata": {
    "dotnet_interactive": {
     "language": "html"
    },
    "polyglot_notebook": {
     "kernelName": "html"
    }
   },
   "source": [
    "Notice the `resetGame()` function that we created.  \n",
    "What happens in here is:  \n",
    "1. `guessCount` back to 1\n",
    "2. SELECT ALL `<p>` inside of the `class=\"resultParas\"`, loop through each one, and set each to have an empty text content.\n",
    "3. Removes the resetButton from the code.\n",
    "4. Brings back the `guessField` and `guessSubmit` elements.\n",
    "5. We then focus on the text field again to start typing/incrementing.\n",
    "6. Removes the background color we set before, and we generate a new random number."
   ]
  },
  {
   "attachments": {},
   "cell_type": "markdown",
   "metadata": {
    "dotnet_interactive": {
     "language": "html"
    },
    "polyglot_notebook": {
     "kernelName": "html"
    }
   },
   "source": [
    "Here is the final code: (NOTE RUN IN THE BROWSER TO MAKE IT WORK, use the `JS1.html` file)"
   ]
  },
  {
   "cell_type": "code",
   "execution_count": null,
   "metadata": {
    "dotnet_interactive": {
     "language": "html"
    },
    "polyglot_notebook": {
     "kernelName": "html"
    },
    "vscode": {
     "languageId": "polyglot-notebook"
    }
   },
   "outputs": [],
   "source": [
    "<head>\n",
    "    <style>\n",
    "      html {\n",
    "        font-family: sans-serif;\n",
    "      }\n",
    "      \n",
    "      .form input[type=\"number\"] {\n",
    "        width: 200px;\n",
    "      }\n",
    "\n",
    "      .lastResult {\n",
    "        color: white;\n",
    "        padding: 3px;\n",
    "      }\n",
    "    </style>\n",
    "</head>\n",
    "<body>\n",
    "    <h1>Number guessing game</h1>\n",
    "\n",
    "    <p>We have selected a random number between 1 and 100. See if you can guess it in 10 turns or fewer. We'll tell you if your guess was too high or too low.</p>\n",
    "\n",
    "    <div class=\"form\">\n",
    "        <label for=\"guessField\">Enter a guess: </label>\n",
    "        <input type=\"number\" min=\"1\" max=\"100\" required id=\"guessField\" class=\"guessField\">\n",
    "        <input type=\"submit\" value=\"Submit guess\" class=\"guessSubmit\">\n",
    "    </div>\n",
    "\n",
    "    <div class=\"resultParas\">\n",
    "        <p class=\"guesses\"></p>\n",
    "        <p class=\"lastResult\"></p>\n",
    "        <p class=\"lowOrHi\"></p>\n",
    "    </div>\n",
    "\n",
    "    <script>\n",
    "        let randomNumber = Math.floor(Math.random() * 100) + 1;\n",
    "\n",
    "        const guesses = document.querySelector('.guesses');\n",
    "        const lastResult = document.querySelector('.lastResult');\n",
    "        const lowOrHi = document.querySelector('.lowOrHi');\n",
    "\n",
    "        const guessSubmit = document.querySelector('.guessSubmit');\n",
    "        const guessField = document.querySelector('.guessField');\n",
    "\n",
    "        let guessCount = 1;\n",
    "        let resetButton;\n",
    "\n",
    "        function checkGuess() {\n",
    "            const userGuess = Number(guessField.value);\n",
    "            if (guessCount === 1) {\n",
    "                guesses.textContent = 'Previous guesses: ';\n",
    "            }\n",
    "            guesses.textContent += `${userGuess} `;\n",
    "\n",
    "            if (userGuess === randomNumber) {\n",
    "                lastResult.textContent = 'Congratulations! You got it right!';\n",
    "                lastResult.style.backgroundColor = 'green';\n",
    "                lowOrHi.textContent = '';\n",
    "                setGameOver();\n",
    "            } else if (guessCount === 10) {\n",
    "                lastResult.textContent = '!!!GAME OVER!!!';\n",
    "                lowOrHi.textContent = '';\n",
    "                setGameOver();\n",
    "            } else {\n",
    "                lastResult.textContent = 'Wrong!';\n",
    "                lastResult.style.backgroundColor = 'red';\n",
    "                if (userGuess < randomNumber) {\n",
    "                lowOrHi.textContent = 'Last guess was too low!';\n",
    "                } else if (userGuess > randomNumber) {\n",
    "                lowOrHi.textContent = 'Last guess was too high!';\n",
    "                }\n",
    "            }\n",
    "\n",
    "            guessCount++;\n",
    "            guessField.value = '';\n",
    "            guessField.focus();\n",
    "        }\n",
    "        function setGameOver() {\n",
    "            guessField.disabled = true;\n",
    "            guessSubmit.disabled = true;\n",
    "            resetButton = document.createElement('button');\n",
    "            resetButton.textContent = 'Start new game';\n",
    "            document.body.append(resetButton);\n",
    "            resetButton.addEventListener('click', resetGame);\n",
    "        }\n",
    "        function resetGame() {\n",
    "            guessCount = 1;\n",
    "\n",
    "            const resetParas = document.querySelectorAll('.resultParas p');\n",
    "            for (const resetPara of resetParas) {\n",
    "                resetPara.textContent = '';\n",
    "            }\n",
    "\n",
    "            resetButton.parentNode.removeChild(resetButton);\n",
    "\n",
    "            guessField.disabled = false;\n",
    "            guessSubmit.disabled = false;\n",
    "            guessField.value = '';\n",
    "            guessField.focus();\n",
    "\n",
    "            lastResult.style.backgroundColor = 'white';\n",
    "\n",
    "            randomNumber = Math.floor(Math.random() * 100) + 1;\n",
    "        }\n",
    "        guessSubmit.addEventListener('click', checkGuess);\n",
    "    </script>\n",
    "</body>"
   ]
  }
 ],
 "metadata": {
  "kernelspec": {
   "display_name": ".NET (C#)",
   "language": "C#",
   "name": ".net-csharp"
  },
  "polyglot_notebook": {
   "kernelInfo": {
    "defaultKernelName": "csharp",
    "items": [
     {
      "aliases": [
       "c#",
       "C#"
      ],
      "languageName": "C#",
      "name": "csharp"
     },
     {
      "aliases": [
       "frontend"
      ],
      "name": "vscode"
     },
     {
      "aliases": [],
      "name": ".NET"
     },
     {
      "aliases": [
       "f#",
       "F#"
      ],
      "languageName": "F#",
      "name": "fsharp"
     },
     {
      "aliases": [],
      "languageName": "HTML",
      "name": "html"
     },
     {
      "aliases": [
       "js"
      ],
      "languageName": "JavaScript",
      "name": "javascript"
     },
     {
      "aliases": [],
      "languageName": "KQL",
      "name": "kql"
     },
     {
      "aliases": [],
      "languageName": "Mermaid",
      "name": "mermaid"
     },
     {
      "aliases": [
       "powershell"
      ],
      "languageName": "PowerShell",
      "name": "pwsh"
     },
     {
      "aliases": [],
      "languageName": "SQL",
      "name": "sql"
     },
     {
      "aliases": [],
      "name": "value"
     },
     {
      "aliases": [],
      "name": "webview"
     }
    ]
   }
  }
 },
 "nbformat": 4,
 "nbformat_minor": 2
}
