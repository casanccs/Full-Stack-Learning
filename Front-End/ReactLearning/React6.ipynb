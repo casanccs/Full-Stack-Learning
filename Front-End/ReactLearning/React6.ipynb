{
 "cells": [
  {
   "attachments": {},
   "cell_type": "markdown",
   "metadata": {
    "dotnet_interactive": {
     "language": "csharp"
    },
    "polyglot_notebook": {
     "kernelName": "csharp"
    }
   },
   "source": [
    "# Forms"
   ]
  },
  {
   "attachments": {},
   "cell_type": "markdown",
   "metadata": {
    "dotnet_interactive": {
     "language": "csharp"
    },
    "polyglot_notebook": {
     "kernelName": "csharp"
    }
   },
   "source": [
    "HTML form elements work a little differently that other DOM elements in React, because form elements keep some internal state. For example:"
   ]
  },
  {
   "cell_type": "code",
   "execution_count": null,
   "metadata": {
    "dotnet_interactive": {
     "language": "html"
    },
    "polyglot_notebook": {
     "kernelName": "html"
    },
    "vscode": {
     "languageId": "polyglot-notebook"
    }
   },
   "outputs": [],
   "source": [
    "<form>\n",
    "  <label>\n",
    "    Name:\n",
    "    <input type=\"text\" name=\"name\" />\n",
    "  </label>\n",
    "  <input type=\"submit\" value=\"Submit\" />\n",
    "</form>"
   ]
  },
  {
   "attachments": {},
   "cell_type": "markdown",
   "metadata": {
    "dotnet_interactive": {
     "language": "html"
    },
    "polyglot_notebook": {
     "kernelName": "html"
    }
   },
   "source": [
    "By default, the `type=\"submit\"` will tend to send you to a new page. In React it will work. But you usually will want to use JavaScript to handle the submission and data that the user entered into the form. We did this in the JavaScript portion. In react, we use \"controlled components\"."
   ]
  },
  {
   "attachments": {},
   "cell_type": "markdown",
   "metadata": {
    "dotnet_interactive": {
     "language": "html"
    },
    "polyglot_notebook": {
     "kernelName": "html"
    }
   },
   "source": [
    "## Controlled Components"
   ]
  },
  {
   "attachments": {},
   "cell_type": "markdown",
   "metadata": {
    "dotnet_interactive": {
     "language": "html"
    },
    "polyglot_notebook": {
     "kernelName": "html"
    }
   },
   "source": [
    "In HTML, `<input>`, `<textarea>`, and `<select>` maintain their own state and update it based on user input. In React, mutable state is kept in the state property of components, and only updated with `setState()` as usual."
   ]
  },
  {
   "attachments": {},
   "cell_type": "markdown",
   "metadata": {
    "dotnet_interactive": {
     "language": "html"
    },
    "polyglot_notebook": {
     "kernelName": "html"
    }
   },
   "source": [
    "An input form element whose value is controlled by React in this way is called a \"controlled component\"."
   ]
  },
  {
   "attachments": {},
   "cell_type": "markdown",
   "metadata": {
    "dotnet_interactive": {
     "language": "html"
    },
    "polyglot_notebook": {
     "kernelName": "html"
    }
   },
   "source": [
    "Here is an example:"
   ]
  },
  {
   "cell_type": "code",
   "execution_count": null,
   "metadata": {
    "dotnet_interactive": {
     "language": "javascript"
    },
    "polyglot_notebook": {
     "kernelName": "javascript"
    },
    "vscode": {
     "languageId": "polyglot-notebook"
    }
   },
   "outputs": [],
   "source": [
    "class NameForm extends React.Component {\n",
    "  constructor(props) {\n",
    "    super(props);\n",
    "    this.state = {value: ''};\n",
    "\n",
    "    this.handleChange = this.handleChange.bind(this);\n",
    "    this.handleSubmit = this.handleSubmit.bind(this);\n",
    "  }\n",
    "\n",
    "  handleChange(event) {\n",
    "    this.setState({value: event.target.value});\n",
    "  }\n",
    "\n",
    "  handleSubmit(event) {\n",
    "    alert('A name was submitted: ' + this.state.value);\n",
    "    event.preventDefault();\n",
    "  }\n",
    "\n",
    "  render() {\n",
    "    return (\n",
    "      <form onSubmit={this.handleSubmit}>\n",
    "        <label>\n",
    "          Name:\n",
    "          <input type=\"text\" value={this.state.value} onChange={this.handleChange} />\n",
    "        </label>\n",
    "        <input type=\"submit\" value=\"Submit\" />\n",
    "      </form>\n",
    "    );\n",
    "  }\n",
    "}"
   ]
  },
  {
   "attachments": {},
   "cell_type": "markdown",
   "metadata": {
    "dotnet_interactive": {
     "language": "javascript"
    },
    "polyglot_notebook": {
     "kernelName": "javascript"
    }
   },
   "source": [
    "Try to get this code to work, and explain what happens."
   ]
  },
  {
   "attachments": {},
   "cell_type": "markdown",
   "metadata": {
    "dotnet_interactive": {
     "language": "javascript"
    },
    "polyglot_notebook": {
     "kernelName": "javascript"
    }
   },
   "source": [
    "You need to make sure you understood everything when we looked at \"States\" in React.  \n",
    "1. We render this component on the screen while setting the state of `{value: ''}` so `this.state.value === ''`\n",
    "2. We also set up `handleChange` and `handleSubmit`.\n",
    "3. `this.handleChange` changes the value of `{value : ...}` to `{value: event.target.value}`, make sure you remember what `event.target.value` means. This gets called when the \"text\" is changed in the `<input type=\"text\">`\n",
    "4. `this.handleSubmit` will get called when we submit the form. Instead of doing the typical submission, we will instead call the `this.handleSubmit`, and will call `alert()` using the current state value of property, and also prevent defaults from occuring."
   ]
  },
  {
   "attachments": {},
   "cell_type": "markdown",
   "metadata": {
    "dotnet_interactive": {
     "language": "javascript"
    },
    "polyglot_notebook": {
     "kernelName": "javascript"
    }
   },
   "source": [
    "Here we will do another example using the `<select>` and drop-down lists. Here it is in HTML:"
   ]
  },
  {
   "cell_type": "code",
   "execution_count": null,
   "metadata": {
    "dotnet_interactive": {
     "language": "javascript"
    },
    "polyglot_notebook": {
     "kernelName": "javascript"
    },
    "vscode": {
     "languageId": "polyglot-notebook"
    }
   },
   "outputs": [],
   "source": [
    "<select>\n",
    "  <option value=\"grapefruit\">Grapefruit</option>\n",
    "  <option value=\"lime\">Lime</option>\n",
    "  <option selected value=\"coconut\">Coconut</option>\n",
    "  <option value=\"mango\">Mango</option>\n",
    "</select>"
   ]
  },
  {
   "attachments": {},
   "cell_type": "markdown",
   "metadata": {
    "dotnet_interactive": {
     "language": "javascript"
    },
    "polyglot_notebook": {
     "kernelName": "javascript"
    }
   },
   "source": [
    "Notice the default value that is initially selected by the `select` attribute. React does not use this. It instead uses a `value={this.state.value}` attribute on the ROOT `<select>` tag."
   ]
  },
  {
   "attachments": {},
   "cell_type": "markdown",
   "metadata": {
    "dotnet_interactive": {
     "language": "javascript"
    },
    "polyglot_notebook": {
     "kernelName": "javascript"
    }
   },
   "source": [
    "Try to make this example work by making the selected option's value be passed in `alert()` when we submit just like we did earlier using `<input>`."
   ]
  },
  {
   "attachments": {},
   "cell_type": "markdown",
   "metadata": {
    "dotnet_interactive": {
     "language": "javascript"
    },
    "polyglot_notebook": {
     "kernelName": "javascript"
    }
   },
   "source": [
    "Where do you think we put `onChange={...}`?"
   ]
  },
  {
   "attachments": {},
   "cell_type": "markdown",
   "metadata": {
    "dotnet_interactive": {
     "language": "javascript"
    },
    "polyglot_notebook": {
     "kernelName": "javascript"
    }
   },
   "source": [
    "Answer:"
   ]
  },
  {
   "cell_type": "code",
   "execution_count": null,
   "metadata": {
    "dotnet_interactive": {
     "language": "javascript"
    },
    "polyglot_notebook": {
     "kernelName": "javascript"
    },
    "vscode": {
     "languageId": "polyglot-notebook"
    }
   },
   "outputs": [],
   "source": [
    "class NameForm extends React.Component {\n",
    "  constructor(props) {\n",
    "    super(props);\n",
    "    this.state = {value: ''};\n",
    "\n",
    "    this.handleChange = this.handleChange.bind(this);\n",
    "    this.handleSubmit = this.handleSubmit.bind(this);\n",
    "  }\n",
    "\n",
    "  handleChange(event) {\n",
    "    this.setState({value: event.target.value});\n",
    "  }\n",
    "\n",
    "  handleSubmit(event) {\n",
    "    alert('A name was submitted: ' + this.state.value);\n",
    "    event.preventDefault();\n",
    "  }\n",
    "\n",
    "  render() {\n",
    "    return (\n",
    "      <form onSubmit={this.handleSubmit}>\n",
    "        <select value={this.state.value} onChange={this.handleChange}>\n",
    "          <option value=\"grapefruit\">Grapefruit</option>\n",
    "          <option value=\"lime\">Lime</option>\n",
    "          <option value=\"coconut\">Coconut</option>\n",
    "          <option value=\"mango\">Mango</option>\n",
    "        </select>\n",
    "        <input type=\"submit\" value=\"Submit\" />\n",
    "      </form>\n",
    "    );\n",
    "  }\n",
    "}"
   ]
  },
  {
   "attachments": {},
   "cell_type": "markdown",
   "metadata": {
    "dotnet_interactive": {
     "language": "javascript"
    },
    "polyglot_notebook": {
     "kernelName": "javascript"
    }
   },
   "source": [
    "The `<input type=\"file\">` lets the user choose one or more files to upload to the server or be manipulated by JavaScript via the \"File API\"."
   ]
  },
  {
   "attachments": {},
   "cell_type": "markdown",
   "metadata": {
    "dotnet_interactive": {
     "language": "javascript"
    },
    "polyglot_notebook": {
     "kernelName": "javascript"
    }
   },
   "source": [
    "But it's read-only, so this is an **uncontrolled** component in React. We will go over uncontrolled components in React later."
   ]
  },
  {
   "attachments": {},
   "cell_type": "markdown",
   "metadata": {
    "dotnet_interactive": {
     "language": "javascript"
    },
    "polyglot_notebook": {
     "kernelName": "javascript"
    }
   },
   "source": [
    "Here is an example of handling multiple input, using the `name` attribute in `<input>` and letting the `handle` function choose what to do based on `event.target.name`:"
   ]
  },
  {
   "cell_type": "code",
   "execution_count": null,
   "metadata": {
    "dotnet_interactive": {
     "language": "javascript"
    },
    "polyglot_notebook": {
     "kernelName": "javascript"
    },
    "vscode": {
     "languageId": "polyglot-notebook"
    }
   },
   "outputs": [],
   "source": [
    "class Reservation extends React.Component {\n",
    "  constructor(props) {\n",
    "    super(props);\n",
    "    this.state = {\n",
    "      isGoing: true,\n",
    "      numberOfGuests: 2\n",
    "    };\n",
    "\n",
    "    this.handleInputChange = this.handleInputChange.bind(this);\n",
    "  }\n",
    "\n",
    "  handleInputChange(event) {\n",
    "    const target = event.target;\n",
    "    const value = target.type === 'checkbox' ? target.checked : target.value;\n",
    "    const name = target.name;\n",
    "\n",
    "    this.setState({\n",
    "      [name]: value\n",
    "    });\n",
    "  }\n",
    "\n",
    "  render() {\n",
    "    return (\n",
    "      <form>\n",
    "        <label>\n",
    "          Is going:\n",
    "          <input\n",
    "            name=\"isGoing\"\n",
    "            type=\"checkbox\"\n",
    "            checked={this.state.isGoing}\n",
    "            onChange={this.handleInputChange} />\n",
    "        </label>\n",
    "        <br />\n",
    "        <label>\n",
    "          Number of guests:\n",
    "          <input\n",
    "            name=\"numberOfGuests\"\n",
    "            type=\"number\"\n",
    "            value={this.state.numberOfGuests}\n",
    "            onChange={this.handleInputChange} />\n",
    "        </label>\n",
    "      </form>\n",
    "    );\n",
    "  }\n",
    "}"
   ]
  }
 ],
 "metadata": {
  "kernelspec": {
   "display_name": ".NET (C#)",
   "language": "C#",
   "name": ".net-csharp"
  },
  "polyglot_notebook": {
   "kernelInfo": {
    "defaultKernelName": "csharp",
    "items": [
     {
      "aliases": [
       "c#",
       "C#"
      ],
      "languageName": "C#",
      "name": "csharp"
     },
     {
      "aliases": [
       "frontend"
      ],
      "name": "vscode"
     },
     {
      "aliases": [
       "js"
      ],
      "languageName": "JavaScript",
      "name": "javascript"
     },
     {
      "aliases": [],
      "name": ".NET"
     },
     {
      "aliases": [
       "f#",
       "F#"
      ],
      "languageName": "F#",
      "name": "fsharp"
     },
     {
      "aliases": [],
      "languageName": "HTML",
      "name": "html"
     },
     {
      "aliases": [],
      "languageName": "KQL",
      "name": "kql"
     },
     {
      "aliases": [],
      "languageName": "Mermaid",
      "name": "mermaid"
     },
     {
      "aliases": [
       "powershell"
      ],
      "languageName": "PowerShell",
      "name": "pwsh"
     },
     {
      "aliases": [],
      "languageName": "SQL",
      "name": "sql"
     },
     {
      "aliases": [],
      "name": "value"
     }
    ]
   }
  }
 },
 "nbformat": 4,
 "nbformat_minor": 2
}
