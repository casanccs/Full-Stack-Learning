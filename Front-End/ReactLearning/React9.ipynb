{
 "cells": [
  {
   "attachments": {},
   "cell_type": "markdown",
   "metadata": {
    "dotnet_interactive": {
     "language": "csharp"
    },
    "polyglot_notebook": {
     "kernelName": "csharp"
    }
   },
   "source": [
    "# Thinking In React"
   ]
  },
  {
   "attachments": {},
   "cell_type": "markdown",
   "metadata": {
    "dotnet_interactive": {
     "language": "csharp"
    },
    "polyglot_notebook": {
     "kernelName": "csharp"
    }
   },
   "source": [
    "Today we will be making:"
   ]
  },
  {
   "attachments": {},
   "cell_type": "markdown",
   "metadata": {
    "dotnet_interactive": {
     "language": "csharp"
    },
    "polyglot_notebook": {
     "kernelName": "csharp"
    }
   },
   "source": [
    "<img src=\"thinking-in-react-mock.png\">"
   ]
  },
  {
   "attachments": {},
   "cell_type": "markdown",
   "metadata": {
    "dotnet_interactive": {
     "language": "csharp"
    },
    "polyglot_notebook": {
     "kernelName": "csharp"
    }
   },
   "source": [
    "And assume we have some JSON that is given to us:"
   ]
  },
  {
   "cell_type": "code",
   "execution_count": null,
   "metadata": {
    "dotnet_interactive": {
     "language": "javascript"
    },
    "polyglot_notebook": {
     "kernelName": "javascript"
    },
    "vscode": {
     "languageId": "polyglot-notebook"
    }
   },
   "outputs": [],
   "source": [
    "let json = \n",
    "[\n",
    "  {category: \"Sporting Goods\", price: \"$49.99\", stocked: true, name: \"Football\"},\n",
    "  {category: \"Sporting Goods\", price: \"$9.99\", stocked: true, name: \"Baseball\"},\n",
    "  {category: \"Sporting Goods\", price: \"$29.99\", stocked: false, name: \"Basketball\"},\n",
    "  {category: \"Electronics\", price: \"$99.99\", stocked: true, name: \"iPod Touch\"},\n",
    "  {category: \"Electronics\", price: \"$399.99\", stocked: false, name: \"iPhone 5\"},\n",
    "  {category: \"Electronics\", price: \"$199.99\", stocked: true, name: \"Nexus 7\"}\n",
    "];"
   ]
  },
  {
   "attachments": {},
   "cell_type": "markdown",
   "metadata": {
    "dotnet_interactive": {
     "language": "javascript"
    },
    "polyglot_notebook": {
     "kernelName": "javascript"
    }
   },
   "source": [
    "Now let's breakdown the UI into a component Hierarchy:"
   ]
  },
  {
   "attachments": {},
   "cell_type": "markdown",
   "metadata": {
    "dotnet_interactive": {
     "language": "javascript"
    },
    "polyglot_notebook": {
     "kernelName": "javascript"
    }
   },
   "source": [
    "Question: How many different React Components would you make?"
   ]
  },
  {
   "attachments": {},
   "cell_type": "markdown",
   "metadata": {
    "dotnet_interactive": {
     "language": "javascript"
    },
    "polyglot_notebook": {
     "kernelName": "javascript"
    }
   },
   "source": [
    "<img src=\"thinking-in-react-components.png\" width = \"400\">"
   ]
  },
  {
   "attachments": {},
   "cell_type": "markdown",
   "metadata": {
    "dotnet_interactive": {
     "language": "javascript"
    },
    "polyglot_notebook": {
     "kernelName": "javascript"
    }
   },
   "source": [
    "We have 5 components in the app:"
   ]
  },
  {
   "attachments": {},
   "cell_type": "markdown",
   "metadata": {
    "dotnet_interactive": {
     "language": "javascript"
    },
    "polyglot_notebook": {
     "kernelName": "javascript"
    }
   },
   "source": [
    "1. `FilterableProductTable` (orange): contains the entire example\n",
    "2. `SearchBar` (blue): receives all user input\n",
    "3. `ProductTable` (green): displays and filters the data based on the user input above it\n",
    "4. `ProductCategoryRow` (turquoise): displays heading for each category\n",
    "5. `ProductRow` (red): displays a row for each product"
   ]
  },
  {
   "attachments": {},
   "cell_type": "markdown",
   "metadata": {
    "dotnet_interactive": {
     "language": "javascript"
    },
    "polyglot_notebook": {
     "kernelName": "javascript"
    }
   },
   "source": [
    "And here is the hierarchy:"
   ]
  },
  {
   "attachments": {},
   "cell_type": "markdown",
   "metadata": {
    "dotnet_interactive": {
     "language": "javascript"
    },
    "polyglot_notebook": {
     "kernelName": "javascript"
    }
   },
   "source": [
    "<ul>\n",
    "    <li> <code>FilterableProductTable</code> </li>\n",
    "    <ul>\n",
    "        <li> <code>SearchBar</code></li>\n",
    "        <li> <code>ProductTable</code></li>\n",
    "        <ul>\n",
    "            <li><code>ProductCategoryRow</code></li>\n",
    "            <li><code>ProductRow</code></li>\n",
    "        </ul>\n",
    "    </ul>\n",
    "</ul>"
   ]
  },
  {
   "attachments": {},
   "cell_type": "markdown",
   "metadata": {
    "dotnet_interactive": {
     "language": "javascript"
    },
    "polyglot_notebook": {
     "kernelName": "javascript"
    }
   },
   "source": [
    "## Now lets build a static version in React"
   ]
  },
  {
   "attachments": {},
   "cell_type": "markdown",
   "metadata": {
    "dotnet_interactive": {
     "language": "javascript"
    },
    "polyglot_notebook": {
     "kernelName": "javascript"
    }
   },
   "source": [
    "Just build this using these 5 components, making sure the children hierarchy is correct, and using props for now. We won't use state yet because state is reserved for interactive websites, and we are only making a static website for now."
   ]
  },
  {
   "attachments": {},
   "cell_type": "markdown",
   "metadata": {
    "dotnet_interactive": {
     "language": "javascript"
    },
    "polyglot_notebook": {
     "kernelName": "javascript"
    }
   },
   "source": [
    "First, make it without using the JSON provided. Just hard code all of the props and component elements. Use a table as the `ProductTable`:"
   ]
  },
  {
   "cell_type": "code",
   "execution_count": null,
   "metadata": {
    "dotnet_interactive": {
     "language": "javascript"
    },
    "polyglot_notebook": {
     "kernelName": "javascript"
    },
    "vscode": {
     "languageId": "polyglot-notebook"
    }
   },
   "outputs": [],
   "source": [
    "class FilterableProductTable extends React.Component{\n",
    "  constructor(props){\n",
    "      super(props);\n",
    "  }\n",
    "  render(){\n",
    "      return (\n",
    "          <div>\n",
    "            <SearchBar />\n",
    "            <ProductTable allProducts={this.props.products} filter={\"inputFromSearchBar\"}/>\n",
    "          </div>\n",
    "      );\n",
    "  }\n",
    "}\n",
    "class SearchBar extends React.Component{\n",
    "  constructor(props){\n",
    "      super(props);\n",
    "  }\n",
    "  render(){\n",
    "      return(\n",
    "          <div>\n",
    "            <input type=\"text\" />\n",
    "            <br></br>\n",
    "            <input type=\"checkbox\" value=\"inStockOnly\"/>\n",
    "            Only show products in stock\n",
    "          </div>\n",
    "      );\n",
    "  }\n",
    "}\n",
    "\n",
    "class ProductTable extends React.Component{\n",
    "  constructor(props){\n",
    "      super(props);\n",
    "  }\n",
    "\n",
    "  render(){\n",
    "      return(\n",
    "          <table>\n",
    "            <thead>\n",
    "              <tr><th>Name</th><th>Price</th></tr>\n",
    "            </thead>\n",
    "            <tbody>\n",
    "              <ProductCategoryRow category={\"Sporting Goods\"} />\n",
    "              <ProductRow name={\"Football\"} price={\"$49.99\"} stocked={true} />\n",
    "              <ProductRow name={\"Baseball\"} price={\"$9.99\"} stocked={true} />\n",
    "              <ProductRow name={\"Basketball\"} price={\"$29.99\"} stocked={false} />\n",
    "              <ProductCategoryRow category={\"Electronics\"} />\n",
    "              <ProductRow name={\"iPod Touch\"} price={\"$99.99\"} stocked={true} />\n",
    "              <ProductRow name={\"iPhone 5\"} price={\"$399.99\"} stocked={false} />\n",
    "              <ProductRow name={\"Nexus 7\"} price={\"$199.99\"} stocked={true} />\n",
    "            </tbody>\n",
    "          </table>\n",
    "      );\n",
    "  }\n",
    "}\n",
    "\n",
    "class ProductCategoryRow extends React.Component {\n",
    "  constructor(props){\n",
    "      super(props);\n",
    "  }\n",
    "\n",
    "  render(){\n",
    "      return(\n",
    "          <tr><th>{this.props.category}</th></tr>\n",
    "      );\n",
    "  }\n",
    "}\n",
    "\n",
    "class ProductRow extends React.Component {\n",
    "  constructor(props){\n",
    "      super(props);\n",
    "  }\n",
    "\n",
    "  render(){\n",
    "      if (this.props.stocked) {\n",
    "        return <tr><td>{this.props.name}</td><td>{this.props.price}</td></tr>\n",
    "          }\n",
    "      else {\n",
    "        return <tr><td style={{color: \"#FF0000\"}}>{this.props.name}</td><td>{this.props.price}</td></tr>\n",
    "      }\n",
    "  }\n",
    "}"
   ]
  },
  {
   "attachments": {},
   "cell_type": "markdown",
   "metadata": {
    "dotnet_interactive": {
     "language": "javascript"
    },
    "polyglot_notebook": {
     "kernelName": "javascript"
    }
   },
   "source": [
    "Now try to do it with it adjusting to whatever the JSON is:"
   ]
  },
  {
   "attachments": {},
   "cell_type": "markdown",
   "metadata": {
    "dotnet_interactive": {
     "language": "javascript"
    },
    "polyglot_notebook": {
     "kernelName": "javascript"
    }
   },
   "source": [
    "1. Find all unique categories. (Hint: Use for loop and `.includes`, and make sure you `console.log` to make sure it works) \n",
    "2. Once you have all of the categories, use this array in the `ProductTable`, and find out how to list all of the Objects that correspond with the right category, and show it on screen.\n",
    "    1. You need to make an array variable in the constructor of `ProductTable` that will hold all of the component elements.\n",
    "    2. Use a for loop to go through each unique category and add a `ProductCategoryRow` with THAT category as the prop, to the array variable. Only through each iteration will you add one.\n",
    "        * In this for loop, you will need to use ANOTHER for loop that goes through all of the JSON objects to see which object's categories matches with the current category in the outer loop. If it matches, add a `ProductRow` to the array variable you made, and make sure you pass the current object's data as props.\n",
    "3. Render it in the table body."
   ]
  },
  {
   "attachments": {},
   "cell_type": "markdown",
   "metadata": {
    "dotnet_interactive": {
     "language": "javascript"
    },
    "polyglot_notebook": {
     "kernelName": "javascript"
    }
   },
   "source": [
    "Go back to the lesson going over \"Lists and Keys\" to find examples of this if confused."
   ]
  },
  {
   "attachments": {},
   "cell_type": "markdown",
   "metadata": {
    "dotnet_interactive": {
     "language": "javascript"
    },
    "polyglot_notebook": {
     "kernelName": "javascript"
    }
   },
   "source": [
    "This is SUPER hard, so you may need to guide them slowly."
   ]
  },
  {
   "attachments": {},
   "cell_type": "markdown",
   "metadata": {
    "dotnet_interactive": {
     "language": "javascript"
    },
    "polyglot_notebook": {
     "kernelName": "javascript"
    }
   },
   "source": [
    "## Identify all possibilities of UI State"
   ]
  },
  {
   "attachments": {},
   "cell_type": "markdown",
   "metadata": {
    "dotnet_interactive": {
     "language": "javascript"
    },
    "polyglot_notebook": {
     "kernelName": "javascript"
    }
   },
   "source": [
    "What are all the possible things that can change?\n",
    "* The data itself (JSON)\n",
    "* The filter that the user types\n",
    "* The checkbox\n",
    "* The filtered list of products"
   ]
  },
  {
   "attachments": {},
   "cell_type": "markdown",
   "metadata": {
    "dotnet_interactive": {
     "language": "javascript"
    },
    "polyglot_notebook": {
     "kernelName": "javascript"
    }
   },
   "source": [
    "Now let's figure out which of these will use \"state\". Ask three questions about each piece of data:"
   ]
  },
  {
   "attachments": {},
   "cell_type": "markdown",
   "metadata": {
    "dotnet_interactive": {
     "language": "javascript"
    },
    "polyglot_notebook": {
     "kernelName": "javascript"
    }
   },
   "source": [
    "1. Is it passed in from a parent via props? If so, it probably isn't state.\n",
    "2. Does it remain unchanged over time? If so, it probably isn't state.\n",
    "3. Can you compute it based on any other state or props in your component? If so, it isn't state."
   ]
  },
  {
   "attachments": {},
   "cell_type": "markdown",
   "metadata": {
    "dotnet_interactive": {
     "language": "javascript"
    },
    "polyglot_notebook": {
     "kernelName": "javascript"
    }
   },
   "source": [
    "* The data itself is not state, because it just uses the variable that we created, or passed through a prop.\n",
    "* The filter does change over time\n",
    "* The checkbox does change over time\n",
    "* Products also changes over time, BUT is computated through the original list of products WITH the search text and value of the checkbox."
   ]
  },
  {
   "attachments": {},
   "cell_type": "markdown",
   "metadata": {
    "dotnet_interactive": {
     "language": "javascript"
    },
    "polyglot_notebook": {
     "kernelName": "javascript"
    }
   },
   "source": [
    "## Identify where state should live"
   ]
  },
  {
   "attachments": {},
   "cell_type": "markdown",
   "metadata": {
    "dotnet_interactive": {
     "language": "javascript"
    },
    "polyglot_notebook": {
     "kernelName": "javascript"
    }
   },
   "source": [
    "Note that the input from `<SearchBar />` is needed for the `<ProductTable />`. And they are both direct descendants of `<FilterableProductTable />`. This means the state needs to be IN `<FilterableProductTable />`."
   ]
  },
  {
   "attachments": {},
   "cell_type": "markdown",
   "metadata": {
    "dotnet_interactive": {
     "language": "javascript"
    },
    "polyglot_notebook": {
     "kernelName": "javascript"
    }
   },
   "source": [
    "So we will add `this.state = {filterText: '', inStockOnly: false}` to the constructor of `FilterableProductTable`."
   ]
  },
  {
   "attachments": {},
   "cell_type": "markdown",
   "metadata": {
    "dotnet_interactive": {
     "language": "javascript"
    },
    "polyglot_notebook": {
     "kernelName": "javascript"
    }
   },
   "source": [
    "Now pass these two states to the `ProductTable` as props and make code that will filter the products based on these two props:"
   ]
  },
  {
   "cell_type": "code",
   "execution_count": null,
   "metadata": {
    "dotnet_interactive": {
     "language": "javascript"
    },
    "polyglot_notebook": {
     "kernelName": "javascript"
    },
    "vscode": {
     "languageId": "polyglot-notebook"
    }
   },
   "outputs": [],
   "source": [
    "for (const obj of json){\n",
    "    if (obj.category === category){\n",
    "        if ((this.props.inStockOnly && obj.stocked) || !this.props.inStockOnly){\n",
    "            if (this.props.filterText === '' || (obj.name.includes(this.props.filterText))){\n",
    "                tryTwo.push(<ProductRow name={obj.name} price={obj.price} stocked={obj.stocked} key={count.toString()}/>)\n",
    "                count++;\n",
    "            }\n",
    "        }\n",
    "    }\n",
    "}"
   ]
  },
  {
   "attachments": {},
   "cell_type": "markdown",
   "metadata": {
    "dotnet_interactive": {
     "language": "javascript"
    },
    "polyglot_notebook": {
     "kernelName": "javascript"
    }
   },
   "source": [
    "Try to test your code out by DIRECTLY changing `this.state = {filterText: '', inStockOnly: false}`, by changing their values."
   ]
  },
  {
   "attachments": {},
   "cell_type": "markdown",
   "metadata": {
    "dotnet_interactive": {
     "language": "javascript"
    },
    "polyglot_notebook": {
     "kernelName": "javascript"
    }
   },
   "source": [
    "## Add Inverse data flow"
   ]
  },
  {
   "attachments": {},
   "cell_type": "markdown",
   "metadata": {
    "dotnet_interactive": {
     "language": "javascript"
    },
    "polyglot_notebook": {
     "kernelName": "javascript"
    }
   },
   "source": [
    "This part is really hard, so let's ask questions to give you an idea of what to type, and where to type it:"
   ]
  },
  {
   "attachments": {},
   "cell_type": "markdown",
   "metadata": {
    "dotnet_interactive": {
     "language": "javascript"
    },
    "polyglot_notebook": {
     "kernelName": "javascript"
    }
   },
   "source": [
    "1. Because of the two separate states, we are going to have two separate handlers. What should each handler look for that is changing? Create the two handlers and name them appropriately.\n",
    "2. For the first handler, we are going to pass in text to it. Name the parameter accordingly. Using this, which state do we change? Write the code to change that state. Do the same thing for the second handler.\n",
    "3. Here is the big questions. Let's look at only the `inStockOnly` state handler. When do we want to run this handler to set the state?\n",
    "4. When we click on the checkbox, does `<SearchBar>` know the box has been clicked, or `<Filterable...>`?\n",
    "5. What can we do code wise, to run the `inStockOnly` state handler that is in `<Filterable...>`, in `<SearchBar>`? (Weird English, but lets say there is a method in `<Filterable...>` named `method()`. How can we run that same method in `<SearchBar>`?)\n",
    "6. What attribute can we put in the `<input>` so we know that the input has been changed?"
   ]
  },
  {
   "attachments": {},
   "cell_type": "markdown",
   "metadata": {
    "dotnet_interactive": {
     "language": "javascript"
    },
    "polyglot_notebook": {
     "kernelName": "javascript"
    }
   },
   "source": [
    "Now look at the answers and keep going once understood."
   ]
  },
  {
   "attachments": {},
   "cell_type": "markdown",
   "metadata": {
    "dotnet_interactive": {
     "language": "javascript"
    },
    "polyglot_notebook": {
     "kernelName": "javascript"
    }
   },
   "source": [
    "Answers:"
   ]
  },
  {
   "attachments": {},
   "cell_type": "markdown",
   "metadata": {
    "dotnet_interactive": {
     "language": "javascript"
    },
    "polyglot_notebook": {
     "kernelName": "javascript"
    }
   },
   "source": [
    "1. First handler looks for the filter text changing. The second will look for the stock check changing."
   ]
  },
  {
   "cell_type": "code",
   "execution_count": null,
   "metadata": {
    "dotnet_interactive": {
     "language": "javascript"
    },
    "polyglot_notebook": {
     "kernelName": "javascript"
    },
    "vscode": {
     "languageId": "polyglot-notebook"
    }
   },
   "outputs": [],
   "source": [
    "handleFilterChange(){\n",
    "\n",
    "}\n",
    "  handleStockChange(){\n",
    "\n",
    "}"
   ]
  },
  {
   "attachments": {},
   "cell_type": "markdown",
   "metadata": {
    "dotnet_interactive": {
     "language": "javascript"
    },
    "polyglot_notebook": {
     "kernelName": "javascript"
    }
   },
   "source": [
    "2. We are changing the `filterText` state in the first handler, and `inStockOnly` state in the second handler."
   ]
  },
  {
   "attachments": {},
   "cell_type": "markdown",
   "metadata": {
    "dotnet_interactive": {
     "language": "javascript"
    },
    "polyglot_notebook": {
     "kernelName": "javascript"
    }
   },
   "source": [
    "handleFilterChange(text){\n",
    "    this.setState({filterText: text});\n",
    "}\n",
    "  handleStockChange(inStock){\n",
    "    this.setState({inStockOnly: inStock});\n",
    "}"
   ]
  },
  {
   "attachments": {},
   "cell_type": "markdown",
   "metadata": {
    "dotnet_interactive": {
     "language": "javascript"
    },
    "polyglot_notebook": {
     "kernelName": "javascript"
    }
   },
   "source": [
    "3. We want to run it when we click on the button, which is the `<input type=\"checkbox\">` one.\n",
    "4. The `<SearchBar>` knows its been clicked.\n",
    "5. We must pass the handler to the `<SearchBar>` component as a prop.\n",
    "6. `onChange`"
   ]
  },
  {
   "attachments": {},
   "cell_type": "markdown",
   "metadata": {
    "dotnet_interactive": {
     "language": "javascript"
    },
    "polyglot_notebook": {
     "kernelName": "javascript"
    }
   },
   "source": [
    "Let's take a look at the final `FilterableProductTable`:"
   ]
  },
  {
   "cell_type": "code",
   "execution_count": null,
   "metadata": {
    "dotnet_interactive": {
     "language": "javascript"
    },
    "polyglot_notebook": {
     "kernelName": "javascript"
    },
    "vscode": {
     "languageId": "polyglot-notebook"
    }
   },
   "outputs": [],
   "source": [
    "class FilterableProductTable extends React.Component{\n",
    "  constructor(props){\n",
    "      super(props);\n",
    "\n",
    "      this.state = {filterText: '', inStockOnly: false};\n",
    "      this.handleFilterChange = this.handleFilterChange.bind(this);\n",
    "      this.handleStockChange = this.handleStockChange.bind(this);\n",
    "  }\n",
    "\n",
    "  handleFilterChange(filterText){\n",
    "    this.setState({filterText: filterText});\n",
    "  }\n",
    "  handleStockChange(inStockOnly){\n",
    "    this.setState({inStockOnly: inStockOnly});\n",
    "  }\n",
    "\n",
    "  render(){\n",
    "      return (\n",
    "          <div>\n",
    "            <SearchBar filterText={this.state.filterText} inStockOnly={this.state.inStockOnly} onFilterChange={this.handleFilterChange} onStockChange={this.handleStockChange}/>\n",
    "            <ProductTable filterText={this.state.filterText} inStockOnly={this.state.inStockOnly}/>\n",
    "          </div>\n",
    "      );\n",
    "  }\n",
    "}"
   ]
  },
  {
   "attachments": {},
   "cell_type": "markdown",
   "metadata": {
    "dotnet_interactive": {
     "language": "javascript"
    },
    "polyglot_notebook": {
     "kernelName": "javascript"
    }
   },
   "source": [
    "Notice how we passed in both handlers as props to the `<SearchBar>` component. So `<SearchBar>` is going to run this method in order to change the state in `<Filterable...>`. Also notice that we pass in the `filterText` and `inStockOnly` states, so that the `<SearchBar>` can use these values later as props."
   ]
  },
  {
   "attachments": {},
   "cell_type": "markdown",
   "metadata": {
    "dotnet_interactive": {
     "language": "javascript"
    },
    "polyglot_notebook": {
     "kernelName": "javascript"
    }
   },
   "source": [
    "Once this is done, take a look at the final `SearchBar` code:"
   ]
  },
  {
   "cell_type": "code",
   "execution_count": null,
   "metadata": {
    "dotnet_interactive": {
     "language": "javascript"
    },
    "polyglot_notebook": {
     "kernelName": "javascript"
    },
    "vscode": {
     "languageId": "polyglot-notebook"
    }
   },
   "outputs": [],
   "source": [
    "class SearchBar extends React.Component{\n",
    "  constructor(props){\n",
    "      super(props);\n",
    "      this.handleFilterChange = this.handleFilterChange.bind(this);\n",
    "      this.handleStockChange = this.handleStockChange.bind(this);\n",
    "  }\n",
    "\n",
    "  handleFilterChange(e){\n",
    "    this.props.onFilterChange(e.target.value);\n",
    "  }\n",
    "  \n",
    "  handleStockChange(e){\n",
    "    this.props.onStockChange(e.target.checked);\n",
    "  }\n",
    "\n",
    "  render(){\n",
    "      return(\n",
    "          <form>\n",
    "            <input type=\"text\" value={this.props.filterText} onChange={this.handleFilterChange}/>\n",
    "            <br></br>\n",
    "            <input type=\"checkbox\" checked={this.props.inStockOnly} onChange={this.handleStockChange}/>\n",
    "            Only show products in stock\n",
    "          </form>\n",
    "      );\n",
    "  }\n",
    "}"
   ]
  },
  {
   "attachments": {},
   "cell_type": "markdown",
   "metadata": {
    "dotnet_interactive": {
     "language": "javascript"
    },
    "polyglot_notebook": {
     "kernelName": "javascript"
    }
   },
   "source": [
    "Now directly coming from the last explained thing, on how `<Filterable...>` passed `filterText` and `inStockOnly`, notice how `<SearchBar>` uses it in the inputs, like `<input ... value={this.props.filterText}>` and `<input ... checked={this.props.inStockOnly}>`. This is important because of how the `value` and `checked` attributes is what will be used as parameters for the handler methods, as `e.target.value` and `e.target.checked` respectively. The `onChange` that we talked about when the user changes an input, will run the `<SearchBar>` handlers, which will run the `<Filterable...>` handlers that we passed as props, and will use the `value` and `checked` as parameters. And remember, that the `<Filterable>` handlers will set the state, and we are done :)"
   ]
  }
 ],
 "metadata": {
  "kernelspec": {
   "display_name": ".NET (C#)",
   "language": "C#",
   "name": ".net-csharp"
  },
  "polyglot_notebook": {
   "kernelInfo": {
    "defaultKernelName": "csharp",
    "items": [
     {
      "aliases": [
       "c#",
       "C#"
      ],
      "languageName": "C#",
      "name": "csharp"
     },
     {
      "aliases": [
       "frontend"
      ],
      "name": "vscode"
     },
     {
      "aliases": [
       "js"
      ],
      "languageName": "JavaScript",
      "name": "javascript"
     },
     {
      "aliases": [],
      "name": ".NET"
     },
     {
      "aliases": [
       "f#",
       "F#"
      ],
      "languageName": "F#",
      "name": "fsharp"
     },
     {
      "aliases": [],
      "languageName": "HTML",
      "name": "html"
     },
     {
      "aliases": [],
      "languageName": "KQL",
      "name": "kql"
     },
     {
      "aliases": [],
      "languageName": "Mermaid",
      "name": "mermaid"
     },
     {
      "aliases": [
       "powershell"
      ],
      "languageName": "PowerShell",
      "name": "pwsh"
     },
     {
      "aliases": [],
      "languageName": "SQL",
      "name": "sql"
     },
     {
      "aliases": [],
      "name": "value"
     }
    ]
   }
  }
 },
 "nbformat": 4,
 "nbformat_minor": 2
}
