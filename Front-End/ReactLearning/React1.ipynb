{
 "cells": [
  {
   "attachments": {},
   "cell_type": "markdown",
   "metadata": {
    "dotnet_interactive": {
     "language": "csharp"
    },
    "polyglot_notebook": {
     "kernelName": "csharp"
    }
   },
   "source": [
    "# Setting up React"
   ]
  },
  {
   "attachments": {},
   "cell_type": "markdown",
   "metadata": {
    "dotnet_interactive": {
     "language": "csharp"
    },
    "polyglot_notebook": {
     "kernelName": "csharp"
    }
   },
   "source": [
    "In order to download React, you must have `Node >- 14.0.0 and npm >= 5.6` on the machine. To create a project, run:"
   ]
  },
  {
   "cell_type": "code",
   "execution_count": null,
   "metadata": {
    "dotnet_interactive": {
     "language": "pwsh"
    },
    "polyglot_notebook": {
     "kernelName": "pwsh"
    },
    "vscode": {
     "languageId": "polyglot-notebook"
    }
   },
   "outputs": [],
   "source": [
    "npx create-react-app my-app\n",
    "cd my-app\n",
    "npm start"
   ]
  },
  {
   "attachments": {},
   "cell_type": "markdown",
   "metadata": {
    "dotnet_interactive": {
     "language": "pwsh"
    },
    "polyglot_notebook": {
     "kernelName": "pwsh"
    }
   },
   "source": [
    "1. `npx create-react-app my-app`, creates a `\"my-app\"` directory, and does some setup:\n",
    "    * Installs some npm packages essential to the functionality of the app.\n",
    "    * Writes scripts for starting and serving the application.\n",
    "    * Creates the structure of files and directories\n",
    "    * Initializes the directory as a git repository, if you have git installed.\n",
    "2. `cd my-app`, will let you go into the project/app.\n",
    "3. `npm start`, will run the scripts installed by the `create-react-app` command and start being served at a local server, `localhost:3000`."
   ]
  },
  {
   "cell_type": "code",
   "execution_count": null,
   "metadata": {
    "dotnet_interactive": {
     "language": "pwsh"
    },
    "polyglot_notebook": {
     "kernelName": "pwsh"
    },
    "vscode": {
     "languageId": "polyglot-notebook"
    }
   },
   "outputs": [],
   "source": [
    "Here is the initial file structure:\n",
    "my-app  \n",
    "├── README.md  \n",
    "├── node_modules  \n",
    "├── package.json  \n",
    "├── package-lock.json  \n",
    "├── .gitignore  \n",
    "├── public  \n",
    "│   ├── favicon.ico  \n",
    "│   ├── index.html  \n",
    "│   ├── logo192.png  \n",
    "│   ├── logo512.png  \n",
    "│   ├── manifest.json  \n",
    "│   └── robots.txt  \n",
    "└── src  \n",
    "    ├── App.css  \n",
    "    ├── App.js  \n",
    "    ├── App.test.js  \n",
    "    ├── index.css  \n",
    "    ├── index.js  \n",
    "    ├── logo.svg  \n",
    "    ├── reportWebVitals.js  \n",
    "    └── setupTests.js  "
   ]
  },
  {
   "attachments": {},
   "cell_type": "markdown",
   "metadata": {
    "dotnet_interactive": {
     "language": "pwsh"
    },
    "polyglot_notebook": {
     "kernelName": "pwsh"
    }
   },
   "source": [
    "* `src` is where we will spend the most time, because the source code for the app is here.\n",
    "* `public` has files that will be read by the browser while developing the app. The most important is the `index.html`. React will inject the code into this file so the browser can run it. There is other markup here that you will not want to change unless you know what you are doing. But go ahead and change the `<title>`. This `public` directory will also be published when you build and deploy. `<noscript>` defines alternate content for users who disabled scripts in their browser, or if their browser does not support scripts.\n",
    "* `package.json` contains info about the project that Node.js/npm uses to keep it organized. Don't need to understand this section."
   ]
  },
  {
   "attachments": {},
   "cell_type": "markdown",
   "metadata": {
    "dotnet_interactive": {
     "language": "pwsh"
    },
    "polyglot_notebook": {
     "kernelName": "pwsh"
    }
   },
   "source": [
    "## JSX"
   ]
  },
  {
   "attachments": {},
   "cell_type": "markdown",
   "metadata": {
    "dotnet_interactive": {
     "language": "pwsh"
    },
    "polyglot_notebook": {
     "kernelName": "pwsh"
    }
   },
   "source": [
    "JSX stands for `JavaScript XML`, here is an example:"
   ]
  },
  {
   "cell_type": "code",
   "execution_count": 1,
   "metadata": {
    "dotnet_interactive": {
     "language": "javascript"
    },
    "polyglot_notebook": {
     "kernelName": "javascript"
    },
    "vscode": {
     "languageId": "polyglot-notebook"
    }
   },
   "outputs": [],
   "source": [
    "const element = <h1>Hello World!</h1>;"
   ]
  },
  {
   "attachments": {},
   "cell_type": "markdown",
   "metadata": {
    "dotnet_interactive": {
     "language": "javascript"
    },
    "polyglot_notebook": {
     "kernelName": "javascript"
    }
   },
   "source": [
    "This tag syntax is not an element, or HTML. It is JSX, but it allows us to use the power of JavaScript with it. These are React \"elements\". Here is an example of why this is useful:"
   ]
  },
  {
   "cell_type": "code",
   "execution_count": null,
   "metadata": {
    "dotnet_interactive": {
     "language": "javascript"
    },
    "polyglot_notebook": {
     "kernelName": "javascript"
    },
    "vscode": {
     "languageId": "polyglot-notebook"
    }
   },
   "outputs": [],
   "source": [
    "const name = \"Cristian Something\";\n",
    "const element = <h1>Hello, {name}</h1>;"
   ]
  },
  {
   "attachments": {},
   "cell_type": "markdown",
   "metadata": {
    "dotnet_interactive": {
     "language": "javascript"
    },
    "polyglot_notebook": {
     "kernelName": "javascript"
    }
   },
   "source": [
    "In order to do the same thing in pure JavaScript and HTML, we would have to do:"
   ]
  },
  {
   "cell_type": "code",
   "execution_count": 8,
   "metadata": {
    "dotnet_interactive": {
     "language": "javascript"
    },
    "polyglot_notebook": {
     "kernelName": "javascript"
    },
    "vscode": {
     "languageId": "polyglot-notebook"
    }
   },
   "outputs": [
    {
     "data": {
      "text/html": [
       "<body>\r\n",
       "    <h1>Hello</h1>\r\n",
       "    <script>\r\n",
       "        const body = document.body;\r\n",
       "        const name = \"Cristian Something\";\r\n",
       "        const element = document.createElement('h1');\r\n",
       "        element.textContent = `Hello, ${name}`;\r\n",
       "        body.appendChild(element);\r\n",
       "    </script>\r\n",
       "</body>"
      ]
     },
     "metadata": {},
     "output_type": "display_data"
    }
   ],
   "source": [
    "const body = document.body;\n",
    "const name = \"Cristian Something\";\n",
    "const element = document.createElement('h1');\n",
    "element.textContent = `Hello, ${name}`;\n",
    "body.appendChild(element);"
   ]
  },
  {
   "attachments": {},
   "cell_type": "markdown",
   "metadata": {
    "dotnet_interactive": {
     "language": "html"
    },
    "polyglot_notebook": {
     "kernelName": "html"
    }
   },
   "source": [
    "You can see that the above example is MUCH easier to do."
   ]
  },
  {
   "attachments": {},
   "cell_type": "markdown",
   "metadata": {
    "dotnet_interactive": {
     "language": "html"
    },
    "polyglot_notebook": {
     "kernelName": "html"
    }
   },
   "source": [
    "Lets look at an example of how React looks when compiled down:"
   ]
  },
  {
   "cell_type": "code",
   "execution_count": null,
   "metadata": {
    "dotnet_interactive": {
     "language": "javascript"
    },
    "polyglot_notebook": {
     "kernelName": "javascript"
    },
    "vscode": {
     "languageId": "polyglot-notebook"
    }
   },
   "outputs": [],
   "source": [
    "const element = (\n",
    "  <h1 className=\"greeting\">\n",
    "    Hello, world!\n",
    "  </h1>\n",
    ");"
   ]
  },
  {
   "cell_type": "code",
   "execution_count": null,
   "metadata": {
    "dotnet_interactive": {
     "language": "javascript"
    },
    "polyglot_notebook": {
     "kernelName": "javascript"
    },
    "vscode": {
     "languageId": "polyglot-notebook"
    }
   },
   "outputs": [],
   "source": [
    "const element = React.createElement(\n",
    "  'h1',\n",
    "  {className: 'greeting'},\n",
    "  'Hello, world!'\n",
    ");"
   ]
  },
  {
   "attachments": {},
   "cell_type": "markdown",
   "metadata": {
    "dotnet_interactive": {
     "language": "pwsh"
    },
    "polyglot_notebook": {
     "kernelName": "pwsh"
    }
   },
   "source": [
    "## Exploring `<App/>` - Our First React Component"
   ]
  },
  {
   "attachments": {},
   "cell_type": "markdown",
   "metadata": {
    "dotnet_interactive": {
     "language": "pwsh"
    },
    "polyglot_notebook": {
     "kernelName": "pwsh"
    }
   },
   "source": [
    "A **component** is a reusable module that renders a part of our app. They serve a single, obvious purpose."
   ]
  },
  {
   "attachments": {},
   "cell_type": "markdown",
   "metadata": {
    "dotnet_interactive": {
     "language": "pwsh"
    },
    "polyglot_notebook": {
     "kernelName": "pwsh"
    }
   },
   "source": [
    "Let's use `src/App.js` that contains the `App` component:"
   ]
  },
  {
   "cell_type": "code",
   "execution_count": null,
   "metadata": {
    "dotnet_interactive": {
     "language": "javascript"
    },
    "polyglot_notebook": {
     "kernelName": "javascript"
    },
    "vscode": {
     "languageId": "polyglot-notebook"
    }
   },
   "outputs": [],
   "source": [
    "import logo from './logo.svg';\n",
    "import './App.css';\n",
    "\n",
    "function App() {\n",
    "  return (\n",
    "    <div className=\"App\">\n",
    "      <header className=\"App-header\">\n",
    "        <img src={logo} className=\"App-logo\" alt=\"logo\" />\n",
    "        <p>\n",
    "          Edit <code>src/App.js</code> and save to reload.\n",
    "        </p>\n",
    "        <a\n",
    "          className=\"App-link\"\n",
    "          href=\"https://reactjs.org\"\n",
    "          target=\"_blank\"\n",
    "          rel=\"noopener noreferrer\"\n",
    "        >\n",
    "          Learn React\n",
    "        </a>\n",
    "      </header>\n",
    "    </div>\n",
    "  );\n",
    "}\n",
    "export default App;"
   ]
  },
  {
   "attachments": {},
   "cell_type": "markdown",
   "metadata": {
    "dotnet_interactive": {
     "language": "javascript"
    },
    "polyglot_notebook": {
     "kernelName": "javascript"
    }
   },
   "source": [
    "This file consists of three main parts:"
   ]
  },
  {
   "attachments": {},
   "cell_type": "markdown",
   "metadata": {
    "dotnet_interactive": {
     "language": "javascript"
    },
    "polyglot_notebook": {
     "kernelName": "javascript"
    }
   },
   "source": [
    "### 1. Import Statements"
   ]
  },
  {
   "cell_type": "code",
   "execution_count": null,
   "metadata": {
    "dotnet_interactive": {
     "language": "javascript"
    },
    "polyglot_notebook": {
     "kernelName": "javascript"
    },
    "vscode": {
     "languageId": "polyglot-notebook"
    }
   },
   "outputs": [],
   "source": [
    "import logo from './logo.svg';\n",
    "import './App.css';"
   ]
  },
  {
   "attachments": {},
   "cell_type": "markdown",
   "metadata": {
    "dotnet_interactive": {
     "language": "javascript"
    },
    "polyglot_notebook": {
     "kernelName": "javascript"
    }
   },
   "source": [
    "The first line imports a logo from the current directory because of the `./`, and gets the file `logo.svg`. The second directory imports the CSS we need for the App component. There is no `from` and variable, because it is a **side-effect import**, so it doesn't import any values into the JS file, but it references the CSS file into the final CSS bundle."
   ]
  },
  {
   "attachments": {},
   "cell_type": "markdown",
   "metadata": {
    "dotnet_interactive": {
     "language": "javascript"
    },
    "polyglot_notebook": {
     "kernelName": "javascript"
    }
   },
   "source": [
    "### 2. App Component"
   ]
  },
  {
   "attachments": {},
   "cell_type": "markdown",
   "metadata": {
    "dotnet_interactive": {
     "language": "javascript"
    },
    "polyglot_notebook": {
     "kernelName": "javascript"
    }
   },
   "source": [
    "Note that JSX will look like regular HTML tags, so when we create our React components, we will want to be able to differentiate betweeen JSX tags and HTML, so we use \"pascal-case\" variable names, like: `HelloIAmAComponent`. So we name our component `App` not `app`."
   ]
  },
  {
   "cell_type": "code",
   "execution_count": null,
   "metadata": {
    "dotnet_interactive": {
     "language": "javascript"
    },
    "polyglot_notebook": {
     "kernelName": "javascript"
    },
    "vscode": {
     "languageId": "polyglot-notebook"
    }
   },
   "outputs": [],
   "source": [
    "function App() {\n",
    "  return (\n",
    "    <div className=\"App\">\n",
    "      <header className=\"App-header\">\n",
    "        <img src={logo} className=\"App-logo\" alt=\"logo\" />\n",
    "        <p>\n",
    "          Edit <code>src/App.js</code> and save to reload.\n",
    "        </p>\n",
    "        <a\n",
    "          className=\"App-link\"\n",
    "          href=\"https://reactjs.org\"\n",
    "          target=\"_blank\"\n",
    "          rel=\"noopener noreferrer\"\n",
    "        >\n",
    "          Learn React\n",
    "        </a>\n",
    "      </header>\n",
    "    </div>\n",
    "  );\n",
    "}"
   ]
  },
  {
   "attachments": {},
   "cell_type": "markdown",
   "metadata": {
    "dotnet_interactive": {
     "language": "javascript"
    },
    "polyglot_notebook": {
     "kernelName": "javascript"
    }
   },
   "source": [
    "The `App()` function returns a JSX expression. This will be what the browser renders to the DOM."
   ]
  },
  {
   "attachments": {},
   "cell_type": "markdown",
   "metadata": {
    "dotnet_interactive": {
     "language": "javascript"
    },
    "polyglot_notebook": {
     "kernelName": "javascript"
    }
   },
   "source": [
    "Notice the attribute `className`. This is different from the usual `class`, because `class` is a reserved keyword in JavaScript. So when using JSX, you will want to use `className` for creating a `class` attribute. This is not the only attribute name that is different. Also take a look at `<img src={logo}...`, as instead of doing `src='logo.svg'`, we use the variable we already have."
   ]
  },
  {
   "attachments": {},
   "cell_type": "markdown",
   "metadata": {
    "dotnet_interactive": {
     "language": "javascript"
    },
    "polyglot_notebook": {
     "kernelName": "javascript"
    }
   },
   "source": [
    "You can use both the string literal way to as attributes, or use JavaScript Expressions by using curly braces to embed the expression in an attribute, as we did in `src={logo}`."
   ]
  },
  {
   "attachments": {},
   "cell_type": "markdown",
   "metadata": {
    "dotnet_interactive": {
     "language": "javascript"
    },
    "polyglot_notebook": {
     "kernelName": "javascript"
    }
   },
   "source": [
    "Try to delete the `<a>` link from the `App`, save, and refresh the page."
   ]
  },
  {
   "attachments": {},
   "cell_type": "markdown",
   "metadata": {
    "dotnet_interactive": {
     "language": "javascript"
    },
    "polyglot_notebook": {
     "kernelName": "javascript"
    }
   },
   "source": [
    "### 3. Export Statements"
   ]
  },
  {
   "attachments": {},
   "cell_type": "markdown",
   "metadata": {
    "dotnet_interactive": {
     "language": "javascript"
    },
    "polyglot_notebook": {
     "kernelName": "javascript"
    }
   },
   "source": [
    "`export default App` will make the `App` component available to other modules."
   ]
  },
  {
   "attachments": {},
   "cell_type": "markdown",
   "metadata": {
    "dotnet_interactive": {
     "language": "javascript"
    },
    "polyglot_notebook": {
     "kernelName": "javascript"
    }
   },
   "source": [
    "## Looking at `index.js`"
   ]
  },
  {
   "cell_type": "code",
   "execution_count": null,
   "metadata": {
    "dotnet_interactive": {
     "language": "javascript"
    },
    "polyglot_notebook": {
     "kernelName": "javascript"
    },
    "vscode": {
     "languageId": "polyglot-notebook"
    }
   },
   "outputs": [],
   "source": [
    "import React from 'react';\n",
    "import ReactDOM from 'react-dom/client';\n",
    "import './index.css';\n",
    "import App from './App';\n",
    "import reportWebVitals from './reportWebVitals';\n",
    "\n",
    "const root = ReactDOM.createRoot(document.getElementById('root'));\n",
    "root.render(\n",
    "  <React.StrictMode>\n",
    "    <App />\n",
    "  </React.StrictMode>\n",
    ");\n",
    "\n",
    "// If you want to start measuring performance in your app, pass a function\n",
    "// to log results (for example: reportWebVitals(console.log))\n",
    "// or send to an analytics endpoint. Learn more: https://bit.ly/CRA-vitals\n",
    "reportWebVitals();\n"
   ]
  },
  {
   "attachments": {},
   "cell_type": "markdown",
   "metadata": {
    "dotnet_interactive": {
     "language": "javascript"
    },
    "polyglot_notebook": {
     "kernelName": "javascript"
    }
   },
   "source": [
    "Lets look at the `import`'s first:\n",
    "1. `import React from 'react';` imports all of the classes, variables, etc. that React NATIVE uses.\n",
    "2. `import ReactDOM from 'react-dom/client';` imports all classes, variables, etc. that React DOM uses. The difference between the two, is that DOM is specifically used for web development. While React Native is for general application use. They are not local files, and are listed as dependencies in `package.json`.\n",
    "3. `import './index.css';` holds the global styles applied to the entire app. (So all JSX expressions inside of `index.js` follows this CSS page)\n",
    "4. `import App from './App';` will get the `App` component from our `App.js` and the `export` that is there. Notice how we use the `App` variable in `<App />`.\n",
    "5. `import reportWebVitals from './reportWebVitals';` gets the `reportWebVitals` function that is created in the `reportWebVitals` function. Notice we use it at the end of this file."
   ]
  },
  {
   "attachments": {},
   "cell_type": "markdown",
   "metadata": {
    "dotnet_interactive": {
     "language": "javascript"
    },
    "polyglot_notebook": {
     "kernelName": "javascript"
    }
   },
   "source": [
    "`const root = ReactDOM.createRoot(document.getElementById('root'));`  \n",
    "This line will render the DOM element that we pass in.  \n",
    "If you look inside `public/index.html`, you will notice an element: `<div id='root'></div>`. We create a React **ROOT** INSIDE of this `<div id='root'></div>`, which is where all of the rendering will take place inside of, and we will manage the DOM inside of this root. This `.createRoot` method returns a root, which we will use to render things in."
   ]
  },
  {
   "attachments": {},
   "cell_type": "markdown",
   "metadata": {
    "dotnet_interactive": {
     "language": "javascript"
    },
    "polyglot_notebook": {
     "kernelName": "javascript"
    }
   },
   "source": [
    "`root.render(<App />)` is all you need to render all of the JSX expressions you put in `App.js`. Notice how ALL React components are void elements. HOWEVER, YOU MUST CLOSE ***ALL*** void elements WITH `/`!!! (even HTML void elements)"
   ]
  },
  {
   "attachments": {},
   "cell_type": "markdown",
   "metadata": {
    "dotnet_interactive": {
     "language": "javascript"
    },
    "polyglot_notebook": {
     "kernelName": "javascript"
    }
   },
   "source": [
    "You can delete the `reportWebVitals()` line, since we do not need this."
   ]
  },
  {
   "cell_type": "code",
   "execution_count": null,
   "metadata": {
    "dotnet_interactive": {
     "language": "javascript"
    },
    "polyglot_notebook": {
     "kernelName": "javascript"
    },
    "vscode": {
     "languageId": "polyglot-notebook"
    }
   },
   "outputs": [],
   "source": [
    "//Code should look like this in the end\n",
    "import React from 'react';\n",
    "import ReactDOM from 'react-dom/client';\n",
    "import './index.css';\n",
    "import App from './App';\n",
    "\n",
    "const root = ReactDOM.createRoot(document.getElementById('root'));\n",
    "root.render(<App />);"
   ]
  },
  {
   "attachments": {},
   "cell_type": "markdown",
   "metadata": {
    "dotnet_interactive": {
     "language": "javascript"
    },
    "polyglot_notebook": {
     "kernelName": "javascript"
    }
   },
   "source": [
    "## Clearing out the page"
   ]
  },
  {
   "attachments": {},
   "cell_type": "markdown",
   "metadata": {
    "dotnet_interactive": {
     "language": "javascript"
    },
    "polyglot_notebook": {
     "kernelName": "javascript"
    }
   },
   "source": [
    "There are alot of things that are still in the page that we don't want, so let's clear those things out, as well as all of the styles that React gives us by default:"
   ]
  },
  {
   "attachments": {},
   "cell_type": "markdown",
   "metadata": {
    "dotnet_interactive": {
     "language": "javascript"
    },
    "polyglot_notebook": {
     "kernelName": "javascript"
    }
   },
   "source": [
    "1. Delete the image `logo.svg` from the file list, and the `import` statement in `App.js`.\n",
    "2. Delete all elements inside of `<div className='App'>` to clear out the entire screen.\n",
    "3. Delete the `index.css` file and the `import` in `index.js`\n",
    "4. Empty out the `App.css` file in order to start with a complete css-free project."
   ]
  },
  {
   "attachments": {},
   "cell_type": "markdown",
   "metadata": {
    "dotnet_interactive": {
     "language": "javascript"
    },
    "polyglot_notebook": {
     "kernelName": "javascript"
    }
   },
   "source": [
    "You can also delete the `setupTests.js` and `App.test.js` as we won't be using them"
   ]
  },
  {
   "attachments": {},
   "cell_type": "markdown",
   "metadata": {
    "dotnet_interactive": {
     "language": "javascript"
    },
    "polyglot_notebook": {
     "kernelName": "javascript"
    }
   },
   "source": [
    "## Now you have a completely empty project with React"
   ]
  }
 ],
 "metadata": {
  "kernelspec": {
   "display_name": ".NET (C#)",
   "language": "C#",
   "name": ".net-csharp"
  },
  "polyglot_notebook": {
   "kernelInfo": {
    "defaultKernelName": "csharp",
    "items": [
     {
      "aliases": [
       "c#",
       "C#"
      ],
      "languageName": "C#",
      "name": "csharp"
     },
     {
      "aliases": [
       "frontend"
      ],
      "languageName": null,
      "name": "vscode"
     },
     {
      "aliases": [],
      "languageName": null,
      "name": ".NET"
     },
     {
      "aliases": [
       "f#",
       "F#"
      ],
      "languageName": "F#",
      "name": "fsharp"
     },
     {
      "aliases": [],
      "languageName": "HTML",
      "name": "html"
     },
     {
      "aliases": [
       "js"
      ],
      "languageName": null,
      "name": "javascript"
     },
     {
      "aliases": [],
      "languageName": "KQL",
      "name": "kql"
     },
     {
      "aliases": [],
      "languageName": "Mermaid",
      "name": "mermaid"
     },
     {
      "aliases": [
       "powershell"
      ],
      "languageName": "PowerShell",
      "name": "pwsh"
     },
     {
      "aliases": [],
      "languageName": "SQL",
      "name": "sql"
     },
     {
      "aliases": [],
      "languageName": null,
      "name": "value"
     },
     {
      "aliases": [],
      "languageName": null,
      "name": "webview"
     }
    ]
   }
  }
 },
 "nbformat": 4,
 "nbformat_minor": 2
}
