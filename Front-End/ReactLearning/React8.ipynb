{
 "cells": [
  {
   "attachments": {},
   "cell_type": "markdown",
   "metadata": {},
   "source": [
    "# Composition vs Inheritance"
   ]
  },
  {
   "attachments": {},
   "cell_type": "markdown",
   "metadata": {
    "dotnet_interactive": {
     "language": "csharp"
    },
    "polyglot_notebook": {
     "kernelName": "csharp"
    }
   },
   "source": [
    "## Containment"
   ]
  },
  {
   "attachments": {},
   "cell_type": "markdown",
   "metadata": {
    "dotnet_interactive": {
     "language": "csharp"
    },
    "polyglot_notebook": {
     "kernelName": "csharp"
    }
   },
   "source": [
    "Some components don't know their children ahead of time. Use the special `children` prop to pass children elements directly into their output:"
   ]
  },
  {
   "cell_type": "code",
   "execution_count": null,
   "metadata": {
    "dotnet_interactive": {
     "language": "javascript"
    },
    "polyglot_notebook": {
     "kernelName": "javascript"
    },
    "vscode": {
     "languageId": "polyglot-notebook"
    }
   },
   "outputs": [],
   "source": [
    "function FancyBorder(props) {\n",
    "  return (\n",
    "    <div className={'FancyBorder FancyBorder-' + props.color}>\n",
    "      {props.children}\n",
    "    </div>\n",
    "  );\n",
    "}\n",
    "\n",
    "function WelcomeDialog() {\n",
    "  return (\n",
    "    <FancyBorder color=\"blue\">\n",
    "      <h1 className=\"Dialog-title\">\n",
    "        Welcome\n",
    "      </h1>\n",
    "      <p className=\"Dialog-message\">\n",
    "        Thank you for visiting our spacecraft!\n",
    "      </p>\n",
    "    </FancyBorder>\n",
    "  );\n",
    "}"
   ]
  },
  {
   "attachments": {},
   "cell_type": "markdown",
   "metadata": {
    "dotnet_interactive": {
     "language": "javascript"
    },
    "polyglot_notebook": {
     "kernelName": "javascript"
    }
   },
   "source": [
    "Notice how instead of using `<FancyBorder>` like a void element, it now has elements inside of it. These elements ARE `props.children`."
   ]
  },
  {
   "attachments": {},
   "cell_type": "markdown",
   "metadata": {
    "dotnet_interactive": {
     "language": "javascript"
    },
    "polyglot_notebook": {
     "kernelName": "javascript"
    }
   },
   "source": [
    "Here is another way to do it:"
   ]
  },
  {
   "cell_type": "code",
   "execution_count": null,
   "metadata": {
    "dotnet_interactive": {
     "language": "javascript"
    },
    "polyglot_notebook": {
     "kernelName": "javascript"
    },
    "vscode": {
     "languageId": "polyglot-notebook"
    }
   },
   "outputs": [],
   "source": [
    "function SplitPane(props) {\n",
    "  return (\n",
    "    <div className=\"SplitPane\">\n",
    "      <div className=\"SplitPane-left\">\n",
    "        {props.left}\n",
    "      </div>\n",
    "      <div className=\"SplitPane-right\">\n",
    "        {props.right}\n",
    "      </div>\n",
    "    </div>\n",
    "  );\n",
    "}\n",
    "\n",
    "function App() {\n",
    "  return (\n",
    "    <SplitPane\n",
    "      left={\n",
    "        <Contacts />\n",
    "      }\n",
    "      right={\n",
    "        <Chat />\n",
    "      } />\n",
    "  );\n",
    "}"
   ]
  },
  {
   "attachments": {},
   "cell_type": "markdown",
   "metadata": {
    "dotnet_interactive": {
     "language": "javascript"
    },
    "polyglot_notebook": {
     "kernelName": "javascript"
    }
   },
   "source": [
    "Now we use `<SplitPane>` like a normal void element, but we have two props that take React elements."
   ]
  },
  {
   "attachments": {},
   "cell_type": "markdown",
   "metadata": {
    "dotnet_interactive": {
     "language": "javascript"
    },
    "polyglot_notebook": {
     "kernelName": "javascript"
    }
   },
   "source": [
    "## Specialization"
   ]
  },
  {
   "attachments": {},
   "cell_type": "markdown",
   "metadata": {
    "dotnet_interactive": {
     "language": "javascript"
    },
    "polyglot_notebook": {
     "kernelName": "javascript"
    }
   },
   "source": [
    "We can use components as \"special cases\" of another component. For example, here we usa `WelcomeDialog` as a special case of `Dialog`. We achieve this by composition, where a \"specific\" component (In this case it is `WelcomeDialog`), renders a more \"generic\" component (In this case it is `Dialog`), and configures it with props:"
   ]
  },
  {
   "cell_type": "code",
   "execution_count": null,
   "metadata": {
    "dotnet_interactive": {
     "language": "javascript"
    },
    "polyglot_notebook": {
     "kernelName": "javascript"
    },
    "vscode": {
     "languageId": "polyglot-notebook"
    }
   },
   "outputs": [],
   "source": [
    "function Dialog(props) {\n",
    "  return (\n",
    "    <FancyBorder color=\"blue\">\n",
    "      <h1 className=\"Dialog-title\">\n",
    "        {props.title}\n",
    "      </h1>\n",
    "      <p className=\"Dialog-message\">\n",
    "        {props.message}\n",
    "      </p>\n",
    "    </FancyBorder>\n",
    "  );\n",
    "}\n",
    "\n",
    "function WelcomeDialog() {\n",
    "  return (\n",
    "    <Dialog\n",
    "      title=\"Welcome\"\n",
    "      message=\"Thank you for visiting our spacecraft!\" />\n",
    "  );\n",
    "}"
   ]
  },
  {
   "attachments": {},
   "cell_type": "markdown",
   "metadata": {
    "dotnet_interactive": {
     "language": "javascript"
    },
    "polyglot_notebook": {
     "kernelName": "javascript"
    }
   },
   "source": [
    "The special, `WelcomeDialog`, uses the generic, `Dialog`, but passes in props."
   ]
  },
  {
   "attachments": {},
   "cell_type": "markdown",
   "metadata": {
    "dotnet_interactive": {
     "language": "javascript"
    },
    "polyglot_notebook": {
     "kernelName": "javascript"
    }
   },
   "source": [
    "The creators at React itself say that they haven't found ANY use cases for inhertiance using components. So they say the only tools you need are props and composition."
   ]
  }
 ],
 "metadata": {
  "kernelspec": {
   "display_name": ".NET (C#)",
   "language": "C#",
   "name": ".net-csharp"
  },
  "polyglot_notebook": {
   "kernelInfo": {
    "defaultKernelName": "csharp",
    "items": [
     {
      "aliases": [],
      "name": "csharp"
     },
     {
      "aliases": [
       "frontend"
      ],
      "languageName": null,
      "name": "vscode"
     },
     {
      "aliases": [
       "js"
      ],
      "languageName": "JavaScript",
      "name": "javascript"
     }
    ]
   }
  }
 },
 "nbformat": 4,
 "nbformat_minor": 2
}
