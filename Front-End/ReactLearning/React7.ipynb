{
 "cells": [
  {
   "attachments": {},
   "cell_type": "markdown",
   "metadata": {
    "dotnet_interactive": {
     "language": "csharp"
    },
    "polyglot_notebook": {
     "kernelName": "csharp"
    }
   },
   "source": [
    "# Lifting State Up"
   ]
  },
  {
   "attachments": {},
   "cell_type": "markdown",
   "metadata": {
    "dotnet_interactive": {
     "language": "csharp"
    },
    "polyglot_notebook": {
     "kernelName": "csharp"
    }
   },
   "source": [
    "Several components may need to \"react\" to changing data of other components. React recommends \"lifting\" the shared state up to the closest common ancestor. Let's start with an example:"
   ]
  },
  {
   "cell_type": "code",
   "execution_count": null,
   "metadata": {
    "dotnet_interactive": {
     "language": "javascript"
    },
    "polyglot_notebook": {
     "kernelName": "javascript"
    },
    "vscode": {
     "languageId": "polyglot-notebook"
    }
   },
   "outputs": [],
   "source": [
    "function BoilingVerdict(props) {\n",
    "  if (props.celsius >= 100) {\n",
    "    return <p>The water would boil.</p>;\n",
    "  }\n",
    "  return <p>The water would not boil.</p>;\n",
    "}"
   ]
  },
  {
   "attachments": {},
   "cell_type": "markdown",
   "metadata": {
    "dotnet_interactive": {
     "language": "javascript"
    },
    "polyglot_notebook": {
     "kernelName": "javascript"
    }
   },
   "source": [
    "Next we will create another component `Calculator` that uses this component:"
   ]
  },
  {
   "cell_type": "code",
   "execution_count": null,
   "metadata": {
    "dotnet_interactive": {
     "language": "javascript"
    },
    "polyglot_notebook": {
     "kernelName": "javascript"
    },
    "vscode": {
     "languageId": "polyglot-notebook"
    }
   },
   "outputs": [],
   "source": [
    "class Calculator extends React.Component {\n",
    "  constructor(props) {\n",
    "    super(props);\n",
    "    this.handleChange = this.handleChange.bind(this);\n",
    "    this.state = {temperature: ''};\n",
    "  }\n",
    "\n",
    "  handleChange(e) {\n",
    "    this.setState({temperature: e.target.value});\n",
    "  }\n",
    "\n",
    "  render() {\n",
    "    const temperature = this.state.temperature;\n",
    "    return (\n",
    "      <fieldset>\n",
    "        <legend>Enter temperature in Celsius:</legend>\n",
    "        <input\n",
    "          value={temperature}\n",
    "          onChange={this.handleChange} />\n",
    "        <BoilingVerdict\n",
    "          celsius={parseFloat(temperature)} />\n",
    "      </fieldset>\n",
    "    );\n",
    "  }\n",
    "}"
   ]
  },
  {
   "attachments": {},
   "cell_type": "markdown",
   "metadata": {
    "dotnet_interactive": {
     "language": "javascript"
    },
    "polyglot_notebook": {
     "kernelName": "javascript"
    }
   },
   "source": [
    "Can you explain what happens here and how this code works?"
   ]
  },
  {
   "attachments": {},
   "cell_type": "markdown",
   "metadata": {
    "dotnet_interactive": {
     "language": "javascript"
    },
    "polyglot_notebook": {
     "kernelName": "javascript"
    }
   },
   "source": [
    "Let's try to add a second input now to the `Calculator`. Let's get a `TemperatureInput` to use that will have a `scale` prop that can be either \"c\" or \"f\":"
   ]
  },
  {
   "cell_type": "code",
   "execution_count": null,
   "metadata": {
    "dotnet_interactive": {
     "language": "javascript"
    },
    "polyglot_notebook": {
     "kernelName": "javascript"
    },
    "vscode": {
     "languageId": "polyglot-notebook"
    }
   },
   "outputs": [],
   "source": [
    "const scaleNames = {\n",
    "  c: 'Celsius',\n",
    "  f: 'Fahrenheit'\n",
    "};\n",
    "\n",
    "class TemperatureInput extends React.Component {\n",
    "  constructor(props) {\n",
    "    super(props);\n",
    "    this.handleChange = this.handleChange.bind(this);\n",
    "    this.state = {temperature: ''};\n",
    "  }\n",
    "\n",
    "  handleChange(e) {\n",
    "    this.setState({temperature: e.target.value});\n",
    "  }\n",
    "\n",
    "  render() {\n",
    "    const temperature = this.state.temperature;\n",
    "    const scale = this.props.scale;\n",
    "    return (\n",
    "      <fieldset>\n",
    "        <legend>Enter temperature in {scaleNames[scale]}:</legend>\n",
    "        <input value={temperature}\n",
    "               onChange={this.handleChange} />\n",
    "      </fieldset>\n",
    "    );\n",
    "  }\n",
    "}"
   ]
  },
  {
   "attachments": {},
   "cell_type": "markdown",
   "metadata": {
    "dotnet_interactive": {
     "language": "javascript"
    },
    "polyglot_notebook": {
     "kernelName": "javascript"
    }
   },
   "source": [
    "Let's use this to render two separate temperature inputs:"
   ]
  },
  {
   "cell_type": "code",
   "execution_count": null,
   "metadata": {
    "dotnet_interactive": {
     "language": "javascript"
    },
    "polyglot_notebook": {
     "kernelName": "javascript"
    },
    "vscode": {
     "languageId": "polyglot-notebook"
    }
   },
   "outputs": [],
   "source": [
    "class Calculator extends React.Component {\n",
    "  render() {\n",
    "    return (\n",
    "      <div>\n",
    "        <TemperatureInput scale=\"c\" />\n",
    "        <TemperatureInput scale=\"f\" />\n",
    "      </div>\n",
    "    );\n",
    "  }\n",
    "}"
   ]
  },
  {
   "attachments": {},
   "cell_type": "markdown",
   "metadata": {
    "dotnet_interactive": {
     "language": "javascript"
    },
    "polyglot_notebook": {
     "kernelName": "javascript"
    }
   },
   "source": [
    "Make sure you take your time here and understand everything, as this may look weird at first."
   ]
  },
  {
   "attachments": {},
   "cell_type": "markdown",
   "metadata": {
    "dotnet_interactive": {
     "language": "javascript"
    },
    "polyglot_notebook": {
     "kernelName": "javascript"
    }
   },
   "source": [
    "Now we have two inputs, but when we enter the temperature in one of them, the other doesn't update."
   ]
  },
  {
   "attachments": {},
   "cell_type": "markdown",
   "metadata": {
    "dotnet_interactive": {
     "language": "javascript"
    },
    "polyglot_notebook": {
     "kernelName": "javascript"
    }
   },
   "source": [
    "And we also CANNOT render `BoilingVerdict` IN `Calculator`. Why can't we do this? (Make sure you understand why, as it is an important concept.)"
   ]
  },
  {
   "attachments": {},
   "cell_type": "markdown",
   "metadata": {
    "dotnet_interactive": {
     "language": "javascript"
    },
    "polyglot_notebook": {
     "kernelName": "javascript"
    }
   },
   "source": [
    "The answer is because `Calculator` doesn't know the current temperature because it is hidden inside `TemperatureInput`. So we need to ***PASS THE STATE UP***."
   ]
  },
  {
   "attachments": {},
   "cell_type": "markdown",
   "metadata": {
    "dotnet_interactive": {
     "language": "javascript"
    },
    "polyglot_notebook": {
     "kernelName": "javascript"
    }
   },
   "source": [
    "First, we need to create two functions that will convert farenheit to celcius, and vice versa. Make sure the functions return the values."
   ]
  },
  {
   "cell_type": "code",
   "execution_count": null,
   "metadata": {
    "dotnet_interactive": {
     "language": "javascript"
    },
    "polyglot_notebook": {
     "kernelName": "javascript"
    },
    "vscode": {
     "languageId": "polyglot-notebook"
    }
   },
   "outputs": [],
   "source": [
    "function toCelsius(fahrenheit) {\n",
    "  return (fahrenheit - 32) * 5 / 9;\n",
    "}\n",
    "\n",
    "function toFahrenheit(celsius) {\n",
    "  return (celsius * 9 / 5) + 32;\n",
    "}"
   ]
  },
  {
   "attachments": {},
   "cell_type": "markdown",
   "metadata": {
    "dotnet_interactive": {
     "language": "javascript"
    },
    "polyglot_notebook": {
     "kernelName": "javascript"
    }
   },
   "source": [
    "We will use these two functions in one function: `tryConvert(temperature, convert)`, where `temperature` is the input value (which is a string. This means the input could be letters), `convert` is the function that we will call to convert `temperature`. If `temperature` is not a valid value, then the function should return an empty string. Otherwise, it should return the valid string value after conversion. Make this function."
   ]
  },
  {
   "attachments": {},
   "cell_type": "markdown",
   "metadata": {
    "dotnet_interactive": {
     "language": "javascript"
    },
    "polyglot_notebook": {
     "kernelName": "javascript"
    }
   },
   "source": [
    "Here are some hints:"
   ]
  },
  {
   "attachments": {},
   "cell_type": "markdown",
   "metadata": {
    "dotnet_interactive": {
     "language": "javascript"
    },
    "polyglot_notebook": {
     "kernelName": "javascript"
    }
   },
   "source": [
    "`parseFloat(temp)`  \n",
    "`Number.isNaN(val)` will check if `val` is null  \n",
    "Use `someNumber.toString()` to convert any `Number` value to string  \n",
    "`Math.round(val)`\n",
    "`convert(input)` where `convert` is either `toCelsius` or `toFarenheit`"
   ]
  },
  {
   "cell_type": "code",
   "execution_count": null,
   "metadata": {
    "dotnet_interactive": {
     "language": "javascript"
    },
    "polyglot_notebook": {
     "kernelName": "javascript"
    },
    "vscode": {
     "languageId": "polyglot-notebook"
    }
   },
   "outputs": [],
   "source": [
    "function tryConvert(temperature, convert){\n",
    "    const input = parseFloat(temperature);\n",
    "    if (Number.isNaN(input)){\n",
    "        return '';\n",
    "    }\n",
    "    const output = convert(input);\n",
    "    const rounded = Math.round(output*1000)/1000;\n",
    "    return rounded.toString();\n",
    "}"
   ]
  },
  {
   "attachments": {},
   "cell_type": "markdown",
   "metadata": {
    "dotnet_interactive": {
     "language": "javascript"
    },
    "polyglot_notebook": {
     "kernelName": "javascript"
    }
   },
   "source": [
    "Because we want the temperatures to be in sync with each other, we need to share states. We will remove the local state from `TemperatureInput` and move it to the `Calculator` instead. So `Calculator` can make the two props of the `TemperatureInput` components be in sync."
   ]
  },
  {
   "attachments": {},
   "cell_type": "markdown",
   "metadata": {
    "dotnet_interactive": {
     "language": "javascript"
    },
    "polyglot_notebook": {
     "kernelName": "javascript"
    }
   },
   "source": [
    "1. Replace `this.state.temperature` with `this.props.temperature` in `TemperatureInput`. This will look like:"
   ]
  },
  {
   "cell_type": "code",
   "execution_count": null,
   "metadata": {
    "dotnet_interactive": {
     "language": "javascript"
    },
    "polyglot_notebook": {
     "kernelName": "javascript"
    },
    "vscode": {
     "languageId": "polyglot-notebook"
    }
   },
   "outputs": [],
   "source": [
    "render() {\n",
    "    // Before: const temperature = this.state.temperature;\n",
    "    const temperature = this.props.temperature;\n",
    "    // ..."
   ]
  },
  {
   "attachments": {},
   "cell_type": "markdown",
   "metadata": {
    "dotnet_interactive": {
     "language": "javascript"
    },
    "polyglot_notebook": {
     "kernelName": "javascript"
    }
   },
   "source": [
    "Remember that props are read-only. This means that the `TemperatureInput` CANNOT control it anymore by using `this.setState()`."
   ]
  },
  {
   "attachments": {},
   "cell_type": "markdown",
   "metadata": {
    "dotnet_interactive": {
     "language": "javascript"
    },
    "polyglot_notebook": {
     "kernelName": "javascript"
    }
   },
   "source": [
    "We can solve this by making a component \"controlled\" just liked we did using the DOM:   \n",
    "`<input value=\"something onChange={this.handleChange}\">`  \n",
    "We will make `TemperatureChange` also accept both `temperature` and `onTemperatureChange` props from `Calculator`."
   ]
  },
  {
   "attachments": {},
   "cell_type": "markdown",
   "metadata": {
    "dotnet_interactive": {
     "language": "javascript"
    },
    "polyglot_notebook": {
     "kernelName": "javascript"
    }
   },
   "source": [
    "This gets added to `TemperatureInput` to call `this.props.onTemperatureChange`:"
   ]
  },
  {
   "cell_type": "code",
   "execution_count": null,
   "metadata": {
    "dotnet_interactive": {
     "language": "javascript"
    },
    "polyglot_notebook": {
     "kernelName": "javascript"
    },
    "vscode": {
     "languageId": "polyglot-notebook"
    }
   },
   "outputs": [],
   "source": [
    "handleChange(e){\n",
    "    //Before: this.setState({temperature: e.target.value});\n",
    "    this.props.onTemperatureChange(e.target.value);\n",
    "}"
   ]
  },
  {
   "attachments": {},
   "cell_type": "markdown",
   "metadata": {
    "dotnet_interactive": {
     "language": "javascript"
    },
    "polyglot_notebook": {
     "kernelName": "javascript"
    }
   },
   "source": [
    "We also could have named them `value` and `onChange`, like how it is for `<input>`."
   ]
  },
  {
   "attachments": {},
   "cell_type": "markdown",
   "metadata": {
    "dotnet_interactive": {
     "language": "javascript"
    },
    "polyglot_notebook": {
     "kernelName": "javascript"
    }
   },
   "source": [
    "This makes the new `TemperatureInput`:"
   ]
  },
  {
   "cell_type": "code",
   "execution_count": null,
   "metadata": {
    "dotnet_interactive": {
     "language": "javascript"
    },
    "polyglot_notebook": {
     "kernelName": "javascript"
    },
    "vscode": {
     "languageId": "polyglot-notebook"
    }
   },
   "outputs": [],
   "source": [
    "class TemperatureInput extends React.Component {\n",
    "  constructor(props) {\n",
    "    super(props);\n",
    "    this.handleChange = this.handleChange.bind(this);\n",
    "  }\n",
    "\n",
    "  handleChange(e) {\n",
    "    this.props.onTemperatureChange(e.target.value);\n",
    "  }\n",
    "\n",
    "  render() {\n",
    "    const temperature = this.props.temperature;\n",
    "    const scale = this.props.scale;\n",
    "    return (\n",
    "      <fieldset>\n",
    "        <legend>Enter temperature in {scaleNames[scale]}:</legend>\n",
    "        <input value={temperature}\n",
    "               onChange={this.handleChange} />\n",
    "      </fieldset>\n",
    "    );\n",
    "  }\n",
    "}"
   ]
  },
  {
   "attachments": {},
   "cell_type": "markdown",
   "metadata": {
    "dotnet_interactive": {
     "language": "javascript"
    },
    "polyglot_notebook": {
     "kernelName": "javascript"
    }
   },
   "source": [
    "So here is what is happening:"
   ]
  },
  {
   "attachments": {},
   "cell_type": "markdown",
   "metadata": {
    "dotnet_interactive": {
     "language": "javascript"
    },
    "polyglot_notebook": {
     "kernelName": "javascript"
    }
   },
   "source": [
    "When its own `TemperatureInput` changes from `<input>`, `handleChange` will occur, which will then run the function that is assigned to it in the `Calculator` component. For example, if the `this.props.scale` that is passed is 'c', then:  \n",
    "`this.props.onTemperatureChange(e.target.value);`  \n",
    "is going to be:  \n",
    "`this.handleCelsiusChange(e.target.value)`  \n",
    "Which will convert the `this.props.temperature`, to the correct value for the scale. So when changing the celsius one here, it will also change the fahrenheit one, except it uses `this.handleFahrenheitChange`.  \n",
    "<br>\n",
    "This also happens when changing the fahrenheit one, but flip everything of course."
   ]
  },
  {
   "attachments": {},
   "cell_type": "markdown",
   "metadata": {
    "dotnet_interactive": {
     "language": "javascript"
    },
    "polyglot_notebook": {
     "kernelName": "javascript"
    }
   },
   "source": [
    "So here is the code for the `Calculator`:"
   ]
  },
  {
   "cell_type": "code",
   "execution_count": null,
   "metadata": {
    "dotnet_interactive": {
     "language": "javascript"
    },
    "polyglot_notebook": {
     "kernelName": "javascript"
    },
    "vscode": {
     "languageId": "polyglot-notebook"
    }
   },
   "outputs": [],
   "source": [
    "class Calculator extends React.Component {\n",
    "  constructor(props) {\n",
    "    super(props);\n",
    "    this.handleCelsiusChange = this.handleCelsiusChange.bind(this);\n",
    "    this.handleFahrenheitChange = this.handleFahrenheitChange.bind(this);\n",
    "    this.state = {temperature: '', scale: 'c'};\n",
    "  }\n",
    "\n",
    "  handleCelsiusChange(temperature) {\n",
    "    this.setState({scale: 'c', temperature});\n",
    "  }\n",
    "\n",
    "  handleFahrenheitChange(temperature) {\n",
    "    this.setState({scale: 'f', temperature});\n",
    "  }\n",
    "\n",
    "  render() {\n",
    "    const scale = this.state.scale;\n",
    "    const temperature = this.state.temperature;\n",
    "    const celsius = scale === 'f' ? tryConvert(temperature, toCelsius) : temperature;\n",
    "    const fahrenheit = scale === 'c' ? tryConvert(temperature, toFahrenheit) : temperature;\n",
    "\n",
    "    return (\n",
    "      <div>\n",
    "        <TemperatureInput\n",
    "          scale=\"c\"\n",
    "          temperature={celsius}\n",
    "          onTemperatureChange={this.handleCelsiusChange} />\n",
    "        <TemperatureInput\n",
    "          scale=\"f\"\n",
    "          temperature={fahrenheit}\n",
    "          onTemperatureChange={this.handleFahrenheitChange} />\n",
    "        <BoilingVerdict\n",
    "          celsius={parseFloat(celsius)} />\n",
    "      </div>\n",
    "    );\n",
    "  }\n",
    "}"
   ]
  },
  {
   "attachments": {},
   "cell_type": "markdown",
   "metadata": {
    "dotnet_interactive": {
     "language": "javascript"
    },
    "polyglot_notebook": {
     "kernelName": "javascript"
    }
   },
   "source": [
    "1. Let's look at the `render()`\n",
    "2. `const scale = this.state.scale;` will change to 'c' or 'f' DEPENDING ON WHICH HANDLER GETS CALLED. So if you type on the top `<TemperatureInput>`, then it will run `this.handleCelsiusChange`, and `const scale = 'c'`. If you type on the bottom, it will run `this.handleFahrenheitChange`, and `const scale ='f'`.\n",
    "3. `const temperature = this.state.temperature;` will be whatever the user typed in the box they are typing in. Because of `this.state.scale`, the `Calculator` also knows which scale the `temperature` is in. This change in value occurs when changed either the top or bottom `<TemperatureInput>`, which runs the handlers.\n",
    "4. `const celsius = scale === 'f' ? try...;` will first check to see if the current scale that is \"selected\" from the handler is 'f'. If it is 'f', it will convert it to celsius by using the `tryConvert` function we created. So then this value will be assigned to `const celsius`. If the current scale that is \"selected\" from the handler is NOT 'f', then that means that there is no need to convert the temperature, so `const celsius = temperature` will run instead.\n",
    "5. `const fahrenheit = scale === 'c' ....` Same as the last step, but flip everything.\n",
    "6. For the first `<TemperatureInput>`, note the props that we are passing. We are passing the correct scale, the correct temperature that is ALREADY converted FOR the component, and also the handler that will run when changing the value of this component.\n",
    "7. The second `<TemperatureInput>` will also act the same as above, but flip."
   ]
  },
  {
   "attachments": {},
   "cell_type": "markdown",
   "metadata": {
    "dotnet_interactive": {
     "language": "javascript"
    },
    "polyglot_notebook": {
     "kernelName": "javascript"
    }
   },
   "source": [
    "Try to get the app working!!"
   ]
  }
 ],
 "metadata": {
  "kernelspec": {
   "display_name": ".NET (C#)",
   "language": "C#",
   "name": ".net-csharp"
  },
  "polyglot_notebook": {
   "kernelInfo": {
    "defaultKernelName": "csharp",
    "items": [
     {
      "aliases": [
       "c#",
       "C#"
      ],
      "languageName": "C#",
      "name": "csharp"
     },
     {
      "aliases": [
       "frontend"
      ],
      "languageName": null,
      "name": "vscode"
     },
     {
      "aliases": [
       "js"
      ],
      "languageName": "JavaScript",
      "name": "javascript"
     },
     {
      "aliases": [],
      "name": ".NET"
     },
     {
      "aliases": [
       "f#",
       "F#"
      ],
      "languageName": "F#",
      "name": "fsharp"
     },
     {
      "aliases": [],
      "languageName": "HTML",
      "name": "html"
     },
     {
      "aliases": [],
      "languageName": "KQL",
      "name": "kql"
     },
     {
      "aliases": [],
      "languageName": "Mermaid",
      "name": "mermaid"
     },
     {
      "aliases": [
       "powershell"
      ],
      "languageName": "PowerShell",
      "name": "pwsh"
     },
     {
      "aliases": [],
      "languageName": "SQL",
      "name": "sql"
     },
     {
      "aliases": [],
      "name": "value"
     },
     {
      "aliases": [],
      "name": "webview"
     }
    ]
   }
  }
 },
 "nbformat": 4,
 "nbformat_minor": 2
}
