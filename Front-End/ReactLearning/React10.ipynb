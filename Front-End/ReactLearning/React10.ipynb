{
 "cells": [
  {
   "attachments": {},
   "cell_type": "markdown",
   "metadata": {
    "dotnet_interactive": {
     "language": "csharp"
    },
    "polyglot_notebook": {
     "kernelName": "csharp"
    }
   },
   "source": [
    "# Hooks"
   ]
  },
  {
   "attachments": {},
   "cell_type": "markdown",
   "metadata": {
    "dotnet_interactive": {
     "language": "csharp"
    },
    "polyglot_notebook": {
     "kernelName": "csharp"
    }
   },
   "source": [
    "Hooks allow you to use state and other React features without writing an ES6 class."
   ]
  },
  {
   "attachments": {},
   "cell_type": "markdown",
   "metadata": {
    "dotnet_interactive": {
     "language": "csharp"
    },
    "polyglot_notebook": {
     "kernelName": "csharp"
    }
   },
   "source": [
    "Here is an example:"
   ]
  },
  {
   "cell_type": "code",
   "execution_count": null,
   "metadata": {
    "dotnet_interactive": {
     "language": "javascript"
    },
    "polyglot_notebook": {
     "kernelName": "javascript"
    },
    "vscode": {
     "languageId": "polyglot-notebook"
    }
   },
   "outputs": [],
   "source": [
    "function Example() {\n",
    "  const [count, setCount] = useState(0);\n",
    "  return (\n",
    "    <div>\n",
    "      <p>You clicked {count} times</p>\n",
    "      <button onClick={() => setCount(count + 1)}>\n",
    "        Click me\n",
    "      </button>\n",
    "    </div>\n",
    "  );\n",
    "}"
   ]
  },
  {
   "attachments": {},
   "cell_type": "markdown",
   "metadata": {
    "dotnet_interactive": {
     "language": "csharp"
    },
    "polyglot_notebook": {
     "kernelName": "csharp"
    }
   },
   "source": [
    "How would you do this using the ES6 class?"
   ]
  },
  {
   "cell_type": "code",
   "execution_count": null,
   "metadata": {
    "dotnet_interactive": {
     "language": "javascript"
    },
    "polyglot_notebook": {
     "kernelName": "javascript"
    },
    "vscode": {
     "languageId": "polyglot-notebook"
    }
   },
   "outputs": [],
   "source": [
    "class Example extend React.Component{\n",
    "    constructor(props){\n",
    "        super(props);\n",
    "        this.state = {count: 0};\n",
    "        this.handler = this.handler.bind(this);\n",
    "    }\n",
    "    handler(e){\n",
    "        this.setState({count: this.state.count + 1});\n",
    "    }\n",
    "    render(){\n",
    "        return(\n",
    "            <div>\n",
    "                <p>You clicked {this.state.count} times</p>\n",
    "                <button onClick={this.handler}>\n",
    "                    Click Me\n",
    "                </button>\n",
    "            </div>\n",
    "        );\n",
    "    }\n",
    "}"
   ]
  },
  {
   "attachments": {},
   "cell_type": "markdown",
   "metadata": {
    "dotnet_interactive": {
     "language": "javascript"
    },
    "polyglot_notebook": {
     "kernelName": "javascript"
    }
   },
   "source": [
    "See how easy it? Let's dive in:"
   ]
  },
  {
   "attachments": {},
   "cell_type": "markdown",
   "metadata": {
    "dotnet_interactive": {
     "language": "javascript"
    },
    "polyglot_notebook": {
     "kernelName": "javascript"
    }
   },
   "source": [
    "## State Hook"
   ]
  },
  {
   "attachments": {},
   "cell_type": "markdown",
   "metadata": {
    "dotnet_interactive": {
     "language": "javascript"
    },
    "polyglot_notebook": {
     "kernelName": "javascript"
    }
   },
   "source": [
    "Lets look back at the example above:"
   ]
  },
  {
   "cell_type": "code",
   "execution_count": null,
   "metadata": {
    "dotnet_interactive": {
     "language": "javascript"
    },
    "polyglot_notebook": {
     "kernelName": "javascript"
    },
    "vscode": {
     "languageId": "polyglot-notebook"
    }
   },
   "outputs": [],
   "source": [
    "function Example() {\n",
    "  const [count, setCount] = useState(0);\n",
    "  return (\n",
    "    <div>\n",
    "      <p>You clicked {count} times</p>\n",
    "      <button onClick={() => setCount(count + 1)}>\n",
    "        Click me\n",
    "      </button>\n",
    "    </div>\n",
    "  );\n",
    "}"
   ]
  },
  {
   "attachments": {},
   "cell_type": "markdown",
   "metadata": {
    "dotnet_interactive": {
     "language": "javascript"
    },
    "polyglot_notebook": {
     "kernelName": "javascript"
    }
   },
   "source": [
    "`useState()` is a ***Hook***. This is called in a function component to add state to it. But `useState()` returns a pair:  \n",
    "1. The CURRENT state value. (In this case, `count`)\n",
    "2. A function that will let you update the state. (In this case, `setCount()`)  \n",
    "You can call the returned function from an event handler, or elsewhere. It's similar to `setState`, BUT it does NOT merge the old and new state together.  "
   ]
  },
  {
   "attachments": {},
   "cell_type": "markdown",
   "metadata": {
    "dotnet_interactive": {
     "language": "javascript"
    },
    "polyglot_notebook": {
     "kernelName": "javascript"
    }
   },
   "source": [
    "The argument in `useState(arg)`,  is the INITIAL state. In this example, the initial state is 0. This state can be any object you want it to be, like string, array, etc. This initial state argument is only used during the first render."
   ]
  },
  {
   "attachments": {},
   "cell_type": "markdown",
   "metadata": {
    "dotnet_interactive": {
     "language": "javascript"
    },
    "polyglot_notebook": {
     "kernelName": "javascript"
    }
   },
   "source": [
    "Here is an example of declaring multiple:"
   ]
  },
  {
   "cell_type": "code",
   "execution_count": null,
   "metadata": {
    "dotnet_interactive": {
     "language": "javascript"
    },
    "polyglot_notebook": {
     "kernelName": "javascript"
    },
    "vscode": {
     "languageId": "polyglot-notebook"
    }
   },
   "outputs": [],
   "source": [
    "function ExampleWithManyStates() {\n",
    "  // Declare multiple state variables!\n",
    "  const [age, setAge] = useState(42);\n",
    "  const [fruit, setFruit] = useState('banana');\n",
    "  const [todos, setTodos] = useState([{ text: 'Learn Hooks' }]);\n",
    "  // ...\n",
    "}"
   ]
  },
  {
   "attachments": {},
   "cell_type": "markdown",
   "metadata": {
    "dotnet_interactive": {
     "language": "javascript"
    },
    "polyglot_notebook": {
     "kernelName": "javascript"
    }
   },
   "source": [
    "Note that the variable values and function values returned from `useState` can be named anything. But for ease of use, it is conventional to use: `[xyz, setXyz]`"
   ]
  },
  {
   "attachments": {},
   "cell_type": "markdown",
   "metadata": {
    "dotnet_interactive": {
     "language": "javascript"
    },
    "polyglot_notebook": {
     "kernelName": "javascript"
    }
   },
   "source": [
    "## Effect Hook"
   ]
  },
  {
   "attachments": {},
   "cell_type": "markdown",
   "metadata": {
    "dotnet_interactive": {
     "language": "javascript"
    },
    "polyglot_notebook": {
     "kernelName": "javascript"
    }
   },
   "source": [
    "The Effect Hook, `useEffect`, lets us perform side effects from a function component. It's like `componentDidMount`, `componentDidUpdate`, and `componentWeillUnmount` in react classes."
   ]
  },
  {
   "attachments": {},
   "cell_type": "markdown",
   "metadata": {
    "dotnet_interactive": {
     "language": "javascript"
    },
    "polyglot_notebook": {
     "kernelName": "javascript"
    }
   },
   "source": [
    "Here is an example that sets the document title after React updates the DOM:"
   ]
  },
  {
   "cell_type": "code",
   "execution_count": null,
   "metadata": {
    "dotnet_interactive": {
     "language": "javascript"
    },
    "polyglot_notebook": {
     "kernelName": "javascript"
    },
    "vscode": {
     "languageId": "polyglot-notebook"
    }
   },
   "outputs": [],
   "source": [
    "import React, { useState, useEffect } from 'react';\n",
    "\n",
    "function Example() {\n",
    "  const [count, setCount] = useState(0);\n",
    "\n",
    "  // Similar to componentDidMount and componentDidUpdate:\n",
    "  useEffect(() => {\n",
    "    // Update the document title using the browser API\n",
    "    document.title = `You clicked ${count} times`;\n",
    "  });\n",
    "\n",
    "  return (\n",
    "    <div>\n",
    "      <p>You clicked {count} times</p>\n",
    "      <button onClick={() => setCount(count + 1)}>\n",
    "        Click me\n",
    "      </button>\n",
    "    </div>\n",
    "  );\n",
    "}"
   ]
  },
  {
   "attachments": {},
   "cell_type": "markdown",
   "metadata": {
    "dotnet_interactive": {
     "language": "javascript"
    },
    "polyglot_notebook": {
     "kernelName": "javascript"
    }
   },
   "source": [
    "Wehn using `useEffect`, the \"effect\" function runs after \"flushing\" changes to the DOM. So React runs the effects after every render, the first render included."
   ]
  },
  {
   "attachments": {},
   "cell_type": "markdown",
   "metadata": {
    "dotnet_interactive": {
     "language": "javascript"
    },
    "polyglot_notebook": {
     "kernelName": "javascript"
    }
   },
   "source": [
    "You can optionally specify how to \"clean up\" afterwards by returning a function. Here is an example:"
   ]
  },
  {
   "cell_type": "code",
   "execution_count": null,
   "metadata": {
    "dotnet_interactive": {
     "language": "javascript"
    },
    "polyglot_notebook": {
     "kernelName": "javascript"
    },
    "vscode": {
     "languageId": "polyglot-notebook"
    }
   },
   "outputs": [],
   "source": [
    "import React, { useState, useEffect } from 'react';\n",
    "\n",
    "function FriendStatus(props) {\n",
    "  const [isOnline, setIsOnline] = useState(null);\n",
    "\n",
    "  function handleStatusChange(status) {\n",
    "    setIsOnline(status.isOnline);\n",
    "  }\n",
    "\n",
    "  useEffect(() => {\n",
    "    ChatAPI.subscribeToFriendStatus(props.friend.id, handleStatusChange);\n",
    "    return () => {\n",
    "      ChatAPI.unsubscribeFromFriendStatus(props.friend.id, handleStatusChange);\n",
    "    };\n",
    "  });\n",
    "\n",
    "  if (isOnline === null) {\n",
    "    return 'Loading...';\n",
    "  }\n",
    "  return isOnline ? 'Online' : 'Offline';\n",
    "}"
   ]
  },
  {
   "attachments": {},
   "cell_type": "markdown",
   "metadata": {
    "dotnet_interactive": {
     "language": "javascript"
    },
    "polyglot_notebook": {
     "kernelName": "javascript"
    }
   },
   "source": [
    "Try to understand what this does"
   ]
  },
  {
   "attachments": {},
   "cell_type": "markdown",
   "metadata": {
    "dotnet_interactive": {
     "language": "javascript"
    },
    "polyglot_notebook": {
     "kernelName": "javascript"
    }
   },
   "source": [
    "## Rules of Hooks"
   ]
  },
  {
   "attachments": {},
   "cell_type": "markdown",
   "metadata": {
    "dotnet_interactive": {
     "language": "javascript"
    },
    "polyglot_notebook": {
     "kernelName": "javascript"
    }
   },
   "source": [
    "Hooks are JS functions, but impose two additional rules:\n",
    "* Only call Hooks at top level. Don't call Hooks inside loops, conditions, or nested functions.\n",
    "* Only call Hooks from React function components. Don't call Hooks from regular JavaScript functions.  \n"
   ]
  },
  {
   "attachments": {},
   "cell_type": "markdown",
   "metadata": {
    "dotnet_interactive": {
     "language": "javascript"
    },
    "polyglot_notebook": {
     "kernelName": "javascript"
    }
   },
   "source": [
    "But you can also place hooks in custom Hooks."
   ]
  },
  {
   "attachments": {},
   "cell_type": "markdown",
   "metadata": {
    "dotnet_interactive": {
     "language": "javascript"
    },
    "polyglot_notebook": {
     "kernelName": "javascript"
    }
   },
   "source": [
    "## Building Your Own Hooks"
   ]
  },
  {
   "attachments": {},
   "cell_type": "markdown",
   "metadata": {
    "dotnet_interactive": {
     "language": "javascript"
    },
    "polyglot_notebook": {
     "kernelName": "javascript"
    }
   },
   "source": [
    "Sometimes you want to reuse some stateful logic between components. You would normaly use ***higher-order components*** and ***render props***. (We may not have used these yet, we will later). But now we can use custom Hooks to let us do this, but without adding more components to the \"tree\"."
   ]
  },
  {
   "attachments": {},
   "cell_type": "markdown",
   "metadata": {
    "dotnet_interactive": {
     "language": "javascript"
    },
    "polyglot_notebook": {
     "kernelName": "javascript"
    }
   },
   "source": [
    "Let's say we want to resuse the `FriendStatus` component's logic into another component. Let's try it by using a custom Hook:"
   ]
  },
  {
   "cell_type": "code",
   "execution_count": null,
   "metadata": {
    "dotnet_interactive": {
     "language": "javascript"
    },
    "polyglot_notebook": {
     "kernelName": "javascript"
    },
    "vscode": {
     "languageId": "polyglot-notebook"
    }
   },
   "outputs": [],
   "source": [
    "import React, { useState, useEffect } from 'react';\n",
    "\n",
    "function useFriendStatus(friendID) {\n",
    "  const [isOnline, setIsOnline] = useState(null);\n",
    "\n",
    "  function handleStatusChange(status) {\n",
    "    setIsOnline(status.isOnline);\n",
    "  }\n",
    "\n",
    "  useEffect(() => {\n",
    "    ChatAPI.subscribeToFriendStatus(friendID, handleStatusChange);\n",
    "    return () => {\n",
    "      ChatAPI.unsubscribeFromFriendStatus(friendID, handleStatusChange);\n",
    "    };\n",
    "  });\n",
    "\n",
    "  return isOnline;\n",
    "}"
   ]
  },
  {
   "attachments": {},
   "cell_type": "markdown",
   "metadata": {
    "dotnet_interactive": {
     "language": "javascript"
    },
    "polyglot_notebook": {
     "kernelName": "javascript"
    }
   },
   "source": [
    "This looks almost identical to the one above. But notice how we pass in `friendID` rather than `props`. But now we can use it in multiple components:"
   ]
  },
  {
   "cell_type": "code",
   "execution_count": null,
   "metadata": {
    "dotnet_interactive": {
     "language": "javascript"
    },
    "polyglot_notebook": {
     "kernelName": "javascript"
    },
    "vscode": {
     "languageId": "polyglot-notebook"
    }
   },
   "outputs": [],
   "source": [
    "function FriendStatus(props) {\n",
    "  const isOnline = useFriendStatus(props.friend.id);\n",
    "\n",
    "  if (isOnline === null) {\n",
    "    return 'Loading...';\n",
    "  }\n",
    "  return isOnline ? 'Online' : 'Offline';\n",
    "}"
   ]
  },
  {
   "cell_type": "code",
   "execution_count": null,
   "metadata": {
    "dotnet_interactive": {
     "language": "javascript"
    },
    "polyglot_notebook": {
     "kernelName": "javascript"
    },
    "vscode": {
     "languageId": "polyglot-notebook"
    }
   },
   "outputs": [],
   "source": [
    "function FriendListItem(props) {\n",
    "  const isOnline = useFriendStatus(props.friend.id);\n",
    "\n",
    "  return (\n",
    "    <li style={{ color: isOnline ? 'green' : 'black' }}>\n",
    "      {props.friend.name}\n",
    "    </li>\n",
    "  );\n",
    "}"
   ]
  },
  {
   "attachments": {},
   "cell_type": "markdown",
   "metadata": {
    "dotnet_interactive": {
     "language": "javascript"
    },
    "polyglot_notebook": {
     "kernelName": "javascript"
    }
   },
   "source": [
    "But every single call to a Hook has an isolated state. So we can use the same custom Hook twice in one component. By convention, if a function's name starts with `\"use\"`, and calls other Hooks, then it is labeled a custom Hook."
   ]
  },
  {
   "attachments": {},
   "cell_type": "markdown",
   "metadata": {
    "dotnet_interactive": {
     "language": "javascript"
    },
    "polyglot_notebook": {
     "kernelName": "javascript"
    }
   },
   "source": [
    "## Other Hooks"
   ]
  },
  {
   "attachments": {},
   "cell_type": "markdown",
   "metadata": {
    "dotnet_interactive": {
     "language": "javascript"
    },
    "polyglot_notebook": {
     "kernelName": "javascript"
    }
   },
   "source": [
    "There are other not commonly used built-in Hooks like:"
   ]
  },
  {
   "attachments": {},
   "cell_type": "markdown",
   "metadata": {
    "dotnet_interactive": {
     "language": "javascript"
    },
    "polyglot_notebook": {
     "kernelName": "javascript"
    }
   },
   "source": [
    "### `useContext`"
   ]
  },
  {
   "attachments": {},
   "cell_type": "markdown",
   "metadata": {
    "dotnet_interactive": {
     "language": "javascript"
    },
    "polyglot_notebook": {
     "kernelName": "javascript"
    }
   },
   "source": [
    "This lets you subscribe to React context without introducing nesting:"
   ]
  },
  {
   "cell_type": "code",
   "execution_count": null,
   "metadata": {
    "dotnet_interactive": {
     "language": "javascript"
    },
    "polyglot_notebook": {
     "kernelName": "javascript"
    },
    "vscode": {
     "languageId": "polyglot-notebook"
    }
   },
   "outputs": [],
   "source": [
    "function Example() {\n",
    "  const locale = useContext(LocaleContext);\n",
    "  const theme = useContext(ThemeContext);\n",
    "  // ...\n",
    "}"
   ]
  },
  {
   "attachments": {},
   "cell_type": "markdown",
   "metadata": {
    "dotnet_interactive": {
     "language": "javascript"
    },
    "polyglot_notebook": {
     "kernelName": "javascript"
    }
   },
   "source": [
    "### useReducer"
   ]
  },
  {
   "attachments": {},
   "cell_type": "markdown",
   "metadata": {
    "dotnet_interactive": {
     "language": "javascript"
    },
    "polyglot_notebook": {
     "kernelName": "javascript"
    }
   },
   "source": [
    "Lets you manage local state of complex components with a reducer:"
   ]
  },
  {
   "cell_type": "code",
   "execution_count": null,
   "metadata": {
    "dotnet_interactive": {
     "language": "javascript"
    },
    "polyglot_notebook": {
     "kernelName": "javascript"
    },
    "vscode": {
     "languageId": "polyglot-notebook"
    }
   },
   "outputs": [],
   "source": [
    "function Todos() {\n",
    "  const [todos, dispatch] = useReducer(todosReducer);\n",
    "  // ..."
   ]
  }
 ],
 "metadata": {
  "kernelspec": {
   "display_name": ".NET (C#)",
   "language": "C#",
   "name": ".net-csharp"
  },
  "polyglot_notebook": {
   "kernelInfo": {
    "defaultKernelName": "csharp",
    "items": [
     {
      "aliases": [
       "c#",
       "C#"
      ],
      "languageName": "C#",
      "name": "csharp"
     },
     {
      "aliases": [],
      "name": ".NET"
     },
     {
      "aliases": [
       "frontend"
      ],
      "name": "vscode"
     },
     {
      "aliases": [
       "f#",
       "F#"
      ],
      "languageName": "F#",
      "name": "fsharp"
     },
     {
      "aliases": [],
      "languageName": "HTML",
      "name": "html"
     },
     {
      "aliases": [
       "js"
      ],
      "languageName": null,
      "name": "javascript"
     },
     {
      "aliases": [],
      "languageName": "KQL",
      "name": "kql"
     },
     {
      "aliases": [],
      "languageName": "Mermaid",
      "name": "mermaid"
     },
     {
      "aliases": [
       "powershell"
      ],
      "languageName": "PowerShell",
      "name": "pwsh"
     },
     {
      "aliases": [],
      "languageName": "SQL",
      "name": "sql"
     },
     {
      "aliases": [],
      "name": "value"
     },
     {
      "aliases": [],
      "languageName": null,
      "name": "webview"
     }
    ]
   }
  }
 },
 "nbformat": 4,
 "nbformat_minor": 2
}
