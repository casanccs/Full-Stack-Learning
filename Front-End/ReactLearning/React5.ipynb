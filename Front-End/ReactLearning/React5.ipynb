{
 "cells": [
  {
   "attachments": {},
   "cell_type": "markdown",
   "metadata": {
    "dotnet_interactive": {
     "language": "csharp"
    },
    "polyglot_notebook": {
     "kernelName": "csharp"
    }
   },
   "source": [
    "# Lists and Keys"
   ]
  },
  {
   "cell_type": "code",
   "execution_count": 1,
   "metadata": {
    "dotnet_interactive": {
     "language": "javascript"
    },
    "polyglot_notebook": {
     "kernelName": "javascript"
    },
    "vscode": {
     "languageId": "polyglot-notebook"
    }
   },
   "outputs": [
    {
     "data": {
      "application/vnd.code.notebook.error": {
       "message": "o.endsWith is not a function",
       "name": "TypeError",
       "stack": "TypeError: o.endsWith is not a function\n\tat c (c:\\Users\\zirol\\AppData\\Local\\Programs\\Microsoft VS Code\\resources\\app\\extensions\\ipynb\\dist\\ipynbMain.js:1:142762)\n\tat i (c:\\Users\\zirol\\AppData\\Local\\Programs\\Microsoft VS Code\\resources\\app\\extensions\\ipynb\\dist\\ipynbMain.js:1:143412)\n\tat l (c:\\Users\\zirol\\AppData\\Local\\Programs\\Microsoft VS Code\\resources\\app\\extensions\\ipynb\\dist\\ipynbMain.js:1:144220)\n\tat h (c:\\Users\\zirol\\AppData\\Local\\Programs\\Microsoft VS Code\\resources\\app\\extensions\\ipynb\\dist\\ipynbMain.js:1:144970)\n\tat Array.map (<anonymous>)\n\tat c:\\Users\\zirol\\AppData\\Local\\Programs\\Microsoft VS Code\\resources\\app\\extensions\\ipynb\\dist\\ipynbMain.js:1:146138\n\tat c:\\Users\\zirol\\AppData\\Local\\Programs\\Microsoft VS Code\\resources\\app\\extensions\\ipynb\\dist\\ipynbMain.js:1:146455\n\tat c:\\Users\\zirol\\AppData\\Local\\Programs\\Microsoft VS Code\\resources\\app\\extensions\\ipynb\\dist\\ipynbMain.js:1:146462\n\tat Array.map (<anonymous>)\n\tat e.jupyterNotebookModelToNotebookData (c:\\Users\\zirol\\AppData\\Local\\Programs\\Microsoft VS Code\\resources\\app\\extensions\\ipynb\\dist\\ipynbMain.js:1:145714)\n\tat e.NotebookSerializer.deserializeNotebook (c:\\Users\\zirol\\AppData\\Local\\Programs\\Microsoft VS Code\\resources\\app\\extensions\\ipynb\\dist\\ipynbMain.js:1:155236)\n\tat f.$dataToNotebook (c:\\Users\\zirol\\AppData\\Local\\Programs\\Microsoft VS Code\\resources\\app\\out\\vs\\workbench\\api\\node\\extensionHostProcess.js:96:81534)\n\tat u.N (c:\\Users\\zirol\\AppData\\Local\\Programs\\Microsoft VS Code\\resources\\app\\out\\vs\\workbench\\api\\node\\extensionHostProcess.js:104:11208)\n\tat u.M (c:\\Users\\zirol\\AppData\\Local\\Programs\\Microsoft VS Code\\resources\\app\\out\\vs\\workbench\\api\\node\\extensionHostProcess.js:104:10926)\n\tat u.H (c:\\Users\\zirol\\AppData\\Local\\Programs\\Microsoft VS Code\\resources\\app\\out\\vs\\workbench\\api\\node\\extensionHostProcess.js:104:9981)\n\tat u.G (c:\\Users\\zirol\\AppData\\Local\\Programs\\Microsoft VS Code\\resources\\app\\out\\vs\\workbench\\api\\node\\extensionHostProcess.js:104:9157)\n\tat c:\\Users\\zirol\\AppData\\Local\\Programs\\Microsoft VS Code\\resources\\app\\out\\vs\\workbench\\api\\node\\extensionHostProcess.js:104:7788\n\tat d.invoke (c:\\Users\\zirol\\AppData\\Local\\Programs\\Microsoft VS Code\\resources\\app\\out\\vs\\workbench\\api\\node\\extensionHostProcess.js:63:145)\n\tat w.deliver (c:\\Users\\zirol\\AppData\\Local\\Programs\\Microsoft VS Code\\resources\\app\\out\\vs\\workbench\\api\\node\\extensionHostProcess.js:63:2029)\n\tat g.fire (c:\\Users\\zirol\\AppData\\Local\\Programs\\Microsoft VS Code\\resources\\app\\out\\vs\\workbench\\api\\node\\extensionHostProcess.js:63:1667)\n\tat h.fire (c:\\Users\\zirol\\AppData\\Local\\Programs\\Microsoft VS Code\\resources\\app\\out\\vs\\workbench\\api\\node\\extensionHostProcess.js:72:14314)\n\tat c:\\Users\\zirol\\AppData\\Local\\Programs\\Microsoft VS Code\\resources\\app\\out\\vs\\workbench\\api\\node\\extensionHostProcess.js:120:15804\n\tat d.invoke (c:\\Users\\zirol\\AppData\\Local\\Programs\\Microsoft VS Code\\resources\\app\\out\\vs\\workbench\\api\\node\\extensionHostProcess.js:63:145)\n\tat w.deliver (c:\\Users\\zirol\\AppData\\Local\\Programs\\Microsoft VS Code\\resources\\app\\out\\vs\\workbench\\api\\node\\extensionHostProcess.js:63:2029)\n\tat g.fire (c:\\Users\\zirol\\AppData\\Local\\Programs\\Microsoft VS Code\\resources\\app\\out\\vs\\workbench\\api\\node\\extensionHostProcess.js:63:1667)\n\tat h.fire (c:\\Users\\zirol\\AppData\\Local\\Programs\\Microsoft VS Code\\resources\\app\\out\\vs\\workbench\\api\\node\\extensionHostProcess.js:72:14314)\n\tat c.y (c:\\Users\\zirol\\AppData\\Local\\Programs\\Microsoft VS Code\\resources\\app\\out\\vs\\workbench\\api\\node\\extensionHostProcess.js:72:17324)\n\tat c:\\Users\\zirol\\AppData\\Local\\Programs\\Microsoft VS Code\\resources\\app\\out\\vs\\workbench\\api\\node\\extensionHostProcess.js:72:15795\n\tat d.invoke (c:\\Users\\zirol\\AppData\\Local\\Programs\\Microsoft VS Code\\resources\\app\\out\\vs\\workbench\\api\\node\\extensionHostProcess.js:63:145)\n\tat w.deliver (c:\\Users\\zirol\\AppData\\Local\\Programs\\Microsoft VS Code\\resources\\app\\out\\vs\\workbench\\api\\node\\extensionHostProcess.js:63:2029)\n\tat g.fire (c:\\Users\\zirol\\AppData\\Local\\Programs\\Microsoft VS Code\\resources\\app\\out\\vs\\workbench\\api\\node\\extensionHostProcess.js:63:1667)\n\tat g.acceptChunk (c:\\Users\\zirol\\AppData\\Local\\Programs\\Microsoft VS Code\\resources\\app\\out\\vs\\workbench\\api\\node\\extensionHostProcess.js:72:12045)\n\tat c:\\Users\\zirol\\AppData\\Local\\Programs\\Microsoft VS Code\\resources\\app\\out\\vs\\workbench\\api\\node\\extensionHostProcess.js:72:11332\n\tat Socket.l (c:\\Users\\zirol\\AppData\\Local\\Programs\\Microsoft VS Code\\resources\\app\\out\\vs\\workbench\\api\\node\\extensionHostProcess.js:72:19792)\n\tat Socket.emit (node:events:526:28)\n\tat addChunk (node:internal/streams/readable:315:12)\n\tat readableAddChunk (node:internal/streams/readable:289:9)\n\tat Readable.push (node:internal/streams/readable:228:10)\n\tat Pipe.onStreamRead (node:internal/stream_base_commons:190:23)"
      }
     },
     "metadata": {},
     "output_type": "display_data"
    }
   ],
   "source": [
    "const numbers = [1, 2, 3, 4, 5];\n",
    "const doubled = numbers.map((number) => number * 2);\n",
    "console.log(doubled);"
   ]
  },
  {
   "attachments": {},
   "cell_type": "markdown",
   "metadata": {
    "dotnet_interactive": {
     "language": "javascript"
    },
    "polyglot_notebook": {
     "kernelName": "javascript"
    }
   },
   "source": [
    "We learned how to use the `.map` method for arrays. We can also use this same thing to render multiple components:"
   ]
  },
  {
   "cell_type": "code",
   "execution_count": null,
   "metadata": {
    "dotnet_interactive": {
     "language": "javascript"
    },
    "polyglot_notebook": {
     "kernelName": "javascript"
    },
    "vscode": {
     "languageId": "polyglot-notebook"
    }
   },
   "outputs": [],
   "source": [
    "const numbers = [1, 2, 3, 4, 5];\n",
    "const listItems = numbers.map((number) =>\n",
    "  <li>{number}</li>\n",
    ");"
   ]
  },
  {
   "cell_type": "code",
   "execution_count": null,
   "metadata": {
    "dotnet_interactive": {
     "language": "javascript"
    },
    "polyglot_notebook": {
     "kernelName": "javascript"
    },
    "vscode": {
     "languageId": "polyglot-notebook"
    }
   },
   "outputs": [],
   "source": [
    "<ul>{listItems}</ul>"
   ]
  },
  {
   "attachments": {},
   "cell_type": "markdown",
   "metadata": {
    "dotnet_interactive": {
     "language": "javascript"
    },
    "polyglot_notebook": {
     "kernelName": "javascript"
    }
   },
   "source": [
    "Here is the full code while using a component:"
   ]
  },
  {
   "cell_type": "code",
   "execution_count": null,
   "metadata": {
    "dotnet_interactive": {
     "language": "javascript"
    },
    "polyglot_notebook": {
     "kernelName": "javascript"
    },
    "vscode": {
     "languageId": "polyglot-notebook"
    }
   },
   "outputs": [],
   "source": [
    "function NumberList(props) {\n",
    "  const numbers = props.numbers;\n",
    "  const listItems = numbers.map((number) => <li>{number}</li> );\n",
    "  return ( <ul>{listItems}</ul> );\n",
    "}\n",
    "\n",
    "const numbers = [1, 2, 3, 4, 5];\n",
    "const root = ReactDOM.createRoot(document.getElementById('root'));\n",
    "root.render(<NumberList numbers={numbers} />);"
   ]
  },
  {
   "attachments": {},
   "cell_type": "markdown",
   "metadata": {
    "dotnet_interactive": {
     "language": "javascript"
    },
    "polyglot_notebook": {
     "kernelName": "javascript"
    }
   },
   "source": [
    "Think about how difficult would this be in pure JavaScript?"
   ]
  },
  {
   "cell_type": "code",
   "execution_count": null,
   "metadata": {
    "dotnet_interactive": {
     "language": "html"
    },
    "polyglot_notebook": {
     "kernelName": "html"
    },
    "vscode": {
     "languageId": "polyglot-notebook"
    }
   },
   "outputs": [],
   "source": [
    "<body>\n",
    "    <ul></ul>\n",
    "    <script>\n",
    "        const numbers = [1,2,3,4,5]\n",
    "        const ul = document.querySelector('ul');\n",
    "        let p;\n",
    "        for (let i = 0; i < numbers.length; i++){\n",
    "            li = document.createElement('li');\n",
    "            li.textContent = numbers[i]\n",
    "            ul.appendChild(li);\n",
    "        }\n",
    "    </script>\n",
    "</body>"
   ]
  },
  {
   "attachments": {},
   "cell_type": "markdown",
   "metadata": {
    "dotnet_interactive": {
     "language": "html"
    },
    "polyglot_notebook": {
     "kernelName": "html"
    }
   },
   "source": [
    "Notice how we have to do everything \"manually\" here."
   ]
  },
  {
   "attachments": {},
   "cell_type": "markdown",
   "metadata": {
    "dotnet_interactive": {
     "language": "html"
    },
    "polyglot_notebook": {
     "kernelName": "html"
    }
   },
   "source": [
    "## Keys"
   ]
  },
  {
   "attachments": {},
   "cell_type": "markdown",
   "metadata": {
    "dotnet_interactive": {
     "language": "html"
    },
    "polyglot_notebook": {
     "kernelName": "html"
    }
   },
   "source": [
    "When running the React code, there is a warning that a key should be provided for list items (`<li>` items). A \"key\" is a special string attribute we need to include when creating lists of elements. So let's do that:"
   ]
  },
  {
   "cell_type": "code",
   "execution_count": null,
   "metadata": {
    "dotnet_interactive": {
     "language": "javascript"
    },
    "polyglot_notebook": {
     "kernelName": "javascript"
    },
    "vscode": {
     "languageId": "polyglot-notebook"
    }
   },
   "outputs": [],
   "source": [
    "function NumberList(props) {\n",
    "  const numbers = props.numbers;\n",
    "  const listItems = numbers.map((number) =>\n",
    "    <li key={number.toString()}>\n",
    "      {number}\n",
    "    </li>\n",
    "  );\n",
    "  return (\n",
    "    <ul>{listItems}</ul>\n",
    "  );\n",
    "}"
   ]
  },
  {
   "attachments": {},
   "cell_type": "markdown",
   "metadata": {
    "dotnet_interactive": {
     "language": "javascript"
    },
    "polyglot_notebook": {
     "kernelName": "javascript"
    }
   },
   "source": [
    "This does the same thing as before, but the code: `key={number.toString()}` will give each list element a UNIQUE key. Note, that in this instance, it assumes the `numbers` list has no repeated numbers. If there are repeated instances, you can use two methods to circumvent this:"
   ]
  },
  {
   "cell_type": "code",
   "execution_count": null,
   "metadata": {
    "dotnet_interactive": {
     "language": "javascript"
    },
    "polyglot_notebook": {
     "kernelName": "javascript"
    },
    "vscode": {
     "languageId": "polyglot-notebook"
    }
   },
   "outputs": [],
   "source": [
    "const todoItems = todos.map((todo) =>\n",
    "  <li key={todo.id}>\n",
    "    {todo.text}\n",
    "  </li>\n",
    ");"
   ]
  },
  {
   "attachments": {},
   "cell_type": "markdown",
   "metadata": {
    "dotnet_interactive": {
     "language": "javascript"
    },
    "polyglot_notebook": {
     "kernelName": "javascript"
    }
   },
   "source": [
    "In the example above, we use the \"id\"s from the data as keys."
   ]
  },
  {
   "attachments": {},
   "cell_type": "markdown",
   "metadata": {
    "dotnet_interactive": {
     "language": "javascript"
    },
    "polyglot_notebook": {
     "kernelName": "javascript"
    }
   },
   "source": [
    "If there are no \"id\"s, we can use the item index as a key as last resort:"
   ]
  },
  {
   "cell_type": "code",
   "execution_count": null,
   "metadata": {
    "dotnet_interactive": {
     "language": "javascript"
    },
    "polyglot_notebook": {
     "kernelName": "javascript"
    },
    "vscode": {
     "languageId": "polyglot-notebook"
    }
   },
   "outputs": [],
   "source": [
    "const todoItems = todos.map((todo, index) =>\n",
    "  // Only do this if items have no stable IDs\n",
    "  <li key={index}>\n",
    "    {todo.text}\n",
    "  </li>\n",
    ");"
   ]
  },
  {
   "attachments": {},
   "cell_type": "markdown",
   "metadata": {
    "dotnet_interactive": {
     "language": "javascript"
    },
    "polyglot_notebook": {
     "kernelName": "javascript"
    }
   },
   "source": [
    "Where the second parameter for the arrow function is the index of the element: `todo`."
   ]
  },
  {
   "attachments": {},
   "cell_type": "markdown",
   "metadata": {
    "dotnet_interactive": {
     "language": "javascript"
    },
    "polyglot_notebook": {
     "kernelName": "javascript"
    }
   },
   "source": [
    "If item order changes, it isn't recommended to use indexes. If there are no explicit key to list items, it will choose indices as keys by default."
   ]
  },
  {
   "attachments": {},
   "cell_type": "markdown",
   "metadata": {
    "dotnet_interactive": {
     "language": "javascript"
    },
    "polyglot_notebook": {
     "kernelName": "javascript"
    }
   },
   "source": [
    "But using keys only makes sense in the \"surrounding array\". Here is a bad example vs good example:"
   ]
  },
  {
   "attachments": {},
   "cell_type": "markdown",
   "metadata": {
    "dotnet_interactive": {
     "language": "javascript"
    },
    "polyglot_notebook": {
     "kernelName": "javascript"
    }
   },
   "source": [
    "#### Bad key usage:"
   ]
  },
  {
   "cell_type": "code",
   "execution_count": null,
   "metadata": {
    "dotnet_interactive": {
     "language": "javascript"
    },
    "polyglot_notebook": {
     "kernelName": "javascript"
    },
    "vscode": {
     "languageId": "polyglot-notebook"
    }
   },
   "outputs": [],
   "source": [
    "function ListItem(props) {\n",
    "  const value = props.value;\n",
    "  return (\n",
    "    // Wrong! There is no need to specify the key here:\n",
    "    <li key={value.toString()}>\n",
    "      {value}\n",
    "    </li>\n",
    "  );\n",
    "}\n",
    "\n",
    "function NumberList(props) {\n",
    "  const numbers = props.numbers;\n",
    "  const listItems = numbers.map((number) =>\n",
    "    // Wrong! The key should have been specified here:\n",
    "    <ListItem value={number} />\n",
    "  );\n",
    "  return (\n",
    "    <ul>\n",
    "      {listItems}\n",
    "    </ul>\n",
    "  );\n",
    "}"
   ]
  },
  {
   "attachments": {},
   "cell_type": "markdown",
   "metadata": {
    "dotnet_interactive": {
     "language": "javascript"
    },
    "polyglot_notebook": {
     "kernelName": "javascript"
    }
   },
   "source": [
    "The `<li>` container component, `NumberList`, contains all of the `<ListItem>`s. It also assigns a prop of `value={number}` in the container, but you should ALSO specify the `key={number.toString()}` as well, instead of doing so in the `ListItem` component definition. For example:"
   ]
  },
  {
   "cell_type": "code",
   "execution_count": null,
   "metadata": {
    "dotnet_interactive": {
     "language": "javascript"
    },
    "polyglot_notebook": {
     "kernelName": "javascript"
    },
    "vscode": {
     "languageId": "polyglot-notebook"
    }
   },
   "outputs": [],
   "source": [
    "function ListItem(props) {\n",
    "  // Correct! There is no need to specify the key here:\n",
    "  return <li>{props.value}</li>;\n",
    "}\n",
    "\n",
    "function NumberList(props) {\n",
    "  const numbers = props.numbers;\n",
    "  const listItems = numbers.map((number) =>\n",
    "    // Correct! Key should be specified inside the array.\n",
    "    <ListItem key={number.toString()} value={number} />\n",
    "  );\n",
    "  return (\n",
    "    <ul>\n",
    "      {listItems}\n",
    "    </ul>\n",
    "  );\n",
    "}"
   ]
  },
  {
   "attachments": {},
   "cell_type": "markdown",
   "metadata": {
    "dotnet_interactive": {
     "language": "javascript"
    },
    "polyglot_notebook": {
     "kernelName": "javascript"
    }
   },
   "source": [
    "Notice how we had to pass in `key` AND `value`."
   ]
  },
  {
   "attachments": {},
   "cell_type": "markdown",
   "metadata": {
    "dotnet_interactive": {
     "language": "javascript"
    },
    "polyglot_notebook": {
     "kernelName": "javascript"
    }
   },
   "source": [
    "NOTE: Elements INSIDE the `map()` call need keys."
   ]
  },
  {
   "attachments": {},
   "cell_type": "markdown",
   "metadata": {
    "dotnet_interactive": {
     "language": "javascript"
    },
    "polyglot_notebook": {
     "kernelName": "javascript"
    }
   },
   "source": [
    "Keys should be unique among SIBLINGS, but do not need to be unique GLOBALLY. We can use the same keys in two different arrays:"
   ]
  },
  {
   "cell_type": "code",
   "execution_count": null,
   "metadata": {
    "dotnet_interactive": {
     "language": "javascript"
    },
    "polyglot_notebook": {
     "kernelName": "javascript"
    },
    "vscode": {
     "languageId": "polyglot-notebook"
    }
   },
   "outputs": [],
   "source": [
    "function Blog(props) {\n",
    "  const sidebar = (\n",
    "    <ul>\n",
    "      {props.posts.map((post) =>\n",
    "        <li key={post.id}>\n",
    "          {post.title}\n",
    "        </li>\n",
    "      )}\n",
    "    </ul>\n",
    "  );\n",
    "  const content = props.posts.map((post) =>\n",
    "    <div key={post.id}>\n",
    "      <h3>{post.title}</h3>\n",
    "      <p>{post.content}</p>\n",
    "    </div>\n",
    "  );\n",
    "  return (\n",
    "    <div>\n",
    "      {sidebar}\n",
    "      <hr />\n",
    "      {content}\n",
    "    </div>\n",
    "  );\n",
    "}\n",
    "\n",
    "const posts = [\n",
    "  {id: 1, title: 'Hello World', content: 'Welcome to learning React!'},\n",
    "  {id: 2, title: 'Installation', content: 'You can install React from npm.'}\n",
    "];\n",
    "\n",
    "const root = ReactDOM.createRoot(document.getElementById('root'));\n",
    "root.render(<Blog posts={posts} />);"
   ]
  },
  {
   "attachments": {},
   "cell_type": "markdown",
   "metadata": {
    "dotnet_interactive": {
     "language": "javascript"
    },
    "polyglot_notebook": {
     "kernelName": "javascript"
    }
   },
   "source": [
    "We pass in prop:`posts={posts}`, where `posts` is an array that contains two \"objects\". Notice in the `Blog` component, we have two different \"arrays\". `<li key={post.id}>` and `<div key={post.id}>` are both in `Blog`, but are in different \"arrays\", so they are not siblings, but have the same keys."
   ]
  },
  {
   "attachments": {},
   "cell_type": "markdown",
   "metadata": {
    "dotnet_interactive": {
     "language": "javascript"
    },
    "polyglot_notebook": {
     "kernelName": "javascript"
    }
   },
   "source": [
    "You can also embed `map()` in JSX. Here is an example of it with embedding and no embedding:"
   ]
  },
  {
   "cell_type": "code",
   "execution_count": null,
   "metadata": {
    "dotnet_interactive": {
     "language": "javascript"
    },
    "polyglot_notebook": {
     "kernelName": "javascript"
    },
    "vscode": {
     "languageId": "polyglot-notebook"
    }
   },
   "outputs": [],
   "source": [
    "function NumberList(props) {\n",
    "  const numbers = props.numbers;\n",
    "  const listItems = numbers.map((number) =>\n",
    "    <ListItem key={number.toString()}\n",
    "              value={number} />\n",
    "  );\n",
    "  return (\n",
    "    <ul>\n",
    "      {listItems}\n",
    "    </ul>\n",
    "  );\n",
    "}"
   ]
  },
  {
   "cell_type": "code",
   "execution_count": null,
   "metadata": {
    "dotnet_interactive": {
     "language": "javascript"
    },
    "polyglot_notebook": {
     "kernelName": "javascript"
    },
    "vscode": {
     "languageId": "polyglot-notebook"
    }
   },
   "outputs": [],
   "source": [
    "function NumberList(props) {\n",
    "  const numbers = props.numbers;\n",
    "  return (\n",
    "    <ul>\n",
    "      {numbers.map((number) =>\n",
    "        <ListItem key={number.toString()}\n",
    "                  value={number} />\n",
    "      )}\n",
    "    </ul>\n",
    "  );\n",
    "}"
   ]
  }
 ],
 "metadata": {
  "kernelspec": {
   "display_name": ".NET (C#)",
   "language": "C#",
   "name": ".net-csharp"
  },
  "polyglot_notebook": {
   "kernelInfo": {
    "defaultKernelName": "csharp",
    "items": [
     {
      "aliases": [
       "c#",
       "C#"
      ],
      "languageName": "C#",
      "name": "csharp"
     },
     {
      "aliases": [
       "frontend"
      ],
      "name": "vscode"
     },
     {
      "aliases": [
       "js"
      ],
      "languageName": "JavaScript",
      "name": "javascript"
     },
     {
      "aliases": [],
      "name": ".NET"
     },
     {
      "aliases": [
       "f#",
       "F#"
      ],
      "languageName": "F#",
      "name": "fsharp"
     },
     {
      "aliases": [],
      "languageName": "HTML",
      "name": "html"
     },
     {
      "aliases": [],
      "languageName": "KQL",
      "name": "kql"
     },
     {
      "aliases": [],
      "languageName": "Mermaid",
      "name": "mermaid"
     },
     {
      "aliases": [
       "powershell"
      ],
      "languageName": "PowerShell",
      "name": "pwsh"
     },
     {
      "aliases": [],
      "languageName": "SQL",
      "name": "sql"
     },
     {
      "aliases": [],
      "name": "value"
     },
     {
      "aliases": [],
      "name": "webview"
     }
    ]
   }
  }
 },
 "nbformat": 4,
 "nbformat_minor": 2
}
