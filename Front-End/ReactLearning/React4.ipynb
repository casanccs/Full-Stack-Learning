{
 "cells": [
  {
   "attachments": {},
   "cell_type": "markdown",
   "metadata": {},
   "source": [
    "# Events and Conditional Rendering"
   ]
  },
  {
   "attachments": {},
   "cell_type": "markdown",
   "metadata": {
    "dotnet_interactive": {
     "language": "csharp"
    },
    "polyglot_notebook": {
     "kernelName": "csharp"
    }
   },
   "source": [
    "## Events"
   ]
  },
  {
   "attachments": {},
   "cell_type": "markdown",
   "metadata": {
    "dotnet_interactive": {
     "language": "csharp"
    },
    "polyglot_notebook": {
     "kernelName": "csharp"
    }
   },
   "source": [
    "Handling events with React is very similar to handling events on DOM elements. But there are syntax differences:\n",
    "1. React events are named using camelCase, rather than lowercase.\n",
    "2. With JSX you a pass a function as the event handler, rather than a string."
   ]
  },
  {
   "attachments": {},
   "cell_type": "markdown",
   "metadata": {
    "dotnet_interactive": {
     "language": "csharp"
    },
    "polyglot_notebook": {
     "kernelName": "csharp"
    }
   },
   "source": [
    "For example in HTML:"
   ]
  },
  {
   "cell_type": "code",
   "execution_count": null,
   "metadata": {
    "dotnet_interactive": {
     "language": "html"
    },
    "polyglot_notebook": {
     "kernelName": "html"
    },
    "vscode": {
     "languageId": "polyglot-notebook"
    }
   },
   "outputs": [],
   "source": [
    "<button onclick=\"activateLasers()\">\n",
    "    Activate Lasers\n",
    "</button>"
   ]
  },
  {
   "attachments": {},
   "cell_type": "markdown",
   "metadata": {
    "dotnet_interactive": {
     "language": "html"
    },
    "polyglot_notebook": {
     "kernelName": "html"
    }
   },
   "source": [
    "In React:"
   ]
  },
  {
   "cell_type": "code",
   "execution_count": null,
   "metadata": {
    "dotnet_interactive": {
     "language": "javascript"
    },
    "polyglot_notebook": {
     "kernelName": "javascript"
    },
    "vscode": {
     "languageId": "polyglot-notebook"
    }
   },
   "outputs": [],
   "source": [
    "const element = (\n",
    "    <button onClick={activeLasers}>\n",
    "        Activate Lasers\n",
    "    </button>\n",
    ");"
   ]
  },
  {
   "attachments": {},
   "cell_type": "markdown",
   "metadata": {
    "dotnet_interactive": {
     "language": "javascript"
    },
    "polyglot_notebook": {
     "kernelName": "javascript"
    }
   },
   "source": [
    "You also cannot return `false` to prevent default behavior in React."
   ]
  },
  {
   "attachments": {},
   "cell_type": "markdown",
   "metadata": {
    "dotnet_interactive": {
     "language": "javascript"
    },
    "polyglot_notebook": {
     "kernelName": "javascript"
    }
   },
   "source": [
    "For example in HTML:"
   ]
  },
  {
   "cell_type": "code",
   "execution_count": null,
   "metadata": {
    "dotnet_interactive": {
     "language": "html"
    },
    "polyglot_notebook": {
     "kernelName": "html"
    },
    "vscode": {
     "languageId": "polyglot-notebook"
    }
   },
   "outputs": [],
   "source": [
    "<form onsubmit=\"console.log('You clicked submit.'); return false\">\n",
    "  <button type=\"submit\">Submit</button>\n",
    "</form>"
   ]
  },
  {
   "attachments": {},
   "cell_type": "markdown",
   "metadata": {
    "dotnet_interactive": {
     "language": "html"
    },
    "polyglot_notebook": {
     "kernelName": "html"
    }
   },
   "source": [
    "But in React:"
   ]
  },
  {
   "cell_type": "code",
   "execution_count": null,
   "metadata": {
    "dotnet_interactive": {
     "language": "javascript"
    },
    "polyglot_notebook": {
     "kernelName": "javascript"
    },
    "vscode": {
     "languageId": "polyglot-notebook"
    }
   },
   "outputs": [],
   "source": [
    "function Form() {\n",
    "  function handleSubmit(e) {\n",
    "    e.preventDefault();\n",
    "    console.log('You clicked submit.');\n",
    "  }\n",
    "\n",
    "  return (\n",
    "    <form onSubmit={handleSubmit}>\n",
    "      <button type=\"submit\">Submit</button>\n",
    "    </form>\n",
    "  );\n",
    "}"
   ]
  },
  {
   "attachments": {},
   "cell_type": "markdown",
   "metadata": {
    "dotnet_interactive": {
     "language": "javascript"
    },
    "polyglot_notebook": {
     "kernelName": "javascript"
    }
   },
   "source": [
    "Remember that we learned about `e` and some of its uses earlier. This is a \"Synthetic Event\"."
   ]
  },
  {
   "attachments": {},
   "cell_type": "markdown",
   "metadata": {
    "dotnet_interactive": {
     "language": "javascript"
    },
    "polyglot_notebook": {
     "kernelName": "javascript"
    }
   },
   "source": [
    "Before, we would instead be using `element.addEventListener` for DOM elements after its created. Now, we just provide a listener when the elment is initially rendered."
   ]
  },
  {
   "attachments": {},
   "cell_type": "markdown",
   "metadata": {
    "dotnet_interactive": {
     "language": "javascript"
    },
    "polyglot_notebook": {
     "kernelName": "javascript"
    }
   },
   "source": [
    "When using an ES6 class, we usually have an event handler be a method of the class. For example:"
   ]
  },
  {
   "cell_type": "code",
   "execution_count": null,
   "metadata": {
    "dotnet_interactive": {
     "language": "javascript"
    },
    "polyglot_notebook": {
     "kernelName": "javascript"
    },
    "vscode": {
     "languageId": "polyglot-notebook"
    }
   },
   "outputs": [],
   "source": [
    "class Toggle extends React.Component {\n",
    "  constructor(props) {\n",
    "    super(props);\n",
    "    this.state = {isToggleOn: true};\n",
    "\n",
    "    // This binding is necessary to make `this` work in the callback\n",
    "    this.handleClick = this.handleClick.bind(this);\n",
    "  }\n",
    "\n",
    "  handleClick() {\n",
    "    this.setState(prevState => ({\n",
    "      isToggleOn: !prevState.isToggleOn\n",
    "    }));\n",
    "  }\n",
    "\n",
    "  render() {\n",
    "    return (\n",
    "      <button onClick={this.handleClick}>\n",
    "        {this.state.isToggleOn ? 'ON' : 'OFF'}\n",
    "      </button>\n",
    "    );\n",
    "  }\n",
    "}"
   ]
  },
  {
   "attachments": {},
   "cell_type": "markdown",
   "metadata": {
    "dotnet_interactive": {
     "language": "javascript"
    },
    "polyglot_notebook": {
     "kernelName": "javascript"
    }
   },
   "source": [
    "First look at `onClick={this.handleClick}`.  \n",
    "When the button is clicked, the `this.handleClick` method will run.  \n",
    "`handleClick()` will toggle `this.state.isToggleOn` by using `this.setState` in function form in order to use the previous state as information/input. We learned about this in the previous lesson."
   ]
  },
  {
   "attachments": {},
   "cell_type": "markdown",
   "metadata": {
    "dotnet_interactive": {
     "language": "javascript"
    },
    "polyglot_notebook": {
     "kernelName": "javascript"
    }
   },
   "source": [
    "Note the line `this.handleClick = this.handleClick.bind(this);`. Put this type of line for every method you make that will get called using `this.method`. This is because class methods are not **\"bound\"** by default. If you forget this line, then `this` will be undefined when the function is called. This is actually how JavaScript works, and if you refer to a method without using `()` (like `{this.handleClick}`), you must bind it."
   ]
  },
  {
   "attachments": {},
   "cell_type": "markdown",
   "metadata": {
    "dotnet_interactive": {
     "language": "javascript"
    },
    "polyglot_notebook": {
     "kernelName": "javascript"
    }
   },
   "source": [
    "Another way to go around this \"binding\" problem is by using \"public class fields syntax\":"
   ]
  },
  {
   "cell_type": "code",
   "execution_count": null,
   "metadata": {
    "dotnet_interactive": {
     "language": "javascript"
    },
    "polyglot_notebook": {
     "kernelName": "javascript"
    },
    "vscode": {
     "languageId": "polyglot-notebook"
    }
   },
   "outputs": [],
   "source": [
    "class Toggle extends React.Component {\n",
    "  constructor(props) {\n",
    "    super(props);\n",
    "    this.state = {isToggleOn: true};\n",
    "  }\n",
    "\n",
    "  handleClick = () => {\n",
    "    this.setState(prevState => ({\n",
    "      isToggleOn: !prevState.isToggleOn\n",
    "    }));\n",
    "  }\n",
    "\n",
    "  render() {\n",
    "    return (\n",
    "      <button onClick={this.handleClick}>\n",
    "        {this.state.isToggleOn ? 'ON' : 'OFF'}\n",
    "      </button>\n",
    "    );\n",
    "  }\n",
    "}"
   ]
  },
  {
   "attachments": {},
   "cell_type": "markdown",
   "metadata": {
    "dotnet_interactive": {
     "language": "javascript"
    },
    "polyglot_notebook": {
     "kernelName": "javascript"
    }
   },
   "source": [
    "Or you can use an arrow function:"
   ]
  },
  {
   "cell_type": "code",
   "execution_count": null,
   "metadata": {
    "dotnet_interactive": {
     "language": "javascript"
    },
    "polyglot_notebook": {
     "kernelName": "javascript"
    },
    "vscode": {
     "languageId": "polyglot-notebook"
    }
   },
   "outputs": [],
   "source": [
    "class Toggle extends React.Component {\n",
    "  constructor(props) {\n",
    "    super(props);\n",
    "    this.state = {isToggleOn: true};\n",
    "  }\n",
    "\n",
    "  handleClick(){\n",
    "    this.setState(prevState => ({\n",
    "      isToggleOn: !prevState.isToggleOn\n",
    "    }));\n",
    "  }\n",
    "\n",
    "  render() {\n",
    "    return (\n",
    "      <button onClick={() => this.handleClick()}>\n",
    "        {this.state.isToggleOn ? 'ON' : 'OFF'}\n",
    "      </button>\n",
    "    );\n",
    "  }\n",
    "}"
   ]
  },
  {
   "attachments": {},
   "cell_type": "markdown",
   "metadata": {
    "dotnet_interactive": {
     "language": "javascript"
    },
    "polyglot_notebook": {
     "kernelName": "javascript"
    }
   },
   "source": [
    "While using the arrow function method, a problem is that a different callback is created everytime `Toggle` renders."
   ]
  },
  {
   "attachments": {},
   "cell_type": "markdown",
   "metadata": {
    "dotnet_interactive": {
     "language": "javascript"
    },
    "polyglot_notebook": {
     "kernelName": "javascript"
    }
   },
   "source": [
    "You can also pass arguments to Event Handlers by doing:"
   ]
  },
  {
   "cell_type": "code",
   "execution_count": null,
   "metadata": {
    "dotnet_interactive": {
     "language": "javascript"
    },
    "polyglot_notebook": {
     "kernelName": "javascript"
    },
    "vscode": {
     "languageId": "polyglot-notebook"
    }
   },
   "outputs": [],
   "source": [
    "//Arrow function way\n",
    "<button onClick={(e) => this.deleteRow(id, e)}>Delete Row</button>\n",
    "\n",
    "//Function.prototype.bind way\n",
    "<button onClick={this.deleteRow.bind(this, id)}>Delete Row</button>"
   ]
  },
  {
   "attachments": {},
   "cell_type": "markdown",
   "metadata": {
    "dotnet_interactive": {
     "language": "javascript"
    },
    "polyglot_notebook": {
     "kernelName": "javascript"
    }
   },
   "source": [
    "Using the arrow function, we must pass `e` explicitly. But when using bind, it is automatically forwarded."
   ]
  },
  {
   "attachments": {},
   "cell_type": "markdown",
   "metadata": {
    "dotnet_interactive": {
     "language": "javascript"
    },
    "polyglot_notebook": {
     "kernelName": "javascript"
    }
   },
   "source": [
    "## Conditional Rendering"
   ]
  },
  {
   "attachments": {},
   "cell_type": "markdown",
   "metadata": {
    "dotnet_interactive": {
     "language": "javascript"
    },
    "polyglot_notebook": {
     "kernelName": "javascript"
    }
   },
   "source": [
    "Imagine only using HTML and plain JavaScript only, and I ask to have two seperate `<p>` elements, and depending on a variable that is `true` or `false`, it will print one or the other. How would you do that? "
   ]
  },
  {
   "cell_type": "code",
   "execution_count": null,
   "metadata": {
    "dotnet_interactive": {
     "language": "html"
    },
    "polyglot_notebook": {
     "kernelName": "html"
    },
    "vscode": {
     "languageId": "polyglot-notebook"
    }
   },
   "outputs": [],
   "source": [
    "<body>\n",
    "    <script>\n",
    "        const body = document.body;\n",
    "        const p1 = document.createElement('p');\n",
    "        const p2 = document.createElement('p');\n",
    "        p1.textContent = \"Paragraph 1\";\n",
    "        p2.textContent = \"Paragraph 2\";\n",
    "        const boolean = true;\n",
    "        if (boolean){\n",
    "            body.appendChild(p1);\n",
    "        }\n",
    "        else{\n",
    "            body.appendChild(p2);\n",
    "        }\n",
    "    </script>\n",
    "</body>"
   ]
  },
  {
   "attachments": {},
   "cell_type": "markdown",
   "metadata": {
    "dotnet_interactive": {
     "language": "html"
    },
    "polyglot_notebook": {
     "kernelName": "html"
    }
   },
   "source": [
    "How can you do the same thing but with React?"
   ]
  },
  {
   "cell_type": "code",
   "execution_count": null,
   "metadata": {
    "dotnet_interactive": {
     "language": "html"
    },
    "polyglot_notebook": {
     "kernelName": "html"
    },
    "vscode": {
     "languageId": "polyglot-notebook"
    }
   },
   "outputs": [],
   "source": [
    "const boolean = true;\n",
    "if (boolean){\n",
    "    const element = <p>Paragraph 1</p>;\n",
    "else{\n",
    "    const element = <p>Paragraph 2</p>;\n",
    "}\n",
    "return element;"
   ]
  },
  {
   "attachments": {},
   "cell_type": "markdown",
   "metadata": {
    "dotnet_interactive": {
     "language": "html"
    },
    "polyglot_notebook": {
     "kernelName": "html"
    }
   },
   "source": [
    "Now how do we render certain components based on the state of the application?"
   ]
  },
  {
   "attachments": {},
   "cell_type": "markdown",
   "metadata": {
    "dotnet_interactive": {
     "language": "html"
    },
    "polyglot_notebook": {
     "kernelName": "html"
    }
   },
   "source": [
    "Assume we have these two components:"
   ]
  },
  {
   "cell_type": "code",
   "execution_count": null,
   "metadata": {
    "dotnet_interactive": {
     "language": "javascript"
    },
    "polyglot_notebook": {
     "kernelName": "javascript"
    },
    "vscode": {
     "languageId": "polyglot-notebook"
    }
   },
   "outputs": [],
   "source": [
    "function UserGreeting(props) {\n",
    "  return <h1>Welcome back!</h1>;\n",
    "}\n",
    "\n",
    "function GuestGreeting(props) {\n",
    "  return <h1>Please sign up.</h1>;\n",
    "}"
   ]
  },
  {
   "attachments": {},
   "cell_type": "markdown",
   "metadata": {
    "dotnet_interactive": {
     "language": "javascript"
    },
    "polyglot_notebook": {
     "kernelName": "javascript"
    }
   },
   "source": [
    "We can create a `Greeting` component that will display either one of them depending on the `prop` passed:"
   ]
  },
  {
   "cell_type": "code",
   "execution_count": null,
   "metadata": {
    "dotnet_interactive": {
     "language": "javascript"
    },
    "polyglot_notebook": {
     "kernelName": "javascript"
    },
    "vscode": {
     "languageId": "polyglot-notebook"
    }
   },
   "outputs": [],
   "source": [
    "function Greeting(props) {\n",
    "  const isLoggedIn = props.isLoggedIn;\n",
    "  if (isLoggedIn) {\n",
    "    return <UserGreeting />;\n",
    "  }\n",
    "  return <GuestGreeting />;\n",
    "}\n",
    "\n",
    "const root = ReactDOM.createRoot(document.getElementById('root')); \n",
    "// Try changing to isLoggedIn={true}:\n",
    "root.render(<Greeting isLoggedIn={false} />);"
   ]
  },
  {
   "attachments": {},
   "cell_type": "markdown",
   "metadata": {
    "dotnet_interactive": {
     "language": "javascript"
    },
    "polyglot_notebook": {
     "kernelName": "javascript"
    }
   },
   "source": [
    "An easier way is by using the **Inline if with Logical && Operator**:"
   ]
  },
  {
   "cell_type": "code",
   "execution_count": null,
   "metadata": {
    "dotnet_interactive": {
     "language": "javascript"
    },
    "polyglot_notebook": {
     "kernelName": "javascript"
    },
    "vscode": {
     "languageId": "polyglot-notebook"
    }
   },
   "outputs": [],
   "source": [
    "function Greeting(props) {\n",
    "  const isLoggedIn = props.isLoggedIn;\n",
    "  return (\n",
    "    {isLoggedIn &&\n",
    "        <UserGreeting />;\n",
    "    }\n",
    "    {!isLoggedIn &&\n",
    "        <GuestGreeting />;\n",
    "    }\n",
    "  );\n",
    "  \n",
    "}\n",
    "\n",
    "const root = ReactDOM.createRoot(document.getElementById('root')); \n",
    "// Try changing to isLoggedIn={true}:\n",
    "root.render(<Greeting isLoggedIn={false} />);"
   ]
  },
  {
   "attachments": {},
   "cell_type": "markdown",
   "metadata": {
    "dotnet_interactive": {
     "language": "javascript"
    },
    "polyglot_notebook": {
     "kernelName": "javascript"
    }
   },
   "source": [
    "Note in the return, we embed JavaScript code in JSX using the curly braces."
   ]
  },
  {
   "attachments": {},
   "cell_type": "markdown",
   "metadata": {
    "dotnet_interactive": {
     "language": "javascript"
    },
    "polyglot_notebook": {
     "kernelName": "javascript"
    }
   },
   "source": [
    "{true && expression} will return the expression  \n",
    "{false && expression} will not return anything"
   ]
  },
  {
   "attachments": {},
   "cell_type": "markdown",
   "metadata": {
    "dotnet_interactive": {
     "language": "javascript"
    },
    "polyglot_notebook": {
     "kernelName": "javascript"
    }
   },
   "source": [
    "Try this out:"
   ]
  },
  {
   "cell_type": "code",
   "execution_count": null,
   "metadata": {
    "dotnet_interactive": {
     "language": "javascript"
    },
    "polyglot_notebook": {
     "kernelName": "javascript"
    },
    "vscode": {
     "languageId": "polyglot-notebook"
    }
   },
   "outputs": [],
   "source": [
    "render() {\n",
    "  const count = 0;\n",
    "  return (\n",
    "    <div>\n",
    "      {count && <h1>Messages: {count}</h1>}\n",
    "    </div>\n",
    "  );\n",
    "}"
   ]
  },
  {
   "attachments": {},
   "cell_type": "markdown",
   "metadata": {
    "dotnet_interactive": {
     "language": "javascript"
    },
    "polyglot_notebook": {
     "kernelName": "javascript"
    }
   },
   "source": [
    "You can also use the **Inline if-else with conditional operator**:"
   ]
  },
  {
   "cell_type": "code",
   "execution_count": null,
   "metadata": {
    "dotnet_interactive": {
     "language": "javascript"
    },
    "polyglot_notebook": {
     "kernelName": "javascript"
    },
    "vscode": {
     "languageId": "polyglot-notebook"
    }
   },
   "outputs": [],
   "source": [
    "function Greeting(props) {\n",
    "  const isLoggedIn = props.isLoggedIn;\n",
    "  return (\n",
    "    {isLoggedIn ? <UserGreeting /> : <GuestGreeting />}\n",
    "  );\n",
    "  \n",
    "}\n",
    "\n",
    "const root = ReactDOM.createRoot(document.getElementById('root')); \n",
    "// Try changing to isLoggedIn={true}:\n",
    "root.render(<Greeting isLoggedIn={false} />);"
   ]
  },
  {
   "attachments": {},
   "cell_type": "markdown",
   "metadata": {
    "dotnet_interactive": {
     "language": "javascript"
    },
    "polyglot_notebook": {
     "kernelName": "javascript"
    }
   },
   "source": [
    "You can also have a component `return null` in order to prevent it from rendering depending on certain states/props even when it is called:"
   ]
  },
  {
   "cell_type": "code",
   "execution_count": null,
   "metadata": {
    "dotnet_interactive": {
     "language": "javascript"
    },
    "polyglot_notebook": {
     "kernelName": "javascript"
    },
    "vscode": {
     "languageId": "polyglot-notebook"
    }
   },
   "outputs": [],
   "source": [
    "function Greeting(props) {\n",
    "  const isLoggedIn = props.isLoggedIn;\n",
    "  if (isLoggedIn){\n",
    "    return <UserGreeting />\n",
    "  }\n",
    "  else{\n",
    "    return null;\n",
    "  }\n",
    "}\n",
    "\n",
    "const root = ReactDOM.createRoot(document.getElementById('root')); \n",
    "// Try changing to isLoggedIn={true}:\n",
    "root.render(<Greeting isLoggedIn={false} />);"
   ]
  }
 ],
 "metadata": {
  "kernelspec": {
   "display_name": ".NET (C#)",
   "language": "C#",
   "name": ".net-csharp"
  },
  "polyglot_notebook": {
   "kernelInfo": {
    "defaultKernelName": "csharp",
    "items": [
     {
      "aliases": [
       "c#",
       "C#"
      ],
      "languageName": null,
      "name": "csharp"
     },
     {
      "aliases": [
       "frontend"
      ],
      "languageName": null,
      "name": "vscode"
     },
     {
      "aliases": [
       "js"
      ],
      "languageName": null,
      "name": "javascript"
     }
    ]
   }
  }
 },
 "nbformat": 4,
 "nbformat_minor": 2
}
