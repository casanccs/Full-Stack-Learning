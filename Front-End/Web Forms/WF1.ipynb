{
 "cells": [
  {
   "attachments": {},
   "cell_type": "markdown",
   "metadata": {},
   "source": [
    "# Your First Form"
   ]
  },
  {
   "attachments": {},
   "cell_type": "markdown",
   "metadata": {
    "dotnet_interactive": {
     "language": "csharp"
    },
    "polyglot_notebook": {
     "kernelName": "csharp"
    }
   },
   "source": [
    "Where it starts is the `<form>` element:"
   ]
  },
  {
   "cell_type": "code",
   "execution_count": null,
   "metadata": {
    "dotnet_interactive": {
     "language": "html"
    },
    "polyglot_notebook": {
     "kernelName": "html"
    },
    "vscode": {
     "languageId": "polyglot-notebook"
    }
   },
   "outputs": [],
   "source": [
    "<form action=\"/my-handling-form-page\" method=\"post\">...</form>"
   ]
  },
  {
   "attachments": {},
   "cell_type": "markdown",
   "metadata": {
    "dotnet_interactive": {
     "language": "html"
    },
    "polyglot_notebook": {
     "kernelName": "html"
    }
   },
   "source": [
    "This defines a form. It's only a container element, so all of the contents will be nested inside. It also supports specific attributes to configure the way the form behaves. All of the attributes are optional, but these two are usually used:\n",
    "* `action` attribute is where (URL) the data should be sent when submitted.\n",
    "* `method` attribute is for which HTTP method to send the data with. (like `get` or `post`)"
   ]
  },
  {
   "attachments": {},
   "cell_type": "markdown",
   "metadata": {
    "dotnet_interactive": {
     "language": "html"
    },
    "polyglot_notebook": {
     "kernelName": "html"
    }
   },
   "source": [
    "#### NOTE: It is strictly forbidden to nest a form in other forms, as it can cause unpredictable issues."
   ]
  },
  {
   "attachments": {},
   "cell_type": "markdown",
   "metadata": {
    "dotnet_interactive": {
     "language": "html"
    },
    "polyglot_notebook": {
     "kernelName": "html"
    }
   },
   "source": [
    "Let's start by creating a \"simple\" form:"
   ]
  },
  {
   "cell_type": "code",
   "execution_count": 1,
   "metadata": {
    "dotnet_interactive": {
     "language": "html"
    },
    "polyglot_notebook": {
     "kernelName": "html"
    },
    "vscode": {
     "languageId": "polyglot-notebook"
    }
   },
   "outputs": [
    {
     "data": {
      "text/html": [
       "<form action=\"/my-handling-form-page\" method=\"post\">\r\n",
       "  <ul>\r\n",
       "    <li>\r\n",
       "      <label for=\"name\">Name:</label>\r\n",
       "      <input type=\"text\" id=\"name\" name=\"user_name\" />\r\n",
       "    </li>\r\n",
       "    <li>\r\n",
       "      <label for=\"mail\">Email:</label>\r\n",
       "      <input type=\"email\" id=\"mail\" name=\"user_email\" />\r\n",
       "    </li>\r\n",
       "    <li>\r\n",
       "      <label for=\"msg\">Message:</label>\r\n",
       "      <textarea id=\"msg\" name=\"user_message\"></textarea>\r\n",
       "    </li>\r\n",
       "  </ul>\r\n",
       "</form>"
      ]
     },
     "metadata": {},
     "output_type": "display_data"
    }
   ],
   "source": [
    "<form action=\"/my-handling-form-page\" method=\"post\">\n",
    "  <ul>\n",
    "    <li>\n",
    "      <label for=\"name\">Name:</label>\n",
    "      <input type=\"text\" id=\"name\" name=\"user_name\" />\n",
    "    </li>\n",
    "    <li>\n",
    "      <label for=\"mail\">Email:</label>\n",
    "      <input type=\"email\" id=\"mail\" name=\"user_email\" />\n",
    "    </li>\n",
    "    <li>\n",
    "      <label for=\"msg\">Message:</label>\n",
    "      <textarea id=\"msg\" name=\"user_message\"></textarea>\n",
    "    </li>\n",
    "  </ul>\n",
    "</form>"
   ]
  },
  {
   "attachments": {},
   "cell_type": "markdown",
   "metadata": {
    "dotnet_interactive": {
     "language": "html"
    },
    "polyglot_notebook": {
     "kernelName": "html"
    }
   },
   "source": [
    "Let's try to understand the three important tags/elements: `<label>`, `<input/>`, and `<textarea>`"
   ]
  },
  {
   "attachments": {},
   "cell_type": "markdown",
   "metadata": {
    "dotnet_interactive": {
     "language": "html"
    },
    "polyglot_notebook": {
     "kernelName": "html"
    }
   },
   "source": [
    "* `<label>` : Used for giving info for a designated `<input>` or `<textarea>`. The `for` attribute is used to associate the `<label>` with form control of an `<input>`'s `id` or `<textarea>`'s `id`.\n",
    "* `<input>` : The exteremly most important attribute is the `type` attribute, because it defines the way the element appears and behaves. As example, \"text\" as its value means a single-line text field that accepts any kind of text input. \"email\" as its value means single-line text field that only accepts a well-formed email address.\n",
    "* `<textarea></textarea>` : Is a multiline text field, with the content inbetween tags being the \"default value\". Note that for `<input>`, it is a void element. `<input type=\"text\" value=\"by default it is this\">` is how to give `<input>` default text."
   ]
  },
  {
   "cell_type": "code",
   "execution_count": null,
   "metadata": {
    "dotnet_interactive": {
     "language": "html"
    },
    "polyglot_notebook": {
     "kernelName": "html"
    },
    "vscode": {
     "languageId": "polyglot-notebook"
    }
   },
   "outputs": [],
   "source": [
    "<form action=\"/my-handling-form-page\" method=\"post\">\n",
    "  <ul>\n",
    "    <li>\n",
    "      <label for=\"name\">Name:</label>\n",
    "      <input type=\"text\" id=\"name\" name=\"user_name\" />\n",
    "    </li>\n",
    "    <li>\n",
    "      <label for=\"mail\">Email:</label>\n",
    "      <input type=\"email\" id=\"mail\" name=\"user_email\" />\n",
    "    </li>\n",
    "    <li>\n",
    "      <label for=\"msg\">Message:</label>\n",
    "      <textarea id=\"msg\" name=\"user_message\"></textarea>\n",
    "    </li>\n",
    "  </ul>\n",
    "  <li class=\"button\">\n",
    "    <button type=\"submit\">Send your message</button>\n",
    "  </li>\n",
    "</form>"
   ]
  },
  {
   "attachments": {},
   "cell_type": "markdown",
   "metadata": {
    "dotnet_interactive": {
     "language": "html"
    },
    "polyglot_notebook": {
     "kernelName": "html"
    }
   },
   "source": [
    "`<button>` accepts a type attribute with one of three values:\n",
    "1. `submit` : sends the form's data to the web page specified by the `action` attribute of the `<form>` element.\n",
    "2. `reset` : resets all form elements the button is part of, to the default values immediately.\n",
    "3. `button` : does nothing. Mainly used for custom buttons."
   ]
  },
  {
   "attachments": {},
   "cell_type": "markdown",
   "metadata": {
    "dotnet_interactive": {
     "language": "html"
    },
    "polyglot_notebook": {
     "kernelName": "html"
    }
   },
   "source": [
    "Notice how each \"input\", we have a `name` attribute attached to them. This is used for the form control, that both the client and server-side use, as it tells the browser which name to give each piece of data, and the server handles each piece of data by name. Form data is sent to the server as name/value pairs."
   ]
  },
  {
   "attachments": {},
   "cell_type": "markdown",
   "metadata": {
    "dotnet_interactive": {
     "language": "html"
    },
    "polyglot_notebook": {
     "kernelName": "html"
    }
   },
   "source": [
    "The way the data is handled, is up to the Server-Side language (PHP, Python, Ruby, etc.), so we will learn that in later on."
   ]
  },
  {
   "attachments": {},
   "cell_type": "markdown",
   "metadata": {
    "dotnet_interactive": {
     "language": "html"
    },
    "polyglot_notebook": {
     "kernelName": "html"
    }
   },
   "source": [
    "Let's make a simple form app:"
   ]
  },
  {
   "cell_type": "code",
   "execution_count": null,
   "metadata": {
    "dotnet_interactive": {
     "language": "html"
    },
    "polyglot_notebook": {
     "kernelName": "html"
    },
    "vscode": {
     "languageId": "polyglot-notebook"
    }
   },
   "outputs": [],
   "source": [
    "<head>\n",
    "    <style>\n",
    "\n",
    "    </style>\n",
    "</head>\n",
    "\n",
    "<body>\n",
    "    <h2>Payment Form</h2>\n",
    "    <p>Required fields are followed by *.</p>\n",
    "    <h3>Contact Information</h3>\n",
    "    <div>\n",
    "        <p>Title</p>\n",
    "        <ul>\n",
    "            <li>\n",
    "                <input type=\"radio\" name=\"title\" value=\"K\" />\n",
    "                King\n",
    "            </li>\n",
    "            <li>\n",
    "                <input type=\"radio\" name=\"title\" value=\"Q\" />\n",
    "                Queen\n",
    "            </li>\n",
    "            <li>\n",
    "                <input type=\"radio\" name=\"title\" value=\"J\" />\n",
    "                Joker\n",
    "            </li>\n",
    "        </ul>\n",
    "    </div>\n",
    "</body>"
   ]
  },
  {
   "attachments": {},
   "cell_type": "markdown",
   "metadata": {
    "dotnet_interactive": {
     "language": "html"
    },
    "polyglot_notebook": {
     "kernelName": "html"
    }
   },
   "source": [
    "Notice that `type=\"radio\"` is like \"multiple-choice\" kind of input. In this case, `value` attribute would be the value sent to the server if that \"choice\" is chosen."
   ]
  },
  {
   "cell_type": "code",
   "execution_count": null,
   "metadata": {
    "dotnet_interactive": {
     "language": "html"
    },
    "polyglot_notebook": {
     "kernelName": "html"
    },
    "vscode": {
     "languageId": "polyglot-notebook"
    }
   },
   "outputs": [],
   "source": [
    "<head>\n",
    "    <style>\n",
    "        #title {\n",
    "            border: 1px solid black;\n",
    "        }\n",
    "    </style>\n",
    "</head>\n",
    "\n",
    "<body>\n",
    "    <h2>Payment Form</h2>\n",
    "    <p>Required fields are followed by *.</p>\n",
    "    <h3>Contact Information</h3>\n",
    "    <form>\n",
    "        <div id=\"title\">\n",
    "            <p>Title</p>\n",
    "            <ul>\n",
    "                <li>\n",
    "                    <input type=\"radio\" name=\"title\" value=\"K\" />\n",
    "                    King\n",
    "                </li>\n",
    "                <li>\n",
    "                    <input type=\"radio\" name=\"title\" value=\"Q\" />\n",
    "                    Queen\n",
    "                </li>\n",
    "                <li>\n",
    "                    <input type=\"radio\" name=\"title\" value=\"J\" />\n",
    "                    Joker\n",
    "                </li>\n",
    "            </ul>\n",
    "        </div>\n",
    "        <div id=\"user\">\n",
    "            <p>Name: *</p>\n",
    "            <input type=\"text\" name=\"name\">\n",
    "            <p>Email: *</p>\n",
    "            <input type=\"email\" name=\"email\">\n",
    "            <p>Password: *</p>\n",
    "            <input type=\"text\" name=\"password\">\n",
    "        </div>\n",
    "        <div id=\"payInfo\">\n",
    "            <p>Card type: </p>\n",
    "            <select id=\"card\" name=\"userCard\">\n",
    "                <option value=\"visa\">Visa</option>\n",
    "                <option value=\"mc\">Mastercard</option>\n",
    "                <option value=\"amex\">American Express</option>\n",
    "            </select>\n",
    "            <p>Card number: *</p>\n",
    "            <input type=\"tel\" name=\"cardNumber\">\n",
    "            <p>Expiration Data: *</p>\n",
    "            <input type=\"text\" name=\"expDate\" placeholder=\"MM/YY\" pattern=\"^(0[1-9]|1[0-2])\\/([0-9]{2})$\">\n",
    "        </div>\n",
    "    </form>\n",
    "</body>"
   ]
  }
 ],
 "metadata": {
  "kernelspec": {
   "display_name": ".NET (C#)",
   "language": "C#",
   "name": ".net-csharp"
  },
  "polyglot_notebook": {
   "kernelInfo": {
    "defaultKernelName": "csharp",
    "items": [
     {
      "aliases": [],
      "name": "csharp"
     },
     {
      "aliases": [],
      "languageName": null,
      "name": ".NET"
     },
     {
      "aliases": [
       "frontend"
      ],
      "languageName": null,
      "name": "vscode"
     }
    ]
   }
  }
 },
 "nbformat": 4,
 "nbformat_minor": 2
}
