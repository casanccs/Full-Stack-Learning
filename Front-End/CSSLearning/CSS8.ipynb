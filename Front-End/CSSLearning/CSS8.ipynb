{
 "cells": [
  {
   "attachments": {},
   "cell_type": "markdown",
   "metadata": {
    "dotnet_interactive": {
     "language": "csharp"
    },
    "polyglot_notebook": {
     "kernelName": "csharp"
    }
   },
   "source": [
    "# Fundamental Text and Font Styling"
   ]
  },
  {
   "attachments": {},
   "cell_type": "markdown",
   "metadata": {
    "dotnet_interactive": {
     "language": "csharp"
    },
    "polyglot_notebook": {
     "kernelName": "csharp"
    }
   },
   "source": [
    "CSS properties to style text fall into two categories."
   ]
  },
  {
   "attachments": {},
   "cell_type": "markdown",
   "metadata": {
    "dotnet_interactive": {
     "language": "csharp"
    },
    "polyglot_notebook": {
     "kernelName": "csharp"
    }
   },
   "source": [
    "## Fonts"
   ]
  },
  {
   "attachments": {},
   "cell_type": "markdown",
   "metadata": {
    "dotnet_interactive": {
     "language": "csharp"
    },
    "polyglot_notebook": {
     "kernelName": "csharp"
    }
   },
   "source": [
    "Font styles affect a text's font, like which font gets applied, the size, if its bold, italic, etc."
   ]
  },
  {
   "attachments": {},
   "cell_type": "markdown",
   "metadata": {
    "dotnet_interactive": {
     "language": "csharp"
    },
    "polyglot_notebook": {
     "kernelName": "csharp"
    }
   },
   "source": [
    "The `font-family` property will specify a font or a list of fonts that the browser supports, and applies it to the selected elements. If the browser cannot find the font, then it will go down the font list until it finds a font it suppports. If it cannot find anything, it will just go to the default font."
   ]
  },
  {
   "attachments": {},
   "cell_type": "markdown",
   "metadata": {
    "dotnet_interactive": {
     "language": "csharp"
    },
    "polyglot_notebook": {
     "kernelName": "csharp"
    }
   },
   "source": [
    "Here is an example of using `font-family`:"
   ]
  },
  {
   "cell_type": "code",
   "execution_count": null,
   "metadata": {
    "dotnet_interactive": {
     "language": "html"
    },
    "polyglot_notebook": {
     "kernelName": "html"
    },
    "vscode": {
     "languageId": "polyglot-notebook"
    }
   },
   "outputs": [],
   "source": [
    "p {\n",
    "    font-family: arial;\n",
    "}"
   ]
  },
  {
   "attachments": {},
   "cell_type": "markdown",
   "metadata": {
    "dotnet_interactive": {
     "language": "html"
    },
    "polyglot_notebook": {
     "kernelName": "html"
    }
   },
   "source": [
    "There are only a select number of web safe fonts that are supported for all browsers. They include:\n",
    "* Arial: `Arial`\n",
    "* Courier New: `\"Courier New\"`\n",
    "* Georgia: `Georgia`\n",
    "* Times New Roman: `\"Times New Roman\"`\n",
    "* Trebuchet MS: `\"Trebuchet MS\"`\n",
    "* Verdana: `Verdana`"
   ]
  },
  {
   "attachments": {},
   "cell_type": "markdown",
   "metadata": {
    "dotnet_interactive": {
     "language": "html"
    },
    "polyglot_notebook": {
     "kernelName": "html"
    }
   },
   "source": [
    "Here is an example of a **Font Stack**, which is just a list of fonts that the broswer can choose from. It starts at the beginning of the stack to see if that font can be choosen, if not, it moves on to the font to the right, and keeps going."
   ]
  },
  {
   "attachments": {},
   "cell_type": "markdown",
   "metadata": {
    "dotnet_interactive": {
     "language": "html"
    },
    "polyglot_notebook": {
     "kernelName": "html"
    }
   },
   "source": [
    "Here is an example of using a font stack:"
   ]
  },
  {
   "cell_type": "code",
   "execution_count": null,
   "metadata": {
    "dotnet_interactive": {
     "language": "html"
    },
    "polyglot_notebook": {
     "kernelName": "html"
    },
    "vscode": {
     "languageId": "polyglot-notebook"
    }
   },
   "outputs": [],
   "source": [
    "p {\n",
    "  font-family: \"Trebuchet MS\", Verdana, sans-serif;\n",
    "}"
   ]
  },
  {
   "attachments": {},
   "cell_type": "markdown",
   "metadata": {
    "dotnet_interactive": {
     "language": "html"
    },
    "polyglot_notebook": {
     "kernelName": "html"
    }
   },
   "source": [
    "<table>\n",
    "    <tr><th>Property</th><th>Values</th></tr>\n",
    "    <tr><td><code>font-style</code></td>\n",
    "        <td>\n",
    "        This property is used to turn italic text on or off.\n",
    "           <ul>\n",
    "            <li><code>normal</code>: Italics off.\n",
    "            <li><code>italic</code>: Italics on if the font supports it. If not, will use <code>oblique</code>.\n",
    "            <li><code>oblique</code>: Creates a simulated version of an italic font, by slanting the normal version.\n",
    "           </ul> \n",
    "        </td>\n",
    "    </tr>\n",
    "    <tr><td><code>font-weight</code></td>\n",
    "        <td>\n",
    "        Sets how bold the text is. Has many font variants available. (light, normal, bold, extrabold, black, etc)\n",
    "           <ul>\n",
    "            <li><code>normal, bold</code>: Normal and bold font weight.\n",
    "            <li><code>lighter, bolder</code>: One step lighter or bolder than the parent element's boldness.\n",
    "            <li><code>100 - 900</code>: Numeric boldness values that provide accurate control.\n",
    "           </ul> \n",
    "        </td>\n",
    "    </tr>\n",
    "    <tr><td><code>text-transform</code></td>\n",
    "        <td>\n",
    "        Can transform the font.\n",
    "           <ul>\n",
    "            <li><code>none</code>: Prevents transformations.\n",
    "            <li><code>uppercase</code>: Makes all text into capitals.\n",
    "            <li><code>lowercase</code>: Makes all text lowercase letters.\n",
    "            <li><code>capitalize</code>: Makes all words have first letter capitalized.\n",
    "            <li><code>full-width</code>: Makes all characters be written inside a fixed-width square, like a monospace font, aka coder font.\n",
    "           </ul> \n",
    "        </td>\n",
    "    </tr>\n",
    "    <tr><td><code>text-decoration</code></td>\n",
    "        <td>\n",
    "        Sets or unsets text decorations on fonts.\n",
    "           <ul>\n",
    "            <li><code>none</code>: Unsets any text decorations.\n",
    "            <li><code>underline</code>: Underlines the text.\n",
    "            <li><code>overline</code>: Puts a line over the text.\n",
    "            <li><code>line-through</code>: Puts a strikethrough over the text.\n",
    "           </ul> \n",
    "        </td>\n",
    "    </tr>\n",
    "</table>\n"
   ]
  },
  {
   "attachments": {},
   "cell_type": "markdown",
   "metadata": {
    "dotnet_interactive": {
     "language": "html"
    },
    "polyglot_notebook": {
     "kernelName": "html"
    }
   },
   "source": [
    "Note that `text-decoration` can accept multiple values at once, like `text-decoration: underline overline`.  \n",
    "`text-decoration` is shorthand for `text-decoration-line` `text-decoration-style`, and `text-decoration-color`.  \n",
    "Example is: `text-decoration: line-through red wavy`.  \n",
    "Look at a complete list here: <a href=\"https://developer.mozilla.org/en-US/docs/Web/CSS/text-decoration\">text-decoration</a>"
   ]
  },
  {
   "attachments": {},
   "cell_type": "markdown",
   "metadata": {
    "dotnet_interactive": {
     "language": "html"
    },
    "polyglot_notebook": {
     "kernelName": "html"
    }
   },
   "source": [
    "##"
   ]
  },
  {
   "attachments": {},
   "cell_type": "markdown",
   "metadata": {
    "dotnet_interactive": {
     "language": "html"
    },
    "polyglot_notebook": {
     "kernelName": "html"
    }
   },
   "source": [
    "### Text Drop Shadows"
   ]
  },
  {
   "attachments": {},
   "cell_type": "markdown",
   "metadata": {
    "dotnet_interactive": {
     "language": "html"
    },
    "polyglot_notebook": {
     "kernelName": "html"
    }
   },
   "source": [
    "You can apply shadows to your text by using the `text-shadow` property, which takes UP TO four values, like this:"
   ]
  },
  {
   "cell_type": "code",
   "execution_count": null,
   "metadata": {
    "dotnet_interactive": {
     "language": "html"
    },
    "polyglot_notebook": {
     "kernelName": "html"
    },
    "vscode": {
     "languageId": "polyglot-notebook"
    }
   },
   "outputs": [],
   "source": [
    "text-shadow: 4px 4px 5px red;"
   ]
  },
  {
   "attachments": {},
   "cell_type": "markdown",
   "metadata": {
    "dotnet_interactive": {
     "language": "html"
    },
    "polyglot_notebook": {
     "kernelName": "html"
    }
   },
   "source": [
    "Here is what the properties mean in order:\n",
    "1. Horizontal offset of the shadow from the original text. Positive moves right. This value HAS to be included.\n",
    "2. Vertical offset of the shadow. Positive moves down. Has to be included.\n",
    "3. Blur radius. Higher value means shadow is dispersed more widely. Default 0 if not included, which means no blur.\n",
    "4. Base color of the shadow. Takes in any form of `<color>` type. Default is `currentcolor` which is the color of the font."
   ]
  },
  {
   "attachments": {},
   "cell_type": "markdown",
   "metadata": {
    "dotnet_interactive": {
     "language": "html"
    },
    "polyglot_notebook": {
     "kernelName": "html"
    }
   },
   "source": [
    "You can also have multiple text shadows like this:"
   ]
  },
  {
   "cell_type": "code",
   "execution_count": 2,
   "metadata": {
    "dotnet_interactive": {
     "language": "html"
    },
    "polyglot_notebook": {
     "kernelName": "html"
    },
    "vscode": {
     "languageId": "polyglot-notebook"
    }
   },
   "outputs": [
    {
     "data": {
      "text/html": [
       "text-shadow: 1px 1px 1px red, 2px 2px 1px brown;"
      ]
     },
     "metadata": {},
     "output_type": "display_data"
    }
   ],
   "source": [
    "text-shadow: 1px 1px 1px red, 2px 2px 1px brown;"
   ]
  },
  {
   "attachments": {},
   "cell_type": "markdown",
   "metadata": {
    "dotnet_interactive": {
     "language": "html"
    },
    "polyglot_notebook": {
     "kernelName": "html"
    }
   },
   "source": [
    "Try to add this to your code."
   ]
  },
  {
   "attachments": {},
   "cell_type": "markdown",
   "metadata": {
    "dotnet_interactive": {
     "language": "html"
    },
    "polyglot_notebook": {
     "kernelName": "html"
    }
   },
   "source": [
    "## Text Layout"
   ]
  },
  {
   "attachments": {},
   "cell_type": "markdown",
   "metadata": {
    "dotnet_interactive": {
     "language": "html"
    },
    "polyglot_notebook": {
     "kernelName": "html"
    }
   },
   "source": [
    "### Text Alignment"
   ]
  },
  {
   "attachments": {},
   "cell_type": "markdown",
   "metadata": {
    "dotnet_interactive": {
     "language": "html"
    },
    "polyglot_notebook": {
     "kernelName": "html"
    }
   },
   "source": [
    "Think about a word processor document, and how you want the title to be in the center of the page. That is what alignment is.  \n",
    "Here are the values for the `text-align` property:"
   ]
  },
  {
   "attachments": {},
   "cell_type": "markdown",
   "metadata": {
    "dotnet_interactive": {
     "language": "html"
    },
    "polyglot_notebook": {
     "kernelName": "html"
    }
   },
   "source": [
    "<table>\n",
    "    <tr><td><code>left</code></td><td>Left-justifies the text</td></tr>\n",
    "    <tr><td><code>right</code></td><td>Right-justifies the text</td></tr>\n",
    "    <tr><td><code>center</code></td><td>Centers the text</td></tr>\n",
    "    <tr><td><code>justify</code></td><td>Makes the gaps in between words vary so that all lines of text are the same width. Can look wonky.</td></tr>\n",
    "</table>"
   ]
  },
  {
   "attachments": {},
   "cell_type": "markdown",
   "metadata": {
    "dotnet_interactive": {
     "language": "html"
    },
    "polyglot_notebook": {
     "kernelName": "html"
    }
   },
   "source": [
    "Try to center a header to be the title of the screen."
   ]
  },
  {
   "attachments": {},
   "cell_type": "markdown",
   "metadata": {
    "dotnet_interactive": {
     "language": "html"
    },
    "polyglot_notebook": {
     "kernelName": "html"
    }
   },
   "source": [
    "### Line Height"
   ]
  },
  {
   "attachments": {},
   "cell_type": "markdown",
   "metadata": {
    "dotnet_interactive": {
     "language": "html"
    },
    "polyglot_notebook": {
     "kernelName": "html"
    }
   },
   "source": [
    "The `line-height` property will give space in between the lines. This property can take a `<length>`, but can also takes a unitless value which will be a multiplier, which means its the multiplier times the `font-size`, which will be the `line-height`."
   ]
  },
  {
   "attachments": {},
   "cell_type": "markdown",
   "metadata": {
    "dotnet_interactive": {
     "language": "html"
    },
    "polyglot_notebook": {
     "kernelName": "html"
    }
   },
   "source": [
    "Try messing with line height so you can squeeze in more info into a smaller box."
   ]
  },
  {
   "attachments": {},
   "cell_type": "markdown",
   "metadata": {
    "dotnet_interactive": {
     "language": "html"
    },
    "polyglot_notebook": {
     "kernelName": "html"
    }
   },
   "source": [
    "### Letter and Word Spacing"
   ]
  },
  {
   "attachments": {},
   "cell_type": "markdown",
   "metadata": {
    "dotnet_interactive": {
     "language": "html"
    },
    "polyglot_notebook": {
     "kernelName": "html"
    }
   },
   "source": [
    "`letter-spacing` and `word-spacing` are properties you maybe won't use too often, but something you should know exist if you need a specific look to your font."
   ]
  }
 ],
 "metadata": {
  "kernelspec": {
   "display_name": ".NET (C#)",
   "language": "C#",
   "name": ".net-csharp"
  },
  "polyglot_notebook": {
   "kernelInfo": {
    "defaultKernelName": "csharp",
    "items": [
     {
      "aliases": [
       "c#",
       "C#"
      ],
      "languageName": "C#",
      "name": "csharp"
     },
     {
      "aliases": [
       "frontend"
      ],
      "name": "vscode"
     },
     {
      "aliases": [],
      "name": ".NET"
     },
     {
      "aliases": [
       "f#",
       "F#"
      ],
      "languageName": "F#",
      "name": "fsharp"
     },
     {
      "aliases": [],
      "languageName": "HTML",
      "name": "html"
     },
     {
      "aliases": [],
      "languageName": "KQL",
      "name": "kql"
     },
     {
      "aliases": [],
      "languageName": "Mermaid",
      "name": "mermaid"
     },
     {
      "aliases": [
       "powershell"
      ],
      "languageName": "PowerShell",
      "name": "pwsh"
     },
     {
      "aliases": [],
      "languageName": "SQL",
      "name": "sql"
     },
     {
      "aliases": [],
      "name": "value"
     },
     {
      "aliases": [
       "js"
      ],
      "languageName": "JavaScript",
      "name": "javascript"
     },
     {
      "aliases": [],
      "name": "webview"
     }
    ]
   }
  }
 },
 "nbformat": 4,
 "nbformat_minor": 2
}
