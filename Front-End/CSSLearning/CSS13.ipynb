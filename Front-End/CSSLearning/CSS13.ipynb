{
 "cells": [
  {
   "attachments": {},
   "cell_type": "markdown",
   "metadata": {
    "dotnet_interactive": {
     "language": "csharp"
    },
    "polyglot_notebook": {
     "kernelName": "csharp"
    }
   },
   "source": [
    "# Positioning"
   ]
  },
  {
   "attachments": {},
   "cell_type": "markdown",
   "metadata": {
    "dotnet_interactive": {
     "language": "csharp"
    },
    "polyglot_notebook": {
     "kernelName": "csharp"
    }
   },
   "source": [
    "Positioning allows you to take elements out of normal document flow and make them behave differently."
   ]
  },
  {
   "attachments": {},
   "cell_type": "markdown",
   "metadata": {
    "dotnet_interactive": {
     "language": "csharp"
    },
    "polyglot_notebook": {
     "kernelName": "csharp"
    }
   },
   "source": [
    "## Static Positioning"
   ]
  },
  {
   "attachments": {},
   "cell_type": "markdown",
   "metadata": {
    "dotnet_interactive": {
     "language": "csharp"
    },
    "polyglot_notebook": {
     "kernelName": "csharp"
    }
   },
   "source": [
    "This is the default positioning all elements get. Which puts the element into normal position in document flow."
   ]
  },
  {
   "attachments": {},
   "cell_type": "markdown",
   "metadata": {
    "dotnet_interactive": {
     "language": "csharp"
    },
    "polyglot_notebook": {
     "kernelName": "csharp"
    }
   },
   "source": [
    "Type this in, but include enough `<p>` tags to force your document to scroll up and down alot:"
   ]
  },
  {
   "cell_type": "code",
   "execution_count": null,
   "metadata": {
    "dotnet_interactive": {
     "language": "html"
    },
    "polyglot_notebook": {
     "kernelName": "html"
    },
    "vscode": {
     "languageId": "polyglot-notebook"
    }
   },
   "outputs": [],
   "source": [
    "<head>\n",
    "<style>\n",
    "h1{\n",
    "    background: orange;\n",
    "    color: black;\n",
    "}\n",
    "p{\n",
    "    background: yellow;\n",
    "    color: black;\n",
    "}\n",
    "</style>\n",
    "</head>\n",
    "<body>\n",
    "    <h1>I am at the top</h1>\n",
    "    <p>I am a paragraph</p>\n",
    "    <p>I am a paragraph</p>\n",
    "    <p>I am a paragraph</p>\n",
    "    <p>I am a paragraph</p>\n",
    "</body>"
   ]
  },
  {
   "cell_type": "code",
   "execution_count": null,
   "metadata": {
    "dotnet_interactive": {
     "language": "html"
    },
    "polyglot_notebook": {
     "kernelName": "html"
    },
    "vscode": {
     "languageId": "polyglot-notebook"
    }
   },
   "outputs": [],
   "source": [
    "<head>\n",
    "<style>\n",
    "h1{\n",
    "    background: orange;\n",
    "    color: black;\n",
    "    position: static;\n",
    "}\n",
    "p{\n",
    "    background: yellow;\n",
    "    color: black;\n",
    "    position: static;\n",
    "}\n",
    "</style>\n",
    "</head>\n",
    "<body>\n",
    "    <h1>I am at the top</h1>\n",
    "    <p>I am a paragraph</p>\n",
    "    <p>I am a paragraph</p>\n",
    "    <p>I am a paragraph</p>\n",
    "    <p>I am a paragraph</p>\n",
    "</body>"
   ]
  },
  {
   "attachments": {},
   "cell_type": "markdown",
   "metadata": {
    "dotnet_interactive": {
     "language": "html"
    },
    "polyglot_notebook": {
     "kernelName": "html"
    }
   },
   "source": [
    "As you can see, nothing changed."
   ]
  },
  {
   "attachments": {},
   "cell_type": "markdown",
   "metadata": {
    "dotnet_interactive": {
     "language": "html"
    },
    "polyglot_notebook": {
     "kernelName": "html"
    }
   },
   "source": [
    "## Relative Positioning"
   ]
  },
  {
   "attachments": {},
   "cell_type": "markdown",
   "metadata": {
    "dotnet_interactive": {
     "language": "html"
    },
    "polyglot_notebook": {
     "kernelName": "html"
    }
   },
   "source": [
    "Very similar to static, but you can modify its final position, and make it overlap with other elements on the page. Try it out:"
   ]
  },
  {
   "cell_type": "code",
   "execution_count": null,
   "metadata": {
    "dotnet_interactive": {
     "language": "html"
    },
    "polyglot_notebook": {
     "kernelName": "html"
    },
    "vscode": {
     "languageId": "polyglot-notebook"
    }
   },
   "outputs": [],
   "source": [
    "<head>\n",
    "<style>\n",
    "h1{\n",
    "    background: orange;\n",
    "    color: black;\n",
    "    position: relative;\n",
    "}\n",
    "p{\n",
    "    background: yellow;\n",
    "    color: black;\n",
    "    position: static;\n",
    "}\n",
    "</style>\n",
    "</head>\n",
    "<body>\n",
    "    <h1>I am at the top</h1>\n",
    "    <p>I am a paragraph</p>\n",
    "    <p>I am a paragraph</p>\n",
    "    <p>I am a paragraph</p>\n",
    "    <p>I am a paragraph</p>\n",
    "</body>"
   ]
  },
  {
   "attachments": {},
   "cell_type": "markdown",
   "metadata": {
    "dotnet_interactive": {
     "language": "html"
    },
    "polyglot_notebook": {
     "kernelName": "html"
    }
   },
   "source": [
    "Still nothing changed!!"
   ]
  },
  {
   "attachments": {},
   "cell_type": "markdown",
   "metadata": {
    "dotnet_interactive": {
     "language": "html"
    },
    "polyglot_notebook": {
     "kernelName": "html"
    }
   },
   "source": [
    "Let's now modify the position of this element:"
   ]
  },
  {
   "cell_type": "code",
   "execution_count": null,
   "metadata": {
    "dotnet_interactive": {
     "language": "html"
    },
    "polyglot_notebook": {
     "kernelName": "html"
    },
    "vscode": {
     "languageId": "polyglot-notebook"
    }
   },
   "outputs": [],
   "source": [
    "<head>\n",
    "<style>\n",
    "h1{\n",
    "    background: orange;\n",
    "    color: black;\n",
    "    position: relative;\n",
    "    top: 40px;\n",
    "    left: 60px;\n",
    "}\n",
    "p{\n",
    "    background: yellow;\n",
    "    color: black;\n",
    "    position: relative;\n",
    "}\n",
    "</style>\n",
    "</head>\n",
    "<body>\n",
    "    <h1>I am at the top</h1>\n",
    "    <p>I am a paragraph</p>\n",
    "    <p>I am a paragraph</p>\n",
    "    <p>I am a paragraph</p>\n",
    "    <p>I am a paragraph</p>\n",
    "</body>"
   ]
  },
  {
   "attachments": {},
   "cell_type": "markdown",
   "metadata": {
    "dotnet_interactive": {
     "language": "html"
    },
    "polyglot_notebook": {
     "kernelName": "html"
    }
   },
   "source": [
    "Try to understand why it moved right and downwards."
   ]
  },
  {
   "attachments": {},
   "cell_type": "markdown",
   "metadata": {
    "dotnet_interactive": {
     "language": "html"
    },
    "polyglot_notebook": {
     "kernelName": "html"
    }
   },
   "source": [
    "### Also something very important, is that all of the elements are still aware of its existence, but are assuming its at the normal position, not its new one!!!!"
   ]
  },
  {
   "attachments": {},
   "cell_type": "markdown",
   "metadata": {
    "dotnet_interactive": {
     "language": "html"
    },
    "polyglot_notebook": {
     "kernelName": "html"
    }
   },
   "source": [
    "## Absolute Positioning"
   ]
  },
  {
   "attachments": {},
   "cell_type": "markdown",
   "metadata": {
    "dotnet_interactive": {
     "language": "html"
    },
    "polyglot_notebook": {
     "kernelName": "html"
    }
   },
   "source": [
    "Try to change the `<h1>`'s position to `absolute`, and see what happens:"
   ]
  },
  {
   "cell_type": "code",
   "execution_count": null,
   "metadata": {
    "dotnet_interactive": {
     "language": "html"
    },
    "polyglot_notebook": {
     "kernelName": "html"
    },
    "vscode": {
     "languageId": "polyglot-notebook"
    }
   },
   "outputs": [],
   "source": [
    "<head>\n",
    "<style>\n",
    "h1{\n",
    "    background: orange;\n",
    "    color: black;\n",
    "    position: absolute;\n",
    "    top: 40px;\n",
    "    left: 60px;\n",
    "}\n",
    "p{\n",
    "    background: yellow;\n",
    "    color: black;\n",
    "    position: static;\n",
    "}\n",
    "</style>\n",
    "</head>\n",
    "<body>\n",
    "    <h1>I am at the top</h1>\n",
    "    <p>I am a paragraph</p>\n",
    "    <p>I am a paragraph</p>\n",
    "    <p>I am a paragraph</p>\n",
    "    <p>I am a paragraph</p>\n",
    "</body>"
   ]
  },
  {
   "attachments": {},
   "cell_type": "markdown",
   "metadata": {
    "dotnet_interactive": {
     "language": "html"
    },
    "polyglot_notebook": {
     "kernelName": "html"
    }
   },
   "source": [
    "Can you guess what happened here? Why does it look like the header element moved even more down but the `top` is still at `40px`?"
   ]
  },
  {
   "attachments": {},
   "cell_type": "markdown",
   "metadata": {
    "dotnet_interactive": {
     "language": "html"
    },
    "polyglot_notebook": {
     "kernelName": "html"
    }
   },
   "source": [
    "What's happening, is that `absolute` positioned elements will no longer exist in the normal flow. It sits in a seperate layer from everything else.  \n",
    "Also, rather than positioning the element on relative position, they specify the distance the element should be from each of the CONTAINING element's sides.  \n",
    "So in the example here, it is contained in the `<body>` element, so it just acts like the normal relative position. If you had this in a small `<div>` box, it will look at the sides of its parent's sides."
   ]
  },
  {
   "attachments": {},
   "cell_type": "markdown",
   "metadata": {
    "dotnet_interactive": {
     "language": "html"
    },
    "polyglot_notebook": {
     "kernelName": "html"
    }
   },
   "source": [
    "### NOTE: Margins still affect positioned elements, but margin collapsing doesn't affect positioning."
   ]
  },
  {
   "attachments": {},
   "cell_type": "markdown",
   "metadata": {
    "dotnet_interactive": {
     "language": "html"
    },
    "polyglot_notebook": {
     "kernelName": "html"
    }
   },
   "source": [
    "#### A big note though, is that in order for the `absolute` to be positioned in respect to its parent container, then the parent container HAS to be `position: relative`. If no descendants of the `absolute` element is `position: relative`, then the `<body>` element will be what the position of `absolute` will take into account."
   ]
  },
  {
   "attachments": {},
   "cell_type": "markdown",
   "metadata": {
    "dotnet_interactive": {
     "language": "html"
    },
    "polyglot_notebook": {
     "kernelName": "html"
    }
   },
   "source": [
    "### z-index"
   ]
  },
  {
   "attachments": {},
   "cell_type": "markdown",
   "metadata": {
    "dotnet_interactive": {
     "language": "html"
    },
    "polyglot_notebook": {
     "kernelName": "html"
    }
   },
   "source": [
    "When objects start colliding, which one will be on top? That's what z-index is for. All elements basically have z-indices of `0`. The higher an element's `z-index` property is, the more \"forward\" it is compared to the other elements. For example:"
   ]
  },
  {
   "cell_type": "code",
   "execution_count": null,
   "metadata": {
    "dotnet_interactive": {
     "language": "html"
    },
    "polyglot_notebook": {
     "kernelName": "html"
    },
    "vscode": {
     "languageId": "polyglot-notebook"
    }
   },
   "outputs": [],
   "source": [
    "h1{\n",
    "    z-index: 1;\n",
    "}"
   ]
  },
  {
   "attachments": {},
   "cell_type": "markdown",
   "metadata": {
    "dotnet_interactive": {
     "language": "html"
    },
    "polyglot_notebook": {
     "kernelName": "html"
    }
   },
   "source": [
    "# Fixed Positioning"
   ]
  },
  {
   "attachments": {},
   "cell_type": "markdown",
   "metadata": {
    "dotnet_interactive": {
     "language": "html"
    },
    "polyglot_notebook": {
     "kernelName": "html"
    }
   },
   "source": [
    "Fixed positioning is almost like `absolute`, but it fixes itself to a visible portion of the viewport. An exception is if one of the element's ancestors is a fixed containing block because the `transform` property's value is not `none`. You basically use this as `absolute` as well."
   ]
  },
  {
   "cell_type": "code",
   "execution_count": null,
   "metadata": {
    "dotnet_interactive": {
     "language": "html"
    },
    "polyglot_notebook": {
     "kernelName": "html"
    },
    "vscode": {
     "languageId": "polyglot-notebook"
    }
   },
   "outputs": [],
   "source": [
    "<head>\n",
    "<style>\n",
    "h1{\n",
    "    background: orange;\n",
    "    color: black;\n",
    "    position: fixed;\n",
    "    top: 40px;\n",
    "    left: 60px;\n",
    "}\n",
    "p{\n",
    "    background: yellow;\n",
    "    color: black;\n",
    "    position: static;\n",
    "}\n",
    "</style>\n",
    "</head>\n",
    "<body>\n",
    "    <h1>I am at the top</h1>\n",
    "    <p>I am a paragraph</p>\n",
    "    <p>I am a paragraph</p>\n",
    "    <p>I am a paragraph</p>\n",
    "    <p>I am a paragraph</p>\n",
    "</body>"
   ]
  },
  {
   "attachments": {},
   "cell_type": "markdown",
   "metadata": {
    "dotnet_interactive": {
     "language": "html"
    },
    "polyglot_notebook": {
     "kernelName": "html"
    }
   },
   "source": [
    "Note that this happens because my viewport is different from normal!!!"
   ]
  },
  {
   "attachments": {},
   "cell_type": "markdown",
   "metadata": {
    "dotnet_interactive": {
     "language": "html"
    },
    "polyglot_notebook": {
     "kernelName": "html"
    }
   },
   "source": [
    "# Sticky Positioning"
   ]
  },
  {
   "attachments": {},
   "cell_type": "markdown",
   "metadata": {
    "dotnet_interactive": {
     "language": "html"
    },
    "polyglot_notebook": {
     "kernelName": "html"
    }
   },
   "source": [
    "This is a mix of relative and fixed poisition. It will allow a positioned element to act like it's relatively positioned until a certain point (like 50px from the top of the viewport), and then it will act fixed to the screen."
   ]
  },
  {
   "cell_type": "code",
   "execution_count": null,
   "metadata": {
    "dotnet_interactive": {
     "language": "html"
    },
    "polyglot_notebook": {
     "kernelName": "html"
    },
    "vscode": {
     "languageId": "polyglot-notebook"
    }
   },
   "outputs": [],
   "source": [
    "<head>\n",
    "<style>\n",
    "h1{\n",
    "    background: orange;\n",
    "    color: black;\n",
    "    position: sticky;\n",
    "    top: 40px;\n",
    "    left: 60px;\n",
    "}\n",
    "p{\n",
    "    background: yellow;\n",
    "    color: black;\n",
    "    position: static;\n",
    "}\n",
    "</style>\n",
    "</head>\n",
    "<body>\n",
    "    <h1>I am at the top</h1>\n",
    "    <p>I am a paragraph</p>\n",
    "    <p>I am a paragraph</p>\n",
    "    <p>I am a paragraph</p>\n",
    "    <p>I am a paragraph</p>\n",
    "</body>"
   ]
  },
  {
   "attachments": {},
   "cell_type": "markdown",
   "metadata": {
    "dotnet_interactive": {
     "language": "html"
    },
    "polyglot_notebook": {
     "kernelName": "html"
    }
   },
   "source": [
    "Note, I cannot show this here, but try it on your browser to see it happen!"
   ]
  },
  {
   "attachments": {},
   "cell_type": "markdown",
   "metadata": {
    "dotnet_interactive": {
     "language": "html"
    },
    "polyglot_notebook": {
     "kernelName": "html"
    }
   },
   "source": [
    "Try to make this:"
   ]
  },
  {
   "attachments": {},
   "cell_type": "markdown",
   "metadata": {
    "dotnet_interactive": {
     "language": "html"
    },
    "polyglot_notebook": {
     "kernelName": "html"
    }
   },
   "source": [
    "Run the <a href=\"CSS13.html\">CSS13.html</a> file in the browser. (Don't let the students look until after they try it!)"
   ]
  }
 ],
 "metadata": {
  "kernelspec": {
   "display_name": ".NET (C#)",
   "language": "C#",
   "name": ".net-csharp"
  },
  "polyglot_notebook": {
   "kernelInfo": {
    "defaultKernelName": "csharp",
    "items": [
     {
      "aliases": [
       "c#",
       "C#"
      ],
      "languageName": "C#",
      "name": "csharp"
     },
     {
      "aliases": [
       "frontend"
      ],
      "name": "vscode"
     },
     {
      "aliases": [],
      "name": ".NET"
     },
     {
      "aliases": [
       "f#",
       "F#"
      ],
      "languageName": "F#",
      "name": "fsharp"
     },
     {
      "aliases": [],
      "languageName": "HTML",
      "name": "html"
     },
     {
      "aliases": [
       "js"
      ],
      "languageName": "JavaScript",
      "name": "javascript"
     },
     {
      "aliases": [],
      "languageName": "KQL",
      "name": "kql"
     },
     {
      "aliases": [],
      "languageName": "Mermaid",
      "name": "mermaid"
     },
     {
      "aliases": [
       "powershell"
      ],
      "languageName": "PowerShell",
      "name": "pwsh"
     },
     {
      "aliases": [],
      "languageName": "SQL",
      "name": "sql"
     },
     {
      "aliases": [],
      "name": "value"
     },
     {
      "aliases": [],
      "name": "webview"
     }
    ]
   }
  }
 },
 "nbformat": 4,
 "nbformat_minor": 2
}
