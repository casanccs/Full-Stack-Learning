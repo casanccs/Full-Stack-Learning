{
 "cells": [
  {
   "attachments": {},
   "cell_type": "markdown",
   "metadata": {
    "dotnet_interactive": {
     "language": "csharp"
    },
    "polyglot_notebook": {
     "kernelName": "csharp"
    }
   },
   "source": [
    "# Text Stuff"
   ]
  },
  {
   "attachments": {},
   "cell_type": "markdown",
   "metadata": {
    "dotnet_interactive": {
     "language": "csharp"
    },
    "polyglot_notebook": {
     "kernelName": "csharp"
    }
   },
   "source": [
    "Remember to clear outputs of all cells after showing the outputs before it."
   ]
  },
  {
   "attachments": {},
   "cell_type": "markdown",
   "metadata": {
    "dotnet_interactive": {
     "language": "csharp"
    },
    "polyglot_notebook": {
     "kernelName": "csharp"
    }
   },
   "source": [
    "## Handling Different Text Directions"
   ]
  },
  {
   "attachments": {},
   "cell_type": "markdown",
   "metadata": {
    "dotnet_interactive": {
     "language": "csharp"
    },
    "polyglot_notebook": {
     "kernelName": "csharp"
    }
   },
   "source": [
    "***Writing Modes*** refers to if the text is running horizontally or vertically. `writing-mode` property allows us to switch from one writing mode to another in an element.   \n",
    "For example:  \n",
    "`writing-mode: vertical-rl`  \n",
    "Will make the text run vertically. Try it out on a webpage."
   ]
  },
  {
   "attachments": {},
   "cell_type": "markdown",
   "metadata": {
    "dotnet_interactive": {
     "language": "csharp"
    },
    "polyglot_notebook": {
     "kernelName": "csharp"
    }
   },
   "source": [
    "The three `writing-mode` property values are:\n",
    "1. `horizontal-tb` : Top to Bottom block flow direction. Sentences run horizontally.\n",
    "2. `vertical-rl` : Right to Left block flow direction. Sentence run vertically.\n",
    "3. `vertical-lr` : Left to Right block flow direction. Sentences run vertically."
   ]
  },
  {
   "attachments": {},
   "cell_type": "markdown",
   "metadata": {
    "dotnet_interactive": {
     "language": "csharp"
    },
    "polyglot_notebook": {
     "kernelName": "csharp"
    }
   },
   "source": [
    "Try to make a long paragraph with multiple lines, and see what changing the `writing-mode` property to any one of these values will do."
   ]
  },
  {
   "attachments": {},
   "cell_type": "markdown",
   "metadata": {
    "dotnet_interactive": {
     "language": "csharp"
    },
    "polyglot_notebook": {
     "kernelName": "csharp"
    }
   },
   "source": [
    "Something very important to take note of, is the `block` and `inline` boxes are tied to the ***writing mode*** of the document/element, not of the physical screen. So what this means, is that when in `horizontal-tb` mode, the block direction runs from top to bottom, while in `vertical-rl`, it runs from right to left horizontally. Block dimension is the direction blocks are displayed in the writing mode that is in use, while inline dimension is the direction a sentence flows."
   ]
  },
  {
   "attachments": {},
   "cell_type": "markdown",
   "metadata": {
    "dotnet_interactive": {
     "language": "csharp"
    },
    "polyglot_notebook": {
     "kernelName": "csharp"
    }
   },
   "source": [
    "<h4> Here is an example of a box when writing in horizontal writing mode: </h4>\n",
    "<img src=\"horizontal-tb.png\">\n",
    "<h4> Here is an example of a box when writing in vertical writing mode: </h4>\n",
    "<img src=\"vertical.png\">"
   ]
  },
  {
   "attachments": {},
   "cell_type": "markdown",
   "metadata": {
    "dotnet_interactive": {
     "language": "csharp"
    },
    "polyglot_notebook": {
     "kernelName": "csharp"
    }
   },
   "source": [
    "### Logical Properties and Values"
   ]
  },
  {
   "attachments": {},
   "cell_type": "markdown",
   "metadata": {
    "dotnet_interactive": {
     "language": "csharp"
    },
    "polyglot_notebook": {
     "kernelName": "csharp"
    }
   },
   "source": [
    "Lets start at this example:"
   ]
  },
  {
   "cell_type": "code",
   "execution_count": null,
   "metadata": {
    "dotnet_interactive": {
     "language": "html"
    },
    "polyglot_notebook": {
     "kernelName": "html"
    },
    "vscode": {
     "languageId": "polyglot-notebook"
    }
   },
   "outputs": [],
   "source": [
    "<head>\n",
    "<style>\n",
    ".box {\n",
    "  width: 100px;\n",
    "  border: 2px solid white;\n",
    "}\n",
    "\n",
    ".horizontal {\n",
    "  writing-mode: horizontal-tb;\n",
    "}\n",
    "\n",
    ".vertical {\n",
    "  writing-mode: vertical-rl;\n",
    "}\n",
    "</style>\n",
    "</head>\n",
    "<body>\n",
    "<div class=\"wrapper\">\n",
    "  <div class=\"box horizontal\">\n",
    "    <h2>Heading</h2>\n",
    "    <p>A paragraph. Demonstrating Writing Modes in CSS.</p>\n",
    "    <p>These boxes have a width.</p>\n",
    "  </div>\n",
    "  <div class=\"box vertical\">\n",
    "    <h2>Heading</h2>\n",
    "    <p>A paragraph. Demonstrating Writing Modes in CSS.</p>\n",
    "    <p>These boxes have a width.</p>\n",
    "  </div>\n",
    "</div>\n",
    "</body>"
   ]
  },
  {
   "attachments": {},
   "cell_type": "markdown",
   "metadata": {
    "dotnet_interactive": {
     "language": "html"
    },
    "polyglot_notebook": {
     "kernelName": "html"
    }
   },
   "source": [
    "Notice how width for the vertical writing mode, still changes the width in terms of the horizontal mode. We want to swap height with width when the writing mode changes. You can use either `inline-size` or `block-size` properties to replace `width` and `height`, because the direction of the inline and block will change based on the writing mode.  \n",
    "Using the same example:"
   ]
  },
  {
   "cell_type": "code",
   "execution_count": null,
   "metadata": {
    "dotnet_interactive": {
     "language": "html"
    },
    "polyglot_notebook": {
     "kernelName": "html"
    },
    "vscode": {
     "languageId": "polyglot-notebook"
    }
   },
   "outputs": [],
   "source": [
    "<head>\n",
    "<style>\n",
    ".box {\n",
    "  inline-size: 100px;\n",
    "  border: 2px solid white;\n",
    "}\n",
    "\n",
    ".horizontal {\n",
    "  writing-mode: horizontal-tb;\n",
    "}\n",
    "\n",
    ".vertical {\n",
    "  writing-mode: vertical-rl;\n",
    "}\n",
    "</style>\n",
    "</head>\n",
    "<body>\n",
    "<div class=\"wrapper\">\n",
    "  <div class=\"box horizontal\">\n",
    "    <h2>Heading</h2>\n",
    "    <p>A paragraph. Demonstrating Writing Modes in CSS.</p>\n",
    "    <p>These boxes have a width.</p>\n",
    "  </div>\n",
    "  <div class=\"box vertical\">\n",
    "    <h2>Heading</h2>\n",
    "    <p>A paragraph. Demonstrating Writing Modes in CSS.</p>\n",
    "    <p>These boxes have a width.</p>\n",
    "  </div>\n",
    "</div>\n",
    "</body>"
   ]
  },
  {
   "attachments": {},
   "cell_type": "markdown",
   "metadata": {
    "dotnet_interactive": {
     "language": "html"
    },
    "polyglot_notebook": {
     "kernelName": "html"
    }
   },
   "source": [
    "There is also properties like: `margin-block-start` which is mapped to `margin-top`, `padding-inline-start` mapped to `padding-left`, `border-block-end` mapped to `border-bottom`, etc."
   ]
  },
  {
   "attachments": {},
   "cell_type": "markdown",
   "metadata": {
    "dotnet_interactive": {
     "language": "html"
    },
    "polyglot_notebook": {
     "kernelName": "html"
    }
   },
   "source": [
    "The physical values, `top`, `right`, `bottom`, and `left`, are mapped to: `block-start`, `inline-end`, `block-end`, and `inline-start`."
   ]
  },
  {
   "attachments": {},
   "cell_type": "markdown",
   "metadata": {
    "dotnet_interactive": {
     "language": "html"
    },
    "polyglot_notebook": {
     "kernelName": "html"
    }
   },
   "source": [
    "# Overflowing Content"
   ]
  },
  {
   "attachments": {},
   "cell_type": "markdown",
   "metadata": {
    "dotnet_interactive": {
     "language": "html"
    },
    "polyglot_notebook": {
     "kernelName": "html"
    }
   },
   "source": [
    "Overflow is what happens when there is too much content than what the container can fit."
   ]
  },
  {
   "attachments": {},
   "cell_type": "markdown",
   "metadata": {
    "dotnet_interactive": {
     "language": "html"
    },
    "polyglot_notebook": {
     "kernelName": "html"
    }
   },
   "source": [
    "You can constrain the size of boxes by assigning `width` and `height` values. (Or `inline-size` and `block-size`). Here is an example of overflow:"
   ]
  },
  {
   "cell_type": "code",
   "execution_count": null,
   "metadata": {
    "dotnet_interactive": {
     "language": "html"
    },
    "polyglot_notebook": {
     "kernelName": "html"
    },
    "vscode": {
     "languageId": "polyglot-notebook"
    }
   },
   "outputs": [],
   "source": [
    "<head>\n",
    "<style>\n",
    ".box {\n",
    "  border: 2px solid black;\n",
    "  width: 200px;\n",
    "  height: 100px;\n",
    "}\n",
    "    \n",
    "</style>\n",
    "</head>\n",
    "<body>\n",
    "<div class=\"box\">This box has a height and a width. This means that if there is too much content to be displayed within the assigned height, there will be an overflow situation. If overflow is set to hidden then any overflow will not be visible.</div>\n",
    "\n",
    "<p>This content is outside of the box.</p>\n",
    "</body>"
   ]
  },
  {
   "attachments": {},
   "cell_type": "markdown",
   "metadata": {
    "dotnet_interactive": {
     "language": "html"
    },
    "polyglot_notebook": {
     "kernelName": "html"
    }
   },
   "source": [
    "Notice how the content inside the box is overflows from the BOTTOM."
   ]
  },
  {
   "cell_type": "code",
   "execution_count": null,
   "metadata": {
    "dotnet_interactive": {
     "language": "html"
    },
    "polyglot_notebook": {
     "kernelName": "html"
    },
    "vscode": {
     "languageId": "polyglot-notebook"
    }
   },
   "outputs": [],
   "source": [
    "<head>\n",
    "<style>\n",
    ".word {\n",
    "  border: 2px solid black;\n",
    "  width: 100px;\n",
    "  font-size: 250%;\n",
    "}\n",
    "\n",
    "</style>\n",
    "</head>\n",
    "<body>\n",
    "<div class=\"word\">Overflow</div>\n",
    "</body>"
   ]
  },
  {
   "attachments": {},
   "cell_type": "markdown",
   "metadata": {
    "dotnet_interactive": {
     "language": "html"
    },
    "polyglot_notebook": {
     "kernelName": "html"
    }
   },
   "source": [
    "What do you see the difference with the overflow here is? Why do you think this happens?"
   ]
  },
  {
   "attachments": {},
   "cell_type": "markdown",
   "metadata": {
    "dotnet_interactive": {
     "language": "html"
    },
    "polyglot_notebook": {
     "kernelName": "html"
    }
   },
   "source": [
    "Because the text is just one word, it cannot split one word on a new line, and overflows to the right of the box."
   ]
  },
  {
   "attachments": {},
   "cell_type": "markdown",
   "metadata": {
    "dotnet_interactive": {
     "language": "html"
    },
    "polyglot_notebook": {
     "kernelName": "html"
    }
   },
   "source": [
    "Does overflow happen when you don't assign width and height? Why?"
   ]
  },
  {
   "attachments": {},
   "cell_type": "markdown",
   "metadata": {
    "dotnet_interactive": {
     "language": "html"
    },
    "polyglot_notebook": {
     "kernelName": "html"
    }
   },
   "source": [
    "Because the box is not a strict rigid size, the box can adjust to the size of the contents."
   ]
  },
  {
   "attachments": {},
   "cell_type": "markdown",
   "metadata": {
    "dotnet_interactive": {
     "language": "html"
    },
    "polyglot_notebook": {
     "kernelName": "html"
    }
   },
   "source": [
    "The `overflow` property takes controls of the element's overflow. By default, the value is `visible`. Try it with value `hidden` instead for yourself. Here is me doing it on the example above:"
   ]
  },
  {
   "cell_type": "code",
   "execution_count": null,
   "metadata": {
    "dotnet_interactive": {
     "language": "html"
    },
    "polyglot_notebook": {
     "kernelName": "html"
    },
    "vscode": {
     "languageId": "polyglot-notebook"
    }
   },
   "outputs": [],
   "source": [
    "<head>\n",
    "<style>\n",
    ".word {\n",
    "  border: 2px solid black;\n",
    "  width: 100px;\n",
    "  font-size: 250%;\n",
    "  overflow: hidden;\n",
    "}\n",
    "\n",
    "</style>\n",
    "</head>\n",
    "<body>\n",
    "<div class=\"word\">Overflow</div>\n",
    "</body>"
   ]
  },
  {
   "attachments": {},
   "cell_type": "markdown",
   "metadata": {
    "dotnet_interactive": {
     "language": "html"
    },
    "polyglot_notebook": {
     "kernelName": "html"
    }
   },
   "source": [
    "You can also add scroll bars by using the `scroll` value which will let you look at the overflowing content. But even if the content doesn't overflow, the scroll bars will still be there. Here is an example:"
   ]
  },
  {
   "cell_type": "code",
   "execution_count": 13,
   "metadata": {
    "dotnet_interactive": {
     "language": "html"
    },
    "polyglot_notebook": {
     "kernelName": "html"
    },
    "vscode": {
     "languageId": "polyglot-notebook"
    }
   },
   "outputs": [
    {
     "data": {
      "text/html": [
       "<head>\r\n",
       "<style>\r\n",
       ".box {\r\n",
       "  border: 2px solid black;\r\n",
       "  width: 200px;\r\n",
       "  height: 100px;\r\n",
       "  overflow: scroll;\r\n",
       "}\r\n",
       "    \r\n",
       "</style>\r\n",
       "</head>\r\n",
       "<body>\r\n",
       "<div class=\"box\">This box has a heigll be an overflow situation.flkasjdfklasjlkdlfkaj slk;dfj;asldkjf If overflow is set to hidden then any overflow will not be visible.</div>\r\n",
       "\r\n",
       "<p>This content is outside of the box.</p>\r\n",
       "</body>"
      ]
     },
     "metadata": {},
     "output_type": "display_data"
    }
   ],
   "source": [
    "<head>\n",
    "<style>\n",
    ".box {\n",
    "  border: 2px solid black;\n",
    "  width: 200px;\n",
    "  height: 100px;\n",
    "  overflow: scroll;\n",
    "}\n",
    "    \n",
    "</style>\n",
    "</head>\n",
    "<body>\n",
    "<div class=\"box\">This box has a heigll be an overflow situation.flkasjdfklasjlkdlfkaj slk;dfj;asldkjf If overflow is set to hidden then any overflow will not be visible.</div>\n",
    "\n",
    "<p>This content is outside of the box.</p>\n",
    "</body>"
   ]
  },
  {
   "attachments": {},
   "cell_type": "markdown",
   "metadata": {
    "dotnet_interactive": {
     "language": "html"
    },
    "polyglot_notebook": {
     "kernelName": "html"
    }
   },
   "source": [
    "There are also the properties: `overflow-y` and `overflow-x`, and setting one with value `scroll`, will only allow scrolling in one direction, or any other overflow value you set in it."
   ]
  },
  {
   "attachments": {},
   "cell_type": "markdown",
   "metadata": {
    "dotnet_interactive": {
     "language": "html"
    },
    "polyglot_notebook": {
     "kernelName": "html"
    }
   },
   "source": [
    "The properties `word-break` or `overflow-wrap`, will help with long words in a small box. Try these out on some of the long words you have. Here is an example:"
   ]
  },
  {
   "cell_type": "code",
   "execution_count": null,
   "metadata": {
    "dotnet_interactive": {
     "language": "html"
    },
    "polyglot_notebook": {
     "kernelName": "html"
    },
    "vscode": {
     "languageId": "polyglot-notebook"
    }
   },
   "outputs": [],
   "source": [
    "<head>\n",
    "<style>\n",
    ".word {\n",
    "  border: 2px solid black;\n",
    "  width: 100px;\n",
    "  font-size: 250%;\n",
    "  overflow-wrap: anywhere;\n",
    "}\n",
    "\n",
    "</style>\n",
    "</head>\n",
    "<body>\n",
    "<div class=\"word\">Overflow</div>\n",
    "</body>"
   ]
  },
  {
   "attachments": {},
   "cell_type": "markdown",
   "metadata": {
    "dotnet_interactive": {
     "language": "html"
    },
    "polyglot_notebook": {
     "kernelName": "html"
    }
   },
   "source": [
    "Look here to see the values and what they do for <a href=\"https://developer.mozilla.org/en-US/docs/Web/CSS/word-break\">`word-break`</a> and <a href=\"https://developer.mozilla.org/en-US/docs/Web/CSS/overflow-wrap\">`overflow-wrap`</a>."
   ]
  },
  {
   "attachments": {},
   "cell_type": "markdown",
   "metadata": {
    "dotnet_interactive": {
     "language": "html"
    },
    "polyglot_notebook": {
     "kernelName": "html"
    }
   },
   "source": [
    "One of the most useful values for the `overflow` property, is the `auto` value, which will make scrollbars appear ONLY WHEN there is more content than can fit in the box. Try it out on one of your elements."
   ]
  },
  {
   "attachments": {},
   "cell_type": "markdown",
   "metadata": {
    "dotnet_interactive": {
     "language": "html"
    },
    "polyglot_notebook": {
     "kernelName": "html"
    }
   },
   "source": [
    "When using `scroll` or `auto` for example, you create a **Block Formatting Context**. So the box you changed has a self-contained layout. So content outside the box cannot be shown in the container, and everything in the container cannot be shown out of the container."
   ]
  }
 ],
 "metadata": {
  "kernelspec": {
   "display_name": ".NET (C#)",
   "language": "C#",
   "name": ".net-csharp"
  },
  "polyglot_notebook": {
   "kernelInfo": {
    "defaultKernelName": "csharp",
    "items": [
     {
      "aliases": [
       "c#",
       "C#"
      ],
      "languageName": "C#",
      "name": "csharp"
     },
     {
      "aliases": [
       "frontend"
      ],
      "name": "vscode"
     },
     {
      "aliases": [],
      "name": ".NET"
     },
     {
      "aliases": [
       "f#",
       "F#"
      ],
      "languageName": "F#",
      "name": "fsharp"
     },
     {
      "aliases": [],
      "languageName": "HTML",
      "name": "html"
     },
     {
      "aliases": [
       "js"
      ],
      "languageName": "JavaScript",
      "name": "javascript"
     },
     {
      "aliases": [],
      "languageName": "KQL",
      "name": "kql"
     },
     {
      "aliases": [],
      "languageName": "Mermaid",
      "name": "mermaid"
     },
     {
      "aliases": [
       "powershell"
      ],
      "languageName": "PowerShell",
      "name": "pwsh"
     },
     {
      "aliases": [],
      "languageName": "SQL",
      "name": "sql"
     },
     {
      "aliases": [],
      "name": "value"
     },
     {
      "aliases": [],
      "name": "webview"
     }
    ]
   }
  }
 },
 "nbformat": 4,
 "nbformat_minor": 2
}
