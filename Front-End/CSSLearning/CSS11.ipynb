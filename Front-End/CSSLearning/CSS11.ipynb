{
 "cells": [
  {
   "attachments": {},
   "cell_type": "markdown",
   "metadata": {
    "dotnet_interactive": {
     "language": "csharp"
    },
    "polyglot_notebook": {
     "kernelName": "csharp"
    }
   },
   "source": [
    "# Grids"
   ]
  },
  {
   "attachments": {},
   "cell_type": "markdown",
   "metadata": {
    "dotnet_interactive": {
     "language": "csharp"
    },
    "polyglot_notebook": {
     "kernelName": "csharp"
    }
   },
   "source": [
    "While Flexbox is a one-dimensional layout, **Grids** are a two-dimensional layout system. It lets you lay content in rows and in columns."
   ]
  },
  {
   "attachments": {},
   "cell_type": "markdown",
   "metadata": {
    "dotnet_interactive": {
     "language": "csharp"
    },
    "polyglot_notebook": {
     "kernelName": "csharp"
    }
   },
   "source": [
    "<img src=\"gridLayout.png\">"
   ]
  },
  {
   "attachments": {},
   "cell_type": "markdown",
   "metadata": {
    "dotnet_interactive": {
     "language": "csharp"
    },
    "polyglot_notebook": {
     "kernelName": "csharp"
    }
   },
   "source": [
    "Grids will have **columns**, **rows**, and then gaps between each row and column, called **gutters**."
   ]
  },
  {
   "attachments": {},
   "cell_type": "markdown",
   "metadata": {
    "dotnet_interactive": {
     "language": "csharp"
    },
    "polyglot_notebook": {
     "kernelName": "csharp"
    }
   },
   "source": [
    "Let's start with an example:"
   ]
  },
  {
   "cell_type": "code",
   "execution_count": null,
   "metadata": {
    "dotnet_interactive": {
     "language": "html"
    },
    "polyglot_notebook": {
     "kernelName": "html"
    },
    "vscode": {
     "languageId": "polyglot-notebook"
    }
   },
   "outputs": [],
   "source": [
    "<head>\n",
    "<style>\n",
    ".container p{\n",
    "    background-color: #99FF99;\n",
    "    color: black;\n",
    "}\n",
    "</style>\n",
    "</head>\n",
    "<body>\n",
    "    <div class=\"container\">\n",
    "        <p>one</p>\n",
    "        <p>two</p>\n",
    "        <p>three</p>\n",
    "        <p>four</p>\n",
    "        <p>five</p>\n",
    "    </div>\n",
    "</body>"
   ]
  },
  {
   "cell_type": "code",
   "execution_count": null,
   "metadata": {
    "dotnet_interactive": {
     "language": "html"
    },
    "polyglot_notebook": {
     "kernelName": "html"
    },
    "vscode": {
     "languageId": "polyglot-notebook"
    }
   },
   "outputs": [],
   "source": [
    "<head>\n",
    "<style>\n",
    ".container p{\n",
    "    background-color: #99FF99;\n",
    "    color: black;\n",
    "}\n",
    ".container{\n",
    "    display: grid;\n",
    "}\n",
    "</style>\n",
    "</head>\n",
    "<body>\n",
    "    <div class=\"container\">\n",
    "        <p>one</p>\n",
    "        <p>two</p>\n",
    "        <p>three</p>\n",
    "        <p>four</p>\n",
    "        <p>five</p>\n",
    "    </div>\n",
    "</body>"
   ]
  },
  {
   "attachments": {},
   "cell_type": "markdown",
   "metadata": {
    "dotnet_interactive": {
     "language": "html"
    },
    "polyglot_notebook": {
     "kernelName": "html"
    }
   },
   "source": [
    "Do you notice anything different?"
   ]
  },
  {
   "attachments": {},
   "cell_type": "markdown",
   "metadata": {
    "dotnet_interactive": {
     "language": "html"
    },
    "polyglot_notebook": {
     "kernelName": "html"
    }
   },
   "source": [
    "Nothing will be different at first. Right now you have a one column grid, with five rows. Let's add some columns."
   ]
  },
  {
   "cell_type": "code",
   "execution_count": null,
   "metadata": {
    "dotnet_interactive": {
     "language": "html"
    },
    "polyglot_notebook": {
     "kernelName": "html"
    },
    "vscode": {
     "languageId": "polyglot-notebook"
    }
   },
   "outputs": [],
   "source": [
    "<head>\n",
    "<style>\n",
    ".container p{\n",
    "    background-color: #99FF99;\n",
    "    color: black;\n",
    "    display: grid;\n",
    "}\n",
    ".container{\n",
    "    display: grid;    \n",
    "    grid-template-columns: 200px 200px 200px 200px 200px;\n",
    "}\n",
    "</style>\n",
    "</head>\n",
    "<body>\n",
    "    <div class=\"container\">\n",
    "        <p>one</p>\n",
    "        <p>two</p>\n",
    "        <p>three</p>\n",
    "        <p>four</p>\n",
    "        <p>five</p>\n",
    "    </div>\n",
    "</body>"
   ]
  },
  {
   "attachments": {},
   "cell_type": "markdown",
   "metadata": {
    "dotnet_interactive": {
     "language": "html"
    },
    "polyglot_notebook": {
     "kernelName": "html"
    }
   },
   "source": [
    "Notice how we have 5 columns now. How can we have 3 columns instead?"
   ]
  },
  {
   "cell_type": "code",
   "execution_count": null,
   "metadata": {
    "dotnet_interactive": {
     "language": "html"
    },
    "polyglot_notebook": {
     "kernelName": "html"
    },
    "vscode": {
     "languageId": "polyglot-notebook"
    }
   },
   "outputs": [],
   "source": [
    "<head>\n",
    "<style>\n",
    ".container p{\n",
    "    background-color: #99FF99;\n",
    "    color: black;\n",
    "    display: grid;\n",
    "    border: 3px solid #990000;\n",
    "}\n",
    ".container{\n",
    "    display: grid;    \n",
    "    grid-template-columns: 200px 200px 200px;\n",
    "}\n",
    "</style>\n",
    "</head>\n",
    "<body>\n",
    "    <div class=\"container\">\n",
    "        <p>one</p>\n",
    "        <p>two</p>\n",
    "        <p>three</p>\n",
    "        <p>four</p>\n",
    "        <p>five</p>\n",
    "    </div>\n",
    "</body>"
   ]
  },
  {
   "attachments": {},
   "cell_type": "markdown",
   "metadata": {
    "dotnet_interactive": {
     "language": "html"
    },
    "polyglot_notebook": {
     "kernelName": "html"
    }
   },
   "source": [
    "Note I added borders for easier visibility."
   ]
  },
  {
   "attachments": {},
   "cell_type": "markdown",
   "metadata": {
    "dotnet_interactive": {
     "language": "html"
    },
    "polyglot_notebook": {
     "kernelName": "html"
    }
   },
   "source": [
    "## Flexbile Grids with `fr` unit"
   ]
  },
  {
   "attachments": {},
   "cell_type": "markdown",
   "metadata": {
    "dotnet_interactive": {
     "language": "html"
    },
    "polyglot_notebook": {
     "kernelName": "html"
    }
   },
   "source": [
    "Use `fr` unit to have flexible sized columns and rows. This unit represents one fraction of the available space in the grid container. For example:"
   ]
  },
  {
   "cell_type": "code",
   "execution_count": null,
   "metadata": {
    "dotnet_interactive": {
     "language": "html"
    },
    "polyglot_notebook": {
     "kernelName": "html"
    },
    "vscode": {
     "languageId": "polyglot-notebook"
    }
   },
   "outputs": [],
   "source": [
    "<head>\n",
    "<style>\n",
    ".container p{\n",
    "    background-color: #99FF99;\n",
    "    color: black;\n",
    "    display: grid;\n",
    "    border: 3px solid #990000;\n",
    "}\n",
    ".container{\n",
    "    display: grid;    \n",
    "    grid-template-columns: 1fr 1fr 1fr;\n",
    "}\n",
    "</style>\n",
    "</head>\n",
    "<body>\n",
    "    <div class=\"container\">\n",
    "        <p>one</p>\n",
    "        <p>two</p>\n",
    "        <p>three</p>\n",
    "        <p>four</p>\n",
    "        <p>five</p>\n",
    "    </div>\n",
    "</body>"
   ]
  },
  {
   "attachments": {},
   "cell_type": "markdown",
   "metadata": {
    "dotnet_interactive": {
     "language": "html"
    },
    "polyglot_notebook": {
     "kernelName": "html"
    }
   },
   "source": [
    "In the example before this one, the grid took up only 600px, while this will always use up the entire available space that the parent takes up."
   ]
  },
  {
   "attachments": {},
   "cell_type": "markdown",
   "metadata": {
    "dotnet_interactive": {
     "language": "html"
    },
    "polyglot_notebook": {
     "kernelName": "html"
    }
   },
   "source": [
    "Try to imagine what will happen if we change the middle value to 2fr.  \n",
    "How much space out of 100% will the first, second, and third column take up?"
   ]
  },
  {
   "cell_type": "code",
   "execution_count": null,
   "metadata": {
    "dotnet_interactive": {
     "language": "html"
    },
    "polyglot_notebook": {
     "kernelName": "html"
    },
    "vscode": {
     "languageId": "polyglot-notebook"
    }
   },
   "outputs": [],
   "source": [
    "<head>\n",
    "<style>\n",
    ".container p{\n",
    "    background-color: #99FF99;\n",
    "    color: black;\n",
    "    display: grid;\n",
    "    border: 3px solid #990000;\n",
    "}\n",
    ".container{\n",
    "    display: grid;    \n",
    "    grid-template-columns: 1fr 2fr 1fr;\n",
    "}\n",
    "</style>\n",
    "</head>\n",
    "<body>\n",
    "    <div class=\"container\">\n",
    "        <p>one</p>\n",
    "        <p>two</p>\n",
    "        <p>three</p>\n",
    "        <p>four</p>\n",
    "        <p>five</p>\n",
    "    </div>\n",
    "</body>"
   ]
  },
  {
   "attachments": {},
   "cell_type": "markdown",
   "metadata": {
    "dotnet_interactive": {
     "language": "html"
    },
    "polyglot_notebook": {
     "kernelName": "html"
    }
   },
   "source": [
    "Answer is that first takes 25%, second 50%, third 25%."
   ]
  },
  {
   "attachments": {},
   "cell_type": "markdown",
   "metadata": {
    "dotnet_interactive": {
     "language": "html"
    },
    "polyglot_notebook": {
     "kernelName": "html"
    }
   },
   "source": [
    "You can also mix `fr` units with fixed length units, where the fixed lenghts is used up first, then the rest goes toward the `fr` unit lengths."
   ]
  },
  {
   "attachments": {},
   "cell_type": "markdown",
   "metadata": {
    "dotnet_interactive": {
     "language": "html"
    },
    "polyglot_notebook": {
     "kernelName": "html"
    }
   },
   "source": [
    "## Gaps Between Tracks"
   ]
  },
  {
   "attachments": {},
   "cell_type": "markdown",
   "metadata": {
    "dotnet_interactive": {
     "language": "html"
    },
    "polyglot_notebook": {
     "kernelName": "html"
    }
   },
   "source": [
    "Tracks are the columns and rows of the grid.  \n",
    "Use the properties `column-gap` and `row-gap` to create a \"gutter\". Or use the `gap` as shorthand for both:"
   ]
  },
  {
   "cell_type": "code",
   "execution_count": null,
   "metadata": {
    "dotnet_interactive": {
     "language": "html"
    },
    "polyglot_notebook": {
     "kernelName": "html"
    },
    "vscode": {
     "languageId": "polyglot-notebook"
    }
   },
   "outputs": [],
   "source": [
    "<head>\n",
    "<style>\n",
    ".container p{\n",
    "    background-color: #99FF99;\n",
    "    color: black;\n",
    "    display: grid;\n",
    "    border: 3px solid #990000;\n",
    "}\n",
    ".container{\n",
    "    display: grid;    \n",
    "    grid-template-columns: 1fr 2fr 1fr;\n",
    "    gap: 20px;\n",
    "}\n",
    "</style>\n",
    "</head>\n",
    "<body>\n",
    "    <div class=\"container\">\n",
    "        <p>one</p>\n",
    "        <p>two</p>\n",
    "        <p>three</p>\n",
    "        <p>four</p>\n",
    "        <p>five</p>\n",
    "    </div>\n",
    "</body>"
   ]
  },
  {
   "attachments": {},
   "cell_type": "markdown",
   "metadata": {
    "dotnet_interactive": {
     "language": "html"
    },
    "polyglot_notebook": {
     "kernelName": "html"
    }
   },
   "source": [
    "Notice how even before this, we already had a vertical gap between the rows. Why did we, and how do we fix this?"
   ]
  },
  {
   "cell_type": "code",
   "execution_count": null,
   "metadata": {
    "dotnet_interactive": {
     "language": "html"
    },
    "polyglot_notebook": {
     "kernelName": "html"
    },
    "vscode": {
     "languageId": "polyglot-notebook"
    }
   },
   "outputs": [],
   "source": [
    "<head>\n",
    "<style>\n",
    ".container p{\n",
    "    background-color: #99FF99;\n",
    "    color: black;\n",
    "    display: grid;\n",
    "    border: 3px solid #990000;\n",
    "    margin: 0;\n",
    "}\n",
    ".container{\n",
    "    display: grid;    \n",
    "    grid-template-columns: 1fr 2fr 1fr;\n",
    "    gap: 20px;\n",
    "}\n",
    "</style>\n",
    "</head>\n",
    "<body>\n",
    "    <div class=\"container\">\n",
    "        <p>one</p>\n",
    "        <p>two</p>\n",
    "        <p>three</p>\n",
    "        <p>four</p>\n",
    "        <p>five</p>\n",
    "    </div>\n",
    "</body>"
   ]
  },
  {
   "attachments": {},
   "cell_type": "markdown",
   "metadata": {
    "dotnet_interactive": {
     "language": "html"
    },
    "polyglot_notebook": {
     "kernelName": "html"
    }
   },
   "source": [
    "It's because the `<p>` elements already had margins of their own."
   ]
  },
  {
   "attachments": {},
   "cell_type": "markdown",
   "metadata": {
    "dotnet_interactive": {
     "language": "html"
    },
    "polyglot_notebook": {
     "kernelName": "html"
    }
   },
   "source": [
    "For ease of use for multiple columns of the same track size, you can use:"
   ]
  },
  {
   "cell_type": "code",
   "execution_count": null,
   "metadata": {
    "dotnet_interactive": {
     "language": "html"
    },
    "polyglot_notebook": {
     "kernelName": "html"
    },
    "vscode": {
     "languageId": "polyglot-notebook"
    }
   },
   "outputs": [],
   "source": [
    ".container {\n",
    "  display: grid;\n",
    "  grid-template-columns: repeat(3, 1fr);\n",
    "  gap: 20px;\n",
    "}"
   ]
  },
  {
   "attachments": {},
   "cell_type": "markdown",
   "metadata": {
    "dotnet_interactive": {
     "language": "html"
    },
    "polyglot_notebook": {
     "kernelName": "html"
    }
   },
   "source": [
    "The code above is the same as:  \n",
    "`grid-template-columns: 1fr 1fr 1fr;`"
   ]
  },
  {
   "attachments": {},
   "cell_type": "markdown",
   "metadata": {
    "dotnet_interactive": {
     "language": "html"
    },
    "polyglot_notebook": {
     "kernelName": "html"
    }
   },
   "source": [
    "## Implicit and Explicit Grid"
   ]
  },
  {
   "attachments": {},
   "cell_type": "markdown",
   "metadata": {
    "dotnet_interactive": {
     "language": "html"
    },
    "polyglot_notebook": {
     "kernelName": "html"
    }
   },
   "source": [
    "We have specified column info for our grid, but our rows are being created for us. This is an example of *explicit* vs *implicit* grid.  \n",
    "Explicit grids are ones we create using either `grid-template-columns` or `grid-template-rows`. The imlicit grid extends the defined exlicit grid when content is placed outside of that grid."
   ]
  },
  {
   "attachments": {},
   "cell_type": "markdown",
   "metadata": {
    "dotnet_interactive": {
     "language": "html"
    },
    "polyglot_notebook": {
     "kernelName": "html"
    }
   },
   "source": [
    "By default implicit grids are `auto` sized, so they are sized to fit the content.  \n",
    "`grid-auto-rows` and `grid-auto-columns` properties can be used to give implicit grid tracks a size."
   ]
  },
  {
   "attachments": {},
   "cell_type": "markdown",
   "metadata": {
    "dotnet_interactive": {
     "language": "html"
    },
    "polyglot_notebook": {
     "kernelName": "html"
    }
   },
   "source": [
    "For example:"
   ]
  },
  {
   "cell_type": "code",
   "execution_count": 27,
   "metadata": {
    "dotnet_interactive": {
     "language": "html"
    },
    "polyglot_notebook": {
     "kernelName": "html"
    },
    "vscode": {
     "languageId": "polyglot-notebook"
    }
   },
   "outputs": [
    {
     "data": {
      "text/html": [
       "<head>\r\n",
       "<style>\r\n",
       ".container p{\r\n",
       "    background-color: #99FF99;\r\n",
       "    color: black;\r\n",
       "    display: grid;\r\n",
       "    border: 3px solid #990000;\r\n",
       "    margin: 0;\r\n",
       "}\r\n",
       ".container{\r\n",
       "    display: grid;    \r\n",
       "    grid-template-columns: 1fr 2fr 1fr;\r\n",
       "    gap: 20px;\r\n",
       "    grid-auto-rows: 200px;\r\n",
       "}\r\n",
       "</style>\r\n",
       "</head>\r\n",
       "<body>\r\n",
       "    <div class=\"container\">\r\n",
       "        <p>one</p>\r\n",
       "        <p>two</p>\r\n",
       "        <p>three</p>\r\n",
       "        <p>four</p>\r\n",
       "        <p>five</p>\r\n",
       "    </div>\r\n",
       "</body>"
      ]
     },
     "metadata": {},
     "output_type": "display_data"
    }
   ],
   "source": [
    "<head>\n",
    "<style>\n",
    ".container p{\n",
    "    background-color: #99FF99;\n",
    "    color: black;\n",
    "    display: grid;\n",
    "    border: 3px solid #990000;\n",
    "    margin: 0;\n",
    "}\n",
    ".container{\n",
    "    display: grid;    \n",
    "    grid-template-columns: 1fr 2fr 1fr;\n",
    "    gap: 20px;\n",
    "    grid-auto-rows: 200px;\n",
    "}\n",
    "</style>\n",
    "</head>\n",
    "<body>\n",
    "    <div class=\"container\">\n",
    "        <p>one</p>\n",
    "        <p>two</p>\n",
    "        <p>three</p>\n",
    "        <p>four</p>\n",
    "        <p>five</p>\n",
    "    </div>\n",
    "</body>"
   ]
  },
  {
   "attachments": {},
   "cell_type": "markdown",
   "metadata": {
    "dotnet_interactive": {
     "language": "html"
    },
    "polyglot_notebook": {
     "kernelName": "html"
    }
   },
   "source": [
    "But what if our content is more taller than the box?"
   ]
  },
  {
   "cell_type": "code",
   "execution_count": null,
   "metadata": {
    "dotnet_interactive": {
     "language": "html"
    },
    "polyglot_notebook": {
     "kernelName": "html"
    },
    "vscode": {
     "languageId": "polyglot-notebook"
    }
   },
   "outputs": [],
   "source": [
    "<head>\n",
    "<style>\n",
    ".container p{\n",
    "    background-color: #99FF99;\n",
    "    color: black;\n",
    "    display: grid;\n",
    "    border: 3px solid #990000;\n",
    "    margin: 0;\n",
    "}\n",
    ".container{\n",
    "    display: grid;    \n",
    "    grid-template-columns: 1fr 2fr 1fr;\n",
    "    gap: 20px;\n",
    "    grid-auto-rows: 100px;\n",
    "}\n",
    "</style>\n",
    "</head>\n",
    "<body>\n",
    "    <div class=\"container\">\n",
    "        <p>Lorem Lorem Lorem Lorem Lorem Lorem Lorem Lorem Lorem Lorem Lorem Lorem Lorem Lorem Lorem Lorem Lorem Lorem Lorem Lorem Lorem Lorem Lorem Lorem Lorem Lorem Lorem Lorem Lorem Lorem Lorem Lorem Lorem Lorem Lorem Lorem Lorem Lorem Lorem Lorem Lorem Lorem Lorem Lorem Lorem Lorem Lorem Lorem Lorem Lorem Lorem Lorem Lorem Lorem Lorem Lorem Lorem Lorem Lorem Lorem Lorem Lorem Lorem Lorem Lorem Lorem Lorem Lorem Lorem Lorem Lorem Lorem Lorem Lorem Lorem Lorem Lorem Lorem Lorem Lorem Lorem Lorem Lorem Lorem Lorem Lorem Lorem Lorem Lorem Lorem Lorem Lorem Lorem Lorem Lorem Lorem Lorem Lorem Lorem Lorem Lorem Lorem Lorem Lorem Lorem Lorem Lorem Lorem Lorem Lorem Lorem Lorem Lorem Lorem Lorem Lorem Lorem Lorem Lorem Lorem Lorem Lorem Lorem Lorem Lorem Lorem Lorem Lorem Lorem Lorem Lorem Lorem </p>\n",
    "        <p>two</p>\n",
    "        <p>three</p>\n",
    "        <p>four</p>\n",
    "        <p>five</p>\n",
    "    </div>\n",
    "</body>"
   ]
  },
  {
   "attachments": {},
   "cell_type": "markdown",
   "metadata": {
    "dotnet_interactive": {
     "language": "html"
    },
    "polyglot_notebook": {
     "kernelName": "html"
    }
   },
   "source": [
    "You can see that it extends out of the box, and goes behind the other grid elements."
   ]
  },
  {
   "attachments": {},
   "cell_type": "markdown",
   "metadata": {
    "dotnet_interactive": {
     "language": "html"
    },
    "polyglot_notebook": {
     "kernelName": "html"
    }
   },
   "source": [
    "This is where we use the `minmax()` function. Which will set a minimum size, a maximum size, or both. The track size will then vary to fit the requirements of this function AND fit the content. For example:"
   ]
  },
  {
   "cell_type": "code",
   "execution_count": 28,
   "metadata": {
    "dotnet_interactive": {
     "language": "html"
    },
    "polyglot_notebook": {
     "kernelName": "html"
    },
    "vscode": {
     "languageId": "polyglot-notebook"
    }
   },
   "outputs": [
    {
     "data": {
      "text/html": [
       "<head>\r\n",
       "<style>\r\n",
       ".container p{\r\n",
       "    background-color: #99FF99;\r\n",
       "    color: black;\r\n",
       "    display: grid;\r\n",
       "    border: 3px solid #990000;\r\n",
       "    margin: 0;\r\n",
       "}\r\n",
       ".container{\r\n",
       "    display: grid;    \r\n",
       "    grid-template-columns: 1fr 2fr 1fr;\r\n",
       "    gap: 20px;\r\n",
       "    grid-auto-rows: minmax(100px, auto);\r\n",
       "}\r\n",
       "</style>\r\n",
       "</head>\r\n",
       "<body>\r\n",
       "    <div class=\"container\">\r\n",
       "        <p>Lorem Lorem Lorem Lorem Lorem Lorem Lorem Lorem Lorem Lorem Lorem Lorem Lorem Lorem Lorem Lorem Lorem Lorem Lorem Lorem Lorem Lorem Lorem Lorem Lorem Lorem Lorem Lorem Lorem Lorem Lorem Lorem Lorem Lorem Lorem Lorem Lorem Lorem Lorem Lorem Lorem Lorem Lorem Lorem Lorem Lorem Lorem Lorem Lorem Lorem Lorem Lorem Lorem Lorem Lorem Lorem Lorem Lorem Lorem Lorem Lorem Lorem Lorem Lorem Lorem Lorem Lorem Lorem Lorem Lorem Lorem Lorem Lorem Lorem Lorem Lorem Lorem Lorem Lorem Lorem Lorem Lorem Lorem Lorem Lorem Lorem Lorem Lorem Lorem Lorem Lorem Lorem Lorem Lorem Lorem Lorem Lorem Lorem Lorem Lorem Lorem Lorem Lorem Lorem Lorem Lorem Lorem Lorem Lorem Lorem Lorem Lorem Lorem Lorem Lorem Lorem Lorem Lorem Lorem Lorem Lorem Lorem Lorem Lorem Lorem Lorem Lorem Lorem Lorem Lorem Lorem Lorem </p>\r\n",
       "        <p>two</p>\r\n",
       "        <p>three</p>\r\n",
       "        <p>four</p>\r\n",
       "        <p>five</p>\r\n",
       "    </div>\r\n",
       "</body>"
      ]
     },
     "metadata": {},
     "output_type": "display_data"
    }
   ],
   "source": [
    "<head>\n",
    "<style>\n",
    ".container p{\n",
    "    background-color: #99FF99;\n",
    "    color: black;\n",
    "    display: grid;\n",
    "    border: 3px solid #990000;\n",
    "    margin: 0;\n",
    "}\n",
    ".container{\n",
    "    display: grid;    \n",
    "    grid-template-columns: 1fr 2fr 1fr;\n",
    "    gap: 20px;\n",
    "    grid-auto-rows: minmax(100px, auto);\n",
    "}\n",
    "</style>\n",
    "</head>\n",
    "<body>\n",
    "    <div class=\"container\">\n",
    "        <p>Lorem Lorem Lorem Lorem Lorem Lorem Lorem Lorem Lorem Lorem Lorem Lorem Lorem Lorem Lorem Lorem Lorem Lorem Lorem Lorem Lorem Lorem Lorem Lorem Lorem Lorem Lorem Lorem Lorem Lorem Lorem Lorem Lorem Lorem Lorem Lorem Lorem Lorem Lorem Lorem Lorem Lorem Lorem Lorem Lorem Lorem Lorem Lorem Lorem Lorem Lorem Lorem Lorem Lorem Lorem Lorem Lorem Lorem Lorem Lorem Lorem Lorem Lorem Lorem Lorem Lorem Lorem Lorem Lorem Lorem Lorem Lorem Lorem Lorem Lorem Lorem Lorem Lorem Lorem Lorem Lorem Lorem Lorem Lorem Lorem Lorem Lorem Lorem Lorem Lorem Lorem Lorem Lorem Lorem Lorem Lorem Lorem Lorem Lorem Lorem Lorem Lorem Lorem Lorem Lorem Lorem Lorem Lorem Lorem Lorem Lorem Lorem Lorem Lorem Lorem Lorem Lorem Lorem Lorem Lorem Lorem Lorem Lorem Lorem Lorem Lorem Lorem Lorem Lorem Lorem Lorem Lorem </p>\n",
    "        <p>two</p>\n",
    "        <p>three</p>\n",
    "        <p>four</p>\n",
    "        <p>five</p>\n",
    "    </div>\n",
    "</body>"
   ]
  },
  {
   "attachments": {},
   "cell_type": "markdown",
   "metadata": {
    "dotnet_interactive": {
     "language": "html"
    },
    "polyglot_notebook": {
     "kernelName": "html"
    }
   },
   "source": [
    "Here, we used:  \n",
    "`minmax(100px, auto)`, which implies a minimum amount of 100px, and no maximum for the row track size."
   ]
  },
  {
   "attachments": {},
   "cell_type": "markdown",
   "metadata": {
    "dotnet_interactive": {
     "language": "html"
    },
    "polyglot_notebook": {
     "kernelName": "html"
    }
   },
   "source": [
    "### As many columns that will fit"
   ]
  },
  {
   "attachments": {},
   "cell_type": "markdown",
   "metadata": {
    "dotnet_interactive": {
     "language": "html"
    },
    "polyglot_notebook": {
     "kernelName": "html"
    }
   },
   "source": [
    "We can use the `repeat()` function as a value for `grid-template-columns`. But we will pass in the keyword `auto-fill`. The second parameter will be `minmax()`, with the `min` parameter is the minimum value for the column width, and `max` parameter is for the maximum value."
   ]
  },
  {
   "cell_type": "code",
   "execution_count": 29,
   "metadata": {
    "dotnet_interactive": {
     "language": "html"
    },
    "polyglot_notebook": {
     "kernelName": "html"
    },
    "vscode": {
     "languageId": "polyglot-notebook"
    }
   },
   "outputs": [
    {
     "data": {
      "text/html": [
       "<head>\r\n",
       "<style>\r\n",
       ".container p{\r\n",
       "    background-color: #99FF99;\r\n",
       "    color: black;\r\n",
       "    display: grid;\r\n",
       "    border: 3px solid #990000;\r\n",
       "    margin: 0;\r\n",
       "}\r\n",
       ".container{\r\n",
       "    display: grid;    \r\n",
       "    grid-template-columns: repeat(auto-fill, minmax(200px, 1fr));\r\n",
       "    gap: 20px;\r\n",
       "    grid-auto-rows: minmax(100px, auto);\r\n",
       "}\r\n",
       "</style>\r\n",
       "</head>\r\n",
       "<body>\r\n",
       "    <div class=\"container\">\r\n",
       "        <p>Lorem Lorem Lorem Lorem Lorem Lorem Lorem Lorem Lorem Lorem Lorem Lorem Lorem Lorem Lorem Lorem Lorem Lorem Lorem Lorem Lorem Lorem Lorem Lorem Lorem Lorem Lorem Lorem Lorem Lorem Lorem Lorem Lorem Lorem Lorem Lorem Lorem Lorem Lorem Lorem Lorem Lorem Lorem Lorem Lorem Lorem Lorem Lorem Lorem Lorem Lorem Lorem Lorem Lorem Lorem Lorem Lorem Lorem Lorem Lorem Lorem Lorem Lorem Lorem Lorem Lorem Lorem Lorem Lorem Lorem Lorem Lorem Lorem Lorem Lorem Lorem Lorem Lorem Lorem Lorem Lorem Lorem Lorem Lorem Lorem Lorem Lorem Lorem Lorem Lorem Lorem Lorem Lorem Lorem Lorem Lorem Lorem Lorem Lorem Lorem Lorem Lorem Lorem Lorem Lorem Lorem Lorem Lorem Lorem Lorem Lorem Lorem Lorem Lorem Lorem Lorem Lorem Lorem Lorem Lorem Lorem Lorem Lorem Lorem Lorem Lorem Lorem Lorem Lorem Lorem Lorem Lorem </p>\r\n",
       "        <p>two</p>\r\n",
       "        <p>three</p>\r\n",
       "        <p>four</p>\r\n",
       "        <p>five</p>\r\n",
       "    </div>\r\n",
       "</body>"
      ]
     },
     "metadata": {},
     "output_type": "display_data"
    }
   ],
   "source": [
    "<head>\n",
    "<style>\n",
    ".container p{\n",
    "    background-color: #99FF99;\n",
    "    color: black;\n",
    "    display: grid;\n",
    "    border: 3px solid #990000;\n",
    "    margin: 0;\n",
    "}\n",
    ".container{\n",
    "    display: grid;    \n",
    "    grid-template-columns: repeat(auto-fill, minmax(200px, 1fr));\n",
    "    gap: 20px;\n",
    "    grid-auto-rows: minmax(100px, auto);\n",
    "}\n",
    "</style>\n",
    "</head>\n",
    "<body>\n",
    "    <div class=\"container\">\n",
    "        <p>Lorem Lorem Lorem Lorem Lorem Lorem Lorem Lorem Lorem Lorem Lorem Lorem Lorem Lorem Lorem Lorem Lorem Lorem Lorem Lorem Lorem Lorem Lorem Lorem Lorem Lorem Lorem Lorem Lorem Lorem Lorem Lorem Lorem Lorem Lorem Lorem Lorem Lorem Lorem Lorem Lorem Lorem Lorem Lorem Lorem Lorem Lorem Lorem Lorem Lorem Lorem Lorem Lorem Lorem Lorem Lorem Lorem Lorem Lorem Lorem Lorem Lorem Lorem Lorem Lorem Lorem Lorem Lorem Lorem Lorem Lorem Lorem Lorem Lorem Lorem Lorem Lorem Lorem Lorem Lorem Lorem Lorem Lorem Lorem Lorem Lorem Lorem Lorem Lorem Lorem Lorem Lorem Lorem Lorem Lorem Lorem Lorem Lorem Lorem Lorem Lorem Lorem Lorem Lorem Lorem Lorem Lorem Lorem Lorem Lorem Lorem Lorem Lorem Lorem Lorem Lorem Lorem Lorem Lorem Lorem Lorem Lorem Lorem Lorem Lorem Lorem Lorem Lorem Lorem Lorem Lorem Lorem </p>\n",
    "        <p>two</p>\n",
    "        <p>three</p>\n",
    "        <p>four</p>\n",
    "        <p>five</p>\n",
    "    </div>\n",
    "</body>"
   ]
  },
  {
   "attachments": {},
   "cell_type": "markdown",
   "metadata": {
    "dotnet_interactive": {
     "language": "html"
    },
    "polyglot_notebook": {
     "kernelName": "html"
    }
   },
   "source": [
    "In this example, we were able to fit all of our `<p>` elements in one row with a gap of `20px`."
   ]
  },
  {
   "attachments": {},
   "cell_type": "markdown",
   "metadata": {
    "dotnet_interactive": {
     "language": "html"
    },
    "polyglot_notebook": {
     "kernelName": "html"
    }
   },
   "source": [
    "## There is also \"Line-Based Placement\" and \"grid-template-areas\" for positioning and placement, but its not important"
   ]
  }
 ],
 "metadata": {
  "kernelspec": {
   "display_name": ".NET (C#)",
   "language": "C#",
   "name": ".net-csharp"
  },
  "polyglot_notebook": {
   "kernelInfo": {
    "defaultKernelName": "csharp",
    "items": [
     {
      "aliases": [
       "c#",
       "C#"
      ],
      "languageName": "C#",
      "name": "csharp"
     },
     {
      "aliases": [
       "frontend"
      ],
      "name": "vscode"
     },
     {
      "aliases": [],
      "name": ".NET"
     },
     {
      "aliases": [
       "f#",
       "F#"
      ],
      "languageName": "F#",
      "name": "fsharp"
     },
     {
      "aliases": [],
      "languageName": "HTML",
      "name": "html"
     },
     {
      "aliases": [
       "js"
      ],
      "languageName": "JavaScript",
      "name": "javascript"
     },
     {
      "aliases": [],
      "languageName": "KQL",
      "name": "kql"
     },
     {
      "aliases": [],
      "languageName": "Mermaid",
      "name": "mermaid"
     },
     {
      "aliases": [
       "powershell"
      ],
      "languageName": "PowerShell",
      "name": "pwsh"
     },
     {
      "aliases": [],
      "languageName": "SQL",
      "name": "sql"
     },
     {
      "aliases": [],
      "name": "value"
     },
     {
      "aliases": [],
      "name": "webview"
     }
    ]
   }
  }
 },
 "nbformat": 4,
 "nbformat_minor": 2
}
