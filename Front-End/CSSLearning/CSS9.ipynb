{
 "cells": [
  {
   "attachments": {},
   "cell_type": "markdown",
   "metadata": {
    "dotnet_interactive": {
     "language": "csharp"
    },
    "polyglot_notebook": {
     "kernelName": "csharp"
    }
   },
   "source": [
    "# Styling Lists"
   ]
  },
  {
   "attachments": {},
   "cell_type": "markdown",
   "metadata": {
    "dotnet_interactive": {
     "language": "csharp"
    },
    "polyglot_notebook": {
     "kernelName": "csharp"
    }
   },
   "source": [
    "Lists can be styled like any text, but have specific properties that only apply to list."
   ]
  },
  {
   "attachments": {},
   "cell_type": "markdown",
   "metadata": {
    "dotnet_interactive": {
     "language": "csharp"
    },
    "polyglot_notebook": {
     "kernelName": "csharp"
    }
   },
   "source": [
    "You can apply these three properties on the `<ul>` or `<ol>` tag:\n",
    "1. `list-style-type`: Sets the bullt type, we used it before.\n",
    "2. `list-style-position`: Sets where the line of \"bullets\" will be.\n",
    "3. `list-style-image`: Lets you use custom image for the bullet."
   ]
  },
  {
   "cell_type": "code",
   "execution_count": null,
   "metadata": {
    "dotnet_interactive": {
     "language": "html"
    },
    "polyglot_notebook": {
     "kernelName": "html"
    },
    "vscode": {
     "languageId": "polyglot-notebook"
    }
   },
   "outputs": [],
   "source": [
    "Values for `list-style-type':\n",
    "\n",
    "/* Partial list of types */\n",
    "list-style-type: disc;\n",
    "list-style-type: circle;\n",
    "list-style-type: square;\n",
    "list-style-type: decimal;\n",
    "list-style-type: georgian;\n",
    "list-style-type: trad-chinese-informal;\n",
    "list-style-type: kannada;\n",
    "\n",
    "/* <string> value */\n",
    "list-style-type: \"-\";\n",
    "\n",
    "/* Identifier matching an @counter-style rule */\n",
    "list-style-type: custom-counter-style;\n",
    "\n",
    "/* Keyword value */\n",
    "list-style-type: none;\n",
    "\n",
    "/* Global values */\n",
    "list-style-type: inherit;\n",
    "list-style-type: initial;\n",
    "list-style-type: revert;\n",
    "list-style-type: revert-layer;\n",
    "list-style-type: unset;"
   ]
  },
  {
   "attachments": {},
   "cell_type": "markdown",
   "metadata": {
    "dotnet_interactive": {
     "language": "html"
    },
    "polyglot_notebook": {
     "kernelName": "html"
    }
   },
   "source": [
    "For `list-style-position`:  \n",
    "* `outside`: This is the default position of the bullet.\n",
    "* `inside`: This will put the bullets to look like a \"part of\" the list.  \n",
    "Here is an example:"
   ]
  },
  {
   "cell_type": "code",
   "execution_count": 3,
   "metadata": {
    "dotnet_interactive": {
     "language": "html"
    },
    "polyglot_notebook": {
     "kernelName": "html"
    },
    "vscode": {
     "languageId": "polyglot-notebook"
    }
   },
   "outputs": [
    {
     "data": {
      "text/html": [
       "<head>\r\n",
       "<style>\r\n",
       ".insidelist{\r\n",
       "    list-style-position: inside;\r\n",
       "}\r\n",
       "\r\n",
       ".outsidelist{\r\n",
       "    list-style-position: outside; /*I didn't need to do this because its the default value anyways*/\r\n",
       "}\r\n",
       "</style>\r\n",
       "</head>\r\n",
       "<body>\r\n",
       "    I am outside of the list\r\n",
       "    <ul class=\"insidelist\">\r\n",
       "        <li>I am one</li>\r\n",
       "        <li>I am two</li>\r\n",
       "    </ul>\r\n",
       "    I am also outside the list\r\n",
       "    <ul class=\"outsidelist\">\r\n",
       "        <li>I am three</li>\r\n",
       "        <li>I am four</li>\r\n",
       "    </ul>\r\n",
       "</body>"
      ]
     },
     "metadata": {},
     "output_type": "display_data"
    }
   ],
   "source": [
    "<head>\n",
    "<style>\n",
    ".insidelist{\n",
    "    list-style-position: inside;\n",
    "}\n",
    "\n",
    ".outsidelist{\n",
    "    list-style-position: outside; /*I didn't need to do this because its the default value anyways*/\n",
    "}\n",
    "</style>\n",
    "</head>\n",
    "<body>\n",
    "    I am outside of the list\n",
    "    <ul class=\"insidelist\">\n",
    "        <li>I am one</li>\n",
    "        <li>I am two</li>\n",
    "    </ul>\n",
    "    I am also outside the list\n",
    "    <ul class=\"outsidelist\">\n",
    "        <li>I am three</li>\n",
    "        <li>I am four</li>\n",
    "    </ul>\n",
    "</body>"
   ]
  },
  {
   "attachments": {},
   "cell_type": "markdown",
   "metadata": {
    "dotnet_interactive": {
     "language": "html"
    },
    "polyglot_notebook": {
     "kernelName": "html"
    }
   },
   "source": [
    "Here is an example of using the `list-style-image` property:"
   ]
  },
  {
   "cell_type": "code",
   "execution_count": null,
   "metadata": {
    "dotnet_interactive": {
     "language": "html"
    },
    "polyglot_notebook": {
     "kernelName": "html"
    },
    "vscode": {
     "languageId": "polyglot-notebook"
    }
   },
   "outputs": [],
   "source": [
    "ul {\n",
    "  list-style-image: url(star.svg);\n",
    "}"
   ]
  },
  {
   "attachments": {},
   "cell_type": "markdown",
   "metadata": {
    "dotnet_interactive": {
     "language": "html"
    },
    "polyglot_notebook": {
     "kernelName": "html"
    }
   },
   "source": [
    "But using it this way will limit the amount of control you have over the image."
   ]
  },
  {
   "attachments": {},
   "cell_type": "markdown",
   "metadata": {
    "dotnet_interactive": {
     "language": "html"
    },
    "polyglot_notebook": {
     "kernelName": "html"
    }
   },
   "source": [
    "What do you think you can do to create fake bullets using the `background` property?"
   ]
  },
  {
   "cell_type": "code",
   "execution_count": null,
   "metadata": {
    "dotnet_interactive": {
     "language": "html"
    },
    "polyglot_notebook": {
     "kernelName": "html"
    },
    "vscode": {
     "languageId": "polyglot-notebook"
    }
   },
   "outputs": [],
   "source": [
    "/*Here is an example of doing so for the previous question*/\n",
    "ul {\n",
    "  padding-left: 2rem;\n",
    "  list-style-type: none;\n",
    "}\n",
    "\n",
    "ul li {\n",
    "  padding-left: 2rem;\n",
    "  background-image: url(star.svg);\n",
    "  background-position: 0 0;\n",
    "  background-size: 1.6rem 1.6rem;\n",
    "  background-repeat: no-repeat;\n",
    "}"
   ]
  },
  {
   "attachments": {},
   "cell_type": "markdown",
   "metadata": {
    "dotnet_interactive": {
     "language": "html"
    },
    "polyglot_notebook": {
     "kernelName": "html"
    }
   },
   "source": [
    "The properties and values that are set, are meant to place images as backgrounds to act like bullets for each list item."
   ]
  },
  {
   "attachments": {},
   "cell_type": "markdown",
   "metadata": {
    "dotnet_interactive": {
     "language": "html"
    },
    "polyglot_notebook": {
     "kernelName": "html"
    }
   },
   "source": [
    "You can also use the shorthand `list-style` property, like so:  \n",
    "`list-style: square url(example.png) inside;`"
   ]
  },
  {
   "attachments": {},
   "cell_type": "markdown",
   "metadata": {
    "dotnet_interactive": {
     "language": "html"
    },
    "polyglot_notebook": {
     "kernelName": "html"
    }
   },
   "source": [
    "### List Counting"
   ]
  },
  {
   "attachments": {},
   "cell_type": "markdown",
   "metadata": {
    "dotnet_interactive": {
     "language": "html"
    },
    "polyglot_notebook": {
     "kernelName": "html"
    }
   },
   "source": [
    "`start` attribute:"
   ]
  },
  {
   "cell_type": "code",
   "execution_count": 4,
   "metadata": {
    "dotnet_interactive": {
     "language": "html"
    },
    "polyglot_notebook": {
     "kernelName": "html"
    },
    "vscode": {
     "languageId": "polyglot-notebook"
    }
   },
   "outputs": [
    {
     "data": {
      "text/html": [
       "<ol start=\"4\">\r\n",
       "  <li>Toast pita, leave to cool, then slice down the edge.</li>\r\n",
       "  <li>\r\n",
       "    Fry the halloumi in a shallow, non-stick pan, until browned on both sides.\r\n",
       "  </li>\r\n",
       "  <li>Wash and chop the salad.</li>\r\n",
       "  <li>Fill pita with salad, hummus, and fried halloumi.</li>\r\n",
       "</ol>\r\n"
      ]
     },
     "metadata": {},
     "output_type": "display_data"
    }
   ],
   "source": [
    "<ol start=\"4\">\n",
    "  <li>Toast pita, leave to cool, then slice down the edge.</li>\n",
    "  <li>\n",
    "    Fry the halloumi in a shallow, non-stick pan, until browned on both sides.\n",
    "  </li>\n",
    "  <li>Wash and chop the salad.</li>\n",
    "  <li>Fill pita with salad, hummus, and fried halloumi.</li>\n",
    "</ol>\n"
   ]
  },
  {
   "attachments": {},
   "cell_type": "markdown",
   "metadata": {
    "dotnet_interactive": {
     "language": "html"
    },
    "polyglot_notebook": {
     "kernelName": "html"
    }
   },
   "source": [
    "`reversed` boolean attribute"
   ]
  },
  {
   "cell_type": "code",
   "execution_count": 5,
   "metadata": {
    "dotnet_interactive": {
     "language": "html"
    },
    "polyglot_notebook": {
     "kernelName": "html"
    },
    "vscode": {
     "languageId": "polyglot-notebook"
    }
   },
   "outputs": [
    {
     "data": {
      "text/html": [
       "<ol start=\"4\" reversed>\r\n",
       "  <li>Toast pita, leave to cool, then slice down the edge.</li>\r\n",
       "  <li>\r\n",
       "    Fry the halloumi in a shallow, non-stick pan, until browned on both sides.\r\n",
       "  </li>\r\n",
       "  <li>Wash and chop the salad.</li>\r\n",
       "  <li>Fill pita with salad, hummus, and fried halloumi.</li>\r\n",
       "</ol>"
      ]
     },
     "metadata": {},
     "output_type": "display_data"
    }
   ],
   "source": [
    "<ol start=\"4\" reversed>\n",
    "  <li>Toast pita, leave to cool, then slice down the edge.</li>\n",
    "  <li>\n",
    "    Fry the halloumi in a shallow, non-stick pan, until browned on both sides.\n",
    "  </li>\n",
    "  <li>Wash and chop the salad.</li>\n",
    "  <li>Fill pita with salad, hummus, and fried halloumi.</li>\n",
    "</ol>"
   ]
  },
  {
   "attachments": {},
   "cell_type": "markdown",
   "metadata": {
    "dotnet_interactive": {
     "language": "html"
    },
    "polyglot_notebook": {
     "kernelName": "html"
    }
   },
   "source": [
    "`value` attribute"
   ]
  },
  {
   "cell_type": "code",
   "execution_count": 6,
   "metadata": {
    "dotnet_interactive": {
     "language": "html"
    },
    "polyglot_notebook": {
     "kernelName": "html"
    },
    "vscode": {
     "languageId": "polyglot-notebook"
    }
   },
   "outputs": [
    {
     "data": {
      "text/html": [
       "<ol>\r\n",
       "  <li value=\"2\">Toast pita, leave to cool, then slice down the edge.</li>\r\n",
       "  <li value=\"4\">\r\n",
       "    Fry the halloumi in a shallow, non-stick pan, until browned on both sides.\r\n",
       "  </li>\r\n",
       "  <li value=\"6\">Wash and chop the salad.</li>\r\n",
       "  <li value=\"8\">Fill pita with salad, hummus, and fried halloumi.</li>\r\n",
       "</ol>"
      ]
     },
     "metadata": {},
     "output_type": "display_data"
    }
   ],
   "source": [
    "<ol>\n",
    "  <li value=\"2\">Toast pita, leave to cool, then slice down the edge.</li>\n",
    "  <li value=\"4\">\n",
    "    Fry the halloumi in a shallow, non-stick pan, until browned on both sides.\n",
    "  </li>\n",
    "  <li value=\"6\">Wash and chop the salad.</li>\n",
    "  <li value=\"8\">Fill pita with salad, hummus, and fried halloumi.</li>\n",
    "</ol>"
   ]
  },
  {
   "attachments": {},
   "cell_type": "markdown",
   "metadata": {
    "dotnet_interactive": {
     "language": "html"
    },
    "polyglot_notebook": {
     "kernelName": "html"
    }
   },
   "source": [
    "# Styling Links"
   ]
  },
  {
   "attachments": {},
   "cell_type": "markdown",
   "metadata": {
    "dotnet_interactive": {
     "language": "html"
    },
    "polyglot_notebook": {
     "kernelName": "html"
    }
   },
   "source": [
    "When styling links, pseudo-classes are the main thing to style."
   ]
  },
  {
   "attachments": {},
   "cell_type": "markdown",
   "metadata": {
    "dotnet_interactive": {
     "language": "html"
    },
    "polyglot_notebook": {
     "kernelName": "html"
    }
   },
   "source": [
    "Here are the different pseudo-classes we will use:"
   ]
  },
  {
   "attachments": {},
   "cell_type": "markdown",
   "metadata": {
    "dotnet_interactive": {
     "language": "html"
    },
    "polyglot_notebook": {
     "kernelName": "html"
    }
   },
   "source": [
    "<table>\n",
    "    <tr><td><code>:link</code></td><td>A link that actually has a destination, and not just an empty anchor.</td></tr>\n",
    "    <tr><td><code>:visited</code></td><td>A link that has already been visited. The browser knows this because the url is already in the user's browsing history.</td></tr>\n",
    "    <tr><td><code>:hover</code></td><td>A link with the mouse over it.</td></tr>\n",
    "    <tr><td><code>:focus</code></td><td>A link that is \"focused\". An example is if it is moved by a keyboard using the tab key.</td></tr>\n",
    "    <tr><td><code>:active</code></td><td>A link that is \"activated\". An example is having been clicked on.</td></tr>\n",
    "</table>"
   ]
  },
  {
   "attachments": {},
   "cell_type": "markdown",
   "metadata": {
    "dotnet_interactive": {
     "language": "html"
    },
    "polyglot_notebook": {
     "kernelName": "html"
    }
   },
   "source": [
    "Note: Using the anchor and `href=\"#\"` will just link to the current page"
   ]
  },
  {
   "attachments": {},
   "cell_type": "markdown",
   "metadata": {
    "dotnet_interactive": {
     "language": "html"
    },
    "polyglot_notebook": {
     "kernelName": "html"
    }
   },
   "source": [
    "Here is some example use of CSS rules using the pseudo-classes above:"
   ]
  },
  {
   "cell_type": "code",
   "execution_count": null,
   "metadata": {
    "dotnet_interactive": {
     "language": "html"
    },
    "polyglot_notebook": {
     "kernelName": "html"
    },
    "vscode": {
     "languageId": "polyglot-notebook"
    }
   },
   "outputs": [],
   "source": [
    "a {\n",
    "    \n",
    "}\n",
    "\n",
    "a:link {\n",
    "}\n",
    "\n",
    "a:visited {\n",
    "}\n",
    "\n",
    "a:focus {\n",
    "}\n",
    "\n",
    "a:hover {\n",
    "\n",
    "}\n",
    "\n",
    "a:active {\n",
    "}"
   ]
  },
  {
   "attachments": {},
   "cell_type": "markdown",
   "metadata": {
    "dotnet_interactive": {
     "language": "html"
    },
    "polyglot_notebook": {
     "kernelName": "html"
    }
   },
   "source": [
    "#### NOTE!! This order is important because some styles build on another previous one. Like the fact that when you hover over a link, it is also considered \"activated\". If you have `visited` go AFTER `hover`, then the hover code will never run!!!"
   ]
  },
  {
   "attachments": {},
   "cell_type": "markdown",
   "metadata": {
    "dotnet_interactive": {
     "language": "html"
    },
    "polyglot_notebook": {
     "kernelName": "html"
    }
   },
   "source": [
    "Try to create this:"
   ]
  },
  {
   "attachments": {},
   "cell_type": "markdown",
   "metadata": {
    "dotnet_interactive": {
     "language": "html"
    },
    "polyglot_notebook": {
     "kernelName": "html"
    }
   },
   "source": [
    "<head>\n",
    "<style>\n",
    "body {\n",
    "  width: 300px;\n",
    "  margin: 0 auto;\n",
    "  font-size: 1.2rem;\n",
    "  font-family: sans-serif;\n",
    "}\n",
    "p {\n",
    "  line-height: 1.4;\n",
    "}\n",
    "a {\n",
    "  outline: none;\n",
    "  text-decoration: none;\n",
    "  padding: 2px 1px 0;\n",
    "}\n",
    "a:link {\n",
    "  color: #265301;\n",
    "}\n",
    "a:visited {\n",
    "  color: #437a16;\n",
    "}\n",
    "a:focus {\n",
    "  border-bottom: 1px solid;\n",
    "  background: #bae498;\n",
    "}\n",
    "a:hover {\n",
    "  border-bottom: 1px solid;\n",
    "  background: #cdfeaa;\n",
    "}\n",
    "a:active {\n",
    "  background: #265301;\n",
    "  color: #cdfeaa;\n",
    "}\n",
    "</style>\n",
    "</head>\n",
    "<body>\n",
    "<p>\n",
    "  There are several browsers available, such as <a href=\"#\">Mozilla Firefox</a>,\n",
    "  <a href=\"#\">Google Chrome</a>, and <a href=\"#\">Microsoft Edge</a>.\n",
    "</p>\n",
    "</body>"
   ]
  },
  {
   "attachments": {},
   "cell_type": "markdown",
   "metadata": {
    "dotnet_interactive": {
     "language": "html"
    },
    "polyglot_notebook": {
     "kernelName": "html"
    }
   },
   "source": [
    "And also this, but use anything as an image:"
   ]
  },
  {
   "attachments": {},
   "cell_type": "markdown",
   "metadata": {
    "dotnet_interactive": {
     "language": "html"
    },
    "polyglot_notebook": {
     "kernelName": "html"
    }
   },
   "source": [
    "<head>\n",
    "<style>\n",
    "body {\n",
    "  width: 300px;\n",
    "  margin: 0 auto;\n",
    "  font-family: sans-serif;\n",
    "}\n",
    "p {\n",
    "  line-height: 1.4;\n",
    "}\n",
    "a {\n",
    "  outline: none;\n",
    "  text-decoration: none;\n",
    "  padding: 2px 1px 0;\n",
    "}\n",
    "a:link {\n",
    "  color: blue;\n",
    "}\n",
    "a:visited {\n",
    "  color: purple;\n",
    "}\n",
    "a:focus,\n",
    "a:hover {\n",
    "  border-bottom: 1px solid;\n",
    "}\n",
    "a:active {\n",
    "  color: red;\n",
    "}\n",
    "a[href^=\"http\"] {\n",
    "  background: url(\"arrowlink.png\") no-repeat 100% 0;\n",
    "  background-size: 16px 16px;\n",
    "  padding-right: 19px;\n",
    "}\n",
    "</style>\n",
    "</head>\n",
    "<body>\n",
    "<p>\n",
    "  For more information on the weather, visit our <a href=\"#\">weather page</a>,\n",
    "  look at <a href=\"https://en.wikipedia.org/\">weather on Wikipedia</a>, or check\n",
    "  out\n",
    "  <a href=\"https://www.nationalgeographic.org/topics/resource-library-weather/\">\n",
    "    weather on National Geographic\n",
    "  </a>.\n",
    "</p>\n",
    "</body>"
   ]
  },
  {
   "attachments": {},
   "cell_type": "markdown",
   "metadata": {
    "dotnet_interactive": {
     "language": "html"
    },
    "polyglot_notebook": {
     "kernelName": "html"
    }
   },
   "source": [
    "Try to make links that look like buttons. For example:"
   ]
  },
  {
   "attachments": {},
   "cell_type": "markdown",
   "metadata": {
    "dotnet_interactive": {
     "language": "html"
    },
    "polyglot_notebook": {
     "kernelName": "html"
    }
   },
   "source": [
    "<head>\n",
    "<style>\n",
    "<head>\n",
    "<style>\n",
    "body,\n",
    "html {\n",
    "  margin: 0;\n",
    "  font-family: sans-serif;\n",
    "}\n",
    ".container {\n",
    "  display: flex;\n",
    "  gap: 0.625%;\n",
    "}\n",
    "a {\n",
    "  flex: 1;\n",
    "  text-decoration: none;\n",
    "  outline: none;\n",
    "  text-align: center;\n",
    "  line-height: 3;\n",
    "  color: black;\n",
    "}\n",
    "a:link,\n",
    "a:visited,\n",
    "a:focus {\n",
    "  background: palegoldenrod;\n",
    "  color: black;\n",
    "}\n",
    "a:hover {\n",
    "  background: orange;\n",
    "}\n",
    "a:active {\n",
    "  background: darkred;\n",
    "  color: white;\n",
    "}\n",
    "</style>\n",
    "</head>\n",
    "<body>\n",
    "<nav class=\"container\">\n",
    "  <a href=\"#\">Home</a>\n",
    "  <a href=\"#\">Pizza</a>\n",
    "  <a href=\"#\">Music</a>\n",
    "  <a href=\"#\">Wombats</a>\n",
    "  <a href=\"#\">Finland</a>\n",
    "</nav>\n",
    "</body>"
   ]
  },
  {
   "attachments": {},
   "cell_type": "markdown",
   "metadata": {
    "dotnet_interactive": {
     "language": "html"
    },
    "polyglot_notebook": {
     "kernelName": "html"
    }
   },
   "source": [
    "## There is also the section on Web Fonts, but it's not something too important."
   ]
  }
 ],
 "metadata": {
  "kernelspec": {
   "display_name": ".NET (C#)",
   "language": "C#",
   "name": ".net-csharp"
  },
  "polyglot_notebook": {
   "kernelInfo": {
    "defaultKernelName": "csharp",
    "items": [
     {
      "aliases": [
       "c#",
       "C#"
      ],
      "languageName": "C#",
      "name": "csharp"
     },
     {
      "aliases": [
       "frontend"
      ],
      "name": "vscode"
     },
     {
      "aliases": [],
      "name": ".NET"
     },
     {
      "aliases": [
       "f#",
       "F#"
      ],
      "languageName": "F#",
      "name": "fsharp"
     },
     {
      "aliases": [],
      "languageName": "HTML",
      "name": "html"
     },
     {
      "aliases": [],
      "languageName": "KQL",
      "name": "kql"
     },
     {
      "aliases": [],
      "languageName": "Mermaid",
      "name": "mermaid"
     },
     {
      "aliases": [
       "powershell"
      ],
      "languageName": "PowerShell",
      "name": "pwsh"
     },
     {
      "aliases": [],
      "languageName": "SQL",
      "name": "sql"
     },
     {
      "aliases": [],
      "name": "value"
     }
    ]
   }
  }
 },
 "nbformat": 4,
 "nbformat_minor": 2
}
