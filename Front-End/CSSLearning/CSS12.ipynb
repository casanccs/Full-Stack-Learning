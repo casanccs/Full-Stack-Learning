{
 "cells": [
  {
   "attachments": {},
   "cell_type": "markdown",
   "metadata": {
    "dotnet_interactive": {
     "language": "csharp"
    },
    "polyglot_notebook": {
     "kernelName": "csharp"
    }
   },
   "source": [
    "# Floats"
   ]
  },
  {
   "attachments": {},
   "cell_type": "markdown",
   "metadata": {
    "dotnet_interactive": {
     "language": "csharp"
    },
    "polyglot_notebook": {
     "kernelName": "csharp"
    }
   },
   "source": [
    "Let's start by floating a block of text around an element:"
   ]
  },
  {
   "cell_type": "code",
   "execution_count": null,
   "metadata": {
    "dotnet_interactive": {
     "language": "html"
    },
    "polyglot_notebook": {
     "kernelName": "html"
    },
    "vscode": {
     "languageId": "polyglot-notebook"
    }
   },
   "outputs": [],
   "source": [
    "<body>\n",
    "<style>\n",
    "\n",
    "</style>\n",
    "</head>\n",
    "<body>\n",
    "<h1>Float example</h1>\n",
    "\n",
    "<div class=\"box\">Float</div>\n",
    "\n",
    "<p>\n",
    "  Lorem ipsum dolor sit amet, consectetur adipiscing elit. Nulla luctus aliquam\n",
    "  dolor, eu lacinia lorem placerat vulputate. Duis felis orci, pulvinar id metus\n",
    "  ut, rutrum luctus orci. Cras porttitor imperdiet nunc, at ultricies tellus\n",
    "  laoreet sit amet.\n",
    "</p>\n",
    "\n",
    "<p>\n",
    "  Sed auctor cursus massa at porta. Integer ligula ipsum, tristique sit amet\n",
    "  orci vel, viverra egestas ligula. Curabitur vehicula tellus neque, ac ornare\n",
    "  ex malesuada et. In vitae convallis lacus. Aliquam erat volutpat. Suspendisse\n",
    "  ac imperdiet turpis. Aenean finibus sollicitudin eros pharetra congue. Duis\n",
    "  ornare egestas augue ut luctus. Proin blandit quam nec lacus varius commodo et\n",
    "  a urna. Ut id ornare felis, eget fermentum sapien.\n",
    "</p>\n",
    "\n",
    "<p>\n",
    "  Nam vulputate diam nec tempor bibendum. Donec luctus augue eget malesuada\n",
    "  ultrices. Phasellus turpis est, posuere sit amet dapibus ut, facilisis sed\n",
    "  est. Nam id risus quis ante semper consectetur eget aliquam lorem. Vivamus\n",
    "  tristique elit dolor, sed pretium metus suscipit vel. Mauris ultricies lectus\n",
    "  sed lobortis finibus. Vivamus eu urna eget velit cursus viverra quis\n",
    "  vestibulum sem. Aliquam tincidunt eget purus in interdum. Cum sociis natoque\n",
    "  penatibus et magnis dis parturient montes, nascetur ridiculus mus.\n",
    "</p>\n",
    "</body>"
   ]
  },
  {
   "cell_type": "code",
   "execution_count": null,
   "metadata": {
    "dotnet_interactive": {
     "language": "html"
    },
    "polyglot_notebook": {
     "kernelName": "html"
    },
    "vscode": {
     "languageId": "polyglot-notebook"
    }
   },
   "outputs": [],
   "source": [
    "<body>\n",
    "<style>\n",
    ".box {\n",
    "  width: 150px;\n",
    "  height: 100px;\n",
    "  border-radius: 5px;\n",
    "  background-color: rgb(207, 232, 220);\n",
    "  padding: 1em;\n",
    "}\n",
    "</style>\n",
    "</head>\n",
    "<body>\n",
    "<h1>Float example</h1>\n",
    "\n",
    "<div class=\"box\">Float</div>\n",
    "\n",
    "<p>\n",
    "  Lorem ipsum dolor sit amet, consectetur adipiscing elit. Nulla luctus aliquam\n",
    "  dolor, eu lacinia lorem placerat vulputate. Duis felis orci, pulvinar id metus\n",
    "  ut, rutrum luctus orci. Cras porttitor imperdiet nunc, at ultricies tellus\n",
    "  laoreet sit amet.\n",
    "</p>\n",
    "\n",
    "<p>\n",
    "  Sed auctor cursus massa at porta. Integer ligula ipsum, tristique sit amet\n",
    "  orci vel, viverra egestas ligula. Curabitur vehicula tellus neque, ac ornare\n",
    "  ex malesuada et. In vitae convallis lacus. Aliquam erat volutpat. Suspendisse\n",
    "  ac imperdiet turpis. Aenean finibus sollicitudin eros pharetra congue. Duis\n",
    "  ornare egestas augue ut luctus. Proin blandit quam nec lacus varius commodo et\n",
    "  a urna. Ut id ornare felis, eget fermentum sapien.\n",
    "</p>\n",
    "\n",
    "<p>\n",
    "  Nam vulputate diam nec tempor bibendum. Donec luctus augue eget malesuada\n",
    "  ultrices. Phasellus turpis est, posuere sit amet dapibus ut, facilisis sed\n",
    "  est. Nam id risus quis ante semper consectetur eget aliquam lorem. Vivamus\n",
    "  tristique elit dolor, sed pretium metus suscipit vel. Mauris ultricies lectus\n",
    "  sed lobortis finibus. Vivamus eu urna eget velit cursus viverra quis\n",
    "  vestibulum sem. Aliquam tincidunt eget purus in interdum. Cum sociis natoque\n",
    "  penatibus et magnis dis parturient montes, nascetur ridiculus mus.\n",
    "</p>\n",
    "</body>"
   ]
  },
  {
   "cell_type": "code",
   "execution_count": 3,
   "metadata": {
    "dotnet_interactive": {
     "language": "html"
    },
    "polyglot_notebook": {
     "kernelName": "html"
    },
    "vscode": {
     "languageId": "polyglot-notebook"
    }
   },
   "outputs": [
    {
     "data": {
      "text/html": [
       "<body>\n",
       "<style>\n",
       ".box {\n",
       "  float: left;\n",
       "  width: 150px;\n",
       "  height: 100px;\n",
       "  border-radius: 5px;\n",
       "  background-color: rgb(207, 232, 220);\n",
       "  padding: 1em;\n",
       "  margin-right: 10px;\n",
       "}\n",
       "</style>\n",
       "</head>\n",
       "<body>\n",
       "<h1>Float example</h1>\n",
       "\n",
       "<div class=\"box\">Float</div>\n",
       "\n",
       "<p>\n",
       "  Lorem ipsum dolor sit amet, consectetur adipiscing elit. Nulla luctus aliquam\n",
       "  dolor, eu lacinia lorem placerat vulputate. Duis felis orci, pulvinar id metus\n",
       "  ut, rutrum luctus orci. Cras porttitor imperdiet nunc, at ultricies tellus\n",
       "  laoreet sit amet.\n",
       "</p>\n",
       "\n",
       "<p>\n",
       "  Sed auctor cursus massa at porta. Integer ligula ipsum, tristique sit amet\n",
       "  orci vel, viverra egestas ligula. Curabitur vehicula tellus neque, ac ornare\n",
       "  ex malesuada et. In vitae convallis lacus. Aliquam erat volutpat. Suspendisse\n",
       "  ac imperdiet turpis. Aenean finibus sollicitudin eros pharetra congue. Duis\n",
       "  ornare egestas augue ut luctus. Proin blandit quam nec lacus varius commodo et\n",
       "  a urna. Ut id ornare felis, eget fermentum sapien.\n",
       "</p>\n",
       "\n",
       "<p>\n",
       "  Nam vulputate diam nec tempor bibendum. Donec luctus augue eget malesuada\n",
       "  ultrices. Phasellus turpis est, posuere sit amet dapibus ut, facilisis sed\n",
       "  est. Nam id risus quis ante semper consectetur eget aliquam lorem. Vivamus\n",
       "  tristique elit dolor, sed pretium metus suscipit vel. Mauris ultricies lectus\n",
       "  sed lobortis finibus. Vivamus eu urna eget velit cursus viverra quis\n",
       "  vestibulum sem. Aliquam tincidunt eget purus in interdum. Cum sociis natoque\n",
       "  penatibus et magnis dis parturient montes, nascetur ridiculus mus.\n",
       "</p>\n",
       "</body>"
      ]
     },
     "metadata": {},
     "output_type": "display_data"
    }
   ],
   "source": [
    "<body>\n",
    "<style>\n",
    ".box {\n",
    "  float: left;\n",
    "  width: 150px;\n",
    "  height: 100px;\n",
    "  border-radius: 5px;\n",
    "  background-color: rgb(207, 232, 220);\n",
    "  padding: 1em;\n",
    "  margin-right: 10px;\n",
    "}\n",
    "</style>\n",
    "</head>\n",
    "<body>\n",
    "<h1>Float example</h1>\n",
    "\n",
    "<div class=\"box\">Float</div>\n",
    "\n",
    "<p>\n",
    "  Lorem ipsum dolor sit amet, consectetur adipiscing elit. Nulla luctus aliquam\n",
    "  dolor, eu lacinia lorem placerat vulputate. Duis felis orci, pulvinar id metus\n",
    "  ut, rutrum luctus orci. Cras porttitor imperdiet nunc, at ultricies tellus\n",
    "  laoreet sit amet.\n",
    "</p>\n",
    "\n",
    "<p>\n",
    "  Sed auctor cursus massa at porta. Integer ligula ipsum, tristique sit amet\n",
    "  orci vel, viverra egestas ligula. Curabitur vehicula tellus neque, ac ornare\n",
    "  ex malesuada et. In vitae convallis lacus. Aliquam erat volutpat. Suspendisse\n",
    "  ac imperdiet turpis. Aenean finibus sollicitudin eros pharetra congue. Duis\n",
    "  ornare egestas augue ut luctus. Proin blandit quam nec lacus varius commodo et\n",
    "  a urna. Ut id ornare felis, eget fermentum sapien.\n",
    "</p>\n",
    "\n",
    "<p>\n",
    "  Nam vulputate diam nec tempor bibendum. Donec luctus augue eget malesuada\n",
    "  ultrices. Phasellus turpis est, posuere sit amet dapibus ut, facilisis sed\n",
    "  est. Nam id risus quis ante semper consectetur eget aliquam lorem. Vivamus\n",
    "  tristique elit dolor, sed pretium metus suscipit vel. Mauris ultricies lectus\n",
    "  sed lobortis finibus. Vivamus eu urna eget velit cursus viverra quis\n",
    "  vestibulum sem. Aliquam tincidunt eget purus in interdum. Cum sociis natoque\n",
    "  penatibus et magnis dis parturient montes, nascetur ridiculus mus.\n",
    "</p>\n",
    "</body>"
   ]
  },
  {
   "attachments": {},
   "cell_type": "markdown",
   "metadata": {
    "dotnet_interactive": {
     "language": "html"
    },
    "polyglot_notebook": {
     "kernelName": "html"
    }
   },
   "source": [
    "Applying `float: left` means that the `box` is taken out of the normal layout flow, and stuck to the left-hand side of its parent container. Now any other content will wrap around it."
   ]
  },
  {
   "attachments": {},
   "cell_type": "markdown",
   "metadata": {
    "dotnet_interactive": {
     "language": "html"
    },
    "polyglot_notebook": {
     "kernelName": "html"
    }
   },
   "source": [
    "What do you think will happen if we `float: right`?"
   ]
  },
  {
   "attachments": {},
   "cell_type": "markdown",
   "metadata": {
    "dotnet_interactive": {
     "language": "html"
    },
    "polyglot_notebook": {
     "kernelName": "html"
    }
   },
   "source": [
    "Notice how there is not space in between the text and the `box`. How do we fix that?  \n",
    "    - Add a margin-right"
   ]
  },
  {
   "attachments": {},
   "cell_type": "markdown",
   "metadata": {
    "dotnet_interactive": {
     "language": "html"
    },
    "polyglot_notebook": {
     "kernelName": "html"
    }
   },
   "source": [
    "NOTE: We can add margin to the box to push text away, but not the other way around. We cannot add margin to the text to push it away from the box."
   ]
  },
  {
   "attachments": {},
   "cell_type": "markdown",
   "metadata": {
    "dotnet_interactive": {
     "language": "html"
    },
    "polyglot_notebook": {
     "kernelName": "html"
    }
   },
   "source": [
    "## \"Clearing\" Floats"
   ]
  },
  {
   "attachments": {},
   "cell_type": "markdown",
   "metadata": {
    "dotnet_interactive": {
     "language": "html"
    },
    "polyglot_notebook": {
     "kernelName": "html"
    }
   },
   "source": [
    "In the previous example, every element in the document will treat the \"box\" as a float. But we can set specific elements in the document to NOT treat it like a float. Here is an example by adding:  \n",
    " `clear: left;`  \n",
    " to the second paragraph"
   ]
  },
  {
   "cell_type": "code",
   "execution_count": null,
   "metadata": {
    "dotnet_interactive": {
     "language": "html"
    },
    "polyglot_notebook": {
     "kernelName": "html"
    },
    "vscode": {
     "languageId": "polyglot-notebook"
    }
   },
   "outputs": [],
   "source": [
    "<body>\n",
    "<style>\n",
    ".box {\n",
    "  float: left;\n",
    "  width: 150px;\n",
    "  height: 100px;\n",
    "  border-radius: 5px;\n",
    "  background-color: rgb(207, 232, 220);\n",
    "  padding: 1em;\n",
    "}\n",
    "\n",
    ".second{\n",
    "    clear: left;\n",
    "}\n",
    "</style>\n",
    "</head>\n",
    "<body>\n",
    "<h1>Float example</h1>\n",
    "\n",
    "<div class=\"box\">Float</div>\n",
    "\n",
    "<p>\n",
    "  Lorem ipsum dolor sit amet, consectetur adipiscing elit. Nulla luctus aliquam\n",
    "  dolor, eu lacinia lorem placerat vulputate. Duis felis orci, pulvinar id metus\n",
    "  ut, rutrum luctus orci. Cras porttitor imperdiet nunc, at ultricies tellus\n",
    "  laoreet sit amet.\n",
    "</p>\n",
    "\n",
    "<p class=\"second\">\n",
    "  Sed auctor cursus massa at porta. Integer ligula ipsum, tristique sit amet\n",
    "  orci vel, viverra egestas ligula. Curabitur vehicula tellus neque, ac ornare\n",
    "  ex malesuada et. In vitae convallis lacus. Aliquam erat volutpat. Suspendisse\n",
    "  ac imperdiet turpis. Aenean finibus sollicitudin eros pharetra congue. Duis\n",
    "  ornare egestas augue ut luctus. Proin blandit quam nec lacus varius commodo et\n",
    "  a urna. Ut id ornare felis, eget fermentum sapien.\n",
    "</p>\n",
    "\n",
    "<p>\n",
    "  Nam vulputate diam nec tempor bibendum. Donec luctus augue eget malesuada\n",
    "  ultrices. Phasellus turpis est, posuere sit amet dapibus ut, facilisis sed\n",
    "  est. Nam id risus quis ante semper consectetur eget aliquam lorem. Vivamus\n",
    "  tristique elit dolor, sed pretium metus suscipit vel. Mauris ultricies lectus\n",
    "  sed lobortis finibus. Vivamus eu urna eget velit cursus viverra quis\n",
    "  vestibulum sem. Aliquam tincidunt eget purus in interdum. Cum sociis natoque\n",
    "  penatibus et magnis dis parturient montes, nascetur ridiculus mus.\n",
    "</p>\n",
    "</body>"
   ]
  },
  {
   "attachments": {},
   "cell_type": "markdown",
   "metadata": {
    "dotnet_interactive": {
     "language": "html"
    },
    "polyglot_notebook": {
     "kernelName": "html"
    }
   },
   "source": [
    "`clear` will ignore floats with the corresponding values:\n",
    "* `left`: Will clear items floated to the left\n",
    "* `right`: Clear items floated to right\n",
    "* `both`: Clear items that are floated to left or right"
   ]
  },
  {
   "attachments": {},
   "cell_type": "markdown",
   "metadata": {
    "dotnet_interactive": {
     "language": "html"
    },
    "polyglot_notebook": {
     "kernelName": "html"
    }
   },
   "source": [
    "### Something you need to take into SERIOUSLY take into account, is that floats will not be considered in a parent's box model. Try it yourself by wrapping a floated item and a `<p>` into a `<div>`, and add background color to the `<div>`. You will see that no matter what, the floated item will not be a part of this. It's because floats are taken out of the normal flow.  \n",
    "### Please make sure you understand this, there could be many confusions stemming from this occurence."
   ]
  },
  {
   "attachments": {},
   "cell_type": "markdown",
   "metadata": {
    "dotnet_interactive": {
     "language": "html"
    },
    "polyglot_notebook": {
     "kernelName": "html"
    }
   },
   "source": [
    "### To fix this, one method is to add the `display: flow-root` rule to the wrapping `<div>` to resize the box with the floating item."
   ]
  }
 ],
 "metadata": {
  "kernelspec": {
   "display_name": ".NET (C#)",
   "language": "C#",
   "name": ".net-csharp"
  },
  "polyglot_notebook": {
   "kernelInfo": {
    "defaultKernelName": "csharp",
    "items": [
     {
      "aliases": [
       "c#",
       "C#"
      ],
      "languageName": "C#",
      "name": "csharp"
     },
     {
      "aliases": [
       "frontend"
      ],
      "name": "vscode"
     },
     {
      "aliases": [],
      "name": ".NET"
     },
     {
      "aliases": [
       "f#",
       "F#"
      ],
      "languageName": "F#",
      "name": "fsharp"
     },
     {
      "aliases": [],
      "languageName": "HTML",
      "name": "html"
     },
     {
      "aliases": [
       "js"
      ],
      "languageName": "JavaScript",
      "name": "javascript"
     },
     {
      "aliases": [],
      "languageName": "KQL",
      "name": "kql"
     },
     {
      "aliases": [],
      "languageName": "Mermaid",
      "name": "mermaid"
     },
     {
      "aliases": [
       "powershell"
      ],
      "languageName": "PowerShell",
      "name": "pwsh"
     },
     {
      "aliases": [],
      "languageName": "SQL",
      "name": "sql"
     },
     {
      "aliases": [],
      "name": "value"
     },
     {
      "aliases": [],
      "name": "webview"
     }
    ]
   }
  }
 },
 "nbformat": 4,
 "nbformat_minor": 2
}
