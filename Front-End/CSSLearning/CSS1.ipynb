{
 "cells": [
  {
   "attachments": {},
   "cell_type": "markdown",
   "metadata": {
    "dotnet_interactive": {
     "language": "html"
    },
    "polyglot_notebook": {
     "kernelName": "html"
    }
   },
   "source": [
    "### NOTE!!!! Running one cell will change the others!! So run them one by one and ignore the changes to the other cells!!! Make sure you \"Clear Outputs of All Cells\" --> \"Restart\" the kernel every single time you run a cell"
   ]
  },
  {
   "attachments": {},
   "cell_type": "markdown",
   "metadata": {
    "dotnet_interactive": {
     "language": "csharp"
    },
    "polyglot_notebook": {
     "kernelName": "csharp"
    }
   },
   "source": [
    "# Getting Started With CSS"
   ]
  },
  {
   "attachments": {},
   "cell_type": "markdown",
   "metadata": {
    "dotnet_interactive": {
     "language": "csharp"
    },
    "polyglot_notebook": {
     "kernelName": "csharp"
    }
   },
   "source": [
    "It stands for ***Cascading Style Sheets*** which allows you to style and layout documents."
   ]
  },
  {
   "attachments": {},
   "cell_type": "markdown",
   "metadata": {
    "dotnet_interactive": {
     "language": "csharp"
    },
    "polyglot_notebook": {
     "kernelName": "csharp"
    }
   },
   "source": [
    "CSS is a rule-based language. So you make some style and layout rules for a group of elements on your web page."
   ]
  },
  {
   "attachments": {},
   "cell_type": "markdown",
   "metadata": {
    "dotnet_interactive": {
     "language": "html"
    },
    "polyglot_notebook": {
     "kernelName": "html"
    }
   },
   "source": [
    "There are multiple ways to use CSS in your code:  \n",
    "1. Inline: A unique style you give to a single HTML element by using the `style` attribute.\n",
    "2. Internal: Using `<style>` element in the `<head>` section. (What I did in the cell before)\n",
    "3. External: Using `<link>` element in the `<head>` section to reference an external `.css` file."
   ]
  },
  {
   "attachments": {},
   "cell_type": "markdown",
   "metadata": {
    "dotnet_interactive": {
     "language": "html"
    },
    "polyglot_notebook": {
     "kernelName": "html"
    }
   },
   "source": [
    "### Inline Example:"
   ]
  },
  {
   "cell_type": "code",
   "execution_count": null,
   "metadata": {
    "dotnet_interactive": {
     "language": "html"
    },
    "polyglot_notebook": {
     "kernelName": "html"
    },
    "vscode": {
     "languageId": "polyglot-notebook"
    }
   },
   "outputs": [],
   "source": [
    "<h1 style=\"color: red;\">Hello World!</h1>"
   ]
  },
  {
   "attachments": {},
   "cell_type": "markdown",
   "metadata": {
    "dotnet_interactive": {
     "language": "html"
    },
    "polyglot_notebook": {
     "kernelName": "html"
    }
   },
   "source": [
    "### Internal Example:"
   ]
  },
  {
   "cell_type": "code",
   "execution_count": null,
   "metadata": {
    "dotnet_interactive": {
     "language": "html"
    },
    "polyglot_notebook": {
     "kernelName": "html"
    },
    "vscode": {
     "languageId": "polyglot-notebook"
    }
   },
   "outputs": [],
   "source": [
    "<head>\n",
    "<style>\n",
    "h1 {color: blue;}\n",
    "</style>\n",
    "</head>\n",
    "\n",
    "<body>\n",
    "<h1>Hello World!</h1>\n",
    "</body>"
   ]
  },
  {
   "attachments": {},
   "cell_type": "markdown",
   "metadata": {
    "dotnet_interactive": {
     "language": "html"
    },
    "polyglot_notebook": {
     "kernelName": "html"
    }
   },
   "source": [
    "### External Example:"
   ]
  },
  {
   "cell_type": "code",
   "execution_count": null,
   "metadata": {
    "dotnet_interactive": {
     "language": "html"
    },
    "polyglot_notebook": {
     "kernelName": "html"
    },
    "vscode": {
     "languageId": "polyglot-notebook"
    }
   },
   "outputs": [],
   "source": [
    "<head>\n",
    "<link rel=\"stylesheet\" href=\"CSS1.css\"/>\n",
    "</head>\n",
    "\n",
    "<body>\n",
    "<h1>Hello World!</h1>\n",
    "</body>"
   ]
  },
  {
   "attachments": {},
   "cell_type": "markdown",
   "metadata": {
    "dotnet_interactive": {
     "language": "html"
    },
    "polyglot_notebook": {
     "kernelName": "html"
    }
   },
   "source": [
    "Take a look at the CSS1.css file in this same folder!"
   ]
  },
  {
   "attachments": {},
   "cell_type": "markdown",
   "metadata": {
    "dotnet_interactive": {
     "language": "html"
    },
    "polyglot_notebook": {
     "kernelName": "html"
    }
   },
   "source": [
    "As a student who is not using VSCode, use CSS with the ***External*** way."
   ]
  },
  {
   "attachments": {},
   "cell_type": "markdown",
   "metadata": {
    "dotnet_interactive": {
     "language": "html"
    },
    "polyglot_notebook": {
     "kernelName": "html"
    }
   },
   "source": [
    "1. CSS rules opens with a ***selector***. In the case below, the selector is `h1`. So we are *selecting* the HTML element that we want to style or move around.  \n",
    "2. We will then have a set of curly braces where we give the selected element multiple properties.  \n",
    "3. Inside the curly braces will be multiple **declarations** which takes the form of **property : value** pairs.\n",
    "4. You must have a semicolon at the end of every declaration.  \n",
    "Here is an example:"
   ]
  },
  {
   "cell_type": "code",
   "execution_count": null,
   "metadata": {
    "dotnet_interactive": {
     "language": "html"
    },
    "polyglot_notebook": {
     "kernelName": "html"
    },
    "vscode": {
     "languageId": "polyglot-notebook"
    }
   },
   "outputs": [],
   "source": [
    "<head>\n",
    "<style>\n",
    "h1 {\n",
    "    font-size: 50px;\n",
    "    color: white;\n",
    "}\n",
    "</style>\n",
    "</head>\n",
    "\n",
    "<body>\n",
    "<h1>Hello World!</h1>\n",
    "</body>"
   ]
  },
  {
   "attachments": {},
   "cell_type": "markdown",
   "metadata": {
    "dotnet_interactive": {
     "language": "html"
    },
    "polyglot_notebook": {
     "kernelName": "html"
    }
   },
   "source": [
    "Different CSS properties have different allowable values. An example would be that the `font-size` property allows size forms, while  the `color` property allows hexadecimal numbers, strings, etc."
   ]
  },
  {
   "cell_type": "code",
   "execution_count": null,
   "metadata": {
    "dotnet_interactive": {
     "language": "html"
    },
    "polyglot_notebook": {
     "kernelName": "html"
    },
    "vscode": {
     "languageId": "polyglot-notebook"
    }
   },
   "outputs": [],
   "source": [
    "<head>\n",
    "<style>\n",
    "h1 {\n",
    "    font-size: 50px;\n",
    "    color: white;\n",
    "}\n",
    "h2 {\n",
    "    font-size: 50px;\n",
    "    color: #FF00FF;\n",
    "}\n",
    "</style>\n",
    "</head>\n",
    "\n",
    "<body>\n",
    "<h1>Hello World!</h1>\n",
    "<h2>Bye World!</h2>\n",
    "</body>"
   ]
  },
  {
   "attachments": {},
   "cell_type": "markdown",
   "metadata": {
    "dotnet_interactive": {
     "language": "html"
    },
    "polyglot_notebook": {
     "kernelName": "html"
    }
   },
   "source": [
    "Try to make a paragraph element the same size as the headers. What is the difference between the paragraph and headers?"
   ]
  },
  {
   "cell_type": "code",
   "execution_count": null,
   "metadata": {
    "dotnet_interactive": {
     "language": "html"
    },
    "polyglot_notebook": {
     "kernelName": "html"
    },
    "vscode": {
     "languageId": "polyglot-notebook"
    }
   },
   "outputs": [],
   "source": [
    "<head>\n",
    "<style>\n",
    "h1 {\n",
    "    font-size: 50px;\n",
    "    color: white;\n",
    "}\n",
    "h2 {\n",
    "    font-size: 50px;\n",
    "    color: #FF00FF;\n",
    "}\n",
    "p {\n",
    "    font-size: 50px;\n",
    "}\n",
    "</style>\n",
    "</head>\n",
    "\n",
    "<body>\n",
    "<h1>Hello World!</h1>\n",
    "<h2>Bye World!</h2>\n",
    "<p>Whatsup</p>\n",
    "</body>"
   ]
  },
  {
   "attachments": {},
   "cell_type": "markdown",
   "metadata": {
    "dotnet_interactive": {
     "language": "html"
    },
    "polyglot_notebook": {
     "kernelName": "html"
    }
   },
   "source": [
    "Notice how the two headers have the exact same style, while the paragraph element is not bolded. That is because HTML has a default style for elements already."
   ]
  },
  {
   "attachments": {},
   "cell_type": "markdown",
   "metadata": {
    "dotnet_interactive": {
     "language": "html"
    },
    "polyglot_notebook": {
     "kernelName": "html"
    }
   },
   "source": [
    "Note that some CSS properties are called **Shorthand** properties, because these properties can set different values to properties in one line. For example:"
   ]
  },
  {
   "cell_type": "code",
   "execution_count": null,
   "metadata": {
    "dotnet_interactive": {
     "language": "html"
    },
    "polyglot_notebook": {
     "kernelName": "html"
    },
    "vscode": {
     "languageId": "polyglot-notebook"
    }
   },
   "outputs": [],
   "source": [
    "<head>\n",
    "<style>\n",
    "p {\n",
    "    padding: 30px 15px 15px 30px;\n",
    "}\n",
    "</style>\n",
    "</head>\n",
    "\n",
    "<body>\n",
    "    <p>Testing testing</p>\n",
    "</body>"
   ]
  },
  {
   "attachments": {},
   "cell_type": "markdown",
   "metadata": {
    "dotnet_interactive": {
     "language": "html"
    },
    "polyglot_notebook": {
     "kernelName": "html"
    }
   },
   "source": [
    "This is exactly equivalent to:"
   ]
  },
  {
   "cell_type": "code",
   "execution_count": null,
   "metadata": {
    "dotnet_interactive": {
     "language": "html"
    },
    "polyglot_notebook": {
     "kernelName": "html"
    },
    "vscode": {
     "languageId": "polyglot-notebook"
    }
   },
   "outputs": [],
   "source": [
    "<head>\n",
    "<style>\n",
    "p {\n",
    "    padding: 30px 15px 15px 30px;\n",
    "    padding-top: 30px;\n",
    "    padding-right: 15px;\n",
    "    padding-bottom: 15px;\n",
    "    padding-left:30px;\n",
    "}\n",
    "</style>\n",
    "</head>\n",
    "\n",
    "<body>\n",
    "    <p>Testing testing</p>\n",
    "</body>"
   ]
  },
  {
   "attachments": {},
   "cell_type": "markdown",
   "metadata": {
    "dotnet_interactive": {
     "language": "html"
    },
    "polyglot_notebook": {
     "kernelName": "html"
    }
   },
   "source": [
    "Padding will be explained later on, just know that it helps set the position of the text within a \"box\".  \n",
    "<br>\n",
    "This is how to create a comment in CSS:"
   ]
  },
  {
   "cell_type": "code",
   "execution_count": null,
   "metadata": {
    "dotnet_interactive": {
     "language": "html"
    },
    "polyglot_notebook": {
     "kernelName": "html"
    },
    "vscode": {
     "languageId": "polyglot-notebook"
    }
   },
   "outputs": [],
   "source": [
    "<head>\n",
    "<style>\n",
    "p {\n",
    "    padding: 30px 15px 15px 30px;\n",
    "    padding-top: 30px;\n",
    "    padding-right: 15px;\n",
    "    padding-bottom: 15px;\n",
    "    padding-left: 30px;\n",
    "    /*\n",
    "    This is a comment\n",
    "    color: black;\n",
    "    */\n",
    "}\n",
    "</style>\n",
    "</head>\n",
    "\n",
    "<body>\n",
    "    <p>Testing testing</p>\n",
    "</body>"
   ]
  },
  {
   "attachments": {},
   "cell_type": "markdown",
   "metadata": {
    "dotnet_interactive": {
     "language": "html"
    },
    "polyglot_notebook": {
     "kernelName": "html"
    }
   },
   "source": [
    "Added White space besides one space is ignored in CSS just like in HTML."
   ]
  },
  {
   "attachments": {},
   "cell_type": "markdown",
   "metadata": {
    "dotnet_interactive": {
     "language": "html"
    },
    "polyglot_notebook": {
     "kernelName": "html"
    }
   },
   "source": [
    "## Selecting Multiple and Specific Elements"
   ]
  },
  {
   "attachments": {},
   "cell_type": "markdown",
   "metadata": {
    "dotnet_interactive": {
     "language": "html"
    },
    "polyglot_notebook": {
     "kernelName": "html"
    }
   },
   "source": [
    "Let's look at the `<li>` tag and how changing it will change all instances of it:"
   ]
  },
  {
   "cell_type": "code",
   "execution_count": null,
   "metadata": {
    "dotnet_interactive": {
     "language": "html"
    },
    "polyglot_notebook": {
     "kernelName": "html"
    },
    "vscode": {
     "languageId": "polyglot-notebook"
    }
   },
   "outputs": [],
   "source": [
    "<head>\n",
    "<style>\n",
    "li {\n",
    "\n",
    "}\n",
    "</style>\n",
    "</head>\n",
    "\n",
    "<body>\n",
    "<ul>\n",
    "    <li>Item 1</li>\n",
    "    <li>Item 2</li>\n",
    "    <li>Item 3</li>\n",
    "</ul>\n",
    "</body>"
   ]
  },
  {
   "cell_type": "code",
   "execution_count": null,
   "metadata": {
    "dotnet_interactive": {
     "language": "html"
    },
    "polyglot_notebook": {
     "kernelName": "html"
    },
    "vscode": {
     "languageId": "polyglot-notebook"
    }
   },
   "outputs": [],
   "source": [
    "<head>\n",
    "<style>\n",
    "li {\n",
    "    list-style-type: none;\n",
    "}\n",
    "</style>\n",
    "</head>\n",
    "\n",
    "<body>\n",
    "<ul>\n",
    "    <li>Item 1</li>\n",
    "    <li>Item 2</li>\n",
    "    <li>Item 3</li>\n",
    "</ul>\n",
    "</body>"
   ]
  },
  {
   "attachments": {},
   "cell_type": "markdown",
   "metadata": {
    "dotnet_interactive": {
     "language": "html"
    },
    "polyglot_notebook": {
     "kernelName": "html"
    }
   },
   "source": [
    "Notice how the `li` selector selected ***ALL*** of the `li`s in my document, and thus, changed them all."
   ]
  },
  {
   "attachments": {},
   "cell_type": "markdown",
   "metadata": {
    "dotnet_interactive": {
     "language": "html"
    },
    "polyglot_notebook": {
     "kernelName": "html"
    }
   },
   "source": [
    "Use the code above, and try to find out how to make the first `<li>` have a `list-style-type: circle` using inline styling. Answer is below"
   ]
  },
  {
   "cell_type": "code",
   "execution_count": null,
   "metadata": {
    "dotnet_interactive": {
     "language": "html"
    },
    "polyglot_notebook": {
     "kernelName": "html"
    },
    "vscode": {
     "languageId": "polyglot-notebook"
    }
   },
   "outputs": [],
   "source": [
    "<head>\n",
    "<style>\n",
    "li {\n",
    "    list-style-type: none;\n",
    "}\n",
    "</style>\n",
    "</head>\n",
    "\n",
    "<body>\n",
    "<ul>\n",
    "    <li style=\"list-style-type: circle;\">Item 1</li>\n",
    "    <li>Item 2</li>\n",
    "    <li>Item 3</li>\n",
    "</ul>\n",
    "</body>"
   ]
  },
  {
   "attachments": {},
   "cell_type": "markdown",
   "metadata": {
    "dotnet_interactive": {
     "language": "html"
    },
    "polyglot_notebook": {
     "kernelName": "html"
    }
   },
   "source": [
    "You can create a ***Selector List*** by using the comma character, `\",\"`, to apply style to multiple different elements:"
   ]
  },
  {
   "cell_type": "code",
   "execution_count": null,
   "metadata": {
    "dotnet_interactive": {
     "language": "html"
    },
    "polyglot_notebook": {
     "kernelName": "html"
    },
    "vscode": {
     "languageId": "polyglot-notebook"
    }
   },
   "outputs": [],
   "source": [
    "<head>\n",
    "<style>\n",
    "h1, p {\n",
    "    color: purple;\n",
    "}\n",
    "\n",
    "</style>\n",
    "</head>\n",
    "\n",
    "<body>\n",
    "    <h1>Hello there</h1>\n",
    "    <p>Bye there</p>\n",
    "</body>"
   ]
  },
  {
   "attachments": {},
   "cell_type": "markdown",
   "metadata": {
    "dotnet_interactive": {
     "language": "html"
    },
    "polyglot_notebook": {
     "kernelName": "html"
    }
   },
   "source": [
    "## Class and ID as Selectors"
   ]
  },
  {
   "attachments": {},
   "cell_type": "markdown",
   "metadata": {
    "dotnet_interactive": {
     "language": "html"
    },
    "polyglot_notebook": {
     "kernelName": "html"
    }
   },
   "source": [
    "We will start off with the `class` attribute. We used it before, but here it will make much more sense on why giving classes to elements is so useful:"
   ]
  },
  {
   "cell_type": "code",
   "execution_count": null,
   "metadata": {
    "dotnet_interactive": {
     "language": "html"
    },
    "polyglot_notebook": {
     "kernelName": "html"
    },
    "vscode": {
     "languageId": "polyglot-notebook"
    }
   },
   "outputs": [],
   "source": [
    "<head>\n",
    "<style>\n",
    "li {\n",
    "    list-style-type: square;\n",
    "}\n",
    "\n",
    ".something{\n",
    "    list-style-type: circle;\n",
    "}\n",
    "</style>\n",
    "</head>\n",
    "\n",
    "<body>\n",
    "<ul>\n",
    "    <li class=\"something\">Item 1</li>\n",
    "    <li>Item 2</li>\n",
    "    <li class=\"something\">Item 3</li>\n",
    "</ul>\n",
    "</body>"
   ]
  },
  {
   "attachments": {},
   "cell_type": "markdown",
   "metadata": {
    "dotnet_interactive": {
     "language": "html"
    },
    "polyglot_notebook": {
     "kernelName": "html"
    }
   },
   "source": [
    "The `.` character is a \"full stop character\" that you use to indicated that you are selecting a class, instead of an HTML element. In this case, you are selecting **ALL** elements with the `something` class, and changing the style."
   ]
  },
  {
   "attachments": {},
   "cell_type": "markdown",
   "metadata": {
    "dotnet_interactive": {
     "language": "html"
    },
    "polyglot_notebook": {
     "kernelName": "html"
    }
   },
   "source": [
    "You can be more specific with your class selectors if you have more complicated forms, like:"
   ]
  },
  {
   "cell_type": "code",
   "execution_count": null,
   "metadata": {
    "dotnet_interactive": {
     "language": "html"
    },
    "polyglot_notebook": {
     "kernelName": "html"
    },
    "vscode": {
     "languageId": "polyglot-notebook"
    }
   },
   "outputs": [],
   "source": [
    "<head>\n",
    "<style>\n",
    ".someClass {\n",
    "    font-size: 30px;\n",
    "}\n",
    "h3.someClass{\n",
    "    color: purple;\n",
    "}\n",
    "h4.someClass{\n",
    "    color: blue;\n",
    "}\n",
    "\n",
    "</style>\n",
    "</head>\n",
    "\n",
    "<body>\n",
    "    <h3 class=\"someClass\">I am a heading 3</h3>\n",
    "    <h4 class=\"someClass\">I am a heading 4</h4>\n",
    "    <h3>I am a random heading</h3>\n",
    "</body>"
   ]
  },
  {
   "attachments": {},
   "cell_type": "markdown",
   "metadata": {
    "dotnet_interactive": {
     "language": "html"
    },
    "polyglot_notebook": {
     "kernelName": "html"
    }
   },
   "source": [
    "1. `.someClass` selector is changing ALL elements with `someClass` as the class, to have the font size of 30px\n",
    "2. `h3.someClass` selector is selecting all `h3` elements that has the class of `someClass`, and assigning the color purple to them.\n",
    "3. `h4.someClass` selector is the same as `h3.someClass` but with `h4`"
   ]
  },
  {
   "attachments": {},
   "cell_type": "markdown",
   "metadata": {
    "dotnet_interactive": {
     "language": "html"
    },
    "polyglot_notebook": {
     "kernelName": "html"
    }
   },
   "source": [
    "Make sure you understand the outputs of this ^^^  \n",
    "Why is the last `<h3>` not purple, and not sized the same size as the other 2?"
   ]
  },
  {
   "attachments": {},
   "cell_type": "markdown",
   "metadata": {
    "dotnet_interactive": {
     "language": "html"
    },
    "polyglot_notebook": {
     "kernelName": "html"
    }
   },
   "source": [
    "Using the `id` attribute is useful because only one element should be allowed to have that id, while multiple elements can have the same class. To select an id and style it, use the `\"#\"` character:"
   ]
  },
  {
   "cell_type": "code",
   "execution_count": null,
   "metadata": {
    "dotnet_interactive": {
     "language": "html"
    },
    "polyglot_notebook": {
     "kernelName": "html"
    },
    "vscode": {
     "languageId": "polyglot-notebook"
    }
   },
   "outputs": [],
   "source": [
    "<head>\n",
    "<style>\n",
    "#someID{\n",
    "    font-size: 100px;\n",
    "}\n",
    "\n",
    "</style>\n",
    "</head>\n",
    "\n",
    "<body>\n",
    "    <h3 id=\"someID\">I am a heading 3</h3>\n",
    "</body>"
   ]
  },
  {
   "attachments": {},
   "cell_type": "markdown",
   "metadata": {
    "dotnet_interactive": {
     "language": "html"
    },
    "polyglot_notebook": {
     "kernelName": "html"
    }
   },
   "source": [
    "Here is an example of an **Attribute Selector**:"
   ]
  },
  {
   "cell_type": "code",
   "execution_count": null,
   "metadata": {
    "dotnet_interactive": {
     "language": "html"
    },
    "polyglot_notebook": {
     "kernelName": "html"
    },
    "vscode": {
     "languageId": "polyglot-notebook"
    }
   },
   "outputs": [],
   "source": [
    "<head>\n",
    "<style>\n",
    "a[href=\"#home\"] {\n",
    "    color: pink;\n",
    "}\n",
    "</style>\n",
    "</head>\n",
    "\n",
    "<body>\n",
    "    <a href=\"#home\">I am a link</a>\n",
    "    <br>\n",
    "    <a href=\"#hi\">I am a link</a>\n",
    "</body>"
   ]
  },
  {
   "attachments": {},
   "cell_type": "markdown",
   "metadata": {
    "dotnet_interactive": {
     "language": "html"
    },
    "polyglot_notebook": {
     "kernelName": "html"
    }
   },
   "source": [
    "Notice how I select the `<a>` element that has the attribute and attribute value to be the same as what I gave the selector."
   ]
  },
  {
   "cell_type": "code",
   "execution_count": null,
   "metadata": {
    "dotnet_interactive": {
     "language": "html"
    },
    "polyglot_notebook": {
     "kernelName": "html"
    },
    "vscode": {
     "languageId": "polyglot-notebook"
    }
   },
   "outputs": [],
   "source": [
    "<head>\n",
    "<style>\n",
    "em {\n",
    "    font-size: 20px;\n",
    "}\n",
    "\n",
    "p em{\n",
    "    color: green;\n",
    "}\n",
    "\n",
    "</style>\n",
    "</head>\n",
    "\n",
    "<body>\n",
    "    <h1><em>I am in a header 1</em></h1>\n",
    "    <p><em>I am in a paragraph</em></p>\n",
    "    <em>I am outside</em>\n",
    "</body>"
   ]
  },
  {
   "attachments": {},
   "cell_type": "markdown",
   "metadata": {
    "dotnet_interactive": {
     "language": "html"
    },
    "polyglot_notebook": {
     "kernelName": "html"
    }
   },
   "source": [
    "In the example above, `p em` is selecting the `<em>` elements that are inside (descendant) of `<p>` elements."
   ]
  },
  {
   "cell_type": "code",
   "execution_count": null,
   "metadata": {
    "dotnet_interactive": {
     "language": "html"
    },
    "polyglot_notebook": {
     "kernelName": "html"
    },
    "vscode": {
     "languageId": "polyglot-notebook"
    }
   },
   "outputs": [],
   "source": [
    "<head>\n",
    "<style>\n",
    "em {\n",
    "    font-size: 20px;\n",
    "}\n",
    "\n",
    "p + em{\n",
    "    color: green;\n",
    "}\n",
    "\n",
    "</style>\n",
    "</head>\n",
    "\n",
    "<body>\n",
    "    <h1><em>I am in a header 1</em></h1>\n",
    "    <p><b><em>I am in a paragraph</em></b></p>\n",
    "    <em>I am after a paragraph</em>\n",
    "    <em>I am not after a paragraph</em>\n",
    "\n",
    "</body>"
   ]
  },
  {
   "attachments": {},
   "cell_type": "markdown",
   "metadata": {
    "dotnet_interactive": {
     "language": "html"
    },
    "polyglot_notebook": {
     "kernelName": "html"
    }
   },
   "source": [
    "What this is saying, is select the `<em>` elements that occur AFTER `<p>` elements."
   ]
  },
  {
   "attachments": {},
   "cell_type": "markdown",
   "metadata": {
    "dotnet_interactive": {
     "language": "html"
    },
    "polyglot_notebook": {
     "kernelName": "html"
    }
   },
   "source": [
    "What does this select? (Just describe it through words):"
   ]
  },
  {
   "cell_type": "code",
   "execution_count": null,
   "metadata": {
    "dotnet_interactive": {
     "language": "html"
    },
    "polyglot_notebook": {
     "kernelName": "html"
    },
    "vscode": {
     "languageId": "polyglot-notebook"
    }
   },
   "outputs": [],
   "source": [
    "body h1 + p .special{\n",
    "    blah blah\n",
    "}"
   ]
  },
  {
   "attachments": {},
   "cell_type": "markdown",
   "metadata": {
    "dotnet_interactive": {
     "language": "html"
    },
    "polyglot_notebook": {
     "kernelName": "html"
    }
   },
   "source": [
    "## State Styling with Pseudo-classes and Pseudo-elements"
   ]
  },
  {
   "attachments": {},
   "cell_type": "markdown",
   "metadata": {
    "dotnet_interactive": {
     "language": "html"
    },
    "polyglot_notebook": {
     "kernelName": "html"
    }
   },
   "source": [
    "Elements have states, like when you hover, seleting, when you visited a link, etc. You can change how each of these states of a text look by using pseudo-classes. An example would be to use it on the anchor, `<a>`, element. Try this out in your document:"
   ]
  },
  {
   "cell_type": "code",
   "execution_count": null,
   "metadata": {
    "dotnet_interactive": {
     "language": "html"
    },
    "polyglot_notebook": {
     "kernelName": "html"
    },
    "vscode": {
     "languageId": "polyglot-notebook"
    }
   },
   "outputs": [],
   "source": [
    "<head>\n",
    "<style>\n",
    "a:link{\n",
    "    color:pink;\n",
    "}\n",
    "a:visited{\n",
    "    color:green;\n",
    "}\n",
    "a:hover{\n",
    "    color:purple;\n",
    "    text-decoration:none;\n",
    "}\n",
    "</style>\n",
    "</head>\n",
    "\n",
    "<body>\n",
    "    <a href=\"http://google.com\"><p>I am a link</p></a>\n",
    "</body>"
   ]
  },
  {
   "attachments": {},
   "cell_type": "markdown",
   "metadata": {
    "dotnet_interactive": {
     "language": "html"
    },
    "polyglot_notebook": {
     "kernelName": "html"
    }
   },
   "source": [
    "The three above are all pseudo-classes, which you can identify by the single colon. Pseudo-classes style certain states of an element."
   ]
  },
  {
   "attachments": {},
   "cell_type": "markdown",
   "metadata": {
    "dotnet_interactive": {
     "language": "html"
    },
    "polyglot_notebook": {
     "kernelName": "html"
    }
   },
   "source": [
    "This is an example of a pseudo-element. Pseudo-elements selects a certain part of an element to style:"
   ]
  },
  {
   "cell_type": "code",
   "execution_count": null,
   "metadata": {
    "dotnet_interactive": {
     "language": "html"
    },
    "polyglot_notebook": {
     "kernelName": "html"
    },
    "vscode": {
     "languageId": "polyglot-notebook"
    }
   },
   "outputs": [],
   "source": [
    "<head>\n",
    "<style>\n",
    ".paragraph::first-line{\n",
    "    color: blue;\n",
    "}\n",
    "</style>\n",
    "</head>\n",
    "\n",
    "<body>\n",
    "    <p class=\"paragraph\">I am something I am something I am something I am something I am something I am something I am something I am something I am something I am something I am something I am something I am something I am something I am something I am something I am something I am something I am something I am something I am something I am something I am something I am something I am something I am something I am something I am something I am something I am something I am something I am something I am something </p>\n",
    "</body>"
   ]
  },
  {
   "attachments": {},
   "cell_type": "markdown",
   "metadata": {
    "dotnet_interactive": {
     "language": "html"
    },
    "polyglot_notebook": {
     "kernelName": "html"
    }
   },
   "source": [
    "Then there is the **Child Combinator** character, `>`, which selects ***DIRECT*** (emphasize on the direct please) children. Here is an example"
   ]
  },
  {
   "cell_type": "code",
   "execution_count": null,
   "metadata": {
    "dotnet_interactive": {
     "language": "html"
    },
    "polyglot_notebook": {
     "kernelName": "html"
    },
    "vscode": {
     "languageId": "polyglot-notebook"
    }
   },
   "outputs": [],
   "source": [
    "<head>\n",
    "<style>\n",
    "div > p{\n",
    "    color: blue;\n",
    "}\n",
    "</style>\n",
    "</head>\n",
    "\n",
    "<body>\n",
    "    <div>\n",
    "        <p>I am something I am something I am something I am something I am something </p>\n",
    "    <div>\n",
    "    <div>\n",
    "        <span>\n",
    "            <p>I am something I am something I am something I am something I am something </p>\n",
    "        </span>\n",
    "    <div>\n",
    "</body>"
   ]
  },
  {
   "attachments": {},
   "cell_type": "markdown",
   "metadata": {
    "dotnet_interactive": {
     "language": "html"
    },
    "polyglot_notebook": {
     "kernelName": "html"
    }
   },
   "source": [
    "Why does it only color the first one?"
   ]
  },
  {
   "attachments": {},
   "cell_type": "markdown",
   "metadata": {
    "dotnet_interactive": {
     "language": "html"
    },
    "polyglot_notebook": {
     "kernelName": "html"
    }
   },
   "source": [
    "Lets take a dive on what makes CSS selectors complicated. Lets start with this example:"
   ]
  },
  {
   "cell_type": "code",
   "execution_count": null,
   "metadata": {
    "dotnet_interactive": {
     "language": "html"
    },
    "polyglot_notebook": {
     "kernelName": "html"
    },
    "vscode": {
     "languageId": "polyglot-notebook"
    }
   },
   "outputs": [],
   "source": [
    "<head>\n",
    "<style>\n",
    "p {\n",
    "    color: blue;\n",
    "}\n",
    "p.hello{\n",
    "    color: purple;\n",
    "}\n",
    "div{\n",
    "    color: black;\n",
    "}\n",
    ".someClass{\n",
    "    color: white;\n",
    "}\n",
    "div.someClass{\n",
    "    color: grey;\n",
    "}\n",
    ".hello{\n",
    "    color: green;\n",
    "}\n",
    "</style>\n",
    "</head>\n",
    "\n",
    "<body>\n",
    "    <div class=\"someClass\">\n",
    "        <p class=\"hello\">I am a test</p>\n",
    "    </div>\n",
    "</body>"
   ]
  },
  {
   "attachments": {},
   "cell_type": "markdown",
   "metadata": {
    "dotnet_interactive": {
     "language": "html"
    },
    "polyglot_notebook": {
     "kernelName": "html"
    }
   },
   "source": [
    "Notice how all of these rules are able to select the single `<p>` element. But why does it turn purple?"
   ]
  },
  {
   "attachments": {},
   "cell_type": "markdown",
   "metadata": {
    "dotnet_interactive": {
     "language": "html"
    },
    "polyglot_notebook": {
     "kernelName": "html"
    }
   },
   "source": [
    "## Cascade, Specificity, and Inheritance"
   ]
  },
  {
   "attachments": {},
   "cell_type": "markdown",
   "metadata": {
    "dotnet_interactive": {
     "language": "html"
    },
    "polyglot_notebook": {
     "kernelName": "html"
    }
   },
   "source": [
    "When choosing the CSS rule to apply to said element, there are three factors to consider, listed in increasing order of importance:\n",
    "1. Source Order (Using the cascade rule)\n",
    "2. Specificity\n",
    "3. Importance"
   ]
  },
  {
   "attachments": {},
   "cell_type": "markdown",
   "metadata": {
    "dotnet_interactive": {
     "language": "html"
    },
    "polyglot_notebook": {
     "kernelName": "html"
    }
   },
   "source": [
    "### Cascade"
   ]
  },
  {
   "attachments": {},
   "cell_type": "markdown",
   "metadata": {
    "dotnet_interactive": {
     "language": "html"
    },
    "polyglot_notebook": {
     "kernelName": "html"
    }
   },
   "source": [
    "The cascade rule is when later styles replace conflicting styles that appear earlier in the stylesheet. Try to guess the output of this example:"
   ]
  },
  {
   "cell_type": "code",
   "execution_count": null,
   "metadata": {
    "dotnet_interactive": {
     "language": "html"
    },
    "polyglot_notebook": {
     "kernelName": "html"
    },
    "vscode": {
     "languageId": "polyglot-notebook"
    }
   },
   "outputs": [],
   "source": [
    "<head>\n",
    "<style>\n",
    "p {\n",
    "    color: red;\n",
    "}\n",
    "p {\n",
    "    color: blue;\n",
    "}\n",
    "</style>\n",
    "</head>\n",
    "\n",
    "<body>\n",
    "    <p>Hello</p>\n",
    "</body>"
   ]
  },
  {
   "attachments": {},
   "cell_type": "markdown",
   "metadata": {
    "dotnet_interactive": {
     "language": "html"
    },
    "polyglot_notebook": {
     "kernelName": "html"
    }
   },
   "source": [
    "### Inheritance"
   ]
  },
  {
   "attachments": {},
   "cell_type": "markdown",
   "metadata": {
    "dotnet_interactive": {
     "language": "html"
    },
    "polyglot_notebook": {
     "kernelName": "html"
    }
   },
   "source": [
    "Inheritance occurs whenever you have an element inside another element. Like a `<p>` inside of a `<div>` element. What this means, is that certain properties like `color` that you give to the `<div>`, will also be applied to the `<p>` and other child elements of `<div>`. However, not all properties you set inside a parent element will apply to the children. For example, setting the `width` property inside of `<div>` will not affect all of its childeren and set them all to have the same `width` as you gave."
   ]
  },
  {
   "attachments": {},
   "cell_type": "markdown",
   "metadata": {
    "dotnet_interactive": {
     "language": "html"
    },
    "polyglot_notebook": {
     "kernelName": "html"
    }
   },
   "source": [
    "Here is an example of inheritance in action:"
   ]
  },
  {
   "cell_type": "code",
   "execution_count": null,
   "metadata": {
    "dotnet_interactive": {
     "language": "html"
    },
    "polyglot_notebook": {
     "kernelName": "html"
    },
    "vscode": {
     "languageId": "polyglot-notebook"
    }
   },
   "outputs": [],
   "source": [
    "<head>\n",
    "<style>\n",
    ".main {\n",
    "    color: rebeccapurple;\n",
    "    border: 2px solid #ccc;\n",
    "    padding: 1em;\n",
    "}\n",
    "\n",
    ".special {\n",
    "    color: black;\n",
    "    font-weight: bold;\n",
    "}\n",
    "</style>\n",
    "</head>\n",
    "<body>\n",
    "<ul class=\"main\">\n",
    "    <li>Item One</li>\n",
    "    <li>Item Two\n",
    "        <ul>\n",
    "            <li>2.1</li>\n",
    "            <li>2.2</li>\n",
    "        </ul>\n",
    "    </li>\n",
    "    <li>Item Three\n",
    "        <ul class=\"special\">\n",
    "            <li>3.1\n",
    "                <ul>\n",
    "                    <li>3.1.1</li>\n",
    "                    <li>3.1.2</li>\n",
    "                </ul>\n",
    "            </li>\n",
    "            <li>3.2</li>\n",
    "        </ul>\n",
    "    </li>\n",
    "</ul>\n",
    "</body>"
   ]
  },
  {
   "attachments": {},
   "cell_type": "markdown",
   "metadata": {
    "dotnet_interactive": {
     "language": "html"
    },
    "polyglot_notebook": {
     "kernelName": "html"
    }
   },
   "source": [
    "Try to answer these questions:\n",
    "1. Why is there a border around the `.main` but not around anything else, even though `.main` is the parent?\n",
    "    (It is because the `border` property is not an inherited property)\n",
    "2. Why is some of the text purple while the other parts are just black?\n",
    "    (The purple text don't belong to the `special` class, while the black text do)"
   ]
  },
  {
   "attachments": {},
   "cell_type": "markdown",
   "metadata": {
    "dotnet_interactive": {
     "language": "html"
    },
    "polyglot_notebook": {
     "kernelName": "html"
    }
   },
   "source": [
    "Now lets say we want to have a list with 8 items, the first 4 have a certain style, next 2 have a different style, and the last 2 have another style. How can you do this?"
   ]
  },
  {
   "attachments": {},
   "cell_type": "markdown",
   "metadata": {
    "dotnet_interactive": {
     "language": "html"
    },
    "polyglot_notebook": {
     "kernelName": "html"
    }
   },
   "source": [
    "In order to find out if a property is inherited, you can either test it out for yourself, or look up the property in the documentation to see if the property is inherited or not. Most of the time, you can just intuitively guess if the property can be inherited or not."
   ]
  },
  {
   "attachments": {},
   "cell_type": "markdown",
   "metadata": {
    "dotnet_interactive": {
     "language": "html"
    },
    "polyglot_notebook": {
     "kernelName": "html"
    }
   },
   "source": [
    "### **EVERY SINGLE** CSS property have these 5 special values to control inheritance:\n",
    "\n",
    "<table>\n",
    "    <tr>\n",
    "    <td>inherit</td><td>Sets the property's value to be the same as the same property in its' parent element.</td>\n",
    "    </tr>\n",
    "    <tr>\n",
    "    <td>initial</td><td>Sets the property's value to be the \"initial\" values that the property had. (Not the same as default browser)</td>\n",
    "    </tr>\n",
    "    <td>revert</td><td>Applies the browser's default property value.</td>\n",
    "    <tr>\n",
    "    <td>rever-layer</td><td>Resets the value to the element that was established in a previous <strong>cascade layer</strong>.</td>>\n",
    "    </tr>\n",
    "    <tr>\n",
    "    <td>unset</td><td>Sets the value to be its \"natural value\", so if the property is naturally inherited, it acts like <code>inherit</code>, otherwise, it will act like <code>initial</code></td>\n",
    "    </tr>\n",
    "</table>"
   ]
  },
  {
   "attachments": {},
   "cell_type": "markdown",
   "metadata": {
    "dotnet_interactive": {
     "language": "html"
    },
    "polyglot_notebook": {
     "kernelName": "html"
    }
   },
   "source": [
    "Try to guess the color of the links in this example:"
   ]
  },
  {
   "cell_type": "code",
   "execution_count": 22,
   "metadata": {
    "dotnet_interactive": {
     "language": "html"
    },
    "polyglot_notebook": {
     "kernelName": "html"
    },
    "vscode": {
     "languageId": "polyglot-notebook"
    }
   },
   "outputs": [
    {
     "data": {
      "text/html": [
       "<head>\n",
       "<style>\n",
       "body {\n",
       "    color: green;\n",
       "}\n",
       "          \n",
       ".my-class-1 a {\n",
       "    color: inherit;\n",
       "}\n",
       "          \n",
       ".my-class-2 a {\n",
       "    color: initial;\n",
       "}\n",
       "          \n",
       ".my-class-3 a {\n",
       "    color: unset;\n",
       "}\n",
       "</style>\n",
       "</head>\n",
       "<body>\n",
       "<ul>\n",
       "    <li>Default <a href=\"#\">link</a> color</li>\n",
       "    <li class=\"my-class-1\">Inherit the <a href=\"#\">link</a> color</li>\n",
       "    <li class=\"my-class-2\">Reset the <a href=\"#\">link</a> color</li>\n",
       "    <li class=\"my-class-3\">Unset the <a href=\"#\">link</a> color</li>\n",
       "</ul>\n",
       "</body>"
      ]
     },
     "metadata": {},
     "output_type": "display_data"
    }
   ],
   "source": [
    "<head>\n",
    "<style>\n",
    "body {\n",
    "    color: green;\n",
    "}\n",
    "          \n",
    ".my-class-1 a {\n",
    "    color: inherit;\n",
    "}\n",
    "          \n",
    ".my-class-2 a {\n",
    "    color: initial;\n",
    "}\n",
    "          \n",
    ".my-class-3 a {\n",
    "    color: unset;\n",
    "}\n",
    "</style>\n",
    "</head>\n",
    "<body>\n",
    "<ul>\n",
    "    <li>Default <a href=\"#\">link</a> color</li>\n",
    "    <li class=\"my-class-1\">Inherit the <a href=\"#\">link</a> color</li>\n",
    "    <li class=\"my-class-2\">Reset the <a href=\"#\">link</a> color</li>\n",
    "    <li class=\"my-class-3\">Unset the <a href=\"#\">link</a> color</li>\n",
    "</ul>\n",
    "</body>"
   ]
  },
  {
   "attachments": {},
   "cell_type": "markdown",
   "metadata": {
    "dotnet_interactive": {
     "language": "html"
    },
    "polyglot_notebook": {
     "kernelName": "html"
    }
   },
   "source": [
    "1. By default, the `<a>` tag has its own styling applied to it. Which is the blue color\n",
    "2. `.my-class-1 a` inherits the property value change, `color: green`, and it becomes green\n",
    "3. This is a weird one. Think about the default value of the PROPERTY. Since the property is `color`, the default value is `black`.\n",
    "4. `unset` will cause the property, `color`, to `inherit`, which will turn it to be green."
   ]
  },
  {
   "attachments": {},
   "cell_type": "markdown",
   "metadata": {
    "dotnet_interactive": {
     "language": "html"
    },
    "polyglot_notebook": {
     "kernelName": "html"
    }
   },
   "source": [
    "Questions:  \n",
    "1. What will happen if we got rid of the `a` in all of the selectors, for example: `.my-class-1 a` -> `.my-class-1`?\n",
    "2. What will happen if we make a new rule: `a {color:red;}`?\n",
    "3. What will happen if we change the `color` property to `all`? (Once you learn it which will be after this)"
   ]
  },
  {
   "attachments": {},
   "cell_type": "markdown",
   "metadata": {
    "dotnet_interactive": {
     "language": "html"
    },
    "polyglot_notebook": {
     "kernelName": "html"
    }
   },
   "source": [
    "### Specificity"
   ]
  },
  {
   "attachments": {},
   "cell_type": "markdown",
   "metadata": {
    "dotnet_interactive": {
     "language": "html"
    },
    "polyglot_notebook": {
     "kernelName": "html"
    }
   },
   "source": [
    "The element's chosen CSS properties depends on which rule is more **specific**. For example, a selector that selects ALL `<p>` is less specific than a selector choosing a `<p>` using a specific class. As shown here:"
   ]
  },
  {
   "cell_type": "code",
   "execution_count": 23,
   "metadata": {
    "dotnet_interactive": {
     "language": "html"
    },
    "polyglot_notebook": {
     "kernelName": "html"
    },
    "vscode": {
     "languageId": "polyglot-notebook"
    }
   },
   "outputs": [
    {
     "data": {
      "text/html": [
       "<head>\n",
       "<style>\n",
       ".paragraph{\n",
       "    color: green;\n",
       "}\n",
       "p {\n",
       "    color: orange;\n",
       "    background: black;\n",
       "}\n",
       "</style>\n",
       "</head>\n",
       "\n",
       "<body>\n",
       "    <p class=\"paragraph\">I am a color</p>\n",
       "</body>"
      ]
     },
     "metadata": {},
     "output_type": "display_data"
    }
   ],
   "source": [
    "<head>\n",
    "<style>\n",
    ".paragraph{\n",
    "    color: green;\n",
    "}\n",
    "p {\n",
    "    color: orange;\n",
    "    background: black;\n",
    "}\n",
    "</style>\n",
    "</head>\n",
    "\n",
    "<body>\n",
    "    <p class=\"paragraph\">I am a color</p>\n",
    "</body>"
   ]
  },
  {
   "attachments": {},
   "cell_type": "markdown",
   "metadata": {
    "dotnet_interactive": {
     "language": "html"
    },
    "polyglot_notebook": {
     "kernelName": "html"
    }
   },
   "source": [
    "Take note, that it doesn't choose by the ENTIRE rule, it only looks at the properties, so it is green from the `.paragraph`, and the background color is black from the `p` selector."
   ]
  },
  {
   "attachments": {},
   "cell_type": "markdown",
   "metadata": {
    "dotnet_interactive": {
     "language": "html"
    },
    "polyglot_notebook": {
     "kernelName": "html"
    }
   },
   "source": [
    "The amount of specificity is measured from three values:\n",
    "1. Identifiers : Score one in this column for each ID selector contained inside the overall selector.\n",
    "2. Classes: Score on in this column for each class selector, attribute selector, or pseudo-class contained in the overall selector.\n",
    "3. Elements: Score one in this column for each element selector or pseudo-element contained inside the overall selector"
   ]
  },
  {
   "attachments": {},
   "cell_type": "markdown",
   "metadata": {
    "dotnet_interactive": {
     "language": "html"
    },
    "polyglot_notebook": {
     "kernelName": "html"
    }
   },
   "source": [
    "The idea is that a MILLION class selectors will not be able to be more specific than one id selector. And a bunch of element selectors won't be able to beat a single class selector."
   ]
  },
  {
   "attachments": {},
   "cell_type": "markdown",
   "metadata": {
    "dotnet_interactive": {
     "language": "html"
    },
    "polyglot_notebook": {
     "kernelName": "html"
    }
   },
   "source": [
    "Here are examples: (we will go over what some of these mean later)\n",
    "\n",
    "<table>\n",
    "    <tr><th>Selector</th><th>Identifiers</th><th>Classes</th><th>Elements</th><th>Total Specificity</th></tr>\n",
    "    <tr><td><code>h1</code></td><td>0</td><td>0</td><td>1</td><td>0-0-1</td></tr>\n",
    "    <tr><td><code>h1 + p::first-letter</code></td><td>0</td><td>0</td><td>3</td><td>0-0-3</td></tr>\n",
    "    <tr><td><code>li > a[href*=\"en-US\"] > .inline-warning</code></td><td>0</td><td>2</td><td>2</td><td>0-2-2</td></tr>\n",
    "    <tr><td><code>#identifier</code></td><td>1</td><td>0</td><td>0</td><td>1-0-0</td></tr>\n",
    "    <tr><td><code>button:not(#mainBtn, .cta)</code></td><td>1</td><td>0</td><td>1</td><td>1-0-1</td></tr>\n",
    "\n",
    "</table>"
   ]
  },
  {
   "attachments": {},
   "cell_type": "markdown",
   "metadata": {
    "dotnet_interactive": {
     "language": "html"
    },
    "polyglot_notebook": {
     "kernelName": "html"
    }
   },
   "source": [
    "#### Note: `*`, `+`, `>`, `~`, `' '`, and `:where()` with its parameters, do not affect specificity  \n",
    "#### But `:not()`, `:has()`, `:is()`, don't have an effect on specificity, but their parameters do. The specificity that each contributes, is the specificity of the parameters with the greatest weight. So for example, in the last row, `:not(#mainBtn, .cta)` has an identifier as the greatest specificity value in the parameters, so the point goes to identifiers."
   ]
  },
  {
   "attachments": {},
   "cell_type": "markdown",
   "metadata": {
    "dotnet_interactive": {
     "language": "html"
    },
    "polyglot_notebook": {
     "kernelName": "html"
    }
   },
   "source": [
    "Let's test by code. Guess these values for the two links:\n",
    "1. `background-color`\n",
    "2. `font color`\n",
    "3. `border` is solid, dashed, or doubled\n",
    "\n",
    "To find out, follow the steps for this:\n",
    "1. Guess the specificity number for each one\n",
    "2. Find out what is competing for what, and who wins\n",
    "3. For each link, see which selectors it is \"valid\" for\n",
    "4. Choose the selector that wins if it competes.\n"
   ]
  },
  {
   "cell_type": "code",
   "execution_count": 24,
   "metadata": {
    "dotnet_interactive": {
     "language": "html"
    },
    "polyglot_notebook": {
     "kernelName": "html"
    },
    "vscode": {
     "languageId": "polyglot-notebook"
    }
   },
   "outputs": [
    {
     "data": {
      "text/html": [
       "<head>\n",
       "<style>\n",
       "#outer a {\n",
       "    background-color: red;\n",
       "}    \n",
       "#outer #inner a {\n",
       "    background-color: blue;\n",
       "}\n",
       "#outer div ul li a {\n",
       "    color: yellow;\n",
       "}\n",
       "#outer div ul .nav a {\n",
       "    color: white;\n",
       "}\n",
       "div div li:nth-child(2) a:hover {\n",
       "    border: 10px solid black;\n",
       "}\n",
       "div li:nth-child(2) a:hover {\n",
       "    border: 10px dashed black;\n",
       "}\n",
       "div div .nav:nth-child(2) a:hover {\n",
       "    border: 10px double black;\n",
       "}\n",
       "a {\n",
       "    display: inline-block;\n",
       "    line-height: 40px;\n",
       "    font-size: 20px;\n",
       "    text-decoration: none;\n",
       "    text-align: center;\n",
       "    width: 200px;\n",
       "    margin-bottom: 10px;\n",
       "}\n",
       "ul {\n",
       "    padding: 0;\n",
       "}\n",
       "li {\n",
       "    list-style-type: none;\n",
       "}            \n",
       "</style>\n",
       "</head>\n",
       "\n",
       "<body>\n",
       "    <div id=\"outer\" class=\"container\">\n",
       "        <div id=\"inner\" class=\"container\">\n",
       "            <ul>\n",
       "                <li class=\"nav\"><a href=\"#\">One</a></li>\n",
       "                <li class=\"nav\"><a href=\"#\">Two</a></li>\n",
       "            </ul>\n",
       "        </div>\n",
       "    </div>\n",
       "</body>"
      ]
     },
     "metadata": {},
     "output_type": "display_data"
    }
   ],
   "source": [
    "<head>\n",
    "<style>\n",
    "#outer a {\n",
    "    background-color: red;\n",
    "}    \n",
    "#outer #inner a {\n",
    "    background-color: blue;\n",
    "}\n",
    "#outer div ul li a {\n",
    "    color: yellow;\n",
    "}\n",
    "#outer div ul .nav a {\n",
    "    color: white;\n",
    "}\n",
    "div div li:nth-child(2) a:hover {\n",
    "    border: 10px solid black;\n",
    "}\n",
    "div li:nth-child(2) a:hover {\n",
    "    border: 10px dashed black;\n",
    "}\n",
    "div div .nav:nth-child(2) a:hover {\n",
    "    border: 10px double black;\n",
    "}\n",
    "a {\n",
    "    display: inline-block;\n",
    "    line-height: 40px;\n",
    "    font-size: 20px;\n",
    "    text-decoration: none;\n",
    "    text-align: center;\n",
    "    width: 200px;\n",
    "    margin-bottom: 10px;\n",
    "}\n",
    "ul {\n",
    "    padding: 0;\n",
    "}\n",
    "li {\n",
    "    list-style-type: none;\n",
    "}            \n",
    "</style>\n",
    "</head>\n",
    "\n",
    "<body>\n",
    "    <div id=\"outer\" class=\"container\">\n",
    "        <div id=\"inner\" class=\"container\">\n",
    "            <ul>\n",
    "                <li class=\"nav\"><a href=\"#\">One</a></li>\n",
    "                <li class=\"nav\"><a href=\"#\">Two</a></li>\n",
    "            </ul>\n",
    "        </div>\n",
    "    </div>\n",
    "</body>"
   ]
  },
  {
   "attachments": {},
   "cell_type": "markdown",
   "metadata": {
    "dotnet_interactive": {
     "language": "html"
    },
    "polyglot_notebook": {
     "kernelName": "html"
    }
   },
   "source": [
    "Answer:  \n",
    "`#outer a`: 1-0-1  \n",
    "`#outer #inner a`: 2-0-1  \n",
    "`#outer div ul li a`: 1-0-4  \n",
    "`#outer div ul .nav a`: 1-1-3  \n",
    "`div div li:nth-child(2) a:hover`: 0-2-4  \n",
    "`div li:nth-child(2) a:hover`: 0-2-3  \n",
    "`div div .nav:nth-child(2) a:hover`: 0-3-3  \n",
    "<br>\n",
    "First two is competing against for background color. The second one, blue, wins.\n",
    "Next two are competing for color, white wins.\n",
    "The last three are competing for the borders. It goes: double, solid, dashed. (In lower point order)\n",
    "<br>\n",
    "The links:\n",
    "    First link doesn't match with anything, so it will not have borders when hovering over it.\n",
    "    Matches with both background color, so it will be blue.  \n",
    "    Matches with both colors, so it will be white.\n",
    "    Matches with all three, so it will be double bordered.\n"
   ]
  },
  {
   "attachments": {},
   "cell_type": "markdown",
   "metadata": {
    "dotnet_interactive": {
     "language": "html"
    },
    "polyglot_notebook": {
     "kernelName": "html"
    }
   },
   "source": [
    "#### NOTE: Inline styles by using the `style` attribute will always take precedence over any specificity"
   ]
  },
  {
   "attachments": {},
   "cell_type": "markdown",
   "metadata": {
    "dotnet_interactive": {
     "language": "html"
    },
    "polyglot_notebook": {
     "kernelName": "html"
    }
   },
   "source": [
    "There also exists the `!important` flag, which will override anything, even inline styles. You should never have to use this value however."
   ]
  },
  {
   "attachments": {},
   "cell_type": "markdown",
   "metadata": {
    "dotnet_interactive": {
     "language": "html"
    },
    "polyglot_notebook": {
     "kernelName": "html"
    }
   },
   "source": [
    "### Cascade Layers are not that important, but you can do some research if you feel like it!"
   ]
  },
  {
   "attachments": {},
   "cell_type": "markdown",
   "metadata": {
    "dotnet_interactive": {
     "language": "html"
    },
    "polyglot_notebook": {
     "kernelName": "html"
    }
   },
   "source": [
    "## Misc Stuff"
   ]
  },
  {
   "attachments": {},
   "cell_type": "markdown",
   "metadata": {
    "dotnet_interactive": {
     "language": "html"
    },
    "polyglot_notebook": {
     "kernelName": "html"
    }
   },
   "source": [
    "### Universal Selector, `*`, selects everything in the document (or inside the parent element)"
   ]
  },
  {
   "attachments": {},
   "cell_type": "markdown",
   "metadata": {
    "dotnet_interactive": {
     "language": "html"
    },
    "polyglot_notebook": {
     "kernelName": "html"
    }
   },
   "source": [
    "# TONS OF QUESTIONS CAN BE MADE HERE"
   ]
  },
  {
   "attachments": {},
   "cell_type": "markdown",
   "metadata": {
    "dotnet_interactive": {
     "language": "html"
    },
    "polyglot_notebook": {
     "kernelName": "html"
    }
   },
   "source": [
    "## Mainly, guess the output questions using classes, complicated selectors, ids, etc etc"
   ]
  }
 ],
 "metadata": {
  "kernelspec": {
   "display_name": ".NET (C#)",
   "language": "C#",
   "name": ".net-csharp"
  },
  "polyglot_notebook": {
   "kernelInfo": {
    "defaultKernelName": "csharp",
    "items": [
     {
      "aliases": [
       "c#",
       "C#"
      ],
      "languageName": "C#",
      "name": "csharp"
     },
     {
      "aliases": [],
      "name": ".NET"
     },
     {
      "aliases": [
       "f#",
       "F#"
      ],
      "languageName": "F#",
      "name": "fsharp"
     },
     {
      "aliases": [],
      "languageName": "HTML",
      "name": "html"
     },
     {
      "aliases": [
       "js"
      ],
      "languageName": "JavaScript",
      "name": "javascript"
     },
     {
      "aliases": [],
      "languageName": "KQL",
      "name": "kql"
     },
     {
      "aliases": [],
      "languageName": "Mermaid",
      "name": "mermaid"
     },
     {
      "aliases": [
       "powershell"
      ],
      "languageName": "PowerShell",
      "name": "pwsh"
     },
     {
      "aliases": [],
      "languageName": "SQL",
      "name": "sql"
     },
     {
      "aliases": [],
      "name": "value"
     },
     {
      "aliases": [
       "frontend"
      ],
      "name": "vscode"
     },
     {
      "aliases": [],
      "name": "webview"
     }
    ]
   }
  }
 },
 "nbformat": 4,
 "nbformat_minor": 2
}
