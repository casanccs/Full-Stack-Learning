{
 "cells": [
  {
   "attachments": {},
   "cell_type": "markdown",
   "metadata": {
    "dotnet_interactive": {
     "language": "csharp"
    },
    "polyglot_notebook": {
     "kernelName": "csharp"
    }
   },
   "source": [
    "# Normal Flow"
   ]
  },
  {
   "attachments": {},
   "cell_type": "markdown",
   "metadata": {
    "dotnet_interactive": {
     "language": "csharp"
    },
    "polyglot_notebook": {
     "kernelName": "csharp"
    }
   },
   "source": [
    "This section is more of a recap. Here are some questions:"
   ]
  },
  {
   "attachments": {},
   "cell_type": "markdown",
   "metadata": {
    "dotnet_interactive": {
     "language": "csharp"
    },
    "polyglot_notebook": {
     "kernelName": "csharp"
    }
   },
   "source": [
    "1. Between inline and block elements, which type of element can you not set `width` and `height` to?\n",
    "    - Answer is that with inline you cannot set the width and height. They just sit inside the content of block level elements, EXCEPT FOR IMAGES.\n",
    "2. If you want to resize an inline element, what is something you can do?\n",
    "    - Answer is to change the `display` property to either `block` or `inline-block`.\n",
    "3. In a `writing-mode` of `initial`, which is `horizontal-tb`, what direction is the \"block flow direction\"? Where will a new block appear after this one?\n",
    "    - Block flow direction will be from left to right, and the new block will appear below this one.\n",
    "4. What will separate the two blocks?\n",
    "    - The margin between them. But remember about the \"margin collapsing\" phenomenon.\n",
    "5. If two margins are collapsing, one margin is 20px, while the other is 15px, what will be the space between the two boxes?\n",
    "    - 20px, because of the \"margin collision\" rules we learned earlier.\n",
    "6. When two inline elements don't take up an entire space, will they be placed next to each other? Or below one another?\n",
    "    - Next to each other."
   ]
  },
  {
   "attachments": {},
   "cell_type": "markdown",
   "metadata": {
    "dotnet_interactive": {
     "language": "csharp"
    },
    "polyglot_notebook": {
     "kernelName": "csharp"
    }
   },
   "source": [
    "# Flexbox"
   ]
  },
  {
   "attachments": {},
   "cell_type": "markdown",
   "metadata": {
    "dotnet_interactive": {
     "language": "csharp"
    },
    "polyglot_notebook": {
     "kernelName": "csharp"
    }
   },
   "source": [
    "Flexbox is a one-dimensional layout method for arranging items in rows or columns. So the elements FLEX/EXPAND to fill additional space or SHRINK to fit into smaller spaces."
   ]
  },
  {
   "attachments": {},
   "cell_type": "markdown",
   "metadata": {
    "dotnet_interactive": {
     "language": "csharp"
    },
    "polyglot_notebook": {
     "kernelName": "csharp"
    }
   },
   "source": [
    "In the past, the only ways to create CSS layouts were `floats` and `positioning`, but some tasks were hard to achieve. Examples of these tasks are:\n",
    "1. Vertically centering a block of content inside its parent.\n",
    "2. Making all the children of a container take up an equal amount of the available width/height, regardless of how much width/height is available.\n",
    "3. Making all columns in a multiple-column layout adopt the same height even if they contain a different amount of content."
   ]
  },
  {
   "attachments": {},
   "cell_type": "markdown",
   "metadata": {
    "dotnet_interactive": {
     "language": "csharp"
    },
    "polyglot_notebook": {
     "kernelName": "csharp"
    }
   },
   "source": [
    "Flexbox makes a lot of layout tasks much easier."
   ]
  },
  {
   "attachments": {},
   "cell_type": "markdown",
   "metadata": {
    "dotnet_interactive": {
     "language": "csharp"
    },
    "polyglot_notebook": {
     "kernelName": "csharp"
    }
   },
   "source": [
    "Let's start with an example:"
   ]
  },
  {
   "cell_type": "code",
   "execution_count": null,
   "metadata": {
    "dotnet_interactive": {
     "language": "html"
    },
    "polyglot_notebook": {
     "kernelName": "html"
    },
    "vscode": {
     "languageId": "polyglot-notebook"
    }
   },
   "outputs": [],
   "source": [
    "<head>\n",
    "<style>\n",
    ".container .inner{\n",
    "    background-color: blue;\n",
    "    margin: 40px;\n",
    "    width: 80%;\n",
    "}\n",
    "\n",
    "\n",
    "</style>\n",
    "</head>\n",
    "<body>\n",
    "<div class=\"container\">\n",
    "    <div class=\"inner\">\n",
    "        <p>Lorem ipsum dolor sit amet consectetur adipisicing elit. Non facilis ipsam quod dolor aliquam unde porro. Ut praesentium illum nisi inventore facere voluptas amet a debitis veniam, recusandae, mollitia hic!</p>\n",
    "    </div>\n",
    "    <div class=\"inner\">\n",
    "        <p>Lorem ipsum dolor sit amet consectetur adipisicing elit. Non facilis ipsam quod dolor aliquam unde porro. Ut praesentium illum nisi inventore facere voluptas amet a debitis veniam, recusandae, mollitia hic!<br>\n",
    "        Lorem ipsum dolor sit amet consectetur adipisicing elit. Non facilis ipsam quod dolor aliquam unde porro. </p>\n",
    "    </div>\n",
    "    <div class=\"inner\">\n",
    "        <p>Lorem ipsum dolor sit amet consectetur adipisicing elit. Non facilis ipsam quod dolor aliquam unde porro. Ut praesentium illum nisi inventore facere voluptas amet a debitis veniam, recusandae, mollitia hic!<br>\n",
    "        Lorem ipsum dolor sit amet consectetur adipisicing elit. Non facilis ipsam quod dolor aliquam unde porro. <br>\n",
    "        Lorem ipsum dolor sit amet consectetur adipisicing elit. Non facilis ipsam quod dolor aliquam unde porro. </p>\n",
    "    </div>\n",
    "</div>\n",
    "</body>"
   ]
  },
  {
   "attachments": {},
   "cell_type": "markdown",
   "metadata": {
    "dotnet_interactive": {
     "language": "html"
    },
    "polyglot_notebook": {
     "kernelName": "html"
    }
   },
   "source": [
    "Are all of the boxes the same size?  \n",
    "Obviously no."
   ]
  },
  {
   "attachments": {},
   "cell_type": "markdown",
   "metadata": {
    "dotnet_interactive": {
     "language": "html"
    },
    "polyglot_notebook": {
     "kernelName": "html"
    }
   },
   "source": [
    "Now let's set the `.container` to have `display: flex`:"
   ]
  },
  {
   "cell_type": "code",
   "execution_count": 4,
   "metadata": {
    "dotnet_interactive": {
     "language": "html"
    },
    "polyglot_notebook": {
     "kernelName": "html"
    },
    "vscode": {
     "languageId": "polyglot-notebook"
    }
   },
   "outputs": [
    {
     "data": {
      "text/html": [
       "<head>\n",
       "<style>\n",
       ".container .inner{\n",
       "    background-color: blue;\n",
       "    margin: 20px;\n",
       "    width: 80%;\n",
       "}\n",
       ".container{\n",
       "    display: flex;\n",
       "}\n",
       "\n",
       "</style>\n",
       "</head>\n",
       "<body>\n",
       "<div class=\"container\">\n",
       "    <div class=\"inner\">\n",
       "        <p>Lorem ipsum dolor sit amet consectetur adipisicing elit. Non facilis ipsam quod dolor aliquam unde porro. Ut praesentium illum nisi inventore facere voluptas amet a debitis veniam, recusandae, mollitia hic!</p>\n",
       "    </div>\n",
       "    <div class=\"inner\">\n",
       "        <p>Lorem ipsum dolor sit amet consectetur adipisicing elit. Non facilis ipsam quod dolor aliquam unde porro. Ut praesentium illum nisi inventore facere voluptas amet a debitis veniam, recusandae, mollitia hic!<br>\n",
       "        Lorem ipsum dolor sit amet consectetur adipisicing elit. Non facilis ipsam quod dolor aliquam unde porro. </p>\n",
       "    </div>\n",
       "    <div class=\"inner\">\n",
       "        <p>Lorem ipsum dolor sit amet consectetur adipisicing elit. Non facilis ipsam quod dolor aliquam unde porro. Ut praesentium illum nisi inventore facere voluptas amet a debitis veniam, recusandae, mollitia hic!<br>\n",
       "        Lorem ipsum dolor sit amet consectetur adipisicing elit. Non facilis ipsam quod dolor aliquam unde porro. <br>\n",
       "        Lorem ipsum dolor sit amet consectetur adipisicing elit. Non facilis ipsam quod dolor aliquam unde porro. </p>\n",
       "    </div>\n",
       "</div>\n",
       "</body>"
      ]
     },
     "metadata": {},
     "output_type": "display_data"
    }
   ],
   "source": [
    "<head>\n",
    "<style>\n",
    ".container .inner{\n",
    "    background-color: blue;\n",
    "    margin: 20px;\n",
    "    width: 80%;\n",
    "}\n",
    ".container{\n",
    "    display: flex;\n",
    "}\n",
    "\n",
    "</style>\n",
    "</head>\n",
    "<body>\n",
    "<div class=\"container\">\n",
    "    <div class=\"inner\">\n",
    "        <p>Lorem ipsum dolor sit amet consectetur adipisicing elit. Non facilis ipsam quod dolor aliquam unde porro. Ut praesentium illum nisi inventore facere voluptas amet a debitis veniam, recusandae, mollitia hic!</p>\n",
    "    </div>\n",
    "    <div class=\"inner\">\n",
    "        <p>Lorem ipsum dolor sit amet consectetur adipisicing elit. Non facilis ipsam quod dolor aliquam unde porro. Ut praesentium illum nisi inventore facere voluptas amet a debitis veniam, recusandae, mollitia hic!<br>\n",
    "        Lorem ipsum dolor sit amet consectetur adipisicing elit. Non facilis ipsam quod dolor aliquam unde porro. </p>\n",
    "    </div>\n",
    "    <div class=\"inner\">\n",
    "        <p>Lorem ipsum dolor sit amet consectetur adipisicing elit. Non facilis ipsam quod dolor aliquam unde porro. Ut praesentium illum nisi inventore facere voluptas amet a debitis veniam, recusandae, mollitia hic!<br>\n",
    "        Lorem ipsum dolor sit amet consectetur adipisicing elit. Non facilis ipsam quod dolor aliquam unde porro. <br>\n",
    "        Lorem ipsum dolor sit amet consectetur adipisicing elit. Non facilis ipsam quod dolor aliquam unde porro. </p>\n",
    "    </div>\n",
    "</div>\n",
    "</body>"
   ]
  },
  {
   "attachments": {},
   "cell_type": "markdown",
   "metadata": {
    "dotnet_interactive": {
     "language": "html"
    },
    "polyglot_notebook": {
     "kernelName": "html"
    }
   },
   "source": [
    "Note that display is inherited by the children. Does this mean that the `<div>`s inside of `.container` get `display: flex` as well?  \n",
    "The answer is, yeah.  \n",
    "What are some other things you notice are consistent?\n",
    "Answer is, the size of the `<div>`s (NOT OF THE `<p>`s), and equal spacing from the left and right."
   ]
  },
  {
   "cell_type": "code",
   "execution_count": null,
   "metadata": {
    "dotnet_interactive": {
     "language": "html"
    },
    "polyglot_notebook": {
     "kernelName": "html"
    },
    "vscode": {
     "languageId": "polyglot-notebook"
    }
   },
   "outputs": [],
   "source": [
    "<head>\n",
    "<style>\n",
    ".container p{\n",
    "    background-color: blue;\n",
    "    margin: 20px;\n",
    "    width: 80%;\n",
    "}\n",
    ".container{\n",
    "    display: flex;\n",
    "}\n",
    "\n",
    "</style>\n",
    "</head>\n",
    "<body>\n",
    "<div class=\"container\">\n",
    "    <div class=\"inner\">\n",
    "        <p>Lorem ipsum dolor sit amet consectetur adipisicing elit. Non facilis ipsam quod dolor aliquam unde porro. Ut praesentium illum nisi inventore facere voluptas amet a debitis veniam, recusandae, mollitia hic!</p>\n",
    "    </div>\n",
    "    <div class=\"inner\">\n",
    "        <p>Lorem ipsum dolor sit amet consectetur adipisicing elit. Non facilis ipsam quod dolor aliquam unde porro. Ut praesentium illum nisi inventore facere voluptas amet a debitis veniam, recusandae, mollitia hic!<br>\n",
    "        Lorem ipsum dolor sit amet consectetur adipisicing elit. Non facilis ipsam quod dolor aliquam unde porro. </p>\n",
    "    </div>\n",
    "    <div class=\"inner\">\n",
    "        <p>Lorem ipsum dolor sit amet consectetur adipisicing elit. Non facilis ipsam quod dolor aliquam unde porro. Ut praesentium illum nisi inventore facere voluptas amet a debitis veniam, recusandae, mollitia hic!<br>\n",
    "        Lorem ipsum dolor sit amet consectetur adipisicing elit. Non facilis ipsam quod dolor aliquam unde porro. <br>\n",
    "        Lorem ipsum dolor sit amet consectetur adipisicing elit. Non facilis ipsam quod dolor aliquam unde porro. </p>\n",
    "    </div>\n",
    "</div>\n",
    "</body>"
   ]
  },
  {
   "attachments": {},
   "cell_type": "markdown",
   "metadata": {
    "dotnet_interactive": {
     "language": "html"
    },
    "polyglot_notebook": {
     "kernelName": "html"
    }
   },
   "source": [
    "What do you notice we changed? And why do you think we get different sized background colors now?  \n",
    "It's because the inner `<div>`s are the same size, not the `<p>` elements."
   ]
  },
  {
   "attachments": {},
   "cell_type": "markdown",
   "metadata": {
    "dotnet_interactive": {
     "language": "html"
    },
    "polyglot_notebook": {
     "kernelName": "html"
    }
   },
   "source": [
    "What do you think will happen in the code below?"
   ]
  },
  {
   "cell_type": "code",
   "execution_count": null,
   "metadata": {
    "dotnet_interactive": {
     "language": "html"
    },
    "polyglot_notebook": {
     "kernelName": "html"
    },
    "vscode": {
     "languageId": "polyglot-notebook"
    }
   },
   "outputs": [],
   "source": [
    "<head>\n",
    "<style>\n",
    ".container p{\n",
    "    background-color: blue;\n",
    "    margin: 20px;\n",
    "    width: 80%;\n",
    "}\n",
    ".container{\n",
    "    display: flex;\n",
    "}\n",
    "\n",
    "</style>\n",
    "</head>\n",
    "<body>\n",
    "<div class=\"container\">\n",
    "        <p>Lorem ipsum dolor sit amet consectetur adipisicing elit. Non facilis ipsam quod dolor aliquam unde porro. Ut praesentium illum nisi inventore facere voluptas amet a debitis veniam, recusandae, mollitia hic!</p>\n",
    "        <p>Lorem ipsum dolor sit amet consectetur adipisicing elit. Non facilis ipsam quod dolor aliquam unde porro. Ut praesentium illum nisi inventore facere voluptas amet a debitis veniam, recusandae, mollitia hic!<br>\n",
    "        Lorem ipsum dolor sit amet consectetur adipisicing elit. Non facilis ipsam quod dolor aliquam unde porro. </p>\n",
    "        <p>Lorem ipsum dolor sit amet consectetur adipisicing elit. Non facilis ipsam quod dolor aliquam unde porro. Ut praesentium illum nisi inventore facere voluptas amet a debitis veniam, recusandae, mollitia hic!<br>\n",
    "        Lorem ipsum dolor sit amet consectetur adipisicing elit. Non facilis ipsam quod dolor aliquam unde porro. <br>\n",
    "        Lorem ipsum dolor sit amet consectetur adipisicing elit. Non facilis ipsam quod dolor aliquam unde porro. </p>\n",
    "</div>\n",
    "</body>"
   ]
  },
  {
   "attachments": {},
   "cell_type": "markdown",
   "metadata": {
    "dotnet_interactive": {
     "language": "html"
    },
    "polyglot_notebook": {
     "kernelName": "html"
    }
   },
   "source": [
    "Now the `<p>` elements are flex!!!"
   ]
  },
  {
   "attachments": {},
   "cell_type": "markdown",
   "metadata": {
    "dotnet_interactive": {
     "language": "html"
    },
    "polyglot_notebook": {
     "kernelName": "html"
    }
   },
   "source": [
    "So we know that the flex goes one \"child\" down."
   ]
  },
  {
   "attachments": {},
   "cell_type": "markdown",
   "metadata": {
    "dotnet_interactive": {
     "language": "html"
    },
    "polyglot_notebook": {
     "kernelName": "html"
    }
   },
   "source": [
    "## Specifying what elements to lay out as flexible"
   ]
  },
  {
   "attachments": {},
   "cell_type": "markdown",
   "metadata": {
    "dotnet_interactive": {
     "language": "html"
    },
    "polyglot_notebook": {
     "kernelName": "html"
    }
   },
   "source": [
    "From this example. We now know in order to select which elements are going to be the \"flexbile boxes\", we need to choose the PARENT of those elements. So in our example above, the parent was the `.container`, while the three `<div>` were the children."
   ]
  },
  {
   "attachments": {},
   "cell_type": "markdown",
   "metadata": {
    "dotnet_interactive": {
     "language": "html"
    },
    "polyglot_notebook": {
     "kernelName": "html"
    }
   },
   "source": [
    "Once we set `display: flex;` for the `.container`, `.container` BECOMES a **flex container**, and the children became **flex items**."
   ]
  },
  {
   "attachments": {},
   "cell_type": "markdown",
   "metadata": {
    "dotnet_interactive": {
     "language": "html"
    },
    "polyglot_notebook": {
     "kernelName": "html"
    }
   },
   "source": [
    "Something to take note of, is that the `.container` becomes a block-level element. But the inside children are flex items.  \n",
    "In order for the parent item, in our case `.container`, to act like an inline-level element but with flex children, we can use:  \n",
    "`display: inline-flex`."
   ]
  },
  {
   "attachments": {},
   "cell_type": "markdown",
   "metadata": {
    "dotnet_interactive": {
     "language": "html"
    },
    "polyglot_notebook": {
     "kernelName": "html"
    }
   },
   "source": [
    "## The Flex Model"
   ]
  },
  {
   "attachments": {},
   "cell_type": "markdown",
   "metadata": {
    "dotnet_interactive": {
     "language": "html"
    },
    "polyglot_notebook": {
     "kernelName": "html"
    }
   },
   "source": [
    "<img src=\"flexModel.png\">"
   ]
  },
  {
   "attachments": {},
   "cell_type": "markdown",
   "metadata": {
    "dotnet_interactive": {
     "language": "html"
    },
    "polyglot_notebook": {
     "kernelName": "html"
    }
   },
   "source": [
    "* Main Axis: Axis that runs in the direction the flex items are laid out in. The beginning of the axis is at the \"main start\", while the end of the axis is at \"main end\".\n",
    "* Cross Axis: Runs perpendicular to the main axis.\n",
    "* Flex Container: The parent element that has `display: flex` set.\n",
    "* Flex Items: The items that are being laid out."
   ]
  },
  {
   "attachments": {},
   "cell_type": "markdown",
   "metadata": {
    "dotnet_interactive": {
     "language": "html"
    },
    "polyglot_notebook": {
     "kernelName": "html"
    }
   },
   "source": [
    "`flex-direction` property will decide what direction the \"main axis\" will run. By default, the value is `row`, and will go in the direction the default language works in.  \n",
    "The value `column` will make them go from top down.  \n",
    "`row-reverse` and `column-reverse` also exists. Try these out, and take a guess on where the main and cross axis start/end will be."
   ]
  },
  {
   "attachments": {},
   "cell_type": "markdown",
   "metadata": {
    "dotnet_interactive": {
     "language": "html"
    },
    "polyglot_notebook": {
     "kernelName": "html"
    }
   },
   "source": [
    "Very important notes to take in, is that there is equal space between each of the flex items, and is made to fit inside of the set width and height of the flex container. So sometimes, you may end up with having items that will overflow. For example, run these two cells seperately:"
   ]
  },
  {
   "cell_type": "code",
   "execution_count": null,
   "metadata": {
    "dotnet_interactive": {
     "language": "html"
    },
    "polyglot_notebook": {
     "kernelName": "html"
    },
    "vscode": {
     "languageId": "polyglot-notebook"
    }
   },
   "outputs": [],
   "source": [
    "<head>\n",
    "<style>\n",
    ".container p{\n",
    "    background-color: blue;\n",
    "    margin: 20px;\n",
    "    width: 80%;\n",
    "}\n",
    ".container{\n",
    "    display: flex;\n",
    "}\n",
    "\n",
    "</style>\n",
    "</head>\n",
    "<body>\n",
    "<div class=\"container\">\n",
    "        <p>Lorem ipsum dolor sit amet consectetur adipisicing elit. Non facilis ipsam quod dolor aliquam unde porro. Ut praesentium illum nisi inventore facere voluptas amet a debitis veniam, recusandae, mollitia hic!</p>\n",
    "        <p>Lorem ipsum dolor sit amet consectetur adipisicing elit. Non facilis ipsam quod dolor aliquam unde porro. Ut praesentium illum nisi inventore facere voluptas amet a debitis veniam, recusandae, mollitia hic!<br>\n",
    "        Lorem ipsum dolor sit amet consectetur adipisicing elit. Non facilis ipsam quod dolor aliquam unde porro. </p>\n",
    "        <p>Lorem ipsum dolor sit amet consectetur adipisicing elit. Non facilis ipsam quod dolor aliquam unde porro. Ut praesentium illum nisi inventore facere voluptas amet a debitis veniam, recusandae, mollitia hic!<br>\n",
    "        Lorem ipsum dolor sit amet consectetur adipisicing elit. Non facilis ipsam quod dolor aliquam unde porro. <br>\n",
    "        Lorem ipsum dolor sit amet consectetur adipisicing elit. Non facilis ipsam quod dolor aliquam unde porro. </p>\n",
    "        <p>Lorem ipsum dolor sit amet consectetur adipisicing elit. Non facilis ipsam quod dolor aliquam unde porro. Ut praesentium illum nisi inventore facere voluptas amet a debitis veniam, recusandae, mollitia hic!</p>\n",
    "        <p>Lorem ipsum dolor sit amet consectetur adipisicing elit. Non facilis ipsam quod dolor aliquam unde porro. Ut praesentium illum nisi inventore facere voluptas amet a debitis veniam, recusandae, mollitia hic!</p>\n",
    "        <p>Lorem ipsum dolor sit amet consectetur adipisicing elit. Non facilis ipsam quod dolor aliquam unde porro. Ut praesentium illum nisi inventore facere voluptas amet a debitis veniam, recusandae, mollitia hic!</p>\n",
    "\n",
    "</div>\n",
    "</body>"
   ]
  },
  {
   "cell_type": "code",
   "execution_count": null,
   "metadata": {
    "dotnet_interactive": {
     "language": "html"
    },
    "polyglot_notebook": {
     "kernelName": "html"
    },
    "vscode": {
     "languageId": "polyglot-notebook"
    }
   },
   "outputs": [],
   "source": [
    "<head>\n",
    "<style>\n",
    ".container p{\n",
    "    background-color: blue;\n",
    "    margin: 20px;\n",
    "    width: 80%;\n",
    "}\n",
    ".container{\n",
    "    display: flex;\n",
    "}\n",
    "\n",
    "</style>\n",
    "</head>\n",
    "<body>\n",
    "<div class=\"container\">\n",
    "        <p>Lorem ipsum dolor sit amet consectetur adipisicing elit. Non facilis ipsam quod dolor aliquam unde porro. Ut praesentium illum nisi inventore facere voluptas amet a debitis veniam, recusandae, mollitia hic!</p>\n",
    "        <p>Lorem ipsum dolor sit amet consectetur adipisicing elit. Non facilis ipsam quod dolor aliquam unde porro. Ut praesentium illum nisi inventore facere voluptas amet a debitis veniam, recusandae, mollitia hic!<br>\n",
    "        Lorem ipsum dolor sit amet consectetur adipisicing elit. Non facilis ipsam quod dolor aliquam unde porro. </p>\n",
    "        <p>Lorem ipsum dolor sit amet consectetur adipisicing elit. Non facilis ipsam quod dolor aliquam unde porro. Ut praesentium illum nisi inventore facere voluptas amet a debitis veniam, recusandae, mollitia hic!<br>\n",
    "        Lorem ipsum dolor sit amet consectetur adipisicing elit. Non facilis ipsam quod dolor aliquam unde porro. <br>\n",
    "        Lorem ipsum dolor sit amet consectetur adipisicing elit. Non facilis ipsam quod dolor aliquam unde porro. </p>\n",
    "        <p>Lorem ipsum dolor sit amet consectetur adipisicing elit. Non facilis ipsam quod dolor aliquam unde porro. Ut praesentium illum nisi inventore facere voluptas amet a debitis veniam, recusandae, mollitia hic!</p>\n",
    "        <p>Lorem ipsum dolor sit amet consectetur adipisicing elit. Non facilis ipsam quod dolor aliquam unde porro. Ut praesentium illum nisi inventore facere voluptas amet a debitis veniam, recusandae, mollitia hic!</p>\n",
    "        <p>Lorem ipsum dolor sit amet consectetur adipisicing elit. Non facilis ipsam quod dolor aliquam unde porro. Ut praesentium illum nisi inventore facere voluptas amet a debitis veniam, recusandae, mollitia hic!</p>\n",
    "        <p>Lorem ipsum dolor sit amet consectetur adipisicing elit. Non facilis ipsam quod dolor aliquam unde porro. Ut praesentium illum nisi inventore facere voluptas amet a debitis veniam, recusandae, mollitia hic!</p>\n",
    "        <p>Lorem ipsum dolor sit amet consectetur adipisicing elit. Non facilis ipsam quod dolor aliquam unde porro. Ut praesentium illum nisi inventore facere voluptas amet a debitis veniam, recusandae, mollitia hic!</p>\n",
    "        <p>Lorem ipsum dolor sit amet consectetur adipisicing elit. Non facilis ipsam quod dolor aliquam unde porro. Ut praesentium illum nisi inventore facere voluptas amet a debitis veniam, recusandae, mollitia hic!</p>\n",
    "        <p>Lorem ipsum dolor sit amet consectetur adipisicing elit. Non facilis ipsam quod dolor aliquam unde porro. Ut praesentium illum nisi inventore facere voluptas amet a debitis veniam, recusandae, mollitia hic!</p>\n",
    "        <p>Lorem ipsum dolor sit amet consectetur adipisicing elit. Non facilis ipsam quod dolor aliquam unde porro. Ut praesentium illum nisi inventore facere voluptas amet a debitis veniam, recusandae, mollitia hic!</p>\n",
    "        <p>Lorem ipsum dolor sit amet consectetur adipisicing elit. Non facilis ipsam quod dolor aliquam unde porro. Ut praesentium illum nisi inventore facere voluptas amet a debitis veniam, recusandae, mollitia hic!</p>\n",
    "        <p>Lorem ipsum dolor sit amet consectetur adipisicing elit. Non facilis ipsam quod dolor aliquam unde porro. Ut praesentium illum nisi inventore facere voluptas amet a debitis veniam, recusandae, mollitia hic!</p>\n",
    "\n",
    "</div>\n",
    "</body>"
   ]
  },
  {
   "attachments": {},
   "cell_type": "markdown",
   "metadata": {
    "dotnet_interactive": {
     "language": "html"
    },
    "polyglot_notebook": {
     "kernelName": "html"
    }
   },
   "source": [
    "Notice how as we get more and more flex items, CSS will try to auto-adjust the width and height of the flex items and keep them in the flex container. But if there are too many items, it will just overflow."
   ]
  },
  {
   "attachments": {},
   "cell_type": "markdown",
   "metadata": {
    "dotnet_interactive": {
     "language": "html"
    },
    "polyglot_notebook": {
     "kernelName": "html"
    }
   },
   "source": [
    "One way to fix this, is to add:  \n",
    "`flex-wrap: wrap;`"
   ]
  },
  {
   "cell_type": "code",
   "execution_count": null,
   "metadata": {
    "dotnet_interactive": {
     "language": "html"
    },
    "polyglot_notebook": {
     "kernelName": "html"
    },
    "vscode": {
     "languageId": "polyglot-notebook"
    }
   },
   "outputs": [],
   "source": [
    "<head>\n",
    "<style>\n",
    ".container p{\n",
    "    background-color: blue;\n",
    "    margin: 20px;\n",
    "    width: 20%;\n",
    "}\n",
    ".container{\n",
    "    display: flex;\n",
    "    flex-wrap: wrap;\n",
    "}\n",
    "\n",
    "</style>\n",
    "</head>\n",
    "<body>\n",
    "<div class=\"container\">\n",
    "        <p>Lorem ipsum dolor sit amet consectetur adipisicing elit. Non facilis ipsam quod dolor aliquam unde porro. Ut praesentium illum nisi inventore facere voluptas amet a debitis veniam, recusandae, mollitia hic!</p>\n",
    "        <p>Lorem ipsum dolor sit amet consectetur adipisicing elit. Non facilis ipsam quod dolor aliquam unde porro. Ut praesentium illum nisi inventore facere voluptas amet a debitis veniam, recusandae, mollitia hic!<br>\n",
    "        Lorem ipsum dolor sit amet consectetur adipisicing elit. Non facilis ipsam quod dolor aliquam unde porro. </p>\n",
    "        <p>Lorem ipsum dolor sit amet consectetur adipisicing elit. Non facilis ipsam quod dolor aliquam unde porro. Ut praesentium illum nisi inventore facere voluptas amet a debitis veniam, recusandae, mollitia hic!<br>\n",
    "        Lorem ipsum dolor sit amet consectetur adipisicing elit. Non facilis ipsam quod dolor aliquam unde porro. <br>\n",
    "        Lorem ipsum dolor sit amet consectetur adipisicing elit. Non facilis ipsam quod dolor aliquam unde porro. </p>\n",
    "        <p>Lorem ipsum dolor sit amet consectetur adipisicing elit. Non facilis ipsam quod dolor aliquam unde porro. Ut praesentium illum nisi inventore facere voluptas amet a debitis veniam, recusandae, mollitia hic!</p>\n",
    "        <p>Lorem ipsum dolor sit amet consectetur adipisicing elit. Non facilis ipsam quod dolor aliquam unde porro. Ut praesentium illum nisi inventore facere voluptas amet a debitis veniam, recusandae, mollitia hic!</p>\n",
    "        <p>Lorem ipsum dolor sit amet consectetur adipisicing elit. Non facilis ipsam quod dolor aliquam unde porro. Ut praesentium illum nisi inventore facere voluptas amet a debitis veniam, recusandae, mollitia hic!</p>\n",
    "        <p>Lorem ipsum dolor sit amet consectetur adipisicing elit. Non facilis ipsam quod dolor aliquam unde porro. Ut praesentium illum nisi inventore facere voluptas amet a debitis veniam, recusandae, mollitia hic!</p>\n",
    "        <p>Lorem ipsum dolor sit amet consectetur adipisicing elit. Non facilis ipsam quod dolor aliquam unde porro. Ut praesentium illum nisi inventore facere voluptas amet a debitis veniam, recusandae, mollitia hic!</p>\n",
    "        <p>Lorem ipsum dolor sit amet consectetur adipisicing elit. Non facilis ipsam quod dolor aliquam unde porro. Ut praesentium illum nisi inventore facere voluptas amet a debitis veniam, recusandae, mollitia hic!</p>\n",
    "        <p>Lorem ipsum dolor sit amet consectetur adipisicing elit. Non facilis ipsam quod dolor aliquam unde porro. Ut praesentium illum nisi inventore facere voluptas amet a debitis veniam, recusandae, mollitia hic!</p>\n",
    "        <p>Lorem ipsum dolor sit amet consectetur adipisicing elit. Non facilis ipsam quod dolor aliquam unde porro. Ut praesentium illum nisi inventore facere voluptas amet a debitis veniam, recusandae, mollitia hic!</p>\n",
    "        <p>Lorem ipsum dolor sit amet consectetur adipisicing elit. Non facilis ipsam quod dolor aliquam unde porro. Ut praesentium illum nisi inventore facere voluptas amet a debitis veniam, recusandae, mollitia hic!</p>\n",
    "        <p>Lorem ipsum dolor sit amet consectetur adipisicing elit. Non facilis ipsam quod dolor aliquam unde porro. Ut praesentium illum nisi inventore facere voluptas amet a debitis veniam, recusandae, mollitia hic!</p>\n",
    "\n",
    "</div>\n",
    "</body>"
   ]
  },
  {
   "attachments": {},
   "cell_type": "markdown",
   "metadata": {
    "dotnet_interactive": {
     "language": "html"
    },
    "polyglot_notebook": {
     "kernelName": "html"
    }
   },
   "source": [
    "And also add:  \n",
    " `flex: 200px;`  \n",
    "To the `<p>` selector"
   ]
  },
  {
   "cell_type": "code",
   "execution_count": null,
   "metadata": {
    "dotnet_interactive": {
     "language": "html"
    },
    "polyglot_notebook": {
     "kernelName": "html"
    },
    "vscode": {
     "languageId": "polyglot-notebook"
    }
   },
   "outputs": [],
   "source": [
    "<head>\n",
    "<style>\n",
    ".container p{\n",
    "    background-color: blue;\n",
    "    margin: 20px;\n",
    "    width: 20%;\n",
    "    flex: 100px;\n",
    "}\n",
    ".container{\n",
    "    display: flex;\n",
    "    flex-wrap: wrap;\n",
    "}\n",
    "\n",
    "</style>\n",
    "</head>\n",
    "<body>\n",
    "<div class=\"container\">\n",
    "        <p>Lorem ipsum dolor sit amet consectetur adipisicing elit. Non facilis ipsam quod dolor aliquam unde porro. Ut praesentium illum nisi inventore facere voluptas amet a debitis veniam, recusandae, mollitia hic!</p>\n",
    "        <p>Lorem ipsum dolor sit amet consectetur adipisicing elit. Non facilis ipsam quod dolor aliquam unde porro. Ut praesentium illum nisi inventore facere voluptas amet a debitis veniam, recusandae, mollitia hic!<br>\n",
    "        Lorem ipsum dolor sit amet consectetur adipisicing elit. Non facilis ipsam quod dolor aliquam unde porro. </p>\n",
    "        <p>Lorem ipsum dolor sit amet consectetur adipisicing elit. Non facilis ipsam quod dolor aliquam unde porro. Ut praesentium illum nisi inventore facere voluptas amet a debitis veniam, recusandae, mollitia hic!<br>\n",
    "        Lorem ipsum dolor sit amet consectetur adipisicing elit. Non facilis ipsam quod dolor aliquam unde porro. <br>\n",
    "        Lorem ipsum dolor sit amet consectetur adipisicing elit. Non facilis ipsam quod dolor aliquam unde porro. </p>\n",
    "        <p>Lorem ipsum dolor sit amet consectetur adipisicing elit. Non facilis ipsam quod dolor aliquam unde porro. Ut praesentium illum nisi inventore facere voluptas amet a debitis veniam, recusandae, mollitia hic!</p>\n",
    "        <p>Lorem ipsum dolor sit amet consectetur adipisicing elit. Non facilis ipsam quod dolor aliquam unde porro. Ut praesentium illum nisi inventore facere voluptas amet a debitis veniam, recusandae, mollitia hic!</p>\n",
    "        <p>Lorem ipsum dolor sit amet consectetur adipisicing elit. Non facilis ipsam quod dolor aliquam unde porro. Ut praesentium illum nisi inventore facere voluptas amet a debitis veniam, recusandae, mollitia hic!</p>\n",
    "        <p>Lorem ipsum dolor sit amet consectetur adipisicing elit. Non facilis ipsam quod dolor aliquam unde porro. Ut praesentium illum nisi inventore facere voluptas amet a debitis veniam, recusandae, mollitia hic!</p>\n",
    "        <p>sit amet consectetur adipisicing elit. Non facilis ipsam quod dolor aliquam unde porro. Ut praesentium illum nisi inventore facere voluptas amet a debitis veniam, recusandae, mollitia hic!</p>\n",
    "        <p>adipisicing elit. Non facilis ipsam quod dolor aliquam unde porro. Ut praesentium illum nisi inventore facere voluptas amet a debitis veniam, recusandae, mollitia hic!</p>\n",
    "        <p> ipsam quod dolor aliquam unde porro. Ut praesentium illum nisi inventore facere voluptas amet a debitis veniam, recusandae, mollitia hic!</p>\n",
    "        <p>L od dolor entium illum nisi inventore facere voluptas amet a debitis veniam, recusandae, mollitia hic!</p>\n",
    "        <p>Lorem ipsum dolor sit amet consectetur adipisicing elit. aesentium illum nisi inventore facere voluptas amet a debitis veniam, recusandae, mollitia hic!</p>\n",
    "        <p>Lorem ipsum dolor sit amet consectetur adipisicing elit.ntium illum nisi inventorm, </p>\n",
    "\n",
    "</div>\n",
    "</body>"
   ]
  },
  {
   "attachments": {},
   "cell_type": "markdown",
   "metadata": {
    "dotnet_interactive": {
     "language": "html"
    },
    "polyglot_notebook": {
     "kernelName": "html"
    }
   },
   "source": [
    "Take note that I changed the inside text to show you some weird things that happen when you do this."
   ]
  },
  {
   "attachments": {},
   "cell_type": "markdown",
   "metadata": {
    "dotnet_interactive": {
     "language": "html"
    },
    "polyglot_notebook": {
     "kernelName": "html"
    }
   },
   "source": [
    "What are some things that you notice amongst this change?\n",
    "1. Each row has a unique height.\n",
    "2. Spacing is equal."
   ]
  },
  {
   "attachments": {},
   "cell_type": "markdown",
   "metadata": {
    "dotnet_interactive": {
     "language": "html"
    },
    "polyglot_notebook": {
     "kernelName": "html"
    }
   },
   "source": [
    "Now there are multiple rows, with as many flex items fitted in to each row as makes sense. When there is overflow, it moves to the next line. What `flex: 200px` does to each `<p>`, is that it makes each flex item be AT LEAST `200px` wide. This is because the `flex-direction` is horizontal, which corresponds to the width. Notice also how each row has a unique flex item HEIGHT.\n",
    "Also notice how the last flex item on the bottom row is wider so that the entire row is still \"filled\"."
   ]
  },
  {
   "attachments": {},
   "cell_type": "markdown",
   "metadata": {
    "dotnet_interactive": {
     "language": "html"
    },
    "polyglot_notebook": {
     "kernelName": "html"
    }
   },
   "source": [
    "There is also shorthand for the `flex-flow`.  \n",
    "You can replace:  \n",
    "`flex-direction: row;`  \n",
    "`flex-wrap: wrap;`  \n",
    "With:  \n",
    "`flex-flow: row wrap;`"
   ]
  },
  {
   "attachments": {},
   "cell_type": "markdown",
   "metadata": {
    "dotnet_interactive": {
     "language": "html"
    },
    "polyglot_notebook": {
     "kernelName": "html"
    }
   },
   "source": [
    "## Flexible Sizing of Flex Items"
   ]
  },
  {
   "cell_type": "code",
   "execution_count": null,
   "metadata": {
    "dotnet_interactive": {
     "language": "html"
    },
    "polyglot_notebook": {
     "kernelName": "html"
    },
    "vscode": {
     "languageId": "polyglot-notebook"
    }
   },
   "outputs": [],
   "source": [
    ".container p{\n",
    "    flex: 1;\n",
    "}"
   ]
  },
  {
   "attachments": {},
   "cell_type": "markdown",
   "metadata": {
    "dotnet_interactive": {
     "language": "html"
    },
    "polyglot_notebook": {
     "kernelName": "html"
    }
   },
   "source": [
    "What the above code block does, is tell all flex items how much space along the main axis to take up compared to other flex items. So in this case, all flex items will take an equal amount. (This is because it is unitless, it is looking at proportions unlike `flex: 200px`)"
   ]
  },
  {
   "cell_type": "code",
   "execution_count": null,
   "metadata": {
    "dotnet_interactive": {
     "language": "html"
    },
    "polyglot_notebook": {
     "kernelName": "html"
    },
    "vscode": {
     "languageId": "polyglot-notebook"
    }
   },
   "outputs": [],
   "source": [
    ".container p:nth-of-type(3) {\n",
    "  flex: 2;\n",
    "}"
   ]
  },
  {
   "attachments": {},
   "cell_type": "markdown",
   "metadata": {
    "dotnet_interactive": {
     "language": "html"
    },
    "polyglot_notebook": {
     "kernelName": "html"
    }
   },
   "source": [
    "What do you think this will do? Try to guess the output of this:"
   ]
  },
  {
   "cell_type": "code",
   "execution_count": null,
   "metadata": {
    "dotnet_interactive": {
     "language": "html"
    },
    "polyglot_notebook": {
     "kernelName": "html"
    },
    "vscode": {
     "languageId": "polyglot-notebook"
    }
   },
   "outputs": [],
   "source": [
    "<head>\n",
    "<style>\n",
    ".container{\n",
    "    display: flex;\n",
    "    flex-wrap: wrap;\n",
    "}\n",
    ".container p{\n",
    "    background-color: blue;\n",
    "    margin: 20px;\n",
    "    width: 80%;\n",
    "    flex: 1;\n",
    "}\n",
    ".container p:nth-of-type(3){\n",
    "    flex: 4;\n",
    "}\n",
    "\n",
    "</style>\n",
    "</head>\n",
    "<body>\n",
    "<div class=\"container\">\n",
    "        <p>Lorem ipsum dolor sit amet consectetur adipisicing elit. Non facilis ipsam quod dolor aliquam unde porro. Ut praesentium illum nisi inventore facere voluptas amet a debitis veniam, recusandae, mollitia hic!</p>\n",
    "        <p>Lorem ipsum dolor sit amet consectetur adipisicing elit. Non facilis ipsam quod dolor aliquam unde porro. Ut praesentium illum nisi inventore facere voluptas amet a debitis veniam, recusandae, mollitia hic!<br>\n",
    "        Lorem ipsum dolor sit amet consectetur adipisicing elit. Non facilis ipsam quod dolor aliquam unde porro. </p>\n",
    "        <p>Lorem ipsum dolor sit amet consectetur adipisicing elit. Non facilis ipsam quod dolor aliquam unde porro. Ut praesentium illum nisi inventore facere voluptas amet a debitis veniam, recusandae, mollitia hic!<br>\n",
    "        Lorem ipsum dolor sit amet consectetur adipisicing elit. Non facilis ipsam quod dolor aliquam unde porro. <br>\n",
    "        Lorem ipsum dolor sit amet consectetur adipisicing elit. Non facilis ipsam quod dolor aliquam unde porro. </p>\n",
    "        <p>Lorem ipsum dolor sit amet consectetur adipisicing elit. Non facilis ipsam quod dolor aliquam unde porro. Ut praesentium illum nisi inventore facere voluptas amet a debitis veniam, recusandae, mollitia hic!</p>\n",
    "        <p>Lorem ipsum dolor sit amet consectetur adipisicing elit. Non facilis ipsam quod dolor aliquam unde porro. Ut praesentium illum nisi inventore facere voluptas amet a debitis veniam, recusandae, mollitia hic!</p>\n",
    "        <p>Lorem ipsum dolor sit amet consectetur adipisicing elit. Non facilis ipsam quod dolor aliquam unde porro. Ut praesentium illum nisi inventore facere voluptas amet a debitis veniam, recusandae, mollitia hic!</p>\n",
    "        <p>Lorem ipsum dolor sit amet consectetur adipisicing elit. Non facilis ipsam quod dolor aliquam unde porro. Ut praesentium illum nisi inventore facere voluptas amet a debitis veniam, recusandae, mollitia hic!</p>\n",
    "        <p>sit amet consectetur adipisicing elit. Non facilis ipsam quod dolor aliquam unde porro. Ut praesentium illum nisi inventore facere voluptas amet a debitis veniam, recusandae, mollitia hic!</p>\n",
    "        <p>adipisicing elit. Non facilis ipsam quod dolor aliquam unde porro. Ut praesentium illum nisi inventore facere voluptas amet a debitis veniam, recusandae, mollitia hic!</p>\n",
    "        <p> ipsam quod dolor aliquam unde porro. Ut praesentium illum nisi inventore facere voluptas amet a debitis veniam, recusandae, mollitia hic!</p>\n",
    "        <p>L od dolor entium illum nisi inventore facere voluptas amet a debitis veniam, recusandae, mollitia hic!</p>\n",
    "        <p>Lorem ipsum dolor sit amet consectetur adipisicing elit. aesentium illum nisi inventore facere voluptas amet a debitis veniam, recusandae, mollitia hic!</p>\n",
    "        <p>Lorem ipsum dolor sit amet consectetur adipisicing elit.ntium illum nisi inventorm, </p>\n",
    "\n",
    "</div>\n",
    "</body>"
   ]
  },
  {
   "attachments": {},
   "cell_type": "markdown",
   "metadata": {
    "dotnet_interactive": {
     "language": "html"
    },
    "polyglot_notebook": {
     "kernelName": "html"
    }
   },
   "source": [
    "Notice how the 3rd item element is twice as wide as the others. But the 3rd element on the second row is NOT twice as long. What do you think you can do to make it twice as long?"
   ]
  },
  {
   "cell_type": "code",
   "execution_count": null,
   "metadata": {
    "dotnet_interactive": {
     "language": "html"
    },
    "polyglot_notebook": {
     "kernelName": "html"
    },
    "vscode": {
     "languageId": "polyglot-notebook"
    }
   },
   "outputs": [],
   "source": [
    "<head>\n",
    "<style>\n",
    ".container{\n",
    "    display: flex;\n",
    "    flex-wrap: wrap;\n",
    "}\n",
    ".container p{\n",
    "    background-color: blue;\n",
    "    margin: 20px;\n",
    "    width: 80%;\n",
    "    flex: 1;\n",
    "}\n",
    ".container p:nth-of-type(3){\n",
    "    flex: 2;\n",
    "}\n",
    ".container p:nth-of-type(12){\n",
    "    flex: 2;\n",
    "}\n",
    "\n",
    "</style>\n",
    "</head>\n",
    "<body>\n",
    "<div class=\"container\">\n",
    "        <p>Lorem ipsum dolor sit amet consectetur adipisicing elit. Non facilis ipsam quod dolor aliquam unde porro. Ut praesentium illum nisi inventore facere voluptas amet a debitis veniam, recusandae, mollitia hic!</p>\n",
    "        <p>Lorem ipsum dolor sit amet consectetur adipisicing elit. Non facilis ipsam quod dolor aliquam unde porro. Ut praesentium illum nisi inventore facere voluptas amet a debitis veniam, recusandae, mollitia hic!<br>\n",
    "        Lorem ipsum dolor sit amet consectetur adipisicing elit. Non facilis ipsam quod dolor aliquam unde porro. </p>\n",
    "        <p>Lorem ipsum dolor sit amet consectetur adipisicing elit. Non facilis ipsam quod dolor aliquam unde porro. Ut praesentium illum nisi inventore facere voluptas amet a debitis veniam, recusandae, mollitia hic!<br>\n",
    "        Lorem ipsum dolor sit amet consectetur adipisicing elit. Non facilis ipsam quod dolor aliquam unde porro. <br>\n",
    "        Lorem ipsum dolor sit amet consectetur adipisicing elit. Non facilis ipsam quod dolor aliquam unde porro. </p>\n",
    "        <p>Lorem ipsum dolor sit amet consectetur adipisicing elit. Non facilis ipsam quod dolor aliquam unde porro. Ut praesentium illum nisi inventore facere voluptas amet a debitis veniam, recusandae, mollitia hic!</p>\n",
    "        <p>Lorem ipsum dolor sit amet consectetur adipisicing elit. Non facilis ipsam quod dolor aliquam unde porro. Ut praesentium illum nisi inventore facere voluptas amet a debitis veniam, recusandae, mollitia hic!</p>\n",
    "        <p>Lorem ipsum dolor sit amet consectetur adipisicing elit. Non facilis ipsam quod dolor aliquam unde porro. Ut praesentium illum nisi inventore facere voluptas amet a debitis veniam, recusandae, mollitia hic!</p>\n",
    "        <p>Lorem ipsum dolor sit amet consectetur adipisicing elit. Non facilis ipsam quod dolor aliquam unde porro. Ut praesentium illum nisi inventore facere voluptas amet a debitis veniam, recusandae, mollitia hic!</p>\n",
    "        <p>sit amet consectetur adipisicing elit. Non facilis ipsam quod dolor aliquam unde porro. Ut praesentium illum nisi inventore facere voluptas amet a debitis veniam, recusandae, mollitia hic!</p>\n",
    "        <p>adipisicing elit. Non facilis ipsam quod dolor aliquam unde porro. Ut praesentium illum nisi inventore facere voluptas amet a debitis veniam, recusandae, mollitia hic!</p>\n",
    "        <p> ipsam quod dolor aliquam unde porro. Ut praesentium illum nisi inventore facere voluptas amet a debitis veniam, recusandae, mollitia hic!</p>\n",
    "        <p>L od dolor entium illum nisi inventore facere voluptas amet a debitis veniam, recusandae, mollitia hic!</p>\n",
    "        <p>Lorem ipsum dolor sit amet consectetur adipisicing elit. aesentium illum nisi inventore facere voluptas amet a debitis veniam, recusandae, mollitia hic!</p>\n",
    "        <p>Lorem ipsum dolor sit amet consectetur adipisicing elit.ntium illum nisi inventorm, </p>\n",
    "\n",
    "</div>\n",
    "</body>"
   ]
  },
  {
   "attachments": {},
   "cell_type": "markdown",
   "metadata": {
    "dotnet_interactive": {
     "language": "html"
    },
    "polyglot_notebook": {
     "kernelName": "html"
    }
   },
   "source": [
    "Answer is to make the `nth-of-type(12)` have `flex: 2;`"
   ]
  },
  {
   "attachments": {},
   "cell_type": "markdown",
   "metadata": {
    "dotnet_interactive": {
     "language": "html"
    },
    "polyglot_notebook": {
     "kernelName": "html"
    }
   },
   "source": [
    "The idea of flex, is to be aware of how many \"proportion units\" there are in each row, which will vary. In the example above, can you count how many proportion units in each row there are?"
   ]
  },
  {
   "attachments": {},
   "cell_type": "markdown",
   "metadata": {
    "dotnet_interactive": {
     "language": "html"
    },
    "polyglot_notebook": {
     "kernelName": "html"
    }
   },
   "source": [
    "The answer is that there are 10.  \n",
    "How many flex items take up 1 proportion unit?  \n",
    " Answer is 8 items take up 1 proportion unit.  \n",
    "How many flex items take up 2 proportion units?\n",
    "  Answer is only 1 takes up 2.  \n",
    "So add them all up, and you get the original 10 proportion units."
   ]
  },
  {
   "attachments": {},
   "cell_type": "markdown",
   "metadata": {
    "dotnet_interactive": {
     "language": "html"
    },
    "polyglot_notebook": {
     "kernelName": "html"
    }
   },
   "source": [
    "You can aslo set a minimum size value with the flex value:"
   ]
  },
  {
   "cell_type": "code",
   "execution_count": null,
   "metadata": {
    "dotnet_interactive": {
     "language": "html"
    },
    "polyglot_notebook": {
     "kernelName": "html"
    },
    "vscode": {
     "languageId": "polyglot-notebook"
    }
   },
   "outputs": [],
   "source": [
    ".container p {\n",
    "  flex: 1 200px;\n",
    "}\n",
    "\n",
    ".container p:nth-of-type(3) {\n",
    "  flex: 2 200px;\n",
    "}"
   ]
  },
  {
   "cell_type": "code",
   "execution_count": null,
   "metadata": {
    "dotnet_interactive": {
     "language": "html"
    },
    "polyglot_notebook": {
     "kernelName": "html"
    },
    "vscode": {
     "languageId": "polyglot-notebook"
    }
   },
   "outputs": [],
   "source": [
    "<head>\n",
    "<style>\n",
    ".container{\n",
    "    display: flex;\n",
    "    flex-wrap: wrap;\n",
    "}\n",
    ".container p{\n",
    "    background-color: blue;\n",
    "    margin: 20px;\n",
    "    width: 80%;\n",
    "    flex: 1 100px;\n",
    "}\n",
    ".container p:nth-of-type(3) {\n",
    "  flex: 2 300px;\n",
    "}\n",
    ".container p:nth-of-type(12) {\n",
    "  flex: 2 300px;\n",
    "}\n",
    "\n",
    "</style>\n",
    "</head>\n",
    "<body>\n",
    "<div class=\"container\">\n",
    "        <p>Lorem ipsum dolor sit amet consectetur adipisicing elit. Non facilis ipsam quod dolor aliquam unde porro. Ut praesentium illum nisi inventore facere voluptas amet a debitis veniam, recusandae, mollitia hic!</p>\n",
    "        <p>Lorem ipsum dolor sit amet consectetur adipisicing elit. Non facilis ipsam quod dolor aliquam unde porro. Ut praesentium illum nisi inventore facere voluptas amet a debitis veniam, recusandae, mollitia hic!<br>\n",
    "        Lorem ipsum dolor sit amet consectetur adipisicing elit. Non facilis ipsam quod dolor aliquam unde porro. </p>\n",
    "        <p>Lorem ipsum dolor sit amet consectetur adipisicing elit. Non facilis ipsam quod dolor aliquam unde porro. Ut praesentium illum nisi inventore facere voluptas amet a debitis veniam, recusandae, mollitia hic!<br>\n",
    "        Lorem ipsum dolor sit amet consectetur adipisicing elit. Non facilis ipsam quod dolor aliquam unde porro. <br>\n",
    "        Lorem ipsum dolor sit amet consectetur adipisicing elit. Non facilis ipsam quod dolor aliquam unde porro. </p>\n",
    "        <p>Lorem ipsum dolor sit amet consectetur adipisicing elit. Non facilis ipsam quod dolor aliquam unde porro. Ut praesentium illum nisi inventore facere voluptas amet a debitis veniam, recusandae, mollitia hic!</p>\n",
    "        <p>Lorem ipsum dolor sit amet consectetur adipisicing elit. Non facilis ipsam quod dolor aliquam unde porro. Ut praesentium illum nisi inventore facere voluptas amet a debitis veniam, recusandae, mollitia hic!</p>\n",
    "        <p>Lorem ipsum dolor sit amet consectetur adipisicing elit. Non facilis ipsam quod dolor aliquam unde porro. Ut praesentium illum nisi inventore facere voluptas amet a debitis veniam, recusandae, mollitia hic!</p>\n",
    "        <p>Lorem ipsum dolor sit amet consectetur adipisicing elit. Non facilis ipsam quod dolor aliquam unde porro. Ut praesentium illum nisi inventore facere voluptas amet a debitis veniam, recusandae, mollitia hic!</p>\n",
    "        <p>sit amet consectetur adipisicing elit. Non facilis ipsam quod dolor aliquam unde porro. Ut praesentium illum nisi inventore facere voluptas amet a debitis veniam, recusandae, mollitia hic!</p>\n",
    "        <p>adipisicing elit. Non facilis ipsam quod dolor aliquam unde porro. Ut praesentium illum nisi inventore facere voluptas amet a debitis veniam, recusandae, mollitia hic!</p>\n",
    "        <p> ipsam quod dolor aliquam unde porro. Ut praesentium illum nisi inventore facere voluptas amet a debitis veniam, recusandae, mollitia hic!</p>\n",
    "        <p>L od dolor entium illum nisi inventore facere voluptas amet a debitis veniam, recusandae, mollitia hic!</p>\n",
    "        <p>Lorem ipsum dolor sit amet consectetur adipisicing elit. aesentium illum nisi inventore facere voluptas amet a debitis veniam, recusandae, mollitia hic!</p>\n",
    "        <p>Lorem ipsum dolor sit amet consectetur adipisicing elit.ntium illum nisi inventorm, </p>\n",
    "\n",
    "</div>\n",
    "</body>"
   ]
  },
  {
   "attachments": {},
   "cell_type": "markdown",
   "metadata": {
    "dotnet_interactive": {
     "language": "html"
    },
    "polyglot_notebook": {
     "kernelName": "html"
    }
   },
   "source": [
    "Notice how I am now forcing the minimum width of each flex item to be `200px`, so the 3rd and 12th flex item has to be twice the size of that."
   ]
  },
  {
   "attachments": {},
   "cell_type": "markdown",
   "metadata": {
    "dotnet_interactive": {
     "language": "html"
    },
    "polyglot_notebook": {
     "kernelName": "html"
    }
   },
   "source": [
    "`flex` is a shorthand property that can specify these three values:\n",
    "1. `flex-grow`: unitless property that is the same thing have done above.\n",
    "2. `flex-shrink`: another unitless property which matters when the flex items overflow the container. This value is how much the flex item will shrink to prevent overflow.\n",
    "3. `flex-basis`: minimum size value, which is not unitless.  \n",
    "In the example directly above, we used the `flex-grow` and `flex-basis` properties as shorthand."
   ]
  },
  {
   "attachments": {},
   "cell_type": "markdown",
   "metadata": {
    "dotnet_interactive": {
     "language": "html"
    },
    "polyglot_notebook": {
     "kernelName": "html"
    }
   },
   "source": [
    "## Horizontal and Vertical Alignment"
   ]
  },
  {
   "attachments": {},
   "cell_type": "markdown",
   "metadata": {
    "dotnet_interactive": {
     "language": "html"
    },
    "polyglot_notebook": {
     "kernelName": "html"
    }
   },
   "source": [
    "We can use flexbox to align flex items along the main and cross axis."
   ]
  },
  {
   "cell_type": "code",
   "execution_count": null,
   "metadata": {
    "dotnet_interactive": {
     "language": "html"
    },
    "polyglot_notebook": {
     "kernelName": "html"
    },
    "vscode": {
     "languageId": "polyglot-notebook"
    }
   },
   "outputs": [],
   "source": [
    "<head>\n",
    "<style>\n",
    ".container p{\n",
    "    background-color: blue;\n",
    "    margin: 20px;\n",
    "    width: 80%;\n",
    "}\n",
    "\n",
    "</style>\n",
    "</head>\n",
    "<body>\n",
    "<div class=\"container\">\n",
    "        <p>Lorem ipsum dolor sit amet consectetur adipisicing elit. Non facilis ipsam quod dolor aliquam unde porro. Ut praesentium illum nisi inventore facere voluptas amet a debitis veniam, recusandae, mollitia hic!</p>\n",
    "        <p>Lorem ipsum dolor sit amet consectetur adipisicing elit. Non facilis ipsam quod dolor aliquam unde porro. Ut praesentium illum nisi inventore facere voluptas amet a debitis veniam, recusandae, mollitia hic!<br>\n",
    "        Lorem ipsum dolor sit amet consectetur adipisicing elit. Non facilis ipsam quod dolor aliquam unde porro. </p>\n",
    "        <p>Lorem ipsum dolor sit amet consectetur adipisicing elit. Non facilis ipsam quod dolor aliquam unde porro. Ut praesentium illum nisi inventore facere voluptas amet a debitis veniam, recusandae, mollitia hic!<br>\n",
    "        Lorem ipsum dolor sit amet consectetur adipisicing elit. Non facilis ipsam quod dolor aliquam unde porro. <br>\n",
    "        Lorem ipsum dolor sit amet consectetur adipisicing elit. Non facilis ipsam quod dolor aliquam unde porro. </p>\n",
    "</div>\n",
    "</body>"
   ]
  },
  {
   "attachments": {},
   "cell_type": "markdown",
   "metadata": {
    "dotnet_interactive": {
     "language": "html"
    },
    "polyglot_notebook": {
     "kernelName": "html"
    }
   },
   "source": [
    "Let's start by showing you can example of adding some code:"
   ]
  },
  {
   "cell_type": "code",
   "execution_count": null,
   "metadata": {
    "dotnet_interactive": {
     "language": "html"
    },
    "polyglot_notebook": {
     "kernelName": "html"
    },
    "vscode": {
     "languageId": "polyglot-notebook"
    }
   },
   "outputs": [],
   "source": [
    "<head>\n",
    "<style>\n",
    ".container p{\n",
    "    background-color: blue;\n",
    "    margin: 20px;\n",
    "    width: 80%;\n",
    "}\n",
    ".container{\n",
    "    display: flex;\n",
    "    align-items: center;\n",
    "    justify-content: space-around;\n",
    "    background-color: red;\n",
    "}\n",
    "\n",
    "</style>\n",
    "</head>\n",
    "<body>\n",
    "<div class=\"container\">\n",
    "        <p>Lorem ipsum dolor sit amet consectetur adipisicing elit. Non facilis ipsam quod dolor aliquam unde porro. Ut praesentium illum nisi inventore facere voluptas amet a debitis veniam, recusandae, mollitia hic!</p>\n",
    "        <p>Lorem ipsum dolor sit amet consectetur adipisicing elit. Non facilis ipsam quod dolor aliquam unde porro. Ut praesentium illum nisi inventore facere voluptas amet a debitis veniam, recusandae, mollitia hic!<br>\n",
    "        Lorem ipsum dolor sit amet consectetur adipisicing elit. Non facilis ipsam quod dolor aliquam unde porro. </p>\n",
    "        <p>Lorem ipsum dolor sit amet consectetur adipisicing elit. Non facilis ipsam quod dolor aliquam unde porro. Ut praesentium illum nisi inventore facere voluptas amet a debitis veniam, recusandae, mollitia hic!<br>\n",
    "        Lorem ipsum dolor sit amet consectetur adipisicing elit. Non facilis ipsam quod dolor aliquam unde porro. <br>\n",
    "        Lorem ipsum dolor sit amet consectetur adipisicing elit. Non facilis ipsam quod dolor aliquam unde porro. </p>\n",
    "</div>\n",
    "</body>"
   ]
  },
  {
   "cell_type": "code",
   "execution_count": null,
   "metadata": {
    "dotnet_interactive": {
     "language": "html"
    },
    "polyglot_notebook": {
     "kernelName": "html"
    },
    "vscode": {
     "languageId": "polyglot-notebook"
    }
   },
   "outputs": [],
   "source": [
    "<head>\n",
    "<style>\n",
    ".container p{\n",
    "    background-color: blue;\n",
    "    margin: 20px;\n",
    "}\n",
    ".container{\n",
    "    display: flex;\n",
    "    align-items: center;\n",
    "    justify-content: space-around;\n",
    "    \n",
    "}\n",
    "\n",
    "</style>\n",
    "</head>\n",
    "<body>\n",
    "<div class=\"container\">\n",
    "        <p>Lorem ipsum dolor sit amet consectetur adipisicing elit. Non facilis ipsam quod dolor aliquam unde porro. Ut praesentium illum nisi inventore facere voluptas amet a debitis veniam, recusandae, mollitia hic!</p>\n",
    "        <p>Lorem ipsum dolor sit amet consectetur adipisicing elit. Non facilis ipsam quod dolor aliquam unde porro. Ut praesentium illum nisi inventore facere voluptas amet a debitis veniam, recusandae, mollitia hic!<br>\n",
    "        Lorem ipsum dolor sit amet consectetur adipisicing elit. Non facilis ipsam quod dolor aliquam unde porro. </p>\n",
    "        <p>Lorem ipsum dolor sit amet consectetur adipisicing elit. Non facilis ipsam quod dolor aliquam unde porro. Ut praesentium illum nisi inventore facere voluptas amet a debitis veniam, recusandae, mollitia hic!<br>\n",
    "        Lorem ipsum dolor sit amet consectetur adipisicing elit. Non facilis ipsam quod dolor aliquam unde porro. <br>\n",
    "        Lorem ipsum dolor sit amet consectetur adipisicing elit. Non facilis ipsam quod dolor aliquam unde porro. </p>\n",
    "</div>\n",
    "</body>"
   ]
  },
  {
   "attachments": {},
   "cell_type": "markdown",
   "metadata": {
    "dotnet_interactive": {
     "language": "html"
    },
    "polyglot_notebook": {
     "kernelName": "html"
    }
   },
   "source": [
    "Notice how now, the size of the paragraphs DO change. `align-items: center` is what is causing that."
   ]
  },
  {
   "attachments": {},
   "cell_type": "markdown",
   "metadata": {
    "dotnet_interactive": {
     "language": "html"
    },
    "polyglot_notebook": {
     "kernelName": "html"
    }
   },
   "source": [
    "* `align-items` controls where the flex items sit on the cross axis. Valid values are:\n",
    "    - `stretch` is the default value. This will strech all the flex items to fill the parent in the direction of the cross axis. If no fixed height exists for the cross axis, then flex items will become as tall as the tallest flex item. This is what was happening before.\n",
    "    - `center` causes the items to maintain their intrinsic dimensions, and to make them centered along the cross axis.\n",
    "    - `flex-start` and `flex-end` will align the items at the start and end of the cross axis."
   ]
  },
  {
   "attachments": {},
   "cell_type": "markdown",
   "metadata": {
    "dotnet_interactive": {
     "language": "html"
    },
    "polyglot_notebook": {
     "kernelName": "html"
    }
   },
   "source": [
    "How can you give a single flex item a unique alignment using `align-self`? Try it yourself."
   ]
  },
  {
   "cell_type": "code",
   "execution_count": null,
   "metadata": {
    "dotnet_interactive": {
     "language": "html"
    },
    "polyglot_notebook": {
     "kernelName": "html"
    },
    "vscode": {
     "languageId": "polyglot-notebook"
    }
   },
   "outputs": [],
   "source": [
    "<head>\n",
    "<style>\n",
    ".container p{\n",
    "    background-color: blue;\n",
    "    margin: 20px;\n",
    "    flex: 100px;\n",
    "}\n",
    ".container{\n",
    "    display: flex;\n",
    "    align-items: center;\n",
    "    justify-content: flex-start;\n",
    "    background-color: red;\n",
    "    \n",
    "}\n",
    "\n",
    ".container p:nth-of-type(1){\n",
    "    align-self: flex-start;\n",
    "}\n",
    "\n",
    "</style>\n",
    "</head>\n",
    "<body>\n",
    "<div class=\"container\">\n",
    "        <p>Lorem ipsum dolor sit amet consectetur adipisicing elit. Non facilis ipsam quod dolor aliquam unde porro. Ut praesentium illum nisi inventore facere voluptas amet a debitis veniam, recusandae, mollitia hic!</p>\n",
    "        <p>Lorem ipsum dolor sit amet consectetur adipisicing elit. Non facilis ipsam quod dolor aliquam unde porro. Ut praesentium illum nisi inventore facere voluptas amet a debitis veniam, recusandae, mollitia hic!<br>\n",
    "        Lorem ipsum dolor sit amet consectetur adipisicing elit. Non facilis ipsam quod dolor aliquam unde porro. </p>\n",
    "        <p>Lorem ipsum dolor sit amet consectetur adipisicing elit. Non facilis ipsam quod dolor aliquam unde porro. Ut praesentium illum nisi inventore facere voluptas amet a debitis veniam, recusandae, mollitia hic!<br>\n",
    "        Lorem ipsum dolor sit amet consectetur adipisicing elit. Non facilis ipsam quod dolor aliquam unde porro. <br>\n",
    "        Lorem ipsum dolor sit amet consectetur adipisicing elit. Non facilis ipsam quod dolor aliquam unde porro. </p>\n",
    "</div>\n",
    "</body>"
   ]
  },
  {
   "attachments": {},
   "cell_type": "markdown",
   "metadata": {
    "dotnet_interactive": {
     "language": "html"
    },
    "polyglot_notebook": {
     "kernelName": "html"
    }
   },
   "source": [
    "* `justify-content` controls where the flex items sit on the main axis.\n",
    "    - `flex-start` is the default value, and all items sit at the start of the main axis.\n",
    "    - `center` makes items sit in the center of the main axis.\n",
    "    - `space-around` distributes all items evenly along the main axis with a bit of space left at either end.\n",
    "    - `space-between` is like `space-around`, but does not leave any space at either end."
   ]
  },
  {
   "attachments": {},
   "cell_type": "markdown",
   "metadata": {
    "dotnet_interactive": {
     "language": "html"
    },
    "polyglot_notebook": {
     "kernelName": "html"
    }
   },
   "source": [
    "NOTE!! `justify-items` property is ignored in flexbox layouts."
   ]
  },
  {
   "attachments": {},
   "cell_type": "markdown",
   "metadata": {
    "dotnet_interactive": {
     "language": "html"
    },
    "polyglot_notebook": {
     "kernelName": "html"
    }
   },
   "source": [
    "## Ordering Flex Items"
   ]
  },
  {
   "attachments": {},
   "cell_type": "markdown",
   "metadata": {
    "dotnet_interactive": {
     "language": "html"
    },
    "polyglot_notebook": {
     "kernelName": "html"
    }
   },
   "source": [
    "Let's start with an example:"
   ]
  },
  {
   "cell_type": "code",
   "execution_count": null,
   "metadata": {
    "dotnet_interactive": {
     "language": "html"
    },
    "polyglot_notebook": {
     "kernelName": "html"
    },
    "vscode": {
     "languageId": "polyglot-notebook"
    }
   },
   "outputs": [],
   "source": [
    "<head>\n",
    "<style>\n",
    ".container p{\n",
    "    background-color: blue;\n",
    "    margin: 20px;\n",
    "}\n",
    ".container{\n",
    "    display: flex;\n",
    "}\n",
    "\n",
    ".container p:nth-of-type(1){\n",
    "    order: 1;\n",
    "}\n",
    "\n",
    "</style>\n",
    "</head>\n",
    "<body>\n",
    "<div class=\"container\">\n",
    "        <p>Hello there!!!!!!!!!!!!!!!!!!!!!!! Lorem ipsum dolor sit amet consectetur adipisicing elit. Non facilis ipsam quod dolor aliquam unde porro. Ut praesentium illum nisi inventore facere voluptas amet a debitis veniam, recusandae, mollitia hic!</p>\n",
    "        <p>Lorem ipsum dolor sit amet consectetur adipisicing elit. Non facilis ipsam quod dolor aliquam unde porro. Ut praesentium illum nisi inventore facere voluptas amet a debitis veniam, recusandae, mollitia hic!<br>\n",
    "        Lorem ipsum dolor sit amet consectetur adipisicing elit. Non facilis ipsam quod dolor aliquam unde porro. </p>\n",
    "        <p>Lorem ipsum dolor sit amet consectetur adipisicing elit. Non facilis ipsam quod dolor aliquam unde porro. Ut praesentium illum nisi inventore facere voluptas amet a debitis veniam, recusandae, mollitia hic!<br>\n",
    "        Lorem ipsum dolor sit amet consectetur adipisicing elit. Non facilis ipsam quod dolor aliquam unde porro. <br>\n",
    "        Lorem ipsum dolor sit amet consectetur adipisicing elit. Non facilis ipsam quod dolor aliquam unde porro. </p>\n",
    "</div>\n",
    "</body>"
   ]
  },
  {
   "attachments": {},
   "cell_type": "markdown",
   "metadata": {
    "dotnet_interactive": {
     "language": "html"
    },
    "polyglot_notebook": {
     "kernelName": "html"
    }
   },
   "source": [
    "Notice how now the first `<p>` is at the end of the flex items main axis. Let's explain:\n",
    "* All flex items have `order: 0` by default.\n",
    "* Flex items with HIGHER order values will appear later.\n",
    "* Flex items with same order value will appear in their source order.\n",
    "* You can assign negative orders as well."
   ]
  },
  {
   "attachments": {},
   "cell_type": "markdown",
   "metadata": {
    "dotnet_interactive": {
     "language": "html"
    },
    "polyglot_notebook": {
     "kernelName": "html"
    }
   },
   "source": [
    "## Nested Flex Boxes"
   ]
  },
  {
   "attachments": {},
   "cell_type": "markdown",
   "metadata": {
    "dotnet_interactive": {
     "language": "html"
    },
    "polyglot_notebook": {
     "kernelName": "html"
    }
   },
   "source": [
    "You can also make flex items be flex containers, but it gets pretty complicated."
   ]
  },
  {
   "attachments": {},
   "cell_type": "markdown",
   "metadata": {
    "dotnet_interactive": {
     "language": "html"
    },
    "polyglot_notebook": {
     "kernelName": "html"
    }
   },
   "source": [
    "Try to create this complicated for using Flexbox and a nested Flexbox:"
   ]
  },
  {
   "attachments": {},
   "cell_type": "markdown",
   "metadata": {
    "dotnet_interactive": {
     "language": "html"
    },
    "polyglot_notebook": {
     "kernelName": "html"
    }
   },
   "source": [
    "<html lang=\"en-us\">\n",
    "  <head>\n",
    "    <meta charset=\"utf-8\">\n",
    "    <meta name=\"viewport\" content=\"width=device-width\">\n",
    "    <title>Complex flexbox example</title>\n",
    "    <style>\n",
    "      html {\n",
    "        font-family: sans-serif;\n",
    "      }\n",
    "      body {\n",
    "        margin: 0;\n",
    "      }\n",
    "      header {\n",
    "        background: purple;\n",
    "        height: 100px;\n",
    "      }\n",
    "      h1 {\n",
    "        text-align: center;\n",
    "        color: white;\n",
    "        line-height: 100px;\n",
    "        margin: 0;\n",
    "      }\n",
    "      article {\n",
    "        padding: 10px;\n",
    "        margin: 10px;\n",
    "        background: aqua;\n",
    "      }      /* Add your flexbox CSS below here */\n",
    "      section {\n",
    "        display: flex;\n",
    "      }\n",
    "      article {\n",
    "        flex: 1 200px;\n",
    "      }\n",
    "      article:nth-of-type(3) {\n",
    "        flex: 3 200px;\n",
    "        display: flex;\n",
    "        flex-flow: column;\n",
    "      }\n",
    "      article:nth-of-type(3) div:first-child {\n",
    "        flex: 1 100px;\n",
    "        display: flex;\n",
    "        flex-flow: row wrap;\n",
    "        align-items: center;\n",
    "        justify-content: space-around;\n",
    "      }\n",
    "      button {\n",
    "        flex: 1 100px;\n",
    "        margin: 5px;\n",
    "        font-size: 18px;\n",
    "        line-height: 1.5;\n",
    "      }      \n",
    "    </style>\n",
    "  </head>\n",
    "  <body>\n",
    "    <header>\n",
    "      <h1>Complex flexbox example</h1>\n",
    "    </header>\n",
    "    <section>\n",
    "      <article>\n",
    "        <h2>First article</h2>\n",
    "        <p>Tacos actually microdosing, pour-over semiotics banjo chicharrones retro fanny pack portland everyday carry vinyl typewriter. Tacos PBR&B pork belly, everyday carry ennui pickled sriracha normcore hashtag polaroid single-origin coffee cold-pressed. PBR&B tattooed trust fund twee, leggings salvia iPhone photo booth health goth gastropub hammock.</p>\n",
    "      </article>\n",
    "      <article>\n",
    "        <h2>Second article</h2>\n",
    "        <p>Tacos actually microdosing, pour-over semiotics banjo chicharrones retro fanny pack portland everyday carry vinyl typewriter. Tacos PBR&B pork belly, everyday carry ennui pickled sriracha normcore hashtag polaroid single-origin coffee cold-pressed. PBR&B tattooed trust fund twee, leggings salvia iPhone photo booth health goth gastropub hammock.</p>\n",
    "      </article>\n",
    "      <article>\n",
    "        <div>\n",
    "          <button>Smile</button>\n",
    "          <button>Laugh</button>\n",
    "          <button>Wink</button>\n",
    "          <button>Shrug</button>\n",
    "          <button>Blush</button>\n",
    "        </div>\n",
    "        <div>\n",
    "          <p>Tacos actually microdosing, pour-over semiotics banjo chicharrones retro fanny pack portland everyday carry vinyl typewriter. Tacos PBR&B pork belly, everyday carry ennui pickled sriracha normcore hashtag polaroid single-origin coffee cold-pressed. PBR&B tattooed trust fund twee, leggings salvia iPhone photo booth health goth gastropub hammock.</p>\n",
    "        </div>\n",
    "        <div>\n",
    "          <p>Cray food truck brunch, XOXO +1 keffiyeh pickled chambray waistcoat ennui. Organic small batch paleo 8-bit. Intelligentsia umami wayfarers pickled, asymmetrical kombucha letterpress kitsch leggings cold-pressed squid chartreuse put a bird on it. Listicle pickled man bun cornhole heirloom art party.</p>\n",
    "        </div>\n",
    "      </article>\n",
    "    </section>\n",
    "  </body>\n",
    "</html>"
   ]
  },
  {
   "cell_type": "code",
   "execution_count": null,
   "metadata": {
    "dotnet_interactive": {
     "language": "html"
    },
    "polyglot_notebook": {
     "kernelName": "html"
    },
    "vscode": {
     "languageId": "polyglot-notebook"
    }
   },
   "outputs": [],
   "source": [
    "<head>\n",
    "<style>\n",
    "    h1 {\n",
    "        text-align: center;\n",
    "        margin-top: 20px;\n",
    "    }\n",
    "    div{\n",
    "        background-color: purple;\n",
    "        width: 100%;\n",
    "        height: 100px;\n",
    "    }\n",
    "</style>\n",
    "</head>\n",
    "<body>\n",
    "    <div>\n",
    "    <h1>Complex Flexbox Example</h1>\n",
    "    </div>\n",
    "</body>"
   ]
  }
 ],
 "metadata": {
  "kernelspec": {
   "display_name": ".NET (C#)",
   "language": "C#",
   "name": ".net-csharp"
  },
  "polyglot_notebook": {
   "kernelInfo": {
    "defaultKernelName": "csharp",
    "items": [
     {
      "aliases": [
       "c#",
       "C#"
      ],
      "languageName": "C#",
      "name": "csharp"
     },
     {
      "aliases": [
       "frontend"
      ],
      "name": "vscode"
     },
     {
      "aliases": [],
      "name": ".NET"
     },
     {
      "aliases": [
       "f#",
       "F#"
      ],
      "languageName": "F#",
      "name": "fsharp"
     },
     {
      "aliases": [],
      "languageName": "HTML",
      "name": "html"
     },
     {
      "aliases": [
       "js"
      ],
      "languageName": "JavaScript",
      "name": "javascript"
     },
     {
      "aliases": [],
      "languageName": "KQL",
      "name": "kql"
     },
     {
      "aliases": [],
      "languageName": "Mermaid",
      "name": "mermaid"
     },
     {
      "aliases": [
       "powershell"
      ],
      "languageName": "PowerShell",
      "name": "pwsh"
     },
     {
      "aliases": [],
      "languageName": "SQL",
      "name": "sql"
     },
     {
      "aliases": [],
      "name": "value"
     },
     {
      "aliases": [],
      "name": "webview"
     }
    ]
   }
  }
 },
 "nbformat": 4,
 "nbformat_minor": 2
}
